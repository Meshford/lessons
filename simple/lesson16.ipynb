{
  "cells": [
    {
      "cell_type": "markdown",
      "metadata": {},
      "source": [
        "# 🧠 Урок 16: Простая нейросеть с нуля (на NumPy)\n",
        "**Цель урока:** Познакомиться с устройством нейросети, реализовать простейшую модель на NumPy, понять, как обучается сеть через градиентный спуск. Подходит для новичков.\n",
        "\n",
        "## 📌 Что такое нейросеть?\n",
        "- **Нейрон** — базовый элемент сети, который:\n",
        "  1. Принимает входные данные (например, `x1`, `x2`).\n",
        "  2. Умножает их на веса (например, `w1`, `w2`).\n",
        "  3. Суммирует результаты: `z = w1*x1 + w2*x2 + b`.\n",
        "  4. Применяет функцию активации: `a = sigmoid(z)`.\n",
        "- **Слои:**\n",
        "  - **Входной слой:** Принимает данные.\n",
        "  - **Скрытый слой:** Обрабатывает данные.\n",
        "  - **Выходной слой:** Возвращает результат.\n",
        "- **Веса:** Параметры, которые сеть корректирует в процессе обучения.\n",
        "- **Функция активации:** Добавляет нелинейность, например, сигмоида или ReLU.\n",
        "\n",
        "💡 **Аналогия:** Нейросеть — как мозг человека: нейроны связаны между собой и передают сигналы, чтобы принять решение ."
      ]
    },
    {
      "cell_type": "markdown",
      "metadata": {},
      "source": [
        "## 🧱 Как обучается нейросеть?\n",
        "### 1. Прямое распространение (Forward Pass)\n",
        "- Данные проходят через сеть от входного к выходному слою.\n",
        "- Каждый нейрон вычисляет взвешенную сумму входов и применяет функцию активации.\n",
        "\n",
        "**Пример для скрытого слоя:**\n",
        "```python\n",
        "hidden_input = X @ weights_input_hidden  # Матричное умножение\n",
        "hidden_output = sigmoid(hidden_input)  # Применение сигмоиды\n",
        "```\n",
        "\n",
        "**Пример для выходного слоя:**\n",
        "```python\n",
        "output_input = hidden_output @ weights_hidden_output\n",
        "predicted = sigmoid(output_input)\n",
        "```\n",
        "\n",
        "### 2. Функция потерь (Loss Function)\n",
        "- **MSE (среднеквадратичная ошибка):** Используется для регрессии.\n",
        "  ```python\n",
        "  loss = np.mean((y_true - y_pred)**2)\n",
        "  ```\n",
        "- **Cross-Entropy:** Для классификации.\n",
        "\n",
        "### 3. Обратное распространение (Backpropagation)\n",
        "- **Шаг 1:** Вычислите ошибку выходного слоя: `output_error = y - predicted`.\n",
        "- **Шаг 2:** Вычислите градиенты через цепное правило:\n",
        "  ```python\n",
        "  output_delta = output_error * sigmoid_derivative(predicted)\n",
        "  hidden_error = output_delta @ weights_hidden_output.T\n",
        "  hidden_delta = hidden_error * sigmoid_derivative(hidden_output)\n",
        "  ```\n",
        "- **Шаг 3:** Обновите веса:\n",
        "  ```python\n",
        "  weights_hidden_output += hidden_output.T @ output_delta\n",
        "  weights_input_hidden += X.T @ hidden_delta\n",
        "  ```\n",
        "\n",
        "### 4. Градиентный спуск\n",
        "- **Идея:** Минимизировать ошибку, двигаясь в направлении убывания градиента.\n",
        "- **Формула обновления весов:**\n",
        "  ```python\n",
        "  weights -= learning_rate * gradients\n",
        "  ```\n",
        "- **learning_rate:** Шаг обучения (слишком большой — обучение не сойдётся, слишком маленький — медленно).\n",
        "\n",
        "💡 **Почему это работает?** Нейросеть сама определяет, какие признаки важны для задачи, итеративно корректируя веса ."
      ]
    },
    {
      "cell_type": "markdown",
      "metadata": {},
      "source": [
        "## 🧪 Практика: Реализация нейросети на NumPy\n",
        "### Шаг 1: Подготовка данных\n",
        "Будем обучать сеть решать задачу логического AND:"
      ]
    },
    {
      "cell_type": "code",
      "execution_count": null,
      "metadata": {},
      "outputs": [],
      "source": [
        "import numpy as np\n",
        "\n",
        "# Входные данные (X) и целевые значения (y) для логического AND\n",
        "X = np.array([[0, 0], [0, 1], [1, 0], [1, 1]])\n",
        "y = np.array([[0], [0], [0], [1]])\n",
        "print(\"Входные данные:\", X)\n",
        "print(\"Целевые значения:\", y)"
      ]
    },
    {
      "cell_type": "markdown",
      "metadata": {},
      "source": [
        "### Шаг 2: Инициализация весов и функций активации"
      ]
    },
    {
      "cell_type": "code",
      "execution_count": null,
      "metadata": {},
      "outputs": [],
      "source": [
        "# Сигмоида — функция активации\n",
        "def sigmoid(x):\n",
        "    return 1 / (1 + np.exp(-x))\n",
        "\n",
        "# Производная сигмоиды для backpropagation\n",
        "def sigmoid_derivative(x):\n",
        "    return x * (1 - x)\n",
        "\n",
        "# Инициализация весов случайными числами\n",
        "np.random.seed(42)\n",
        "weights_input_hidden = np.random.rand(2, 4)  # Входной -> скрытый слой\n",
        "weights_hidden_output = np.random.rand(4, 1)  # Скрытый -> выходной слой\n",
        "print(\"Веса вход-скрытый:\", weights_input_hidden)\n",
        "print(\"Веса скрытый-выход:\", weights_hidden_output)"
      ]
    },
    {
      "cell_type": "markdown",
      "metadata": {},
      "source": [
        "### Шаг 3: Прямое распространение (Forward Pass)"
      ]
    },
    {
      "cell_type": "code",
      "execution_count": null,
      "metadata": {},
      "outputs": [],
      "source": [
        "def forward_pass(X):\n",
        "    # Скрытый слой\n",
        "    hidden_layer_input = np.dot(X, weights_input_hidden)\n",
        "    hidden_layer_output = sigmoid(hidden_layer_input)\n",
        "    \n",
        "    # Выходной слой\n",
        "    output_layer_input = np.dot(hidden_layer_output, weights_hidden_output)\n",
        "    predicted = sigmoid(output_layer_input)\n",
        "    \n",
        "    return hidden_layer_output, predicted\n",
        "\n",
        "# Пример прямого прохода\n",
        "hidden, output = forward_pass(X)\n",
        "print(\"Предсказания до обучения:\", output)"
      ]
    },
    {
      "cell_type": "markdown",
      "metadata": {},
      "source": [
        "### Шаг 4: Обратное распространение (Backpropagation)"
      ]
    },
    {
      "cell_type": "code",
      "execution_count": null,
      "metadata": {},
      "outputs": [],
      "source": [
        "def backward_pass(X, y, hidden, predicted):\n",
        "    # Ошибка выходного слоя\n",
        "    output_error = y - predicted\n",
        "    output_delta = output_error * sigmoid_derivative(predicted)\n",
        "    \n",
        "    # Ошибка скрытого слоя\n",
        "    hidden_error = output_delta @ weights_hidden_output.T\n",
        "    hidden_delta = hidden_error * sigmoid_derivative(hidden)\n",
        "    \n",
        "    # Обновление весов\n",
        "    global weights_input_hidden, weights_hidden_output\n",
        "    weights_hidden_output += hidden.T @ output_delta\n",
        "    weights_input_hidden += X.T @ hidden_delta\n",
        "\n",
        "# Обучение\n",
        "losses = []\n",
        "learning_rate = 0.1\n",
        "for epoch in range(10000):\n",
        "    hidden, predicted = forward_pass(X)\n",
        "    loss = np.mean((y - predicted)**2)\n",
        "    losses.append(loss)\n",
        "    backward_pass(X, y, hidden, predicted)\n",
        "\n",
        "print(\"Предсказания после обучения:\", predicted)"
      ]
    },
    {
      "cell_type": "markdown",
      "metadata": {},
      "source": [
        "### Шаг 5: Визуализация ошибки по эпохам"
      ]
    },
    {
      "cell_type": "code",
      "execution_count": null,
      "metadata": {},
      "outputs": [],
      "source": [
        "import matplotlib.pyplot as plt\n",
        "plt.plot(losses)\n",
        "plt.title('Ошибка по эпохам')\n",
        "plt.xlabel('Эпохи')\n",
        "plt.ylabel('MSE')\n",
        "plt.grid(True)\n",
        "plt.show()"
      ]
    },
    {
      "cell_type": "markdown",
      "metadata": {},
      "source": [
        "## 📝 Домашнее задание\n",
        "**Задача 1:** Измените архитектуру сети — увеличьте число нейронов во скрытом слое до 5. Как это повлияет на обучение?\n",
        "**Задача 2:** Замените сигмоиду на ReLU: `f(x) = max(0, x)` и `f'(x) = 1 if x > 0 else 0`. Сравните результаты."
      ]
    },
    {
      "cell_type": "markdown",
      "metadata": {},
      "source": [
        "## ✅ Рекомендации по выполнению\n",
        "- **Задача 1:** Увеличьте размер скрытого слоя, измените `weights_input_hidden` на `(2, 5)` и `weights_hidden_output` на `(5, 1)`.\n",
        "- **Задача 2:** Реализуйте ReLU и запустите обучение. Проверьте, как быстро сеть сходится и какова ошибка."
      ]
    }
  ],
  "metadata": {
    "kernelspec": {
      "display_name": "Python 3",
      "language": "python",
      "name": "python3"
    },
    "language_info": {
      "codemirror_mode": {
        "name": "ipython",
        "version": 3
      },
      "file_extension": ".py",
      "mimetype": "text/x-python",
      "name": "python",
      "nbconvert_exporter": "python",
      "pygments_lexer": "ipython3",
      "version": "3.8.5"
    }
  },
  "nbformat": 4,
  "nbformat_minor": 4
}
