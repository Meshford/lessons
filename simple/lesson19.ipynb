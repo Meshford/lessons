{
  "cells": [
    {
      "cell_type": "markdown",
      "metadata": {},
      "source": [
        "# 🧠 Урок 19: Введение в фреймворки глубокого обучения: TensorFlow и Keras\n",
        "**Цель урока:** Познакомиться с основами фреймворков глубокого обучения, понять, как работают TensorFlow и Keras, и научиться создавать простые нейросети с помощью Keras. Подходит для новичков.\n",
        "\n",
        "## 📌 Что такое фреймворк для машинного обучения?\n",
        "- **Фреймворк** — это набор готовых инструментов и библиотек, которые упрощают создание и обучение моделей.\n",
        "- **Зачем?** Без фреймворков вы бы писали всё с нуля: матричные операции, градиенты, оптимизаторы.\n",
        "- **Преимущества:**\n",
        "  - Быстрая разработка.\n",
        "  - Готовые слои и функции активации.\n",
        "  - Поддержка GPU/TPU для ускорения вычислений.\n",
        "\n",
        "💡 **Аналогия:** Представьте, что вы строите дом. Фреймворк — это как набор строительных блоков (кирпичей, бетона), а не ломайте голову, как добывать песок и воду."
      ]
    },
    {
      "cell_type": "markdown",
      "metadata": {},
      "source": [
        "## 📦 Обзор TensorFlow и Keras\n",
        "### 1. TensorFlow\n",
        "- **Что это?** Мощный фреймворк от Google для глубокого обучения и вычислений с тензорами (многомерными массивами).\n",
        "- **Особенности:**\n",
        "  - Поддержка CPU/GPU/TPU.\n",
        "  - Гибкость: позволяет создавать любые архитектуры.\n",
        "  - Высокоуровневые и низкоуровневые API.\n",
        "- **Использование:** Для создания и обучения нейросетей любой сложности [[4]].\n",
        "\n",
        "### 2. Keras\n",
        "- **Что это?** Высокоуровневое API для создания нейросетей, встроенное в TensorFlow.\n",
        "- **Особенности:**\n",
        "  - Простой синтаксис.\n",
        "  - Поддерживает Sequential и Functional API.\n",
        "  - Позволяет быстро экспериментировать [[1]][[7]].\n",
        "- **Использование:** Для создания моделей без углубления в низкоуровневые детали.\n",
        "\n",
        "### 3. Кто кого \"обертывает\"?\n",
        "- **Keras** — это оболочка над **TensorFlow**.\n",
        "- **Sequential API** — как LEGO-конструктор: легко собирать модели из готовых блоков.\n",
        "- **Functional API** — как строительство дома: гибкость, но сложнее для новичков."
      ]
    },
    {
      "cell_type": "markdown",
      "metadata": {},
      "source": [
        "## 🛠️ Установка TensorFlow и Keras\n",
        "### Установка через pip\n",
        "```bash\n",
        "pip install tensorflow\n",
        "```\n",
        "- **Что устанавливается?** `tensorflow` включает Keras и все необходимые зависимости [[2]][[4]].\n",
        "\n",
        "### Проверка установки\n",
        "```python\n",
        "import tensorflow as tf\n",
        "print(tf.__version__)\n",
        "```\n",
        "- **Если версия не отображается:** Проверьте, активировано ли виртуальное окружение и установлен ли пакет [[2]]."
      ]
    },
    {
      "cell_type": "markdown",
      "metadata": {},
      "source": [
        "## 🧱 Основные компоненты Keras\n",
        "### 1. Модель `Sequential`\n",
        "- **Что это?** Последовательная модель, где слои добавляются один за другим.\n",
        "- **Пример:**\n",
        "  ```python\n",
        "  from tensorflow.keras.models import Sequential\n",
        "  model = Sequential([\n",
        "      tf.keras.layers.Dense(64, activation='relu', input_shape=(10,)),\n",
        "      tf.keras.layers.Dense(1)\n",
        "  ])\n",
        "  ```\n",
        "- **Когда использовать?** Для простых моделей, например, регрессия или классификация [[7]].\n",
        "\n",
        "### 2. Functional API\n",
        "- **Что это?** Более гибкий способ создания моделей с нестандартными связями.\n",
        "- **Пример:**\n",
        "  ```python\n",
        "  from tensorflow.keras.layers import Input, Dense\n",
        "  from tensorflow.keras.models import Model\n",
        "  \n",
        "  inputs = Input(shape=(10,))\n",
        "  x = Dense(64, activation='relu')(inputs)\n",
        "  outputs = Dense(1)(x)\n",
        "  model = Model(inputs=inputs, outputs=outputs)\n",
        "  ```\n",
        "- **Когда использовать?** Для сложных моделей, например, с несколькими входами или выходами."
      ]
    },
    {
      "cell_type": "markdown",
      "metadata": {},
      "source": [
        "## 🧩 Слои в Keras\n",
        "### 1. `Dense` — Полносвязный слой\n",
        "- **Что делает?** Каждый нейрон связан со всеми нейронами предыдущего слоя.\n",
        "- **Где используется?** В задачах регрессии и классификации.\n",
        "- **Пример:**\n",
        "  ```python\n",
        "  tf.keras.layers.Dense(units=64, activation='relu', input_shape=(10,))\n",
        "  ```\n",
        "\n",
        "### 2. `Conv2D` — Сверточный слой\n",
        "- **Что делает?** Обнаруживает локальные паттерны в изображениях.\n",
        "- **Где используется?** В компьютерном зрении (распознавание лиц, объектов).\n",
        "- **Пример:**\n",
        "  ```python\n",
        "  tf.keras.layers.Conv2D(filters=32, kernel_size=(3, 3), activation='relu')\n",
        "  ```\n",
        "\n",
        "### 3. `Flatten` — Преобразование данных\n",
        "- **Что делает?** Преобразует многомерные данные в одномерные для последующих слоев.\n",
        "- **Где используется?** После сверточных слоев перед полносвязными [[7]].\n",
        "- **Пример:**\n",
        "  ```python\n",
        "  tf.keras.layers.Flatten()\n",
        "  ```"
      ]
    },
    {
      "cell_type": "markdown",
      "metadata": {},
      "source": [
        "## ⚙️ Компиляция модели\n",
        "### 1. Оптимизатор\n",
        "- **Что это?** Алгоритм, который минимизирует функцию потерь.\n",
        "- **Примеры:** `Adam`, `SGD`, `RMSprop`.\n",
        "- **Как выбрать?** `Adam` — хороший старт для новичков [[7]].\n",
        "\n",
        "### 2. Функция потерь\n",
        "- **Для регрессии:** `mse` (среднеквадратичная ошибка).\n",
        "- **Для классификации:** `binary_crossentropy` (бинарная), `categorical_crossentropy` (многоклассовая).\n",
        "- **Пример:**\n",
        "  ```python\n",
        "  model.compile(optimizer='adam', loss='mse', metrics=['mae'])\n",
        "  ```\n",
        "\n",
        "### 3. Метрики\n",
        "- **accuracy** — для классификации.\n",
        "- **mae** (средняя абсолютная ошибка) — для регрессии.\n",
        "- **Пример:**\n",
        "  ```python\n",
        "  model.compile(optimizer='adam', loss='mse', metrics=['mae'])\n",
        "  ```\n",
        "\n",
        "💡 **Совет:** Метрики не влияют на обучение, только на оценку качества."
      ]
    },
    {
      "cell_type": "markdown",
      "metadata": {},
      "source": [
        "## 🧪 Практика: Создание и обучение модели\n",
        "### Шаг 1: Генерация искусственных данных\n",
        "```python\n",
        "import numpy as np\n",
        "import tensorflow as tf\n",
        "from tensorflow.keras.models import Sequential\n",
        "from tensorflow.keras.layers import Dense\n",
        "\n",
        "# Искусственные данные\n",
        "X = np.random.rand(1000, 10)\n",
        "y = np.sum(X, axis=1) + np.random.normal(0, 0.1, 1000)  # Регрессия: y = сумма признаков + шум\n",
        "```\n",
        "\n",
        "### Шаг 2: Создание и компиляция модели\n",
        "```python\n",
        "# Создание модели\n",
        "model = Sequential([\n",
        "    Dense(64, activation='relu', input_shape=(10,)),\n",
        "    Dense(64, activation='relu'),\n",
        "    Dense(1)\n",
        "])\n",
        "\n",
        "# Компиляция\n",
        "model.compile(optimizer='adam', loss='mse', metrics=['mae'])\n",
        "```\n",
        "\n",
        "### Шаг 3: Обучение модели\n",
        "```python\n",
        "# Разделение на обучающую и тестовую выборки\n",
        "from sklearn.model_selection import train_test_split\n",
        "X_train, X_test, y_train, y_test = train_test_split(X, y, test_size=0.2)\n",
        "\n",
        "# Обучение\n",
        "history = model.fit(X_train, y_train, epochs=10, batch_size=32, validation_data=(X_test, y_test))\n",
        "```\n",
        "\n",
        "### Шаг 4: Визуализация обучения\n",
        "```python\n",
        "import matplotlib.pyplot as plt\n",
        "\n",
        "# График loss\n",
        "plt.plot(history.history['loss'], label='Train Loss')\n",
        "plt.plot(history.history['val_loss'], label='Test Loss')\n",
        "plt.legend()\n",
        "plt.title('Loss по эпохам')\n",
        "plt.xlabel('Эпохи')\n",
        "plt.ylabel('MSE')\n",
        "plt.show()\n",
        "```"
      ]
    },
    {
      "cell_type": "markdown",
      "metadata": {},
      "source": [
        "## 📈 Что такое `epochs` и `batch_size`?\n",
        "- **Epochs** — полный проход по обучающим данным. Например, 10 эпох = модель учится 10 раз на всех данных.\n",
        "- **Batch size** — количество данных, обрабатываемых за одну итерацию. Чем больше батч, тем быстрее обучение, но выше требования к памяти.\n",
        "- **Аналогия:** Эпохи — это как прохождение курса обучения, batch_size — как порция данных за раз (например, чашка кофе вместо всей канистры).\n",
        "\n",
        "### Пример:\n",
        "```python\n",
        "history = model.fit(X_train, y_train, epochs=10, batch_size=32)\n",
        "```\n",
        "- **epochs=10:** Модель учится 10 раз на всех данных.\n",
        "- **batch_size=32:** Каждую эпоху данные разбиваются на порции по 32 элемента."
      ]
    },
    {
      "cell_type": "markdown",
      "metadata": {},
      "source": [
        "## 📊 Вывод результатов обучения\n",
        "- **loss:** Ошибка на обучающей выборке.\n",
        "- **val_loss:** Ошибка на тестовой выборке.\n",
        "- **metrics:** Метрики, выбранные при компиляции (например, `mae`, `accuracy`).\n",
        "- **Пример вывода:**\n",
        "  ```\n",
        "  Epoch 1/10\n",
        "  25/25 [==============================] - 0s 10ms/step - loss: 1.2345 - mae: 0.8765 - val_loss: 1.1111 - val_mae: 0.7654\n",
        "  ```\n",
        "- **Как читать?**\n",
        "  - `loss` — уменьшается по мере обучения.\n",
        "  - `val_loss` — показывает, как модель работает на тестовых данных.\n",
        "  - `mae` — средняя ошибка предсказания."
      ]
    },
    {
      "cell_type": "markdown",
      "metadata": {},
      "source": [
        "## 📝 Домашнее задание\n",
        "**Задача 1:** Прочитайте документацию Keras по [Sequential API](https://keras.io/guides/sequential_model/ ).\n",
        "**Задача 2:** Измените архитектуру модели:\n",
        "- Увеличьте число нейронов во втором слое до 128.\n",
        "- Добавьте ещё один `Dense(32, activation='relu')`.\n",
        "- Как меняется `loss` и `val_loss`?\n",
        "- Как меняется время обучения?\n",
        "- Нарисуйте график обучения.\n",
        "\n",
        "💡 **Рекомендации:**\n",
        "- При изменении архитектуры следите за переобучением (рост `val_loss` при падении `loss`).\n",
        "- Используйте `plt.plot()` для визуализации.\n",
        "- Попробуйте разные `batch_size`: 16, 32, 64."
      ]
    },
    {
      "cell_type": "markdown",
      "metadata": {},
      "source": [
        "## 🧠 Дополнительная теория: Почему важно использовать GPU?\n",
        "- **GPU** (графические процессоры) ускоряют вычисления в 10–100 раз по сравнению с CPU.\n",
        "- **Зачем?** Обучение нейросетей требует множества математических операций, которые GPU выполняет параллельно.\n",
        "- **Как проверить?**\n",
        "  ```python\n",
        "  from tensorflow.python.client import device_lib\n",
        "  print(device_lib.list_local_devices())  # Покажет доступные устройства (CPU, GPU).\n",
        "  ```\n",
        "- **Как использовать GPU?** Убедитесь, что установлена версия TensorFlow с поддержкой GPU (`tensorflow-gpu`).\n",
        "- **Практика:** В Google Colab можно включить GPU в настройках исполнения."
      ]
    },
    {
      "cell_type": "markdown",
      "metadata": {},
      "source": [
        "## 📉 Что такое переобучение и как его избежать?\n",
        "- **Переобучение (Overfitting):** Модель идеально запоминает тренировочные данные, но плохо работает на тестовых.\n",
        "- **Причины:**\n",
        "  - Слишком сложная модель.\n",
        "  - Недостаток данных.\n",
        "- **Как бороться:**\n",
        "  - Упрощение модели.\n",
        "  - Добавление регуляризации (например, `Dropout`, `L2`).\n",
        "  - Увеличение данных (например, аугментация).\n",
        "- **Как обнаружить?** Если `val_loss` растет, а `loss` падает — переобучение!\n",
        "\n",
        "### Пример:\n",
        "```python\n",
        "from tensorflow.keras.layers import Dropout\n",
        "\n",
        "model = Sequential([\n",
        "    Dense(64, activation='relu', input_shape=(10,)),\n",
        "    Dropout(0.2),  # Отключает 20% нейронов на каждой эпохе\n",
        "    Dense(64, activation='relu'),\n",
        "    Dense(1)\n",
        "])\n",
        "```"
      ]
    },
    {
      "cell_type": "markdown",
      "metadata": {},
      "source": [
        "## 📊 Как выбрать лучшую модель?\n",
        "- **Точность (Accuracy):** Подходит для сбалансированных классов.\n",
        "- **F1-score:** Для несбалансированных задач.\n",
        "- **ROC-AUC:** Для бинарной классификации.\n",
        "- **Скоринг в GridSearchCV:** Используйте параметр `scoring` для выбора метрики.\n",
        "- **Пример:**\n",
        "  ```python\n",
        "  from sklearn.model_selection import GridSearchCV\n",
        "  grid = GridSearchCV(KerasClassifier(build_fn=create_model), param_grid, cv=3, scoring='neg_mean_squared_error')\n",
        "  ```"
      ]
    },
    {
      "cell_type": "markdown",
      "metadata": {},
      "source": [
        "## 📈 Графики обучения: как читать и интерпретировать\n",
        "- **Overfitting:** `loss` падает, `val_loss` растет.\n",
        "- **Underfitting:** Оба значения высокие, accuracy низкая.\n",
        "- **Хорошее обучение:** Оба значения стабильны и низкие.\n",
        "- **Пример:**\n",
        "  ```python\n",
        "  import matplotlib.pyplot as plt\n",
        "  \n",
        "  # График loss\n",
        "  plt.plot(history.history['loss'], label='Train Loss')\n",
        "  plt.plot(history.history['val_loss'], label='Validation Loss')\n",
        "  plt.legend()\n",
        "  plt.title('Loss по эпохам')\n",
        "  plt.xlabel('Эпохи')\n",
        "  plt.ylabel('MSE')\n",
        "  plt.show()\n",
        "  ```"
      ]
    },
    {
      "cell_type": "markdown",
      "metadata": {},
      "source": [
        "## 🧪 Практика: Обучение модели на регрессии\n",
        "### Шаг 1: Создание модели\n",
        "```python\n",
        "model = Sequential([\n",
        "    Dense(64, activation='relu', input_shape=(10,)),\n",
        "    Dense(64, activation='relu'),\n",
        "    Dense(1)\n",
        "])\n",
        "```"
      ]
    },
    {
      "cell_type": "markdown",
      "metadata": {},
      "source": [
        "### Шаг 2: Компиляция модели\n",
        "```python\n",
        "model.compile(optimizer='adam', loss='mse', metrics=['mae'])\n",
        "```"
      ]
    },
    {
      "cell_type": "markdown",
      "metadata": {},
      "source": [
        "### Шаг 3: Обучение модели\n",
        "```python\n",
        "history = model.fit(X_train, y_train, epochs=50, batch_size=32, validation_data=(X_test, y_test))\n",
        "```"
      ]
    },
    {
      "cell_type": "markdown",
      "metadata": {},
      "source": [
        "### Шаг 4: Визуализация обучения\n",
        "```python\n",
        "import matplotlib.pyplot as plt\n",
        "\n",
        "# График loss\n",
        "plt.plot(history.history['loss'], label='Train Loss')\n",
        "plt.plot(history.history['val_loss'], label='Validation Loss')\n",
        "plt.legend()\n",
        "plt.title('Loss по эпохам')\n",
        "plt.xlabel('Эпохи')\n",
        "plt.ylabel('MSE')\n",
        "plt.grid(True)\n",
        "plt.show()\n",
        "```"
      ]
    },
    {
      "cell_type": "markdown",
      "metadata": {},
      "source": [
        "## 📝 Домашнее задание (расширенное)\n",
        "**Задача 1:** Прочитайте документацию Keras по [Sequential API](https://keras.io/guides/sequential_model/ ).\n",
        "**Задача 2:** Измените архитектуру модели:\n",
        "- Увеличьте число нейронов до 128.\n",
        "- Добавьте `Dropout(0.2)` после каждого `Dense`.\n",
        "- Как меняется `loss` и `val_loss`?\n",
        "- Как меняется время обучения?\n",
        "- Нарисуйте график обучения.\n",
        "- Визуализируйте предсказания на тестовой выборке.\n",
        "\n",
        "💡 **Рекомендации:**\n",
        "- Используйте `plt.scatter(y_test, y_pred)` для визуализации.\n",
        "- Следите за `val_loss`: если он растет — уменьшите `batch_size` или добавьте `Dropout`.\n",
        "- Используйте `history.history.keys()` для анализа доступных метрик."
      ]
    },
    {
      "cell_type": "markdown",
      "metadata": {},
      "source": [
        "## ✅ Рекомендации по выполнению домашнего задания\n",
        "- **Задача 1:** Убедитесь, что вы понимаете, как работают слои и оптимизаторы.\n",
        "- **Задача 2:** Попробуйте разные значения `units` и `activation`.\n",
        "- **Визуализация:** Используйте `sns.heatmap` для матрицы ошибок.\n",
        "- **Подсказка:** Чем больше `units`, тем сложнее модель, но выше риск переобучения."
      ]
    }
  ],
  "metadata": {
    "kernelspec": {
      "display_name": "Python 3",
      "language": "python",
      "name": "python3"
    },
    "language_info": {
      "codemirror_mode": {
        "name": "ipython",
        "version": 3
      },
      "file_extension": ".py",
      "mimetype": "text/x-python",
      "name": "python",
      "nbconvert_exporter": "python",
      "pygments_lexer": "ipython3",
      "version": "3.8.5"
    }
  },
  "nbformat": 4,
  "nbformat_minor": 4
}
