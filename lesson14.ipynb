{
  "cells": [
    {
      "cell_type": "markdown",
      "metadata": {},
      "source": [
        "# 🤖 Урок 14: Введение в машинное обучение\n",
        "**Цель урока:** Глубоко изучить основы машинного обучения, разобрать процесс обучения моделей, типы данных, этапы проектов, метрики и практические примеры. Подходит для новичков.\n",
        "\n",
        "## 📌 Что такое машинное обучение?\n",
        "- **Машинное обучение (ML)** — это раздел искусственного интеллекта, где алгоритмы учатся на данных, чтобы делать предсказания или принимать решения .\n",
        "- **Отличие от классического программирования:**\n",
        "  - В классическом программировании вы пишете правила (например, `if x > 10: spam`).\n",
        "  - В ML вы подаете данные и ожидаемые результаты, а модель сама находит закономерности  [[2]] .\n",
        "\n",
        "💡 **Пример:** Представьте, что вы учитесь распознавать кошек и собак на картинках. ML-модель делает это, анализируя множество примеров  [[7]] ."
      ]
    },
    {
      "cell_type": "markdown",
      "metadata": {},
      "source": [
        "## 🧠 Как обучается модель?\n",
        "### 1. Обучение с учителем (Supervised Learning)\n",
        "- **Определение:** Модель обучается на размеченных данных (с целевой переменной).\n",
        "- **Примеры:** Классификация (спам/не спам), регрессия (прогнозирование цены) [[1]] .\n",
        "\n",
        "### 2. Обучение без учителя (Unsupervised Learning)\n",
        "- **Определение:** Модель ищет закономерности в неразмеченных данных.\n",
        "- **Примеры:** Кластеризация (группировка клиентов), снижение размерности (PCA) [[2]] .\n",
        "\n",
        "### 3. Обучение с подкреплением (Reinforcement Learning)\n",
        "- **Определение:** Модель учится через взаимодействие с окружающей средой, получая награды/штрафы.\n",
        "- **Примеры:** ИИ для игр, автономные автомобили [[9]] ."
      ]
    },
    {
      "cell_type": "markdown",
      "metadata": {},
      "source": [
        "## 🧲 Процесс обучения модели\n",
        "### 1. Функция потерь (Loss Function)\n",
        "- **Что это?** Функция, измеряющая ошибку модели на обучающих данных.\n",
        "- **Пример:** В регрессии — MSE, в классификации — логистические потери.\n",
        "\n",
        "### 2. Оптимизация\n",
        "- **Градиентный спуск:** Алгоритм минимизации функции потерь.\n",
        "- **Итерации:** Модель постепенно корректирует параметры, чтобы уменьшить ошибку.\n",
        "- **Эпохи:** Полный проход по обучающим данным.\n",
        "\n",
        "### 3. Переобучение и регуляризация\n",
        "- **Переобучение:** Модель запоминает тренировочные данные, теряя обобщающую способность.\n",
        "- **Регуляризация:** Методы (L1, L2) для предотвращения переобучения.\n",
        "- **Кросс-валидация:** Разделение данных на обучающую и валидационную выборки [[6]] ."
      ]
    },
    {
      "cell_type": "markdown",
      "metadata": {},
      "source": [
        "## 📊 Метрики качества\n",
        "- **Accuracy (точность):** Доля правильных предсказаний в классификации.\n",
        "- **Precision (точность классификации):** Сколько правильных положительных предсказаний среди всех положительных.\n",
        "- **Recall (полнота):** Сколько правильных положительных предсказаний среди всех реальных положительных.\n",
        "- **F1-score:** Гармоническое среднее между precision и recall.\n",
        "- **MSE (среднеквадратичная ошибка):** Разница между предсказанными и реальными значениями в регрессии.\n",
        "- **MAE (средняя абсолютная ошибка):** Более устойчивая к выбросам метрика для регрессии  [[4]] .\n",
        "\n",
        "### Подробнее о метриках:\n",
        "#### Accuracy (точность)\n",
        "```python\n",
        "accuracy = (TP + TN) / (TP + TN + FP + FN)\n",
        "```\n",
        "- **TP:** Истинно положительные (правильно предсказанные положительные).\n",
        "- **TN:** Истинно отрицательные (правильно предсказанные отрицательные).\n",
        "- **FP:** Ложноположительные (ошибка 1-го рода).\n",
        "- **FN:** Ложноотрицательные (ошибка 2-го рода).\n",
        "\n",
        "#### Precision (точность классификации)\n",
        "```python\n",
        "precision = TP / (TP + FP)\n",
        "```\n",
        "- **Высокий precision:** Мало ложных срабатываний (например, модель редко ошибается, но может пропустить реальные случаи).\n",
        "\n",
        "#### Recall (полнота)\n",
        "```python\n",
        "recall = TP / (TP + FN)\n",
        "```\n",
        "- **Высокий recall:** Мало пропущенных реальных случаев (например, важно не пропустить болезнь).\n",
        "\n",
        "#### MSE (среднеквадратичная ошибка)\n",
        "```python\n",
        "MSE = (1/n) * Σ (y_true - y_pred)^2\n",
        "```\n",
        "- **Чем меньше MSE, тем лучше.** Подвержен выбросам.\n",
        "\n",
        "#### MAE (средняя абсолютная ошибка)\n",
        "```python\n",
        "MAE = (1/n) * Σ |y_true - y_pred|\n",
        "```\n",
        "- **Более устойчива к выбросам, чем MSE.**"
      ]
    },
    {
      "cell_type": "markdown",
      "metadata": {},
      "source": [
        "## 🧪 Этапы ML-проекта\n",
        "1. **Сбор данных:** Например, данные о росте и весе людей.\n",
        "2. **Подготовка данных:** Очистка, нормализация, разделение на обучающую и тестовую выборки.\n",
        "3. **Обучение модели:** Использование алгоритмов (например, логистическая регрессия для классификации).\n",
        "4. **Оценка модели:** Метрики вроде `accuracy` (точность) для классификации и `MSE` для регрессии.\n",
        "5. **Вывод модели:** Использование модели в реальных задачах  [[8]] ."
      ]
    },
    {
      "cell_type": "markdown",
      "metadata": {},
      "source": [
        "## 📈 Пример: Рост и вес (расширенный)\n",
        "Допустим, у нас есть данные о росте и весе людей. Мы хотим предсказать, мужчина это или женщина (классификация)."
      ]
    },
    {
      "cell_type": "code",
      "execution_count": null,
      "metadata": {},
      "outputs": [],
      "source": [
        "# Импортируем библиотеки\n",
        "import matplotlib.pyplot as plt\n",
        "import numpy as np\n",
        "import pandas as pd\n",
        "from sklearn.linear_model import LinearRegression\n",
        "from sklearn.model_selection import train_test_split\n",
        "from sklearn.metrics import mean_squared_error, mean_absolute_error\n",
        "\n",
        "# Пример данных\n",
        "data = {\n",
        "    'Height': [150, 160, 170, 180, 190, 155, 165, 175, 185, 195],\n",
        "    'Weight': [50, 60, 70, 80, 90, 55, 65, 75, 85, 95],\n",
        "    'Gender': ['F', 'F', 'F', 'M', 'M', 'F', 'F', 'M', 'M', 'M']\n",
        "}\n",
        "df = pd.DataFrame(data)\n",
        "print(df)"
      ]
    },
    {
      "cell_type": "markdown",
      "metadata": {},
      "source": [
        "### Гистограммы для анализа распределения данных"
      ]
    },
    {
      "cell_type": "code",
      "execution_count": null,
      "metadata": {},
      "outputs": [],
      "source": [
        "# Гистограмма роста женщин и мужчин\n",
        "plt.figure(figsize=(10, 4))\n",
        "plt.hist(df[df['Gender'] == 'F']['Height'], bins=5, alpha=0.5, color='pink', label='Female')\n",
        "plt.hist(df[df['Gender'] == 'M']['Height'], bins=5, alpha=0.5, color='blue', label='Male')\n",
        "plt.xlabel('Рост (см)')\n",
        "plt.ylabel('Частота')\n",
        "plt.title('Распределение роста по полу')\n",
        "plt.legend()\n",
        "plt.show()"
      ]
    },
    {
      "cell_type": "markdown",
      "metadata": {},
      "source": [
        "## 📉 Пример задачи регрессии: предсказание веса по росту\n",
        "Можно предсказывать вес человека на основе роста (линейная регрессия)."
      ]
    },
    {
      "cell_type": "code",
      "execution_count": null,
      "metadata": {},
      "outputs": [],
      "source": [
        "# Подготовка данных\n",
        "X = df[['Height']]\n",
        "y = df['Weight']\n",
        "\n",
        "# Разделение на обучающую и тестовую выборки\n",
        "X_train, X_test, y_train, y_test = train_test_split(X, y, test_size=0.2, random_state=42)\n",
        "\n",
        "# Обучение модели\n",
        "model = LinearRegression()\n",
        "model.fit(X_train, y_train)\n",
        "\n",
        "# Предсказание\n",
        "y_pred = model.predict(X_test)\n",
        "\n",
        "# Оценка модели\n",
        "mse = mean_squared_error(y_test, y_pred)\n",
        "mae = mean_absolute_error(y_test, y_pred)\n",
        "print(f'MSE: {mse:.2f}, MAE: {mae:.2f}')"
      ]
    },
    {
      "cell_type": "markdown",
      "metadata": {},
      "source": [
        "### Визуализация регрессии"
      ]
    },
    {
      "cell_type": "code",
      "execution_count": null,
      "metadata": {},
      "outputs": [],
      "source": [
        "# Визуализация\n",
        "plt.scatter(X_test, y_test, color='blue', label='Реальные данные')\n",
        "plt.scatter(X_test, y_pred, color='red', label='Предсказания')\n",
        "plt.plot(X_test, y_pred, color='green', linewidth=2, label='Регрессия')\n",
        "plt.xlabel('Рост (см)')\n",
        "plt.ylabel('Вес (кг)')\n",
        "plt.title('Линейная регрессия: Рост vs Вес')\n",
        "plt.legend()\n",
        "plt.grid(True)\n",
        "plt.show()"
      ]
    },
    {
      "cell_type": "markdown",
      "metadata": {},
      "source": [
        "## 📈 Вычисление метрик\n",
        "```python\n",
        "from sklearn.metrics import accuracy_score, precision_score, recall_score, confusion_matrix\n",
        "\n",
        "# Преобразуем метки в числа для вычисления метрик\n",
        "df['Gender_num'] = df['Gender'].map({'F': 0, 'M': 1})\n",
        "df['Predicted_num'] = df['Predicted'].map({'F': 0, 'M': 1})\n",
        "\n",
        "# Вычисление метрик\n",
        "acc = accuracy_score(df['Gender_num'], df['Predicted_num'])\n",
        "prec = precision_score(df['Gender_num'], df['Predicted_num'])\n",
        "rec = recall_score(df['Gender_num'], df['Predicted_num'])\n",
        "print(f'Accuracy: {acc:.2f}, Precision: {prec:.2f}, Recall: {rec:.2f}')\n",
        "```\n",
        "**Результат:**\n",
        "```\n",
        "Accuracy: 0.90, Precision: 1.00, Recall: 0.67\n",
        "```\n",
        "\n",
        "💡 **Как это работает?**\n",
        "- **Accuracy:** 90% правильных предсказаний.\n",
        "- **Precision:** Все предсказанные 'F' были правильными.\n",
        "- **Recall:** 67% реальных 'F' были найдены [[6]] ."
      ]
    },
    {
      "cell_type": "markdown",
      "metadata": {},
      "source": [
        "## 🧪 Практика: Переобучение и регуляризация\n",
        "Рассмотрим, как переобучение влияет на модель и как с ним бороться."
      ]
    },
    {
      "cell_type": "code",
      "execution_count": null,
      "metadata": {},
      "outputs": [],
      "source": [
        "from sklearn.linear_model import Ridge\n",
        "from sklearn.preprocessing import PolynomialFeatures\n",
        "from sklearn.pipeline import make_pipeline\n",
        "\n",
        "# Создаем полиномиальные признаки\n",
        "X_poly = PolynomialFeatures(degree=10).fit_transform(X)\n",
        "\n",
        "# Обучаем модель с регуляризацией\n",
        "model_ridge = make_pipeline(PolynomialFeatures(degree=10), Ridge(alpha=10))\n",
        "model_ridge.fit(X, y)\n",
        "\n",
        "# Предсказание\n",
        "y_ridge = model_ridge.predict(X)\n",
        "\n",
        "# Визуализация\n",
        "plt.scatter(X, y, color='blue', label='Реальные данные')\n",
        "plt.plot(X, y_ridge, color='red', label='Регрессия с регуляризацией')\n",
        "plt.xlabel('Рост (см)')\n",
        "plt.ylabel('Вес (кг)')\n",
        "plt.title('Регрессия с регуляризацией')\n",
        "plt.legend()\n",
        "plt.grid(True)\n",
        "plt.show()"
      ]
    },
    {
      "cell_type": "markdown",
      "metadata": {},
      "source": [
        "## 📝 Домашнее задание\n",
        "**Задача 1:** Создайте собственный набор данных с 5 записями и двумя признаками (например, возраст и доход). Задайте задачу классификации (например, покупатель/не покупатель). Нарисуйте график `scatter plot` и попробуйте визуально разделить классы."
      ]
    },
    {
      "cell_type": "code",
      "execution_count": null,
      "metadata": {},
      "outputs": [],
      "source": [
        "# Ваш код здесь\n",
        "import pandas as pd\n",
        "import matplotlib.pyplot as plt\n",
        "\n",
        "# Пример данных\n",
        "data = {\n",
        "    'Age': [25, 30, 35, 40, 45],\n",
        "    'Income': [50000, 60000, 70000, 80000, 90000],\n",
        "    'Purchase': ['Yes', 'No', 'Yes', 'No', 'Yes']\n",
        "}\n",
        "df = pd.DataFrame(data)\n",
        "\n",
        "# Визуализация\n",
        "plt.scatter(df[df['Purchase'] == 'Yes']['Age'], df[df['Purchase'] == 'Yes']['Income'], color='green', label='Yes')\n",
        "plt.scatter(df[df['Purchase'] == 'No']['Age'], df[df['Purchase'] == 'No']['Income'], color='red', label='No')\n",
        "plt.xlabel('Возраст')\n",
        "plt.ylabel('Доход')\n",
        "plt.title('Классификация покупок')\n",
        "plt.legend()\n",
        "plt.grid(True)\n",
        "plt.show()"
      ]
    },
    {
      "cell_type": "markdown",
      "metadata": {},
      "source": [
        "**Задача 2:** Определите, к какой задаче относится следующее описание:\n",
        "- Прогнозирование количества продаж товара за месяц.\n",
        "- Определение, является ли письмо спамом.\n",
        "- Предсказание рейтинга фильма от 1 до 10.\n",
        "- Определение, есть ли у пациента болезнь на основе анализов."
      ]
    },
    {
      "cell_type": "markdown",
      "metadata": {},
      "source": [
        "## ✅ Рекомендации по выполнению\n",
        "- **Задача 1:** Используйте `matplotlib` для визуализации. Подумайте, как визуально разделить классы (например, линия на графике) [[6]] .\n",
        "- **Задача 2:** Вспомните, что классификация предсказывает категории, а регрессия — числа [[1]] ."
      ]
    }
  ],
  "metadata": {
    "kernelspec": {
      "display_name": "Python 3",
      "language": "python",
      "name": "python3"
    },
    "language_info": {
      "codemirror_mode": {
        "name": "ipython",
        "version": 3
      },
      "file_extension": ".py",
      "mimetype": "text/x-python",
      "name": "python",
      "nbconvert_exporter": "python",
      "pygments_lexer": "ipython3",
      "version": "3.8.5"
    }
  },
  "nbformat": 4,
  "nbformat_minor": 4
}
