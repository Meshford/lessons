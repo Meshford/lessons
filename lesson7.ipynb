{
  "cells": [
    {
      "cell_type": "markdown",
      "metadata": {},
      "source": [
        "# Урок 7: Списковые включения и генераторы\n",
        "**Цель урока:** Научиться эффективно использовать списковые включения и генераторы для обработки данных, понимать их преимущества и ограничения, а также применять их в реальных задачах (например, в машинном обучении или анализе данных).\n",
        "\n",
        "## Теория\n",
        "### 1. Списковые включения (List Comprehensions)\n",
        "Списковые включения — это способ создания списков в Python с минимальным количеством кода. Они заменяют циклы `for` и условия `if` одной строкой, делая код чище и быстрее [[5]][[7]].\n",
        "\n",
        "**Синтаксис:**\n",
        "```python\n",
        "[выражение for элемент in итерируемый_объект if условие]\n",
        "```\n",
        "\n",
        "**Преимущества:**\n",
        "- Компактность кода\n",
        "- Быстродействие (в 1.5-2 раза быстрее цикла `for`)\n",
        "- Читаемость\n",
        "\n",
        "**Пример 1:** Создание списка квадратов чисел от 0 до 9:\n",
        "```python\n",
        "squares = [x**2 for x in range(10)]\n",
        "```\n",
        "**Результат:** `[0, 1, 4, 9, 16, 25, 36, 49, 64, 81]`\n",
        "\n",
        "**Пример 2:** Фильтрация чётных чисел:\n",
        "```python\n",
        "evens = [x for x in range(20) if x % 2 == 0]\n",
        "```\n",
        "**Результат:** `[0, 2, 4, 6, 8, 10, 12, 14, 16, 18]`\n",
        "\n",
        "### 2. Вложенные списковые включения\n",
        "Можно использовать вложенные циклы `for` и условия `if`. Например, создание матрицы:\n",
        "```python\n",
        "matrix = [[i + j for j in range(3)] for i in range(3)]\n",
        "```\n",
        "**Результат:** `[[0, 1, 2], [1, 2, 3], [2, 3, 4]]`\n",
        "\n",
        "### 3. Генераторы (Generator Expressions)\n",
        "Генераторы — это аналог списковых включений, но вместо создания списка они возвращают **итератор**, который вычисляет элементы по запросу. Это экономит память при работе с большими данными [[3]][[8]].\n",
        "\n",
        "**Синтаксис:**\n",
        "```python\n",
        "(выражение for элемент in итерируемый_объект if условие)\n",
        "```\n",
        "\n",
        "**Пример:** Создание генератора квадратов чисел:\n",
        "```python\n",
        "squares_gen = (x**2 for x in range(10))\n",
        "```\n",
        "**Чтобы получить значения, используйте `next()` или итерацию в цикле:**\n",
        "```python\n",
        "for num in squares_gen:\n",
        "    print(num)\n",
        "```\n",
        "**Преимущества генераторов:**\n",
        "- Экономия памяти (не хранит все элементы в памяти)\n",
        "- Подходит для бесконечных последовательностей\n",
        "- Используется в потоковой обработке данных"
      ]
    },
    {
      "cell_type": "markdown",
      "metadata": {},
      "source": [
        "## Практика\n",
        "**Задание 1:** Создайте список квадратов чисел от 1 до 10 с помощью спискового включения."
      ]
    },
    {
      "cell_type": "code",
      "execution_count": null,
      "metadata": {},
      "outputs": [],
      "source": [
        "# Ваш код здесь\n",
        "squares = [x**2 for x in range(1, 11)]\n",
        "print(squares)  # Ожидаемый результат: [1, 4, 9, 16, 25, 36, 49, 64, 81, 100]"
      ]
    },
    {
      "cell_type": "markdown",
      "metadata": {},
      "source": [
        "**Задание 2:** Создайте список только чётных чисел из списка `[1, 2, 3, 4, 5, 6, 7, 8, 9, 10]`."
      ]
    },
    {
      "cell_type": "code",
      "execution_count": null,
      "metadata": {},
      "outputs": [],
      "source": [
        "# Ваш код здесь\n",
        "numbers = [1, 2, 3, 4, 5, 6, 7, 8, 9, 10]\n",
        "evens = [x for x in numbers if x % 2 == 0]\n",
        "print(evens)  # Ожидаемый результат: [2, 4, 6, 8, 10]"
      ]
    },
    {
      "cell_type": "markdown",
      "metadata": {},
      "source": [
        "**Задание 3:** Создайте список строк в верхнем регистре из списка `['apple', 'banana', 'cherry']`."
      ]
    },
    {
      "cell_type": "code",
      "execution_count": null,
      "metadata": {},
      "outputs": [],
      "source": [
        "# Ваш код здесь\n",
        "fruits = ['apple', 'banana', 'cherry']\n",
        "upper_fruits = [fruit.upper() for fruit in fruits]\n",
        "print(upper_fruits)  # Ожидаемый результат: ['APPLE', 'BANANA', 'CHERRY']"
      ]
    },
    {
      "cell_type": "markdown",
      "metadata": {},
      "source": [
        "**Задание 4:** Создайте генератор, который возвращает квадраты чисел от 1 до 5. Выведите все значения с помощью цикла `for`."
      ]
    },
    {
      "cell_type": "code",
      "execution_count": null,
      "metadata": {},
      "outputs": [],
      "source": [
        "# Ваш код здесь\n",
        "squares_gen = (x**2 for x in range(1, 6))\n",
        "for num in squares_gen:\n",
        "    print(num)  # Ожидаемый результат: 1, 4, 9, 16, 25 (каждое на новой строке)"
      ]
    },
    {
      "cell_type": "markdown",
      "metadata": {},
      "source": [
        "**Задание 5:** Создайте список, содержащий длины строк из `['hello', 'world', 'python']`."
      ]
    },
    {
      "cell_type": "code",
      "execution_count": null,
      "metadata": {},
      "outputs": [],
      "source": [
        "# Ваш код здесь\n",
        "words = ['hello', 'world', 'python']\n",
        "lengths = [len(word) for word in words]\n",
        "print(lengths)  # Ожидаемый результат: [5, 5, 6]"
      ]
    },
    {
      "cell_type": "markdown",
      "metadata": {},
      "source": [
        "**Задание 6:** Создайте список пар чисел `(i, j)` для `i` от 1 до 3 и `j` от 1 до 2."
      ]
    },
    {
      "cell_type": "code",
      "execution_count": null,
      "metadata": {},
      "outputs": [],
      "source": [
        "# Ваш код здесь\n",
        "pairs = [(i, j) for i in range(1, 4) for j in range(1, 3)]\n",
        "print(pairs)  # Ожидаемый результат: [(1,1), (1,2), (2,1), (2,2), (3,1), (3,2)]"
      ]
    },
    {
      "cell_type": "markdown",
      "metadata": {},
      "source": [
        "**Задание 7:** Создайте список чисел от 1 до 20, которые делятся на 3 без остатка."
      ]
    },
    {
      "cell_type": "code",
      "execution_count": null,
      "metadata": {},
      "outputs": [],
      "source": [
        "# Ваш код здесь\n",
        "div_by_3 = [x for x in range(1, 21) if x % 3 == 0]\n",
        "print(div_by_3)  # Ожидаемый результат: [3, 6, 9, 12, 15, 18]"
      ]
    },
    {
      "cell_type": "markdown",
      "metadata": {},
      "source": [
        "**Задание 8:** Создайте генератор, который возвращает кубы чисел от 1 до 4. Проверьте его работу с помощью `next()`."
      ]
    },
    {
      "cell_type": "code",
      "execution_count": null,
      "metadata": {},
      "outputs": [],
      "source": [
        "# Ваш код здесь\n",
        "cubes_gen = (x**3 for x in range(1, 5))\n",
        "print(next(cubes_gen))  # Ожидаемый результат: 1\n",
        "print(next(cubes_gen))  # Ожидаемый результат: 8\n",
        "print(next(cubes_gen))  # Ожидаемый результат: 27\n",
        "print(next(cubes_gen))  # Ожидаемый результат: 64"
      ]
    },
    {
      "cell_type": "markdown",
      "metadata": {},
      "source": [
        "**Задание 9:** Создайте список, содержащий только положительные числа из `[3, -1, 0, 7, -5, 2]`."
      ]
    },
    {
      "cell_type": "code",
      "execution_count": null,
      "metadata": {},
      "outputs": [],
      "source": [
        "# Ваш код здесь\n",
        "numbers = [3, -1, 0, 7, -5, 2]\n",
        "positives = [x for x in numbers if x > 0]\n",
        "print(positives)  # Ожидаемый результат: [3, 7, 2]"
      ]
    },
    {
      "cell_type": "markdown",
      "metadata": {},
      "source": [
        "**Задание 10:** Создайте список слов, длина которых больше 5 символов, из `['apple', 'banana', 'kiwi', 'strawberry']`."
      ]
    },
    {
      "cell_type": "code",
      "execution_count": null,
      "metadata": {},
      "outputs": [],
      "source": [
        "# Ваш код здесь\n",
        "words = ['apple', 'banana', 'kiwi', 'strawberry']\n",
        "long_words = [word for word in words if len(word) > 5]\n",
        "print(long_words)  # Ожидаемый результат: ['banana', 'strawberry']"
      ]
    },
    {
      "cell_type": "markdown",
      "metadata": {},
      "source": [
        "## Домашнее задание\n",
        "**Задача 1:** Создайте список квадратов чисел от 1 до 15, которые не делятся на 2 без остатка."
      ]
    },
    {
      "cell_type": "code",
      "execution_count": null,
      "metadata": {},
      "outputs": [],
      "source": [
        "# Ваш код здесь\n",
        "squares_odd = [x**2 for x in range(1, 16) if x % 2 != 0]\n",
        "print(squares_odd)  # Ожидаемый результат: [1, 9, 25, 49, 81, 121, 169, 225]"
      ]
    },
    {
      "cell_type": "markdown",
      "metadata": {},
      "source": [
        "**Задача 2:** Создайте генератор, который возвращает факториалы чисел от 1 до 5. Проверьте его работу с помощью цикла `for`."
      ]
    },
    {
      "cell_type": "code",
      "execution_count": null,
      "metadata": {},
      "outputs": [],
      "source": [
        "# Ваш код здесь\n",
        "import math\n",
        "factorials = (math.factorial(x) for x in range(1, 6))\n",
        "for num in factorials:\n",
        "    print(num)  # Ожидаемый результат: 1, 2, 6, 24, 120 (каждое на новой строке)"
      ]
    }
  ],
  "metadata": {
    "kernelspec": {
      "display_name": "Python 3",
      "language": "python",
      "name": "python3"
    },
    "language_info": {
      "codemirror_mode": {
        "name": "ipython",
        "version": 3
      },
      "file_extension": ".py",
      "mimetype": "text/x-python",
      "name": "python",
      "nbconvert_exporter": "python",
      "pygments_lexer": "ipython3",
      "version": "3.8.5"
    }
  },
  "nbformat": 4,
  "nbformat_minor": 4
}