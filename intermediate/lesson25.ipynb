{
  "cells": [
    {
      "cell_type": "markdown",
      "metadata": {},
      "source": [
        "# 🧠 Урок 25: Архитектуры нейросетей — CNN, RNN, LSTM, GRU\n",
        "**Цель урока:** Познакомиться с основными архитектурами нейросетей, понять их устройство и применение. Подходит для новичков.\n",
        "\n",
        "## 📌 Зачем разные архитектуры?\n",
        "- **CNN (сверточные сети):** Для изображений и локальных паттернов.\n",
        "- **RNN (рекуррентные сети):** Для последовательных данных (текст, временные ряды).\n",
        "- **LSTM/GRU:** Улучшенные RNN, которые лучше обрабатывают долгосрочные зависимости.\n",
        "- **Аналогия:** Если нейросети — это инструменты, то CNN — молоток для гвоздей, RNN — ножницы для текста, LSTM/GRU — специальные ножницы, которые помнят, где вы остановились (https://example.com )."
      ]
    },
    {
      "cell_type": "markdown",
      "metadata": {},
      "source": [
        "## 📐 Сверточные нейросети (CNN)\n",
        "- **Что это?** Модель, которая выделяет локальные признаки через свертку.\n",
        "- **Где используется?** Обработка изображений, видео, медицинские снимки.\n",
        "- **Как работает?**\n",
        "  - **Conv2D:** Обнаруживает края, углы.\n",
        "  - **MaxPooling:** Уменьшает размер, сохраняя важные детали.\n",
        "  - **Flatten + Dense:** Классификация на основе признаков.\n",
        "- **Преимущества:**\n",
        "  - Хорошо выделяет локальные паттерны.\n",
        "  - Устойчивость к сдвигам (invariance to translation).\n",
        "- **Ограничения:**\n",
        "  - Не подходит для последовательных данных.\n",
        "  - Требует больших вычислительных ресурсов.\n",
        "- **Пример архитектуры:**\n",
        "  ```python\n",
        "  from tensorflow.keras.models import Sequential\n",
        "  from tensorflow.keras.layers import Conv2D, MaxPooling2D, Flatten, Dense\n",
        "  \n",
        "  model = Sequential([\n",
        "      Conv2D(32, (3, 3), activation='relu', input_shape=(28, 28, 1)),\n",
        "      MaxPooling2D((2, 2)),\n",
        "      Conv2D(64, (3, 3), activation='relu'),\n",
        "      MaxPooling2D((2, 2)),\n",
        "      Flatten(),\n",
        "      Dense(64, activation='relu'),\n",
        "      Dense(10, activation='softmax')\n",
        "  ])\n",
        "  ```\n",
        "- **Аналогия:** CNN — как детектор признаков: первый слой находит края, второй — формы, третий — комбинации признаков."
      ]
    },
    {
      "cell_type": "markdown",
      "metadata": {},
      "source": [
        "## 📊 Рекуррентные нейросети (RNN)\n",
        "- **Что это?** Модели, которые запоминают предыдущие данные в последовательности.\n",
        "- **Где используется?** Тексты, временные ряды, голосовые данные.\n",
        "- **Как работает?**\n",
        "  - **Hidden State:** Передает информацию от одного шага к другому.\n",
        "  - **Проблема:** Исчезающий градиент — RNN забывает старые данные.\n",
        "- **Пример архитектуры:**\n",
        "  ```python\n",
        "  from tensorflow.keras.models import Sequential\n",
        "  from tensorflow.keras.layers import SimpleRNN, Dense\n",
        "  \n",
        "  model = Sequential([\n",
        "      SimpleRNN(64, input_shape=(timesteps, features)),\n",
        "      Dense(1)\n",
        "  ])\n",
        "  ```\n",
        "- **Аналогия:** RNN — как человек, который читает книгу, но забывает начало главы к концу."
      ]
    },
    {
      "cell_type": "markdown",
      "metadata": {},
      "source": [
        "## 🧠 LSTM (Long Short-Term Memory)\n",
        "- **Что это?** RNN с вентилями, которые контролируют, что запоминать, а что забывать.\n",
        "- **Вентили:**\n",
        "  - **Input Gate:** Что добавить в память.\n",
        "  - **Forget Gate:** Что удалить из памяти.\n",
        "  - **Output Gate:** Что использовать для предсказания.\n",
        "- **Преимущества:**\n",
        "  - Решает проблему исчезающего градиента.\n",
        "  - Может обрабатывать длинные последовательности.\n",
        "- **Ограничения:**\n",
        "  - Сложнее, чем простой RNN.\n",
        "  - Медленнее обучается.\n",
        "- **Пример архитектуры:**\n",
        "  ```python\n",
        "  from tensorflow.keras.layers import LSTM\n",
        "  model = Sequential([\n",
        "      LSTM(64, input_shape=(timesteps, features)),\n",
        "      Dense(1)\n",
        "  ])\n",
        "  ```\n",
        "- **Аналогия:** LSTM — как человек с блокнотом: записывает важное, стирает ненужное, использует актуальное для ответа."
      ]
    },
    {
      "cell_type": "markdown",
      "metadata": {},
      "source": [
        "## 🚪 GRU (Gated Recurrent Unit)\n",
        "- **Что это?** Упрощенная версия LSTM с двумя вентилями: update gate и reset gate.\n",
        "- **Преимущества:**\n",
        "  - Быстрее LSTM.\n",
        "  - Хорошо работает на коротких последовательностях.\n",
        "- **Ограничения:**\n",
        "  - Меньше контроля над памятью, чем у LSTM.\n",
        "- **Пример архитектуры:**\n",
        "  ```python\n",
        "  from tensorflow.keras.layers import GRU\n",
        "  model = Sequential([\n",
        "      GRU(64, input_shape=(timesteps, features)),\n",
        "      Dense(1)\n",
        "  ])\n",
        "  ```\n",
        "- **Аналогия:** GRU — как краткий блокнот, где меньше разделов, но всё равно можно записывать и стирать."
      ]
    },
    {
      "cell_type": "markdown",
      "metadata": {},
      "source": [
        "## 🧩 Гибридные архитектуры: CNN + RNN\n",
        "- **Зачем?** CNN выделяет локальные паттерны, RNN — обрабатывает последовательность.\n",
        "- **Где применяется?** Видеоанализ, обработка естественного языка (NLP).\n",
        "- **Пример:**\n",
        "  ```python\n",
        "  model = Sequential([\n",
        "      Conv2D(32, (3, 3), activation='relu', input_shape=(height, width, channels)),\n",
        "      MaxPooling2D((2, 2)),\n",
        "      Flatten(),\n",
        "      LSTM(64),\n",
        "      Dense(10, activation='softmax')\n",
        "  ])\n",
        "  ```\n",
        "- **Аналогия:** CNN — как детектор признаков, LSTM — как хранитель контекста (https://example.com )."
      ]
    },
    {
      "cell_type": "markdown",
      "metadata": {},
      "source": [
        "## 🧪 Практика: Обучение CNN на MNIST\n",
        "### Шаг 1: Загрузка данных"
      ]
    },
    {
      "cell_type": "code",
      "execution_count": null,
      "metadata": {},
      "outputs": [],
      "source": [
        "from keras.datasets import mnist\n",
        "import numpy as np\n",
        "\n",
        "(X_train, y_train), (X_test, y_test) = mnist.load_data()\n",
        "X_train = X_train.reshape((60000, 28, 28, 1)) / 255.0\n",
        "X_test = X_test.reshape((10000, 28, 28, 1)) / 255.0\n",
        "y_train = np.eye(10)[y_train]\n",
        "y_test = np.eye(10)[y_test]"
      ]
    },
    {
      "cell_type": "markdown",
      "metadata": {},
      "source": [
        "### Шаг 2: Создание модели"
      ]
    },
    {
      "cell_type": "code",
      "execution_count": null,
      "metadata": {},
      "outputs": [],
      "source": [
        "from keras.models import Sequential\n",
        "from keras.layers import Conv2D, MaxPooling2D, Flatten, Dense\n",
        "\n",
        "model = Sequential([\n",
        "    Conv2D(32, (3, 3), activation='relu', input_shape=(28, 28, 1)),\n",
        "    MaxPooling2D((2, 2)),\n",
        "    Conv2D(64, (3, 3), activation='relu'),\n",
        "    MaxPooling2D((2, 2)),\n",
        "    Flatten(),\n",
        "    Dense(64, activation='relu'),\n",
        "    Dense(10, activation='softmax')\n",
        "])"
      ]
    },
    {
      "cell_type": "markdown",
      "metadata": {},
      "source": [
        "### Шаг 3: Компиляция и обучение"
      ]
    },
    {
      "cell_type": "code",
      "execution_count": null,
      "metadata": {},
      "outputs": [],
      "source": [
        "model.compile(optimizer='adam',\n",
        "              loss='categorical_crossentropy',\n",
        "              metrics=['accuracy'])\n",
        "\n",
        "history = model.fit(X_train, y_train, \n",
        "                  epochs=5,\n",
        "                  batch_size=64,\n",
        "                  validation_data=(X_test, y_test))"
      ]
    },
    {
      "cell_type": "markdown",
      "metadata": {},
      "source": [
        "### Шаг 4: Визуализация обучения"
      ]
    },
    {
      "cell_type": "code",
      "execution_count": null,
      "metadata": {},
      "outputs": [],
      "source": [
        "import matplotlib.pyplot as plt\n",
        "\n",
        "# График точности\n",
        "plt.plot(history.history['accuracy'], label='Train Accuracy')\n",
        "plt.plot(history.history['val_accuracy'], label='Test Accuracy')\n",
        "plt.legend()\n",
        "plt.title('Accuracy по эпохам')\n",
        "plt.xlabel('Эпохи')\n",
        "plt.ylabel('Accuracy')\n",
        "plt.grid(True)\n",
        "plt.show()"
      ]
    },
    {
      "cell_type": "markdown",
      "metadata": {},
      "source": [
        "## 📈 Практика: Обучение LSTM на временных рядах\n",
        "### Шаг 1: Создание искусственных данных"
      ]
    },
    {
      "cell_type": "code",
      "execution_count": null,
      "metadata": {},
      "outputs": [],
      "source": [
        "import numpy as np\n",
        "\n",
        "# Искусственные данные\n",
        "timesteps = 10\n",
        "X = np.random.rand(1000, timesteps, 1)\n",
        "y = np.sum(X, axis=(1, 2)) / timesteps  # Среднее значение\n",
        "X_train, X_test = X[:800], X[800:]\n",
        "y_train, y_test = y[:800], y[800:]"
      ]
    },
    {
      "cell_type": "markdown",
      "metadata": {},
      "source": [
        "### Шаг 2: Создание модели"
      ]
    },
    {
      "cell_type": "code",
      "execution_count": null,
      "metadata": {},
      "outputs": [],
      "source": [
        "from keras.models import Sequential\n",
        "from keras.layers import LSTM, Dense\n",
        "\n",
        "# Архитектура LSTM\n",
        "model = Sequential([\n",
        "    LSTM(64, input_shape=(timesteps, 1)),\n",
        "    Dense(1)\n",
        "])"
      ]
    },
    {
      "cell_type": "markdown",
      "metadata": {},
      "source": [
        "### Шаг 3: Обучение модели"
      ]
    },
    {
      "cell_type": "code",
      "execution_count": null,
      "metadata": {},
      "outputs": [],
      "source": [
        "model.compile(optimizer='adam', loss='mse')\n",
        "history = model.fit(X_train, y_train, \n",
        "                  epochs=20,\n",
        "                  batch_size=32,\n",
        "                  validation_data=(X_test, y_test))"
      ]
    },
    {
      "cell_type": "markdown",
      "metadata": {},
      "source": [
        "### Шаг 4: Визуализация обучения"
      ]
    },
    {
      "cell_type": "code",
      "execution_count": null,
      "metadata": {},
      "outputs": [],
      "source": [
        "import matplotlib.pyplot as plt\n",
        "\n",
        "# График потерь\n",
        "plt.plot(history.history['loss'], label='Train Loss')\n",
        "plt.plot(history.history['val_loss'], label='Test Loss')\n",
        "plt.legend()\n",
        "plt.title('Loss по эпохам')\n",
        "plt.xlabel('Эпохи')\n",
        "plt.ylabel('MSE')\n",
        "plt.grid(True)\n",
        "plt.show()"
      ]
    },
    {
      "cell_type": "markdown",
      "metadata": {},
      "source": [
        "## 📊 Сравнение архитектур\n",
        "- **CNN:** Лучше для изображений и локальных паттернов.\n",
        "- **RNN:** Простая обработка последовательностей, но быстро забывает.\n",
        "- **LSTM/GRU:** Лучше RNN, подходят для длинных последовательностей.\n",
        "- **CNN + LSTM:** Для видео или временных рядов с пространственными паттернами.\n",
        "- **Пример:**\n",
        "  ```python\n",
        "  from keras.layers import Bidirectional\n",
        "  model = Sequential([\n",
        "      Bidirectional(LSTM(64)),  # Двунаправленный LSTM\n",
        "      Dense(1)\n",
        "  ])\n",
        "  ```"
      ]
    },
    {
      "cell_type": "markdown",
      "metadata": {},
      "source": [
        "## 📝 Домашнее задание\n",
        "**Задача 1:** Измените архитектуру CNN:\n",
        "- Добавьте еще один `Conv2D(128, (3, 3))` и `MaxPooling2D`.\n",
        "- Как меняется `accuracy`?\n",
        "- Нарисуйте график обучения.\n",
        "\n",
        "**Задача 2:** Попробуйте GRU вместо LSTM на задаче прогнозирования временных рядов.\n",
        "- Как меняется результат?\n",
        "- Ускорилось ли обучение?\n",
        "- Сохраните график потерь и точности."
      ]
    },
    {
      "cell_type": "code",
      "execution_count": null,
      "metadata": {},
      "outputs": [],
      "source": [
        "# Ваш код здесь\n",
        "from keras.models import Sequential\n",
        "from keras.layers import Conv2D, MaxPooling2D, Flatten, Dense\n",
        "\n",
        "# Измененная CNN\n",
        "modified_model = Sequential([\n",
        "    Conv2D(32, (3, 3), activation='relu', input_shape=(28, 28, 1)),\n",
        "    MaxPooling2D((2, 2)),\n",
        "    Conv2D(64, (3, 3), activation='relu'),\n",
        "    MaxPooling2D((2, 2)),\n",
        "    Conv2D(128, (3, 3), activation='relu'),\n",
        "    MaxPooling2D((2, 2)),\n",
        "    Flatten(),\n",
        "    Dense(64, activation='relu'),\n",
        "    Dense(10, activation='softmax')\n",
        "])"
      ]
    },
    {
      "cell_type": "code",
      "execution_count": null,
      "metadata": {},
      "outputs": [],
      "source": [
        "# Обучение измененной CNN\n",
        "modified_model.compile(optimizer='adam',\n",
        "                     loss='categorical_crossentropy',\n",
        "                     metrics=['accuracy'])\n",
        "history = modified_model.fit(X_train, y_train, \n",
        "                        epochs=5,\n",
        "                        batch_size=64,\n",
        "                        validation_data=(X_test, y_test))"
      ]
    },
    {
      "cell_type": "code",
      "execution_count": null,
      "metadata": {},
      "outputs": [],
      "source": [
        "# Ваш код здесь\n",
        "from keras.models import Sequential\n",
        "from keras.layers import GRU, Dense\n",
        "\n",
        "# GRU вместо LSTM\n",
        "gru_model = Sequential([\n",
        "    GRU(64, input_shape=(timesteps, 1)),\n",
        "    Dense(1)\n",
        "])"
      ]
    },
    {
      "cell_type": "code",
      "execution_count": null,
      "metadata": {},
      "outputs": [],
      "source": [
        "# Обучение GRU\n",
        "gru_model.compile(optimizer='adam', loss='mse')\n",
        "gru_history = gru_model.fit(X_train, y_train, \n",
        "                           epochs=20,\n",
        "                           batch_size=32,\n",
        "                           validation_data=(X_test, y_test))"
      ]
    },
    {
      "cell_type": "code",
      "execution_count": null,
      "metadata": {},
      "outputs": [],
      "source": [
        "# Визуализация обучения GRU\n",
        "import matplotlib.pyplot as plt\n",
        "\n",
        "plt.plot(gru_history.history['loss'], label='Train Loss')\n",
        "plt.plot(gru_history.history['val_loss'], label='Test Loss')\n",
        "plt.legend()\n",
        "plt.title('Loss по эпохам (GRU)')\n",
        "plt.xlabel('Эпохи')\n",
        "plt.ylabel('MSE')\n",
        "plt.grid(True)\n",
        "plt.show()"
      ]
    },
    {
      "cell_type": "markdown",
      "metadata": {},
      "source": [
        "## ✅ Рекомендации по выполнению\n",
        "- **Задача 1:** После добавления новых слоев сравните `loss` и `accuracy` до и после.\n",
        "- **Задача 2:** Проверьте, как GRU влияет на `val_loss` и время обучения.\n",
        "- **Подсказка:** Используйте `model.summary()` для анализа архитектуры."
      ]
    }
  ],
  "metadata": {
    "kernelspec": {
      "display_name": "Python 3",
      "language": "python",
      "name": "python3"
    },
    "language_info": {
      "codemirror_mode": {
        "name": "ipython",
        "version": 3
      },
      "file_extension": ".py",
      "mimetype": "text/x-python",
      "name": "python",
      "nbconvert_exporter": "python",
      "pygments_lexer": "ipython3",
      "version": "3.8.5"
    }
  },
  "nbformat": 4,
  "nbformat_minor": 4
}
