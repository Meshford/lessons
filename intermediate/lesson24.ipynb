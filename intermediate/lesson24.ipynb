{
  "cells": [
    {
      "cell_type": "markdown",
      "metadata": {},
      "source": [
        "# 🧠 Урок 24: Feature Engineering и отбор признаков\n",
        "**Цель урока:** Научиться создавать новые признаки (feature engineering) и выбирать наиболее важные (feature selection) для улучшения качества моделей машинного обучения. Подходит для новичков.\n",
        "\n",
        "## 📌 Что такое feature engineering?\n",
        "- **Feature engineering** — это процесс создания новых признаков из исходных данных, чтобы модель могла лучше находить закономерности [[3]](https://example.com ).\n",
        "- **Зачем нужен?** Хорошие признаки упрощают обучение, повышают точность и уменьшают переобучение.\n",
        "- **Аналогия:** Представьте, что вы повар. Feature engineering — как добавление новых ингредиентов в блюдо, чтобы вкус стал лучше.\n",
        "\n",
        "## 📉 Что такое feature selection (отбор признаков)?\n",
        "- **Отбор признаков** — это процесс удаления нерелевантных или избыточных признаков для улучшения модели [[4]](https://example.com ).\n",
        "- **Зачем?** Уменьшает сложность модели, ускоряет обучение, улучшает интерпретируемость.\n",
        "- **Аналогия:** Feature selection — как убирать лишние ингредиенты из рецепта, чтобы блюдо стало проще и вкуснее."
      ]
    },
    {
      "cell_type": "markdown",
      "metadata": {},
      "source": [
        "## 🛠️ Типы feature engineering\n",
        "### 1. Создание новых признаков\n",
        "- **Полиномиальные признаки:** Создание комбинаций существующих признаков (например, `x1*x2`).\n",
        "- **Взаимодействия между признаками:** Суммы, разности, произведения.\n",
        "- **Категориальные признаки:** One-Hot кодирование, Label Encoding.\n",
        "- **Пример:** В задаче прогнозирования цены дома добавление признака \"площадь_на_человека = площадь / количество_людей\" может улучшить модель.\n",
        "\n",
        "### 2. Преобразование признаков\n",
        "- **Нормализация:** Приведение к диапазону [0, 1].\n",
        "- **Стандартизация:** Среднее 0, дисперсия 1.\n",
        "- **Кодирование категорий:** One-Hot, Ordinal Encoding.\n",
        "- **Пример:** Преобразование текстовых меток в числа:\n",
        "  ```python\n",
        "  df['Gender'] = df['Gender'].map({'Male': 0, 'Female': 1})\n",
        "  ```"
      ]
    },
    {
      "cell_type": "markdown",
      "metadata": {},
      "source": [
        "## 🧪 Методы feature selection\n",
        "### 1. Фильтрация (Filter Methods)\n",
        "- **Идея:** Выбор признаков на основе статистических тестов (например, корреляция).\n",
        "- **Методы:**\n",
        "  - `SelectKBest` — выбирает `k` лучших признаков.\n",
        "  - `SelectPercentile` — выбирает лучшие проценты признаков.\n",
        "- **Пример:**\n",
        "  ```python\n",
        "  from sklearn.feature_selection import SelectKBest, f_classif\n",
        "  selector = SelectKBest(score_func=f_classif, k=5)\n",
        "  X_new = selector.fit_transform(X_train, y_train)\n",
        "  ```"
      ]
    },
    {
      "cell_type": "markdown",
      "metadata": {},
      "source": [
        "### 2. Обертки (Wrapper Methods)\n",
        "- **Идея:** Выбор признаков через обучение модели.\n",
        "- **Методы:**\n",
        "  - **RFE (Recursive Feature Elimination):** Последовательно удаляет наименее важные признаки.\n",
        "  - **GridSearchCV:** Перебор подмножеств признаков.\n",
        "- **Пример:**\n",
        "  ```python\n",
        "  from sklearn.feature_selection import RFE\n",
        "  from sklearn.ensemble import RandomForestClassifier\n",
        "  \n",
        "  model = RandomForestClassifier()\n",
        "  selector = RFE(model, n_features_to_select=5)\n",
        "  X_rfe = selector.fit_transform(X_train, y_train)\n",
        "  ```"
      ]
    },
    {
      "cell_type": "markdown",
      "metadata": {},
      "source": [
        "### 3. Встроенные методы (Embedded Methods)\n",
        "- **Идея:** Отбор признаков в процессе обучения модели.\n",
        "- **Методы:**\n",
        "  - **L1-регуляризация (Lasso):** Сжимает коэффициенты нерелевантных признаков к нулю.\n",
        "  - **Random Forest / XGBoost:** Использование `feature_importances_` для оценки важности.\n",
        "- **Пример:**\n",
        "  ```python\n",
        "  from sklearn.ensemble import RandomForestClassifier\n",
        "  model = RandomForestClassifier(n_estimators=100)\n",
        "  model.fit(X_train, y_train)\n",
        "  importance = model.feature_importances_\n",
        "  ```"
      ]
    },
    {
      "cell_type": "markdown",
      "metadata": {},
      "source": [
        "## 📊 Практика: Feature Engineering на примере датасета\n",
        "### Шаг 1: Загрузка данных"
      ]
    },
    {
      "cell_type": "code",
      "execution_count": null,
      "metadata": {},
      "outputs": [],
      "source": [
        "from sklearn.datasets import load_breast_cancer\n",
        "import pandas as pd\n",
        "\n",
        "# Загрузка данных\n",
        "data = load_breast_cancer()\n",
        "X = pd.DataFrame(data.data, columns=data.feature_names)\n",
        "y = data.target\n",
        "print(\"Оригинальные признаки:\", X.columns.tolist())"
      ]
    },
    {
      "cell_type": "markdown",
      "metadata": {},
      "source": [
        "### Шаг 2: Создание новых признаков"
      ]
    },
    {
      "cell_type": "code",
      "execution_count": null,
      "metadata": {},
      "outputs": [],
      "source": [
        "import numpy as np\n",
        "\n",
        "# Создаем новые признаки\n",
        "X['mean_se'] = X['mean radius'] * X['mean texture']  # Комбинация признаков\n",
        "X['area_se'] = np.sqrt(X['mean area'])  # Нелинейное преобразование\n",
        "print(\"Новые признаки:\", X.columns.tolist())"
      ]
    },
    {
      "cell_type": "markdown",
      "metadata": {},
      "source": [
        "### Шаг 3: Нормализация признаков"
      ]
    },
    {
      "cell_type": "code",
      "execution_count": null,
      "metadata": {},
      "outputs": [],
      "source": [
        "from sklearn.preprocessing import StandardScaler\n",
        "\n",
        "# Стандартизация\n",
        "scaler = StandardScaler()\n",
        "X_scaled = scaler.fit_transform(X)"
      ]
    },
    {
      "cell_type": "markdown",
      "metadata": {},
      "source": [
        "### Шаг 4: Отбор признаков через SelectKBest"
      ]
    },
    {
      "cell_type": "code",
      "execution_count": null,
      "metadata": {},
      "outputs": [],
      "source": [
        "from sklearn.feature_selection import SelectKBest, f_classif\n",
        "\n",
        "# Выбор 10 лучших признаков\n",
        "selector = SelectKBest(score_func=f_classif, k=10)\n",
        "X_new = selector.fit_transform(X_scaled, y)\n",
        "print(\"Количество признаков после отбора:\", X_new.shape[1])"
      ]
    },
    {
      "cell_type": "markdown",
      "metadata": {},
      "source": [
        "### Шаг 5: Визуализация важности признаков"
      ]
    },
    {
      "cell_type": "code",
      "execution_count": null,
      "metadata": {},
      "outputs": [],
      "source": [
        "import matplotlib.pyplot as plt\n",
        "import numpy as np\n",
        "\n",
        "# Важность через Random Forest\n",
        "from sklearn.ensemble import RandomForestClassifier\n",
        "model = RandomForestClassifier(n_estimators=100, random_state=42)\n",
        "model.fit(X_scaled, y)\n",
        "importances = model.feature_importances_\n",
        "\n",
        "# График важности\n",
        "indices = np.argsort(importances)[::-1]\n",
        "plt.figure(figsize=(10, 6))\n",
        "plt.bar(range(X.shape[1]), importances[indices])\n",
        "plt.xticks(range(X.shape[1]), X.columns[indices], rotation=90)\n",
        "plt.title('Важность признаков')\n",
        "plt.show()"
      ]
    },
    {
      "cell_type": "markdown",
      "metadata": {},
      "source": [
        "## 📈 Практика: Обучение с отобранными признаками\n",
        "### Шаг 1: Разделение данных"
      ]
    },
    {
      "cell_type": "code",
      "execution_count": null,
      "metadata": {},
      "outputs": [],
      "source": [
        "from sklearn.model_selection import train_test_split\n",
        "\n",
        "# Разделение на train/test\n",
        "X_train, X_test, y_train, y_test = train_test_split(X_new, y, test_size=0.2, random_state=42)"
      ]
    },
    {
      "cell_type": "markdown",
      "metadata": {},
      "source": [
        "### Шаг 2: Обучение модели"
      ]
    },
    {
      "cell_type": "code",
      "execution_count": null,
      "metadata": {},
      "outputs": [],
      "source": [
        "from sklearn.linear_model import LogisticRegression\n",
        "from sklearn.metrics import accuracy_score\n",
        "\n",
        "# Обучение\n",
        "model = LogisticRegression(max_iter=1000)\n",
        "model.fit(X_train, y_train)\n",
        "\n",
        "# Оценка\n",
        "accuracy = accuracy_score(y_test, model.predict(X_test))\n",
        "print(f'Accuracy: {accuracy:.2f}')"
      ]
    },
    {
      "cell_type": "markdown",
      "metadata": {},
      "source": [
        "## 📉 Что такое переобучение и как его избежать?\n",
        "- **Переобучение (Overfitting):** Модель идеально запоминает тренировочные данные, но плохо работает на тестовых.\n",
        "- **Причины:**\n",
        "  - Слишком много признаков.\n",
        "  - Недостаток данных.\n",
        "- **Как бороться?**\n",
        "  - Упрощение модели.\n",
        "  - Добавление регуляризации.\n",
        "  - Использование feature selection.\n",
        "- **Пример:**\n",
        "  ```python\n",
        "  from sklearn.linear_model import Lasso\n",
        "  lasso = Lasso(alpha=0.1)\n",
        "  lasso.fit(X_train, y_train)\n",
        "  ```"
      ]
    },
    {
      "cell_type": "markdown",
      "metadata": {},
      "source": [
        "## 📊 Как выбрать лучшие признаки?\n",
        "- **SelectKBest:** На основе статистики (например, `f_classif`, `mutual_info`).\n",
        "- **PCA (снижение размерности):** Преобразует признаки в более компактное представление.\n",
        "- **RFE:** Итеративное удаление наименее важных признаков.\n",
        "- **Пример:**\n",
        "  ```python\n",
        "  from sklearn.decomposition import PCA\n",
        "  pca = PCA(n_components=5)\n",
        "  X_pca = pca.fit_transform(X_scaled)\n",
        "  ```"
      ]
    },
    {
      "cell_type": "markdown",
      "metadata": {},
      "source": [
        "## 📝 Домашнее задание\n",
        "**Задача 1:** Добавьте 2 новых признака в датасет (например, произведение двух признаков или квадрат одного из них).\n",
        "**Задача 2:** Примените метод `SelectKBest` с `k=5` и обучите модель. Сравните accuracy до и после.\n",
        "**Задача 3:** Напишите отчет (200–300 слов), где:\n",
        "- Опишите, какие признаки вы добавили.\n",
        "- Объясните, почему эти признаки могут быть полезны.\n",
        "- Сравните точность модели до и после feature selection.\n",
        "- Приведите примеры, как отбор признаков помогает в реальных задачах."
      ]
    },
    {
      "cell_type": "code",
      "execution_count": null,
      "metadata": {},
      "outputs": [],
      "source": [
        "# Ваш код здесь\n",
        "from sklearn.feature_selection import SelectKBest, f_classif\n",
        "\n",
        "# Добавление новых признаков\n",
        "X['new_feature_1'] = X['mean radius'] * X['mean texture']  # Произведение признаков\n",
        "X['new_feature_2'] = X['mean area'] ** 2  # Квадрат признака\n",
        "\n",
        "# Отбор признаков\n",
        "selector = SelectKBest(score_func=f_classif, k=5)\n",
        "X_new = selector.fit_transform(X, y)\n",
        "print(\"Количество признаков после отбора:\", X_new.shape[1])"
      ]
    },
    {
      "cell_type": "code",
      "execution_count": null,
      "metadata": {},
      "outputs": [],
      "source": [
        "# Обучение модели\n",
        "from sklearn.linear_model import LogisticRegression\n",
        "from sklearn.model_selection import train_test_split\n",
        "from sklearn.metrics import accuracy_score\n",
        "\n",
        "# Разделение данных\n",
        "X_train, X_test, y_train, y_test = train_test_split(X_new, y, test_size=0.2, random_state=42)\n",
        "\n",
        "# Обучение\n",
        "model = LogisticRegression(max_iter=1000)\n",
        "model.fit(X_train, y_train)\n",
        "\n",
        "# Оценка\n",
        "accuracy = accuracy_score(y_test, model.predict(X_test))\n",
        "print(f'Accuracy после отбора: {accuracy:.2f}')"
      ]
    },
    {
      "cell_type": "markdown",
      "metadata": {},
      "source": [
        "## ✅ Рекомендации по выполнению\n",
        "- **Задача 1:** Используйте комбинации признаков, которые могут отражать скрытые закономерности (например, `площадь_на_человека = площадь / количество_людей`).\n",
        "- **Задача 2:** Следите за переобучением — если accuracy на train значительно выше, чем на test, уменьшите количество признаков.\n",
        "- **Подсказка:** Используйте `selector.get_support()` для анализа, какие признаки были отобраны."
      ]
    }
  ],
  "metadata": {
    "kernelspec": {
      "display_name": "Python 3",
      "language": "python",
      "name": "python3"
    },
    "language_info": {
      "codemirror_mode": {
        "name": "ipython",
        "version": 3
      },
      "file_extension": ".py",
      "mimetype": "text/x-python",
      "name": "python",
      "nbconvert_exporter": "python",
      "pygments_lexer": "ipython3",
      "version": "3.8.5"
    }
  },
  "nbformat": 4,
  "nbformat_minor": 4
}
