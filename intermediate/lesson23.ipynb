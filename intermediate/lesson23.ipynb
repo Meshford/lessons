{
  "cells": [
    {
      "cell_type": "markdown",
      "metadata": {},
      "source": [
        "# 🧠 Урок 23: Работа с большими и разреженными данными\n",
        "**Цель урока:** Научиться эффективно обрабатывать большие наборы данных и разреженные матрицы с помощью `pandas`, `scipy.sparse`, `Dask` и облачных технологий. Подходит для новичков.\n",
        "\n",
        "## 📌 Что такое большие данные (Big Data)?\n",
        "- **Big Data** — это данные, которые слишком велики для обработки стандартными инструментами (например, Excel, обычные массивы).\n",
        "- **Примеры:** Логи веб-сайтов, данные с датчиков, транзакции банков.\n",
        "- **Почему важно?** Обычные методы не справляются с объемом, скоростью или разнообразием данных.\n",
        "- **Аналогия:** Представьте, что вы пытаетесь перенести 100 коробок за один раз — вам нужен грузовик, а не сумка [[4]](https://example.com ).\n",
        "\n",
        "## 📉 Что такое разреженные данные?\n",
        "- **Разреженные данные** — это когда большинство значений равны нулю (например, матрица пользователь-фильмы в Netflix).\n",
        "- **Преимущества хранения:** Экономия памяти и времени обработки.\n",
        "- **Методы:** Использование `scipy.sparse` вместо обычных массивов.\n",
        "- **Аналогия:** Если книга состоит из 1000 страниц, но только 10 заполнены, вы можете хранить только эти 10, а не всю книгу ."
      ]
    },
    {
      "cell_type": "markdown",
      "metadata": {},
      "source": [
        "## 🛠️ Обработка больших данных\n",
        "### 1. Батчи (mini-batches)\n",
        "- **Что это?** Обработка данных порциями, чтобы не загружать всё в память сразу.\n",
        "- **Пример:** Чтение CSV порциями:\n",
        "  ```python\n",
        "  import pandas as pd\n",
        "  chunksize = 10000\n",
        "  for chunk in pd.read_csv('big_data.csv', chunksize=chunksize):\n",
        "      process(chunk)  # Обработка порции\n",
        "  ```\n",
        "- **Аналогия:** Читаете книгу по главам, а не всю сразу [[4]](https://example.com ).\n",
        "\n",
        "### 2. Параллельные вычисления\n",
        "- **Что это?** Использование нескольких процессоров для ускорения обработки.\n",
        "- **Пример:** Параллельная обработка с `joblib`:\n",
        "  ```python\n",
        "  from joblib import Parallel, delayed\n",
        "  results = Parallel(n_jobs=-1)(delayed(process)(chunk) for chunk in chunks)\n",
        "  ```\n",
        "- **Аналогия:** Несколько работников упаковывают товар одновременно [[4]](https://example.com ).\n",
        "\n",
        "### 3. Облака и распределенные системы\n",
        "- **Инструменты:** AWS S3, Google Cloud Storage, Apache Spark.\n",
        "- **Пример:** Использование `Dask` для работы с данными, превышающими объем RAM:\n",
        "  ```python\n",
        "  import dask.dataframe as dd\n",
        "  df = dd.read_csv('big_data.csv')  # Работа с большими файлами\n",
        "  ```\n",
        "- **Аналогия:** Если вы не можете унести все книги, храните их в облаке и читайте по одной за раз [[7]](https://example.com )."
      ]
    },
    {
      "cell_type": "markdown",
      "metadata": {},
      "source": [
        "## 📊 Форматы хранения данных\n",
        "- **CSV:** Простой, но медленный для больших данных.\n",
        "- **Parquet:** Столбцовый формат, оптимизирован для чтения/записи больших объемов.\n",
        "- **HDF5:** Поддерживает хранение многомерных массивов.\n",
        "- **Feather:** Быстрый формат для обмена данными между Python и R.\n",
        "- **Примеры сравнения форматов:**\n",
        "  - **CSV:** Текстовый файл, легко читается, но медленно обрабатывается.\n",
        "  - **Parquet:** Сжатие, типизация, оптимизация под аналитику.\n",
        "  - **HDF5:** Для научных данных, например, геномные последовательности.\n",
        "  - **Feather:** Для быстрого обмена между языками (Python, R).\n",
        "- **Почему Parquet лучше CSV?** Сжатие, типизация, оптимизация под аналитику [[1]](https://example.com ).\n",
        "- **Пример:** Сохранение в Parquet:\n",
        "  ```python\n",
        "  df.to_parquet('data.parquet')\n",
        "  df = pd.read_parquet('data.parquet')\n",
        "  ```"
      ]
    },
    {
      "cell_type": "markdown",
      "metadata": {},
      "source": [
        "## 🧱 Разреженные данные и их обработка\n",
        "### 1. Что такое разреженная матрица?\n",
        "- **Определение:** Матрица, где большинство элементов равны нулю.\n",
        "- **Зачем?** Экономия памяти: если 99% данных — нули, разреженный формат сократит объем в 100 раз.\n",
        "- **Пример:** Матрица пользователь-фильм в рекомендательной системе.\n",
        "\n",
        "### 2. Как создать разреженную матрицу?\n",
        "- **Использование `scipy.sparse`:**\n",
        "  - **CSR (Compressed Sparse Row):** Для быстрого доступа по строкам.\n",
        "  - **CSC (Compressed Sparse Column):** Для быстрого доступа по столбцам.\n",
        "  - **COO (Coordinate):** Простая структура для создания.\n",
        "  ```python\n",
        "  from scipy.sparse import csr_matrix\n",
        "  data = csr_matrix((values, (rows, cols)), shape=(10000, 10000))\n",
        "  print(data.shape)  # (10000, 10000)\n",
        "  ```\n",
        "- **Аналогия:** Хранение только тех страниц, которые содержат текст, а не всю книгу целиком [[1]](https://example.com )."
      ]
    },
    {
      "cell_type": "markdown",
      "metadata": {},
      "source": [
        "## 📦 Облачные технологии для работы с данными\n",
        "- **AWS S3:** Хранение данных в облаке с доступом через API.\n",
        "- **Google BigQuery:** SQL-запросы к терабайтным данным.\n",
        "- **Apache Spark (на облачных платформах):** Обработка данных на кластерах.\n",
        "- **Пример:** Подключение к Google Cloud:\n",
        "  ```python\n",
        "  from google.cloud import bigquery\n",
        "  client = bigquery.Client()\n",
        "  query = \"\"\"\n",
        "  SELECT name, COUNT(*)\n",
        "  FROM `bigquery-public-data.usa_names.usa_1990_current`\n",
        "  GROUP BY name\n",
        "  ORDER BY COUNT(*) DESC\n",
        "  LIMIT 100\n",
        "  \"\"\"\n",
        "  df = client.query(query).to_dataframe()\n",
        "  print(df)\n",
        "  ```\n",
        "- **Аналогия:** Облако — как виртуальный склад, где вы храните данные, а не на своем компьютере [[7]](https://example.com )."
      ]
    },
    {
      "cell_type": "markdown",
      "metadata": {},
      "source": [
        "## 📈 Как работает ансамблевое обучение?\n",
        "- **Bagging (Bootstrap Aggregation):** Обучает несколько моделей на случайных подвыборках и объединяет их предсказания.\n",
        "- **Boosting:** Каждая следующая модель исправляет ошибки предыдущих.\n",
        "- **Stacking:** Использует мета-модель для комбинации предсказаний.\n",
        "- **Пример:** Random Forest — это Bagging деревьев.\n",
        "  ```python\n",
        "  from sklearn.ensemble import RandomForestClassifier\n",
        "  forest = RandomForestClassifier(n_estimators=100)\n",
        "  forest.fit(X_train, y_train)\n",
        "  ```"
      ]
    },
    {
      "cell_type": "markdown",
      "metadata": {},
      "source": [
        "## 📊 Как выбрать лучшую модель?\n",
        "- **Точность (Accuracy):** Подходит для сбалансированных классов.\n",
        "- **F1-score:** Для несбалансированных задач.\n",
        "- **ROC-AUC:** Для бинарной классификации.\n",
        "- **GridSearchCV:** Автоматический подбор гиперпараметров.\n",
        "- **Пример:**\n",
        "  ```python\n",
        "  from sklearn.model_selection import GridSearchCV\n",
        "  grid = GridSearchCV(RandomForestClassifier(), param_grid, cv=3, scoring='accuracy')\n",
        "  ```"
      ]
    },
    {
      "cell_type": "markdown",
      "metadata": {},
      "source": [
        "## 🧪 Практика: Работа с разреженными данными\n",
        "### Шаг 1: Создание разреженной матрицы"
      ]
    },
    {
      "cell_type": "code",
      "execution_count": null,
      "metadata": {},
      "outputs": [],
      "source": [
        "import numpy as np\n",
        "from scipy.sparse import csr_matrix\n",
        "\n",
        "# Создание разреженной матрицы\n",
        "dense = np.array([[0, 0, 0], [0, 1, 0], [0, 0, 0]])\n",
        "sparse = csr_matrix(dense)\n",
        "print(\"Размер разреженной матрицы:\", sparse.shape)"
      ]
    },
    {
      "cell_type": "markdown",
      "metadata": {},
      "source": [
        "### Шаг 2: Работа с большими данными через Dask"
      ]
    },
    {
      "cell_type": "code",
      "execution_count": null,
      "metadata": {},
      "outputs": [],
      "source": [
        "import dask.dataframe as dd\n",
        "\n",
        "# Чтение большого CSV\n",
        "df = dd.read_csv('big_data.csv')  # Ваш файл\n",
        "print(df.head())  # Первые строки"
      ]
    },
    {
      "cell_type": "markdown",
      "metadata": {},
      "source": [
        "### Шаг 3: Использование Apache Arrow\n",
        "- **Apache Arrow** — формат, оптимизированный для работы с большими данными в памяти.\n",
        "- **Преимущества:** Высокая скорость сериализации/десериализации.\n",
        "- **Пример:**\n",
        "  ```python\n",
        "  import pyarrow.parquet as pq\n",
        "  table = pq.read_table('data.parquet')\n",
        "  print(table)\n",
        "  ```"
      ]
    },
    {
      "cell_type": "markdown",
      "metadata": {},
      "source": [
        "## 📝 Домашнее задание\n",
        "**Задача 1:** Создайте разреженную матрицу из случайных данных и сравните объем памяти с плотной матрицей.\n",
        "**Задача 2:** Обработайте большой датасет с помощью Dask (например, фильтрация, группировка, агрегация).\n",
        "**Задача 3:** Напишите отчет (200–300 слов), где:\n",
        "- Опишите, как вы создавали разреженную матрицу.\n",
        "- Сравните эффективность хранения.\n",
        "- Объясните, как Dask помогает при работе с большими данными.\n",
        "- Приведите примеры, где эти методы полезны (например, логистика, рекомендации)."
      ]
    },
    {
      "cell_type": "code",
      "execution_count": null,
      "metadata": {},
      "outputs": [],
      "source": [
        "# Ваш код здесь\n",
        "import numpy as np\n",
        "from scipy.sparse import csr_matrix\n",
        "import pandas as pd\n",
        "import dask.dataframe as dd\n",
        "\n",
        "# Задача 1: Разреженная матрица\n",
        "dense = np.random.choice([0, 1], size=(1000, 1000), p=[0.99, 0.01])\n",
        "sparse = csr_matrix(dense)\n",
        "print(\"Плотная матрица:\", dense.nbytes / 1024, \"KB\")\n",
        "print(\"Разреженная матрица:\", sparse.data.nbytes / 1024, \"KB\")"
      ]
    },
    {
      "cell_type": "code",
      "execution_count": null,
      "metadata": {},
      "outputs": [],
      "source": [
        "# Задача 2: Чтение больших данных\n",
        "df = dd.read_csv('big_data.csv')  # Ваш файл\n",
        "filtered = df[df['category'] == 'electronics']\n",
        "grouped = filtered.groupby('brand')['price'].mean()\n",
        "result = grouped.compute()  # Вычисление\n",
        "print(result)"
      ]
    },
    {
      "cell_type": "markdown",
      "metadata": {},
      "source": [
        "## ✅ Рекомендации по выполнению\n",
        "- **Задача 1:** Убедитесь, что вы используете `csr_matrix` для экономии памяти.\n",
        "- **Задача 2:** Для ускорения используйте `dask.dataframe` вместо `pandas`.\n",
        "- **Подсказка:** Используйте `sparse.nnz` для подсчета ненулевых элементов."
      ]
    }
  ],
  "metadata": {
    "kernelspec": {
      "display_name": "Python 3",
      "language": "python",
      "name": "python3"
    },
    "language_info": {
      "codemirror_mode": {
        "name": "ipython",
        "version": 3
      },
      "file_extension": ".py",
      "mimetype": "text/x-python",
      "name": "python",
      "nbconvert_exporter": "python",
      "pygments_lexer": "ipython3",
      "version": "3.8.5"
    }
  },
  "nbformat": 4,
  "nbformat_minor": 4
}
