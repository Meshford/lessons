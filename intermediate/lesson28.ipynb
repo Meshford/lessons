{
  "cells": [
    {
      "cell_type": "markdown",
      "metadata": {},
      "source": [
        "# 🧠 Урок 28: Оптимизация и регуляризация моделей\n",
        "**Цель урока:** Понять, как улучшить качество модели с помощью оптимизации гиперпараметров, регуляризации (Dropout, L2) и нормализации (BatchNorm). Подходит для новичков.\n",
        "\n",
        "## 📌 Почему модели переобучаются?\n",
        "- **Переобучение (Overfitting):** Модель запоминает тренировочные данные, но плохо обобщает на тестовых.\n",
        "- **Причины:** Слишком много нейронов, мало данных, шум в данных.\n",
        "- **Аналогия:** Представьте, что вы зубрили ответы на вопросы, а на экзамене они изменились — вы провалите тест.\n",
        "\n",
        "## 📉 Что такое недообучение (Underfitting)?\n",
        "- **Недообучение:** Модель не выучила даже основные закономерности.\n",
        "- **Причины:** Слишком простая модель, недостаток данных.\n",
        "- **Аналогия:** Если вы читаете учебник один раз, но не поняли тему — это недообучение."
      ]
    },
    {
      "cell_type": "markdown",
      "metadata": {},
      "source": [
        "## 🧰 Методы оптимизации\n",
        "### 1. Градиентный спуск\n",
        "- **Что это?** Алгоритм, который минимизирует функцию потерь, двигаясь в направлении градиента.\n",
        "- **Формула обновления весов:**\n",
        "  ```python\n",
        "  weights -= learning_rate * gradient\n",
        "  ```\n",
        "- **learning_rate:** Шаг обучения. Слишком большой — модель не сходится, слишком маленький — медленно обучается.\n",
        "- **Аналогия:** Вы спускаетесь с горы, делая маленькие или большие шаги. Оптимальный шаг — это золотая середина.\n",
        "\n",
        "### 2. Adam (Adaptive Moment Estimation)\n",
        "- **Что это?** Оптимизатор, который адаптирует learning rate для каждого параметра.\n",
        "- **Преимущества:** Быстро сходится, работает на больших данных.\n",
        "- **Пример:**\n",
        "  ```python\n",
        "  from tensorflow.keras.optimizers import Adam\n",
        "  optimizer = Adam(learning_rate=0.001)\n",
        "  ```\n",
        "- **Аналогия:** Adam — как GPS, который подстраивает маршрут в зависимости от пробок."
      ]
    },
    {
      "cell_type": "markdown",
      "metadata": {},
      "source": [
        "## 🛡️ Регуляризация для борьбы с переобучением\n",
        "### 1. L2-регуляризация (Ridge)\n",
        "- **Что это?** Добавление штрафа за большие веса:\n",
        "  ```python\n",
        "  model.add(Dense(64, activation='relu', kernel_regularizer='l2'))\n",
        "  ```\n",
        "- **Зачем?** Чтобы модель не запоминала данные, а находила общие закономерности.\n",
        "- **Аналогия:** L2-регуляризация — как ограничение на расходы: вы не можете тратить слишком много на отдельные параметры.\n",
        "\n",
        "### 2. Dropout\n",
        "- **Что это?** Случайное отключение нейронов во время обучения.\n",
        "- **Зачем?** Чтобы модель не зависела от конкретных нейронов.\n",
        "- **Пример:**\n",
        "  ```python\n",
        "  from tensorflow.keras.layers import Dropout\n",
        "  model.add(Dropout(0.5))  # Отключает 50% нейронов\n",
        "  ```\n",
        "- **Аналогия:** Dropout — как тренировка команды без одного игрока: остальные учатся компенсировать его отсутствие."
      ]
    },
    {
      "cell_type": "markdown",
      "metadata": {},
      "source": [
        "### 3. Batch Normalization\n",
        "- **Что это?** Нормализация входных данных на каждом слое.\n",
        "- **Зачем?** Ускоряет обучение и снижает чувствительность к инициализации весов.\n",
        "- **Пример:**\n",
        "  ```python\n",
        "  from tensorflow.keras.layers import BatchNormalization\n",
        "  model.add(BatchNormalization())\n",
        "  ```\n",
        "- **Аналогия:** BatchNorm — как коррекция зрения: вы всегда видите четко, независимо от освещения.\n",
        "\n",
        "### 4. Early Stopping\n",
        "- **Что это?** Остановка обучения, если качество на валидации не улучшается.\n",
        "- **Пример:**\n",
        "  ```python\n",
        "  from tensorflow.keras.callbacks import EarlyStopping\n",
        "  early_stop = EarlyStopping(monitor='val_loss', patience=3)\n",
        "  model.fit(X_train, y_train, callbacks=[early_stop])\n",
        "  ```\n",
        "- **Аналогия:** Early Stopping — как перестать учить, если вы уже знаете тему, а новые данные не помогают."
      ]
    },
    {
      "cell_type": "markdown",
      "metadata": {},
      "source": [
        "## 🧪 Практика: Обучение с регуляризацией\n",
        "### Шаг 1: Загрузка и подготовка данных"
      ]
    },
    {
      "cell_type": "code",
      "execution_count": null,
      "metadata": {},
      "outputs": [],
      "source": [
        "from sklearn.datasets import fetch_openml\n",
        "import numpy as np\n",
        "\n",
        "# Загрузка MNIST\n",
        "mnist = fetch_openml('mnist_784', version=1)\n",
        "X, y = mnist['data'], mnist['target']\n",
        "X = X / 255.0  # Нормализация\n",
        "y = np.eye(10)[y.astype(int)]  # One-hot кодирование\n",
        "\n",
        "# Разделение\n",
        "from sklearn.model_selection import train_test_split\n",
        "X_train, X_test = X[:60000], X[60000:]\n",
        "y_train, y_test = y[:60000], y[60000:]"
      ]
    },
    {
      "cell_type": "markdown",
      "metadata": {},
      "source": [
        "### Шаг 2: Создание модели с BatchNorm и Dropout"
      ]
    },
    {
      "cell_type": "code",
      "execution_count": null,
      "metadata": {},
      "outputs": [],
      "source": [
        "from tensorflow.keras.models import Sequential\n",
        "from tensorflow.keras.layers import Dense, Dropout, BatchNormalization\n",
        "\n",
        "model = Sequential([\n",
        "    Dense(128, activation='relu', input_shape=(784,)),\n",
        "    BatchNormalization(),\n",
        "    Dropout(0.5),\n",
        "    Dense(64, activation='relu'),\n",
        "    BatchNormalization(),\n",
        "    Dropout(0.5),\n",
        "    Dense(10, activation='softmax')\n",
        "])"
      ]
    },
    {
      "cell_type": "markdown",
      "metadata": {},
      "source": [
        "### Шаг 3: Компиляция и обучение"
      ]
    },
    {
      "cell_type": "code",
      "execution_count": null,
      "metadata": {},
      "outputs": [],
      "source": [
        "model.compile(optimizer='adam',\n",
        "              loss='categorical_crossentropy',\n",
        "              metrics=['accuracy'])\n",
        "\n",
        "history = model.fit(X_train, y_train, \n",
        "                  epochs=20,\n",
        "                  batch_size=128,\n",
        "                  validation_data=(X_test, y_test))"
      ]
    },
    {
      "cell_type": "markdown",
      "metadata": {},
      "source": [
        "### Шаг 4: Визуализация обучения"
      ]
    },
    {
      "cell_type": "code",
      "execution_count": null,
      "metadata": {},
      "outputs": [],
      "source": [
        "import matplotlib.pyplot as plt\n",
        "\n",
        "# График точности\n",
        "plt.plot(history.history['accuracy'], label='Train Accuracy')\n",
        "plt.plot(history.history['val_accuracy'], label='Test Accuracy')\n",
        "plt.legend()\n",
        "plt.title('Accuracy по эпохам')\n",
        "plt.xlabel('Эпохи')\n",
        "plt.ylabel('Accuracy')\n",
        "plt.grid(True)\n",
        "plt.show()"
      ]
    },
    {
      "cell_type": "markdown",
      "metadata": {},
      "source": [
        "## 📈 Как работает BatchNorm?\n",
        "- **BatchNorm:** Нормализует выходы слоев, чтобы среднее было 0, дисперсия — 1.\n",
        "- **Зачем?** Ускоряет обучение, снижает зависимость от инициализации весов.\n",
        "- **Пример:**\n",
        "  ```python\n",
        "  from tensorflow.keras.layers import BatchNormalization\n",
        "  model.add(BatchNormalization())\n",
        "  ```\n",
        "- **Аналогия:** BatchNorm — как автоматическая настройка рояля: вы играете, и инструмент сам подстраивается под вас."
      ]
    },
    {
      "cell_type": "markdown",
      "metadata": {},
      "source": [
        "## 📊 Как работает Dropout?\n",
        "- **Dropout:** Во время обучения случайно отключает нейроны, чтобы предотвратить переобучение.\n",
        "- **Пример:**\n",
        "  ```python\n",
        "  from tensorflow.keras.layers import Dropout\n",
        "  model.add(Dropout(0.5))  # Отключает 50% нейронов\n",
        "  ```\n",
        "- **Аналогия:** Dropout — как тренировка команды без одного игрока: остальные учатся играть лучше."
      ]
    },
    {
      "cell_type": "markdown",
      "metadata": {},
      "source": [
        "## 📈 Как работает Adam?\n",
        "- **Adam:** Адаптивный оптимизатор, который меняет learning rate для каждого параметра.\n",
        "- **Преимущества:** Быстрое обучение, работает на больших данных.\n",
        "- **Параметры:**\n",
        "  - `learning_rate`: Скорость обучения.\n",
        "  - `beta_1`, `beta_2`: Параметры для вычисления моментов.\n",
        "- **Пример:**\n",
        "  ```python\n",
        "  from tensorflow.keras.optimizers import Adam\n",
        "  optimizer = Adam(learning_rate=0.001)\n",
        "  model.compile(optimizer=optimizer, loss='categorical_crossentropy', metrics=['accuracy'])\n",
        "  ```\n",
        "- **Аналогия:** Adam — как инструктор, который подстраивает темп под ваши способности."
      ]
    },
    {
      "cell_type": "markdown",
      "metadata": {},
      "source": [
        "## 📊 Как выбрать лучшие гиперпараметры?\n",
        "- **GridSearchCV:** Перебор всех возможных комбинаций.\n",
        "- **RandomizedSearchCV:** Случайный перебор (быстрее, чем GridSearch).\n",
        "- **Пример:**\n",
        "  ```python\n",
        "  from sklearn.model_selection import GridSearchCV\n",
        "  param_grid = {'learning_rate': [0.001, 0.01], 'batch_size': [32, 64]}\n",
        "  grid = GridSearchCV(model, param_grid, cv=3, scoring='accuracy')\n",
        "  grid.fit(X_train, y_train)\n",
        "  ```\n",
        "- **Аналогия:** Подбор гиперпараметров — как поиск идеального рецепта через эксперименты с ингредиентами."
      ]
    },
    {
      "cell_type": "markdown",
      "metadata": {},
      "source": [
        "## 📝 Домашнее задание\n",
        "**Задача 1:** Попробуйте разные значения Dropout: 0.2, 0.5, 0.7. Как меняется точность?\n",
        "**Задача 2:** Добавьте L2-регуляризацию в первый слой и сравните результаты.\n",
        "**Задача 3:** Напишите отчет (200–300 слов), где:\n",
        "- Опишите, как вы использовали BatchNorm и Dropout.\n",
        "- Сравните точность модели до и после регуляризации.\n",
        "- Объясните, почему эти методы помогают.\n",
        "- Приведите примеры, где они полезны (например, в больших нейросетях, на малых данных)."
      ]
    },
    {
      "cell_type": "code",
      "execution_count": null,
      "metadata": {},
      "outputs": [],
      "source": [
        "# Ваш код здесь\n",
        "from tensorflow.keras.models import Sequential\n",
        "from tensorflow.keras.layers import Dense, Dropout, BatchNormalization\n",
        "\n",
        "# Модель с разными Dropout\n",
        "def build_model(dropout_rate=0.5):\n",
        "    model = Sequential([\n",
        "        Dense(128, activation='relu', input_shape=(784,)),\n",
        "        BatchNormalization(),\n",
        "        Dropout(dropout_rate),\n",
        "        Dense(64, activation='relu'),\n",
        "        Dense(10, activation='softmax')\n",
        "    ])\n",
        "    model.compile(optimizer='adam',\n",
        "                  loss='categorical_crossentropy',\n",
        "                  metrics=['accuracy'])\n",
        "    return model\n",
        "\n",
        "# Обучение с разными Dropout\n",
        "model_0_2 = build_model(0.2)\n",
        "history_0_2 = model_0_2.fit(X_train, y_train, \n",
        "                           epochs=10,\n",
        "                           batch_size=64,\n",
        "                           validation_data=(X_test, y_test))"
      ]
    },
    {
      "cell_type": "code",
      "execution_count": null,
      "metadata": {},
      "outputs": [],
      "source": [
        "# Обучение с L2-регуляризацией\n",
        "from tensorflow.keras.regularizers import l2\n",
        "\n",
        "model_l2 = Sequential([\n",
        "    Dense(128, activation='relu', input_shape=(784,), kernel_regularizer=l2(0.001)),\n",
        "    BatchNormalization(),\n",
        "    Dense(64, activation='relu'),\n",
        "    Dense(10, activation='softmax')\n",
        "])\n",
        "\n",
        "model_l2.compile(optimizer='adam',\n",
        "                loss='categorical_crossentropy',\n",
        "                metrics=['accuracy'])\n",
        "history_l2 = model_l2.fit(X_train, y_train, \n",
        "                         epochs=10,\n",
        "                         batch_size=64,\n",
        "                         validation_data=(X_test, y_test))"
      ]
    },
    {
      "cell_type": "code",
      "execution_count": null,
      "metadata": {},
      "outputs": [],
      "source": [
        "# Сравнение точности\n",
        "import matplotlib.pyplot as plt\n",
        "\n",
        "plt.plot(history_0_2.history['val_accuracy'], label='Dropout 0.2')\n",
        "plt.plot(history_l2.history['val_accuracy'], label='L2 Regularization')\n",
        "plt.legend()\n",
        "plt.title('Сравнение регуляризации')\n",
        "plt.xlabel('Эпохи')\n",
        "plt.ylabel('Accuracy')\n",
        "plt.grid(True)\n",
        "plt.show()"
      ]
    },
    {
      "cell_type": "markdown",
      "metadata": {},
      "source": [
        "## ✅ Рекомендации по выполнению\n",
        "- **Задача 1:** После изменения Dropout следите за `val_loss` и `val_accuracy`.\n",
        "- **Задача 2:** Добавьте L2-регуляризацию в разные слои и сравните результаты.\n",
        "- **Подсказка:** Используйте `model.summary()` для анализа архитектуры."
      ]
    }
  ],
  "metadata": {
    "kernelspec": {
      "display_name": "Python 3",
      "language": "python",
      "name": "python3"
    },
    "language_info": {
      "codemirror_mode": {
        "name": "ipython",
        "version": 3
      },
      "file_extension": ".py",
      "mimetype": "text/x-python",
      "name": "python",
      "nbconvert_exporter": "python",
      "pygments_lexer": "ipython3",
      "version": "3.8.5"
    }
  },
  "nbformat": 4,
  "nbformat_minor": 4
}
