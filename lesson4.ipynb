{
  "cells": [
    {
      "cell_type": "markdown",
      "metadata": {},
      "source": [
        "# 📁 Урок 4: Работа с файлами и обработка ошибок в Python\n",
        "\n",
        "**Цель урока:**\n",
        "- Научиться открывать, читать и записывать файлы.\n",
        "- Освоить работу с контекстным менеджером `with`.\n",
        "- Понять, как правильно обрабатывать ошибки с помощью `try-except`.\n",
        "- Выполнить практические задания на чтение/запись файлов и обработку исключений."
      ]
    },
    {
      "cell_type": "markdown",
      "metadata": {},
      "source": [
        "## 📁 1. Работа с файлами в Python"
      ]
    },
    {
      "cell_type": "markdown",
      "metadata": {},
      "source": [
        "### Что такое файл?\n",
        "\n",
        "Файл — это место хранения данных на диске. В Python мы можем открывать, читать и записывать данные в файлы — например, текстовые (.txt), CSV, логи, конфигурации и т.д.\n",
        "\n",
        "### Функция `open()`\n",
        "\n",
        "Для открытия файла используется функция `open()`:\n",
        "```python\n",
        "file = open(\"example.txt\", \"r\")\n",
        "```\n",
        "- `r` — режим чтения (read)\n",
        "- `w` — запись (write) — перезапишет существующий файл или создаст новый\n",
        "- `a` — добавление (append) — дописывает в конец файла\n",
        "- `x` — создание нового файла (ошибка, если уже существует)\n",
        "- `b` — бинарный режим (например, для изображений)"
      ]
    },
    {
      "cell_type": "code",
      "execution_count": null,
      "metadata": {},
      "outputs": [],
      "source": [
        "# Пример открытия файла на чтение\n",
        "file = open(\"example.txt\", \"r\")\n",
        "content = file.read()\n",
        "print(content)\n",
        "file.close()"
      ]
    },
    {
      "cell_type": "markdown",
      "metadata": {},
      "source": [
        "### 💡 Почему важно закрывать файл?\n",
        "\n",
        "Если вы не закроете файл после работы с ним, он может оставаться заблокированным системой, а также будут расходоваться ресурсы оперативной памяти.\n",
        "\n",
        "Хорошая практика: всегда вызывайте `file.close()` после использования."
      ]
    },
    {
      "cell_type": "markdown",
      "metadata": {},
      "source": [
        "### 🧪 Практика: Откройте и прочитайте файл"
      ]
    },
    {
      "cell_type": "code",
      "execution_count": null,
      "metadata": {},
      "outputs": [],
      "source": [
        "# Создайте файл 'example.txt' и заполните его текстом\n",
        "# Затем прочитайте его содержимое и выведите на экран"
      ]
    },
    {
      "cell_type": "markdown",
      "metadata": {},
      "source": [
        "### 🔁 Чтение построчно"
      ]
    },
    {
      "cell_type": "code",
      "execution_count": null,
      "metadata": {},
      "outputs": [],
      "source": [
        "file = open(\"example.txt\", \"r\")\n",
        "for line in file:\n",
        "    print(line.strip())  # убираем лишние пробелы и переносы строк\n",
        "file.close()"
      ]
    },
    {
      "cell_type": "markdown",
      "metadata": {},
      "source": [
        "### 🖋 Запись в файл"
      ]
    },
    {
      "cell_type": "code",
      "execution_count": null,
      "metadata": {},
      "outputs": [],
      "source": [
        "# Перезапись содержимого\n",
        "file = open(\"example.txt\", \"w\")\n",
        "file.write(\"Привет, мир!\\n\")\n",
        "file.write(\"Вторая строка.\")\n",
        "file.close()"
      ]
    },
    {
      "cell_type": "markdown",
      "metadata": {},
      "source": [
        "### ➕ Добавление в файл"
      ]
    },
    {
      "cell_type": "code",
      "execution_count": null,
      "metadata": {},
      "outputs": [],
      "source": [
        "# Добавление текста в конец файла\n",
        "file = open(\"example.txt\", \"a\")\n",
        "file.write(\"\\nНовая строка.\")\n",
        "file.close()"
      ]
    },
    {
      "cell_type": "markdown",
      "metadata": {},
      "source": [
        "### 🛠 Контекстный менеджер `with`"
      ]
    },
    {
      "cell_type": "code",
      "execution_count": null,
      "metadata": {},
      "outputs": [],
      "source": [
        "# with автоматически закрывает файл\n",
        "with open(\"example.txt\", \"r\") as file:\n",
        "    content = file.read()\n",
        "    print(content)\n",
        "# файл закрыт автоматически"
      ]
    },
    {
      "cell_type": "markdown",
      "metadata": {},
      "source": [
        "### 🧠 Преимущества `with`:\n",
        "- Не нужно вручную вызывать `close()`\n",
        "- Автоматически освобождает ресурсы даже при возникновении ошибки"
      ]
    },
    {
      "cell_type": "markdown",
      "metadata": {},
      "source": [
        "### 🧪 Практика: Работа с `with`"
      ]
    },
    {
      "cell_type": "code",
      "execution_count": null,
      "metadata": {},
      "outputs": [],
      "source": [
        "# Используйте with для чтения файла и вывода каждой строки"
      ]
    },
    {
      "cell_type": "code",
      "execution_count": null,
      "metadata": {},
      "outputs": [],
      "source": [
        "# Используйте with для записи нескольких строк в файл"
      ]
    },
    {
      "cell_type": "markdown",
      "metadata": {},
      "source": [
        "## ⚠️ 2. Обработка ошибок"
      ]
    },
    {
      "cell_type": "markdown",
      "metadata": {},
      "source": [
        "### Проблема: Что произойдет, если файл не найден?"
      ]
    },
    {
      "cell_type": "code",
      "execution_count": null,
      "metadata": {},
      "outputs": [],
      "source": [
        "# Это вызовет ошибку FileNotFoundError\n",
        "file = open(\"non_existing_file.txt\", \"r\")"
      ]
    },
    {
      "cell_type": "markdown",
      "metadata": {},
      "source": [
        "### 🛑 Что такое исключение?\n",
        "\n",
        "Исключение — это ошибка, которая происходит во время выполнения программы. Если её не обработать, программа аварийно завершится."
      ]
    },
    {
      "cell_type": "markdown",
      "metadata": {},
      "source": [
        "### 🛠 Конструкция `try-except`"
      ]
    },
    {
      "cell_type": "code",
      "execution_count": null,
      "metadata": {},
      "outputs": [],
      "source": [
        "try:\n",
        "    file = open(\"non_existing_file.txt\", \"r\")\n",
        "except FileNotFoundError:\n",
        "    print(\"Файл не найден.\")"
      ]
    },
    {
      "cell_type": "markdown",
      "metadata": {},
      "source": [
        "### 🧩 Какие ещё типы исключений есть?\n",
        "| Исключение | Описание |\n",
        "|----------|-----------|\n",
        "| `FileNotFoundError` | Файл не найден |\n",
        "| `PermissionError` | Нет прав доступа |\n",
        "| `ValueError` | Неверное значение |\n",
        "| `ZeroDivisionError` | Деление на ноль |\n",
        "| `IOError` | Ошибка ввода-вывода"
      ]
    },
    {
      "cell_type": "markdown",
      "metadata": {},
      "source": [
        "### 🧪 Пример: Обработка нескольких исключений"
      ]
    },
    {
      "cell_type": "code",
      "execution_count": null,
      "metadata": {},
      "outputs": [],
      "source": [
        "try:\n",
        "    number = int(input(\"Введите число: \"))\n",
        "    result = 10 / number\n",
        "except ValueError:\n",
        "    print(\"Ошибка: нужно ввести число.\")\n",
        "except ZeroDivisionError:\n",
        "    print(\"Ошибка: деление на ноль.\")"
      ]
    },
    {
      "cell_type": "markdown",
      "metadata": {},
      "source": [
        "### 🧱 Блоки `else` и `finally`"
      ]
    },
    {
      "cell_type": "code",
      "execution_count": null,
      "metadata": {},
      "outputs": [],
      "source": [
        "try:\n",
        "    file = open(\"example.txt\", \"r\")\n",
        "except FileNotFoundError:\n",
        "    print(\"Файл не найден.\")\n",
        "else:\n",
        "    print(file.read())\n",
        "    file.close()\n",
        "finally:\n",
        "    print(\"Операция завершена.\")"
      ]
    },
    {
      "cell_type": "markdown",
      "metadata": {},
      "source": [
        "### 💡 Когда что выполняется:\n",
        "- `try`: основная логика\n",
        "- `except`: если произошла ошибка\n",
        "- `else`: если ошибок не было\n",
        "- `finally`: всегда, вне зависимости от результата"
      ]
    },
    {
      "cell_type": "markdown",
      "metadata": {},
      "source": [
        "### 🧪 Практика: Обработка ошибок при работе с файлами"
      ]
    },
    {
      "cell_type": "code",
      "execution_count": null,
      "metadata": {},
      "outputs": [],
      "source": [
        "# Напишите программу, которая открывает файл, считывает его содержимое,\n",
        "# и обрабатывает возможные ошибки"
      ]
    },
    {
      "cell_type": "code",
      "execution_count": null,
      "metadata": {},
      "outputs": [],
      "source": [
        "# Напишите программу, которая запрашивает имя файла, открывает его,\n",
        "# и выводит сообщение, если файл не найден"
      ]
    },
    {
      "cell_type": "markdown",
      "metadata": {},
      "source": [
        "### 📝 Рекомендации по обработке ошибок:\n",
        "- Ловите только те ошибки, которые вы ожидаете\n",
        "- Избегайте общего `except:` без указания типа ошибки\n",
        "- Используйте `finally` для очистки ресурсов"
      ]
    },
    {
      "cell_type": "markdown",
      "metadata": {},
      "source": [
        "## 🧪 3. Мини-практика"
      ]
    },
    {
      "cell_type": "markdown",
      "metadata": {},
      "source": [
        "### Задания:"
      ]
    },
    {
      "cell_type": "markdown",
      "metadata": {},
      "source": [
        "1. Создать файл и записать в него несколько строк"
      ]
    },
    {
      "cell_type": "code",
      "execution_count": null,
      "metadata": {},
      "outputs": [],
      "source": [
        "# Реализуйте здесь"
      ]
    },
    {
      "cell_type": "markdown",
      "metadata": {},
      "source": [
        "2. Прочитать файл и вывести содержимое построчно"
      ]
    },
    {
      "cell_type": "code",
      "execution_count": null,
      "metadata": {},
      "outputs": [],
      "source": [
        "# Реализуйте здесь"
      ]
    },
    {
      "cell_type": "markdown",
      "metadata": {},
      "source": [
        "3. Добавить обработку ошибок на случай, если файл не существует"
      ]
    },
    {
      "cell_type": "code",
      "execution_count": null,
      "metadata": {},
      "outputs": [],
      "source": [
        "# Реализуйте здесь"
      ]
    },
    {
      "cell_type": "markdown",
      "metadata": {},
      "source": [
        "## 🏠 Домашнее задание"
      ]
    },
    {
      "cell_type": "markdown",
      "metadata": {},
      "source": [
        "Напишите программу, которая:\n",
        "1. Запрашивает имя файла у пользователя\n",
        "2. Открывает файл и считывает его содержимое:\n",
        "   - Если файла нет — выводит сообщение об ошибке\n",
        "3. Запрашивает у пользователя текст и дописывает его в файл\n",
        "4. После записи снова читает и выводит содержимое файла\n",
        "5. (Дополнительно) Записывает текст в формате:\n",
        "   `[время записи] текст`\n",
        "   Для этого используйте модуль `datetime`"
      ]
    },
    {
      "cell_type": "code",
      "execution_count": null,
      "metadata": {},
      "outputs": [],
      "source": [
        "# Реализуйте здесь домашнее задание"
      ]
    },
    {
      "cell_type": "markdown",
      "metadata": {},
      "source": [
        "## 📦 Пример импорта datetime"
      ]
    },
    {
      "cell_type": "code",
      "execution_count": null,
      "metadata": {},
      "outputs": [],
      "source": [
        "from datetime import datetime\n",
        "\n",
        "now = datetime.now().strftime(\"%Y-%m-%d %H:%M:%S\")\n",
        "text = input(\"Введите текст: \")\n",
        "with open(\"log.txt\", \"a\") as f:\n",
        "    f.write(f\"[{now}] {text}\\n\")"
      ]
    },
    {
      "cell_type": "markdown",
      "metadata": {},
      "source": [
        "## 🎯 Итог"
      ]
    },
    {
      "cell_type": "markdown",
      "metadata": {},
      "source": [
        "Вы научились:\n",
        "- Открывать, читать и записывать файлы\n",
        "- Использовать `with` для безопасной работы с файлами\n",
        "- Обрабатывать ошибки с помощью `try-except`\n",
        "- Использовать блоки `else` и `finally`\n",
        "- Логировать действия с временными метками через `datetime`\n",
        "\n",
        "Эти навыки позволят вам работать с данными, сохранять результаты, а также создавать надёжные программы, которые не падают при ошибках."
      ]
    },
    {
      "cell_type": "markdown",
      "metadata": {},
      "source": [
        "## 🧠 Советы новичкам"
      ]
    },
    {
      "cell_type": "markdown",
      "metadata": {},
      "source": [
        "- Используйте `with` — это лучший способ работы с файлами\n",
        "- Проверяйте, существует ли файл перед открытием\n",
        "- Указывайте конкретный тип исключения (`except FileNotFoundError`) вместо общего `except`\n",
        "- Добавляйте комментарии в код, особенно при работе с файлами\n",
        "- Тестируйте разные сценарии: файл не существует, нет прав, файл повреждён"
      ]
    },
    {
      "cell_type": "markdown",
      "metadata": {},
      "source": [
        "## 📌 Дополнительная информация"
      ]
    },
    {
      "cell_type": "markdown",
      "metadata": {},
      "source": [
        "- `os.path.exists('filename')` — проверяет существование файла\n",
        "- `file.tell()` — текущая позиция курсора\n",
        "- `file.seek(0)` — перемещает курсор в начало файла\n",
        "- Можно использовать `json` или `pickle` для работы с файлами и сериализацией данных"
      ]
    },
    {
      "cell_type": "markdown",
      "metadata": {},
      "source": [
        "## 🧪 Расширенная практика"
      ]
    },
    {
      "cell_type": "markdown",
      "metadata": {},
      "source": [
        "1. Напишите программу, которая:\n",
        "   - Считывает список слов из файла\n",
        "   - Запрашивает у пользователя одно слово\n",
        "   - Сохраняет в другой файл все слова, содержащие это слово"
      ]
    },
    {
      "cell_type": "code",
      "execution_count": null,
      "metadata": {},
      "outputs": [],
      "source": [
        "# Реализуйте здесь"
      ]
    },
    {
      "cell_type": "markdown",
      "metadata": {},
      "source": [
        "2. Напишите программу, которая:\n",
        "   - Читает файл\n",
        "   - Подсчитывает количество слов\n",
        "   - Сохраняет результат в лог-файл с временной меткой"
      ]
    },
    {
      "cell_type": "code",
      "execution_count": null,
      "metadata": {},
      "outputs": [],
      "source": [
        "# Реализуйте здесь"
      ]
    },
    {
      "cell_type": "markdown",
      "metadata": {},
      "source": [
        "3. Напишите программу, которая:\n",
        "   - Позволяет пользователю выбрать: создать, прочитать, удалить файл\n",
        "   - Использует try-except для обработки всех возможных ошибок"
      ]
    },
    {
      "cell_type": "code",
      "execution_count": null,
      "metadata": {},
      "outputs": [],
      "source": [
        "# Реализуйте здесь"
      ]
    },
    {
      "cell_type": "markdown",
      "metadata": {},
      "source": [
        "## 🎉 Заключение"
      ]
    },
    {
      "cell_type": "markdown",
      "metadata": {},
      "source": [
        "Сегодня вы освоили важнейшие инструменты для работы с файлами и обработки ошибок. Теперь вы можете:\n",
        "- Создавать, читать и записывать файлы\n",
        "- Предотвращать краш программы при ошибках\n",
        "- Логировать действия с файлами\n",
        "- Работать с большими объёмами данных\n",
        "\n",
        "На следующем занятии: кортежи, множества, работа с вложенными структурами данных!"
      ]
    }
  ],
  "metadata": {
    "kernelspec": {
      "display_name": "Python 3",
      "language": "python",
      "name": "python3"
    },
    "language_info": {
      "codemirror_mode": {
        "name": "ipython",
        "version": 3
      },
      "file_extension": ".py",
      "mimetype": "text/x-python",
      "name": "python",
      "nbconvert_exporter": "python",
      "pygments_lexer": "ipython3",
      "version": "3.8"
    }
  },
  "nbformat": 4,
  "nbformat_minor": 5
}