{
  "cells": [
    {
      "cell_type": "markdown",
      "metadata": {},
      "source": [
        "# 🧠 Урок 11: Функции высшего порядка и лямбда-функции (Расширенная теория)\n",
        "**Цель урока:** Углубить понимание функций высшего порядка и лямбда-функций, научиться использовать их в сложных сценариях, а также изучить продвинутые техники работы с `map`, `filter`, `reduce` и композицией функций.\n",
        "\n",
        "## 📌 Функции как объекты первого класса\n",
        "Функции в Python — **объекты первого класса**, что означает:\n",
        "- Их можно передавать как аргументы другим функциям.\n",
        "- Их можно возвращать из других функций.\n",
        "- Их можно хранить в переменных и структурах данных (например, списках или словарях) [[5]].\n",
        "\n",
        "**Пример:**\n",
        "```python\n",
        "def greet(name):\n",
        "    return f\"Hello, {name}!\"\n",
        "\n",
        "# Сохраняем функцию в переменной\n",
        "say_hello = greet\n",
        "print(say_hello(\"Alice\"))  # Hello, Alice!\n",
        "\n",
        "# Передача функции в другую функцию\n",
        "def apply_function(func, data):\n",
        "    return func(data)\n",
        "\n",
        "result = apply_function(greet, \"Bob\")\n",
        "print(result)  # Hello, Bob!\n",
        "```\n",
        "\n",
        "💡 Это свойство позволяет писать гибкий и переиспользуемый код, особенно в контексте функционального программирования [[2]]."
      ]
    },
    {
      "cell_type": "markdown",
      "metadata": {},
      "source": [
        "## 🧱 Функции высшего порядка\n",
        "**Функции высшего порядка** — это функции, которые:\n",
        "- Принимают другие функции как аргументы.\n",
        "- Возвращают функции как результат.\n",
        "\n",
        "**Пример 1: Композиция функций**\n",
        "```python\n",
        "def compose(f, g):\n",
        "    return lambda x: f(g(x))\n",
        "\n",
        "# Две функции: удвоение и добавление 1\n",
        "double = lambda x: x * 2\n",
        "add_one = lambda x: x + 1\n",
        "\n",
        "# Композиция: double(add_one(x))\n",
        "composed = compose(double, add_one)\n",
        "print(composed(3))  # 8\n",
        "```\n",
        "\n",
        "**Пример 2: Функции, возвращающие функции**\n",
        "```python\n",
        "def create_multiplier(n):\n",
        "    return lambda x: x * n\n",
        "\n",
        "multiply_by_3 = create_multiplier(3)\n",
        "print(multiply_by_3(4))  # 12\n",
        "```\n",
        "\n",
        "💡 Такой подход используется для создания гибких шаблонов поведения, например, в библиотеках машинного обучения или анализа данных [[1]]."
      ]
    },
    {
      "cell_type": "markdown",
      "metadata": {},
      "source": [
        "## 🧪 Стандартные функции: `map`, `filter`, `reduce`\n",
        "### 1. `map(function, iterable)` — преобразование данных\n",
        "Применяет функцию ко всем элементам итерируемого объекта.\n",
        "\n",
        "**Пример:** Преобразовать строки в числа:\n",
        "```python\n",
        "str_numbers = [\"1\", \"2\", \"3\"]\n",
        "int_numbers = list(map(int, str_numbers))\n",
        "print(int_numbers)  # [1, 2, 3]\n",
        "```\n",
        "\n",
        "**Пример:** Обработка сложных структур:\n",
        "```python\n",
        "data = [(1, 2), (3, 4), (5, 6)]\n",
        "sums = list(map(lambda x: x[0] + x[1], data))\n",
        "print(sums)  # [3, 7, 11]\n",
        "```\n",
        "\n",
        "### 2. `filter(function, iterable)` — фильтрация данных\n",
        "Оставляет элементы, для которых функция возвращает `True`.\n",
        "\n",
        "**Пример:** Оставить только положительные числа:\n",
        "```python\n",
        "numbers = [-1, 2, -3, 4, 5]\n",
        "positives = list(filter(lambda x: x > 0, numbers))\n",
        "print(positives)  # [2, 4, 5]\n",
        "```\n",
        "\n",
        "**Пример:** Фильтрация по длине строк:\n",
        "```python\n",
        "words = [\"apple\", \"banana\", \"cherry\", \"date\"]\n",
        "long_words = list(filter(lambda word: len(word) > 5, words))\n",
        "print(long_words)  # ['banana', 'cherry']\n",
        "```\n",
        "\n",
        "### 3. `reduce(function, iterable)` — агрегация данных\n",
        "Сводит элементы к одному значению (например, сумма, произведение).\n",
        "\n",
        "**Пример:** Найти максимальное число:\n",
        "```python\n",
        "from functools import reduce\n",
        "numbers = [3, 1, 4, 1, 5, 9]\n",
        "max_num = reduce(lambda a, b: a if a > b else b, numbers)\n",
        "print(max_num)  # 9\n",
        "```\n",
        "\n",
        "**Пример:** Сумма квадратов чётных чисел:\n",
        "```python\n",
        "numbers = [1, 2, 3, 4, 5, 6]\n",
        "total = reduce(\n",
        "    lambda acc, x: acc + x**2 if x % 2 == 0 else acc,\n",
        "    numbers,\n",
        "    0\n",
        ")\n",
        "print(total)  # 56 (4 + 16 + 36)\n",
        "```\n",
        "\n",
        "💡 `reduce()` особенно полезна для обработки больших наборов данных, например, в ML-пайплайнах [[9]]."
      ]
    },
    {
      "cell_type": "markdown",
      "metadata": {},
      "source": [
        "## 🧩 Лямбда-функции: глубокое погружение\n",
        "`lambda` — это способ создать короткую функцию без имени. Используется в функциях высшего порядка.\n",
        "\n",
        "**Пример 1: Лямбда с несколькими аргументами**\n",
        "```python\n",
        "power = lambda base, exp: base ** exp\n",
        "print(power(2, 3))  # 8\n",
        "```\n",
        "\n",
        "**Пример 2: Лямбда с условием**\n",
        "```python\n",
        "classify = lambda x: \"even\" if x % 2 == 0 else \"odd\"\n",
        "print(classify(5))  # odd\n",
        "```\n",
        "\n",
        "**Пример 3: Лямбда в словаре**\n",
        "```python\n",
        "operations = {\n",
        "    \"add\": lambda x, y: x + y,\n",
        "    \"subtract\": lambda x, y: x - y,\n",
        "    \"multiply\": lambda x, y: x * y\n",
        "}\n",
        "print(operations[\"multiply\"](3, 4))  # 12\n",
        "```\n",
        "\n",
        "💡 Лямбда-функции часто используются в пайплайнах обработки данных, например, в pandas для `apply()` [[3]]."
      ]
    },
    {
      "cell_type": "markdown",
      "metadata": {},
      "source": [
        "## 🧪 Практика: Продвинутые задачи\n",
        "**Задание 1:** Напишите функцию `pipeline(data, *funcs)`, которая применяет последовательно переданные функции к данным.\n",
        "```python\n",
        "def pipeline(data, *funcs):\n",
        "    for func in funcs:\n",
        "        data = func(data)\n",
        "    return data\n",
        "\n",
        "# Пример использования\n",
        "result = pipeline(\n",
        "    [1, 2, 3, 4],\n",
        "    lambda x: map(lambda y: y * 2, x),\n",
        "    lambda x: filter(lambda y: y > 5, x),\n",
        "    lambda x: reduce(lambda a, b: a + b, x)\n",
        ")\n",
        "print(result)  # 14 (2*2=4, 3*2=6, 4*2=8 → 6+8=14)\n",
        "```"
      ]
    },
    {
      "cell_type": "markdown",
      "metadata": {},
      "source": [
        "**Задание 2:** Объедините `map()` и `filter()` для выбора квадратов чётных чисел из `[1, 2, 3, 4, 5, 6]`."
      ]
    },
    {
      "cell_type": "code",
      "execution_count": null,
      "metadata": {},
      "outputs": [],
      "source": [
        "# Ваш код здесь\n",
        "numbers = [1, 2, 3, 4, 5, 6]\n",
        "result = list(map(lambda x: x**2, filter(lambda x: x % 2 == 0, numbers)))\n",
        "print(result)  # Ожидаемый результат: [4, 16, 36]"
      ]
    },
    {
      "cell_type": "markdown",
      "metadata": {},
      "source": [
        "**Задание 3:** Посчитайте произведение всех чисел в списке `[2, 3, 4]` с помощью `reduce()`."
      ]
    },
    {
      "cell_type": "code",
      "execution_count": null,
      "metadata": {},
      "outputs": [],
      "source": [
        "# Ваш код здесь\n",
        "from functools import reduce\n",
        "numbers = [2, 3, 4]\n",
        "product = reduce(lambda x, y: x * y, numbers)\n",
        "print(product)  # Ожидаемый результат: 24"
      ]
    },
    {
      "cell_type": "markdown",
      "metadata": {},
      "source": [
        "## 📝 Домашнее задание\n",
        "**Задача 1:** Преобразуйте список строк `['hello', 'world', 'python']` в список их длин с помощью `map()`."
      ]
    },
    {
      "cell_type": "code",
      "execution_count": null,
      "metadata": {},
      "outputs": [],
      "source": [
        "# Ваш код здесь\n",
        "words = ['hello', 'world', 'python']\n",
        "lengths = list(map(len, words))\n",
        "print(lengths)  # Ожидаемый результат: [5, 5, 6]"
      ]
    },
    {
      "cell_type": "markdown",
      "metadata": {},
      "source": [
        "**Задача 2:** Оставьте только положительные числа из `[-1, 2, -3, 4, 5]` с помощью `filter()`."
      ]
    },
    {
      "cell_type": "code",
      "execution_count": null,
      "metadata": {},
      "outputs": [],
      "source": [
        "# Ваш код здесь\n",
        "numbers = [-1, 2, -3, 4, 5]\n",
        "positives = list(filter(lambda x: x > 0, numbers))\n",
        "print(positives)  # Ожидаемый результат: [2, 4, 5]"
      ]
    }
  ],
  "metadata": {
    "kernelspec": {
      "display_name": "Python 3",
      "language": "python",
      "name": "python3"
    },
    "language_info": {
      "codemirror_mode": {
        "name": "ipython",
        "version": 3
      },
      "file_extension": ".py",
      "mimetype": "text/x-python",
      "name": "python",
      "nbconvert_exporter": "python",
      "pygments_lexer": "ipython3",
      "version": "3.8.5"
    }
  },
  "nbformat": 4,
  "nbformat_minor": 4
}
