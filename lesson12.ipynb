{
  "cells": [
    {
      "cell_type": "markdown",
      "metadata": {},
      "source": [
        "# 🔄 Урок 12: Итераторы и генераторы\n",
        "**Цель урока:** Научиться работать с итераторами и генераторами для эффективной обработки данных, особенно при работе с большими объемами информации.\n",
        "\n",
        "## 📌 Зачем это нужно?\n",
        "- **Экономия памяти:** Работа с данными без полной загрузки в RAM.\n",
        "- **Ленивые вычисления:** Значения создаются только по запросу.\n",
        "- **Бесконечные последовательности:** Например, генерация чисел Фибоначчи.\n",
        "- **Потоковая обработка:** Чтение файлов, API-запросы и другие потоковые данные.\n",
        "\n",
        "## 🧱 Теория\n",
        "### 1. Итераторы и итерабельные объекты\n",
        "**Итерабельный объект** — это объект, который можно перебрать (например, список, строка, словарь). Он должен реализовывать метод `__iter__()`, возвращающий итератор.\n",
        "\n",
        "**Итератор** — это объект, который реализует метод `__next__()`, возвращающий следующий элемент или вызывающий `StopIteration` при завершении.\n",
        "\n",
        "**Пример:**\n",
        "```python\n",
        "numbers = [1, 2, 3]  # Итерабельный объект\n",
        "it = iter(numbers)   # Получаем итератор\n",
        "print(next(it))      # 1\n",
        "print(next(it))      # 2\n",
        "print(next(it))      # 3\n",
        "print(next(it))      # StopIteration (ошибка)\n",
        "```\n",
        "\n",
        "💡 **Из жизни:** Представьте, что вы читаете книгу по страницам. Книга — итерабельный объект, а вы — итератор, который переворачивает страницы по одной [[1]]."
      ]
    },
    {
      "cell_type": "markdown",
      "metadata": {},
      "source": [
        "### 2. Создание собственных итераторов\n",
        "**Пример:** Класс `EvenIterator`, который возвращает только четные числа до заданного предела:\n",
        "```python\n",
        "class EvenIterator:\n",
        "    def __init__(self, limit):\n",
        "        self.limit = limit\n",
        "        self.current = 2  # Начинаем с первого четного числа\n",
        "\n",
        "    def __iter__(self):\n",
        "        return self  # Возвращаем сам итератор\n",
        "\n",
        "    def __next__(self):\n",
        "        if self.current > self.limit:\n",
        "            raise StopIteration  # Останавливаем итерацию\n",
        "        value = self.current\n",
        "        self.current += 2  # Переходим к следующему четному числу\n",
        "        return value\n",
        "\n",
        "# Использование\n",
        "evens = EvenIterator(10)\n",
        "for num in evens:\n",
        "    print(num, end=' ')  # 2 4 6 8 10\n",
        "```\n",
        "\n",
        "💡 **Как это работает?**\n",
        "- `__iter__()` возвращает сам итератор.\n",
        "- `__next__()` возвращает следующее значение или вызывает `StopIteration` при завершении."
      ]
    },
    {
      "cell_type": "markdown",
      "metadata": {},
      "source": [
        "### 3. Генераторы и `yield`\n",
        "**Генератор** — это функция, которая использует ключевое слово `yield` для возврата значений по одному.\n",
        "\n",
        "**Пример:** Генератор, возвращающий числа от 1 до N:\n",
        "```python\n",
        "def simple_generator(n):\n",
        "    for i in range(1, n+1):\n",
        "        yield i  # Возвращает значение и сохраняет состояние функции\n",
        "\n",
        "gen = simple_generator(5)\n",
        "print(next(gen))  # 1\n",
        "print(next(gen))  # 2\n",
        "```\n",
        "\n",
        "**Пример:** Бесконечный генератор чисел:\n",
        "```python\n",
        "def infinite_counter(start=1):\n",
        "    while True:\n",
        "        yield start\n",
        "        start += 1\n",
        "\n",
        "counter = infinite_counter()\n",
        "for _ in range(5):\n",
        "    print(next(counter))  # Выведет 1, 2, 3, 4, 5\n",
        "```\n",
        "\n",
        "💡 **Почему генераторы эффективны?**\n",
        "- Они не хранят все значения в памяти сразу.\n",
        "- Подходят для работы с потоками данных (например, чтение больших файлов) ."
      ]
    },
    {
      "cell_type": "markdown",
      "metadata": {},
      "source": [
        "## 🧪 Практика\n",
        "**Задание 1:** Создайте итератор, который возвращает числа Фибоначчи до заданного предела."
      ]
    },
    {
      "cell_type": "code",
      "execution_count": null,
      "metadata": {},
      "outputs": [],
      "source": [
        "# Ваш код здесь\n",
        "class FibonacciIterator:\n",
        "    def __init__(self, limit):\n",
        "        self.limit = limit\n",
        "        self.a, self.b = 0, 1\n",
        "\n",
        "    def __iter__(self):\n",
        "        return self\n",
        "\n",
        "    def __next__(self):\n",
        "        if self.a > self.limit:\n",
        "            raise StopIteration\n",
        "        value = self.a\n",
        "        self.a, self.b = self.b, self.a + self.b\n",
        "        return value\n",
        "\n",
        "# Пример использования\n",
        "fib = FibonacciIterator(100)\n",
        "for num in fib:\n",
        "    print(num, end=' ')  # 0 1 1 2 3 5 8 13 21 34 55 89"
      ]
    },
    {
      "cell_type": "markdown",
      "metadata": {},
      "source": [
        "**Задание 2:** Создайте генератор, который возвращает квадраты чисел от 1 до N."
      ]
    },
    {
      "cell_type": "code",
      "execution_count": null,
      "metadata": {},
      "outputs": [],
      "source": [
        "# Ваш код здесь\n",
        "def square_generator(n):\n",
        "    for i in range(1, n+1):\n",
        "        yield i**2\n",
        "\n",
        "# Пример использования\n",
        "squares = square_generator(5)\n",
        "for num in squares:\n",
        "    print(num, end=' ')  # 1 4 9 16 25"
      ]
    },
    {
      "cell_type": "markdown",
      "metadata": {},
      "source": [
        "**Задание 3:** Напишите генератор, который возвращает строки из файла по одной."
      ]
    },
    {
      "cell_type": "code",
      "execution_count": null,
      "metadata": {},
      "outputs": [],
      "source": [
        "# Ваш код здесь\n",
        "def read_lines(file_path):\n",
        "    with open(file_path, 'r') as file:\n",
        "        for line in file:\n",
        "            yield line.strip()\n",
        "\n",
        "# Пример использования\n",
        "for line in read_lines('example.txt'):\n",
        "    print(line)  # Выводит строки из файла по одной"
      ]
    },
    {
      "cell_type": "markdown",
      "metadata": {},
      "source": [
        "## 📝 Домашнее задание\n",
        "**Задача 1:** Создайте итератор, который возвращает только нечетные числа от 1 до N."
      ]
    },
    {
      "cell_type": "code",
      "execution_count": null,
      "metadata": {},
      "outputs": [],
      "source": [
        "# Ваш код здесь\n",
        "class OddIterator:\n",
        "    def __init__(self, limit):\n",
        "        self.limit = limit\n",
        "        self.current = 1  # Начинаем с первого нечетного числа\n",
        "\n",
        "    def __iter__(self):\n",
        "        return self\n",
        "\n",
        "    def __next__(self):\n",
        "        if self.current > self.limit:\n",
        "            raise StopIteration\n",
        "        value = self.current\n",
        "        self.current += 2  # Переходим к следующему нечетному числу\n",
        "        return value\n",
        "\n",
        "# Пример использования\n",
        "odds = OddIterator(10)\n",
        "for num in odds:\n",
        "    print(num, end=' ')  # Ожидаемый результат: 1 3 5 7 9"
      ]
    },
    {
      "cell_type": "markdown",
      "metadata": {},
      "source": [
        "**Задача 2:** Напишите генератор, который фильтрует строки в файле, оставляя только те, где длина строки больше 5 символов."
      ]
    },
    {
      "cell_type": "code",
      "execution_count": null,
      "metadata": {},
      "outputs": [],
      "source": [
        "# Ваш код здесь\n",
        "def filter_long_lines(file_path):\n",
        "    with open(file_path, 'r') as file:\n",
        "        for line in file:\n",
        "            if len(line.strip()) > 5:\n",
        "                yield line.strip()\n",
        "\n",
        "# Пример использования\n",
        "for line in filter_long_lines('example.txt'):\n",
        "    print(line)"
      ]
    },
    {
      "cell_type": "markdown",
      "metadata": {},
      "source": [
        "## ✅ Рекомендации по выполнению домашнего задания\n",
        "- **Задача 1:** Убедитесь, что ваш итератор останавливается при достижении предела. Используйте `raise StopIteration`.\n",
        "- **Задача 2:** Проверьте, что вы правильно обрабатываете файл и фильтруете строки. Используйте `strip()` для удаления лишних пробелов."
      ]
    }
  ],
  "metadata": {
    "kernelspec": {
      "display_name": "Python 3",
      "language": "python",
      "name": "python3"
    },
    "language_info": {
      "codemirror_mode": {
        "name": "ipython",
        "version": 3
      },
      "file_extension": ".py",
      "mimetype": "text/x-python",
      "name": "python",
      "nbconvert_exporter": "python",
      "pygments_lexer": "ipython3",
      "version": "3.8.5"
    }
  },
  "nbformat": 4,
  "nbformat_minor": 4
}
