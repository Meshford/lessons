{
  "cells": [
    {
      "cell_type": "markdown",
      "metadata": {},
      "source": [
        "# 🧠 Урок 6: Алгоритмы и структуры данных\n",
        "\n",
        "**Цель урока:**\n",
        "- Познакомиться с основными структурами данных в Python.\n",
        "- Научиться использовать алгоритмы сортировки и поиска.\n",
        "- Понять, как работают и когда применять разные структуры данных и алгоритмы."
      ]
    },
    {
      "cell_type": "markdown",
      "metadata": {},
      "source": [
        "## 📦 1. Структуры данных в Python"
      ]
    },
    {
      "cell_type": "markdown",
      "metadata": {},
      "source": [
        "### Что такое структуры данных?\n",
        "\n",
        "Структура данных — это способ хранения и организации информации так, чтобы её было удобно обрабатывать и извлекать.\n",
        "\n",
        "#### Основные типы:\n",
        "- **Строки (`str`)** — последовательности символов.\n",
        "- **Списки (`list`) — изменяемые коллекции.\n",
        "- **Кортежи (`tuple`) — неизменяемые последовательности.\n",
        "- **Множества (`set`) — набор уникальных элементов.\n",
        "- **Словари (`dict`) — пары ключ-значение."
      ]
    },
    {
      "cell_type": "markdown",
      "metadata": {},
      "source": [
        "### 🖊 1.1 Строки (Strings)"
      ]
    },
    {
      "cell_type": "markdown",
      "metadata": {},
      "source": [
        "Строка — это **последовательность символов**, которая может содержать буквы, цифры, пробелы и другие символы.\n",
        "\n",
        "#### Создание строки:"
      ]
    },
    {
      "cell_type": "code",
      "execution_count": null,
      "metadata": {},
      "outputs": [],
      "source": [
        "text = \"Привет, мир!\""
      ]
    },
    {
      "cell_type": "markdown",
      "metadata": {},
      "source": [
        "#### Основные операции со строками:"
      ]
    },
    {
      "cell_type": "code",
      "execution_count": null,
      "metadata": {},
      "outputs": [],
      "source": [
        "print(len(text))           # длина строки\n",
        "print(text.lower())        # в нижний регистр\n",
        "print(text.upper())        # в верхний регистр\n",
        "print(text.replace(\"мир\", \"Python\"))  # замена\n",
        "print(text[0])            # первый символ\n",
        "print(text[-1])           # последний символ\n",
        "print(text[0:6])          # срез строки"
      ]
    },
    {
      "cell_type": "markdown",
      "metadata": {},
      "source": [
        "#### Перебор строки:"
      ]
    },
    {
      "cell_type": "code",
      "execution_count": null,
      "metadata": {},
      "outputs": [],
      "source": [
        "for char in text:\n",
        "    print(char)"
      ]
    },
    {
      "cell_type": "markdown",
      "metadata": {},
      "source": [
        "### 💡 Подробнее о строках:\n",
        "- Строки **неизменяемы**: вы не можете изменить один символ через индекс.\n",
        "- Для изменения строки нужно создать **новую строку**.\n",
        "- Используйте методы: `.split()`, `.join()`, `.find()` и др."
      ]
    },
    {
      "cell_type": "markdown",
      "metadata": {},
      "source": [
        "### 🧪 Практика: Работа со строками"
      ]
    },
    {
      "cell_type": "markdown",
      "metadata": {},
      "source": [
        "1. Напишите программу, которая считает количество гласных букв в строке"
      ]
    },
    {
      "cell_type": "code",
      "execution_count": null,
      "metadata": {},
      "outputs": [],
      "source": [
        "# Реализуйте здесь"
      ]
    },
    {
      "cell_type": "markdown",
      "metadata": {},
      "source": [
        "2. Напишите функцию, которая проверяет, является ли слово палиндромом"
      ]
    },
    {
      "cell_type": "code",
      "execution_count": null,
      "metadata": {},
      "outputs": [],
      "source": [
        "# Реализуйте здесь"
      ]
    },
    {
      "cell_type": "markdown",
      "metadata": {},
      "source": [
        "3. Напишите программу, которая выводит строку наоборот"
      ]
    },
    {
      "cell_type": "code",
      "execution_count": null,
      "metadata": {},
      "outputs": [],
      "source": [
        "# Реализуйте здесь"
      ]
    },
    {
      "cell_type": "markdown",
      "metadata": {},
      "source": [
        "### 📋 1.2 Списки (Lists)"
      ]
    },
    {
      "cell_type": "markdown",
      "metadata": {},
      "source": [
        "Список — это **упорядоченная изменяемая коллекция** элементов любого типа.\n",
        "\n",
        "#### Создание списка:"
      ]
    },
    {
      "cell_type": "code",
      "execution_count": null,
      "metadata": {},
      "outputs": [],
      "source": [
        "fruits = [\"яблоко\", \"банан\", \"киви\"]"
      ]
    },
    {
      "cell_type": "markdown",
      "metadata": {},
      "source": [
        "#### Операции со списками:"
      ]
    },
    {
      "cell_type": "code",
      "execution_count": null,
      "metadata": {},
      "outputs": [],
      "source": [
        "print(fruits[0])         # доступ по индексу\n",
        "fruits.append(\"апельсин\") # добавление элемента\n",
        "fruits.remove(\"киви\")     # удаление элемента\n",
        "print(len(fruits))       # длина списка\n",
        "print(\"банан\" in fruits)  # проверка наличия"
      ]
    },
    {
      "cell_type": "markdown",
      "metadata": {},
      "source": [
        "#### Перебор списка:"
      ]
    },
    {
      "cell_type": "code",
      "execution_count": null,
      "metadata": {},
      "outputs": [],
      "source": [
        "for fruit in fruits:\n",
        "    print(fruit)"
      ]
    },
    {
      "cell_type": "markdown",
      "metadata": {},
      "source": [
        "#### Списковые включения (list comprehensions):"
      ]
    },
    {
      "cell_type": "code",
      "execution_count": null,
      "metadata": {},
      "outputs": [],
      "source": [
        "numbers = [x for x in range(5)]\n",
        "print(numbers)  # [0, 1, 2, 3, 4]"
      ]
    },
    {
      "cell_type": "markdown",
      "metadata": {},
      "source": [
        "### 🧠 Советы по работе со списками:\n",
        "- Используйте списки, если вам нужен **изменяемый список элементов**.\n",
        "- Метод `.append()` — добавляет элемент в конец.\n",
        "- Метод `.insert(i, x)` — вставляет элемент на определённую позицию."
      ]
    },
    {
      "cell_type": "markdown",
      "metadata": {},
      "source": [
        "### 🧪 Практика: Работа со списками"
      ]
    },
    {
      "cell_type": "markdown",
      "metadata": {},
      "source": [
        "1. Напишите программу, которая создаёт список из 10 случайных чисел от 1 до 100"
      ]
    },
    {
      "cell_type": "code",
      "execution_count": null,
      "metadata": {},
      "outputs": [],
      "source": [
        "# Реализуйте здесь"
      ]
    },
    {
      "cell_type": "markdown",
      "metadata": {},
      "source": [
        "2. Добавьте новый элемент в середину списка"
      ]
    },
    {
      "cell_type": "code",
      "execution_count": null,
      "metadata": {},
      "outputs": [],
      "source": [
        "# Реализуйте здесь"
      ]
    },
    {
      "cell_type": "markdown",
      "metadata": {},
      "source": [
        "3. Удалите элемент по значению и по индексу"
      ]
    },
    {
      "cell_type": "code",
      "execution_count": null,
      "metadata": {},
      "outputs": [],
      "source": [
        "# Реализуйте здесь"
      ]
    },
    {
      "cell_type": "markdown",
      "metadata": {},
      "source": [
        "### 📐 1.3 Кортежи (Tuples)"
      ]
    },
    {
      "cell_type": "markdown",
      "metadata": {},
      "source": [
        "Кортеж — это **неизменяемая** последовательность. Используется, когда данные **не должны меняться**.\n",
        "\n",
        "#### Создание кортежа:"
      ]
    },
    {
      "cell_type": "code",
      "execution_count": null,
      "metadata": {},
      "outputs": [],
      "source": [
        "coordinates = (10, 20)"
      ]
    },
    {
      "cell_type": "markdown",
      "metadata": {},
      "source": [
        "#### Доступ к элементам:"
      ]
    },
    {
      "cell_type": "code",
      "execution_count": null,
      "metadata": {},
      "outputs": [],
      "source": [
        "print(coordinates[0])"
      ]
    },
    {
      "cell_type": "markdown",
      "metadata": {},
      "source": [
        "#### Преобразование кортежа в список:"
      ]
    },
    {
      "cell_type": "code",
      "execution_count": null,
      "metadata": {},
      "outputs": [],
      "source": [
        "list_coords = list(coordinates)\n",
        "list_coords.append(30)\n",
        "coordinates = tuple(list_coords)\n",
        "print(coordinates)"
      ]
    },
    {
      "cell_type": "markdown",
      "metadata": {},
      "source": [
        "### 🧩 Почему использовать кортежи?\n",
        "- Они **быстрее**, чем списки.\n",
        "- Используют **меньше памяти**.\n",
        "- Подходят для **константных данных**."
      ]
    },
    {
      "cell_type": "markdown",
      "metadata": {},
      "source": [
        "### 🧪 Практика: Работа с кортежами"
      ]
    },
    {
      "cell_type": "markdown",
      "metadata": {},
      "source": [
        "1. Создайте кортеж из координат точки"
      ]
    },
    {
      "cell_type": "code",
      "execution_count": null,
      "metadata": {},
      "outputs": [],
      "source": [
        "# Реализуйте здесь"
      ]
    },
    {
      "cell_type": "markdown",
      "metadata": {},
      "source": [
        "2. Преобразуйте его в список и добавьте третью координату"
      ]
    },
    {
      "cell_type": "code",
      "execution_count": null,
      "metadata": {},
      "outputs": [],
      "source": [
        "# Реализуйте здесь"
      ]
    },
    {
      "cell_type": "markdown",
      "metadata": {},
      "source": [
        "3. Выведите кортеж после преобразования"
      ]
    },
    {
      "cell_type": "code",
      "execution_count": null,
      "metadata": {},
      "outputs": [],
      "source": [
        "# Реализуйте здесь"
      ]
    },
    {
      "cell_type": "markdown",
      "metadata": {},
      "source": [
        "### 🔁 1.4 Множества (Sets)"
      ]
    },
    {
      "cell_type": "markdown",
      "metadata": {},
      "source": [
        "Множество — это **коллекция уникальных элементов**, не имеющая порядка.\n",
        "\n",
        "#### Создание множества:"
      ]
    },
    {
      "cell_type": "code",
      "execution_count": null,
      "metadata": {},
      "outputs": [],
      "source": [
        "colors = {\"красный\", \"синий\", \"зелёный\"}"
      ]
    },
    {
      "cell_type": "markdown",
      "metadata": {},
      "source": [
        "#### Основные операции:"
      ]
    },
    {
      "cell_type": "code",
      "execution_count": null,
      "metadata": {},
      "outputs": [],
      "source": [
        "colors.add(\"жёлтый\")\n",
        "colors.remove(\"синий\")\n",
        "print(\"красный\" in colors)"
      ]
    },
    {
      "cell_type": "markdown",
      "metadata": {},
      "source": [
        "#### Операции над множествами:"
      ]
    },
    {
      "cell_type": "code",
      "execution_count": null,
      "metadata": {},
      "outputs": [],
      "source": [
        "a = {1, 2, 3}\nb = {3, 4, 5}\n\nprint(a & b)  # пересечение {3}\nprint(a | b)  # объединение {1, 2, 3, 4, 5}\nprint(a - b)  # разность {1, 2}"
      ]
    },
    {
      "cell_type": "markdown",
      "metadata": {},
      "source": [
        "### 🧠 Когда использовать множества?\n",
        "- Когда нужны **уникальные значения**.\n",
        "- Для быстрых проверок на наличие элемента.\n",
        "- При выполнении математических операций над множествами."
      ]
    },
    {
      "cell_type": "markdown",
      "metadata": {},
      "source": [
        "### 🧪 Практика: Работа с множествами"
      ]
    },
    {
      "cell_type": "markdown",
      "metadata": {},
      "source": [
        "1. Создайте множество из списка и проверьте, что все элементы уникальны"
      ]
    },
    {
      "cell_type": "code",
      "execution_count": null,
      "metadata": {},
      "outputs": [],
      "source": [
        "# Реализуйте здесь"
      ]
    },
    {
      "cell_type": "markdown",
      "metadata": {},
      "source": [
        "2. Объедините два множества и выведите результат"
      ]
    },
    {
      "cell_type": "code",
      "execution_count": null,
      "metadata": {},
      "outputs": [],
      "source": [
        "# Реализуйте здесь"
      ]
    },
    {
      "cell_type": "markdown",
      "metadata": {},
      "source": [
        "3. Найдите разность двух множеств"
      ]
    },
    {
      "cell_type": "code",
      "execution_count": null,
      "metadata": {},
      "outputs": [],
      "source": [
        "# Реализуйте здесь"
      ]
    },
    {
      "cell_type": "markdown",
      "metadata": {},
      "source": [
        "### 🗂 1.5 Словари (Dictionaries)"
      ]
    },
    {
      "cell_type": "markdown",
      "metadata": {},
      "source": [
        "Словарь — это **коллекция пар ключ-значение**. Ключи должны быть **уникальными** и **неизменяемыми**.\n",
        "\n",
        "#### Создание словаря:"
      ]
    },
    {
      "cell_type": "code",
      "execution_count": null,
      "metadata": {},
      "outputs": [],
      "source": [
        "person = {\n    \"имя\": \"Алиса\",\n    \"возраст\": 25,\n    \"город\": \"Москва\"\n}"
      ]
    },
    {
      "cell_type": "markdown",
      "metadata": {},
      "source": [
        "#### Доступ и изменение данных:"
      ]
    },
    {
      "cell_type": "code",
      "execution_count": null,
      "metadata": {},
      "outputs": [],
      "source": [
        "print(person[\"имя\"])\nperson[\"возраст\"] = 26\nperson[\"профессия\"] = \"программист\"\nprint(person)"
      ]
    },
    {
      "cell_type": "markdown",
      "metadata": {},
      "source": [
        "#### Перебор словаря:"
      ]
    },
    {
      "cell_type": "code",
      "execution_count": null,
      "metadata": {},
      "outputs": [],
      "source": [
        "for key, value in person.items():\n    print(key, \":\", value)"
      ]
    },
    {
      "cell_type": "markdown",
      "metadata": {},
      "source": [
        "### 🧠 Как работают словари?\n",
        "- Хранят данные в виде **ключ-значение**.\n",
        "- Быстрый поиск: `O(1)`.\n",
        "- Не сохраняют порядок (до Python 3.7)."
      ]
    },
    {
      "cell_type": "markdown",
      "metadata": {},
      "source": [
        "### 🧪 Практика: Работа со словарями"
      ]
    },
    {
      "cell_type": "markdown",
      "metadata": {},
      "source": [
        "1. Создайте словарь с информацией о товаре (название, цена, категория)"
      ]
    },
    {
      "cell_type": "code",
      "execution_count": null,
      "metadata": {},
      "outputs": [],
      "source": [
        "# Реализуйте здесь"
      ]
    },
    {
      "cell_type": "markdown",
      "metadata": {},
      "source": [
        "2. Добавьте новые поля (например, описание)"
      ]
    },
    {
      "cell_type": "code",
      "execution_count": null,
      "metadata": {},
      "outputs": [],
      "source": [
        "# Реализуйте здесь"
      ]
    },
    {
      "cell_type": "markdown",
      "metadata": {},
      "source": [
        "3. Выведите только ключи или только значения"
      ]
    },
    {
      "cell_type": "code",
      "execution_count": null,
      "metadata": {},
      "outputs": [],
      "source": [
        "# Реализуйте здесь"
      ]
    },
    {
      "cell_type": "markdown",
      "metadata": {},
      "source": [
        "## ⏱ 2. Алгоритмы сортировки и поиска"
      ]
    },
    {
      "cell_type": "markdown",
      "metadata": {},
      "source": [
        "### Что такое алгоритм?\n",
        "Алгоритм — это **пошаговая инструкция** для решения задачи. Алгоритмы помогают эффективно решать проблемы, особенно при работе с большими данными."
      ]
    },
    {
      "cell_type": "markdown",
      "metadata": {},
      "source": [
        "### 🧮 2.1 Сортировка"
      ]
    },
    {
      "cell_type": "markdown",
      "metadata": {},
      "source": [
        "#### Сортировка списков"
      ]
    },
    {
      "cell_type": "code",
      "execution_count": null,
      "metadata": {},
      "outputs": [],
      "source": [
        "numbers = [5, 2, 9, 1]\nnumbers.sort()\nprint(numbers)  # [1, 2, 5, 9]"
      ]
    },
    {
      "cell_type": "markdown",
      "metadata": {},
      "source": [
        "Функция `sorted()` создаёт новый отсортированный список:"
      ]
    },
    {
      "cell_type": "code",
      "execution_count": null,
      "metadata": {},
      "outputs": [],
      "source": [
        "new_numbers = sorted(numbers)\nprint(new_numbers)"
      ]
    },
    {
      "cell_type": "markdown",
      "metadata": {},
      "source": [
        "#### Сортировка в обратном порядке"
      ]
    },
    {
      "cell_type": "code",
      "execution_count": null,
      "metadata": {},
      "outputs": [],
      "source": [
        "numbers.sort(reverse=True)\nprint(numbers)"
      ]
    },
    {
      "cell_type": "markdown",
      "metadata": {},
      "source": [
        "### 🔄 Алгоритмы сортировки"
      ]
    },
    {
      "cell_type": "markdown",
      "metadata": {},
      "source": [
        "#### Пузырьковая сортировка (Bubble Sort)"
      ]
    },
    {
      "cell_type": "code",
      "execution_count": null,
      "metadata": {},
      "outputs": [],
      "source": [
        "def bubble_sort(arr):\n    n = len(arr)\n    for i in range(n):\n        for j in range(0, n-i-1):\n            if arr[j] > arr[j+1]:\n                arr[j], arr[j+1] = arr[j+1], arr[j]\n\nnumbers = [64, 34, 25, 12, 22, 11, 90]\nbubble_sort(numbers)\nprint(numbers)"
      ]
    },
    {
      "cell_type": "markdown",
      "metadata": {},
      "source": [
        "Плюсы: простота реализации. Минусы: медленная работа на больших массивах."
      ]
    },
    {
      "cell_type": "markdown",
      "metadata": {},
      "source": [
        "#### Сортировка выбором (Selection Sort)"
      ]
    },
    {
      "cell_type": "code",
      "execution_count": null,
      "metadata": {},
      "outputs": [],
      "source": [
        "def selection_sort(arr):\n    n = len(arr)\n    for i in range(n):\n        min_idx = i\n        for j in range(i+1, n):\n            if arr[j] < arr[min_idx]:\n                min_idx = j\n        arr[i], arr[min_idx] = arr[min_idx], arr[i]\n\narr = [64, 25, 12, 22, 11]\nselection_sort(arr)\nprint(arr)"
      ]
    },
    {
      "cell_type": "markdown",
      "metadata": {},
      "source": [
        "Более эффективна, чем пузырьковая, но всё ещё **медленная** на больших данных."
      ]
    },
    {
      "cell_type": "markdown",
      "metadata": {},
      "source": [
        "### 🔍 2.2 Поиск"
      ]
    },
    {
      "cell_type": "markdown",
      "metadata": {},
      "source": [
        "#### Линейный поиск (Linear Search)"
      ]
    },
    {
      "cell_type": "code",
      "execution_count": null,
      "metadata": {},
      "outputs": [],
      "source": [
        "def linear_search(arr, target):\n    for i in range(len(arr)):\n        if arr[i] == target:\n            return i\n    return -1\n\nnumbers = [5, 3, 7, 1, 9]\nprint(linear_search(numbers, 7))  # 2"
      ]
    },
    {
      "cell_type": "markdown",
      "metadata": {},
      "source": [
        "Подходит для небольших и неотсортированных списков."
      ]
    },
    {
      "cell_type": "markdown",
      "metadata": {},
      "source": [
        "#### Бинарный поиск (Binary Search)"
      ]
    },
    {
      "cell_type": "code",
      "execution_count": null,
      "metadata": {},
      "outputs": [],
      "source": [
        "def binary_search(arr, target):\n    low = 0\n    high = len(arr) - 1\n\n    while low <= high:\n        mid = (low + high) // 2\n        if arr[mid] == target:\n            return mid\n        elif arr[mid] < target:\n            low = mid + 1\n        else:\n            high = mid - 1\n    return -1\n\nnumbers = [1, 3, 5, 7, 9, 11]\nprint(binary_search(numbers, 7))  # 3"
      ]
    },
    {
      "cell_type": "markdown",
      "metadata": {},
      "source": [
        "Работает только на **отсортированных** списках. Гораздо быстрее линейного поиска — `O(log n)` против `O(n)`."
      ]
    },
    {
      "cell_type": "markdown",
      "metadata": {},
      "source": [
        "### 🧠 Сложность алгоритмов"
      ]
    },
    {
      "cell_type": "markdown",
      "metadata": {},
      "source": [
        "| Алгоритм | Сложность |\n",
        "|--------|-----------|\n",
        "| Линейный поиск | O(n) |\n",
        "| Бинарный поиск | O(log n) |\n",
        "| Пузырьковая сортировка | O(n²) |\n",
        "| Сортировка выбором | O(n²) |"
      ]
    },
    {
      "cell_type": "markdown",
      "metadata": {},
      "source": [
        "Чем меньше сложность — тем быстрее работает алгоритм!"
      ]
    },
    {
      "cell_type": "markdown",
      "metadata": {},
      "source": [
        "### 🧪 Практика: Сравнение скорости работы"
      ]
    },
    {
      "cell_type": "markdown",
      "metadata": {},
      "source": [
        "1. Сравните время работы пузырьковой и сортировки выбором на 1000 случайных числах"
      ]
    },
    {
      "cell_type": "code",
      "execution_count": null,
      "metadata": {},
      "outputs": [],
      "source": [
        "# Реализуйте здесь"
      ]
    },
    {
      "cell_type": "markdown",
      "metadata": {},
      "source": [
        "2. Напишите функцию, которая ищет элемент линейным и бинарным способом и сравнивает скорость"
      ]
    },
    {
      "cell_type": "code",
      "execution_count": null,
      "metadata": {},
      "outputs": [],
      "source": [
        "# Реализуйте здесь"
      ]
    },
    {
      "cell_type": "markdown",
      "metadata": {},
      "source": [
        "3. Напишите программу, которая:\n",
        "- Генерирует список чисел\n",
        "- Сортирует их\n",
        "- Ищет число пользователем"
      ]
    },
    {
      "cell_type": "code",
      "execution_count": null,
      "metadata": {},
      "outputs": [],
      "source": [
        "# Реализуйте здесь"
      ]
    },
    {
      "cell_type": "markdown",
      "metadata": {},
      "source": [
        "## 🧪 Мини-практика"
      ]
    },
    {
      "cell_type": "markdown",
      "metadata": {},
      "source": [
        "### Задания:"
      ]
    },
    {
      "cell_type": "markdown",
      "metadata": {},
      "source": [
        "1. Создайте список из случайных чисел и отсортируйте его пузырьковым методом"
      ]
    },
    {
      "cell_type": "code",
      "execution_count": null,
      "metadata": {},
      "outputs": [],
      "source": [
        "# Реализуйте здесь"
      ]
    },
    {
      "cell_type": "markdown",
      "metadata": {},
      "source": [
        "2. Найдите заданное число в списке с помощью бинарного поиска"
      ]
    },
    {
      "cell_type": "code",
      "execution_count": null,
      "metadata": {},
      "outputs": [],
      "source": [
        "# Реализуйте здесь"
      ]
    },
    {
      "cell_type": "markdown",
      "metadata": {},
      "source": [
        "3. Создайте словарь из 5 пар \"страна — столица\" и выведите его"
      ]
    },
    {
      "cell_type": "code",
      "execution_count": null,
      "metadata": {},
      "outputs": [],
      "source": [
        "# Реализуйте здесь"
      ]
    },
    {
      "cell_type": "markdown",
      "metadata": {},
      "source": [
        "## 🏠 Домашнее задание"
      ]
    },
    {
      "cell_type": "markdown",
      "metadata": {},
      "source": [
        "Выберите одно из заданий ниже и реализуйте его полностью."
      ]
    },
    {
      "cell_type": "markdown",
      "metadata": {},
      "source": [
        "### Задание 1: Сортировка выбором"
      ]
    },
    {
      "cell_type": "code",
      "execution_count": null,
      "metadata": {},
      "outputs": [],
      "source": [
        "# Реализуйте сортировку выбором для списка из 10 случайных чисел"
      ]
    },
    {
      "cell_type": "markdown",
      "metadata": {},
      "source": [
        "### Задание 2: Линейный поиск слова"
      ]
    },
    {
      "cell_type": "code",
      "execution_count": null,
      "metadata": {},
      "outputs": [],
      "source": [
        "# Напишите функцию, которая ищет слово в списке строк"
      ]
    },
    {
      "cell_type": "markdown",
      "metadata": {},
      "source": [
        "### Задание 3: Полная программа"
      ]
    },
    {
      "cell_type": "markdown",
      "metadata": {},
      "source": [
        "- Пользователь вводит список чисел\n",
        "- Программа сортирует его\n",
        "- Программа спрашивает число и выполняет бинарный поиск\n",
        "- Выводит результат"
      ]
    },
    {
      "cell_type": "code",
      "execution_count": null,
      "metadata": {},
      "outputs": [],
      "source": [
        "# Реализуйте здесь"
      ]
    },
    {
      "cell_type": "markdown",
      "metadata": {},
      "source": [
        "## 🎯 Итог"
      ]
    },
    {
      "cell_type": "markdown",
      "metadata": {},
      "source": [
        "Вы узнали:\n",
        "- Что такое структуры данных и зачем они нужны\n",
        "- Как работать со строками, списками, кортежами, множествами и словарями\n",
        "- Какие есть алгоритмы сортировки и поиска\n",
        "- Как использовать эти знания на практике\n",
        "- Как оценивать эффективность алгоритмов через Big O\n",
        "\n",
        "Теперь вы можете выбирать подходящую структуру данных и эффективный алгоритм для решения реальных задач."
      ]
    },
    {
      "cell_type": "markdown",
      "metadata": {},
      "source": [
        "## 🧩 Дополнительно: Стек и очередь"
      ]
    },
    {
      "cell_type": "markdown",
      "metadata": {},
      "source": [
        "### Стек (Stack)\n",
        "LIFO — последним вошёл, первым вышел. Используется для вызова функций, в браузерах, редакторах и т.д."
      ]
    },
    {
      "cell_type": "code",
      "execution_count": null,
      "metadata": {},
      "outputs": [],
      "source": [
        "stack = []\nstack.append(1)\nstack.append(2)\nprint(stack.pop())  # 2\nprint(stack.pop())  # 1"
      ]
    },
    {
      "cell_type": "markdown",
      "metadata": {},
      "source": [
        "### Очередь (Queue)\n",
        "FIFO — первым вошёл, первым вышел. Часто используется в системах, где важен порядок."
      ]
    },
    {
      "cell_type": "code",
      "execution_count": null,
      "metadata": {},
      "outputs": [],
      "source": [
        "from collections import deque\n\nqueue = deque()\nqueue.append(1)\nqueue.append(2)\nprint(queue.popleft())  # 1\nprint(queue.popleft())  # 2"
      ]
    },
    {
      "cell_type": "markdown",
      "metadata": {},
      "source": [
        "## 🧪 Расширенная практика"
      ]
    },
    {
      "cell_type": "markdown",
      "metadata": {},
      "source": [
        "1. Реализуйте стек с ограничением размера"
      ]
    },
    {
      "cell_type": "code",
      "execution_count": null,
      "metadata": {},
      "outputs": [],
      "source": [
        "# Реализуйте здесь"
      ]
    },
    {
      "cell_type": "markdown",
      "metadata": {},
      "source": [
        "2. Реализуйте очередь с приоритетом"
      ]
    },
    {
      "cell_type": "code",
      "execution_count": null,
      "metadata": {},
      "outputs": [],
      "source": [
        "# Реализуйте здесь"
      ]
    },
    {
      "cell_type": "markdown",
      "metadata": {},
      "source": [
        "3. Напишите программу, которая:\n",
        "- Создаёт список из 100 случайных чисел\n",
        "- Сортирует его\n",
        "- Ищет несколько чисел и выводит время поиска"
      ]
    },
    {
      "cell_type": "code",
      "execution_count": null,
      "metadata": {},
      "outputs": [],
      "source": [
        "# Реализуйте здесь"
      ]
    },
    {
      "cell_type": "markdown",
      "metadata": {},
      "source": [
        "## 📌 Дополнительная информация"
      ]
    },
    {
      "cell_type": "markdown",
      "metadata": {},
      "source": [
        "- `collections.Counter` — удобная структура для подсчёта элементов\n",
        "- `heapq` — модуль для работы с минимальной кучей\n",
        "- `itertools` — мощная библиотека для работы с итераторами\n",
        "- `bisect` — модуль для бинарного поиска и вставки"
      ]
    },
    {
      "cell_type": "markdown",
      "metadata": {},
      "source": [
        "## 🧠 Рекомендации новичкам"
      ]
    },
    {
      "cell_type": "markdown",
      "metadata": {},
      "source": [
        "- Изучайте структуры данных и алгоритмы постепенно\n",
        "- Тренируйтесь на реальных примерах\n",
        "- Используйте готовые функции Python: `sorted()`, `max()`, `min()`, `sum()`\n",
        "- Попробуйте визуализировать сортировку (можно через matplotlib)"
      ]
    },
    {
      "cell_type": "markdown",
      "metadata": {},
      "source": [
        "## 🧪 Расширенные задания"
      ]
    },
    {
      "cell_type": "markdown",
      "metadata": {},
      "source": [
        "1. Напишите программу, которая:\n",
        "   - Считывает список слов из файла\n",
        "   - Сортирует их по алфавиту\n",
        "   - Ищет слово и выводит его позицию"
      ]
    },
    {
      "cell_type": "code",
      "execution_count": null,
      "metadata": {},
      "outputs": [],
      "source": [
        "# Реализуйте здесь"
      ]
    },
    {
      "cell_type": "markdown",
      "metadata": {},
      "source": [
        "2. Напишите программу, которая:\n",
        "   - Создаёт два множества\n",
        "   - Выполняет их пересечение, объединение и разность\n",
        "   - Выводит результаты"
      ]
    },
    {
      "cell_type": "code",
      "execution_count": null,
      "metadata": {},
      "outputs": [],
      "source": [
        "# Реализуйте здесь"
      ]
    },
    {
      "cell_type": "markdown",
      "metadata": {},
      "source": [
        "3. Напишите программу, которая:\n",
        "   - Сохраняет историю действий в словарь\n",
        "   - Выводит команды пользователя"
      ]
    },
    {
      "cell_type": "code",
      "execution_count": null,
      "metadata": {},
      "outputs": [],
      "source": [
        "# Реализуйте здесь"
      ]
    },
    {
      "cell_type": "markdown",
      "metadata": {},
      "source": [
        "## 🧬 Дополнительные материалы"
      ]
    },
    {
      "cell_type": "markdown",
      "metadata": {},
      "source": [
        "- [https://docs.python.org/3/library/stdtypes.html ](https://docs.python.org/3/library/stdtypes.html ) — официальная документация\n",
        "- [https://realpython.com/python-data-structures/ ](https://realpython.com/python-data-structures/ ) — статья про структуры данных\n",
        "- [https://wiki.python.org/moin/TimeComplexity ](https://wiki.python.org/moin/TimeComplexity ) — сложность операций"
      ]
    },
    {
      "cell_type": "markdown",
      "metadata": {},
      "source": [
        "## 🎉 Заключение"
      ]
    },
    {
      "cell_type": "markdown",
      "metadata": {},
      "source": [
        "Сегодня вы освоили основные структуры данных и базовые алгоритмы. Это фундамент, на котором строятся более сложные программы, базы данных, аналитика и машинное обучение.\n",
        "\n",
        "На следующем занятии вы углубитесь в рекурсию, стек, очередь и алгоритмы на графах!"
      ]
    }
  ],
  "metadata": {
    "kernelspec": {
      "display_name": "Python 3",
      "language": "python",
      "name": "python3"
    },
    "language_info": {
      "codemirror_mode": {
        "name": "ipython",
        "version": 3
      },
      "file_extension": ".py",
      "mimetype": "text/x-python",
      "name": "python",
      "nbconvert_exporter": "python",
      "pygments_lexer": "ipython3",
      "version": "3.8"
    }
  },
  "nbformat": 4,
  "nbformat_minor": 5
}