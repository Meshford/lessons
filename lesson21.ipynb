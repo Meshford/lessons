{
  "cells": [
    {
      "cell_type": "markdown",
      "metadata": {},
      "source": [
        "# 🧠 Урок 21: Введение в компьютерное зрение (CV)\n",
        "**Цель урока:** Познакомиться с основами компьютерного зрения, понять его задачи и связь с глубоким обучением, научиться выполнять базовые операции с изображениями. Подходит для новичков.\n",
        "\n",
        "## 📌 Что такое компьютерное зрение?\n",
        "- **Компьютерное зрение (CV)** — это область машинного обучения, которая позволяет компьютерам \"видеть\" и анализировать изображения или видео.\n",
        "- **Задачи CV:**\n",
        "  - **Классификация:** Определение, что изображено на картинке (например, кошка/собака).\n",
        "  - **Детекция:** Поиск объектов на изображении (например, лицо на фото).\n",
        "  - **Сегментация:** Выделение частей изображения (например, органы на МРТ).\n",
        "- **Аналогия:** Если компьютер — человек, то CV — это его глаза и мозг, которые обрабатывают визуальную информацию [[7]].\n",
        "\n",
        "💡 **Почему важно?** CV используется в автономных автомобилях, медицине, соцсетях и даже в фильтрах Instagram."
      ]
    },
    {
      "cell_type": "markdown",
      "metadata": {},
      "source": [
        "## 📚 История и развитие CV\n",
        "- **Классические методы:**\n",
        "  - Обнаружение краев (Canny, Sobel).\n",
        "  - Цветовые фильтры (например, HSV для выделения цветов).\n",
        "  - Формирование признаков (SIFT, HOG).\n",
        "- **Переход к глубокому обучению:**\n",
        "  - **CNN (сверточные нейросети):** Обнаруживают локальные паттерны (края, формы) через сверточные слои.\n",
        "  - **Преимущества:** Не требуют ручного извлечения признаков, лучше обобщают на новых данных.\n",
        "\n",
        "### Пример: Как работает CNN?\n",
        "- **Conv2D:** Обнаруживает края и углы.\n",
        "- **MaxPooling:** Уменьшает размер, сохраняя важные детали.\n",
        "- **Dense:** Классифицирует на основе признаков.\n",
        "\n",
        "💡 **Аналогия:** CNN — как детектор признаков: первый слой находит края, второй — формы, третий — комбинации признаков."
      ]
    },
    {
      "cell_type": "markdown",
      "metadata": {},
      "source": [
        "## 📦 Типы данных и форматы\n",
        "- **Изображения:** JPEG, PNG, BMP. JPEG — сжатие с потерями, PNG — без потерь, BMP — сырые данные.\n",
        "- **Видео:** Последовательность кадров (frames) с аудиодорожкой.\n",
        "- **3D-модели:** Используются в AR/VR, медицине.\n",
        "\n",
        "### Пример: Загрузка изображения\n",
        "```python\n",
        "from PIL import Image\n",
        "img = Image.open('example.jpg')\n",
        "print(img.size)  # Размер изображения\n",
        "```"
      ]
    },
    {
      "cell_type": "markdown",
      "metadata": {},
      "source": [
        "## 🧰 Базовые операции с изображениями\n",
        "- **Чтение и отображение:**\n",
        "  ```python\n",
        "  import cv2\n",
        "  img = cv2.imread('example.jpg')\n",
        "  plt.imshow(cv2.cvtColor(img, cv2.COLOR_BGR2RGB))  # OpenCV использует BGR, matplotlib — RGB\n",
        "  plt.axis('off')\n",
        "  plt.show()\n",
        "  ```\n",
        "- **Изменение размера:**\n",
        "  ```python\n",
        "  resized_img = cv2.resize(img, (100, 100))  # Изменить до 100x100 пикселей\n",
        "  ```\n",
        "- **Поворот:**\n",
        "  ```python\n",
        "  rows, cols = img.shape[:2]\n",
        "  M = cv2.getRotationMatrix2D((cols/2, rows/2), 45, 1)  # Поворот на 45 градусов\n",
        "  rotated_img = cv2.warpAffine(img, M, (cols, rows))\n",
        "  ```\n",
        "- **Изменение яркости:**\n",
        "  ```python\n",
        "  import numpy as np\n",
        "  bright_img = cv2.add(img, np.array([50.0]))  # Увеличение яркости\n",
        "  ```"
      ]
    },
    {
      "cell_type": "markdown",
      "metadata": {},
      "source": [
        "## 🧪 Практика: Подсчет цветов на изображении\n",
        "### Шаг 1: Установка библиотек\n",
        "```bash\n",
        "pip install opencv-python matplotlib scikit-learn\n",
        "```\n",
        "\n",
        "### Шаг 2: Загрузка изображения\n",
        "```python\n",
        "import cv2\n",
        "from sklearn.cluster import KMeans\n",
        "import numpy as np\n",
        "import matplotlib.pyplot as plt\n",
        "\n",
        "# Загрузка и преобразование\n",
        "img = cv2.imread('example.jpg')\n",
        "img = cv2.cvtColor(img, cv2.COLOR_BGR2RGB)  # Преобразование в RGB\n",
        "plt.imshow(img)\n",
        "plt.title('Оригинал')\n",
        "plt.axis('off')\n",
        "plt.show()\n",
        "```"
      ]
    },
    {
      "cell_type": "markdown",
      "metadata": {},
      "source": [
        "### Шаг 3: Подсчет цветов\n",
        "```python\n",
        "# Преобразование изображения в 2D-массив\n",
        "h, w = img.shape[:2]\n",
        "img_2D = img.reshape(h * w, 3)\n",
        "\n",
        "# Кластеризация цветов\n",
        "kmeans = KMeans(n_clusters=5)\n",
        "kmeans.fit(img_2D)\n",
        "colors = kmeans.cluster_centers_\n",
        "\n",
        "# Отображение цветов\n",
        "bar = np.zeros((100, 500, 3), dtype='uint8')\n",
        "for i, color in enumerate(colors):\n",
        "    bar[:, i*100:(i+1)*100, :] = color\n",
        "\n",
        "plt.imshow(bar)\n",
        "plt.title('Цветовая палитра')\n",
        "plt.axis('off')\n",
        "plt.show()\n",
        "```"
      ]
    },
    {
      "cell_type": "markdown",
      "metadata": {},
      "source": [
        "## 🌐 Популярные датасеты CV\n",
        "- **ImageNet:** 14 млн изображений, 1000 классов.\n",
        "- **COCO:** Обнаружение объектов, сегментация.\n",
        "- **CIFAR-10:** 60 тыс. изображений, 10 классов (самолеты, автомобили и т.д.).\n",
        "- **MNIST:** Рукописные цифры для обучения.\n",
        "\n",
        "### Пример: Загрузка CIFAR-10\n",
        "```python\n",
        "from keras.datasets import cifar10\n",
        "(X_train, y_train), (X_test, y_test) = cifar10.load_data()\n",
        "print(\"Размер данных:\", X_train.shape)  # (50000, 32, 32, 3)\n",
        "```"
      ]
    },
    {
      "cell_type": "markdown",
      "metadata": {},
      "source": [
        "## 🧱 Сверточные нейросети (CNN)\n",
        "- **Conv2D (сверточный слой):** Обнаруживает локальные паттерны (края, текстуры).\n",
        "- **MaxPooling (пулинг):** Уменкрати изображение, сохраняя важные признаки.\n",
        "- **Flatten:** Преобразует 2D-данные в 1D для полносвязных слоев.\n",
        "- **Dropout:** Предотвращает переобучение, случайно отключая нейроны.\n",
        "- **Пример архитектуры:**\n",
        "```python\n",
        "from keras.models import Sequential\n",
        "from keras.layers import Conv2D, MaxPooling2D, Flatten, Dense, Dropout\n",
        "\n",
        "model = Sequential([\n",
        "    Conv2D(32, (3, 3), activation='relu', input_shape=(32, 32, 3)),\n",
        "    MaxPooling2D((2, 2)),\n",
        "    Conv2D(64, (3, 3), activation='relu'),\n",
        "    MaxPooling2D((2, 2)),\n",
        "    Flatten(),\n",
        "    Dense(64, activation='relu'),\n",
        "    Dropout(0.5),\n",
        "    Dense(10, activation='softmax')\n",
        "])\n",
        "```"
      ]
    },
    {
      "cell_type": "markdown",
      "metadata": {},
      "source": [
        "## 📊 Реальные приложения CV\n",
        "- **Распознавание лиц:** Используется в смартфонах для разблокировки.\n",
        "- **Автопилоты:** Обнаружение дорог, знаков, пешеходов.\n",
        "- **Медицина:** Диагностика заболеваний по рентгену или МРТ.\n",
        "- **Робототехника:** Навигация, распознавание объектов.\n",
        "\n",
        "💡 **Аналогия:** CV — как очки для компьютера, помогающие ему видеть и понимать мир."
      ]
    },
    {
      "cell_type": "markdown",
      "metadata": {},
      "source": [
        "## 📝 Домашнее задание\n",
        "**Задача 1:** Найдите интересный пример применения CV (например, диагностика болезней по снимкам) и подготовьте короткий рассказ (200–300 слов):\n",
        "- Опишите, где используется CV.\n",
        "- Какие задачи решаются.\n",
        "- Какие технологии применяются.\n",
        "- Почему это важно.\n",
        "\n",
        "**Задача 2:** Обработайте несколько изображений:\n",
        "- Измените размер на 200x200 пикселей.\n",
        "- Поверните на 30 градусов.\n",
        "- Увеличьте яркость на 50 единиц.\n",
        "- Сохраните результаты в новые файлы."
      ]
    },
    {
      "cell_type": "code",
      "execution_count": null,
      "metadata": {},
      "outputs": [],
      "source": [
        "# Шаблон для обработки изображений\n",
        "import cv2\n",
        "import numpy as np\n",
        "\n",
        "# Чтение изображения\n",
        "img = cv2.imread('example.jpg')\n",
        "img = cv2.cvtColor(img, cv2.COLOR_BGR2RGB)\n",
        "plt.imshow(img)\n",
        "plt.title('Оригинал')\n",
        "plt.axis('off')\n",
        "plt.show()"
      ]
    },
    {
      "cell_type": "code",
      "execution_count": null,
      "metadata": {},
      "outputs": [],
      "source": [
        "# Изменение размера\n",
        "resized_img = cv2.resize(img, (200, 200))\n",
        "plt.imshow(resized_img)\n",
        "plt.title('Измененный размер')\n",
        "plt.axis('off')\n",
        "plt.show()"
      ]
    },
    {
      "cell_type": "code",
      "execution_count": null,
      "metadata": {},
      "outputs": [],
      "source": [
        "# Поворот\n",
        "rows, cols = img.shape[:2]\n",
        "M = cv2.getRotationMatrix2D((cols/2, rows/2), 30, 1)  # Поворот на 30 градусов\n",
        "rotated_img = cv2.warpAffine(img, M, (cols, rows))\n",
        "plt.imshow(rotated_img)\n",
        "plt.title('Повернутое изображение')\n",
        "plt.axis('off')\n",
        "plt.show()"
      ]
    },
    {
      "cell_type": "code",
      "execution_count": null,
      "metadata": {},
      "outputs": [],
      "source": [
        "# Изменение яркости\n",
        "bright_img = cv2.add(img, np.array([50.0]))  # Увеличение яркости\n",
        "plt.imshow(bright_img)\n",
        "plt.title('Увеличенная яркость')\n",
        "plt.axis('off')\n",
        "plt.show()"
      ]
    },
    {
      "cell_type": "code",
      "execution_count": null,
      "metadata": {},
      "outputs": [],
      "source": [
        "# Сохранение измененного изображения\n",
        "cv2.imwrite('resized.jpg', cv2.cvtColor(resized_img, cv2.COLOR_RGB2BGR))\n",
        "cv2.imwrite('rotated.jpg', cv2.cvtColor(rotated_img, cv2.COLOR_RGB2BGR))\n",
        "cv2.imwrite('bright.jpg', cv2.cvtColor(bright_img, cv2.COLOR_RGB2BGR))\n",
        "print(\"Изображения сохранены!\")"
      ]
    },
    {
      "cell_type": "markdown",
      "metadata": {},
      "source": [
        "## ✅ Рекомендации по выполнению домашнего задания\n",
        "- **Задача 1:** Используйте Google или Википедию для поиска примеров (например, диагностика рака по МРТ).\n",
        "- **Задача 2:** Следуйте шаблону, меняя параметры (угол поворота, яркость, размер).\n",
        "- **Подсказка:** Для сохранения используйте `cv2.imwrite()` с преобразованием в BGR (OpenCV сохраняет в BGR, а не RGB)."
      ]
    }
  ],
  "metadata": {
    "kernelspec": {
      "display_name": "Python 3",
      "language": "python",
      "name": "python3"
    },
    "language_info": {
      "codemirror_mode": {
        "name": "ipython",
        "version": 3
      },
      "file_extension": ".py",
      "mimetype": "text/x-python",
      "name": "python",
      "nbconvert_exporter": "python",
      "pygments_lexer": "ipython3",
      "version": "3.8.5"
    }
  },
  "nbformat": 4,
  "nbformat_minor": 4
}
