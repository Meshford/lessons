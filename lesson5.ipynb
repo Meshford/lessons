{
  "cells": [
    {
      "cell_type": "markdown",
      "metadata": {},
      "source": [
        "# 🧱 Урок 5: Объектно-Ориентированное Программирование (ООП) в Python\n",
        "\n",
        "**Цель урока:**\n",
        "- Понять основные концепции ООП: классы, объекты, методы, атрибуты, наследование.\n",
        "- Научиться создавать собственные классы и работать с ними.\n",
        "- Освоить принципы инкапсуляции, наследования и полиморфизма.\n",
        "- Выполнить практические задачи для закрепления материала."
      ]
    },
    {
      "cell_type": "markdown",
      "metadata": {},
      "source": [
        "## 🔁 1. Введение в ООП"
      ]
    },
    {
      "cell_type": "markdown",
      "metadata": {},
      "source": [
        "### Что такое ООП?\n",
        "\n",
        "**Объектно-ориентированное программирование (ООП)** — это стиль программирования, основанный на использовании **объектов** и **классов**.\n",
        "\n",
        "#### Основные идеи ООП:\n",
        "- **Инкапсуляция** — сокрытие деталей реализации внутри объекта.\n",
        "- **Наследование** — возможность создания нового класса на основе существующего.\n",
        "- **Полиморфизм** — способность использовать разные классы одинаковым образом через общий интерфейс."
      ]
    },
    {
      "cell_type": "markdown",
      "metadata": {},
      "source": [
        "### 💡 Почему используется ООП?\n",
        "- **Упрощает работу с большими проектами**\n",
        "- **Позволяет повторно использовать код**\n",
        "- **Улучшает читаемость и структуру программы**\n",
        "- **Помогает моделировать реальные объекты** (машины, пользователи, книги и т.д.)"
      ]
    },
    {
      "cell_type": "markdown",
      "metadata": {},
      "source": [
        "### 📌 Пример из жизни\n",
        "Представь, что ты создаешь игру. Ты можешь описать персонажей как объекты одного класса, например `Character`, но у каждого будут свои особенности: маг, воин, лучник. Используя наследование, ты можешь создать отдельные классы `Mage`, `Warrior`, `Archer`, которые будут унаследованы от базового класса `Character`."
      ]
    },
    {
      "cell_type": "markdown",
      "metadata": {},
      "source": [
        "## 🏗️ 2. Классы и объекты"
      ]
    },
    {
      "cell_type": "markdown",
      "metadata": {},
      "source": [
        "### Что такое класс и объект?\n",
        "- **Класс** — это шаблон, описание того, как должен выглядеть объект.\n",
        "- **Объект** — это экземпляр класса с конкретными данными."
      ]
    },
    {
      "cell_type": "code",
      "execution_count": null,
      "metadata": {},
      "outputs": [],
      "source": [
        "# Пример простого класса\n",
        "class Person:\n",
        "    pass\n",
        "\n",
        "# Создание объектов\n",
        "person1 = Person()\n",
        "person2 = Person()\n",
        "\n",
        "print(person1)\n",
        "print(person2)"
      ]
    },
    {
      "cell_type": "markdown",
      "metadata": {},
      "source": [
        "### 🧩 Атрибуты объекта\n",
        "Атрибуты — это характеристики объекта (например, имя, возраст).\n",
        "\n",
        "Метод `__init__()` — это **конструктор**, он вызывается при создании объекта."
      ]
    },
    {
      "cell_type": "code",
      "execution_count": null,
      "metadata": {},
      "outputs": [],
      "source": [
        "class Person:\n",
        "    def __init__(self, name, age):\n",
        "        self.name = name\n",
        "        self.age = age\n",
        "\n",
        "# Создание объекта\n",
        "person1 = Person(\"Алиса\", 30)\n",
        "\n",
        "print(person1.name)\n",
        "print(person1.age)"
      ]
    },
    {
      "cell_type": "markdown",
      "metadata": {},
      "source": [
        "### 🤔 Что такое `self`?\n",
        "`self` — это ссылка на сам объект. Он нужен, чтобы метод мог получить доступ к атрибутам и другим методам этого объекта."
      ]
    },
    {
      "cell_type": "markdown",
      "metadata": {},
      "source": [
        "### 🧪 Практика: Создай свой класс"
      ]
    },
    {
      "cell_type": "markdown",
      "metadata": {},
      "source": [
        "1. Создайте класс `Car` с атрибутами: марка, модель, год выпуска"
      ]
    },
    {
      "cell_type": "code",
      "execution_count": null,
      "metadata": {},
      "outputs": [],
      "source": [
        "# Реализуйте здесь"
      ]
    },
    {
      "cell_type": "markdown",
      "metadata": {},
      "source": [
        "2. Создайте несколько объектов класса `Car`"
      ]
    },
    {
      "cell_type": "code",
      "execution_count": null,
      "metadata": {},
      "outputs": [],
      "source": [
        "# Реализуйте здесь"
      ]
    },
    {
      "cell_type": "markdown",
      "metadata": {},
      "source": [
        "3. Добавьте атрибут цвет и выведите все атрибуты объекта"
      ]
    },
    {
      "cell_type": "code",
      "execution_count": null,
      "metadata": {},
      "outputs": [],
      "source": [
        "# Реализуйте здесь"
      ]
    },
    {
      "cell_type": "markdown",
      "metadata": {},
      "source": [
        "## 🛠 3. Методы класса"
      ]
    },
    {
      "cell_type": "markdown",
      "metadata": {},
      "source": [
        "### Что такое метод?\n",
        "Метод — это **функция**, которая принадлежит классу и работает с его объектами."
      ]
    },
    {
      "cell_type": "code",
      "execution_count": null,
      "metadata": {},
      "outputs": [],
      "source": [
        "class Person:\n",
        "    def __init__(self, name):\n",
        "        self.name = name\n",
        "    \n",
        "    def greet(self):\n",
        "        print(f\"Привет, меня зовут {self.name}!\")\n",
        "\n",
        "# Использование\n",
        "p = Person(\"Дима\")\n",
        "p.greet()"
      ]
    },
    {
      "cell_type": "markdown",
      "metadata": {},
      "source": [
        "### 🔄 Изменение атрибутов через методы"
      ]
    },
    {
      "cell_type": "code",
      "execution_count": null,
      "metadata": {},
      "outputs": [],
      "source": [
        "class Person:\n",
        "    def __init__(self, name, age):\n",
        "        self.name = name\n",
        "        self.age = age\n",
        "    \n",
        "    def birthday(self):\n",
        "        self.age += 1\n",
        "        print(f\"С днём рождения, {self.name}! Теперь тебе {self.age} лет.\")\n",
        "\n",
        "# Пример использования\n",
        "p = Person(\"Маша\", 17)\n",
        "p.birthday()"
      ]
    },
    {
      "cell_type": "markdown",
      "metadata": {},
      "source": [
        "### 🧪 Практика: Работа с методами"
      ]
    },
    {
      "cell_type": "markdown",
      "metadata": {},
      "source": [
        "1. Напишите метод `say_hello()`, который выводит приветствие"
      ]
    },
    {
      "cell_type": "code",
      "execution_count": null,
      "metadata": {},
      "outputs": [],
      "source": [
        "# Реализуйте здесь"
      ]
    },
    {
      "cell_type": "markdown",
      "metadata": {},
      "source": [
        "2. Напишите метод `get_age_in_months()`, возвращающий возраст в месяцах"
      ]
    },
    {
      "cell_type": "code",
      "execution_count": null,
      "metadata": {},
      "outputs": [],
      "source": [
        "# Реализуйте здесь"
      ]
    },
    {
      "cell_type": "markdown",
      "metadata": {},
      "source": [
        "3. Напишите метод `increase_age(years)`, увеличивающий возраст на заданное число лет"
      ]
    },
    {
      "cell_type": "code",
      "execution_count": null,
      "metadata": {},
      "outputs": [],
      "source": [
        "# Реализуйте здесь"
      ]
    },
    {
      "cell_type": "markdown",
      "metadata": {},
      "source": [
        "## 🔒 4. Инкапсуляция"
      ]
    },
    {
      "cell_type": "markdown",
      "metadata": {},
      "source": [
        "### Приватные атрибуты и методы\n",
        "Чтобы сделать атрибут приватным, добавь перед ним двойное подчеркивание `__`."
      ]
    },
    {
      "cell_type": "code",
      "execution_count": null,
      "metadata": {},
      "outputs": [],
      "source": [
        "class BankAccount:\n",
        "    def __init__(self, balance):\n",
        "        self.__balance = balance\n",
        "    \n",
        "    def deposit(self, amount):\n",
        "        self.__balance += amount\n",
        "    \n",
        "    def get_balance(self):\n",
        "        return self.__balance\n",
        "\n",
        "# Пример использования\n",
        "account = BankAccount(1000)\n",
        "account.deposit(500)\n",
        "print(account.get_balance())  # 1500\n",
        "# print(account.__balance)     # ❌ Ошибка: доступ запрещён"
      ]
    },
    {
      "cell_name": "markdown",
      "metadata": {},
      "source": [
        "### 🧠 Зачем нужно?"
      ]
    },
    {
      "cell_type": "markdown",
      "metadata": {},
      "source": [
        "- Защита данных от случайного изменения\n",
        "- Скрытие внутренней реализации\n",
        "- Управление доступом к данным через геттеры/сеттеры"
      ]
    },
    {
      "cell_type": "markdown",
      "metadata": {},
      "source": [
        "### 🧪 Практика: Инкапсуляция"
      ]
    },
    {
      "cell_type": "markdown",
      "metadata": {},
      "source": [
        "1. Создайте класс `BankAccount` с приватным атрибутом баланса"
      ]
    },
    {
      "cell_type": "code",
      "execution_count": null,
      "metadata": {},
      "outputs": [],
      "source": [
        "# Реализуйте здесь"
      ]
    },
    {
      "cell_type": "markdown",
      "metadata": {},
      "source": [
        "2. Добавьте методы пополнения и снятия средств"
      ]
    },
    {
      "cell_type": "code",
      "execution_count": null,
      "metadata": {},
      "outputs": [],
      "source": [
        "# Реализуйте здесь"
      ]
    },
    {
      "cell_type": "markdown",
      "metadata": {},
      "source": [
        "3. Добавьте проверку на достаточность средств при снятии"
      ]
    },
    {
      "cell_type": "code",
      "execution_count": null,
      "metadata": {},
      "outputs": [],
      "source": [
        "# Реализуйте здесь"
      ]
    },
    {
      "cell_type": "markdown",
      "metadata": {},
      "source": [
        "## 🧬 5. Наследование"
      ]
    },
    {
      "cell_type": "markdown",
      "metadata": {},
      "source": [
        "### Что такое наследование?\n",
        "Это механизм, позволяющий одному классу (подклассу) наследовать свойства и методы другого класса (родительского)."
      ]
    },
    {
      "cell_type": "code",
      "execution_count": null,
      "metadata": {},
      "outputs": [],
      "source": [
        "class Animal:\n",
        "    def __init__(self, name):\n",
        "        self.name = name\n",
        "    \n",
        "    def speak(self):\n",
        "        print(f\"{self.name} издаёт звук.\")\n",
        "\n",
        "# Подкласс\n",
        "class Dog(Animal):\n",
        "    def speak(self):\n",
        "        print(f\"{self.name} лает.\")\n",
        "\n",
        "# Использование\n",
        "dog = Dog(\"Барсик\")\n",
        "dog.speak()  # Барсик лает"
      ]
    },
    {
      "cell_type": "markdown",
      "metadata": {},
      "source": [
        "### 🔄 Переопределение методов"
      ]
    },
    {
      "cell_type": "markdown",
      "metadata": {},
      "source": [
        "Подкласс может переопределять поведение родительского класса."
      ]
    },
    {
      "cell_type": "code",
      "execution_count": null,
      "metadata": {},
      "outputs": [],
      "source": [
        "class Cat(Animal):\n",
        "    def speak(self):\n",
        "        print(f\"{self.name} мяукает.\")"
      ]
    },
    {
      "cell_type": "markdown",
      "metadata": {},
      "source": [
        "### 🚀 Использование `super()`"
      ]
    },
    {
      "cell_type": "markdown",
      "metadata": {},
      "source": [
        "Функция `super()` позволяет вызвать метод из родительского класса."
      ]
    },
    {
      "cell_type": "code",
      "execution_count": null,
      "metadata": {},
      "outputs": [],
      "source": [
        "class Cat(Animal):\n",
        "    def __init__(self, name, color):\n",
        "        super().__init__(name)  # вызываем __init__ из Animal\n",
        "        self.color = color\n",
        "    \n",
        "    def speak(self):\n",
        "        super().speak()  # вызываем speak() из Animal\n",
        "        print(f\"{self.name} мяукает.\")"
      ]
    },
    {
      "cell_type": "markdown",
      "metadata": {},
      "source": [
        "### 🧪 Практика: Наследование"
      ]
    },
    {
      "cell_type": "markdown",
      "metadata": {},
      "source": [
        "1. Создайте класс `Vehicle` с атрибутами: марка, модель"
      ]
    },
    {
      "cell_type": "code",
      "execution_count": null,
      "metadata": {},
      "outputs": [],
      "source": [
        "# Реализуйте здесь"
      ]
    },
    {
      "cell_type": "markdown",
      "metadata": {},
      "source": [
        "2. Создайте подкласс `Car`, добавив атрибут `max_speed`"
      ]
    },
    {
      "cell_type": "code",
      "execution_count": null,
      "metadata": {},
      "outputs": [],
      "source": [
        "# Реализуйте здесь"
      ]
    },
    {
      "cell_type": "markdown",
      "metadata": {},
      "source": [
        "3. Создайте подкласс `Truck`, добавив атрибут `load_capacity`"
      ]
    },
    {
      "cell_type": "code",
      "execution_count": null,
      "metadata": {},
      "outputs": [],
      "source": [
        "# Реализуйте здесь"
      ]
    },
    {
      "cell_type": "markdown",
      "metadata": {},
      "source": [
        "## 🌀 6. Полиморфизм"
      ]
    },
    {
      "cell_type": "markdown",
      "metadata": {},
      "source": [
        "### Что такое полиморфизм?\n",
        "Полиморфизм — это способность разных объектов отвечать на один и тот же вызов метода, но по-разному."
      ]
    },
    {
      "cell_type": "code",
      "execution_count": null,
      "metadata": {},
      "outputs": [],
      "source": [
        "animals = [Dog(\"Рекс\"), Cat(\"Мурка\", \"рыжая\")]\n",
        "\n",
        "for animal in animals:\n",
        "    animal.speak()  # каждый объект сам решает, какой метод вызвать"
      ]
    },
    {
      "cell_type": "markdown",
      "metadata": {},
      "source": [
        "### 🧪 Практика: Полиморфизм"
      ]
    },
    {
      "cell_type": "markdown",
      "metadata": {},
      "source": [
        "1. Создайте список из разных типов животных"
      ]
    },
    {
      "cell_type": "code",
      "execution_count": null,
      "metadata": {},
      "outputs": [],
      "source": [
        "# Реализуйте здесь"
      ]
    },
    {
      "cell_type": "markdown",
      "metadata": {},
      "source": [
        "2. Переберите их и вызовите метод `speak()`"
      ]
    },
    {
      "cell_type": "code",
      "execution_count": null,
      "metadata": {},
      "outputs": [],
      "source": [
        "# Реализуйте здесь"
      ]
    },
    {
      "cell_type": "markdown",
      "metadata": {},
      "source": [
        "3. Создайте подкласс `Robot` и добавьте ему уникальное поведение"
      ]
    },
    {
      "cell_type": "code",
      "execution_count": null,
      "metadata": {},
      "outputs": [],
      "source": [
        "# Реализуйте здесь"
      ]
    },
    {
      "cell_type": "markdown",
      "metadata": {},
      "source": [
        "## 🧪 7. Мини-практика"
      ]
    },
    {
      "cell_type": "markdown",
      "metadata": {},
      "source": [
        "### Задания:"
      ]
    },
    {
      "cell_type": "markdown",
      "metadata": {},
      "source": [
        "1. Создайте класс `Car` с атрибутами: марка, модель, год"
      ]
    },
    {
      "cell_type": "code",
      "execution_count": null,
      "metadata": {},
      "outputs": [],
      "source": [
        "# Реализуйте здесь"
      ]
    },
    {
      "cell_type": "markdown",
      "metadata": {},
      "source": [
        "2. Добавьте методы `description()` и `start()`"
      ]
    },
    {
      "cell_type": "code",
      "execution_count": null,
      "metadata": {},
      "outputs": [],
      "source": [
        "# Реализуйте здесь"
      ]
    },
    {
      "cell_type": "markdown",
      "metadata": {},
      "source": [
        "3. Создайте подкласс `ElectricCar`, добавив атрибут `battery_capacity`"
      ]
    },
    {
      "cell_type": "code",
      "execution_count": null,
      "metadata": {},
      "outputs": [],
      "source": [
        "# Реализуйте здесь"
      ]
    },
    {
      "cell_type": "markdown",
      "metadata": {},
      "source": [
        "4. Переопределите метод `start()` для `ElectricCar`"
      ]
    },
    {
      "cell_type": "code",
      "execution_count": null,
      "metadata": {},
      "outputs": [],
      "source": [
        "# Реализуйте здесь"
      ]
    },
    {
      "cell_type": "markdown",
      "metadata": {},
      "source": [
        "## 🏠 Домашнее задание"
      ]
    },
    {
      "cell_type": "markdown",
      "metadata": {},
      "source": [
        "Выберите один из вариантов ниже и реализуйте его полностью. Ваш класс должен содержать:\n",
        "- Атрибуты\n",
        "- Конструктор\n",
        "- Методы для работы с атрибутами\n",
        "- Возможность наследования (если выбран вариант с несколькими классами)"
      ]
    },
    {
      "cell_type": "markdown",
      "metadata": {},
      "source": [
        "### Вариант 1: Класс `Student`\n",
        "- Атрибуты: имя, возраст, список оценок\n",
        "- Методы:\n",
        "   - Добавление оценки\n",
        "   - Подсчет среднего балла\n",
        "   - Вывод информации о студенте"
      ]
    },
    {
      "cell_type": "code",
      "execution_count": null,
      "metadata": {},
      "outputs": [],
      "source": [
        "# Реализуйте здесь"
      ]
    },
    {
      "cell_type": "markdown",
      "metadata": {},
      "source": [
        "### Вариант 2: Класс `LibraryBook`\n",
        "- Атрибуты: название, автор, год издания, статус (доступна / выдана)\n",
        "- Методы:\n",
        "   - Выдать книгу\n",
        "   - Вернуть книгу\n",
        "   - Показать информацию"
      ]
    },
    {
      "cell_type": "code",
      "execution_count": null,
      "metadata": {},
      "outputs": [],
      "source": [
        "# Реализуйте здесь"
      ]
    },
    {
      "cell_type": "markdown",
      "metadata": {},
      "source": [
        "### Вариант 3: Класс `BankAccount`\n",
        "- Атрибуты: номер счёта, баланс\n",
        "- Методы:\n",
        "   - Пополнить счёт\n",
        "   - Снять средства\n",
        "   - Проверить баланс"
      ]
    },
    {
      "cell_type": "code",
      "execution_count": null,
      "metadata": {},
      "outputs": [],
      "source": [
        "# Реализуйте здесь"
      ]
    },
    {
      "cell_type": "markdown",
      "metadata": {},
      "source": [
        "## 🎯 Дополнительно: Расширьте функционал класса"
      ]
    },
    {
      "cell_type": "markdown",
      "metadata": {},
      "source": [
        "1. Добавьте в класс `Student` метод `is_honors()`, возвращающий True, если средний балл выше 4.5"
      ]
    },
    {
      "cell_type": "code",
      "execution_count": null,
      "metadata": {},
      "outputs": [],
      "source": [
        "# Реализуйте здесь"
      ]
    },
    {
      "cell_type": "markdown",
      "metadata": {},
      "source": [
        "2. Добавьте в класс `LibraryBook` проверку, можно ли взять книгу"
      ]
    },
    {
      "cell_type": "code",
      "execution_count": null,
      "metadata": {},
      "outputs": [],
      "source": [
        "# Реализуйте здесь"
      ]
    },
    {
      "cell_type": "markdown",
      "metadata": {},
      "source": [
        "3. Добавьте в `BankAccount` логирование операций в файл"
      ]
    },
    {
      "cell_type": "code",
      "execution_count": null,
      "metadata": {},
      "outputs": [],
      "source": [
        "# Реализуйте здесь"
      ]
    },
    {
      "cell_type": "markdown",
      "metadata": {},
      "source": [
        "## 🧠 Советы новичкам"
      ]
    },
    {
      "cell_type": "markdown",
      "metadata": {},
      "source": [
        "- Не усложняйте классы — делайте их простыми и понятными\n",
        "- Делайте методы маленькими и понятными\n",
        "- Используйте `super()` для вызова методов родителя\n",
        "- Используйте `__init__` для начальной инициализации\n",
        "- Пишите комментарии и документацию к классам"
      ]
    },
    {
      "cell_type": "markdown",
      "metadata": {},
      "source": [
        "## 📦 Примеры использования ООП"
      ]
    },
    {
      "cell_type": "markdown",
      "metadata": {},
      "source": [
        "- Базы данных: `User`, `Product`, `Order`\n",
        "- Игры: `Player`, `Enemy`, `Weapon`\n",
        "- GUI-приложения: `Button`, `Window`, `Form`\n",
        "- Фреймворки: `Model`, `View`, `Controller`"
      ]
    },
    {
      "cell_type": "markdown",
      "metadata": {},
      "source": [
        "## 🧪 Расширенная практика"
      ]
    },
    {
      "cell_type": "markdown",
      "metadata": {},
      "source": [
        "1. Создайте класс `Shape` и подклассы `Rectangle`, `Circle`. Реализуйте метод `area()` для каждого"
      ]
    },
    {
      "cell_type": "code",
      "execution_count": null,
      "metadata": {},
      "outputs": [],
      "source": [
        "# Реализуйте здесь"
      ]
    },
    {
      "cell_type": "markdown",
      "metadata": {},
      "source": [
        "2. Создайте класс `Employee` и подклассы `Manager`, `Engineer`. Реализуйте метод `work()`"
      ]
    },
    {
      "cell_type": "code",
      "execution_count": null,
      "metadata": {},
      "outputs": [],
      "source": [
        "# Реализуйте здесь"
      ]
    },
    {
      "cell_type": "markdown",
      "metadata": {},
      "source": [
        "3. Создайте класс `Animal`, подклассы `Cat`, `Dog`, `Bird`. Добавьте метод `make_sound()`"
      ]
    },
    {
      "cell_type": "code",
      "execution_count": null,
      "metadata": {},
      "outputs": [],
      "source": [
        "# Реализуйте здесь"
      ]
    },
    {
      "cell_type": "markdown",
      "metadata": {},
      "source": [
        "## 🎯 Итог"
      ]
    },
    {
      "cell_type": "markdown",
      "metadata": {},
      "source": [
        "Вы узнали:\n",
        "- Что такое классы и объекты\n",
        "- Как создавать атрибуты и методы\n",
        "- Как работать с инкапсуляцией (`__private`)\n",
        "- Как использовать наследование и `super()`\n",
        "- Что такое полиморфизм\n",
        "- Как применять ООП на практике\n",
        "\n",
        "Теперь вы можете создавать сложные структуры, повторно использовать код, строить иерархии классов и делать программы более модульными и читаемыми."
      ]
    },
    {
      "cell_type": "markdown",
      "metadata": {},
      "source": [
        "## 📌 Дополнительная информация"
      ]
    },
    {
      "cell_type": "markdown",
      "metadata": {},
      "source": [
        "- Можно создавать классы без `__init__` — тогда используются значения по умолчанию\n",
        "- Методы могут принимать любое количество аргументов\n",
        "- Можно наследовать не только от одного класса, но и от нескольких (множественное наследование)\n",
        "- В Python есть специальные методы, такие как `__str__`, `__repr__`, `__len__` и другие"
      ]
    },
    {
      "cell_type": "markdown",
      "metadata": {},
      "source": [
        "## 🧩 Пример: Множественное наследование"
      ]
    },
    {
      "cell_type": "code",
      "execution_count": null,
      "metadata": {},
      "outputs": [],
      "source": [
        "class A:\n",
        "    def method_a(self):\n",
        "        print(\"A\")\n",
        "\n",
        "class B:\n",
        "    def method_b(self):\n",
        "        print(\"B\")\n",
        "\n",
        "class C(A, B):\n",
        "    pass\n",
        "\n",
        "c = C()\n",
        "c.method_a()\n",
        "c.method_b()"
      ]
    },
    {
      "cell_type": "markdown",
      "metadata": {},
      "source": [
        "## 📌 Дополнительная литература"
      ]
    },
    {
      "cell_type": "markdown",
      "metadata": {},
      "source": [
        "- [https://docs.python.org/3/tutorial/classes.html ](https://docs.python.org/3/tutorial/classes.html ) — официальная документация по классам\n",
        "- [https://realpython.com/python3-object-oriented-programming/ ](https://realpython.com/python3-object-oriented-programming/ ) — статья на RealPython\n",
        "- [https://www.w3schools.com/python/python_classes.asp ](https://www.w3schools.com/python/python_classes.asp ) — примеры и объяснения"
      ]
    },
    {
      "cell_type": "markdown",
      "metadata": {},
      "source": [
        "## 🧪 Задания на понимание"
      ]
    },
    {
      "cell_type": "markdown",
      "metadata": {},
      "source": [
        "1. Создайте класс `Person` и подкласс `Teacher`, `Student`"
      ]
    },
    {
      "cell_type": "code",
      "execution_count": null,
      "metadata": {},
      "outputs": [],
      "source": [
        "# Реализуйте здесь"
      ]
    },
    {
      "cell_type": "markdown",
      "metadata": {},
      "source": [
        "2. Создайте класс `Device` и подклассы `Phone`, `Laptop`, `Smartwatch`"
      ]
    },
    {
      "cell_type": "code",
      "execution_count": null,
      "metadata": {},
      "outputs": [],
      "source": [
        "# Реализуйте здесь"
      ]
    },
    {
      "cell_type": "markdown",
      "metadata": {},
      "source": [
        "3. Создайте класс `Account` и подклассы `SavingsAccount`, `CheckingAccount`"
      ]
    },
    {
      "cell_type": "code",
      "execution_count": null,
      "metadata": {},
      "outputs": [],
      "source": [
        "# Реализуйте здесь"
      ]
    },
    {
      "cell_type": "markdown",
      "metadata": {},
      "source": [
        "## 🎉 Заключение"
      ]
    },
    {
      "cell_type": "markdown",
      "metadata": {},
      "source": [
        "Сегодня вы сделали огромный шаг вперёд: познакомились с ключевыми концепциями ООП, научились создавать классы, работать с объектами, использовать наследование и полиморфизм. Это фундамент, на котором строятся большие программы, игры, веб-приложения и даже ИИ-проекты.\n",
        "\n",
        "На следующем занятии мы будем изучать продвинутые темы: магические методы, абстрактные классы, интерфейсы и ещё больше возможностей ООП в Python!"
      ]
    }
  ],
  "metadata": {
    "kernelspec": {
      "display_name": "Python 3",
      "language": "python",
      "name": "python3"
    },
    "language_info": {
      "codemirror_mode": {
        "name": "ipython",
        "version": 3
      },
      "file_extension": ".py",
      "mimetype": "text/x-python",
      "name": "python",
      "nbconvert_exporter": "python",
      "pygments_lexer": "ipython3",
      "version": "3.8"
    }
  },
  "nbformat": 4,
  "nbformat_minor": 5
}