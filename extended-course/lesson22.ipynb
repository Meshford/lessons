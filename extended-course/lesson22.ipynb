{
  "cells": [
    {
      "cell_type": "markdown",
      "metadata": {},
      "source": [
        "# 🧠 Урок 22: Расширенные методы ML — SVM, деревья решений, ансамбли\n",
        "**Цель урока:** Познакомиться с продвинутыми методами машинного обучения: SVM, деревьями решений, ансамблевыми моделями (Random Forest, XGBoost). Подходит для новичков.\n",
        "\n",
        "## 📌 Зачем нужны расширенные методы?\n",
        "- **SVM** — эффективен при работе с данными, где классы сложно разделить.\n",
        "- **Деревья решений** — просты в интерпретации, подходят для нелинейных зависимостей.\n",
        "- **Ансамбли** — комбинируют несколько моделей для повышения точности.\n",
        "\n",
        "💡 **Аналогия:** Если машинное обучение — это командная игра, то ансамбли — это сборная команда, где каждый игрок (модель) компенсирует слабости других [[6]](https://example.com )."
      ]
    },
    {
      "cell_type": "markdown",
      "metadata": {},
      "source": [
        "## 🛡️ Метод опорных векторов (SVM)\n",
        "### Что это?\n",
        "- **SVM (Support Vector Machine)** — алгоритм, который ищет гиперплоскость, максимально разделяющую классы.\n",
        "- **Гиперплоскость:** Вообразите, что вы хотите разделить красные и синие точки на бумаге. SVM находит линию, которая максимально далеко отстоит от точек обоих классов.\n",
        "- **Опорные векторы:** Точки, которые находятся ближе всего к границе. От них зависит положение гиперплоскости.\n",
        "- **Kernel Trick:** Преобразует данные в пространство, где их можно разделить (например, RBF-ядро).\n",
        "\n",
        "### Почему SVM работает?\n",
        "- **Hard Margin:** Идеальное разделение (но не подходит для реальных данных).\n",
        "- **Soft Margin:** Позволяет некоторые ошибки, чтобы улучшить обобщающую способность.\n",
        "- **Ядра:**\n",
        "  - `linear`: Простая прямая линия.\n",
        "  - `rbf`: Работает с нелинейными границами.\n",
        "  - `poly`: Полиномиальное ядро для сложных зависимостей.\n",
        "\n",
        "### Когда использовать SVM?\n",
        "- Когда данные имеют четкую границу между классами.\n",
        "- Для задач с небольшими наборами данных.\n",
        "- Если важна точность, а не скорость.\n",
        "\n",
        "### Ограничения SVM\n",
        "- Медленный на больших данных.\n",
        "- Чувствителен к масштабу признаков (нормализуйте данные перед использованием).\n",
        "- Требует настройки параметров (например, `C`, `gamma`).\n",
        "\n",
        "### Пример:\n",
        "```python\n",
        "from sklearn.svm import SVC\n",
        "svm = SVC(kernel='rbf', C=10, gamma='scale')\n",
        "svm.fit(X_train[:5000], y_train[:5000])  # Используем часть данных для ускорения\n",
        "print(svm.score(X_test[:1000], y_test[:1000]))  # Точность на подвыборке\n",
        "```"
      ]
    },
    {
      "cell_type": "markdown",
      "metadata": {},
      "source": [
        "## 🌳 Деревья решений\n",
        "### Что это?\n",
        "- **Дерево решений** — это модель в виде дерева, где каждый узел — вопрос, лист — предсказание.\n",
        "- **Как работает?** Разбивает данные на основе признаков, чтобы уменьшить неопределенность.\n",
        "- **Пример:** В задаче \"купить или не купить\" дерево может спрашивать: \"Доход > 50k?\", \"Возраст < 30?\" и т.д.\n",
        "\n",
        "### Ключевые понятия\n",
        "- **Критерии разбиения:**\n",
        "  - **Gini (неопределенность):** Чем меньше значение, тем чище узел.\n",
        "  - **Entropy (энтропия):** Мера хаоса. Чем ниже, тем лучше.\n",
        "- **Глубина дерева (`max_depth`):** Контролирует, насколько глубоко будет разбиваться дерево.\n",
        "- **Overfitting:** Если дерево слишком глубокое, оно запоминает данные. Решается через `max_depth` или `min_samples_leaf`.\n",
        "\n",
        "### Преимущества деревьев\n",
        "- Не требуют нормализации данных.\n",
        "- Легко интерпретировать (можно визуализировать).\n",
        "- Хорошо работают с категориальными признаками.\n",
        "\n",
        "### Ограничения\n",
        "- Склонны к переобучению.\n",
        "- Чувствительны к малым изменениям данных.\n",
        "- Медленные на больших данных.\n",
        "\n",
        "### Пример:\n",
        "```python\n",
        "from sklearn.tree import DecisionTreeClassifier\n",
        "tree = DecisionTreeClassifier(max_depth=3)\n",
        "tree.fit(X_train, y_train)\n",
        "print(tree.score(X_test, y_test))\n",
        "```"
      ]
    },
    {
      "cell_type": "markdown",
      "metadata": {},
      "source": [
        "## 🧩 Ансамблевые методы\n",
        "### Что это?\n",
        "- **Ансамблевые методы** — это модели, которые комбинируют несколько базовых алгоритмов для повышения точности.\n",
        "- **Bagging (Bootstrap Aggregation):** Обучает несколько моделей на случайных подвыборках и объединяет их предсказания.\n",
        "- **Boosting:** Каждая следующая модель исправляет ошибки предыдущих.\n",
        "- **Stacking:** Использует мета-модель для комбинации предсказаний.\n",
        "\n",
        "### Random Forest\n",
        "- **Что это?** Несколько деревьев решений, где финальное предсказание — голосование.\n",
        "- **Преимущества:**\n",
        "  - Устойчивость к переобучению.\n",
        "  - Хорошая производительность на различных типах данных.\n",
        "- **Параметры:**\n",
        "  - `n_estimators`: Число деревьев.\n",
        "  - `max_depth`: Глубина дерева.\n",
        "  - `min_samples_split`: Минимальное число образцов для разбиения.\n",
        "\n",
        "### XGBoost\n",
        "- **Что это?** Градиентный бустинг, который строит деревья последовательно, исправляя ошибки.\n",
        "- **Преимущества:**\n",
        "  - Высокая точность.\n",
        "  - Поддержка регуляризации для борьбы с переобучением.\n",
        "  - Работает с числовыми и категориальными признаками.\n",
        "- **Параметры:**\n",
        "  - `n_estimators`: Число деревьев.\n",
        "  - `learning_rate`: Шаг обучения.\n",
        "  - `max_depth`: Глубина дерева.\n",
        "\n",
        "### Пример: Random Forest\n",
        "```python\n",
        "from sklearn.ensemble import RandomForestClassifier\n",
        "forest = RandomForestClassifier(n_estimators=100)\n",
        "forest.fit(X_train, y_train)\n",
        "print(forest.score(X_test, y_test))\n",
        "```"
      ]
    },
    {
      "cell_type": "markdown",
      "metadata": {},
      "source": [
        "## 📊 Примеры применения\n",
        "- **SVM:** Обнаружение мошенничества, классификация текстов.\n",
        "- **Деревья:** Анализ решений в бизнесе, медицинская диагностика.\n",
        "- **Ансамбли:** Соревнования Kaggle, рекомендательные системы.\n",
        "\n",
        "💡 **Совет:**\n",
        "- **SVM:** Используйте для задач с четкой границей между классами.\n",
        "- **Random Forest:** Для быстрого старта с высокой точностью.\n",
        "- **XGBoost:** Для сложных задач, где нужна максимальная точность."
      ]
    },
    {
      "cell_type": "markdown",
      "metadata": {},
      "source": [
        "## 📈 Как работает ансамблевое обучение?\n",
        "- **Bagging (Bootstrap Aggregation):** Обучает несколько моделей на случайных подвыборках и объединяет их предсказания.\n",
        "- **Boosting:** Каждая следующая модель исправляет ошибки предыдущих.\n",
        "- **Stacking:** Использует мета-модель для комбинации предсказаний.\n",
        "\n",
        "### Пример: Random Forest\n",
        "```python\n",
        "forest = RandomForestClassifier(n_estimators=100)\n",
        "forest.fit(X_train, y_train)\n",
        "```"
      ]
    },
    {
      "cell_type": "markdown",
      "metadata": {},
      "source": [
        "## 🧪 Практика: Сравнение методов на Iris датасете\n",
        "### Шаг 1: Загрузка датасета"
      ]
    },
    {
      "cell_type": "code",
      "execution_count": null,
      "metadata": {},
      "outputs": [],
      "source": [
        "from sklearn.datasets import load_iris\n",
        "from sklearn.model_selection import train_test_split\n",
        "import pandas as pd\n",
        "\n",
        "# Загрузка данных\n",
        "iris = load_iris()\n",
        "X, y = iris.data, iris.target\n",
        "X_train, X_test, y_train, y_test = train_test_split(X, y, test_size=0.2, random_state=42)\n",
        "print(\"Размер данных:\", X.shape)  # (150, 4)"
      ]
    },
    {
      "cell_type": "markdown",
      "metadata": {},
      "source": [
        "### Шаг 2: Обучение SVM"
      ]
    },
    {
      "cell_type": "code",
      "execution_count": null,
      "metadata": {},
      "outputs": [],
      "source": [
        "from sklearn.svm import SVC\n",
        "from sklearn.metrics import accuracy_score\n",
        "\n",
        "# Обучение\n",
        "svm = SVC(kernel='linear')\n",
        "svm.fit(X_train, y_train)\n",
        "\n",
        "# Оценка\n",
        "y_pred_svm = svm.predict(X_test)\n",
        "accuracy_svm = accuracy_score(y_test, y_pred_svm)\n",
        "print(f'SVM Accuracy: {accuracy_svm:.2f}')"
      ]
    },
    {
      "cell_type": "markdown",
      "metadata": {},
      "source": [
        "### Шаг 3: Обучение дерева решений"
      ]
    },
    {
      "cell_type": "code",
      "execution_count": null,
      "metadata": {},
      "outputs": [],
      "source": [
        "from sklearn.tree import DecisionTreeClassifier\n",
        "\n",
        "# Обучение\n",
        "tree = DecisionTreeClassifier(max_depth=3)\n",
        "tree.fit(X_train, y_train)\n",
        "\n",
        "# Оценка\n",
        "y_pred_tree = tree.predict(X_test)\n",
        "accuracy_tree = accuracy_score(y_test, y_pred_tree)\n",
        "print(f'Tree Accuracy: {accuracy_tree:.2f}')"
      ]
    },
    {
      "cell_type": "markdown",
      "metadata": {},
      "source": [
        "### Шаг 4: Обучение Random Forest"
      ]
    },
    {
      "cell_type": "code",
      "execution_count": null,
      "metadata": {},
      "outputs": [],
      "source": [
        "from sklearn.ensemble import RandomForestClassifier\n",
        "\n",
        "# Обучение\n",
        "forest = RandomForestClassifier(n_estimators=50)\n",
        "forest.fit(X_train, y_train)\n",
        "\n",
        "# Оценка\n",
        "y_pred_forest = forest.predict(X_test)\n",
        "accuracy_forest = accuracy_score(y_test, y_pred_forest)\n",
        "print(f'Random Forest Accuracy: {accuracy_forest:.2f}')"
      ]
    },
    {
      "cell_type": "markdown",
      "metadata": {},
      "source": [
        "### Шаг 5: Обучение XGBoost"
      ]
    },
    {
      "cell_type": "code",
      "execution_count": null,
      "metadata": {},
      "outputs": [],
      "source": [
        "from xgboost import XGBClassifier\n",
        "\n",
        "# Обучение\n",
        "xgb = XGBClassifier(use_label_encoder=False)\n",
        "xgb.fit(X_train, y_train)\n",
        "\n",
        "# Оценка\n",
        "y_pred_xgb = xgb.predict(X_test)\n",
        "accuracy_xgb = accuracy_score(y_test, y_pred_xgb)\n",
        "print(f'XGBoost Accuracy: {accuracy_xgb:.2f}')"
      ]
    },
    {
      "cell_type": "markdown",
      "metadata": {},
      "source": [
        "### Шаг 6: Сравнение моделей"
      ]
    },
    {
      "cell_type": "code",
      "execution_count": null,
      "metadata": {},
      "outputs": [],
      "source": [
        "import matplotlib.pyplot as plt\n",
        "\n",
        "# График точности\n",
        "models = ['SVM', 'Decision Tree', 'Random Forest', 'XGBoost']\n",
        "accuracies = [accuracy_svm, accuracy_tree, accuracy_forest, accuracy_xgb]\n",
        "\n",
        "plt.bar(models, accuracies, color=['blue', 'green', 'orange', 'red'])\n",
        "plt.ylabel('Accuracy')\n",
        "plt.title('Model Comparison on Iris Dataset')\n",
        "plt.ylim(0.9, 1.0)\n",
        "plt.show()"
      ]
    },
    {
      "cell_type": "markdown",
      "metadata": {},
      "source": [
        "## 📉 Что такое переобучение и как его избежать?\n",
        "- **Переобучение (Overfitting):** Модель идеально запоминает тренировочные данные, но плохо работает на тестовых.\n",
        "- **Причины:**\n",
        "  - Слишком сложная модель.\n",
        "  - Недостаток данных.\n",
        "- **Как бороться:**\n",
        "  - Упрощение модели.\n",
        "  - Добавление регуляризации (например, `Dropout`, `L2`).\n",
        "  - Увеличение данных (например, аугментация).\n",
        "- **Как обнаружить?** Если `val_loss` растет, а `loss` падает — переобучение!\n",
        "\n",
        "### Пример: Random Forest с регуляризацией\n",
        "```python\n",
        "from sklearn.ensemble import RandomForestClassifier\n",
        "\n",
        "# Модель с регуляризацией\n",
        "forest = RandomForestClassifier(n_estimators=100, max_depth=5, min_samples_split=4)\n",
        "forest.fit(X_train, y_train)\n",
        "```"
      ]
    },
    {
      "cell_type": "markdown",
      "metadata": {},
      "source": [
        "## 📊 Как выбрать лучшую модель?\n",
        "- **Точность (Accuracy):** Подходит для сбалансированных классов.\n",
        "- **F1-score:** Для несбалансированных задач.\n",
        "- **ROC-AUC:** Для бинарной классификации.\n",
        "- **GridSearchCV:** Автоматический подбор гиперпараметров.\n",
        "- **Пример:**\n",
        "  ```python\n",
        "  from sklearn.model_selection import GridSearchCV\n",
        "  grid = GridSearchCV(RandomForestClassifier(), param_grid, cv=3, scoring='accuracy')\n",
        "  ```"
      ]
    },
    {
      "cell_type": "markdown",
      "metadata": {},
      "source": [
        "## 📈 Графики обучения: как читать и интерпретировать\n",
        "- **Overfitting:** `loss` падает, `val_loss` растет.\n",
        "- **Underfitting:** Оба значения высокие, accuracy низкая.\n",
        "- **Хорошее обучение:** Оба значения стабильны и низкие.\n",
        "\n",
        "### Пример:\n",
        "```python\n",
        "import matplotlib.pyplot as plt\n",
        "\n",
        "# График loss\n",
        "plt.plot(history.history['loss'], label='Train Loss')\n",
        "plt.plot(history.history['val_loss'], label='Validation Loss')\n",
        "plt.legend()\n",
        "plt.title('Loss по эпохам')\n",
        "plt.xlabel('Эпохи')\n",
        "plt.ylabel('MSE')\n",
        "plt.grid(True)\n",
        "plt.show()\n",
        "```"
      ]
    },
    {
      "cell_type": "markdown",
      "metadata": {},
      "source": [
        "## 🧪 Практика: Анализ ошибок модели\n",
        "### Шаг 1: Confusion Matrix для Random Forest"
      ]
    },
    {
      "cell_type": "code",
      "execution_count": null,
      "metadata": {},
      "outputs": [],
      "source": [
        "from sklearn.metrics import confusion_matrix\n",
        "import seaborn as sns\n",
        "\n",
        "# Матрица ошибок\n",
        "cm = confusion_matrix(y_test, y_pred_forest)\n",
        "sns.heatmap(cm, annot=True, fmt='d')\n",
        "plt.title('Confusion Matrix для Random Forest')\n",
        "plt.xlabel('Predicted')\n",
        "plt.ylabel('True')\n",
        "plt.show()"
      ]
    },
    {
      "cell_type": "markdown",
      "metadata": {},
      "source": [
        "### Шаг 2: Classification Report\n",
        "```python\n",
        "from sklearn.metrics import classification_report\n",
        "report = classification_report(y_test, y_pred_forest)\n",
        "print(report)\n",
        "```"
      ]
    },
    {
      "cell_type": "markdown",
      "metadata": {},
      "source": [
        "## 📝 Домашнее задание\n",
        "### Задача 1: Измените архитектуру Random Forest\n",
        "- Увеличьте число деревьев до 200.\n",
        "- Установите `max_depth=5`.\n",
        "- Как меняется `accuracy`?\n",
        "- Нарисуйте графики обучения.\n",
        "- Визуализируйте confusion matrix для новых параметров."
      ]
    },
    {
      "cell_type": "code",
      "execution_count": null,
      "metadata": {},
      "outputs": [],
      "source": [
        "# Ваш код здесь\n",
        "from sklearn.ensemble import RandomForestClassifier\n",
        "from sklearn.metrics import accuracy_score\n",
        "\n",
        "# Измененная архитектура\n",
        "modified_forest = RandomForestClassifier(n_estimators=200, max_depth=5)\n",
        "modified_forest.fit(X_train, y_train)\n",
        "\n",
        "# Оценка\n",
        "y_pred_modified = modified_forest.predict(X_test)\n",
        "accuracy_modified = accuracy_score(y_test, y_pred_modified)\n",
        "print(f'Random Forest Accuracy (измененный): {accuracy_modified:.2f}')"
      ]
    },
    {
      "cell_type": "markdown",
      "metadata": {},
      "source": [
        "### Задача 2: Добавьте аугментацию данных и обучите XGBoost с разными гиперпараметрами."
      ]
    },
    {
      "cell_type": "code",
      "execution_count": null,
      "metadata": {},
      "outputs": [],
      "source": [
        "from xgboost import XGBClassifier\n",
        "from sklearn.model_selection import GridSearchCV\n",
        "\n",
        "# Параметры для перебора\n",
        "param_grid = {'n_estimators': [50, 100], 'learning_rate': [0.1, 0.2]}\n",
        "\n",
        "# Поиск лучшей модели\n",
        "grid = GridSearchCV(XGBClassifier(), param_grid, cv=3, scoring='accuracy')\n",
        "grid.fit(X_train, y_train)\n",
        "\n",
        "# Лучшие параметры\n",
        "print(grid.best_params_)"
      ]
    },
    {
      "cell_type": "markdown",
      "metadata": {},
      "source": [
        "## ✅ Рекомендации по выполнению домашнего задания\n",
        "- **Задача 1:** Убедитесь, что вы используете правильное количество деревьев и глубину.\n",
        "- **Задача 2:** Попробуйте разные значения `n_estimators` и `learning_rate`.\n",
        "- **Визуализация:** Используйте `sns.heatmap` для матрицы ошибок.\n",
        "- **Подсказка:** Чем больше деревьев, тем выше точность, но дольше обучение."
      ]
    }
  ],
  "metadata": {
    "kernelspec": {
      "display_name": "Python 3",
      "language": "python",
      "name": "python3"
    },
    "language_info": {
      "codemirror_mode": {
        "name": "ipython",
        "version": 3
      },
      "file_extension": ".py",
      "mimetype": "text/x-python",
      "name": "python",
      "nbconvert_exporter": "python",
      "pygments_lexer": "ipython3",
      "version": "3.8.5"
    }
  },
  "nbformat": 4,
  "nbformat_minor": 4
}
