{
  "cells": [
    {
      "cell_type": "markdown",
      "metadata": {},
      "source": [
        "# 🧠 Урок 26: Обработка изображений, видео и текста\n",
        "**Цель урока:** Научиться обрабатывать разные типы данных: изображения, видео и текст. Подходит для новичков.\n",
        "\n",
        "## 📌 Почему данные разные?\n",
        "- **Изображения:** Матрицы пикселей, где каждый пиксель — числовое значение цвета.\n",
        "- **Видео:** Последовательность кадров (изображений), где каждый кадр имеет временную метку.\n",
        "- **Текст:** Последовательность слов, требует преобразования в числа для работы с ML.\n",
        "- **Аналогия:** Если данные — это книги, то изображения — это романы, видео — энциклопедии, а текст — учебники."
      ]
    },
    {
      "cell_type": "markdown",
      "metadata": {},
      "source": [
        "## 📐 Обработка изображений\n",
        "- **Форматы:** JPEG (сжатие с потерями), PNG (без потерь), BMP (сырые данные).\n",
        "- **Чтение:**\n",
        "  ```python\n",
        "  from PIL import Image\n",
        "  img = Image.open('example.jpg')\n",
        "  print(img.size)  # Размер изображения\n",
        "  ```\n",
        "- **Изменение размера:**\n",
        "  ```python\n",
        "  resized_img = img.resize((100, 100))  # Изменить до 100x100\n",
        "  ```\n",
        "- **Поворот:**\n",
        "  ```python\n",
        "  rotated_img = img.rotate(45)  # Поворот на 45 градусов\n",
        "  ```\n",
        "- **Цветовые преобразования:**\n",
        "  ```python\n",
        "  gray_img = img.convert('L')  # В градации серого\n",
        "  ```\n",
        "- **Аналогия:** Изображение — как карта, где каждый пиксель — точка с координатами и цветом."
      ]
    },
    {
      "cell_type": "markdown",
      "metadata": {},
      "source": [
        "## 🎥 Обработка видео\n",
        "- **Что такое видео?** Последовательность кадров с частотой кадров (fps).\n",
        "- **Ключевые операции:**\n",
        "  - Извлечение кадров.\n",
        "  - Обработка каждого кадра (например, детекция лиц).\n",
        "  - Слияние кадров обратно в видео.\n",
        "- **Пример: Извлечение кадров с помощью OpenCV**\n",
        "  ```python\n",
        "  import cv2\n",
        "  video = cv2.VideoCapture('video.mp4')\n",
        "  frame_count = 0\n",
        "  while True:\n",
        "      ret, frame = video.read()\n",
        "      if not ret:\n",
        "          break\n",
        "      cv2.imwrite(f'frames/frame_{frame_count}.jpg', frame)\n",
        "      frame_count += 1\n",
        "  video.release()\n",
        "  ```\n",
        "- **Аналогия:** Видео — как анимация, где каждый кадр — отдельная картинка."
      ]
    },
    {
      "cell_type": "markdown",
      "metadata": {},
      "source": [
        "## 📝 Обработка текста\n",
        "- **Токенизация:** Разбиение текста на слова или подслова.\n",
        "  ```python\n",
        "  from nltk.tokenize import word_tokenize\n",
        "  tokens = word_tokenize(\"Привет, мир!\")  # ['Привет', ',', 'мир', '!']\n",
        "  ```\n",
        "- **Удаление стоп-слов:**\n",
        "  ```python\n",
        "  from nltk.corpus import stopwords\n",
        "  filtered = [w for w in tokens if w.lower() not in stopwords.words('russian')]\n",
        "  ```\n",
        "- **Векторизация:** Преобразование текста в числа.\n",
        "  - **Bag of Words:** Счетчик слов.\n",
        "  - **TF-IDF:** Учитывает важность слов.\n",
        "  - **Word Embeddings:** Векторы слов (например, Word2Vec, GloVe).\n",
        "- **Пример:**\n",
        "  ```python\n",
        "  from sklearn.feature_extraction.text import TfidfVectorizer\n",
        "  vectorizer = TfidfVectorizer()\n",
        "  X = vectorizer.fit_transform([\"текст 1\", \"текст 2\"])\n",
        "  ```\n",
        "- **Аналогия:** Текст — как список покупок, где каждое слово — элемент, а TF-IDF — его важность для рецепта."
      ]
    },
    {
      "cell_type": "markdown",
      "metadata": {},
      "source": [
        "## 🧪 Практика: Обработка изображений\n",
        "### Шаг 1: Загрузка и преобразование"
      ]
    },
    {
      "cell_type": "code",
      "execution_count": null,
      "metadata": {},
      "outputs": [],
      "source": [
        "from PIL import Image\n",
        "import matplotlib.pyplot as plt\n",
        "\n",
        "# Загрузка изображения\n",
        "img = Image.open('example.jpg')\n",
        "print(\"Размер изображения:\", img.size)\n",
        "\n",
        "# Изменение размера\n",
        "resized_img = img.resize((200, 200))\n",
        "\n",
        "# В градациях серого\n",
        "gray_img = resized_img.convert('L')\n",
        "plt.imshow(gray_img, cmap='gray')\n",
        "plt.title('Градации серого')\n",
        "plt.axis('off')\n",
        "plt.show()"
      ]
    },
    {
      "cell_type": "markdown",
      "metadata": {},
      "source": [
        "## 🎥 Практика: Извлечение кадров из видео\n",
        "### Шаг 1: Извлечение кадров"
      ]
    },
    {
      "cell_type": "code",
      "execution_count": null,
      "metadata": {},
      "outputs": [],
      "source": [
        "import cv2\n",
        "\n",
        "# Открытие видеофайла\n",
        "video = cv2.VideoCapture('video.mp4')\n",
        "frame_count = 0\n",
        "\n",
        "# Сохранение кадров\n",
        "while True:\n",
        "    ret, frame = video.read()\n",
        "    if not ret:\n",
        "        break\n",
        "    cv2.imwrite(f'frames/frame_{frame_count}.jpg', frame)\n",
        "    frame_count += 1\n",
        "video.release()\n",
        "print(f'Извлечено {frame_count} кадров')"
      ]
    },
    {
      "cell_type": "markdown",
      "metadata": {},
      "source": [
        "### Шаг 2: Обработка кадров\n",
        "```python\n",
        "import os\n",
        "from PIL import Image\n",
        "\n",
        "# Обработка всех кадров\n",
        "for filename in os.listdir('frames'):\n",
        "    if filename.endswith('.jpg'):\n",
        "        img = Image.open(os.path.join('frames', filename))\n",
        "        gray_img = img.convert('L')\n",
        "        gray_img.save(os.path.join('processed_frames', filename))\n",
        "```"
      ]
    },
    {
      "cell_type": "markdown",
      "metadata": {},
      "source": [
        "## 📄 Практика: Обработка текста\n",
        "### Шаг 1: Очистка текста"
      ]
    },
    {
      "cell_type": "code",
      "execution_count": null,
      "metadata": {},
      "outputs": [],
      "source": [
        "import re\n",
        "from nltk.corpus import stopwords\n",
        "import nltk\n",
        "nltk.download('punkt')\n",
        "nltk.download('stopwords')\n",
        "\n",
        "# Пример текста\n",
        "text = \"Привет! Это пример текста для обработки. Нужно убрать стоп-слова и знаки препинания.\"\n",
        "\n",
        "# Очистка\n",
        "tokens = word_tokenize(text.lower())\n",
        "filtered = [w for w in tokens if w.isalpha() and w not in stopwords.words('russian')]"
      ]
    },
    {
      "cell_type": "markdown",
      "metadata": {},
      "source": [
        "### Шаг 2: Векторизация и классификация"
      ]
    },
    {
      "cell_type": "code",
      "execution_count": null,
      "metadata": {},
      "outputs": [],
      "source": [
        "from sklearn.feature_extraction.text import TfidfVectorizer\n",
        "from sklearn.linear_model import LogisticRegression\n",
        "\n",
        "# Векторизация\n",
        "vectorizer = TfidfVectorizer()\n",
        "X = vectorizer.fit_transform([\"текст 1\", \"текст 2\", \"другой текст\"])\n",
        "y = [0, 1, 0]  # Целевые метки\n",
        "\n",
        "# Обучение\n",
        "model = LogisticRegression()\n",
        "model.fit(X, y)\n",
        "\n",
        "# Предсказание\n",
        "new_text = vectorizer.transform([\"новый текст\"])\n",
        "print(model.predict(new_text))  # [1]"
      ]
    },
    {
      "cell_type": "markdown",
      "metadata": {},
      "source": [
        "## 📊 Примеры применения в реальном мире\n",
        "- **Изображения:** Распознавание лиц, медицинская диагностика.\n",
        "- **Видео:** Анализ действий, обнаружение объектов в реальном времени.\n",
        "- **Текст:** Анализ тональности, чат-боты, перевод.\n",
        "- **Аналогия:** Изображения — как фотографии, видео — как фильмы, текст — как книги."
      ]
    },
    {
      "cell_type": "markdown",
      "metadata": {},
      "source": [
        "## 📝 Домашнее задание\n",
        "**Задача 1:** Обработайте видео: извлеките кадры, измените их размер и сохраните.\n",
        "**Задача 2:** Обработайте текстовый датасет (например, отзывы о фильмах):\n",
        "- Очистите текст.\n",
        "- Векторизуйте его.\n",
        "- Обучите модель классификации.\n",
        "- Напишите отчет (200–300 слов), где:\n",
        "  - Опишите, как вы обработали данные.\n",
        "  - Сравните точность модели до и после очистки.\n",
        "  - Объясните, почему стоп-слова мешают.\n",
        "  - Приведите примеры, где эти методы полезны (например, чат-боты, анализ соцсетей)."
      ]
    },
    {
      "cell_type": "code",
      "execution_count": null,
      "metadata": {},
      "outputs": [],
      "source": [
        "# Ваш код здесь\n",
        "import cv2\n",
        "from PIL import Image\n",
        "import os\n",
        "\n",
        "# Извлечение кадров\n",
        "video = cv2.VideoCapture('video.mp4')\n",
        "frame_count = 0\n",
        "while True:\n",
        "    ret, frame = video.read()\n",
        "    if not ret:\n",
        "        break\n",
        "    cv2.imwrite(f'frames/frame_{frame_count}.jpg', frame)\n",
        "    frame_count += 1\n",
        "video.release()\n",
        "print(f'Извлечено {frame_count} кадров')"
      ]
    },
    {
      "cell_type": "code",
      "execution_count": null,
      "metadata": {},
      "outputs": [],
      "source": [
        "# Обработка кадров\n",
        "for filename in os.listdir('frames'):\n",
        "    if filename.endswith('.jpg'):\n",
        "        img = Image.open(os.path.join('frames', filename))\n",
        "        # Добавьте сюда код для изменения размера\n",
        "        # resized_img = ...\n",
        "        # gray_img = ...\n",
        "        # gray_img.save(...)"
      ]
    },
    {
      "cell_type": "code",
      "execution_count": null,
      "metadata": {},
      "outputs": [],
      "source": [
        "# Обработка текста\n",
        "from sklearn.datasets import fetch_20newsgroups\n",
        "from sklearn.feature_extraction.text import TfidfVectorizer\n",
        "from sklearn.linear_model import LogisticRegression\n",
        "from sklearn.metrics import accuracy_score\n",
        "\n",
        "# Загрузка текстового датасета\n",
        "newsgroups = fetch_20newsgroups(subset='train', categories=['sci.space', 'rec.sport.baseball'])\n",
        "X_train = newsgroups.data\n",
        "y_train = newsgroups.target\n",
        "\n",
        "# Векторизация\n",
        "vectorizer = TfidfVectorizer()\n",
        "X_train_vec = vectorizer.fit_transform(X_train)\n",
        "\n",
        "# Обучение модели\n",
        "model = LogisticRegression()\n",
        "model.fit(X_train_vec, y_train)"
      ]
    },
    {
      "cell_type": "code",
      "execution_count": null,
      "metadata": {},
      "outputs": [],
      "source": [
        "# Оценка\n",
        "newsgroups_test = fetch_20newsgroups(subset='test', categories=['sci.space', 'rec.sport.baseball'])\n",
        "X_test_vec = vectorizer.transform(newsgroups_test.data)\n",
        "accuracy = accuracy_score(newsgroups_test.target, model.predict(X_test_vec))\n",
        "print(f'Accuracy: {accuracy:.2f}')"
      ]
    },
    {
      "cell_type": "markdown",
      "metadata": {},
      "source": [
        "## ✅ Рекомендации по выполнению\n",
        "- **Задача 1:** Используйте `cv2.resize()` для изменения размера кадров.\n",
        "- **Задача 2:** Для текста уберите цифры и специальные символы через регулярные выражения.\n",
        "- **Подсказка:** Используйте `os.makedirs()` для создания папок под обработанные кадры."
      ]
    }
  ],
  "metadata": {
    "kernelspec": {
      "display_name": "Python 3",
      "language": "python",
      "name": "python3"
    },
    "language_info": {
      "codemirror_mode": {
        "name": "ipython",
        "version": 3
      },
      "file_extension": ".py",
      "mimetype": "text/x-python",
      "name": "python",
      "nbconvert_exporter": "python",
      "pygments_lexer": "ipython3",
      "version": "3.8.5"
    }
  },
  "nbformat": 4,
  "nbformat_minor": 4
}
