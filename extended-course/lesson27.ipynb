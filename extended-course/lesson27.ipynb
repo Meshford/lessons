{
  "cells": [
    {
      "cell_type": "markdown",
      "metadata": {},
      "source": [
        "# 🧠 Урок 27: Transfer Learning и предобученные модели\n",
        "**Цель урока:** Понять концепцию Transfer Learning, научиться использовать предобученные модели (например, MobileNet, ResNet) для решения новых задач. Подходит для новичков.\n",
        "\n",
        "## 📌 Что такое Transfer Learning?\n",
        "- **Transfer Learning** — это подход, при котором модель, обученная на одной задаче, используется в качестве основы для другой задачи.\n",
        "- **Зачем?** Экономит время, ресурсы и позволяет достигать высокой точности на малых датасетах.\n",
        "- **Аналогия:** Представьте, что вы учитесь играть на гитаре. Вместо обучения с нуля, вы используете навыки игры на пианино (похожие закономерности) [[1]]."
      ]
    },
    {
      "cell_type": "markdown",
      "metadata": {},
      "source": [
        "## 📐 Почему используют предобученные модели?\n",
        "- **Предобученные модели** уже изучили признаки на огромных датасетах (например, ImageNet).\n",
        "- **Преимущества:**\n",
        "  - Не нужно обучать сеть с нуля (экономия времени).\n",
        "  - Высокая точность на новых задачах.\n",
        "  - Меньше требований к данным (работает даже на 100–1000 изображений).\n",
        "- **Популярные архитектуры:**\n",
        "  - **ResNet:** Для сложных задач, устойчив к переобучению.\n",
        "  - **MobileNet:** Легковесная модель для мобильных устройств.\n",
        "  - **VGG16:** Простая и понятная для новичков.\n",
        "- **Аналогия:** Предобученная модель — как готовый рецепт, который вы адаптируете под свои продукты [[1]]."
      ]
    },
    {
      "cell_type": "markdown",
      "metadata": {},
      "source": [
        "## 🛠️ Как работает Transfer Learning?\n",
        "### 1. Фризинг (заморозка) слоев\n",
        "- **Что это?** Зафиксировать веса старых слоев, чтобы они не обновлялись при обучении.\n",
        "- **Зачем?** Сохранить изученные признаки (например, края, формы) для новой задачи.\n",
        "- **Пример:**\n",
        "  ```python\n",
        "  base_model.trainable = False  # Заморозка всей базовой модели\n",
        "  ```\n",
        "- **Аналогия:** Вы используете чужой ноутбук, но не меняете его код, только добавляете свой скрипт.\n",
        "\n",
        "### 2. Fine-tuning (дообучение)\n",
        "- **Что это?** Разморозка части слоев и дообучение на новых данных.\n",
        "- **Зачем?** Адаптация модели к специфичным признакам вашей задачи.\n",
        "- **Пример:**\n",
        "  ```python\n",
        "  for layer in base_model.layers[-20:]:  # Разморозка последних 20 слоев\n",
        "      layer.trainable = True\n",
        "  ```\n",
        "- **Аналогия:** После использования рецепта, вы экспериментируете с ингредиентами, чтобы улучшить блюдо."
      ]
    },
    {
      "cell_type": "markdown",
      "metadata": {},
      "source": [
        "## 📦 Практика: Transfer Learning на датасете котов и собак\n",
        "### Шаг 1: Загрузка данных"
      ]
    },
    {
      "cell_type": "code",
      "execution_count": null,
      "metadata": {},
      "outputs": [],
      "source": [
        "import tensorflow as tf\n",
        "import numpy as np\n",
        "from tensorflow.keras.preprocessing.image import ImageDataGenerator\n",
        "\n",
        "# Путь к данным\n",
        "_URL = 'https://storage.googleapis.com/mledu-datasets/cats_and_dogs_filtered.zip '\n",
        "path_to_zip = tf.keras.utils.get_file('cats_and_dogs.zip', origin=_URL, extract=True)\n",
        "PATH = os.path.join(os.path.dirname(path_to_zip), 'cats_and_dogs_filtered')\n",
        "\n",
        "train_dir = os.path.join(PATH, 'train')\n",
        "validation_dir = os.path.join(PATH, 'validation')\n",
        "\n",
        "# Генераторы данных\n",
        "train_datagen = ImageDataGenerator(rescale=1./255)\n",
        "test_datagen = ImageDataGenerator(rescale=1./255)\n",
        "\n",
        "train_generator = train_datagen.flow_from_directory(\n",
        "    train_dir,\n",
        "    target_size=(150, 150),\n",
        "    batch_size=32,\n",
        "    class_mode='binary')\n",
        "\n",
        "validation_generator = test_datagen.flow_from_directory(\n",
        "    validation_dir,\n",
        "    target_size=(150, 150),\n",
        "    batch_size=32,\n",
        "    class_mode='binary')"
      ]
    },
    {
      "cell_type": "markdown",
      "metadata": {},
      "source": [
        "### Шаг 2: Загрузка предобученной модели"
      ]
    },
    {
      "cell_type": "code",
      "execution_count": null,
      "metadata": {},
      "outputs": [],
      "source": [
        "from tensorflow.keras.applications import MobileNet\n",
        "from tensorflow.keras import layers, models\n",
        "\n",
        "# Загрузка MobileNet без верхнего слоя\n",
        "base_model = MobileNet(input_shape=(150, 150, 3), include_top=False, weights='imagenet')\n",
        "\n",
        "# Добавление новых слоев\n",
        "x = layers.GlobalAveragePooling2D()(base_model.output)\n",
        "x = layers.Dense(1024, activation='relu')(x)\n",
        "output = layers.Dense(1, activation='sigmoid')(x)\n",
        "\n",
        "model = models.Model(base_model.input, output)"
      ]
    },
    {
      "cell_type": "markdown",
      "metadata": {},
      "source": [
        "### Шаг 3: Фризинг слоев и обучение"
      ]
    },
    {
      "cell_type": "code",
      "execution_count": null,
      "metadata": {},
      "outputs": [],
      "source": [
        "# Фризинг\n",
        "base_model.trainable = False\n",
        "\n",
        "# Компиляция\n",
        "model.compile(optimizer='adam',\n",
        "              loss='binary_crossentropy',\n",
        "              metrics=['accuracy'])\n",
        "\n",
        "# Обучение\n",
        "history = model.fit(\n",
        "    train_generator,\n",
        "    steps_per_epoch=100,\n",
        "    epochs=5,\n",
        "    validation_data=validation_generator,\n",
        "    validation_steps=50,\n",
        "    verbose=2)"
      ]
    },
    {
      "cell_type": "markdown",
      "metadata": {},
      "source": [
        "### Шаг 4: Fine-tuning\n",
        "```python\n",
        "# Разморозка последних слоев\n",
        "for layer in base_model.layers[-20:]:\n",
        "    layer.trainable = True\n",
        "\n",
        "# Компиляция с малым learning rate\n",
        "model.compile(optimizer=tf.keras.optimizers.Adam(1e-5),\n",
        "              loss='binary_crossentropy',\n",
        "              metrics=['accuracy'])\n",
        "\n",
        "# Дообучение\n",
        "history_fine = model.fit(\n",
        "    train_generator,\n",
        "    steps_per_epoch=100,\n",
        "    epochs=10,\n",
        "    validation_data=validation_generator,\n",
        "    validation_steps=50,\n",
        "    verbose=2)\n",
        "```"
      ]
    },
    {
      "cell_type": "markdown",
      "metadata": {},
      "source": [
        "## 📊 Визуализация обучения\n",
        "### Сравнение accuracy до и после fine-tuning"
      ]
    },
    {
      "cell_type": "code",
      "execution_count": null,
      "metadata": {},
      "outputs": [],
      "source": [
        "import matplotlib.pyplot as plt\n",
        "\n",
        "acc = history.history['accuracy'] + history_fine.history['accuracy']\n",
        "val_acc = history.history['val_accuracy'] + history_fine.history['val_accuracy']\n",
        "loss = history.history['loss'] + history_fine.history['loss']\n",
        "val_loss = history.history['val_loss'] + history_fine.history['val_loss']\n",
        "\n",
        "plt.figure(figsize=(8, 8))\n",
        "plt.subplot(2, 1, 1)\n",
        "plt.plot(acc, label='Training Accuracy')\n",
        "plt.plot(val_acc, label='Validation Accuracy')\n",
        "plt.legend(loc='lower right')\n",
        "plt.title('Accuracy до и после fine-tuning')\n",
        "\n",
        "plt.subplot(2, 1, 2)\n",
        "plt.plot(loss, label='Training Loss')\n",
        "plt.plot(val_loss, label='Validation Loss')\n",
        "plt.legend(loc='upper right')\n",
        "plt.title('Loss до и после fine-tuning')\n",
        "plt.xlabel('Epochs')\n",
        "plt.show()"
      ]
    },
    {
      "cell_type": "markdown",
      "metadata": {},
      "source": [
        "## 📈 Преимущества Transfer Learning\n",
        "- **Экономия времени:** Не нужно обучать сеть с нуля, можно использовать готовые признаки.\n",
        "- **Малый датасет:** Работает даже с 100–1000 изображениями.\n",
        "- **Высокая точность:** Предобученные модели уже изучили важные признаки (например, края, текстуры).\n",
        "- **Гибкость:** Можно заменять верхние слои под свою задачу.\n",
        "- **Аналогия:** Использование готового автомобиля для перевозки картошки вместо постройки с нуля."
      ]
    },
    {
      "cell_type": "markdown",
      "metadata": {},
      "source": [
        "## 🧪 Практика: Сравнение с обучением с нуля\n",
        "### Шаг 1: Обучение с нуля"
      ]
    },
    {
      "cell_type": "code",
      "execution_count": null,
      "metadata": {},
      "outputs": [],
      "source": [
        "from tensorflow.keras.models import Sequential\n",
        "from tensorflow.keras.layers import Conv2D, MaxPooling2D, Flatten, Dense\n",
        "\n",
        "# Модель с нуля\n",
        "scratch_model = Sequential([\n",
        "    Conv2D(32, (3, 3), activation='relu', input_shape=(150, 150, 3)),\n",
        "    MaxPooling2D(2, 2),\n",
        "    Conv2D(64, (3, 3), activation='relu'),\n",
        "    MaxPooling2D(2, 2),\n",
        "    Flatten(),\n",
        "    Dense(128, activation='relu'),\n",
        "    Dense(1, activation='sigmoid')\n",
        "])\n",
        "\n",
        "# Компиляция и обучение\n",
        "scratch_model.compile(optimizer='adam',\n",
        "                     loss='binary_crossentropy',\n",
        "                     metrics=['accuracy'])\n",
        "\n",
        "history_scratch = scratch_model.fit(\n",
        "    train_generator,\n",
        "    steps_per_epoch=100,\n",
        "    epochs=10,\n",
        "    validation_data=validation_generator,\n",
        "    validation_steps=50,\n",
        "    verbose=2)"
      ]
    },
    {
      "cell_type": "markdown",
      "metadata": {},
      "source": [
        "### Шаг 2: Сравнение с Transfer Learning"
      ]
    },
    {
      "cell_type": "code",
      "execution_count": null,
      "metadata": {},
      "outputs": [],
      "source": [
        "# Сравнение точности\n",
        "plt.plot(history_scratch.history['val_accuracy'], label='Обучение с нуля')\n",
        "plt.plot(history_fine.history['val_accuracy'], label='Transfer Learning + Fine-tuning')\n",
        "plt.legend()\n",
        "plt.title('Сравнение точности')\n",
        "plt.xlabel('Эпохи')\n",
        "plt.ylabel('Accuracy')\n",
        "plt.grid(True)\n",
        "plt.show()"
      ]
    },
    {
      "cell_type": "markdown",
      "metadata": {},
      "source": [
        "## 🧠 Теория: Как устроены предобученные модели?\n",
        "- **Низкоуровневые слои:** Обнаруживают края, текстуры, цвета.\n",
        "- **Высокоуровневые слои:** Узнают сложные признаки (например, глаза, лапы у животных).\n",
        "- **Где взять?** `tf.keras.applications` содержит VGG16, ResNet, MobileNet и другие [[1]].\n",
        "- **Как адаптировать?**\n",
        "  1. Удалите верхний слой (`include_top=False`).\n",
        "  2. Добавьте свои слои для новой задачи.\n",
        "  3. Фризинг и обучение.\n",
        "  4. Fine-tuning.\n",
        "- **Аналогия:** Предобученная модель — как шаблон одежды, который вы подгоняете под клиента."
      ]
    },
    {
      "cell_type": "markdown",
      "metadata": {},
      "source": [
        "## 📝 Домашнее задание\n",
        "**Задача 1:** Измените архитектуру Transfer Learning:\n",
        "- Добавьте `Dropout(0.5)` после `GlobalAveragePooling2D()`.\n",
        "- Замените `MobileNet` на `VGG16`.\n",
        "- Как меняется `val_accuracy`?\n",
        "- Нарисуйте графики обучения.\n",
        "\n",
        "**Задача 2:** Напишите отчет (200–300 слов), где:\n",
        "- Опишите, как вы адаптировали модель.\n",
        "- Объясните, почему Transfer Learning работает лучше, чем обучение с нуля.\n",
        "- Приведите примеры, где Transfer Learning особенно полезен (например, медицинская диагностика с малым количеством данных).\n",
        "- Оцените, как `Dropout` влияет на переобучение."
      ]
    },
    {
      "cell_type": "code",
      "execution_count": null,
      "metadata": {},
      "outputs": [],
      "source": [
        "# Ваш код здесь\n",
        "from tensorflow.keras.applications import VGG16\n",
        "from tensorflow.keras import layers, models\n",
        "\n",
        "# Загрузка VGG16\n",
        "base_model = VGG16(input_shape=(150, 150, 3), include_top=False, weights='imagenet')\n",
        "\n",
        "# Добавление новых слоев с Dropout\n",
        "x = layers.GlobalAveragePooling2D()(base_model.output)\n",
        "x = layers.Dropout(0.5)(x)\n",
        "output = layers.Dense(1, activation='sigmoid')(x)\n",
        "model = models.Model(base_model.input, output)"
      ]
    },
    {
      "cell_type": "code",
      "execution_count": null,
      "metadata": {},
      "outputs": [],
      "source": [
        "# Обучение VGG16\n",
        "base_model.trainable = False\n",
        "model.compile(optimizer='adam',\n",
        "              loss='binary_crossentropy',\n",
        "              metrics=['accuracy'])\n",
        "\n",
        "history = model.fit(\n",
        "    train_generator,\n",
        "    steps_per_epoch=100,\n",
        "    epochs=5,\n",
        "    validation_data=validation_generator,\n",
        "    validation_steps=50,\n",
        "    verbose=2)"
      ]
    },
    {
      "cell_type": "code",
      "execution_count": null,
      "metadata": {},
      "outputs": [],
      "source": [
        "# Fine-tuning\n",
        "base_model.trainable = True\n",
        "for layer in base_model.layers[:-100]:\n",
        "    layer.trainable = False\n",
        "\n",
        "model.compile(optimizer=tf.keras.optimizers.Adam(1e-5),\n",
        "              loss='binary_crossentropy',\n",
        "              metrics=['accuracy'])\n",
        "\n",
        "history_fine = model.fit(\n",
        "    train_generator,\n",
        "    steps_per_epoch=100,\n",
        "    epochs=10,\n",
        "    validation_data=validation_generator,\n",
        "    validation_steps=50,\n",
        "    verbose=2)"
      ]
    },
    {
      "cell_type": "code",
      "execution_count": null,
      "metadata": {},
      "outputs": [],
      "source": [
        "# Визуализация обучения\n",
        "import matplotlib.pyplot as plt\n",
        "\n",
        "plt.plot(history.history['val_accuracy'], label='Validation Accuracy (freeze)')\n",
        "plt.plot(history_fine.history['val_accuracy'], label='Validation Accuracy (fine-tuning)')\n",
        "plt.legend()\n",
        "plt.title('Accuracy до и после fine-tuning')\n",
        "plt.xlabel('Эпохи')\n",
        "plt.ylabel('Accuracy')\n",
        "plt.grid(True)\n",
        "plt.show()"
      ]
    },
    {
      "cell_type": "markdown",
      "metadata": {},
      "source": [
        "## ✅ Рекомендации по выполнению домашнего задания\n",
        "- **Задача 1:** Используйте `Dropout` для борьбы с переобучением.\n",
        "- **Задача 2:** Сравнивайте `val_accuracy` и `val_loss` для разных архитектур.\n",
        "- **Подсказка:** В `VGG16` больше слоев, поэтому fine-tuning требует большего числа эпох."
      ]
    }
  ],
  "metadata": {
    "kernelspec": {
      "display_name": "Python 3",
      "language": "python",
      "name": "python3"
    },
    "language_info": {
      "codemirror_mode": {
        "name": "ipython",
        "version": 3
      },
      "file_extension": ".py",
      "mimetype": "text/x-python",
      "name": "python",
      "nbconvert_exporter": "python",
      "pygments_lexer": "ipython3",
      "version": "3.8.5"
    }
  },
  "nbformat": 4,
  "nbformat_minor": 4
}
