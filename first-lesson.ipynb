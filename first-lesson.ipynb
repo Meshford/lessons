{
 "cells": [
  {
   "cell_type": "markdown",
   "id": "5c9d2e79-6618-4893-8504-9388e71270df",
   "metadata": {},
   "source": [
    "________________________________________\n",
    "## Урок 1: Введение в Python\n",
    "### Цель урока:\n",
    "Научиться устанавливать Python, настраивать среду разработки, познакомиться с базовыми конструкциями языка — переменными, типами данных, операторами, а также начальной работой со строками, списками и словарями.\n",
    "________________________________________\n",
    "### План занятия:\n",
    "1. Установка Python (10 минут)  \n",
    "Что делаем:  \n",
    "•\tЗаходим на официальный сайт: https://www.python.org/  \n",
    "•\tПереходим в раздел Downloads.  \n",
    "•\tСкачиваем последнюю стабильную версию Python для вашей операционной системы (Windows/MacOS/Linux).  \n",
    "•\tУстанавливаем:  \n",
    "o\tОбязательно ставим галочку \"Add Python to PATH\"!  \n",
    "o\tНажимаем Install Now.  \n",
    "Проверка установки:  "
   ]
  },
  {
   "cell_type": "code",
   "execution_count": null,
   "id": "48cbc344-f5e1-482a-af70-848d6648a5a8",
   "metadata": {},
   "outputs": [],
   "source": [
    "python --version  "
   ]
  },
  {
   "cell_type": "markdown",
   "id": "2989a485-fcc4-4313-bb74-9a9a6b1cdf57",
   "metadata": {},
   "source": [
    "Ожидаемый вывод: версия Python, например Python 3.12.0. "
   ]
  },
  {
   "cell_type": "markdown",
   "id": "5dcc910b-3e85-408e-a058-70e73e6a8c7b",
   "metadata": {},
   "source": [
    "________________________________________\n",
    "### 2. Настройка среды разработки (IDE) (10 минут)  \n",
    "Рекомендованная IDE:  \n",
    "•\tVS Code (https://code.visualstudio.com/)  \n",
    "Что делаем:  \n",
    "1.\tСкачиваем и устанавливаем VS Code.  \n",
    "2.\tУстанавливаем расширение Python:  \n",
    "o\tОткрываем VS Code → Extensions → Вводим \"Python\" → Устанавливаем от Microsoft.  \n"
   ]
  },
  {
   "cell_type": "markdown",
   "id": "c7e5e1e3-e07b-4796-bd8c-55c1a57c29ae",
   "metadata": {},
   "source": [
    "________________________________________\n",
    "\n",
    "### 3.\tПроверяем:  \n",
    "o\tСоздаем новый файл hello.py.  \n",
    "o\tПишем:  \n",
    "o\tprint(\"Hello, World!\")  \n",
    "o\tЗапускаем файл через кнопку Run или через терминал:  \n",
    "o\tpython hello.py  \n",
    "Альтернативы:  \n",
    "•\tPyCharm (Community Edition)  \n",
    "•\tThonny (для новичков)  \n",
    "\n"
   ]
  },
  {
   "cell_type": "markdown",
   "id": "4421784d-d463-4bc4-a37f-38f47892fa90",
   "metadata": {},
   "source": [
    "### 3. Основы синтаксиса Python (20 минут)  \n",
    "o Переменные и типы данных  \n",
    "o Что такое переменная?  \n",
    "o Контейнер для хранения данных.  \n",
    "o Примеры:  \n"
   ]
  },
  {
   "cell_type": "code",
   "execution_count": 1,
   "id": "9b830c5c-4ebd-4dad-9f89-0340822385fd",
   "metadata": {},
   "outputs": [],
   "source": [
    "# Числа\n",
    "a = 5\n",
    "b = 3.14"
   ]
  },
  {
   "cell_type": "code",
   "execution_count": 2,
   "id": "cd8c0831-da70-4290-9bee-af9a02788a19",
   "metadata": {},
   "outputs": [],
   "source": [
    "# Строка\n",
    "name = \"Alice\""
   ]
  },
  {
   "cell_type": "code",
   "execution_count": 3,
   "id": "7aa3e2b0-83db-4c2f-86e7-3c567cf7a3d8",
   "metadata": {},
   "outputs": [],
   "source": [
    "# Логический тип\n",
    "is_active = True"
   ]
  },
  {
   "cell_type": "markdown",
   "id": "8dbf1f05-161c-4f51-bd3d-af8f1fdb3573",
   "metadata": {},
   "source": [
    "Типы данных:  \n",
    "•\tint — целое число  \n",
    "•\tfloat — дробное число  \n",
    "•\tstr — строка  \n",
    "•\tbool — логический тип (True, False)  \n",
    "Как узнать тип переменной:  \n",
    "\n"
   ]
  },
  {
   "cell_type": "code",
   "execution_count": 4,
   "id": "33e327ee-6c9d-4b2e-8fea-469d6d24ce01",
   "metadata": {},
   "outputs": [
    {
     "name": "stdout",
     "output_type": "stream",
     "text": [
      "<class 'str'>\n"
     ]
    }
   ],
   "source": [
    "print(type(name))  # <class 'str'>"
   ]
  },
  {
   "cell_type": "markdown",
   "id": "7b9c442b-c0ad-4150-9399-dd66a27e6b34",
   "metadata": {},
   "source": [
    "#### Операторы:"
   ]
  },
  {
   "cell_type": "markdown",
   "id": "335d1c05-0c55-433b-b238-0be4db1f0b62",
   "metadata": {},
   "source": [
    "Арифметические"
   ]
  },
  {
   "cell_type": "code",
   "execution_count": 5,
   "id": "c59da6a7-32f8-4116-9cd3-b34e68043fa2",
   "metadata": {},
   "outputs": [
    {
     "name": "stdout",
     "output_type": "stream",
     "text": [
      "13\n",
      "7\n",
      "30\n",
      "3.3333333333333335\n",
      "3\n",
      "1\n",
      "1000\n"
     ]
    }
   ],
   "source": [
    "x = 10\n",
    "y = 3\n",
    "\n",
    "print(x + y)  # 13\n",
    "print(x - y)  # 7\n",
    "print(x * y)  # 30\n",
    "print(x / y)  # 3.333...\n",
    "print(x // y) # 3 (целочисленное деление)\n",
    "print(x % y)  # 1 (остаток)\n",
    "print(x ** y) # 1000 (степень)\n"
   ]
  },
  {
   "cell_type": "markdown",
   "id": "9fd78fad-2d8e-40da-87b3-aff10007d731",
   "metadata": {},
   "source": [
    "Сравнения:"
   ]
  },
  {
   "cell_type": "code",
   "execution_count": null,
   "id": "270ee530-a206-456c-9c2e-3755ce45f87b",
   "metadata": {},
   "outputs": [],
   "source": [
    "print(x > y)   # True\n",
    "print(x == y)  # False\n",
    "print(x != y)  # True\n"
   ]
  },
  {
   "cell_type": "markdown",
   "id": "c905fd2d-ee8d-401b-b9a5-bf037c871aad",
   "metadata": {},
   "source": [
    "Логические операторы:"
   ]
  },
  {
   "cell_type": "code",
   "execution_count": 7,
   "id": "a93d7038-c8df-41ac-8f37-41ad5ae8d9d5",
   "metadata": {},
   "outputs": [
    {
     "name": "stdout",
     "output_type": "stream",
     "text": [
      "True\n",
      "True\n",
      "False\n"
     ]
    }
   ],
   "source": [
    "print(x > 5 and y < 5)  # True\n",
    "print(x > 15 or y < 5)  # True\n",
    "print(not(x > 5))       # False\n"
   ]
  },
  {
   "cell_type": "markdown",
   "id": "b2839d2f-dc22-444e-95cd-f0518960209d",
   "metadata": {},
   "source": [
    "### 4. Работа с текстовыми строками, списками и словарями (20 минут)  \n",
    "#### Строки (str)  \n",
    "Создание строки:  \n"
   ]
  },
  {
   "cell_type": "code",
   "execution_count": 8,
   "id": "b751e1f7-b3c1-4c67-9cd8-b79563854cc9",
   "metadata": {},
   "outputs": [],
   "source": [
    "greeting = \"Hello, world!\"\n"
   ]
  },
  {
   "cell_type": "markdown",
   "id": "898c5260-fb4c-4d81-a66e-6100d914d257",
   "metadata": {},
   "source": [
    "Операции со строками:\n"
   ]
  },
  {
   "cell_type": "code",
   "execution_count": 9,
   "id": "dad065bd-6061-4ec7-bc51-a515f817b542",
   "metadata": {},
   "outputs": [
    {
     "name": "stdout",
     "output_type": "stream",
     "text": [
      "hello, world!\n",
      "HELLO, WORLD!\n",
      "H\n",
      "Hello\n"
     ]
    }
   ],
   "source": [
    "print(greeting.lower())  # hello, world!\n",
    "print(greeting.upper())  # HELLO, WORLD!\n",
    "print(greeting[0])       # H (индексация с 0)\n",
    "print(greeting[0:5])     # Hello (срез)\n"
   ]
  },
  {
   "cell_type": "markdown",
   "id": "df8ea352-fbfd-4fb6-84af-cc674efd9534",
   "metadata": {},
   "source": [
    "Форматирование строк:\n"
   ]
  },
  {
   "cell_type": "code",
   "execution_count": 10,
   "id": "55352d55-a798-46be-a49d-5a4d3e6e206e",
   "metadata": {},
   "outputs": [
    {
     "name": "stdout",
     "output_type": "stream",
     "text": [
      "My name is Bob and I'm 25 years old.\n"
     ]
    }
   ],
   "source": [
    "name = \"Bob\"\n",
    "age = 25\n",
    "print(f\"My name is {name} and I'm {age} years old.\")\n"
   ]
  },
  {
   "cell_type": "markdown",
   "id": "2a6a7fb4-58fa-4ce9-a4f1-4bd5adf58936",
   "metadata": {},
   "source": [
    "#### Списки (list)\n",
    "Создание списка:\n"
   ]
  },
  {
   "cell_type": "code",
   "execution_count": 11,
   "id": "9adccbf7-50eb-4c2a-b4c3-c497b17bebdc",
   "metadata": {},
   "outputs": [],
   "source": [
    "fruits = [\"apple\", \"banana\", \"cherry\"]\n"
   ]
  },
  {
   "cell_type": "markdown",
   "id": "fc46e916-870a-45ca-ab5a-c890b554c92d",
   "metadata": {},
   "source": [
    "Операции со списками:\n"
   ]
  },
  {
   "cell_type": "code",
   "execution_count": 12,
   "id": "70b8d0cc-1d99-4283-b545-e6fe4bc75195",
   "metadata": {},
   "outputs": [
    {
     "name": "stdout",
     "output_type": "stream",
     "text": [
      "banana\n",
      "['apple', 'banana', 'cherry', 'orange']\n",
      "['banana', 'cherry', 'orange']\n",
      "3\n"
     ]
    }
   ],
   "source": [
    "print(fruits[1])          # banana\n",
    "fruits.append(\"orange\")   # добавление\n",
    "print(fruits)\n",
    "\n",
    "fruits.remove(\"apple\")    # удаление\n",
    "print(fruits)\n",
    "\n",
    "print(len(fruits))        # количество элементов\n"
   ]
  },
  {
   "cell_type": "markdown",
   "id": "0c032230-825e-48ab-9c34-4de884008ba5",
   "metadata": {},
   "source": [
    "#### Словари (dict)\n",
    "Создание словаря:"
   ]
  },
  {
   "cell_type": "code",
   "execution_count": 13,
   "id": "43594dd9-13a7-4fe1-8ac3-27c90e7e05ef",
   "metadata": {},
   "outputs": [],
   "source": [
    "person = {\n",
    "    \"name\": \"Alice\",\n",
    "    \"age\": 30,\n",
    "    \"city\": \"New York\"\n",
    "}"
   ]
  },
  {
   "cell_type": "markdown",
   "id": "dc214b0e-4e19-4abc-ae7d-5f30d235f023",
   "metadata": {},
   "source": [
    "Работа со словарями:"
   ]
  },
  {
   "cell_type": "code",
   "execution_count": 14,
   "id": "86cc0efd-bb65-4623-b8ab-6a10c0b141ef",
   "metadata": {},
   "outputs": [
    {
     "name": "stdout",
     "output_type": "stream",
     "text": [
      "Alice\n",
      "{'name': 'Alice', 'age': 31, 'city': 'New York'}\n",
      "{'name': 'Alice', 'age': 31, 'city': 'New York', 'email': 'alice@example.com'}\n",
      "dict_keys(['name', 'age', 'city', 'email'])\n",
      "dict_values(['Alice', 31, 'New York', 'alice@example.com'])\n"
     ]
    }
   ],
   "source": [
    "print(person[\"name\"])     # Alice\n",
    "\n",
    "person[\"age\"] = 31        # обновить значение\n",
    "print(person)\n",
    "\n",
    "person[\"email\"] = \"alice@example.com\"  # добавить новую пару\n",
    "print(person)\n",
    "\n",
    "print(person.keys())      # получить ключи\n",
    "print(person.values())    # получить значения"
   ]
  },
  {
   "cell_type": "markdown",
   "id": "3fca5441-69eb-4faa-8444-981b0a24a014",
   "metadata": {},
   "source": [
    "### Домашнее задание:  \n",
    "1.\tУстановить Python и среду разработки.  \n",
    "2.\tНаписать программу, которая:  \n",
    "o\tСоздает переменные разных типов.  \n",
    "o\tПечатает строку с использованием форматирования.  \n",
    "o\tСоздает список и словарь, выводит их элементы.  \n",
    "3.\tПопробовать изменить элементы списка и словаря.  \n",
    "________________________________________\n",
    "#### Конец урока.\n",
    "На следующем занятии — условные конструкции и циклы!"
   ]
  }
 ],
 "metadata": {
  "kernelspec": {
   "display_name": "Python 3 (ipykernel)",
   "language": "python",
   "name": "python3"
  },
  "language_info": {
   "codemirror_mode": {
    "name": "ipython",
    "version": 3
   },
   "file_extension": ".py",
   "mimetype": "text/x-python",
   "name": "python",
   "nbconvert_exporter": "python",
   "pygments_lexer": "ipython3",
   "version": "3.12.10"
  }
 },
 "nbformat": 4,
 "nbformat_minor": 5
}
