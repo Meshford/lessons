{
  "cells": [
    {
      "cell_type": "markdown",
      "metadata": {},
      "source": [
        "# 🧹 Урок 15: Работа с данными — Очистка, нормализация и визуализация\n",
        "**Цель урока:** Научиться готовить данные для машинного обучения: очищать, нормализовать и анализировать с помощью визуализации. Подходит для новичков.\n",
        "\n",
        "## 📌 Зачем чистить данные?\n",
        "- **Пропуски:** Если данные неполные, модель может дать неверный результат.\n",
        "- **Шум:** Ошибки измерений или случайные значения, которые мешают модели.\n",
        "- **Выбросы:** Аномальные значения, искажающие закономерности [[3]].\n",
        "\n",
        "💡 **Аналогия:** Представьте, что вы учитесь по учебнику с испорченными страницами — модель тоже «обучается» на данных, и если они грязные, она будет делать ошибки."
      ]
    },
    {
      "cell_type": "markdown",
      "metadata": {},
      "source": [
        "## 🧼 Очистка данных\n",
        "### 1. Обработка пропущенных значений\n",
        "- **Удаление строк/столбцов:** Если пропусков много, можно удалить их.\n",
        "- **Заполнение средним/медианой/модой:** Если пропусков мало, можно заполнить.\n",
        "- **Предсказание пропусков:** Использовать ML для восстановления данных.\n",
        "\n",
        "**Пример:**\n",
        "```python\n",
        "import pandas as pd\n",
        "df = pd.DataFrame({'Age': [25, None, 35], 'Income': [50000, 60000, None]})\n",
        "print(df)\n",
        "```\n",
        "**Результат:**\n",
        "```\n",
        "   Age    Income\n",
        "0  25.0  50000.0\n",
        "1   NaN  60000.0\n",
        "2  35.0      NaN\n",
        "```\n",
        "\n",
        "### 2. Удаление пропусков\n",
        "```python\n",
        "df_cleaned = df.dropna()\n",
        "print(df_cleaned)  # Удалены строки с пропусками\n",
        "```\n",
        "\n",
        "### 3. Заполнение пропусков\n",
        "```python\n",
        "df_filled = df.fillna({'Age': df['Age'].mean(), 'Income': df['Income'].median()})\n",
        "print(df_filled)  # Пропуски заменены на среднее/медиану\n",
        "```\n",
        "\n",
        "### 4. Обнаружение и обработка выбросов\n",
        "- **Метод IQR:**\n",
        "  ```python\n",
        "  Q1 = df['Age'].quantile(0.25)\n",
        "  Q3 = df['Age'].quantile(0.75)\n",
        "  IQR = Q3 - Q1\n",
        "  outliers = df[(df['Age'] < (Q1 - 1.5 * IQR)) | (df['Age'] > (Q3 + 1.5 * IQR))]\n",
        "  ```"
      ]
    },
    {
      "cell_type": "markdown",
      "metadata": {},
      "source": [
        "## 🔄 Преобразование типов данных\n",
        "- **Зачем это нужно?** Модели ML работают с числовыми данными, поэтому текстовые значения нужно преобразовать.\n",
        "- **Пример:** Преобразование категориальных данных:\n",
        "  ```python\n",
        "  df['Gender'] = df['Gender'].map({'Male': 0, 'Female': 1})\n",
        "  ```\n",
        "- **Кодирование категорий:** `One-Hot Encoding` для нескольких категорий.\n",
        "  ```python\n",
        "  df = pd.get_dummies(df, columns=['City'])\n",
        "  ```"
      ]
    },
    {
      "cell_type": "markdown",
      "metadata": {},
      "source": [
        "## 📏 Нормализация и стандартизация\n",
        "- **Нормализация (MinMaxScaler):** Приводит данные к диапазону [0, 1].\n",
        "  ```python\n",
        "  from sklearn.preprocessing import MinMaxScaler\n",
        "  scaler = MinMaxScaler()\n",
        "  df_scaled = scaler.fit_transform(df)\n",
        "  ```\n",
        "- **Стандартизация (StandardScaler):** Приводит данные к среднему 0 и дисперсии 1.\n",
        "  ```python\n",
        "  from sklearn.preprocessing import StandardScaler\n",
        "  scaler = StandardScaler()\n",
        "  df_standardized = scaler.fit_transform(df)\n",
        "  ```\n",
        "\n",
        "💡 **Когда что использовать?**\n",
        "- **Нормализация:** Если данные имеют нестандартное распределение (например, изображения).\n",
        "- **Стандартизация:** Если данные нормально распределены [[7]]."
      ]
    },
    {
      "cell_type": "markdown",
      "metadata": {},
      "source": [
        "## 📊 Визуализация данных\n",
        "- **Гистограмма:** Распределение данных.\n",
        "  ```python\n",
        "  import matplotlib.pyplot as plt\n",
        "  df['Age'].hist()\n",
        "  plt.title('Распределение возраста')\n",
        "  plt.show()\n",
        "  ```\n",
        "- **Boxplot:** Поиск выбросов.\n",
        "  ```python\n",
        "  df.boxplot(column='Income')\n",
        "  plt.title('Доход')\n",
        "  plt.show()\n",
        "  ```\n",
        "- **Scatter Plot:** Связь между двумя переменными.\n",
        "  ```python\n",
        "  plt.scatter(df['Age'], df['Income'])\n",
        "  plt.xlabel('Возраст')\n",
        "  plt.ylabel('Доход')\n",
        "  plt.title('Возраст vs Доход')\n",
        "  plt.show()\n",
        "  ```\n",
        "- **Heatmap (корреляция):** Связь между признаками.\n",
        "  ```python\n",
        "  import seaborn as sns\n",
        "  sns.heatmap(df.corr(), annot=True)\n",
        "  plt.title('Корреляционная матрица')\n",
        "  plt.show()\n",
        "  ```"
      ]
    },
    {
      "cell_type": "markdown",
      "metadata": {},
      "source": [
        "## 📈 Основы анализа данных\n",
        "- **Корреляция:** Мера зависимости между переменными (от -1 до 1).\n",
        "- **Распределение:** Как данные распределены (нормальное, скошенное).\n",
        "- **Группировка:** Анализ данных по категориям.\n",
        "  ```python\n",
        "  df.groupby('Gender')['Income'].mean()\n",
        "  ```"
      ]
    },
    {
      "cell_type": "markdown",
      "metadata": {},
      "source": [
        "## 🧪 Практика: Анализ датасета\n",
        "### Шаг 1: Загрузите датасет\n",
        "```python\n",
        "from sklearn.datasets import fetch_openml\n",
        "import pandas as pd\n",
        "\n",
        "# Загрузка данных\n",
        "data = fetch_openml(name='titanic', version=1, as_frame=True)\n",
        "df = data.frame\n",
        "print(df.head())\n",
        "```"
      ]
    },
    {
      "cell_type": "markdown",
      "metadata": {},
      "source": [
        "### Шаг 2: Найдите и обработайте пропуски\n",
        "```python\n",
        "print(df.isnull().sum())  # Сколько пропусков\n",
        "df['Age'].fillna(df['Age'].median(), inplace=True)  # Заполнить медианой\n",
        "df.dropna(subset=['Embarked'], inplace=True)  # Удалить строки\n",
        "```"
      ]
    },
    {
      "cell_type": "markdown",
      "metadata": {},
      "source": [
        "### Шаг 3: Нормализуйте числовые признаки\n",
        "```python\n",
        "from sklearn.preprocessing import StandardScaler\n",
        "scaler = StandardScaler()\n",
        "df[['Age', 'Fare']] = scaler.fit_transform(df[['Age', 'Fare']])\n",
        "```"
      ]
    },
    {
      "cell_type": "markdown",
      "metadata": {},
      "source": [
        "### Шаг 4: Визуализация данных\n",
        "```python\n",
        "import seaborn as sns\n",
        "sns.histplot(df['Age'], kde=True)\n",
        "plt.title('Возраст после стандартизации')\n",
        "plt.show()\n",
        "\n",
        "sns.boxplot(x='Survived', y='Fare', data=df)\n",
        "plt.title('Выжившие vs Не выжившие по стоимости билета')\n",
        "plt.show()\n",
        "\n",
        "sns.scatterplot(x='Age', y='Fare', hue='Survived', data=df)\n",
        "plt.title('Возраст vs Стоимость билета')\n",
        "plt.show()\n",
        "```"
      ]
    },
    {
      "cell_type": "markdown",
      "metadata": {},
      "source": [
        "## 📝 Домашнее задание\n",
        "**Задача 1:** Скачайте любой открытый датасет (например, [Kaggle](https://www.kaggle.com ) или `sklearn.datasets`).\n",
        "**Задача 2:** Проведите базовую очистку и визуализацию:\n",
        "- Найдите пропуски и обработайте их.\n",
        "- Преобразуйте категориальные признаки в числа.\n",
        "- Нормализуйте числовые признаки.\n",
        "- Постройте графики: гистограмма, boxplot, scatter plot.\n",
        "- Напишите краткий отчет (200–300 слов) с выводами по каждому этапу.\n",
        "\n",
        "💡 **Рекомендации:**\n",
        "- Используйте `df.info()` для проверки типов данных.\n",
        "- Для нормализации — `StandardScaler` или `MinMaxScaler`.\n",
        "- Для визуализации — `matplotlib` и `seaborn`."
      ]
    }
  ],
  "metadata": {
    "kernelspec": {
      "display_name": "Python 3",
      "language": "python",
      "name": "python3"
    },
    "language_info": {
      "codemirror_mode": {
        "name": "ipython",
        "version": 3
      },
      "file_extension": ".py",
      "mimetype": "text/x-python",
      "name": "python",
      "nbconvert_exporter": "python",
      "pygments_lexer": "ipython3",
      "version": "3.8.5"
    }
  },
  "nbformat": 4,
  "nbformat_minor": 4
}
