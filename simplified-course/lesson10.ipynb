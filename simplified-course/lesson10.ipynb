{
  "cells": [
    {
      "cell_type": "markdown",
      "metadata": {},
      "source": [
        "# 🛡️ Урок 10: Исключения в Python — Базовые техники\n",
        "**Цель урока:** Научиться обрабатывать ошибки в Python с помощью исключений, понять, зачем они нужны, как работают, и научиться использовать их в реальных задачах.\n",
        "\n",
        "## 📌 Что такое исключения? Зачем они нужны?\n",
        "Исключения (exceptions) — это механизм обработки ошибок во время выполнения программы [[4]]. Они позволяют программе не \"падать\" при ошибках, а корректно обрабатывать их и продолжать работу.\n",
        "\n",
        "**Пример ошибки без обработки:**\n",
        "```python\n",
        "result = 10 / 0  # ZeroDivisionError: division by zero\n",
        "```\n",
        "**Что происходит?** Программа завершается с ошибкой, и дальнейший код не выполняется.\n",
        "\n",
        "**Пример с обработкой исключения:**\n",
        "```python\n",
        "try:\n",
        "    result = 10 / 0\n",
        "except ZeroDivisionError:\n",
        "    print(\"Ошибка: деление на ноль!\")\n",
        "```\n",
        "**Результат:**\n",
        "```\n",
        "Ошибка: деление на ноль!\n",
        "```\n",
        "\n",
        "💡 **Почему это важно?**\n",
        "- Позволяет избежать краха программы при ошибках.\n",
        "- Делает код более устойчивым к непредвиденным ситуациям (например, некорректный ввод пользователя).\n",
        "- Упрощает отладку и диагностику проблем.\n"
      ]
    },
    {
      "cell_type": "markdown",
      "metadata": {},
      "source": [
        "## 🧱 Структура блока `try-except`\n",
        "**Синтаксис:**\n",
        "```python\n",
        "try:\n",
        "    # Код, который может вызвать исключение\n",
        "except [ТипИсключения]:\n",
        "    # Обработка исключения\n",
        "```\n",
        "\n",
        "**Пример:** Обработка ошибки при конвертации строки в число:\n",
        "```python\n",
        "try:\n",
        "    number = int(\"abc\")\n",
        "except ValueError:\n",
        "    print(\"Ошибка: невозможно преобразовать строку в число!\")\n",
        "```\n",
        "**Результат:**\n",
        "```\n",
        "Ошибка: невозможно преобразовать строку в число!\n",
        "```\n"
      ]
    },
    {
      "cell_type": "markdown",
      "metadata": {},
      "source": [
        "## 🧪 Блоки `else` и `finally`\n",
        "- **`else`** — код, который выполняется, **если исключения не было**.\n",
        "- **`finally`** — код, который выполняется **всегда**, независимо от наличия исключения.\n",
        "\n",
        "**Синтаксис:**\n",
        "```python\n",
        "try:\n",
        "    # Код, который может вызвать исключение\n",
        "except [ТипИсключения]:\n",
        "    # Обработка исключения\n",
        "else:\n",
        "    # Выполняется, если исключения не было\n",
        "finally:\n",
        "    # Выполняется всегда\n",
        "```\n",
        "\n",
        "**Пример:**\n",
        "```python\n",
        "try:\n",
        "    result = 10 / 2\n",
        "except ZeroDivisionError:\n",
        "    print(\"Ошибка: деление на ноль!\")\n",
        "else:\n",
        "    print(f\"Результат: {result}\")\n",
        "finally:\n",
        "    print(\"Завершение работы\")\n",
        "```\n",
        "**Результат:**\n",
        "```\n",
        "Результат: 5.0\n",
        "Завершение работы\n",
        "```\n",
        "\n",
        "💡 **Почему это важно?**\n",
        "- `else` помогает разделить логику обработки ошибок и нормального выполнения.\n",
        "- `finally` используется для освобождения ресурсов (например, закрытие файлов или соединений) [[7]]."
      ]
    },
    {
      "cell_type": "markdown",
      "metadata": {},
      "source": [
        "## 📦 Встроенные типы исключений\n",
        "Python имеет множество встроенных типов исключений для обработки разных ситуаций [[5]].\n",
        "\n",
        "### 📌 Наиболее распространённые типы:\n",
        "- `ZeroDivisionError`: деление на ноль.\n",
        "- `ValueError`: некорректное значение (например, попытка конвертировать строку в число).\n",
        "- `IndexError`: выход за границы списка.\n",
        "- `KeyError`: обращение к несуществующему ключу в словаре.\n",
        "- `FileNotFoundError`: файл не найден.\n",
        "- `TypeError`: некорректный тип данных.\n",
        "- `NameError`: переменная не определена.\n",
        "\n",
        "**Примеры:**\n",
        "```python\n",
        "# ValueError\n",
        "try:\n",
        "    number = int(\"abc\")\n",
        "except ValueError:\n",
        "    print(\"Ошибка: невозможно преобразовать строку в число!\")\n",
        "\n",
        "# IndexError\n",
        "try:\n",
        "    lst = [1, 2, 3]\n",
        "    print(lst[10])\n",
        "except IndexError:\n",
        "    print(\"Ошибка: индекс вне диапазона!\")\n",
        "\n",
        "# KeyError\n",
        "try:\n",
        "    d = {\"name\": \"Alice\"}\n",
        "    print(d[\"age\"])\n",
        "except KeyError:\n",
        "    print(\"Ошибка: ключ не найден!\")\n",
        "```\n"
      ]
    },
    {
      "cell_type": "markdown",
      "metadata": {},
      "source": [
        "## 🛠️ Создание собственных исключений\n",
        "Часто бывает удобно определить свои собственные исключения для специфических сценариев [[8]].\n",
        "\n",
        "**Пример:**\n",
        "```python\n",
        "class InvalidEmailError(Exception):\n",
        "    def __init__(self, email, message=\"Некорректный формат email\"):\n",
        "        self.email = email\n",
        "        self.message = message\n",
        "        super().__init__(self.message)\n",
        "\n",
        "def validate_email(email):\n",
        "    if \"@\" not in email:\n",
        "        raise InvalidEmailError(email)\n",
        "\n",
        "try:\n",
        "    validate_email(\"example.com\")\n",
        "except InvalidEmailError as e:\n",
        "    print(f\"Ошибка: {e.message} ({e.email})\")\n",
        "```\n",
        "**Результат:**\n",
        "```\n",
        "Ошибка: Некорректный формат email (example.com)\n",
        "```\n",
        "\n",
        "💡 **Советы:**\n",
        "- Наследуйтесь от `Exception`, а не от `BaseException`.\n",
        "- Добавляйте полезные сообщения и атрибуты для диагностики ошибок."
      ]
    },
    {
      "cell_type": "markdown",
      "metadata": {},
      "source": [
        "## 📁 Практика: Обработка ошибок при работе с файлами\n",
        "### Частые ошибки при работе с файлами:\n",
        "- `FileNotFoundError`: файл не найден.\n",
        "- `PermissionError`: нет прав на чтение/запись.\n",
        "- `IsADirectoryError`: попытка открыть папку как файл.\n",
        "\n",
        "**Пример:**\n",
        "```python\n",
        "try:\n",
        "    with open(\"data.txt\", \"r\") as file:\n",
        "        content = file.read()\n",
        "except FileNotFoundError:\n",
        "    print(\"Ошибка: файл не найден!\")\n",
        "except PermissionError:\n",
        "    print(\"Ошибка: нет прав на чтение файла!\")\n",
        "except Exception as e:\n",
        "    print(f\"Неизвестная ошибка: {e}\")\n",
        "```\n"
      ]
    },
    {
      "cell_type": "markdown",
      "metadata": {},
      "source": [
        "## 🧪 Практика: Обработка ошибок при вводе данных\n",
        "### Пример: Запрос числа от пользователя\n",
        "```python\n",
        "while True:\n",
        "    try:\n",
        "        number = int(input(\"Введите число: \"))\n",
        "        break\n",
        "    except ValueError:\n",
        "        print(\"Ошибка: введите корректное число!\")\n",
        "print(f\"Вы ввели число: {number}\")\n",
        "```\n",
        "**Результат:**\n",
        "```\n",
        "Введите число: abc\n",
        "Ошибка: введите корректное число!\n",
        "Введите число: 123\n",
        "Вы ввели число: 123\n",
        "```\n"
      ]
    },
    {
      "cell_type": "markdown",
      "metadata": {},
      "source": [
        "## 📝 Дополнительные советы по обработке исключений\n",
        "- **Не используйте общий `except Exception` без причины** — это скрывает реальные ошибки.\n",
        "- **Используйте `finally` для освобождения ресурсов** (например, закрытие файлов).\n",
        "- **Логируйте ошибки** с помощью модуля `logging` для анализа проблем.\n",
        "- **Используйте `raise` для повторного выброса исключений**, если вы не можете их обработать.\n",
        "```python\n",
        "try:\n",
        "    result = 10 / 0\n",
        "except ZeroDivisionError:\n",
        "    print(\"Ошибка: деление на ноль!\")\n",
        "    raise  # Повторно выбросит исключение\n",
        "```\n"
      ]
    },
    {
      "cell_type": "markdown",
      "metadata": {},
      "source": [
        "## 🧪 Практика\n",
        "**Задание 1:** Обработайте ошибку при делении на ноль и выведите сообщение \"Деление на ноль запрещено!\"."
      ]
    },
    {
      "cell_type": "code",
      "execution_count": null,
      "metadata": {},
      "outputs": [],
      "source": [
        "# Ваш код здесь\n",
        "try:\n",
        "    result = 10 / 0\n",
        "except ZeroDivisionError:\n",
        "    print(\"Деление на ноль запрещено!\")"
      ]
    },
    {
      "cell_type": "markdown",
      "metadata": {},
      "source": [
        "**Задание 2:** Обработайте ошибку при конвертации строки \"abc\" в целое число и выведите сообщение \"Некорректный ввод!\"."
      ]
    },
    {
      "cell_type": "code",
      "execution_count": null,
      "metadata": {},
      "outputs": [],
      "source": [
        "# Ваш код здесь\n",
        "try:\n",
        "    number = int(\"abc\")\n",
        "except ValueError:\n",
        "    print(\"Некорректный ввод!\")"
      ]
    },
    {
      "cell_type": "markdown",
      "metadata": {},
      "source": [
        "**Задание 3:** Обработайте ошибку при обращении к несуществующему ключу в словаре и выведите сообщение \"Ключ не найден!\"."
      ]
    },
    {
      "cell_type": "code",
      "execution_count": null,
      "metadata": {},
      "outputs": [],
      "source": [
        "# Ваш код здесь\n",
        "d = {\"name\": \"Alice\"}\n",
        "try:\n",
        "    print(d[\"age\"])\n",
        "except KeyError:\n",
        "    print(\"Ключ не найден!\")"
      ]
    },
    {
      "cell_type": "markdown",
      "metadata": {},
      "source": [
        "**Задание 4:** Обработайте ошибку при открытии несуществующего файла и выведите сообщение \"Файл не найден!\"."
      ]
    },
    {
      "cell_type": "code",
      "execution_count": null,
      "metadata": {},
      "outputs": [],
      "source": [
        "# Ваш код здесь\n",
        "try:\n",
        "    with open(\"nonexistent.txt\", \"r\") as file:\n",
        "        content = file.read()\n",
        "except FileNotFoundError:\n",
        "    print(\"Файл не найден!\")"
      ]
    },
    {
      "cell_type": "markdown",
      "metadata": {},
      "source": [
        "**Задание 5:** Используйте блок `finally` для закрытия файла, даже если произошла ошибка."
      ]
    },
    {
      "cell_type": "code",
      "execution_count": null,
      "metadata": {},
      "outputs": [],
      "source": [
        "# Ваш код здесь\n",
        "file = None\n",
        "try:\n",
        "    file = open(\"data.txt\", \"r\")\n",
        "    content = file.read()\n",
        "except FileNotFoundError:\n",
        "    print(\"Файл не найден!\")\n",
        "finally:\n",
        "    if file:\n",
        "        file.close()\n",
        "    print(\"Файл закрыт!\")"
      ]
    },
    {
      "cell_type": "markdown",
      "metadata": {},
      "source": [
        "## 📝 Домашнее задание\n",
        "**Задача 1:** Напишите программу, которая запрашивает у пользователя число и выводит его квадрат. Если пользователь вводит нечисловое значение, выведите сообщение \"Пожалуйста, введите число!\"."
      ]
    },
    {
      "cell_type": "code",
      "execution_count": null,
      "metadata": {},
      "outputs": [],
      "source": [
        "# Ваш код здесь\n",
        "while True:\n",
        "    try:\n",
        "        number = float(input(\"Введите число: \"))\n",
        "        print(f\"Квадрат числа: {number**2}\")\n",
        "        break\n",
        "    except ValueError:\n",
        "        print(\"Пожалуйста, введите число!\")"
      ]
    },
    {
      "cell_type": "markdown",
      "metadata": {},
      "source": [
        "**Задача 2:** Создайте собственное исключение `NegativeNumberError`, которое вызывается, если пользователь вводит отрицательное число. Проверьте его работу."
      ]
    },
    {
      "cell_type": "code",
      "execution_count": null,
      "metadata": {},
      "outputs": [],
      "source": [
        "# Ваш код здесь\n",
        "class NegativeNumberError(Exception):\n",
        "    def __init__(self, number, message=\"Отрицательные числа запрещены\"):\n",
        "        self.number = number\n",
        "        self.message = message\n",
        "        super().__init__(self.message)\n",
        "\n",
        "try:\n",
        "    number = float(input(\"Введите число: \"))\n",
        "    if number < 0:\n",
        "        raise NegativeNumberError(number)\n",
        "    print(f\"Число: {number}\")\n",
        "except NegativeNumberError as e:\n",
        "    print(f\"Ошибка: {e.message} ({e.number})\")"
      ]
    }
  ],
  "metadata": {
    "kernelspec": {
      "display_name": "Python 3",
      "language": "python",
      "name": "python3"
    },
    "language_info": {
      "codemirror_mode": {
        "name": "ipython",
        "version": 3
      },
      "file_extension": ".py",
      "mimetype": "text/x-python",
      "name": "python",
      "nbconvert_exporter": "python",
      "pygments_lexer": "ipython3",
      "version": "3.8.5"
    }
  },
  "nbformat": 4,
  "nbformat_minor": 4
}
