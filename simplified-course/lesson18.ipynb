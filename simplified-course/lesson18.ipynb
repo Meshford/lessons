{
  "cells": [
    {
      "cell_type": "markdown",
      "metadata": {},
      "source": [
        "# 📊 Урок 18: Оценка качества модели — accuracy, loss, confusion matrix\n",
        "**Цель урока:** Научиться измерять и интерпретировать качество моделей машинного обучения с помощью метрик `accuracy`, `loss`, матрицы ошибок (`confusion matrix`), а также понимать их ограничения. Подходит для новичков.\n",
        "\n",
        "## 📌 Зачем нужна оценка качества?\n",
        "- **Оценка качества** — это способ понять, насколько хорошо модель решает задачу.\n",
        "- **Метрики** помогают сравнивать модели, выбирать лучшие параметры, обнаруживать переобучение и ошибки.\n",
        "- **Пример:** Если модель предсказывает болезнь, важно не только общую точность, но и количество пропущенных случаев (recall) [[4]].\n",
        "\n",
        "💡 **Аналогия:** Метрики — как оценка в школе: одна оценка может скрыть реальные проблемы, но комбинация метрик показывает полную картину."
      ]
    },
    {
      "cell_type": "markdown",
      "metadata": {},
      "source": [
        "## 📉 Функция потерь (Loss)\n",
        "- **Что это?** Числовая мера ошибки модели на отдельном примере или наборе данных.\n",
        "- **Зачем нужна?** Используется для оптимизации весов модели (градиентный спуск).\n",
        "- **Примеры функций потерь:**\n",
        "  - **MSE (среднеквадратичная ошибка):** Для регрессии.\n",
        "    ```python\n",
        "    loss = (predicted - true)^2\n",
        "    ```\n",
        "  - **Cross-Entropy:** Для классификации.\n",
        "    ```python\n",
        "    loss = -Σ true * log(predicted)\n",
        "    ```\n",
        "\n",
        "### Почему loss важен?\n",
        "- **Оптимизация:** Градиентный спуск минимизирует loss.\n",
        "- **Диагностика обучения:** Рост loss может указывать на переобучение.\n",
        "- **Сравнение моделей:** Низкий loss — признак хорошей модели.\n",
        "\n",
        "⚠️ **Предупреждение:** Loss сам по себе не всегда отражает практическую полезность модели (например, в балансе precision и recall) [[2]]."
      ]
    },
    {
      "cell_type": "markdown",
      "metadata": {},
      "source": [
        "## 📏 Accuracy (точность)\n",
        "- **Формула:**\n",
        "  ```python\n",
        "  accuracy = (TP + TN) / (TP + TN + FP + FN)\n",
        "  ```\n",
        "- **TP (True Positive):** Модель правильно предсказала положительный класс.\n",
        "- **TN (True Negative):** Модель правильно предсказала отрицательный класс.\n",
        "- **FP (False Positive):** Ложное срабатывание (модель ошиблась).\n",
        "- **FN (False Negative):** Пропущенный случай (модель не заметила).\n",
        "\n",
        "### Когда accuracy не подходит?\n",
        "- **Несбалансированные классы:** Если 99% данных — класс A, модель, которая всегда предсказывает A, будет иметь accuracy 99%, но быть бесполезной.\n",
        "- **Редкие события:** Например, обнаружение мошенничества.\n",
        "- **Важные ошибки:** В медицинской диагностике FN (пропущенная болезнь) критичнее, чем FP (ложное предупреждение) [[5]].\n",
        "\n",
        "💡 **Совет:** Используйте accuracy только для сбалансированных задач (например, MNIST)."
      ]
    },
    {
      "cell_type": "markdown",
      "metadata": {},
      "source": [
        "## 🧮 Confusion Matrix (матрица ошибок)\n",
        "- **Что это?** Таблица, показывающая, сколько объектов какого класса предсказано как.\n",
        "- **Когда использовать?** Для анализа ошибок модели, особенно в многоклассовых задачах.\n",
        "- **Как читать?**\n",
        "  - **По диагонали:** Правильные предсказания.\n",
        "  - **Вне диагонали:** Ошибки модели.\n",
        "\n",
        "### Пример матрицы для задачи бинарной классификации:\n",
        "```\n",
        "                Предсказанный класс\n",
        "               | Положительный | Отрицательный\n",
        "--------------|----------------|----------------\n",
        "Положительный | TP             | FN\n",
        "Отрицательный | FP             | TN\n",
        "```"
      ]
    },
    {
      "cell_type": "code",
      "execution_count": null,
      "metadata": {},
      "outputs": [],
      "source": [
        "from sklearn.metrics import confusion_matrix\n",
        "import seaborn as sns\n",
        "import matplotlib.pyplot as plt\n",
        "\n",
        "# Пример: матрица ошибок для MNIST\n",
        "y_pred = log_reg.predict(X_test)\n",
        "cm = confusion_matrix(y_test, y_pred)\n",
        "sns.heatmap(cm, annot=True, fmt='d')\n",
        "plt.title('Confusion Matrix')\n",
        "plt.xlabel('Предсказанный класс')\n",
        "plt.ylabel('Реальный класс')\n",
        "plt.show()"
      ]
    },
    {
      "cell_type": "markdown",
      "metadata": {},
      "source": [
        "## 📈 Precision, Recall, F1-score\n",
        "- **Precision (точность):** Сколько правильных положительных предсказаний среди всех положительных.\n",
        "  ```python\n",
        "  precision = TP / (TP + FP)\n",
        "  ```\n",
        "- **Recall (полнота):** Сколько правильных положительных предсказаний среди всех реальных положительных.\n",
        "  ```python\n",
        "  recall = TP / (TP + FN)\n",
        "  ```\n",
        "- **F1-score:** Гармоническое среднее между precision и recall (лучше, чем простое усреднение).\n",
        "  ```python\n",
        "  F1 = 2 * (precision * recall) / (precision + recall)\n",
        "  ```\n",
        "\n",
        "### Примеры применения:\n",
        "- **Spam-фильтр:** Высокий precision важнее (не отправлять нормальные письма в спам).\n",
        "- **Медицинская диагностика:** Высокий recall критичен (не пропустить болезнь).\n",
        "- **F1-score:** Когда нужно балансировать precision и recall [[8]]."
      ]
    },
    {
      "cell_type": "code",
      "execution_count": null,
      "metadata": {},
      "outputs": [],
      "source": [
        "from sklearn.metrics import classification_report\n",
        "\n",
        "# Отчет по метрикам\n",
        "report = classification_report(y_test, y_pred)\n",
        "print(report)"
      ]
    },
    {
      "cell_type": "markdown",
      "metadata": {},
      "source": [
        "## 📉 Графики обучения: loss и accuracy\n",
        "- **Зачем?** Чтобы отслеживать, как модель обучается на каждом этапе (эпохе).\n",
        "- **Как читать?**\n",
        "  - **Underfitting:** High loss, low accuracy на обучающей и тестовой выборке.\n",
        "  - **Overfitting:** Low loss, high accuracy на обучающей, но high loss, low accuracy на тестовой.\n",
        "\n",
        "### Пример: визуализация обучения\n",
        "```python\n",
        "import matplotlib.pyplot as plt\n",
        "\n",
        "# Пример: loss по эпохам\n",
        "plt.plot(history.history['loss'], label='Train Loss')\n",
        "plt.plot(history.history['val_loss'], label='Validation Loss')\n",
        "plt.legend()\n",
        "plt.title('Loss по эпохам')\n",
        "plt.show()\n",
        "```"
      ]
    },
    {
      "cell_type": "markdown",
      "metadata": {},
      "source": [
        "## 📊 Использование `sklearn.metrics`\n",
        "- **classification_report:** Выводит precision, recall, f1-score для каждого класса.\n",
        "- **confusion_matrix:** Матрица ошибок.\n",
        "- **precision_score, recall_score:** Расчет отдельных метрик.\n",
        "- **f1_score:** Расчет F1-метрики.\n",
        "- **Пример:**\n",
        "  ```python\n",
        "  from sklearn.metrics import precision_score, recall_score, f1_score\n",
        "  print(f'Precision: {precision_score(y_test, y_pred, average=\"macro\"):.2f}')\n",
        "  print(f'Recall: {recall_score(y_test, y_pred, average=\"macro\"):.2f}')\n",
        "  print(f'F1-score: {f1_score(y_test, y_pred, average=\"macro\"):.2f}')\n",
        "  ```"
      ]
    },
    {
      "cell_type": "markdown",
      "metadata": {},
      "source": [
        "## 🧪 Практика: Анализ CIFAR-10\n",
        "### Шаг 1: Загрузка CIFAR-10"
      ]
    },
    {
      "cell_type": "code",
      "execution_count": null,
      "metadata": {},
      "outputs": [],
      "source": [
        "from keras.datasets import cifar10\n",
        "import numpy as np\n",
        "\n",
        "# Загрузка данных\n",
        "(X_train, y_train), (X_test, y_test) = cifar10.load_data()\n",
        "X_train = X_train.reshape((50000, 32*32*3)) / 255.0\n",
        "X_test = X_test.reshape((10000, 32*32*3)) / 255.0\n",
        "y_train = np.argmax(y_train, axis=1)\n",
        "y_test = np.argmax(y_test, axis=1)"
      ]
    },
    {
      "cell_type": "markdown",
      "metadata": {},
      "source": [
        "### Шаг 2: Обучение модели и визуализация"
      ]
    },
    {
      "cell_type": "code",
      "execution_count": null,
      "metadata": {},
      "outputs": [],
      "source": [
        "from sklearn.linear_model import LogisticRegression\n",
        "from sklearn.metrics import confusion_matrix, classification_report\n",
        "import seaborn as sns\n",
        "import matplotlib.pyplot as plt\n",
        "\n",
        "# Обучение\n",
        "model = LogisticRegression(max_iter=1000)\n",
        "model.fit(X_train[:5000], y_train[:5000])\n",
        "y_pred = model.predict(X_test[:1000])\n",
        "\n",
        "# Матрица ошибок\n",
        "cm = confusion_matrix(y_test[:1000], y_pred)\n",
        "sns.heatmap(cm, annot=True, fmt='d')\n",
        "plt.title('Confusion Matrix для CIFAR-10')\n",
        "plt.show()"
      ]
    },
    {
      "cell_type": "markdown",
      "metadata": {},
      "source": [
        "### Шаг 3: Расчет метрик"
      ]
    },
    {
      "cell_type": "code",
      "execution_count": null,
      "metadata": {},
      "outputs": [],
      "source": [
        "from sklearn.metrics import precision_score, recall_score, f1_score\n",
        "\n",
        "print(f'Precision: {precision_score(y_test[:1000], y_pred, average=\"macro\"):.2f}')\n",
        "print(f'Recall: {recall_score(y_test[:1000], y_pred, average=\"macro\"):.2f}')\n",
        "print(f'F1-score: {f1_score(y_test[:1000], y_pred, average=\"macro\"):.2f}')\n",
        "\n",
        "# Отчет по метрикам\n",
        "print(classification_report(y_test[:1000], y_pred))"
      ]
    },
    {
      "cell_type": "markdown",
      "metadata": {},
      "source": [
        "### Шаг 4: Графики обучения\n",
        "```python\n",
        "# Пример: loss и accuracy по эпохам\n",
        "history = model.fit(X_train[:5000], y_train[:5000])\n",
        "plt.plot(history.history['loss'], label='Train Loss')\n",
        "plt.plot(history.history['val_loss'], label='Validation Loss')\n",
        "plt.legend()\n",
        "plt.title('Loss по эпохам')\n",
        "plt.xlabel('Эпохи')\n",
        "plt.ylabel('Loss')\n",
        "plt.show()\n",
        "```"
      ]
    },
    {
      "cell_type": "markdown",
      "metadata": {},
      "source": [
        "## 📝 Домашнее задание\n",
        "**Задача 1:** Проанализируйте матрицу ошибок для CIFAR-10. Какие классы чаще путаются? (например, `автомобиль` и `грузовик`).\n",
        "**Задача 2:** Попробуйте улучшить метрики, изменяя гиперпараметры модели (например, `C=10`, `solver='liblinear'`).\n",
        "**Задача 3:** Напишите отчет (200–300 слов), где:\n",
        "- Опишите, как вы обучали модель.\n",
        "- Сравните точность, precision, recall до и после оптимизации.\n",
        "- Объясните, почему одни классы путаются чаще других.\n",
        "- Приведите примеры ошибочных предсказаний.\n",
        "\n",
        "💡 **Рекомендации:**\n",
        "- Используйте `classification_report` для анализа.\n",
        "- Для визуализации ошибок используйте `sns.heatmap`.\n",
        "- При изменении гиперпараметров следите за `loss` и `accuracy`."
      ]
    },
    {
      "cell_type": "markdown",
      "metadata": {},
      "source": [
        "## 🧠 Дополнительная теория: Почему важны разные метрики?\n",
        "- **Accuracy** — не учитывает типы ошибок.\n",
        "- **Precision и Recall** — показывают, как модель работает с конкретными классами.\n",
        "- **F1-score** — лучшая метрика для несбалансированных классов.\n",
        "- **Confusion Matrix** — наглядно показывает, где модель ошибается.\n",
        "\n",
        "### Пример: Spam-фильтр\n",
        "- **FP (ложный спам):** Нормальное письмо от пользователя помечено как спам — критично для пользовательского опыта.\n",
        "- **FN (пропущенный спам):** Спам не был обнаружен — критично для безопасности.\n",
        "- **Precision:** Мера, сколько ошибок FP.\n",
        "- **Recall:** Мера, сколько ошибок FN.\n",
        "- **F1-score:** Баланс между ними."
      ]
    },
    {
      "cell_type": "markdown",
      "metadata": {},
      "source": [
        "## 📉 Как работает переобучение (Overfitting)?\n",
        "- **Переобучение:** Модель запоминает тренировочные данные, но плохо обобщает на тестовых.\n",
        "- **Причины:**\n",
        "  - Слишком сложная модель.\n",
        "  - Недостаток данных.\n",
        "  - Нет регуляризации.\n",
        "- **Как обнаружить?**\n",
        "  - Training loss падает, validation loss растет.\n",
        "  - Accuracy на train высокая, на test низкая.\n",
        "- **Как бороться?**\n",
        "  - Упростить модель.\n",
        "  - Добавить регуляризацию (L1, L2).\n",
        "  - Увеличить размер обучающей выборки.\n",
        "  - Использовать dropout (для нейросетей) [[10]]."
      ]
    },
    {
      "cell_type": "markdown",
      "metadata": {},
      "source": [
        "## 📈 Как работает недообучение (Underfitting)?\n",
        "- **Недообучение:** Модель не учится на данных.\n",
        "- **Причины:**\n",
        "  - Слишком простая модель.\n",
        "  - Неправильно подобранные гиперпараметры.\n",
        "  - Недостаток данных.\n",
        "- **Как обнаружить?**\n",
        "  - Высокий loss на train и test.\n",
        "  - Низкая accuracy на train и test.\n",
        "- **Как бороться?**\n",
        "  - Увеличить сложность модели.\n",
        "  - Улучшить данные (чистка, нормализация).\n",
        "  - Изменить гиперпараметры (learning rate, max_iter)."
      ]
    },
    {
      "cell_type": "markdown",
      "metadata": {},
      "source": [
        "## 📊 Как выбрать лучшую метрику?\n",
        "- **Accuracy:** Для сбалансированных классов.\n",
        "- **F1-score:** Для несбалансированных классов.\n",
        "- **ROC-AUC:** Для бинарной классификации.\n",
        "- **Confusion Matrix:** Для детального анализа ошибок.\n",
        "- **Пример:** В задаче обнаружения мошенничества (где 1% — мошенничество):\n",
        "  - Accuracy может показывать 99%, но это обманчиво.\n",
        "  - F1-score покажет реальную эффективность.\n",
        "  - Confusion matrix покажет, сколько случаев было пропущено [[7]]."
      ]
    },
    {
      "cell_type": "markdown",
      "metadata": {},
      "source": [
        "## 📉 Как работает кросс-валидация?\n",
        "- **Кросс-валидация (Cross-Validation):** Разделение данных на `k` частей для оценки модели.\n",
        "- **Зачем?** Чтобы проверить, как модель будет работать на разных подвыборках.\n",
        "- **Пример:**\n",
        "  ```python\n",
        "  from sklearn.model_selection import cross_val_score\n",
        "  scores = cross_val_score(log_reg, X_train, y_train, cv=3, scoring='accuracy')\n",
        "  print(scores)  # [0.91, 0.92, 0.93]\n",
        "  print(f'Средняя точность: {scores.mean():.2f}')\n",
        "  ```\n",
        "- **cv=3:** Данные разбиты на 3 части.\n",
        "- **scoring='accuracy':** Используем точность как метрику."
      ]
    },
    {
      "cell_type": "markdown",
      "metadata": {},
      "source": [
        "## 📊 Как выбрать лучшую модель?\n",
        "- **Точность (Accuracy):** Подходит для сбалансированных классов.\n",
        "- **F1-score:** Если важны и precision, и recall (например, редкие классы).\n",
        "- **ROC-AUC:** Для бинарной классификации.\n",
        "- **Скоринг в GridSearchCV:** Используйте параметр `scoring` для выбора метрики.\n",
        "- **Пример:**\n",
        "  ```python\n",
        "  from sklearn.model_selection import GridSearchCV\n",
        "  grid = GridSearchCV(KNeighborsClassifier(), param_grid, cv=3, scoring='accuracy')\n",
        "  ```"
      ]
    },
    {
      "cell_type": "markdown",
      "metadata": {},
      "source": [
        "## 📝 Домашнее задание (расширенное)\n",
        "**Задача 1:** Обучите модель `LogisticRegression` на CIFAR-10 и построите confusion matrix.\n",
        "**Задача 2:** Рассчитайте precision, recall и F1-score для классов `автомобиль` и `грузовик`.\n",
        "**Задача 3:** Напишите отчет (200–300 слов), где:\n",
        "- Опишите, как вы обучали модель.\n",
        "- Сравните точность, precision, recall до и после изменения гиперпараметров.\n",
        "- Объясните, почему одни классы путаются чаще других.\n",
        "- Приведите примеры ошибочных предсказаний.\n",
        "- Нарисуйте графики loss и accuracy по эпохам.\n",
        "- Визуализируйте confusion matrix для `kNN`.\n",
        "\n",
        "💡 **Рекомендации:**\n",
        "- Используйте `KNeighborsClassifier(n_neighbors=5)` для начала.\n",
        "- Для ускорения используйте подвыборку.\n",
        "- При изменении гиперпараметров следите за `loss` и `accuracy`.\n",
        "- Визуализируйте confusion matrix и ищите классы, которые путаются чаще всего."
      ]
    },
    {
      "cell_type": "markdown",
      "metadata": {},
      "source": [
        "## 📈 Графики обучения: loss и accuracy\n",
        "### Пример: визуализация обучения\n",
        "```python\n",
        "import matplotlib.pyplot as plt\n",
        "\n",
        "# Loss по эпохам\n",
        "plt.plot(history.history['loss'], label='Train Loss')\n",
        "plt.plot(history.history['val_loss'], label='Validation Loss')\n",
        "plt.legend()\n",
        "plt.title('Loss по эпохам')\n",
        "plt.xlabel('Эпохи')\n",
        "plt.ylabel('Loss')\n",
        "plt.grid(True)\n",
        "plt.show()\n",
        "```"
      ]
    },
    {
      "cell_type": "markdown",
      "metadata": {},
      "source": [
        "### Пример: accuracy по эпохам\n",
        "```python\n",
        "# Accuracy по эпохам\n",
        "plt.plot(history.history['accuracy'], label='Train Accuracy')\n",
        "plt.plot(history.history['val_accuracy'], label='Validation Accuracy')\n",
        "plt.legend()\n",
        "plt.title('Accuracy по эпохам')\n",
        "plt.xlabel('Эпохи')\n",
        "plt.ylabel('Accuracy')\n",
        "plt.grid(True)\n",
        "plt.show()\n",
        "```"
      ]
    },
    {
      "cell_type": "markdown",
      "metadata": {},
      "source": [
        "## 📊 Как интерпретировать графики обучения?\n",
        "- **Overfitting:** Train loss падает, validation loss растет.\n",
        "- **Underfitting:** Оба loss высокие, accuracy низкая.\n",
        "- **Хорошее обучение:** Оба loss стабильны и низкие.\n",
        "\n",
        "### Пример: переобучение\n",
        "```python\n",
        "plt.plot(history.history['loss'], label='Train Loss')\n",
        "plt.plot(history.history['val_loss'], label='Validation Loss')\n",
        "plt.legend()\n",
        "plt.title('Overfitting')\n",
        "plt.show()\n",
        "```"
      ]
    },
    {
      "cell_type": "markdown",
      "metadata": {},
      "source": [
        "## 📉 Как работает кросс-валидация?\n",
        "- **Кросс-валидация (Cross-Validation):** Разделение данных на `k` частей для оценки модели.\n",
        "- **Зачем?** Чтобы проверить, как модель будет работать на разных подвыборках.\n",
        "- **Пример:**\n",
        "  ```python\n",
        "  from sklearn.model_selection import cross_val_score\n",
        "  scores = cross_val_score(log_reg, X_train, y_train, cv=3, scoring='accuracy')\n",
        "  print(scores)  # [0.91, 0.92, 0.93]\n",
        "  print(f'Средняя точность: {scores.mean():.2f}')\n",
        "  ```\n",
        "- **cv=3:** Данные разбиты на 3 части.\n",
        "- **scoring='accuracy':** Используем точность как метрику."
      ]
    },
    {
      "cell_type": "markdown",
      "metadata": {},
      "source": [
        "## 🧪 Практика: Анализ ошибок модели\n",
        "### Шаг 1: Обучение логистической регрессии на CIFAR-10\n",
        "```python\n",
        "model = LogisticRegression(max_iter=1000)\n",
        "model.fit(X_train[:5000], y_train[:5000])\n",
        "y_pred = model.predict(X_test[:1000])\n",
        "```"
      ]
    },
    {
      "cell_type": "markdown",
      "metadata": {},
      "source": [
        "### Шаг 2: Матрица ошибок и анализ"
      ]
    },
    {
      "cell_type": "code",
      "execution_count": null,
      "metadata": {},
      "outputs": [],
      "source": [
        "cm = confusion_matrix(y_test[:1000], y_pred)\n",
        "sns.heatmap(cm, annot=True, fmt='d')\n",
        "plt.title('Confusion Matrix для CIFAR-10')\n",
        "plt.xlabel('Predicted')\n",
        "plt.ylabel('True')\n",
        "plt.show()"
      ]
    },
    {
      "cell_type": "markdown",
      "metadata": {},
      "source": [
        "### Шаг 3: Расчет precision, recall, F1-score\n",
        "```python\n",
        "from sklearn.metrics import precision_score, recall_score, f1_score\n",
        "\n",
        "precision = precision_score(y_test[:1000], y_pred, average='macro')\n",
        "recall = recall_score(y_test[:1000], y_pred, average='macro')\n",
        "f1 = f1_score(y_test[:1000], y_pred, average='macro')\n",
        "print(f'Precision: {precision:.2f}, Recall: {recall:.2f}, F1-score: {f1:.2f}')\n",
        "```"
      ]
    },
    {
      "cell_type": "markdown",
      "metadata": {},
      "source": [
        "### Шаг 4: Визуализация обучения\n",
        "```python\n",
        "import matplotlib.pyplot as plt\n",
        "\n",
        "# Loss по эпохам\n",
        "plt.plot(history.history['loss'], label='Train Loss')\n",
        "plt.plot(history.history['val_loss'], label='Validation Loss')\n",
        "plt.legend()\n",
        "plt.title('Loss по эпохам')\n",
        "plt.xlabel('Эпохи')\n",
        "plt.ylabel('Loss')\n",
        "plt.grid(True)\n",
        "plt.show()\n",
        "```"
      ]
    },
    {
      "cell_type": "markdown",
      "metadata": {},
      "source": [
        "## 📝 Домашнее задание (расширенное)\n",
        "**Задача 1:** Обучите модель `KNeighborsClassifier` на CIFAR-10 и сравните с логистической регрессией.\n",
        "**Задача 2:** Напишите отчет (200–300 слов), где:\n",
        "- Опишите, как вы обучали модель.\n",
        "- Сравните точность, precision, recall до и после оптимизации.\n",
        "- Объясните, почему одни классы путаются чаще других.\n",
        "- Приведите примеры ошибочных предсказаний.\n",
        "- Нарисуйте графики точности для разных значений `n_neighbors`.\n",
        "- Визуализируйте confusion matrix для `kNN`.\n",
        "\n",
        "💡 **Рекомендации:**\n",
        "- Используйте `KNeighborsClassifier(n_neighbors=5)` для начала.\n",
        "- Для ускорения используйте подвыборку.\n",
        "- При изменении гиперпараметров следите за `loss` и `accuracy`."
      ]
    },
    {
      "cell_type": "markdown",
      "metadata": {},
      "source": [
        "## ✅ Рекомендации по выполнению домашнего задания\n",
        "- **Задача 1:** Убедитесь, что вы используете правильный диапазон `n_neighbors` (например, от 1 до 10).\n",
        "- **Задача 2:** Попробуйте разные значения `n_neighbors` и посмотрите, как меняется точность.\n",
        "- **Визуализация:** Используйте `sns.heatmap` для матрицы ошибок.\n",
        "- **Подсказка:** Чем больше `n_neighbors`, тем меньше шума, но выше вычислительная сложность."
      ]
    }
  ],
  "metadata": {
    "kernelspec": {
      "display_name": "Python 3",
      "language": "python",
      "name": "python3"
    },
    "language_info": {
      "codemirror_mode": {
        "name": "ipython",
        "version": 3
      },
      "file_extension": ".py",
      "mimetype": "text/x-python",
      "name": "python",
      "nbconvert_exporter": "python",
      "pygments_lexer": "ipython3",
      "version": "3.8.5"
    }
  },
  "nbformat": 4,
  "nbformat_minor": 4
}
