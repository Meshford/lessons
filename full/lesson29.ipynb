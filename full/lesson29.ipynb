{
  "cells": [
    {
      "cell_type": "markdown",
      "metadata": {},
      "source": [
        "# 🧠 Урок 29: Продвинутый Python — генераторы, корутины, многопоточность и многопроцессность\n",
        "**Цель урока:** Понять, как использовать генераторы, корутины, потоки и процессы для эффективной обработки данных и ускорения вычислений. Подходит для новичков.\n",
        "\n",
        "## 📌 Зачем нужны продвинутые концепции Python?\n",
        "- **Генераторы** — экономят память при работе с большими данными.\n",
        "- **Корутины** — позволяют писать асинхронный код.\n",
        "- **Многопоточность (threading):** Для I/O-операций (загрузка файлов, сетевые запросы).\n",
        "- **Многопроцессность (multiprocessing):** Для CPU-интенсивных задач (распознавание текста, обработка изображений).\n",
        "- **Аналогия:** Если программирование — это строительство дома, то генераторы — это как строить по частям, корутины — как общение с бригадой, многопоточность — как распределение задач между рабочими, многопроцессность — как строить несколько домов одновременно ."
      ]
    },
    {
      "cell_type": "markdown",
      "metadata": {},
      "source": [
        "## 🔄 Генераторы\n",
        "- **Что это?** Функции, которые возвращают значения по одному, не храня все в памяти.\n",
        "- **Зачем?** Для работы с большими наборами данных (например, чтение файла по строкам).\n",
        "- **Как создать?** Используйте `yield` вместо `return`.\n",
        "- **Пример:**\n",
        "  ```python\n",
        "  def my_generator():\n",
        "      for i in range(10):\n",
        "          yield i\n",
        "  \n",
        "  for value in my_generator():\n",
        "      print(value)\n",
        "  ```\n",
        "- **Аналогия:** Представьте, что вы покупаете мороженое по одному шару, а не всю коробку сразу ."
      ]
    },
    {
      "cell_type": "markdown",
      "metadata": {},
      "source": [
        "## 🔄 Корутины\n",
        "- **Что это?** Функции, которые могут получать данные во время выполнения.\n",
        "- **Где используется?** В асинхронных приложениях, чат-ботах, обработке событий.\n",
        "- **Как создать?** Используйте `yield` для получения данных.\n",
        "- **Пример:**\n",
        "  ```python\n",
        "  def my_coroutine():\n",
        "      while True:\n",
        "          value = yield\n",
        "          print(f'Получено: {value}')\n",
        "  \n",
        "  co = my_coroutine()\n",
        "  next(co)  # Активация корутины\n",
        "  co.send('Привет')\n",
        "  co.send('Пока')\n",
        "  ```\n",
        "- **Аналогия:** Корутина — как почтовый ящик, который принимает письма в любой момент ."
      ]
    },
    {
      "cell_type": "markdown",
      "metadata": {},
      "source": [
        "## 🧱 Многопоточность (threading)\n",
        "- **Что это?** Выполнение нескольких задач одновременно в одном процессе.\n",
        "- **Зачем?** Для I/O-интенсивных операций (загрузка файлов, веб-запросы).\n",
        "- **Ограничения:** Не ускоряет CPU-интенсивные задачи из-за GIL (Global Interpreter Lock).\n",
        "- **Пример:**\n",
        "  ```python\n",
        "  import threading\n",
        "  def print_numbers():\n",
        "      for i in range(5):\n",
        "          print(i)\n",
        "  \n",
        "  thread = threading.Thread(target=print_numbers)\n",
        "  thread.start()\n",
        "  thread.join()\n",
        "  ```\n",
        "- **Аналогия:** Несколько людей работают за одним столом, передавая инструменты друг другу ."
      ]
    },
    {
      "cell_type": "markdown",
      "metadata": {},
      "source": [
        "## 🧠 Многопроцессность (multiprocessing)\n",
        "- **Что это?** Выполнение задач в отдельных процессах, с независимой памятью.\n",
        "- **Зачем?** Для CPU-интенсивных задач (обработка изображений, численные вычисления).\n",
        "- **Преимущества:** Обходит GIL, использует несколько ядер процессора.\n",
        "- **Пример:**\n",
        "  ```python\n",
        "  import multiprocessing as mp\n",
        "  def square(x):\n",
        "      return x * x\n",
        "  \n",
        "  with mp.Pool(4) as pool:\n",
        "      results = pool.map(square, [1, 2, 3, 4])\n",
        "  print(results)  # [1, 4, 9, 16]\n",
        "  ```\n",
        "- **Аналогия:** Каждый процесс — это отдельная кухня, где готовят одно и то же блюдо параллельно ."
      ]
    },
    {
      "cell_type": "markdown",
      "metadata": {},
      "source": [
        "## 🛠️ Практика: Генераторы и корутины\n",
        "### Шаг 1: Генератор для чтения файла"
      ]
    },
    {
      "cell_type": "code",
      "execution_count": null,
      "metadata": {},
      "outputs": [],
      "source": [
        "def read_file_lines(filename):\n",
        "    with open(filename, 'r') as f:\n",
        "        for line in f:\n",
        "            yield line.strip()\n",
        "\n",
        "# Пример использования\n",
        "for line in read_file_lines('example.txt'):\n",
        "    print(line)"
      ]
    },
    {
      "cell_type": "markdown",
      "metadata": {},
      "source": [
        "### Шаг 2: Корутина для обработки данных"
      ]
    },
    {
      "cell_type": "code",
      "execution_count": null,
      "metadata": {},
      "outputs": [],
      "source": [
        "def filter_words(target):\n",
        "    while True:\n",
        "        word = yield\n",
        "        if target in word:\n",
        "            print(f'Найдено: {word}')\n",
        "\n",
        "# Использование корутины\n",
        "coroutine = filter_words('Python')\n",
        "next(coroutine)\n",
        "coroutine.send('Это строка с Python')\n",
        "coroutine.send('Это не та строка')"
      ]
    },
    {
      "cell_type": "markdown",
      "metadata": {},
      "source": [
        "## 🧪 Практика: Многопоточность\n",
        "### Шаг 1: Загрузка данных из сети"
      ]
    },
    {
      "cell_type": "code",
      "execution_count": null,
      "metadata": {},
      "outputs": [],
      "source": [
        "import requests\n",
        "import threading\n",
        "\n",
        "urls = [\n",
        "    'https://example.com',\n", 
        "    'https://example.org',\n", 
        "    'https://example.net'\n", 
        "]\n",
        "\n",
        "def fetch_url(url):\n",
        "    response = requests.get(url)\n",
        "    print(f'{url} — {len(response.text)} байт')\n",
        "\n",
        "# Запуск в потоках\n",
        "threads = [threading.Thread(target=fetch_url, args=(url,)) for url in urls]\n",
        "for t in threads:\n",
        "    t.start()\n",
        "for t in threads:\n",
        "    t.join()"
      ]
    },
    {
      "cell_type": "markdown",
      "metadata": {},
      "source": [
        "## 🧱 Практика: Многопроцессность\n",
        "### Шаг 1: Параллельная обработка данных"
      ]
    },
    {
      "cell_type": "code",
      "execution_count": null,
      "metadata": {},
      "outputs": [],
      "source": [
        "import multiprocessing as mp\n",
        "import numpy as np\n",
        "\n",
        "def process_data(data_chunk):\n",
        "    return np.mean(data_chunk)\n",
        "\n",
        "# Создание данных\n",
        "data = np.random.rand(1000000).reshape(10, 100000)\n",
        "\n",
        "# Распределение данных\n",
        "with mp.Pool(4) as pool:\n",
        "    results = pool.map(process_data, data)\n",
        "print(\"Средние значения:\", results)"
      ]
    },
    {
      "cell_type": "markdown",
      "metadata": {},
      "source": [
        "## 📊 Сравнение threading и multiprocessing\n",
        "- **threading:**\n",
        "  - Подходит для I/O-операций (сетевые запросы, чтение/запись).\n",
        "  - Ограничен GIL (только один поток выполняется одновременно).\n",
        "- **multiprocessing:**\n",
        "  - Подходит для CPU-интенсивных задач.\n",
        "  - Использует несколько ядер процессора.\n",
        "  - Требует больше памяти (каждый процесс имеет свою копию данных).\n",
        "- **Аналогия:**\n",
        "  - `threading` — как несколько людей, работающих за одним столом.\n",
        "  - `multiprocessing` — как несколько столов, где каждый человек работает самостоятельно ."
      ]
    },
    {
      "cell_type": "markdown",
      "metadata": {},
      "source": [
        "## 📝 Домашнее задание\n",
        "**Задача 1:** Добавьте обработку ошибок в генератор `read_file_lines` (например, если файл не найден).\n",
        "**Задача 2:** Используйте корутину для фильтрации слов, содержащих определенные буквы (например, 'a' или 'python').\n",
        "**Задача 3:** Напишите отчет (200–300 слов), где:\n",
        "- Опишите, как работают генераторы и корутины.\n",
        "- Объясните, почему `threading` не ускоряет CPU-интенсивные задачи.\n",
        "- Сравните `threading` и `multiprocessing` на примере своего кода.\n",
        "- Приведите примеры, где эти методы полезны (например, обработка логов, распознавание текста)."
      ]
    },
    {
      "cell_type": "code",
      "execution_count": null,
      "metadata": {},
      "outputs": [],
      "source": [
        "# Ваш код здесь\n",
        "def read_file_lines(filename):\n",
        "    try:\n",
        "        with open(filename, 'r') as f:\n",
        "            for line in f:\n",
        "                yield line.strip()\n",
        "    except FileNotFoundError:\n",
        "        print(\"Файл не найден!\")"
      ]
    },
    {
      "cell_type": "code",
      "execution_count": null,
      "metadata": {},
      "outputs": [],
      "source": [
        "# Пример использования корутины\n",
        "def filter_words(target):\n",
        "    while True:\n",
        "        word = yield\n",
        "        if target in word:\n",
        "            print(f'Слово найдено: {word}')\n",
        "\n",
        "coroutine = filter_words('python')\n",
        "next(coroutine)\n",
        "coroutine.send('Это тестовый текст')\n",
        "coroutine.send('Python — мой любимый язык')"
      ]
    },
    {
      "cell_type": "code",
      "execution_count": null,
      "metadata": {},
      "outputs": [],
      "source": [
        "# Сравнение threading и multiprocessing\n",
        "import time\n",
        "import threading\n",
        "import multiprocessing as mp\n",
        "\n",
        "def count_numbers(limit):\n",
        "    for _ in range(limit):\n",
        "        pass\n",
        "\n",
        "# Сравнение времени\n",
        "start = time.time()\n",
        "[count_numbers(1000000) for _ in range(4)]\n",
        "print(f'Однопоточный: {time.time() - start:.2f} секунд')\n",
        "\n",
        "start = time.time()\n",
        "threads = [threading.Thread(target=count_numbers, args=(1000000,)) for _ in range(4)]\n",
        "for t in threads:\n",
        "    t.start()\n",
        "for t in threads:\n",
        "    t.join()\n",
        "print(f'threading: {time.time() - start:.2f} секунд')\n",
        "\n",
        "start = time.time()\n",
        "processes = [mp.Process(target=count_numbers, args=(1000000,)) for _ in range(4)]\n",
        "for p in processes:\n",
        "    p.start()\n",
        "for p in processes:\n",
        "    p.join()\n",
        "print(f'multiprocessing: {time.time() - start:.2f} секунд')"
      ]
    },
    {
      "cell_type": "markdown",
      "metadata": {},
      "source": [
        "## ✅ Рекомендации по выполнению\n",
        "- **Задача 1:** Используйте `try-except` для обработки ошибок.\n",
        "- **Задача 2:** Модифицируйте корутину, чтобы она принимала разные условия фильтрации.\n",
        "- **Задача 3:** Для сравнения используйте `time` и выводите время выполнения для каждого метода."
      ]
    }
  ],
  "metadata": {
    "kernelspec": {
      "display_name": "Python 3",
      "language": "python",
      "name": "python3"
    },
    "language_info": {
      "codemirror_mode": {
        "name": "ipython",
        "version": 3
      },
      "file_extension": ".py",
      "mimetype": "text/x-python",
      "name": "python",
      "nbconvert_exporter": "python",
      "pygments_lexer": "ipython3",
      "version": "3.8.5"
    }
  },
  "nbformat": 4,
  "nbformat_minor": 4
}