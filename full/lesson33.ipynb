{
  "cells": [
    {
      "cell_type": "markdown",
      "metadata": {},
      "source": [
        "# 🧠 Урок 33: Архитектуры CNN — ResNet, EfficientNet, YOLO, Transformer-based модели\n",
        "**Цель урока:** Познакомиться с основными архитектурами сверточных нейросетей (ResNet, EfficientNet, YOLO, Vision Transformer), понять их устройство и применение. Подходит для новичков.\n",
        "\n",
        "## 📌 Зачем разные архитектуры CNN?\n",
        "- **ResNet** — решает проблему затухания градиента в глубоких сетях.\n",
        "- **EfficientNet** — балансирует глубину, ширину и разрешение для оптимальной эффективности.\n",
        "- **YOLO** — быстрая детекция объектов в реальном времени.\n",
        "- **Transformer-based модели** — обрабатывают изображения через механизм внимания, учитывая глобальные связи.\n",
        "- **Аналогия:** Если CNN — это автомобиль, то ResNet — внедорожник (глубокий и надежный), EfficientNet — хэтчбек (баланс), YOLO — гоночный болид (быстрый), Transformer — беспилотник (новый подход) [[7]]."
      ]
    },
    {
      "cell_type": "markdown",
      "metadata": {},
      "source": [
        "## 📐 ResNet: Революция глубоких сетей\n",
        "- **Что это?** Архитектура с skip-connections (пропускными связями), позволяющая обучать сети из сотен слоев.\n",
        "- **Как работает?**\n",
        "  - **Skip Connection:** Передает входной сигнал напрямую на выход, минуя несколько слоев.\n",
        "  - **Формула:** `output = activation(input + F(input))`, где `F(input)` — преобразование через слои.\n",
        "- **Зачем?** Решает проблему затухания градиента и позволяет создавать более глубокие модели [[6]].\n",
        "- **Преимущества:**\n",
        "  - Стабильное обучение на больших данных.\n",
        "  - Высокая точность в задачах классификации.\n",
        "- **Ограничения:**\n",
        "  - Сложность модели.\n",
        "  - Высокие требования к вычислительным ресурсам.\n",
        "- **Пример архитектуры:**\n",
        "  ```python\n",
        "  from tensorflow.keras.applications import ResNet50\n",
        "  model = ResNet50(weights='imagenet', include_top=False, input_shape=(224, 224, 3))\n",
        "  ```\n",
        "- **Аналогия:** Skip Connection — как книга с закладками: вы можете пропустить сложную главу и перейти к следующей, сохранив общий контекст."
      ]
    },
    {
      "cell_type": "markdown",
      "metadata": {},
      "source": [
        "## 🧱 EfficientNet: Баланс глубины и эффективности\n",
        "- **Что это?** Модель, которая масштабирует глубину, ширину и разрешение пропорционально.\n",
        "- **Как работает?** Использует Compound Scaling для равномерного увеличения параметров [[7]].\n",
        "- **Преимущества:**\n",
        "  - Высокая точность при малых ресурсах.\n",
        "  - Масштабируемость под разные задачи.\n",
        "- **Ограничения:**\n",
        "  - Менее точна, чем ResNet, на сложных задачах.\n",
        "- **Пример архитектуры:**\n",
        "  ```python\n",
        "  from tensorflow.keras.applications import EfficientNetB0\n",
        "  model = EfficientNetB0(weights='imagenet', include_top=False, input_shape=(224, 224, 3))\n",
        "  ```\n",
        "- **Аналогия:** Compound Scaling — как увеличение объема двигателя, колес и скорости автомобиля пропорционально."
      ]
    },
    {
      "cell_type": "markdown",
      "metadata": {},
      "source": [
        "## 🎯 YOLO: Детекция объектов в реальном времени\n",
        "- **Что это?** Архитектура для детекции объектов без двухэтапного процесса (как R-CNN).\n",
        "- **Как работает?**\n",
        "  - **Сетка (Grid):** Разбивает изображение на ячейки.\n",
        "  - **Bounding Box:** Каждая ячейка предсказывает прямоугольник и вероятность класса.\n",
        "  - **Confidence Score:** Вероятность, что в ячейке есть объект.\n",
        "- **Преимущества:**\n",
        "  - Высокая скорость (до 45 FPS).\n",
        "  - Одноэтапная архитектура упрощает обучение.\n",
        "- **Ограничения:**\n",
        "  - Сложнее настраивать, чем двухэтапные методы.\n",
        "  - Чувствителен к мелким объектам.\n",
        "- **Пример архитектуры:**\n",
        "  ```python\n",
        "  from tensorflow.keras.models import Model\n",
        "  from tensorflow.keras.layers import Input, Dense\n",
        "  from yolo.model import YOLO\n",
        "  \n",
        "  model = YOLO(input_shape=(416, 416, 3), classes=80)\n",
        "  ```\n",
        "- **Аналогия:** YOLO — как курьер, который сразу определяет, что доставлять и куда, без лишних шагов."
      ]
    },
    {
      "cell_type": "markdown",
      "metadata": {},
      "source": [
        "## 🧩 Transformer-based модели: Новый подход к изображениям\n",
        "- **Что это?** Использование механизма внимания (attention) вместо сверток для обработки изображений.\n",
        "- **Как работает?**\n",
        "  - **Патч-эмбеддинги:** Изображение разбивается на патчи, преобразуется в последовательность токенов.\n",
        "  - **Self-Attention:** Модель учится, какие патчи важны друг для друга.\n",
        "  - **MLP:** Пост-обработка через полносвязные слои.\n",
        "- **Преимущества:**\n",
        "  - Учет глобальных зависимостей (например, объекты в разных частях изображения).\n",
        "  - Лучше работает на больших датасетах, чем классические CNN.\n",
        "- **Ограничения:**\n",
        "  - Требует больших данных для обучения.\n",
        "  - Медленнее CNN на малых датасетах.\n",
        "- **Пример архитектуры:**\n",
        "  ```python\n",
        "  from tensorflow.keras.applications import ConvNeXtTiny\n",
        "  model = ConvNeXtTiny(weights='imagenet', include_top=False, input_shape=(224, 224, 3))\n",
        "  ```\n",
        "- **Аналогия:** Transformer — как человек, который смотрит на всю картину целиком, а не на отдельные фрагменты [[3]]."
      ]
    },
    {
      "cell_type": "markdown",
      "metadata": {},
      "source": [
        "## 🧪 Практика: Обучение ResNet и Vision Transformer на CIFAR-10\n",
        "### Шаг 1: Загрузка и предобработка данных"
      ]
    },
    {
      "cell_type": "code",
      "execution_count": null,
      "metadata": {},
      "outputs": [],
      "source": [
        "from keras.datasets import cifar10\n",
        "import numpy as np\n",
        "import tensorflow as tf\n",
        "\n",
        "# Загрузка данных\n",
        "(X_train, y_train), (X_test, y_test) = cifar10.load_data()\n",
        "X_train = X_train.astype('float32') / 255.0\n",
        "X_test = X_test.astype('float32') / 255.0\n",
        "y_train = tf.keras.utils.to_categorical(y_train, 10)\n",
        "y_test = tf.keras.utils.to_categorical(y_test, 10)"
      ]
    },
    {
      "cell_type": "markdown",
      "metadata": {},
      "source": [
        "### Шаг 2: Обучение ResNet"
      ]
    },
    {
      "cell_type": "code",
      "execution_count": null,
      "metadata": {},
      "outputs": [],
      "source": [
        "from tensorflow.keras.applications import ResNet50\n",
        "from tensorflow.keras.models import Sequential\n",
        "from tensorflow.keras.layers import Dense\n",
        "\n",
        "# Загрузка ResNet\n",
        "base_model = ResNet50(weights='imagenet', include_top=False, input_shape=(32, 32, 3))\n",
        "base_model.trainable = False  # Заморозка слоев\n",
        "\n",
        "# Добавление полносвязных слоев\n",
        "model = Sequential([\n",
        "    base_model,\n",
        "    tf.keras.layers.GlobalAveragePooling2D(),\n",
        "    Dense(10, activation='softmax')\n",
        "])\n",
        "\n",
        "# Компиляция и обучение\n",
        "model.compile(optimizer='adam', loss='categorical_crossentropy', metrics=['accuracy'])\n",
        "history = model.fit(X_train, y_train, epochs=10, batch_size=64, validation_data=(X_test, y_test))"
      ]
    },
    {
      "cell_type": "markdown",
      "metadata": {},
      "source": [
        "### Шаг 3: Обучение Vision Transformer"
      ]
    },
    {
      "cell_type": "code",
      "execution_count": null,
      "metadata": {},
      "outputs": [],
      "source": [
        "from tensorflow.keras.applications import ConvNeXtTiny\n",
        "from tensorflow.keras.models import Sequential\n",
        "from tensorflow.keras.layers import Dense\n",
        "\n",
        "# Загрузка ConvNeXt (Transformer-based)\n",
        "base_model = ConvNeXtTiny(weights='imagenet', include_top=False, input_shape=(32, 32, 3))\n",
        "base_model.trainable = False\n",
        "\n",
        "# Добавление слоев\n",
        "model_vit = Sequential([\n",
        "    base_model,\n",
        "    tf.keras.layers.GlobalAveragePooling2D(),\n",
        "    Dense(10, activation='softmax')\n",
        "])\n",
        "\n",
        "# Компиляция и обучение\n",
        "model_vit.compile(optimizer='adam', loss='categorical_crossentropy', metrics=['accuracy'])\n",
        "history_vit = model_vit.fit(X_train, y_train, epochs=10, batch_size=64, validation_data=(X_test, y_test))"
      ]
    },
    {
      "cell_type": "markdown",
      "metadata": {},
      "source": [
        "## 📊 Сравнение моделей\n",
        "- **ResNet:** Высокая точность, но медленнее на малых датасетах.\n",
        "- **Vision Transformer:** Лучше на больших данных, но требует больше вычислений.\n",
        "- **YOLO:** Для детекции, а не классификации.\n",
        "- **Пример:**\n",
        "  ```python\n",
        "  import matplotlib.pyplot as plt\n",
        "  \n",
        "  # График точности\n",
        "  plt.plot(history.history['accuracy'], label='ResNet Accuracy')\n",
        "  plt.plot(history_vit.history['accuracy'], label='Vision Transformer Accuracy')\n",
        "  plt.legend()\n",
        "  plt.title('Сравнение ResNet и Vision Transformer')\n",
        "  plt.xlabel('Эпохи')\n",
        "  plt.ylabel('Accuracy')\n",
        "  plt.grid(True)\n",
        "  plt.show()\n",
        "  ```"
      ]
    },
    {
      "cell_type": "markdown",
      "metadata": {},
      "source": [
        "## 📈 Как работает механизм внимания (Attention)?\n",
        "- **Attention:** Модель учится, какие части изображения важны для классификации.\n",
        "- **Преимущества:** Учет глобальных зависимостей, лучшая точность на больших датасетах.\n",
        "- **Ограничения:** Требует больше данных и вычислений.\n",
        "- **Пример:**\n",
        "  ```python\n",
        "  from tensorflow.keras.models import Model\n",
        "  from tensorflow.keras.layers import Input, Dense\n",
        "  \n",
        "  inputs = Input(shape=(32, 32, 3))\n",
        "  x = base_model(inputs)\n",
        "  outputs = Dense(10, activation='softmax')(x)\n",
        "  model = Model(inputs, outputs)\n",
        "  ```\n",
        "- **Аналогия:** Attention — как человек, который фокусируется на ключевых деталях (например, лицо в толпе)."
      ]
    },
    {
      "cell_type": "markdown",
      "metadata": {},
      "source": [
        "## 📉 Что такое переобучение и как его избежать?\n",
        "- **Переобучение (Overfitting):** Модель идеально запоминает тренировочные данные, но плохо работает на тестовых.\n",
        "- **Причины:**\n",
        "  - Слишком сложная модель.\n",
        "  - Недостаток данных.\n",
        "- **Как бороться?**\n",
        "  - Используйте регуляризацию (Dropout, L2).\n",
        "  - Добавьте аугментации изображений.\n",
        "  - Используйте предобученные модели.\n",
        "- **Пример:**\n",
        "  ```python\n",
        "  from tensorflow.keras.layers import Dropout\n",
        "  model.add(Dropout(0.5))  # Отключает 50% нейронов\n",
        "  ```\n",
        "- **Аналогия:** Dropout — как тренировка команды без одного игрока: остальные учатся компенсировать его отсутствие."
      ]
    },
    {
      "cell_type": "markdown",
      "metadata": {},
      "source": [
        "## 📝 Домашнее задание\n",
        "**Задача 1:** Измените архитектуру ResNet:\n",
        "- Добавьте `Dropout(0.5)` после `GlobalAveragePooling2D()`.\n",
        "- Как меняется `val_accuracy`?\n",
        "- Нарисуйте график обучения.\n",
        "\n",
        "**Задача 2:** Сравните Vision Transformer и ResNet на датасете CIFAR-10:\n",
        "- Визуализируйте confusion matrix для обеих моделей.\n",
        "- Напишите отчет (200–300 слов), где:\n",
        "  - Опишите, как вы обучали модели.\n",
        "  - Сравните точность и loss.\n",
        "  - Объясните, почему Transformer работает лучше на больших данных.\n",
        "  - Приведите примеры, где эти архитектуры полезны (например, YOLO — для автопилотов, Transformer — для медицинских снимков).\n",
        "- **Подсказка:** Используйте `sns.heatmap` для матрицы ошибок."
      ]
    },
    {
      "cell_type": "code",
      "execution_count": null,
      "metadata": {},
      "outputs": [],
      "source": [
        "# Ваш код здесь\n",
        "from tensorflow.keras.layers import Dropout\n",
        "from tensorflow.keras.models import Sequential\n",
        "from tensorflow.keras.layers import GlobalAveragePooling2D, Dense\n",
        "\n",
        "# ResNet с Dropout\n",
        "base_model = ResNet50(weights='imagenet', include_top=False, input_shape=(32, 32, 3))\n",
        "base_model.trainable = False\n",
        "\n",
        "model_dropout = Sequential([\n",
        "    base_model,\n",
        "    GlobalAveragePooling2D(),\n",
        "    Dropout(0.5),\n",
        "    Dense(10, activation='softmax')\n",
        "])\n",
        "\n",
        "model_dropout.compile(optimizer='adam', loss='categorical_crossentropy', metrics=['accuracy'])\n",
        "history_dropout = model_dropout.fit(X_train, y_train, epochs=10, validation_data=(X_test, y_test))"
      ]
    },
    {
      "cell_type": "code",
      "execution_count": null,
      "metadata": {},
      "outputs": [],
      "source": [
        "# Визуализация обучения\n",
        "import matplotlib.pyplot as plt\n",
        "\n",
        "plt.plot(history_vit.history['val_accuracy'], label='Vision Transformer')\n",
        "plt.plot(history_dropout.history['val_accuracy'], label='ResNet + Dropout')\n",
        "plt.legend()\n",
        "plt.title('Сравнение точности')\n",
        "plt.xlabel('Эпохи')\n",
        "plt.ylabel('Accuracy')\n",
        "plt.grid(True)\n",
        "plt.show()"
      ]
    },
    {
      "cell_type": "markdown",
      "metadata": {},
      "source": [
        "## ✅ Рекомендации по выполнению\n",
        "- **Задача 1:** После добавления Dropout следите за `val_loss`: если он растет, уменьшите learning rate.\n",
        "- **Задача 2:** Сравнивайте `val_accuracy` и `val_loss` для разных моделей.\n",
        "- **Подсказка:** Используйте `model.summary()` для анализа архитектуры."
      ]
    }
  ],
  "metadata": {
    "kernelspec": {
      "display_name": "Python 3",
      "language": "python",
      "name": "python3"
    },
    "language_info": {
      "codemirror_mode": {
        "name": "ipython",
        "version": 3
      },
      "file_extension": ".py",
      "mimetype": "text/x-python",
      "name": "python",
      "nbconvert_exporter": "python",
      "pygments_lexer": "ipython3",
      "version": "3.8.5"
    }
  },
  "nbformat": 4,
  "nbformat_minor": 4
}
