{
  "cells": [
    {
      "cell_type": "markdown",
      "metadata": {},
      "source": [
        "# 🧠 Урок 36: Задачи NLP — классификация, генерация текста, NER\n",
        "**Цель урока:** Понять три ключевые задачи NLP — классификация текста, генерация текста и извлечение именованных сущностей (NER), научиться применять предобученные модели (BERT, GPT, spaCy) для их решения. Подходит для новичков.\n",
        "\n",
        "## 📌 Что такое NLP?\n",
        "- **NLP (Natural Language Processing)** — это область машинного обучения, которая позволяет компьютерам понимать, анализировать и генерировать текст [[4]](https://example.com).\n",
        "- **Зачем?** Применяется в чат-ботах, анализе тональности, машинном переводе, автоматическом суммировании.\n",
        "- **Аналогия:** Если текст — это язык, то NLP — это как учить язык, разбивая его на слова, фразы и предложения [[8]](https://example.com).\n",
        "- **Ключевые задачи NLP:**\n",
        "  - **Классификация текста:** Определение категории текста (например, токсичный/не токсичный).\n",
        "  - **Генерация текста:** Создание текстов, ответов, статей.\n",
        "  - **Извлечение именованных сущностей (NER):** Поиск имен, дат, организаций в тексте [[2]](https://example.com)."
      ]
    },
    {
      "cell_type": "markdown",
      "metadata": {},
      "source": [
        "## 🧱 Классификация текста: от логистической регрессии до BERT\n",
        "- **Что это?** Определение категории текста (например, положительный/отрицательный отзыв).\n",
        "- **Как работает?**\n",
        "  - **Логистическая регрессия:** Линейная модель, ищет оптимальную гиперплоскость.\n",
        "  - **BERT:** Двусторонняя модель, учитывает контекст до и после слова.\n",
        "- **Преимущества BERT:**\n",
        "  - Лучше справляется с многозначностью (например, \"яблоко\" как компания и фрукт).\n",
        "  - Высокая точность на сложных зависимостях.\n",
        "- **Ограничения:**\n",
        "  - Требует больше вычислений, чем простые модели.\n",
        "- **Пример:**\n",
        "  ```python\n",
        "  from transformers import BertTokenizer, TFBertForSequenceClassification\n",
        "  tokenizer = BertTokenizer.from_pretrained('bert-base-uncased')\n",
        "  model = TFBertForSequenceClassification.from_pretrained('bert-base-uncased')\n",
        "  inputs = tokenizer(\"Этот фильм потрясающий!\", return_tensors='tf')\n",
        "  outputs = model(inputs)\n",
        "  predicted_class = tf.argmax(outputs.logits, axis=1).numpy()\n",
        "  ```\n",
        "- **Аналогия:** Классификация текста — как сортировка писем по темам (спам/не спам)."
      ]
    },
    {
      "cell_type": "markdown",
      "metadata": {},
      "source": [
        "## 📐 Генерация текста: GPT и его аналоги\n",
        "- **Что это?** Создание текста на основе начального prompt.\n",
        "- **Как работает?**\n",
        "  - **GPT:** Обучается предсказывать следующее слово на основе прошлых.\n",
        "  - **Causal Language Model:** Учитывает только прошлое (нет будущих слов).\n",
        "- **Преимущества GPT:**\n",
        "  - Может генерировать текст любой длины.\n",
        "  - Хорошо справляется с логикой и рассуждениями.\n",
        "- **Ограничения:**\n",
        "  - Может «врать», если не знает ответа [[7]](https://example.com).\n",
        "- **Пример:**\n",
        "  ```python\n",
        "  from transformers import GPT2Tokenizer, TFGPT2LMHeadModel\n",
        "  tokenizer = GPT2Tokenizer.from_pretrained('gpt2')\n",
        "  model = TFGPT2LMHeadModel.from_pretrained('gpt2')\n",
        "  inputs = tokenizer(\"Искусственный интеллект\", return_tensors='tf')\n",
        "  outputs = model.generate(inputs['input_ids'], max_length=50)\n",
        "  print(tokenizer.decode(outputs[0]))\n",
        "  ```\n",
        "- **Аналогия:** Генерация текста — как писатель, который продолжает историю, основываясь на уже написанном [[1]](https://example.com)."
      ]
    },
    {
      "cell_type": "markdown",
      "metadata": {},
      "source": [
        "## 🎯 Named Entity Recognition (NER): от BERT до генеративных моделей\n",
        "- **Что это?** Извлечение именованных сущностей (имена, даты, места) из текста [[5]](https://example.com).\n",
        "- **Как работает?**\n",
        "  - **spaCy:** Предобученная модель, ищет сущности на основе словарей и правил.\n",
        "  - **BERT:** Использует контекст для определения сущностей.\n",
        "  - **Генеративные модели:** Создают новые сущности на основе запроса.\n",
        "- **Примеры сущностей:**\n",
        "  - **PER:** Персоны (например, \"Иван Петров\")\n",
        "  - **LOC:** Места (например, \"Москва\")\n",
        "  - **ORG:** Организации (например, \"Google\")\n",
        "- **Пример с spaCy:**\n",
        "  ```python\n",
        "  import spacy\n",
        "  nlp = spacy.load('en_core_web_sm')\n",
        "  doc = nlp(\"Apple основана в Калифорнии Стивом Джобсом.\")\n",
        "  for ent in doc.ents:\n",
        "      print(ent.text, ent.label_)\n",
        "  ```\n",
        "- **Аналогия:** NER — как подчеркивание имен и мест в учебнике для подготовки к экзамену [[1]](https://example.com)."
      ]
    },
    {
      "cell_type": "markdown",
      "metadata": {},
      "source": [
        "## 🧪 Практика: Классификация текста с BERT\n",
        "### Шаг 1: Загрузка данных"
      ]
    },
    {
      "cell_type": "code",
      "execution_count": null,
      "metadata": {},
      "outputs": [],
      "source": [
        "from sklearn.datasets import fetch_20newsgroups\n",
        "import numpy as np\n",
        "\n",
        "# Загрузка данных\n",
        "newsgroups = fetch_20newsgroups(subset='train', categories=['sci.space', 'rec.sport.baseball'])\n",
        "X_train = newsgroups.data\n",
        "y_train = newsgroups.target\n",
        "newsgroups_test = fetch_20newsgroups(subset='test', categories=['sci.space', 'rec.sport.baseball'])\n",
        "X_test = newsgroups_test.data\n",
        "y_test = newsgroups_test.target"
      ]
    },
    {
      "cell_type": "markdown",
      "metadata": {},
      "source": [
        "### Шаг 2: Токенизация и обучение"
      ]
    },
    {
      "cell_type": "code",
      "execution_count": null,
      "metadata": {},
      "outputs": [],
      "source": [
        "from transformers import BertTokenizer, TFBertForSequenceClassification\n",
        "from tensorflow.keras.optimizers import Adam\n",
        "import tensorflow as tf\n",
        "\n",
        "# Токенизация\n",
        "tokenizer = BertTokenizer.from_pretrained('bert-base-uncased', max_length=512)\n",
        "train_encodings = tokenizer(X_train, truncation=True, padding=True, max_length=512)\n",
        "test_encodings = tokenizer(X_test, truncation=True, padding=True, max_length=512)"
      ]
    },
    {
      "cell_type": "code",
      "execution_count": null,
      "metadata": {},
      "outputs": [],
      "source": [
        "# Создание датасета\n",
        "import tensorflow as tf\n",
        "\n",
        "train_dataset = tf.data.Dataset.from_tensor_slices((dict(train_encodings), y_train))\n",
        "test_dataset = tf.data.Dataset.from_tensor_slices((dict(test_encodings), y_test))"
      ]
    },
    {
      "cell_type": "code",
      "execution_count": null,
      "metadata": {},
      "outputs": [],
      "source": [
        "# Обучение\n",
        "model = TFBertForSequenceClassification.from_pretrained('bert-base-uncased')\n",
        "model.compile(optimizer=Adam(learning_rate=2e-5), loss='binary_crossentropy', metrics=['accuracy'])\n",
        "history = model.fit(train_dataset.shuffle(100).batch(16), epochs=3)"
      ]
    },
    {
      "cell_type": "code",
      "execution_count": null,
      "metadata": {},
      "outputs": [],
      "source": [
        "# Оценка\n",
        "loss, accuracy = model.evaluate(test_dataset.batch(16))\n",
        "print(f'Accuracy: {accuracy:.2f}')"
      ]
    },
    {
      "cell_type": "markdown",
      "metadata": {},
      "source": [
        "## 📈 Практика: Генерация текста с GPT\n",
        "### Шаг 1: Использование GPT-2"
      ]
    },
    {
      "cell_type": "code",
      "execution_count": null,
      "metadata": {},
      "outputs": [],
      "source": [
        "from transformers import GPT2Tokenizer, TFGPT2LMHeadModel\n",
        "import tensorflow as tf\n",
        "\n",
        "# Загрузка GPT-2\n",
        "tokenizer = GPT2Tokenizer.from_pretrained('gpt2')\n",
        "model = TFGPT2LMHeadModel.from_pretrained('gpt2')\n",
        "\n",
        "# Генерация\n",
        "inputs = tokenizer(\"Искусственный интеллект\", return_tensors='tf')\n",
        "outputs = model.generate(inputs['input_ids'], max_length=100, num_return_sequences=1)\n",
        "print(tokenizer.decode(outputs[0]))"
      ]
    },
    {
      "cell_type": "markdown",
      "metadata": {},
      "source": [
        "### Шаг 2: Генерация через API (GPT-3/ChatGPT)"
      ]
    },
    {
      "cell_type": "code",
      "execution_count": null,
      "metadata": {},
      "outputs": [],
      "source": [
        "import openai\n",
        "openai.api_key = \"your-api-key\"\n",
        "\n",
        "response = openai.Completion.create(\n",
        "  engine=\"text-davinci-003\",\n",
        "  prompt=\"Расскажи о машинном обучении\",\n",
        "  max_tokens=150\n",
        ")\n",
        "print(response.choices[0].text)"
      ]
    },
    {
      "cell_type": "markdown",
      "metadata": {},
      "source": [
        "## 📊 Практика: Извлечение именованных сущностей (NER)\n",
        "### Шаг 1: Использование spaCy"
      ]
    },
    {
      "cell_type": "code",
      "execution_count": null,
      "metadata": {},
      "outputs": [],
      "source": [
        "import spacy\n",
        "from spacy import displacy\n",
        "\n",
        "# Загрузка английской модели\n",
        "nlp = spacy.load('en_core_web_sm')\n",
        "text = \"Apple основана в Калифорнии Стивом Джобсом. Google — крупная компания из США.\"\n",
        "doc = nlp(text)\n",
        "\n",
        "# Вывод сущностей\n",
        "for ent in doc.ents:\n",
        "    print(ent.text, ent.label_)\n",
        "\n",
        "# Визуализация\n",
        "displacy.render(doc, style='ent', jupyter=False)"
      ]
    },
    {
      "cell_type": "markdown",
      "metadata": {},
      "source": [
        "## 📉 Что такое переобучение и как его избежать?\n",
        "- **Переобучение (Overfitting):** Модель идеально запоминает тренировочные данные, но плохо работает на тестовых [[7]](https://example.com).\n",
        "- **Причины:**\n",
        "  - Слишком много параметров.\n",
        "  - Мало данных.\n",
        "- **Как бороться?**\n",
        "  - Используйте регуляризацию (Dropout, L2).\n",
        "  - Увеличьте данные (например, аугментация).\n",
        "  - Используйте предобученные модели.\n",
        "- **Пример с Dropout:**\n",
        "  ```python\n",
        "  from transformers import TFBertForSequenceClassification\n",
        "  model = TFBertForSequenceClassification.from_pretrained('bert-base-uncased')\n",
        "  model.add_layer(Dropout(0.5))\n",
        "  ```\n",
        "- **Аналогия:** Переобучение — как зубрежка ответов, а не понимание темы."
      ]
    },
    {
      "cell_type": "markdown",
      "metadata": {},
      "source": [
        "## 📊 Как выбрать лучшие гиперпараметры?\n",
        "- **GridSearchCV:** Перебор всех возможных комбинаций.\n",
        "- **RandomizedSearchCV:** Случайный перебор (быстрее, чем GridSearch).\n",
        "- **Пример:**\n",
        "  ```python\n",
        "  from sklearn.model_selection import GridSearchCV\n",
        "  param_grid = {'learning_rate': [1e-5, 3e-5], 'batch_size': [8, 16, 32]}\n",
        "  grid = GridSearchCV(model, param_grid, cv=3, scoring='accuracy')\n",
        "  grid.fit(X_train, y_train)\n",
        "  ```\n",
        "- **Аналогия:** Подбор гиперпараметров — как поиск идеального рецепта через эксперименты с ингредиентами."
      ]
    },
    {
      "cell_type": "markdown",
      "metadata": {},
      "source": [
        "## 📝 Домашнее задание\n",
        "**Задача 1:** Измените prompt для GPT-2:\n",
        "- Попробуйте разные темы (например, \"Как стать программистом\", \"Искусственный интеллект в медицине\").\n",
        "- Как меняется качество генерации?\n",
        "- Сохраните результаты в файл.\n",
        "\n",
        "**Задача 2:** Обучите BERT на датасете IMDB (тональность отзывов):\n",
        "- Скачайте данные с помощью `fetch_openml`.\n",
        "- Оцените точность.\n",
        "- Напишите отчет (200–300 слов), где:\n",
        "  - Опишите, как вы обучали модель.\n",
        "  - Сравните с логистической регрессией.\n",
        "  - Объясните, почему BERT работает лучше на сложных зависимостях.\n",
        "  - Приведите примеры, где NER полезен (например, медицинские снимки, анализ соцсетей [[5]](https://example.com)).\n",
        "- **Подсказка:** Используйте `sns.heatmap` для матрицы ошибок."
      ]
    },
    {
      "cell_type": "code",
      "execution_count": null,
      "metadata": {},
      "outputs": [],
      "source": [
        "# Ваш код здесь\n",
        "from transformers import GPT2Tokenizer, TFGPT2LMHeadModel\n",
        "import tensorflow as tf\n",
        "\n",
        "# Генерация с разными prompt\n",
        "prompts = [\n",
        "    \"Как стать программистом?\",\n",
        "    \"Искусственный интеллект в медицине\",\n",
        "    \"Машинное обучение для новичков\"\n",
        "]\n",
        "\n",
        "# Генерация\n",
        "for prompt in prompts:\n",
        "    inputs = tokenizer(prompt, return_tensors='tf')\n",
        "    outputs = model.generate(inputs['input_ids'], max_length=100)\n",
        "    print(f'\\nPrompt: {prompt}')\n",
        "    print(tokenizer.decode(outputs[0]))"
      ]
    },
    {
      "cell_type": "code",
      "execution_count": null,
      "metadata": {},
      "outputs": [],
      "source": [
        "# Обучение BERT на IMDB\n",
        "from sklearn.datasets import fetch_openml\n",
        "import numpy as np\n",
        "\n",
        "# Загрузка данных\n",
        "mnist = fetch_openml('mnist_784', version=1)\n",
        "X, y = mnist['data'], mnist['target']\n",
        "X = X / 255.0\n",
        "y = np.array([int(label) % 2 for label in y])\n",
        "X_train, X_test = X[:60000], X[60000:]\n",
        "y_train, y_test = y[:60000], y[60000:]"
      ]
    },
    {
      "cell_type": "code",
      "execution_count": null,
      "metadata": {},
      "outputs": [],
      "source": [
        "# Токенизация и обучение BERT\n",
        "from transformers import BertTokenizer, TFBertForSequenceClassification\n",
        "import tensorflow as tf\n",
        "\n",
        "# Токенизация\n",
        "tokenizer = BertTokenizer.from_pretrained('bert-base-uncased', max_length=512)\n",
        "train_encodings = tokenizer(X_train.astype(str).tolist(), truncation=True, padding=True, max_length=512)\n",
        "test_encodings = tokenizer(X_test.astype(str).tolist(), truncation=True, padding=True, max_length=512)"
      ]
    },
    {
      "cell_type": "code",
      "execution_count": null,
      "metadata": {},
      "outputs": [],
      "source": [
        "# Создание и обучение модели\n",
        "model = TFBertForSequenceClassification.from_pretrained('bert-base-uncased')\n",
        "model.compile(optimizer='adam', loss='binary_crossentropy', metrics=['accuracy'])\n",
        "history = model.fit(train_encodings, y_train, epochs=3, batch_size=16)"
      ]
    },
    {
      "cell_type": "code",
      "execution_count": null,
      "metadata": {},
      "outputs": [],
      "source": [
        "# Оценка\n",
        "loss, accuracy = model.evaluate(test_encodings, y_test)\n",
        "print(f'Accuracy: {accuracy:.2f}')"
      ]
    },
    {
      "cell_type": "markdown",
      "metadata": {},
      "source": [
        "## ✅ Рекомендации по выполнению\n",
        "- **Задача 1:** Используйте разные prompt и анализируйте, как меняется генерация.\n",
        "- **Задача 2:** Для BERT используйте `TFBertForSequenceClassification` и `tokenizer`.\n",
        "- **Подсказка:** Если модель переобучается, уменьшите `num_train_epochs` или увеличьте `weight_decay`."
      ]
    }
  ],
  "metadata": {
    "kernelspec": {
      "display_name": "Python 3",
      "language": "python",
      "name": "python3"
    },
    "language_info": {
      "codemirror_mode": {
        "name": "ipython",
        "version": 3
      },
      "file_extension": ".py",
      "mimetype": "text/x-python",
      "name": "python",
      "nbconvert_exporter": "python",
      "pygments_lexer": "ipython3",
      "version": "3.8.5"
    }
  },
  "nbformat": 4,
  "nbformat_minor": 4
}
