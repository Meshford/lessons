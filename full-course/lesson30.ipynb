{
  "cells": [
    {
      "cell_type": "markdown",
      "metadata": {},
      "source": [
        "# 🧠 Урок 30: Алгоритмы и структуры данных — деревья, графы, хэш-таблицы, поиск и сортировка\n",
        "**Цель урока:** Понять основные структуры данных (деревья, графы, хэш-таблицы) и алгоритмы (поиск, сортировка) на уровне теории и практики. Подходит для новичков.\n",
        "\n",
        "## 📌 Почему структуры данных важны?\n",
        "- **Деревья** — эффективный способ поиска и хранения иерархических данных.\n",
        "- **Графы** — моделируют связи между объектами (например, социальные сети).\n",
        "- **Хэш-таблицы** — обеспечивают мгновенный доступ к данным.\n",
        "- **Аналогия:** Структуры данных — это как коробки для хранения вещей. Деревья — как упорядоченные полки, графы — как карты метро, хэш-таблицы — как справочник с индексами."
      ]
    },
    {
      "cell_type": "markdown",
      "metadata": {},
      "source": [
        "## 🌳 Деревья: иерархия и поиск\n",
        "- **Что такое дерево?** Структура, где каждый узел имеет родителя и детей (кроме корня и листьев).\n",
        "- **Бинарное дерево:** Каждый узел имеет не более двух детей.\n",
        "- **Сбалансированное дерево:** Высота левого и правого поддеревьев отличается не более чем на 1 (например, AVL-дерево, красно-черное дерево).\n",
        "- **Преимущества:**\n",
        "  - Поиск за $O(\\log n)$, если дерево сбалансировано.\n",
        "  - Подходит для хранения данных с естественной иерархией (например, файловая система).\n",
        "- **Ограничения:**\n",
        "  - Сложность поддержания баланса.\n",
        "  - Неэффективны для случайного доступа.\n",
        "- **Пример:**\n",
        "  ```python\n",
        "  class Node:\n",
        "      def __init__(self, value):\n",
        "          self.value = value\n",
        "          self.left = None\n",
        "          self.right = None\n",
        "  \n",
        "  root = Node(10)\n",
        "  root.left = Node(5)\n",
        "  root.right = Node(15)\n",
        "  ```\n",
        "- **Аналогия:** Дерево — как генеалогическое древо: каждый человек имеет родителей и детей [[2]]."
      ]
    },
    {
      "cell_type": "markdown",
      "metadata": {},
      "source": [
        "## 📐 Графы: связи и маршруты\n",
        "- **Что такое граф?** Набор узлов (вершин) и ребер (связей между ними).\n",
        "- **Типы графов:**\n",
        "  - **Направленные:** Ребра имеют направление (например, ссылки в соцсетях).\n",
        "  - **Невзвешенные:** Все ребра равны.\n",
        "  - **Взвешенные:** Ребра имеют вес (например, расстояние между городами).\n",
        "- **Как представлять графы?**\n",
        "  - **Матрица смежности:** $n \\times n$ матрица, где $M[i][j]$ — вес между $i$ и $j$.\n",
        "  - **Список смежности:** Каждый узел хранит список соседей.\n",
        "- **Пример (список смежности):**\n",
        "  ```python\n",
        "  graph = {\n",
        "      'A': ['B', 'C'],\n",
        "      'B': ['A', 'D'],\n",
        "      'C': ['A', 'E'],\n",
        "      'D': ['B'],\n",
        "      'E': ['C']\n",
        "  }\n",
        "  ```\n",
        "- **Аналогия:** Граф — как карта метро, где станции — узлы, а линии — ребра [[4]]."
      ]
    },
    {
      "cell_type": "markdown",
      "metadata": {},
      "source": [
        "## 🧮 Хэш-таблицы: мгновенный доступ\n",
        "- **Что это?** Структура данных, которая сопоставляет ключи с значениями через функцию хэширования.\n",
        "- **Как работает?**\n",
        "  1. Ключ преобразуется в число (хэш).\n",
        "  2. Хэш используется как индекс в массиве.\n",
        "  3. При коллизиях (одинаковые хэши) используются методы разрешения (цепочки, открытая адресация).\n",
        "- **Преимущества:**\n",
        "  - Вставка, удаление и поиск за $O(1)$ в среднем случае.\n",
        "  - Используется в ассоциативных массивах (например, словари в Python).\n",
        "- **Ограничения:**\n",
        "  - Коллизии могут замедлять работу.\n",
        "  - Не сохраняют порядок (в старых версиях Python).\n",
        "- **Пример (Python):**\n",
        "  ```python\n",
        "  my_dict = {'name': 'Alice', 'age': 30}\n",
        "  print(my_dict['name'])  # 'Alice'\n",
        "  ```\n",
        "- **Аналогия:** Хэш-таблица — как телефонная книга: вы знаете имя — быстро находите номер [[5]]."
      ]
    },
    {
      "cell_type": "markdown",
      "metadata": {},
      "source": [
        "## 🔍 Алгоритмы поиска\n",
        "- **Линейный поиск:** Перебор всех элементов ($O(n)$).\n",
        "- **Бинарный поиск:** Для отсортированных данных ($O(\\log n)$).\n",
        "- **Поиск в глубину (DFS):** Для графов и деревьев.\n",
        "- **Поиск в ширину (BFS):** Для графов, находит кратчайший путь.\n",
        "- **Пример: Бинарный поиск**\n",
        "  ```python\n",
        "  def binary_search(arr, target):\n",
        "      low, high = 0, len(arr) - 1\n",
        "      while low <= high:\n",
        "          mid = (low + high) // 2\n",
        "          if arr[mid] == target:\n",
        "              return mid\n",
        "          elif arr[mid] < target:\n",
        "              low = mid + 1\n",
        "          else:\n",
        "              high = mid - 1\n",
        "      return -1\n",
        "  ```\n",
        "- **Аналогия:** Бинарный поиск — как поиск слова в словаре: вы открываете середину и двигаетесь в нужную половину [[6]]."
      ]
    },
    {
      "cell_type": "markdown",
      "metadata": {},
      "source": [
        "## 🧱 Алгоритмы сортировки\n",
        "- **Сортировка пузырьком:** Сравнивает соседние элементы и меняет местами ($O(n^2)$).\n",
        "- **Сортировка слиянием:** Разделение на части и объединение ($O(n \\log n)$).\n",
        "- **Быстрая сортировка (QuickSort):** Разделение по опорному элементу ($O(n \\log n)$ в среднем).\n",
        "- **Сортировка кучей (HeapSort):** Использует двоичную кучу ($O(n \\log n)$).\n",
        "- **Пример: Сортировка пузырьком**\n",
        "  ```python\n",
        "  def bubble_sort(arr):\n",
        "      n = len(arr)\n",
        "      for i in range(n):\n",
        "          for j in range(0, n-i-1):\n",
        "              if arr[j] > arr[j+1]:\n",
        "                  arr[j], arr[j+1] = arr[j+1], arr[j]\n",
        "      return arr\n",
        "  ```\n",
        "- **Аналогия:** Сортировка пузырьком — как поднимать самые легкие элементы (пузырьки) наверх [[6]]."
      ]
    },
    {
      "cell_type": "markdown",
      "metadata": {},
      "source": [
        "## 🧪 Практика: Реализация деревьев\n",
        "### Шаг 1: Бинарное дерево поиска"
      ]
    },
    {
      "cell_type": "code",
      "execution_count": null,
      "metadata": {},
      "outputs": [],
      "source": [
        "class Node:\n",
        "    def __init__(self, value):\n",
        "        self.value = value\n",
        "        self.left = None\n",
        "        self.right = None\n",
        "\n",
        "class BST:\n",
        "    def __init__(self):\n",
        "        self.root = None\n",
        "\n",
        "    def insert(self, value):\n",
        "        if not self.root:\n",
        "            self.root = Node(value)\n",
        "        else:\n",
        "            self._insert_recursive(self.root, value)\n",
        "\n",
        "    def _insert_recursive(self, node, value):\n",
        "        if value < node.value:\n",
        "            if node.left is None:\n",
        "                node.left = Node(value)\n",
        "            else:\n",
        "                self._insert_recursive(node.left, value)\n",
        "        else:\n",
        "            if node.right is None:\n",
        "                node.right = Node(value)\n",
        "            else:\n",
        "                self._insert_recursive(node.right, value)"
      ]
    },
    {
      "cell_type": "markdown",
      "metadata": {},
      "source": [
        "### Шаг 2: Поиск в дереве"
      ]
    },
    {
      "cell_type": "code",
      "execution_count": null,
      "metadata": {},
      "outputs": [],
      "source": [
        "    def search(self, value):\n",
        "        return self._search_recursive(self.root, value)\n",
        "\n",
        "    def _search_recursive(self, node, value):\n",
        "        if not node or node.value == value:\n",
        "            return node\n",
        "        if value < node.value:\n",
        "            return self._search_recursive(node.left, value)\n",
        "        return self._search_recursive(node.right, value)"
      ]
    },
    {
      "cell_type": "markdown",
      "metadata": {},
      "source": [
        "### Шаг 3: Тестирование дерева"
      ]
    },
    {
      "cell_type": "code",
      "execution_count": null,
      "metadata": {},
      "outputs": [],
      "source": [
        "bst = BST()\n",
        "bst.insert(10)\n",
        "bst.insert(5)\n",
        "bst.insert(15)\n",
        "\n",
        "print(bst.search(5).value)  # 5\n",
        "print(bst.search(20))  # None"
      ]
    },
    {
      "cell_type": "markdown",
      "metadata": {},
      "source": [
        "## 📊 Практика: Алгоритмы поиска в графе\n",
        "### Шаг 1: Граф с поиском в глубину (DFS)"
      ]
    },
    {
      "cell_type": "code",
      "execution_count": null,
      "metadata": {},
      "outputs": [],
      "source": [
        "def dfs(graph, start, visited=None):\n",
        "    if visited is None:\n",
        "        visited = set()\n",
        "    visited.add(start)\n",
        "    print(start)\n",
        "    for neighbor in graph[start]:\n",
        "        if neighbor not in visited:\n",
        "            dfs(graph, neighbor, visited)\n",
        "\n",
        "# Тестирование\n",
        "graph = {\n",
        "    'A': ['B', 'C'],\n",
        "    'B': ['A', 'D'],\n",
        "    'C': ['A', 'E'],\n",
        "    'D': ['B'],\n",
        "    'E': ['C']\n",
        "}\n",
        "dfs(graph, 'A')"
      ]
    },
    {
      "cell_type": "markdown",
      "metadata": {},
      "source": [
        "### Шаг 2: Поиск в ширину (BFS)"
      ]
    },
    {
      "cell_type": "code",
      "execution_count": null,
      "metadata": {},
      "outputs": [],
      "source": [
        "from collections import deque\n",
        "\n",
        "def bfs(graph, start):\n",
        "    visited = set()\n",
        "    queue = deque([start])\n",
        "    while queue:\n",
        "        node = queue.popleft()\n",
        "        if node not in visited:\n",
        "            print(node)\n",
        "            visited.add(node)\n",
        "            for neighbor in graph[node]:\n",
        "                if neighbor not in visited:\n",
        "                    queue.append(neighbor)\n",
        "\n",
        "bfs(graph, 'A')"
      ]
    },
    {
      "cell_type": "markdown",
      "metadata": {},
      "source": [
        "## 📈 Практика: Хэш-таблицы и коллизии\n",
        "### Шаг 1: Реализация хэш-таблицы"
      ]
    },
    {
      "cell_type": "code",
      "execution_count": null,
      "metadata": {},
      "outputs": [],
      "source": [
        "class HashTable:\n",
        "    def __init__(self, size=10):\n",
        "        self.size = size\n",
        "        self.table = [[] for _ in range(size)]  # Список списков для разрешения коллизий\n",
        "\n",
        "    def _hash(self, key):\n",
        "        return hash(key) % self.size\n",
        "\n",
        "    def insert(self, key, value):\n",
        "        index = self._hash(key)\n",
        "        for pair in self.table[index]:\n",
        "            if pair[0] == key:\n",
        "                pair[1] = value\n",
        "                return\n",
        "        self.table[index].append([key, value])"
      ]
    },
    {
      "cell_type": "markdown",
      "metadata": {},
      "source": [
        "### Шаг 2: Использование хэш-таблицы"
      ]
    },
    {
      "cell_type": "code",
      "execution_count": null,
      "metadata": {},
      "outputs": [],
      "source": [
        "ht = HashTable()\n",
        "ht.insert('name', 'Alice')\n",
        "ht.insert('age', 30)\n",
        "print(ht.table)  # Отображение хэш-таблицы"
      ]
    },
    {
      "cell_type": "markdown",
      "metadata": {},
      "source": [
        "## 📊 Сравнение алгоритмов сортировки\n",
        "- **Сортировка пузырьком:** Простая, но медленная.\n",
        "- **Сортировка слиянием:** Всегда $O(n \\log n)$, но требует дополнительной памяти.\n",
        "- **Быстрая сортировка:** В среднем $O(n \\log n)$, но худший случай $O(n^2)$.\n",
        "- **Сортировка кучей:** Хороша для больших данных, но сложна для понимания.\n",
        "- **Пример: Быстрая сортировка**\n",
        "  ```python\n",
        "  def quicksort(arr):\n",
        "      if len(arr) <= 1:\n",
        "          return arr\n",
        "      pivot = arr[len(arr)//2]\n",
        "      left = [x for x in arr if x < pivot]\n",
        "      middle = [x for x in arr if x == pivot]\n",
        "      right = [x for x in arr if x > pivot]\n",
        "      return quicksort(left) + middle + quicksort(right)\n",
        "  ```\n",
        "- **Аналогия:** Быстрая сортировка — как разделение людей по росту: сначала выбирается \"опорный\" человек, остальные делятся на выше и ниже его."
      ]
    },
    {
      "cell_type": "markdown",
      "metadata": {},
      "source": [
        "## 📝 Домашнее задание\n",
        "**Задача 1:** Реализуйте бинарное дерево поиска с методами `insert` и `search`.\n",
        "**Задача 2:** Напишите функцию `bfs` для поиска кратчайшего пути в графе.\n",
        "**Задача 3:** Создайте хэш-таблицу с разрешением коллизий через открытую адресацию (линейное пробирование).\n",
        "**Задача 4:** Напишите отчет (200–300 слов), где:\n",
        "- Объясните, как работают деревья и графы.\n",
        "- Сравните сортировки по скорости и сложности.\n",
        "- Объясните, почему хэш-таблицы работают быстро.\n",
        "- Приведите примеры, где эти структуры полезны (например, графы — для соцсетей, хэш-таблицы — для кэширования)."
      ]
    },
    {
      "cell_type": "code",
      "execution_count": null,
      "metadata": {},
      "outputs": [],
      "source": [
        "# Ваш код здесь\n",
        "class HashTableOpenAddressing:\n",
        "    def __init__(self, size=10):\n",
        "        self.size = size\n",
        "        self.table = [None] * size\n",
        "\n",
        "    def _hash(self, key):\n",
        "        return hash(key) % self.size\n",
        "\n",
        "    def insert(self, key, value):\n",
        "        index = self._hash(key)\n",
        "        while self.table[index] is not None and self.table[index] != (key, value):\n",
        "            index = (index + 1) % self.size  # Линейное пробирование\n",
        "        self.table[index] = (key, value)"
      ]
    },
    {
      "cell_type": "code",
      "execution_count": null,
      "metadata": {},
      "outputs": [],
      "source": [
        "# Реализация BFS\n",
        "def bfs_shortest_path(graph, start, goal):\n",
        "    visited = set()\n",
        "    queue = deque([(start, [start])])\n",
        "    while queue:\n",
        "        node, path = queue.popleft()\n",
        "        if node == goal:\n",
        "            return path\n",
        "        for neighbor in graph[node]:\n",
        "            if neighbor not in visited:\n",
        "                visited.add(neighbor)\n",
        "                queue.append((neighbor, path + [neighbor]))\n",
        "    return None  # Путь не найден"
      ]
    },
    {
      "cell_type": "code",
      "execution_count": null,
      "metadata": {},
      "outputs": [],
      "source": [
        "# Тестирование BFS\n",
        "graph = {\n",
        "    'A': ['B', 'C'],\n",
        "    'B': ['A', 'D'],\n",
        "    'C': ['A', 'E'],\n",
        "    'D': ['B'],\n",
        "    'E': ['C']\n",
        "}\n",
        "print(bfs_shortest_path(graph, 'A', 'E'))  # ['A', 'C', 'E']"
      ]
    },
    {
      "cell_type": "markdown",
      "metadata": {},
      "source": [
        "## ✅ Рекомендации по выполнению домашнего задания\n",
        "- **Задача 1:** Используйте рекурсию для `insert` и `search`.\n",
        "- **Задача 2:** Для BFS используйте `deque` для очереди.\n",
        "- **Задача 3:** Линейное пробирование — простой способ разрешения коллизий.\n",
        "- **Подсказка:** Используйте `hasattr()` для проверки наличия узла в дереве."
      ]
    }
  ],
  "metadata": {
    "kernelspec": {
      "display_name": "Python 3",
      "language": "python",
      "name": "python3"
    },
    "language_info": {
      "codemirror_mode": {
        "name": "ipython",
        "version": 3
      },
      "file_extension": ".py",
      "mimetype": "text/x-python",
      "name": "python",
      "nbconvert_exporter": "python",
      "pygments_lexer": "ipython3",
      "version": "3.8.5"
    }
  },
  "nbformat": 4,
  "nbformat_minor": 4
}
