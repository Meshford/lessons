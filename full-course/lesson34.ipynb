{
  "cells": [
    {
      "cell_type": "markdown",
      "metadata": {},
      "source": [
        "# 🧠 Урок 34: Основы NLP — токенизация, word embeddings, RNN, LSTM\n",
        "**Цель урока:** Познакомиться с основными концепциями обработки естественного языка (NLP), научиться токенизировать текст, использовать word embeddings, строить рекуррентные нейросети (RNN, LSTM) для классификации. Подходит для новичков.\n",
        "\n",
        "## 📌 Что такое NLP?\n",
        "- **NLP (Natural Language Processing)** — это область машинного обучения, которая позволяет компьютерам понимать, анализировать и генерировать текст.\n",
        "- **Зачем?** Применяется в чат-ботах, переводах, анализе тональности, распознавании речи.\n",
        "- **Аналогия:** Если текст — это язык, то NLP — это как учить язык, разбивая его на слова, фразы и предложения [[5]]."
      ]
    },
    {
      "cell_type": "markdown",
      "metadata": {},
      "source": [
        "## 🧱 Токенизация: разбиение текста на части\n",
        "- **Что это?** Процесс разбиения текста на токены (слова, подслова, символы).\n",
        "- **Зачем?** Чтобы преобразовать текст в числа для работы с ML.\n",
        "- **Методы:**\n",
        "  - **Word-level:** Разбиение по словам.\n",
        "  - **Character-level:** По символам.\n",
        "  - **Subword-level:** По подсловам (например, BPE).\n",
        "- **Пример:**\n",
        "  ```python\n",
        "  from nltk.tokenize import word_tokenize\n",
        "  tokens = word_tokenize(\"Привет, мир!\")  # ['Привет', ',', 'мир', '!']\n",
        "  ```\n",
        "- **Аналогия:** Токенизация — как разрезание текста на кусочки для удобства анализа [[3]]."
      ]
    },
    {
      "cell_type": "markdown",
      "metadata": {},
      "source": [
        "## 📐 Word Embeddings: представление слов в виде векторов\n",
        "- **Что это?** Слова преобразуются в числовые векторы, где близкие слова имеют близкие векторы.\n",
        "- **Преимущества:** Сохраняют семантику (например, \"король\" — \"мужчина\" + \"женщина\" ≈ \"королева\").\n",
        "- **Популярные методы:**\n",
        "  - **Word2Vec:** Обучается на основе соседних слов.\n",
        "  - **GloVe:** Использует матрицу ко-встречаемости слов.\n",
        "  - **FastText:** Учитывает подслова для улучшения представления.\n",
        "- **Пример:**\n",
        "  ```python\n",
        "  from gensim.models import Word2Vec\n",
        "  model = Word2Vec(sentences=[[\"я\", \"люблю\", \"питон\"], [\"питон\", \"—\", \"мой\", \"любимый\", \"язык\"]], vector_size=100, window=5, min_count=1)\n",
        "  print(model.wv[\"питон\"][:10])  # Вектор слова \"питон\"\n",
        "  ```\n",
        "- **Аналогия:** Word embeddings — как карта, где близкие слова находятся рядом [[3]]."
      ]
    },
    {
      "cell_type": "markdown",
      "metadata": {},
      "source": [
        "## 🔄 RNN (Recurrent Neural Networks)\n",
        "- **Что это?** Нейросети, которые обрабатывают последовательности, передавая информацию от одного шага к следующему.\n",
        "- **Как работает?** Использует **hidden state** для хранения контекста.\n",
        "- **Проблема:** Исчезающий/взрывающийся градиент — RNN забывает старые данные.\n",
        "- **Пример архитектуры:**\n",
        "  ```python\n",
        "  from tensorflow.keras.models import Sequential\n",
        "  from tensorflow.keras.layers import SimpleRNN, Dense\n",
        "  \n",
        "  model = Sequential([\n",
        "      SimpleRNN(64, input_shape=(timesteps, features)),\n",
        "      Dense(1)\n",
        "  ])\n",
        "  ```\n",
        "- **Аналогия:** RNN — как человек, который читает книгу, но забывает начало главы к концу [[6]]."
      ]
    },
    {
      "cell_type": "markdown",
      "metadata": {},
      "source": [
        "## 🧠 LSTM (Long Short-Term Memory)\n",
        "- **Что это?** RNN с вентилями, которые контролируют, что запоминать, а что забывать.\n",
        "- **Вентили:**\n",
        "  - **Input Gate:** Что добавить в память.\n",
        "  - **Forget Gate:** Что удалить из памяти.\n",
        "  - **Output Gate:** Что использовать для предсказания.\n",
        "- **Преимущества:**\n",
        "  - Решает проблему исчезающего градиента.\n",
        "  - Может обрабатывать длинные последовательности.\n",
        "- **Ограничения:**\n",
        "  - Сложнее, чем простой RNN.\n",
        "  - Медленнее обучается.\n",
        "- **Пример архитектуры:**\n",
        "  ```python\n",
        "  from tensorflow.keras.layers import LSTM\n",
        "  model = Sequential([\n",
        "      LSTM(64, input_shape=(timesteps, features)),\n",
        "      Dense(1)\n",
        "  ])\n",
        "  ```\n",
        "- **Аналогия:** LSTM — как человек с блокнотом: записывает важное, стирает ненужное, использует актуальное для ответа [[6]]."
      ]
    },
    {
      "cell_type": "markdown",
      "metadata": {},
      "source": [
        "## 🧪 Практика: Классификация текста с LSTM\n",
        "### Шаг 1: Загрузка и подготовка данных"
      ]
    },
    {
      "cell_type": "code",
      "execution_count": null,
      "metadata": {},
      "outputs": [],
      "source": [
        "from keras.datasets import imdb\n",
        "from tensorflow.keras.preprocessing.sequence import pad_sequences\n",
        "\n",
        "# Загрузка данных\n",
        "(X_train, y_train), (X_test, y_test) = imdb.load_data(num_words=10000)\n",
        "X_train = pad_sequences(X_train, maxlen=500)\n",
        "X_test = pad_sequences(X_test, maxlen=500)"
      ]
    },
    {
      "cell_type": "markdown",
      "metadata": {},
      "source": [
        "### Шаг 2: Создание модели с Embedding и LSTM"
      ]
    },
    {
      "cell_type": "code",
      "execution_count": null,
      "metadata": {},
      "outputs": [],
      "source": [
        "from tensorflow.keras.models import Sequential\n",
        "from tensorflow.keras.layers import Embedding, LSTM, Dense\n",
        "\n",
        "model = Sequential([\n",
        "    Embedding(10000, 128),  # 10,000 слов, 128-мерные эмбеддинги\n",
        "    LSTM(128),  # 128 нейронов\n",
        "    Dense(1, activation='sigmoid')  # Бинарная классификация\n",
        "])"
      ]
    },
    {
      "cell_type": "markdown",
      "metadata": {},
      "source": [
        "### Шаг 3: Компиляция и обучение"
      ]
    },
    {
      "cell_type": "code",
      "execution_count": null,
      "metadata": {},
      "outputs": [],
      "source": [
        "model.compile(optimizer='adam',\n",
        "              loss='binary_crossentropy',\n",
        "              metrics=['accuracy'])\n",
        "\n",
        "history = model.fit(X_train, y_train,\n",
        "                  epochs=5,\n",
        "                  batch_size=128,\n",
        "                  validation_data=(X_test, y_test))"
      ]
    },
    {
      "cell_type": "markdown",
      "metadata": {},
      "source": [
        "### Шаг 4: Визуализация обучения"
      ]
    },
    {
      "cell_type": "code",
      "execution_count": null,
      "metadata": {},
      "outputs": [],
      "source": [
        "import matplotlib.pyplot as plt\n",
        "\n",
        "# График точности\n",
        "plt.plot(history.history['accuracy'], label='Train Accuracy')\n",
        "plt.plot(history.history['val_accuracy'], label='Test Accuracy')\n",
        "plt.legend()\n",
        "plt.title('Accuracy по эпохам')\n",
        "plt.xlabel('Эпохи')\n",
        "plt.ylabel('Accuracy')\n",
        "plt.grid(True)\n",
        "plt.show()"
      ]
    },
    {
      "cell_type": "markdown",
      "metadata": {},
      "source": [
        "## 📊 Сравнение RNN и LSTM\n",
        "- **RNN:** Простой, но быстро забывает.\n",
        "- **LSTM:** Вентили контролируют память, лучше работает с длинными последовательностями.\n",
        "- **Пример:**\n",
        "  ```python\n",
        "  from tensorflow.keras.layers import SimpleRNN\n",
        "  rnn_model = Sequential([\n",
        "      Embedding(10000, 128),\n",
        "      SimpleRNN(128),\n",
        "      Dense(1, activation='sigmoid')\n",
        "  ])\n",
        "  ```\n",
        "- **Аналогия:** RNN — как краткосрочная память, LSTM — как долгосрочная, где можно записать важное в блокнот."
      ]
    },
    {
      "cell_type": "markdown",
      "metadata": {},
      "source": [
        "## 📈 Как работает Embedding?\n",
        "- **Embedding:** Преобразует слова в плотные векторы.\n",
        "- **Преимущества:**\n",
        "  - Сохраняет семантику.\n",
        "  - Уменьшает размерность.\n",
        "- **Пример:**\n",
        "  ```python\n",
        "  from tensorflow.keras.layers import Embedding\n",
        "  embedding = Embedding(input_dim=10000, output_dim=128)\n",
        "  ```\n",
        "- **input_dim:** Количество уникальных слов.\n",
        "- **output_dim:** Размер вектора.\n",
        "- **Аналогия:** Embedding — как карта метро, где каждое слово — станция с координатами."
      ]
    },
    {
      "cell_type": "markdown",
      "metadata": {},
      "source": [
        "## 📉 Что такое переобучение и как его избежать?\n",
        "- **Переобучение (Overfitting):** Модель идеально запоминает тренировочные данные, но плохо работает на тестовых.\n",
        "- **Причины:**\n",
        "  - Слишком много нейронов.\n",
        "  - Мало данных.\n",
        "- **Как бороться?**\n",
        "  - Использовать Dropout.\n",
        "  - Уменьшить количество слов в токенизации.\n",
        "  - Добавить регуляризацию.\n",
        "- **Пример:**\n",
        "  ```python\n",
        "  from tensorflow.keras.layers import Dropout\n",
        "  model = Sequential([\n",
        "      Embedding(10000, 128),\n",
        "      LSTM(128),\n",
        "      Dropout(0.5),\n",
        "      Dense(1, activation='sigmoid')\n",
        "  ])\n",
        "  ```\n",
        "- **Аналогия:** Dropout — как тренировка команды без одного игрока: остальные учатся компенсировать его отсутствие."
      ]
    },
    {
      "cell_type": "markdown",
      "metadata": {},
      "source": [
        "## 📊 Как выбрать лучшие гиперпараметры?\n",
        "- **GridSearchCV:** Перебор всех возможных комбинаций.\n",
        "- **RandomizedSearchCV:** Случайный перебор (быстрее, чем GridSearch).\n",
        "- **Пример:**\n",
        "  ```python\n",
        "  from sklearn.model_selection import GridSearchCV\n",
        "  param_grid = {'units': [64, 128], 'dropout_rate': [0.3, 0.5]}\n",
        "  grid = GridSearchCV(model, param_grid, cv=3, scoring='accuracy')\n",
        "  grid.fit(X_train, y_train)\n",
        "  ```\n",
        "- **Аналогия:** Подбор гиперпараметров — как поиск идеального рецепта через эксперименты с ингредиентами."
      ]
    },
    {
      "cell_type": "markdown",
      "metadata": {},
      "source": [
        "## 📝 Домашнее задание\n",
        "**Задача 1:** Измените архитектуру LSTM:\n",
        "- Увеличьте число нейронов до 256.\n",
        "- Добавьте ещё один LSTM(64).\n",
        "- Как меняется `val_accuracy`?\n",
        "- Нарисуйте график обучения.\n",
        "- Визуализируйте confusion matrix для новых параметров.\n",
        "\n",
        "**Задача 2:** Попробуйте RNN вместо LSTM и сравните точность. Сделайте выводы."
      ]
    },
    {
      "cell_type": "code",
      "execution_count": null,
      "metadata": {},
      "outputs": [],
      "source": [
        "# Ваш код здесь\n",
        "from tensorflow.keras.models import Sequential\n",
        "from tensorflow.keras.layers import Embedding, LSTM, Dense, Dropout\n",
        "\n",
        "# Измененная архитектура\n",
        "modified_model = Sequential([\n",
        "    Embedding(10000, 128),\n",
        "    LSTM(256),\n",
        "    Dropout(0.5),\n",
        "    LSTM(64),  # Добавлен ещё один LSTM\n",
        "    Dense(1, activation='sigmoid')\n",
        "])"
      ]
    },
    {
      "cell_type": "code",
      "execution_count": null,
      "metadata": {},
      "outputs": [],
      "source": [
        "# Обучение измененной модели\n",
        "modified_model.compile(optimizer='adam',\n",
        "                     loss='binary_crossentropy',\n",
        "                     metrics=['accuracy'])\n",
        "history = modified_model.fit(X_train, y_train, \n",
        "                         epochs=5,\n",
        "                         batch_size=128,\n",
        "                         validation_data=(X_test, y_test))"
      ]
    },
    {
      "cell_type": "code",
      "execution_count": null,
      "metadata": {},
      "outputs": [],
      "source": [
        "# Сравнение с RNN\n",
        "rnn_model = Sequential([\n",
        "    Embedding(10000, 128),\n",
        "    SimpleRNN(128),\n",
        "    Dense(1, activation='sigmoid')\n",
        "])\n",
        "rnn_model.compile(optimizer='adam',\n",
        "                 loss='binary_crossentropy',\n",
        "                 metrics=['accuracy'])\n",
        "rnn_history = rnn_model.fit(X_train, y_train, \n",
        "                          epochs=5,\n",
        "                          batch_size=128,\n",
        "                          validation_data=(X_test, y_test))"
      ]
    },
    {
      "cell_type": "code",
      "execution_count": null,
      "metadata": {},
      "outputs": [],
      "source": [
        "# Визуализация обучения\n",
        "import matplotlib.pyplot as plt\n",
        "\n",
        "plt.plot(history.history['val_accuracy'], label='LSTM (измененный)')\n",
        "plt.plot(rnn_history.history['val_accuracy'], label='RNN')\n",
        "plt.legend()\n",
        "plt.title('Сравнение точности')\n",
        "plt.xlabel('Эпохи')\n",
        "plt.ylabel('Accuracy')\n",
        "plt.grid(True)\n",
        "plt.show()"
      ]
    },
    {
      "cell_type": "markdown",
      "metadata": {},
      "source": [
        "## ✅ Рекомендации по выполнению\n",
        "- **Задача 1:** Убедитесь, что вы используете правильное количество нейронов и Dropout.\n",
        "- **Задача 2:** Следите за переобучением — если `val_accuracy` ниже `accuracy`, уменьшите сложность модели.\n",
        "- **Подсказка:** Используйте `model.summary()` для анализа архитектуры."
      ]
    }
  ],
  "metadata": {
    "kernelspec": {
      "display_name": "Python 3",
      "language": "python",
      "name": "python3"
    },
    "language_info": {
      "codemirror_mode": {
        "name": "ipython",
        "version": 3
      },
      "file_extension": ".py",
      "mimetype": "text/x-python",
      "name": "python",
      "nbconvert_exporter": "python",
      "pygments_lexer": "ipython3",
      "version": "3.8.5"
    }
  },
  "nbformat": 4,
  "nbformat_minor": 4
}
