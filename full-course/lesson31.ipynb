{
  "cells": [
    {
      "cell_type": "markdown",
      "metadata": {},
      "source": [
        "# 🧠 Урок 31: O-нотация и оптимизация кода\n",
        "**Цель урока:** Понять концепцию O-нотации (Big O), научиться анализировать сложность алгоритмов и оптимизировать код для повышения эффективности. Подходит для новичков.\n",
        "\n",
        "## 📌 Зачем нужна O-нотация?\n",
        "- **O-нотация (Big O)** — это способ оценить, как время выполнения или использование памяти программы зависит от размера входных данных.\n",
        "- **Зачем?** Чтобы сравнивать алгоритмы и выбирать наиболее эффективные для конкретных задач.\n",
        "- **Аналогия:** Представьте, что вы покупаете машину. O-нотация — это как расход топлива: O(1) — как электромобиль (постоянный расход), O(n) — как машина, которая ест тем больше, чем длиннее дорога [[2]](https://example.com).\n",
        "\n",
        "## 📉 Что такое O(1)?\n",
        "- **O(1):** Время выполнения не зависит от размера данных.\n",
        "- **Пример:** Получение элемента по индексу.\n",
        "  ```python\n",
        "  arr = [1, 2, 3]\n",
        "  print(arr[0])  # O(1)\n",
        "  ```\n",
        "- **Аналогия:** Взять книгу с полки — неважно, сколько книг на полке, это всегда один шаг."
      ]
    },
    {
      "cell_type": "markdown",
      "metadata": {},
      "source": [
        "## 📊 Что такое O(n)?\n",
        "- **O(n):** Время растет линейно с размером данных.\n",
        "- **Пример:** Поиск элемента в неотсортированном списке.\n",
        "  ```python\n",
        "  def find_max(arr):\n",
        "      max_val = arr[0]\n",
        "      for num in arr[1:]:\n",
        "          if num > max_val:\n",
        "              max_val = num\n",
        "      return max_val\n",
        "  ```\n",
        "- **Аналогия:** Перебирать все книги на полке, пока не найдете нужную."
      ]
    },
    {
      "cell_type": "markdown",
      "metadata": {},
      "source": [
        "## 📈 Что такое O(n²)?\n",
        "- **O(n²):** Время растет квадратично (например, вложенные циклы).\n",
        "- **Пример:** Сортировка пузырьком.\n",
        "  ```python\n",
        "  def bubble_sort(arr):\n",
        "      n = len(arr)\n",
        "      for i in range(n):\n",
        "          for j in range(0, n-i-1):\n",
        "              if arr[j] > arr[j+1]:\n",
        "                  arr[j], arr[j+1] = arr[j+1], arr[j]\n",
        "      return arr\n",
        "  ```\n",
        "- **Аналогия:** Сравнивать каждую книгу с каждой — это очень долго!"
      ]
    },
    {
      "cell_type": "markdown",
      "metadata": {},
      "source": [
        "## 🧮 Что такое O(log n)?\n",
        "- **O(log n):** Время растет логарифмически (например, бинарный поиск).\n",
        "- **Пример:** Поиск в отсортированном списке.\n",
        "  ```python\n",
        "  def binary_search(arr, target):\n",
        "      low, high = 0, len(arr) - 1\n",
        "      while low <= high:\n",
        "          mid = (low + high) // 2\n",
        "          if arr[mid] == target:\n",
        "              return mid\n",
        "          elif arr[mid] < target:\n",
        "              low = mid + 1\n",
        "          else:\n",
        "              high = mid - 1\n",
        "      return -1\n",
        "  ```\n",
        "- **Аналогия:** Искать слово в словаре, открывая середину и двигаясь в нужную половину."
      ]
    },
    {
      "cell_type": "markdown",
      "metadata": {},
      "source": [
        "## 🧱 Как анализировать сложность?\n",
        "### Шаг 1: Подсчет операций\n",
        "- **Правило 1:** Игнорируйте константы. O(2n) → O(n).\n",
        "- **Правило 2:** Учитывайте только самую быстрорастущую часть. O(n² + n) → O(n²).\n",
        "- **Пример:**\n",
        "  ```python\n",
        "  def example_func(n):\n",
        "      for i in range(n):\n",
        "          print(i)  # O(n)\n",
        "      for j in range(n):\n",
        "          print(j)  # O(n)\n",
        "  # Итого: O(n + n) = O(n)\n",
        "  ```\n",
        "- **Аналогия:** Если вы делаете 2 круга вокруг дома, это всё равно 2n, а не n²."
      ]
    },
    {
      "cell_type": "markdown",
      "metadata": {},
      "source": [
        "### Шаг 2: Рекурсия и вложенные циклы\n",
        "- **Рекурсия:** Каждый рекурсивный вызов может увеличить сложность.\n",
        "- **Вложенные циклы:** Умножаются. O(n) * O(n) = O(n²).\n",
        "- **Пример:**\n",
        "  ```python\n",
        "  def nested_loop(n):\n",
        "      for i in range(n):\n",
        "          for j in range(n):\n",
        "              print(i, j)  # O(n²)\n",
        "  ```\n",
        "- **Аналогия:** Если вы проверяете каждую пару друзей на совместимость, это O(n²)."
      ]
    },
    {
      "cell_type": "markdown",
      "metadata": {},
      "source": [
        "## 🧪 Практика: Измерение времени выполнения\n",
        "### Шаг 1: Используем timeit для измерения"
      ]
    },
    {
      "cell_type": "code",
      "execution_count": null,
      "metadata": {},
      "outputs": [],
      "source": [
        "import timeit\n",
        "\n",
        "# Пример O(n)\n",
        "def linear(n):\n",
        "    for i in range(n):\n",
        "        pass\n",
        "\n",
        "# Пример O(n²)\n",
        "def quadratic(n):\n",
        "    for i in range(n):\n",
        "        for j in range(n):\n",
        "            pass\n",
        "\n",
        "# Измерение\n",
        "print(\"O(n):\", timeit.timeit('linear(1000)', globals=globals(), number=1000))\n",
        "print(\"O(n²):\", timeit.timeit('quadratic(1000)', globals=globals(), number=1000))"
      ]
    },
    {
      "cell_type": "markdown",
      "metadata": {},
      "source": [
        "### Шаг 2: Сравнение алгоритмов"
      ]
    },
    {
      "cell_type": "code",
      "execution_count": null,
      "metadata": {},
      "outputs": [],
      "source": [
        "import matplotlib.pyplot as plt\n",
        "import numpy as np\n",
        "\n",
        "# Генерация данных\n",
        "sizes = [10, 100, 1000, 10000]\n",
        "times_linear = [timeit.timeit(f'linear({n})', globals=globals(), number=1000) for n in sizes]\n",
        "times_quadratic = [timeit.timeit(f'quadratic({n})', globals=globals(), number=1000) for n in sizes]\n",
        "\n",
        "# График\n",
        "plt.plot(sizes, times_linear, label='O(n)')\n",
        "plt.plot(sizes, times_quadratic, label='O(n²)')\n",
        "plt.xlabel('Размер данных')\n",
        "plt.ylabel('Время выполнения')\n",
        "plt.legend()\n",
        "plt.title('Сравнение O(n) и O(n²)')\n",
        "plt.grid(True)\n",
        "plt.show()"
      ]
    },
    {
      "cell_type": "markdown",
      "metadata": {},
      "source": [
        "## 📈 Как оптимизировать код?\n",
        "### 1. Используйте встроенные функции\n",
        "- **Почему?** Встроенные функции Python (например, `map`, `filter`, `set`) оптимизированы на низком уровне.\n",
        "- **Пример:**\n",
        "  ```python\n",
        "  # Вместо:\n",
        "  result = []\n",
        "  for x in range(10):\n",
        "      result.append(x**2)\n",
        "  # Лучше:\n",
        "  result = list(map(lambda x: x**2, range(10)))\n",
        "  ```\n",
        "- **Аналогия:** Использовать молоток вместо того, чтобы строить его каждый раз с нуля.\n",
        "\n",
        "### 2. Используйте хэш-таблицы (словари)\n",
        "- **Почему?** Поиск в словаре — O(1), в списке — O(n).\n",
        "- **Пример:**\n",
        "  ```python\n",
        "  # O(n) для списка\n",
        "  if 'apple' in ['banana', 'apple', 'cherry']:\n",
        "      pass\n",
        "  # O(1) для словаря\n",
        "  if 'apple' in {'banana': 1, 'apple': 2, 'cherry': 3}:\n",
        "      pass\n",
        "  ```\n",
        "- **Аналогия:** Поиск ключа в списке — как искать в куче вещей, в словаре — как знать, где что лежит [[1]](https://example.com)."
      ]
    },
    {
      "cell_type": "markdown",
      "metadata": {},
      "source": [
        "## 🧩 Практика: Оптимизация алгоритмов\n",
        "### Шаг 1: Поиск дубликатов"
      ]
    },
    {
      "cell_type": "code",
      "execution_count": null,
      "metadata": {},
      "outputs": [],
      "source": [
        "def find_duplicates_slow(arr):\n",
        "    # O(n²)\n",
        "    duplicates = []\n",
        "    for i in range(len(arr)):\n",
        "        for j in range(i+1, len(arr)):\n",
        "            if arr[i] == arr[j]:\n",
        "                duplicates.append(arr[i])\n",
        "    return duplicates\n",
        "\n",
        "def find_duplicates_fast(arr):\n",
        "    # O(n)\n",
        "    seen = set()\n",
        "    duplicates = []\n",
        "    for num in arr:\n",
        "        if num in seen:\n",
        "            duplicates.append(num)\n",
        "        else:\n",
        "            seen.add(num)\n",
        "    return duplicates\n",
        "\n",
        "arr = [1, 2, 3, 2, 4, 5, 6, 7, 8, 9, 10, 2]\n",
        "print(\"Медленный поиск:\", find_duplicates_slow(arr))\n",
        "print(\"Быстрый поиск:\", find_duplicates_fast(arr))"
      ]
    },
    {
      "cell_type": "markdown",
      "metadata": {},
      "source": [
        "### Шаг 2: Сравнение времени"
      ]
    },
    {
      "cell_type": "code",
      "execution_count": null,
      "metadata": {},
      "outputs": [],
      "source": [
        "import timeit\n",
        "\n",
        "# Измерение времени\n",
        "slow_time = timeit.timeit('find_duplicates_slow([1, 2, 3, 2, 4, 5, 6, 7, 8, 9, 10, 2])', \n",
        "                    globals=globals(), number=1000)\n",
        "fast_time = timeit.timeit('find_duplicates_fast([1, 2, 3, 2, 4, 5, 6, 7, 8, 9, 10, 2])', \n",
        "                    globals=globals(), number=1000)\n",
        "\n",
        "print(f'Медленный поиск: {slow_time:.4f} секунд')\n",
        "print(f'Быстрый поиск: {fast_time:.4f} секунд')"
      ]
    },
    {
      "cell_type": "markdown",
      "metadata": {},
      "source": [
        "## 📊 Как выбрать лучший алгоритм?\n",
        "- **O(1):** Для фиксированного времени.\n",
        "- **O(log n):** Для поиска в отсортированных структурах.\n",
        "- **O(n):** Для однократного прохода по данным.\n",
        "- **O(n log n):** Для эффективных сортировок (merge sort, quicksort).\n",
        "- **O(n²):** Только для малых данных.\n",
        "- **O(2ⁿ):** Экспоненциальный рост — избегайте при больших n.\n",
        "- **Примеры:**\n",
        "  - **Сортировка пузырьком:** O(n²).\n",
        "  - **Сортировка слиянием:** O(n log n).\n",
        "  - **Поиск в хэше:** O(1).\n",
        "- **Аналогия:** Выбирайте алгоритм, как обувь для марафона: O(n log n) — кроссовки, O(n²) — тапочки."
      ]
    },
    {
      "cell_type": "markdown",
      "metadata": {},
      "source": [
        "## 📝 Домашнее задание\n",
        "**Задача 1:** Реализуйте алгоритм поиска дубликатов с помощью словаря и сравните с предыдущими версиями.\n",
        "**Задача 2:** Напишите функцию, которая находит пересечение двух списков через множества (O(n)) и через вложенные циклы (O(n²)). Сравните время выполнения.\n",
        "**Задача 3:** Напишите отчет (200–300 слов), где:\n",
        "- Объясните, как работает O-нотация.\n",
        "- Сравните O(n) и O(n²) на примере своих функций.\n",
        "- Объясните, почему встроенные функции работают быстрее.\n",
        "- Приведите примеры, где оптимизация важна (например, обработка больших данных, веб-запросы)."
      ]
    },
    {
      "cell_type": "code",
      "execution_count": null,
      "metadata": {},
      "outputs": [],
      "source": [
        "# Ваш код здесь\n",
        "def find_duplicates_dict(arr):\n",
        "    # Реализация через словарь\n",
        "    count = {}\n",
        "    duplicates = []\n",
        "    for num in arr:\n",
        "        count[num] = count.get(num, 0) + 1\n",
        "    for key, value in count.items():\n",
        "        if value > 1:\n",
        "            duplicates.append(key)\n",
        "    return duplicates\n",
        "\n",
        "dict_time = timeit.timeit('find_duplicates_dict([1, 2, 3, 2, 4, 5, 6, 7, 8, 9, 10, 2])', \n",
        "                     globals=globals(), number=1000)\n",
        "print(f'Поиск через словарь: {dict_time:.4f} секунд')"
      ]
    },
    {
      "cell_type": "code",
      "execution_count": null,
      "metadata": {},
      "outputs": [],
      "source": [
        "# Сравнение времени\n",
        "list_time = timeit.timeit('find_duplicates_slow([1, 2, 3, 2, 4, 5, 6, 7, 8, 9, 10, 2])', \n",
        "                   globals=globals(), number=1000)\n",
        "set_time = timeit.timeit('find_duplicates_fast([1, 2, 3, 2, 4, 5, 6, 7, 8, 9, 10, 2])', \n",
        "                   globals=globals(), number=1000)\n",
        "\n",
        "print(f'Через списки: {list_time:.4f} секунд')\n",
        "print(f'Через множества: {set_time:.4f} секунд')"
      ]
    },
    {
      "cell_type": "code",
      "execution_count": null,
      "metadata": {},
      "outputs": [],
      "source": [
        "# Визуализация времени\n",
        "import matplotlib.pyplot as plt\n",
        "\n",
        "labels = ['O(n²)', 'O(n) через множество', 'O(n) через словарь']\n",
        "times = [list_time, set_time, dict_time]\n",
        "\n",
        "plt.bar(labels, times, color=['red', 'green', 'blue'])\n",
        "plt.ylabel('Время (секунды)')\n",
        "plt.title('Сравнение алгоритмов поиска дубликатов')\n",
        "plt.show()"
      ]
    },
    {
      "cell_type": "markdown",
      "metadata": {},
      "source": [
        "## ✅ Рекомендации по выполнению\n",
        "- **Задача 1:** Используйте `dict` для подсчета количества.\n",
        "- **Задача 2:** Для сравнения используйте `timeit`.\n",
        "- **Подсказка:** Всегда ищите способы уменьшить сложность (например, хэши, сортировка, двоичный поиск)."
      ]
    }
  ],
  "metadata": {
    "kernelspec": {
      "display_name": "Python 3",
      "language": "python",
      "name": "python3"
    },
    "language_info": {
      "codemirror_mode": {
        "name": "ipython",
        "version": 3
      },
      "file_extension": ".py",
      "mimetype": "text/x-python",
      "name": "python",
      "nbconvert_exporter": "python",
      "pygments_lexer": "ipython3",
      "version": "3.8.5"
    }
  },
  "nbformat": 4,
  "nbformat_minor": 4
}
