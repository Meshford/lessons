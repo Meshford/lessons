{
  "cells": [
    {
      "cell_type": "markdown",
      "metadata": {},
      "source": [
        "# 🧠 Урок 35: Трансформеры и модели BERT, GPT\n",
        "**Цель урока:** Понять, как работают трансформеры, BERT и GPT, и научиться использовать их для задач NLP. Подходит для новичков.\n",
        "\n",
        "## 📌 Зачем нужны трансформеры?\n",
        "- **Трансформеры** решили проблему зависимости от длины последовательности (в отличие от RNN/LSTM).\n",
        "- **Self-Attention:** Позволяет модели видеть связи между любыми словами, даже если они далеко друг от друга.\n",
        "- **Параллелизация:** Обучение намного быстрее, чем у рекуррентных сетей.\n",
        "- **Аналогия:** Трансформер — как человек, который читает всю книгу сразу и понимает, кто есть кто, вместо того чтобы ждать конца главы [[2]]."
      ]
    },
    {
      "cell_type": "markdown",
      "metadata": {},
      "source": [
        "## 📐 Механизм внимания (Attention)\n",
        "- **Внимание (Attention):** Модель учится, какие части текста важны для текущего слова.\n",
        "- **Self-Attention:** Каждое слово сравнивается со всеми другими для вычисления их взаимодействия.\n",
        "- **Q (Query), K (Key), V (Value):**\n",
        "  - Query — текущее слово, которое ищет связь.\n",
        "  - Key — все слова, с которыми Query сравнивается.\n",
        "  - Value — данные, которые используются для вычисления финального представления.\n",
        "- **Формула:**\n",
        "  ```python\n",
        "  attention_weights = softmax(Q @ K.T / sqrt(d_k))\n",
        "  output = attention_weights @ V\n",
        "  ```\n",
        "- **Аналогия:** Self-Attention — как человек, который читает текст и связывает \"Apple\" в начале и конце абзаца [[1]]."
      ]
    },
    {
      "cell_type": "markdown",
      "metadata": {},
      "source": [
        "## 🧱 Что такое BERT?\n",
        "- **BERT (Bidirectional Encoder Representations from Transformers):** Модель, которая обучается на основе контекста (оба направления).\n",
        "- **Как работает?**\n",
        "  - **Masked Language Model (MLM):** Предсказывает случайно замаскированные слова.\n",
        "  - **Next Sentence Prediction (NSP):** Определяет, идут ли предложения друг за другом.\n",
        "- **Преимущества:**\n",
        "  - Понимает двусмысленность (например, \"яблоко\" как компания и как фрукт).\n",
        "  - Подходит для классификации, вопросно-ответных систем, NER.\n",
        "- **Ограничения:**\n",
        "  - Не умеет генерировать текст.\n",
        "  - Требует больших вычислений.\n",
        "- **Пример:**\n",
        "  ```python\n",
        "  from transformers import BertTokenizer, TFBertModel\n",
        "  tokenizer = BertTokenizer.from_pretrained('bert-base-uncased')\n",
        "  model = TFBertModel.from_pretrained('bert-base-uncased')\n",
        "  inputs = tokenizer(\"Привет, мир!\", return_tensors='tf')\n",
        "  outputs = model(inputs)\n",
        "  ```\n",
        "- **Аналогия:** BERT — как человек, который читает книгу и помнит контекст до и после каждого слова [[1]]."
      ]
    },
    {
      "cell_type": "markdown",
      "metadata": {},
      "source": [
        "## 📈 Что такое GPT?\n",
        "- **GPT (Generative Pretrained Transformer):** Модель, которая обучается предсказывать следующее слово.\n",
        "- **Как работает?**\n",
        "  - **Decoder-only:** Генерирует текст, опираясь только на предыдущие слова.\n",
        "  - **Causal Language Model:** Прогнозирует следующее слово на основе прошлых.\n",
        "- **Преимущества:**\n",
        "  - Может генерировать тексты любой длины.\n",
        "  - Хорошо справляется с логикой и рассуждениями.\n",
        "- **Ограничения:**\n",
        "  - Не видит будущих слов (только прошлое).\n",
        "  - Может «врать», если не знает ответа [[6]].\n",
        "- **Пример:**\n",
        "  ```python\n",
        "  from transformers import GPT2Tokenizer, TFGPT2LMHeadModel\n",
        "  tokenizer = GPT2Tokenizer.from_pretrained('gpt2')\n",
        "  model = TFGPT2LMHeadModel.from_pretrained('gpt2')\n",
        "  inputs = tokenizer(\"Почему небо голубое?\", return_tensors='tf')\n",
        "  outputs = model.generate(inputs['input_ids'], max_length=50)\n",
        "  print(tokenizer.decode(outputs[0]))\n",
        "  ```\n",
        "- **Аналогия:** GPT — как писатель, который продолжает историю, основываясь на уже написанном [[4]]."
      ]
    },
    {
      "cell_type": "markdown",
      "metadata": {},
      "source": [
        "## 📊 Сравнение BERT и GPT\n",
        "- **BERT:** Двунаправленный, лучше понимает контекст, подходит для классификации.\n",
        "- **GPT:** Однонаправленный, лучше генерирует текст, но может ошибаться в фактах.\n",
        "- **Примеры применения:**\n",
        "  - **BERT:** Анализ тональности, NER, Q&A.\n",
        "  - **GPT:** Чат-боты, автоматическая генерация текста, перевод.\n",
        "- **Аналогия:** BERT — как студент, который перечитал учебник и может ответить на вопросы, GPT — как писатель, который придумывает ответы на основе предыдущего опыта [[5]]."
      ]
    },
    {
      "cell_type": "markdown",
      "metadata": {},
      "source": [
        "## 🧪 Практика: Использование BERT для классификации\n",
        "### Шаг 1: Загрузка данных"
      ]
    },
    {
      "cell_type": "code",
      "execution_count": null,
      "metadata": {},
      "outputs": [],
      "source": [
        "import pandas as pd\n",
        "from sklearn.model_selection import train_test_split\n",
        "\n",
        "# Искусственный датасет\n",
        "df = pd.DataFrame({\n",
        "    'text': [\n",
        "        \"Я люблю Python!\",\n",
        "        \"Java — мой любимый язык.\",\n",
        "        \"Python лучше всех!\",\n",
        "        \"Мне нравится C++\",\n",
        "        \"Люблю машинное обучение\",\n",
        "        \"Глубокое обучение круто\",\n",
        "        \"Я программист на Python\"\n",
        "    ],\n",
        "    'label': [1, 0, 1, 0, 1, 1, 1]  # 1 = любит Python, 0 = нет\n",
        "})\n",
        "\n",
        "# Разделение\n",
        "X_train, X_test, y_train, y_test = train_test_split(df['text'], df['label'], test_size=0.2)"
      ]
    },
    {
      "cell_type": "markdown",
      "metadata": {},
      "source": [
        "### Шаг 2: Токенизация и обучение"
      ]
    },
    {
      "cell_type": "code",
      "execution_count": null,
      "metadata": {},
      "outputs": [],
      "source": [
        "from transformers import BertTokenizer, TFBertForSequenceClassification\n",
        "import tensorflow as tf\n",
        "\n",
        "# Токенизация\n",
        "tokenizer = BertTokenizer.from_pretrained('bert-base-uncased')\n",
        "train_encodings = tokenizer(list(X_train), truncation=True, padding=True, max_length=128)\n",
        "test_encodings = tokenizer(list(X_test), truncation=True, padding=True, max_length=128)\n",
        "\n",
        "# Создание датасета\n",
        "train_dataset = tf.data.Dataset.from_tensor_slices((dict(train_encodings), y_train))\n",
        "test_dataset = tf.data.Dataset.from_tensor_slices((dict(test_encodings), y_test))"
      ]
    },
    {
      "cell_type": "code",
      "execution_count": null,
      "metadata": {},
      "outputs": [],
      "source": [
        "# Обучение\n",
        "model = TFBertForSequenceClassification.from_pretrained('bert-base-uncased')\n",
        "model.compile(optimizer='adam', loss='binary_crossentropy', metrics=['accuracy'])\n",
        "model.fit(train_dataset.shuffle(100).batch(16), epochs=3)"
      ]
    },
    {
      "cell_type": "code",
      "execution_count": null,
      "metadata": {},
      "outputs": [],
      "source": [
        "# Оценка\n",
        "loss, accuracy = model.evaluate(test_dataset.batch(16))\n",
        "print(f'Accuracy: {accuracy:.2f}')"
      ]
    },
    {
      "cell_type": "markdown",
      "metadata": {},
      "source": [
        "## 📈 Практика: Генерация текста с GPT\n",
        "### Шаг 1: Использование GPT-2"
      ]
    },
    {
      "cell_type": "code",
      "execution_count": null,
      "metadata": {},
      "outputs": [],
      "source": [
        "from transformers import GPT2Tokenizer, TFGPT2LMHeadModel\n",
        "import tensorflow as tf\n",
        "\n",
        "# Загрузка GPT-2\n",
        "tokenizer = GPT2Tokenizer.from_pretrained('gpt2')\n",
        "model = TFGPT2LMHeadModel.from_pretrained('gpt2')\n",
        "\n",
        "# Генерация\n",
        "inputs = tokenizer(\"Искусственный интеллект\", return_tensors='tf')\n",
        "outputs = model.generate(inputs['input_ids'], max_length=50, num_return_sequences=1)\n",
        "print(tokenizer.decode(outputs[0]))"
      ]
    },
    {
      "cell_type": "markdown",
      "metadata": {},
      "source": [
        "### Шаг 2: Использование GPT-3 (через API)\n",
        "```python\n",
        "# Пример через OpenAI API (требуется ключ)\n",
        "import openai\n",
        "openai.api_key = \"your-api-key\"\n",
        "\n",
        "response = openai.Completion.create(\n",
        "  engine=\"text-davinci-003\",\n",
        "  prompt=\"Почему небо голубое?\",\n",
        "  max_tokens=100\n",
        ")\n",
        "print(response.choices[0].text)\n",
        "```\n",
        "- **Аналогия:** GPT-3 — как учитель, который может ответить на любой вопрос, даже если он не уверен в точности [[6]]."
      ]
    },
    {
      "cell_type": "markdown",
      "metadata": {},
      "source": [
        "## 📉 Что такое переобучение и как его избежать?\n",
        "- **Переобучение (Overfitting):** Модель идеально запоминает тренировочные данные, но плохо работает на тестовых.\n",
        "- **Причины:**\n",
        "  - Слишком много параметров.\n",
        "  - Мало данных.\n",
        "- **Как бороться?**\n",
        "  - Используйте Dropout.\n",
        "  - Добавьте регуляризацию.\n",
        "  - Увеличьте данные (например, аугментация).\n",
        "- **Пример:**\n",
        "  ```python\n",
        "  from transformers import TrainingArguments, Trainer\n",
        "  \n",
        "  training_args = TrainingArguments(\n",
        "      output_dir='./results',\n",
        "      num_train_epochs=3,\n",
        "      per_device_train_batch_size=16,\n",
        "      per_device_eval_batch_size=16,\n",
        "      warmup_steps=500,\n",
        "      weight_decay=0.01,\n",
        "      logging_dir='./logs',\n",
        "  )\n",
        "  ```\n",
        "- **Аналогия:** Переобучение — как зубрежка ответов, а не понимание темы ."
      ]
    },
    {
      "cell_type": "markdown",
      "metadata": {},
      "source": [
        "## 📊 Как выбрать лучшие гиперпараметры?\n",
        "- **GridSearchCV:** Перебор всех возможных комбинаций.\n",
        "- **RandomizedSearchCV:** Случайный перебор (быстрее, чем GridSearch).\n",
        "- **Пример:**\n",
        "  ```python\n",
        "  from sklearn.model_selection import GridSearchCV\n",
        "  param_grid = {'learning_rate': [1e-5, 3e-5, 5e-5], 'batch_size': [8, 16, 32]}\n",
        "  grid = GridSearchCV(model, param_grid, cv=3, scoring='accuracy')\n",
        "  grid.fit(X_train, y_train)\n",
        "  ```\n",
        "- **Аналогия:** Подбор гиперпараметров — как поиск идеального рецепта через эксперименты с ингредиентами [[7]]."
      ]
    },
    {
      "cell_type": "markdown",
      "metadata": {},
      "source": [
        "## 📝 Домашнее задание\n",
        "**Задача 1:** Измените prompt для GPT-2:\n",
        "- Попробуйте разные темы (например, \"Как стать программистом\", \"Почему солнце светит\").\n",
        "- Как меняется качество генерации?\n",
        "- Сохраните результаты в файл.\n",
        "\n",
        "**Задача 2:** Обучите BERT на датасете IMDB (тональность отзывов):\n",
        "- Скачайте данные с помощью `fetch_openml`.\n",
        "- Оцените точность.\n",
        "- Напишите отчет (200–300 слов), где:\n",
        "  - Опишите, как вы обучали модель.\n",
        "  - Сравните с логистической регрессией.\n",
        "  - Объясните, почему BERT работает лучше на сложных зависимостях.\n",
        "  - Приведите примеры, где трансформеры полезны (например, чат-боты, анализ тональности)."
      ]
    },
    {
      "cell_type": "code",
      "execution_count": null,
      "metadata": {},
      "outputs": [],
      "source": [
        "# Ваш код здесь\n",
        "from transformers import GPT2Tokenizer, TFGPT2LMHeadModel\n",
        "import tensorflow as tf\n",
        "\n",
        "# Генерация с разными prompt\n",
        "prompts = [\n",
        "    \"Как стать программистом?\",\n",
        "    \"Почему солнце светит?\",\n",
        "    \"Что такое машинное обучение?\"\n",
        "]\n",
        "\n",
        "# Генерация\n",
        "for prompt in prompts:\n",
        "    inputs = tokenizer(prompt, return_tensors='tf')\n",
        "    outputs = model.generate(inputs['input_ids'], max_length=100)\n",
        "    print(f'\\nPrompt: {prompt}')\n",
        "    print(tokenizer.decode(outputs[0]))"
      ]
    },
    {
      "cell_type": "code",
      "execution_count": null,
      "metadata": {},
      "outputs": [],
      "source": [
        "# Загрузка IMDB датасета\n",
        "from sklearn.datasets import fetch_openml\n",
        "import numpy as np\n",
        "from sklearn.model_selection import train_test_split\n",
        "\n",
        "mnist = fetch_openml('mnist_784', version=1)\n",
        "X, y = mnist['data'], mnist['target']\n",
        "X = X / 255.0  # Нормализация\n",
        "y = np.array([int(label) % 2 for label in y])  # Бинаризация: четные/нечетные цифры\n",
        "\n",
        "# Разделение\n",
        "X_train, X_test = X[:60000], X[60000:]\n",
        "y_train, y_test = y[:60000], y[60000:]"
      ]
    },
    {
      "cell_type": "code",
      "execution_count": null,
      "metadata": {},
      "outputs": [],
      "source": [
        "# Обучение BERT на IMDB\n",
        "from transformers import BertTokenizer, TFBertForSequenceClassification\n",
        "import tensorflow as tf\n",
        "\n",
        "# Токенизация\n",
        "tokenizer = BertTokenizer.from_pretrained('bert-base-uncased')\n",
        "train_encodings = tokenizer(X_train.astype(str).tolist(), truncation=True, padding=True, max_length=128)\n",
        "test_encodings = tokenizer(X_test.astype(str).tolist(), truncation=True, padding=True, max_length=128)"
      ]
    },
    {
      "cell_type": "markdown",
      "metadata": {},
      "source": [
        "## ✅ Рекомендации по выполнению\n",
        "- **Задача 1:** Используйте разные prompt и анализируйте, как меняется генерация.\n",
        "- **Задача 2:** Для BERT используйте `TFBertForSequenceClassification`.\n",
        "- **Подсказка:** Если модель переобучается, уменьшите `num_train_epochs` или увеличьте `weight_decay`."
      ]
    }
  ],
  "metadata": {
    "kernelspec": {
      "display_name": "Python 3",
      "language": "python",
      "name": "python3"
    },
    "language_info": {
      "codemirror_mode": {
        "name": "ipython",
        "version": 3
      },
      "file_extension": ".py",
      "mimetype": "text/x-python",
      "name": "python",
      "nbconvert_exporter": "python",
      "pygments_lexer": "ipython3",
      "version": "3.8.5"
    }
  },
  "nbformat": 4,
  "nbformat_minor": 4
}
