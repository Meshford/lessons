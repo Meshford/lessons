{
  "cells": [
    {
      "cell_type": "markdown",
      "id": "9d7e8080",
      "metadata": {},
      "source": [
        "# 🧠 Урок 3: Функции и модули в Python\n",
        "\n",
        "**Цель урока:**  \n",
        "- Понять, что такое функция и почему она важна.  \n",
        "- Научиться создавать свои функции.  \n",
        "- Разобраться с аргументами, возвращаемыми значениями и параметрами по умолчанию.  \n",
        "- Познакомиться с модулями и библиотеками.  \n",
        "- Научиться использовать готовые и создавать свои модули.  \n",
        "- Попрактиковаться в написании кода с функциями и модулями.\n",
        "\n",
        "**Почему это важно?**  \n",
        "Функции и модули — это как инструменты в ящике: они помогают сделать работу проще, быстрее и аккуратнее. Без них код превращается в длинный список команд, который сложно читать и исправлять. Этот урок — шаг к тому, чтобы писать программы, как настоящий разработчик!"
      ]
    },
    {
      "cell_type": "markdown",
      "id": "91939ca4",
      "metadata": {},
      "source": [
        "## 📌 1. Функции в Python\n",
        "\n",
        "### Теория: Что такое функция и зачем она нужна?\n",
        "\n",
        "**Функция** — это именованный кусок кода, который выполняет конкретную задачу. Представьте, что вы готовите пирог: у вас есть рецепт (функция), вы добавляете ингредиенты (входные данные), и в итоге получаете пирог (результат). Функции в программировании работают так же: вы даёте им данные, они что-то с ними делают и возвращают результат.\n",
        "\n",
        "**Пример из жизни:**  \n",
        "Допустим, у вас есть микроволновка. Вы кладёте в неё еду, нажимаете кнопку, и через пару минут получаете горячую еду. Микроволновка — это функция: вы даёте ей задачу (разогреть), и она её выполняет. В Python функции делают то же самое — решают задачи, которые вы им поручаете.\n",
        "\n",
        "**Зачем нужны функции?**  \n",
        "- **Экономия времени:** Если вам нужно много раз посчитать что-то (например, налог с покупок), вы пишете функцию один раз и используете её снова и снова.  \n",
        "- **Читаемость:** Код делится на маленькие понятные части, как главы в книге.  \n",
        "- **Исправление ошибок:** Если что-то сломалось, вы проверяете только одну функцию, а не весь код.  \n",
        "- **Повторное использование:** Написал функцию для одной программы — можешь взять её в другую.\n",
        "\n",
        "### Синтаксис функции\n",
        "\n",
        "Вот как выглядит функция в Python:\n",
        "```python\n",
        "def имя_функции(параметры):\n",
        "    # Что делает функция\n",
        "    return результат  # Если нужно что-то вернуть\n",
        "```\n",
        "- `def` — говорит Python, что мы создаём функцию.  \n",
        "- `имя_функции` — это как имя вашего питомца, оно должно быть понятным и уникальным.  \n",
        "- `параметры` — это то, что функция принимает (как ингредиенты для рецепта).  \n",
        "- `return` — отдаёт результат (необязательно, если функция просто что-то делает, например, печатает текст).\n",
        "\n",
        "**Пример:** Функция, которая здоровается."
      ]
    },
    {
      "cell_type": "code",
      "execution_count": null,
      "id": "1303374b",
      "metadata": {},
      "outputs": [],
      "source": [
        "def say_hi():\n",
        "    print(\"Привет всем!\")\n",
        "\n",
        "say_hi()  # Вызываем функцию"
      ]
    },
    {
      "cell_type": "markdown",
      "id": "3adcbf88",
      "metadata": {},
      "source": [
        "### Параметры и аргументы\n",
        "\n",
        "- **Параметры** — это переменные, которые вы пишете в скобках при создании функции. Они как пустые коробки, ждущие, что в них положат.  \n",
        "- **Аргументы** — это то, что вы кладёте в эти коробки, когда вызываете функцию.\n",
        "\n",
        "**Пример из жизни:**  \n",
        "Вы заказываете пиццу. Размер и начинка — это параметры. Когда вы говорите: «Хочу большую с пепперони», вы передаёте аргументы.\n",
        "\n",
        "**Пример кода:**"
      ]
    },
    {
      "cell_type": "code",
      "execution_count": null,
      "id": "33151d91",
      "metadata": {},
      "outputs": [],
      "source": [
        "def say_hi_to(name):\n",
        "    print(f\"Привет, {name}!\")\n",
        "\n",
        "say_hi_to(\"Маша\")  # \"Маша\" — аргумент"
      ]
    },
    {
      "cell_type": "markdown",
      "id": "c96b969a",
      "metadata": {},
      "source": [
        "### Возврат значений (`return`)\n",
        "\n",
        "`return` — это как официант, который приносит вам заказ. Он завершает работу функции и отдаёт результат. Если `return` нет, функция просто делает что-то и тихо заканчивает.\n",
        "\n",
        "**Пример из жизни:**  \n",
        "Вы попросили друга посчитать, сколько будет 2 + 3. Он говорит: «5» — это `return`. Если он просто подумал и промолчал — это функция без `return`.\n",
        "\n",
        "**Пример кода:**"
      ]
    },
    {
      "cell_type": "code",
      "execution_count": null,
      "id": "90ac1323",
      "metadata": {},
      "outputs": [],
      "source": [
        "def add_numbers(a, b):\n",
        "    return a + b\n",
        "\n",
        "result = add_numbers(3, 4)\n",
        "print(result)  # 7"
      ]
    },
    {
      "cell_type": "markdown",
      "id": "6f1b8d2a",
      "metadata": {},
      "source": [
        "### Возврат нескольких значений\n",
        "\n",
        "Функция может вернуть сразу несколько вещей, как если бы вы заказали еду и напиток, а вам принесли всё вместе.\n",
        "\n",
        "**Пример из жизни:**  \n",
        "Вы попросили друга принести вам книгу и ручку. Он возвращает и то, и другое — это как два значения через `return`.\n",
        "\n",
        "**Пример кода:**"
      ]
    },
    {
      "cell_type": "code",
      "execution_count": null,
      "id": "5da4bb6c",
      "metadata": {},
      "outputs": [],
      "source": [
        "def get_math(a, b):\n",
        "    return a + b, a * b\n",
        "\n",
        "sum_result, product_result = get_math(2, 3)\n",
        "print(sum_result, product_result)  # 5 6"
      ]
    },
    {
      "cell_type": "markdown",
      "id": "d6e5df31",
      "metadata": {},
      "source": [
        "### Параметры по умолчанию\n",
        "\n",
        "Вы можете задать значение параметра заранее, если его не укажут при вызове функции.\n",
        "\n",
        "**Пример из жизни:**  \n",
        "В кафе у вас есть любимый кофе. Если вы не скажете, какой хотите, бариста сделает ваш обычный — это параметр по умолчанию.\n",
        "\n",
        "**Пример кода:**"
      ]
    },
    {
      "cell_type": "code",
      "execution_count": null,
      "id": "0877b8b8",
      "metadata": {},
      "outputs": [],
      "source": [
        "def say_hi_to(name=\"друг\"):\n",
        "    print(f\"Привет, {name}!\")\n",
        "\n",
        "say_hi_to()  # Привет, друг!\n",
        "say_hi_to(\"Петя\")  # Привет, Петя!"
      ]
    },
    {
      "cell_type": "markdown",
      "id": "79cd9516",
      "metadata": {},
      "source": [
        "### Практика: Попробуй написать функции\n",
        "\n",
        "1. **Задание:** Напишите функцию `double(n)`, которая возвращает удвоенное число `n`.  \n",
        "   - **Ожидаемый результат:** `double(5)` → `10`."
      ]
    },
    {
      "cell_type": "code",
      "execution_count": null,
      "id": "19b76378",
      "metadata": {},
      "outputs": [],
      "source": [
        "# Ваш код здесь"
      ]
    },
    {
      "cell_type": "code",
      "execution_count": null,
      "id": "965cfb53",
      "metadata": {},
      "outputs": [],
      "source": [
        "# Проверка\n",
        "assert double(5) == 10, \"double(5) должно быть 10\"\n",
        "assert double(0) == 0, \"double(0) должно быть 0\"\n",
        "assert double(-2) == -4, \"double(-2) должно быть -4\"\n",
        "print(\"Все тесты пройдены!\")"
      ]
    },
    {
      "cell_type": "markdown",
      "id": "3b2700de",
      "metadata": {},
      "source": [
        "<details><summary>Решение задания 1</summary>\n",
        "\n",
        "```python\n",
        "def double(n):\n",
        "    return n * 2\n",
        "```\n",
        "\n",
        "</details>"
      ]
    },
    {
      "cell_type": "markdown",
      "id": "651395c3",
      "metadata": {},
      "source": [
        "2. **Задание:** Напишите функцию `is_positive(n)`, которая возвращает `True`, если число положительное, и `False`, если нет.  \n",
        "   - **Ожидаемый результат:** `is_positive(3)` → `True`, `is_positive(-1)` → `False`."
      ]
    },
    {
      "cell_type": "code",
      "execution_count": null,
      "id": "16c46d5e",
      "metadata": {},
      "outputs": [],
      "source": [
        "# Ваш код здесь"
      ]
    },
    {
      "cell_type": "code",
      "execution_count": null,
      "id": "790f9edf",
      "metadata": {},
      "outputs": [],
      "source": [
        "# Проверка\n",
        "assert is_positive(3) == True, \"is_positive(3) должно быть True\"\n",
        "assert is_positive(-1) == False, \"is_positive(-1) должно быть False\"\n",
        "assert is_positive(0) == False, \"is_positive(0) должно быть False\"\n",
        "print(\"Все тесты пройдены!\")"
      ]
    },
    {
      "cell_type": "markdown",
      "id": "359fc1f0",
      "metadata": {},
      "source": [
        "<details><summary>Решение задания 2</summary>\n",
        "\n",
        "```python\n",
        "def is_positive(n):\n",
        "    return n > 0\n",
        "```\n",
        "\n",
        "</details>"
      ]
    },
    {
      "cell_type": "markdown",
      "id": "2025d28a",
      "metadata": {},
      "source": [
        "3. **Задание:** Напишите функцию `introduce(name, hobby)`, которая печатает приветствие с именем и хобби.  \n",
        "   - **Ожидаемый результат:** `introduce(\"Катя\", \"рисование\")` → `\"Привет, я Катя! Моё хобби — рисование.\"`"
      ]
    },
    {
      "cell_type": "code",
      "execution_count": null,
      "id": "a5c21cce",
      "metadata": {},
      "outputs": [],
      "source": [
        "# Ваш Код здесь"
      ]
    },
    {
      "cell_type": "code",
      "execution_count": null,
      "id": "8160a125",
      "metadata": {},
      "outputs": [],
      "source": [
        "# Проверка (визуальная)\n",
        "introduce(\"Катя\", \"рисование\")"
      ]
    },
    {
      "cell_type": "markdown",
      "id": "25ee5755",
      "metadata": {},
      "source": [
        "<details><summary>Решение задания 3</summary>\n",
        "\n",
        "```python\n",
        "def introduce(name, hobby):\n",
        "    print(f\"Привет, я {name}! Моё хобби — {hobby}.\")\n",
        "```\n",
        "\n",
        "</details>"
      ]
    },
    {
      "cell_type": "markdown",
      "id": "ac2ca39c",
      "metadata": {},
      "source": [
        "## 📦 2. Модули и библиотеки\n",
        "\n",
        "### Теория: Что такое модули и библиотеки?\n",
        "\n",
        "**Модуль** — это файл с кодом на Python (`.py`), в котором собраны функции, переменные или классы, которые можно использовать в других программах. **Библиотека** — это набор таких модулей, часто для решения больших задач.\n",
        "\n",
        "**Пример из жизни:**  \n",
        "Представьте, что у вас есть коробка с конструктором LEGO. В ней есть разные детали (функции), которые вы можете взять и использовать для постройки дома. Модуль — это как такая коробка: вы берёте из неё готовые куски кода и не пишете их с нуля.\n",
        "\n",
        "**Зачем нужны модули?**  \n",
        "- **Удобство:** Не нужно каждый раз писать код для сложных вещей, например, вычисления корня числа.  \n",
        "- **Организация:** Код разбит на файлы, как книги в библиотеке.  \n",
        "- **Командная работа:** Вы можете поделиться модулем с другом, и он тоже сможет его использовать.\n",
        "\n",
        "### Импорт модулей\n",
        "\n",
        "Чтобы использовать модуль, его нужно подключить с помощью `import`.\n",
        "\n",
        "**Пример из жизни:**  \n",
        "Вы берёте книгу с рецептами из шкафа, чтобы приготовить торт. `import` — это как взять нужный модуль из Python.\n",
        "\n",
        "**Пример кода:**"
      ]
    },
    {
      "cell_type": "code",
      "execution_count": null,
      "id": "2e3c372d",
      "metadata": {},
      "outputs": [],
      "source": [
        "import math\n",
        "print(math.sqrt(9))  # 3.0\n",
        "print(math.pi)  # 3.141592653589793"
      ]
    },
    {
      "cell_type": "markdown",
      "id": "dbdf1767",
      "metadata": {},
      "source": [
        "### Частичный импорт\n",
        "\n",
        "Если вам нужна только часть модуля, можно взять только её с помощью `from ... import ...`.\n",
        "\n",
        "**Пример из жизни:**  \n",
        "Вам нужен только один рецепт из книги, а не вся книга. Вы берёте только страницу с ним.\n",
        "\n",
        "**Пример кода:**"
      ]
    },
    {
      "cell_type": "code",
      "execution_count": null,
      "id": "4890a87c",
      "metadata": {},
      "outputs": [],
      "source": [
        "from math import sqrt\n",
        "print(sqrt(16))  # 4.0"
      ]
    },
    {
      "cell_type": "markdown",
      "id": "dfb23dfd",
      "metadata": {},
      "source": [
        "### Создание своего модуля\n",
        "\n",
        "Вы можете написать свой модуль, создав файл `.py` с функциями.\n",
        "\n",
        "**Пример из жизни:**  \n",
        "Вы записали свои любимые рецепты в тетрадь и теперь можете давать её друзьям. Это ваш модуль.\n",
        "\n",
        "**Пример:** Создайте файл `my_tools.py`:\n",
        "```python\n",
        "def say_hello(name):\n",
        "    return f\"Привет, {name}!\"\n",
        "```\n",
        "И используйте его:"
      ]
    },
    {
      "cell_type": "code",
      "execution_count": null,
      "id": "fb6f1cef",
      "metadata": {},
      "outputs": [],
      "source": [
        "import my_tools\n",
        "print(my_tools.say_hello(\"Игорь\"))  # Привет, Игорь!"
      ]
    },
    {
      "cell_type": "markdown",
      "id": "ab3ae07a",
      "metadata": {},
      "source": [
        "### Установка внешних библиотек\n",
        "\n",
        "Библиотеки, которых нет в Python изначально, можно установить через `pip`.\n",
        "\n",
        "**Пример из жизни:**  \n",
        "Вы купили новый набор инструментов в магазине, чтобы собрать шкаф. `pip` — это магазин для Python.\n",
        "\n",
        "**Команда:**\n",
        "```bash\n",
        "pip install requests\n",
        "```\n",
        "**Пример кода:**"
      ]
    },
    {
      "cell_type": "code",
      "execution_count": null,
      "id": "b7e21793",
      "metadata": {},
      "outputs": [],
      "source": [
        "import requests\n",
        "response = requests.get(\"https://api.github.com\")\n",
        "print(response.status_code)  # 200"
      ]
    },
    {
      "cell_type": "markdown",
      "id": "0e6b3cba",
      "metadata": {},
      "source": [
        "### Практика: Работа с модулями\n",
        "\n",
        "1. **Задание:** Напишите функцию `roll_dice()`, которая использует модуль `random` и возвращает случайное число от 1 до 6 (как кубик).  \n",
        "   - **Ожидаемый результат:** Число от 1 до 6."
      ]
    },
    {
      "cell_type": "code",
      "execution_count": null,
      "id": "baad0026",
      "metadata": {},
      "outputs": [],
      "source": [
        "# Ваш код здесь"
      ]
    },
    {
      "cell_type": "code",
      "execution_count": null,
      "id": "707ee893",
      "metadata": {},
      "outputs": [],
      "source": [
        "# Проверка\n",
        "result = roll_dice()\n",
        "assert 1 <= result <= 6, \"Результат должен быть от 1 до 6\"\n",
        "print(\"Тест пройден!\")"
      ]
    },
    {
      "cell_type": "markdown",
      "id": "dc2bca97",
      "metadata": {},
      "source": [
        "<details><summary>Решение задания 1</summary>\n",
        "\n",
        "```python\n",
        "import random\n",
        "\n",
        "def roll_dice():\n",
        "    return random.randint(1, 6)\n",
        "```\n",
        "\n",
        "</details>"
      ]
    },
    {
      "cell_type": "markdown",
      "id": "d9d70f2d",
      "metadata": {},
      "source": [
        "2. **Задание:** Напишите функцию `list_sum(numbers)`, которая возвращает сумму чисел в списке.  \n",
        "   - **Ожидаемый результат:** `list_sum([1, 2, 3])` → `6`."
      ]
    },
    {
      "cell_type": "code",
      "execution_count": null,
      "id": "754b7889",
      "metadata": {},
      "outputs": [],
      "source": [
        "# Ваш код здесь"
      ]
    },
    {
      "cell_type": "code",
      "execution_count": null,
      "id": "6bdea7cb",
      "metadata": {},
      "outputs": [],
      "source": [
        "# Проверка\n",
        "assert list_sum([1, 2, 3]) == 6, \"list_sum([1, 2, 3]) должно быть 6\"\n",
        "assert list_sum([0, 5]) == 5, \"list_sum([0, 5]) должно быть 5\"\n",
        "print(\"Все тесты пройдены!\")"
      ]
    },
    {
      "cell_type": "markdown",
      "id": "9c9d08f9",
      "metadata": {},
      "source": [
        "<details><summary>Решение задания 2</summary>\n",
        "\n",
        "```python\n",
        "def list_sum(numbers):\n",
        "    return sum(numbers)\n",
        "```\n",
        "\n",
        "</details>"
      ]
    },
    {
      "cell_type": "markdown",
      "id": "51c46f31",
      "metadata": {},
      "source": [
        "3. **Задание:** Напишите функцию `today()`, которая использует модуль `datetime` и возвращает текущую дату в формате \"дд.мм.гггг\".  \n",
        "   - **Ожидаемый результат:** Например, `\"15.10.2023\"`."
      ]
    },
    {
      "cell_type": "code",
      "execution_count": null,
      "id": "5b09e17c",
      "metadata": {},
      "outputs": [],
      "source": [
        "# Ваш код здесь"
      ]
    },
    {
      "cell_type": "code",
      "execution_count": null,
      "id": "ecfd2023",
      "metadata": {},
      "outputs": [],
      "source": [
        "# Проверка (визуальная)\n",
        "print(today())"
      ]
    },
    {
      "cell_type": "markdown",
      "id": "6aaaec52",
      "metadata": {},
      "source": [
        "<details><summary>Решение задания 3</summary>\n",
        "\n",
        "```python\n",
        "from datetime import datetime\n",
        "\n",
        "def today():\n",
        "    return datetime.now().strftime(\"%d.%m.%Y\")\n",
        "```\n",
        "\n",
        "</details>"
      ]
    },
    {
      "cell_type": "markdown",
      "id": "7bc52821",
      "metadata": {},
      "source": [
        "## 🎯 Мини-практика\n",
        "\n",
        "1. **Задание:** Напишите функцию `subtract(a, b)`, которая возвращает разность двух чисел.  \n",
        "   - **Ожидаемый результат:** `subtract(10, 7)` → `3`."
      ]
    },
    {
      "cell_type": "code",
      "execution_count": null,
      "id": "e4ed65a5",
      "metadata": {},
      "outputs": [],
      "source": [
        "# Ваш код здесь"
      ]
    },
    {
      "cell_type": "code",
      "execution_count": null,
      "id": "b26442dd",
      "metadata": {},
      "outputs": [],
      "source": [
        "# Проверка\n",
        "assert subtract(10, 7) == 3, \"subtract(10, 7) должно быть 3\"\n",
        "assert subtract(5, 5) == 0, \"subtract(5, 5) должно быть 0\"\n",
        "print(\"Все тесты пройдены!\")"
      ]
    },
    {
      "cell_type": "markdown",
      "id": "35c6f97a",
      "metadata": {},
      "source": [
        "<details><summary>Решение мини-практики 1</summary>\n",
        "\n",
        "```python\n",
        "def subtract(a, b):\n",
        "    return a - b\n",
        "```\n",
        "\n",
        "</details>"
      ]
    },
    {
      "cell_type": "markdown",
      "id": "787e0e79",
      "metadata": {},
      "source": [
        "\n",
        "2. **Задание:** Напишите функцию `to_lower(text)`, которая переводит текст в нижний регистр.  \n",
        "   - **Ожидаемый результат:** `to_lower(\"HELLO\")` → `\"hello\"`."
      ]
    },
    {
      "cell_type": "code",
      "execution_count": null,
      "id": "8caf2de2",
      "metadata": {},
      "outputs": [],
      "source": [
        "# Ваш код здесь"
      ]
    },
    {
      "cell_type": "code",
      "execution_count": null,
      "id": "988d1156",
      "metadata": {},
      "outputs": [],
      "source": [
        "# Проверка\n",
        "assert to_lower(\"HELLO\") == \"hello\", \"to_lower('HELLO') должно быть 'hello'\"\n",
        "assert to_lower(\"Python\") == \"python\", \"to_lower('Python') должно быть 'python'\"\n",
        "print(\"Все тесты пройдены!\")"
      ]
    },
    {
      "cell_type": "markdown",
      "id": "6e99dd2d",
      "metadata": {},
      "source": [
        "<details><summary>Решение мини-практики 2</summary>\n",
        "\n",
        "```python\n",
        "def to_lower(text):\n",
        "    return text.lower()\n",
        "```\n",
        "\n",
        "</details>"
      ]
    },
    {
      "cell_type": "markdown",
      "id": "e2c696a3",
      "metadata": {},
      "source": [
        "3. **Задание:** Напишите функцию `random_coin()`, которая возвращает случайное число: 0 или 1 (как подбрасывание монетки).  \n",
        "   - **Ожидаемый результат:** 0 или 1."
      ]
    },
    {
      "cell_type": "code",
      "execution_count": null,
      "id": "3caf63e3",
      "metadata": {},
      "outputs": [],
      "source": [
        "# Ваш код здесь"
      ]
    },
    {
      "cell_type": "code",
      "execution_count": null,
      "id": "9ea4d0f0",
      "metadata": {},
      "outputs": [],
      "source": [
        "# Проверка\n",
        "result = random_coin()\n",
        "assert result in [0, 1], \"Результат должен быть 0 или 1\"\n",
        "print(\"Тест пройден!\")"
      ]
    },
    {
      "cell_type": "markdown",
      "id": "8de0325d",
      "metadata": {},
      "source": [
        "<details><summary>Решение мини-практики 3</summary>\n",
        "\n",
        "```python\n",
        "import random\n",
        "\n",
        "def random_coin():\n",
        "    return random.randint(0, 1)\n",
        "```\n",
        "\n",
        "</details>"
      ]
    },
    {
      "cell_type": "markdown",
      "id": "caaec883",
      "metadata": {},
      "source": [
        "4. **Задание:** Напишите функцию `is_greater_than_ten(n)`, которая возвращает `True`, если число больше 10, и `False`, если нет.  \n",
        "   - **Ожидаемый результат:** `is_greater_than_ten(15)` → `True`, `is_greater_than_ten(5)` → `False`."
      ]
    },
    {
      "cell_type": "code",
      "execution_count": null,
      "id": "6ff22f85",
      "metadata": {},
      "outputs": [],
      "source": [
        "# Ваш код здесь"
      ]
    },
    {
      "cell_type": "code",
      "execution_count": null,
      "id": "cfbd9382",
      "metadata": {},
      "outputs": [],
      "source": [
        "# Проверка\n",
        "assert is_greater_than_ten(15) == True, \"is_greater_than_ten(15) должно быть True\"\n",
        "assert is_greater_than_ten(5) == False, \"is_greater_than_ten(5) должно быть False\"\n",
        "assert is_greater_than_ten(10) == False, \"is_greater_than_ten(10) должно быть False\"\n",
        "print(\"Все тесты пройдены!\")"
      ]
    },
    {
      "cell_type": "markdown",
      "id": "4aead4e9",
      "metadata": {},
      "source": [
        "<details><summary>Решение мини-практики 4</summary>\n",
        "\n",
        "```python\n",
        "def is_greater_than_ten(n):\n",
        "    return n > 10\n",
        "```\n",
        "\n",
        "</details>"
      ]
    },
    {
      "cell_type": "markdown",
      "id": "5b25d797",
      "metadata": {},
      "source": [
        "## 🏠 Домашнее задание\n",
        "\n",
        "1. **Задание:** Напишите функцию `predict_year(name, year)`, которая возвращает строку с именем и годом через 10 лет.  \n",
        "   - **Ожидаемый результат:** `predict_year(\"Лена\", 2023)` → `\"Через 10 лет Лена увидит 2033 год.\"`"
      ]
    },
    {
      "cell_type": "code",
      "execution_count": null,
      "id": "b1b369e7",
      "metadata": {},
      "outputs": [],
      "source": [
        "# Ваш код здесь"
      ]
    },
    {
      "cell_type": "code",
      "execution_count": null,
      "id": "44947425",
      "metadata": {},
      "outputs": [],
      "source": [
        "# Проверка\n",
        "assert predict_year(\"Лена\", 2023) == \"Через 10 лет Лена увидит 2033 год.\", \"Ошибка в predict_year('Лена', 2023)\"\n",
        "assert predict_year(\"Иван\", 2000) == \"Через 10 лет Иван увидит 2010 год.\", \"Ошибка в predict_year('Иван', 2000)\"\n",
        "print(\"Все тесты пройдены!\")"
      ]
    },
    {
      "cell_type": "markdown",
      "id": "a5e29feb",
      "metadata": {},
      "source": [
        "<details><summary>Решение домашнего задания 1</summary>\n",
        "\n",
        "```python\n",
        "def predict_year(name, year):\n",
        "    future_year = year + 10\n",
        "    return f\"Через 10 лет {name} увидит {future_year} год.\"\n",
        "```\n",
        "\n",
        "</details>"
      ]
    },
    {
      "cell_type": "markdown",
      "id": "f20b2754",
      "metadata": {},
      "source": [
        "2. **Задание:** Напишите функцию `list_stats(numbers)`, которая возвращает кортеж из суммы и количества элементов списка.  \n",
        "   - **Ожидаемый результат:** `list_stats([1, 2, 3])` → `(6, 3)`."
      ]
    },
    {
      "cell_type": "code",
      "execution_count": null,
      "id": "a11fe5d5",
      "metadata": {},
      "outputs": [],
      "source": [
        "# Ваш код здесь"
      ]
    },
    {
      "cell_type": "code",
      "execution_count": null,
      "id": "27b0160d",
      "metadata": {},
      "outputs": [],
      "source": [
        "# Проверка\n",
        "assert list_stats([1, 2, 3]) == (6, 3), \"list_stats([1, 2, 3]) должно быть (6, 3)\"\n",
        "assert list_stats([5]) == (5, 1), \"list_stats([5]) должно быть (5, 1)\"\n",
        "print(\"Все тесты пройдены!\")"
      ]
    },
    {
      "cell_type": "markdown",
      "id": "4f9d0fe8",
      "metadata": {},
      "source": [
        "<details><summary>Решение домашнего задания 2</summary>\n",
        "\n",
        "```python\n",
        "def list_stats(numbers):\n",
        "    return sum(numbers), len(numbers)\n",
        "```\n",
        "\n",
        "</details>\n"
      ]
    },
    {
      "cell_type": "markdown",
      "id": "f9ed3bed",
      "metadata": {},
      "source": [
        "3. **Задание:** Напишите функцию `count_letters(text)`, которая возвращает количество букв (без пробелов и знаков) в тексте.  \n",
        "   - **Ожидаемый результат:** `count_letters(\"Привет, мир!\")` → `10`."
      ]
    },
    {
      "cell_type": "code",
      "execution_count": null,
      "id": "b1e12ba9",
      "metadata": {},
      "outputs": [],
      "source": [
        "# Ваш код здесь"
      ]
    },
    {
      "cell_type": "code",
      "execution_count": null,
      "id": "32f38b31",
      "metadata": {},
      "outputs": [],
      "source": [
        "# Проверка\n",
        "assert count_letters(\"Привет, мир!\") == 10, \"count_letters('Привет, мир!') должно быть 10\"\n",
        "assert count_letters(\"Hi!\") == 2, \"count_letters('Hi!') должно быть 2\"\n",
        "print(\"Все тесты пройдены!\")"
      ]
    },
    {
      "cell_type": "markdown",
      "id": "09f9b1c1",
      "metadata": {},
      "source": [
        "<details><summary>Решение домашнего задания 3</summary>\n",
        "\n",
        "```python\n",
        "def count_letters(text):\n",
        "    return sum(1 for char in text if char.isalpha())\n",
        "```\n",
        "\n",
        "</details>"
      ]
    },
    {
      "cell_type": "markdown",
      "id": "353a3e19",
      "metadata": {},
      "source": [
        "4. **Задание (опционально):** Напишите функцию `multiply_all(n)`, которая возвращает произведение чисел от 1 до `n`.  \n",
        "   - **Ожидаемый результат:** `multiply_all(4)` → `24` (1 * 2 * 3 * 4)."
      ]
    },
    {
      "cell_type": "code",
      "execution_count": null,
      "id": "ca88b4f7",
      "metadata": {},
      "outputs": [],
      "source": [
        "# Ваш код здесь"
      ]
    },
    {
      "cell_type": "code",
      "execution_count": null,
      "id": "837ada84",
      "metadata": {},
      "outputs": [],
      "source": [
        "# Проверка\n",
        "assert multiply_all(4) == 24, \"multiply_all(4) должно быть 24\"\n",
        "assert multiply_all(1) == 1, \"multiply_all(1) должно быть 1\"\n",
        "print(\"Все тесты пройдены!\")"
      ]
    },
    {
      "cell_type": "markdown",
      "id": "2b5f5817",
      "metadata": {},
      "source": [
        "<details><summary>Решение домашнего задания 4</summary>\n",
        "\n",
        "```python\n",
        "def multiply_all(n):\n",
        "    result = 1\n",
        "    for i in range(1, n + 1):\n",
        "        result *= i\n",
        "    return result\n",
        "```\n",
        "\n",
        "</details>"
      ]
    },
    {
      "cell_type": "markdown",
      "id": "c1073c8e",
      "metadata": {},
      "source": [
        "## 🎯 Итог\n",
        "\n",
        "Сегодня ты научился использовать функции и модули в python!\n",
        "\n",
        "\n",
        "\n",
        "**На следующем занятии:** Работа с файлами и обработка ошибок!"
      ]
    }
  ],
  "metadata": {
    "kernelspec": {
      "display_name": "Python 3",
      "language": "python",
      "name": "python3"
    },
    "language_info": {
      "codemirror_mode": {
        "name": "ipython",
        "version": 3
      },
      "file_extension": ".py",
      "mimetype": "text/x-python",
      "name": "python",
      "nbconvert_exporter": "python",
      "pygments_lexer": "ipython3",
      "version": "3.12.10"
    }
  },
  "nbformat": 4,
  "nbformat_minor": 5
}
