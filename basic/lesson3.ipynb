{
  "cells": [
    {
      "cell_type": "markdown",
      "metadata": {},
      "source": [
        "# 🧠 Урок 3: Функции и модули в Python\n",
        "\n",
        "**Цель урока:**\n",
        "- Понять, что такое функция и зачем она нужна\n",
        "- Научиться создавать собственные функции\n",
        "- Разобраться с аргументами, возвращаемыми значениями и параметрами по умолчанию\n",
        "- Познакомиться с модулями и библиотеками\n",
        "- Научиться использовать сторонние и собственные модули\n",
        "- Получить практику работы с функциями и модулями"
      ]
    },
    {
      "cell_type": "markdown",
      "metadata": {},
      "source": [
        "## 📌 1. Функции в Python"
      ]
    },
    {
      "cell_type": "markdown",
      "metadata": {},
      "source": [
        "### Что такое функция?\n",
        "\n",
        "Функция — это **именованный блок кода**, который выполняет определённую задачу. Это один из ключевых элементов любого программирования.\n",
        "\n",
        "#### Преимущества использования функций:\n",
        "- Избегание дублирования кода\n",
        "- Улучшение читаемости программы\n",
        "- Возможность повторного использования\n",
        "- Легче тестировать и отлаживать"
      ]
    },
    {
      "cell_type": "markdown",
      "metadata": {},
      "source": [
        "### Синтаксис функции\n",
        "\n",
        "```python\n",
        "def имя_функции(параметры):\n",
        "    # тело функции\n",
        "    return результат  # необязательно\n",
        "```\n",
        "\n",
        "- `def` — ключевое слово для объявления функции\n",
        "- `имя_функции` — уникальное название функции\n",
        "- `параметры` — входные данные, которые принимает функция\n",
        "- `return` — позволяет вернуть значение из функции"
      ]
    },
    {
      "cell_type": "code",
      "execution_count": null,
      "metadata": {},
      "outputs": [],
      "source": [
        "# Пример простой функции\n",
        "def greet():\n",
        "    print(\"Привет, мир!\")\n",
        "\n",
        "# Вызов функции\n",
        "greet()"
      ]
    },
    {
      "cell_type": "markdown",
      "metadata": {},
      "source": [
        "### 💡 Подробнее о параметрах и аргументах\n",
        "\n",
        "- **Параметры** — переменные, указанные при объявлении функции\n",
        "- **Аргументы** — конкретные значения, переданные при вызове функции"
      ]
    },
    {
      "cell_type": "code",
      "execution_count": null,
      "metadata": {},
      "outputs": [],
      "source": [
        "# Функция с параметром\n",
        "def greet(name):\n",
        "    print(f\"Привет, {name}!\")\n",
        "\n",
        "# Вызов с аргументом\n",
        "greet(\"Алиса\")"
      ]
    },
    {
      "cell_type": "markdown",
      "metadata": {},
      "source": [
        "### 🔁 Возврат значения (`return`)\n",
        "\n",
        "`return` завершает выполнение функции и возвращает результат. Он может быть одного или нескольких значений."
      ]
    },
    {
      "cell_type": "code",
      "execution_count": null,
      "metadata": {},
      "outputs": [],
      "source": [
        "# Пример возврата значения\n",
        "def multiply(a, b):\n",
        "    return a * b\n",
        "\n",
        "result = multiply(4, 5)\n",
        "print(result)"
      ]
    },
    {
      "cell_type": "markdown",
      "metadata": {},
      "source": [
        "### 🔄 Возврат нескольких значений\n",
        "\n",
        "Python позволяет возвращать несколько значений через запятую — на самом деле это кортеж."
      ]
    },
    {
      "cell_type": "code",
      "execution_count": null,
      "metadata": {},
      "outputs": [],
      "source": [
        "def operations(a, b):\n",
        "    return a + b, a - b, a * b, a / b\n",
        "\n",
        "summ, diff, prod, div = operations(10, 5)\n",
        "print(summ, diff, prod, div)"
      ]
    },
    {
      "cell_type": "markdown",
      "metadata": {},
      "source": [
        "### 🧩 Параметры по умолчанию\n",
        "\n",
        "Можно задать значения по умолчанию для параметров."
      ]
    },
    {
      "cell_type": "code",
      "execution_count": null,
      "metadata": {},
      "outputs": [],
      "source": [
        "def greet(name=\"гость\"):\n",
        "    print(f\"Привет, {name}!\")\n",
        "\n",
        "greet()\n",
        "greet(\"Дима\")"
      ]
    },
    {
      "cell_type": "markdown",
      "metadata": {},
      "source": [
        "### 🧪 Практика: Напишите следующие функции"
      ]
    },
    {
      "cell_type": "markdown",
      "metadata": {},
      "source": [
        "1. Функция `square(n)`, возвращающая квадрат числа `n`"
      ]
    },
    {
      "cell_type": "code",
      "execution_count": null,
      "metadata": {},
      "outputs": [],
      "source": [
        "# Реализуйте здесь"
      ]
    },
    {
      "cell_type": "markdown",
      "metadata": {},
      "source": [
        "2. Функция `is_even(n)`, возвращающая `True`, если число чётное"
      ]
    },
    {
      "cell_type": "code",
      "execution_count": null,
      "metadata": {},
      "outputs": [],
      "source": [
        "# Реализуйте здесь"
      ]
    },
    {
      "cell_type": "markdown",
      "metadata": {},
      "source": [
        "3. Функция `say_hello(name, age)`, выводящая приветствие с возрастом"
      ]
    },
    {
      "cell_type": "code",
      "execution_count": null,
      "metadata": {},
      "outputs": [],
      "source": [
        "# Реализуйте здесь"
      ]
    },
    {
      "cell_type": "markdown",
      "metadata": {},
      "source": [
        "## 📦 2. Модули и библиотеки"
      ]
    },
    {
      "cell_type": "markdown",
      "metadata": {},
      "source": [
        "### Что такое модуль?\n",
        "\n",
        "Модуль — это **файл `.py`**, содержащий набор функций, классов и переменных, которые можно использовать в других программах."
      ]
    },
    {
      "cell_type": "markdown",
      "metadata": {},
      "source": [
        "### Импорт модулей"
      ]
    },
    {
      "cell_type": "code",
      "execution_count": null,
      "metadata": {},
      "outputs": [],
      "source": [
        "import math\n",
        "\n",
        "print(math.sqrt(16))\n",
        "print(math.pi)"
      ]
    },
    {
      "cell_type": "markdown",
      "metadata": {},
      "source": [
        "### Частичный импорт"
      ]
    },
    {
      "cell_type": "code",
      "execution_count": null,
      "metadata": {},
      "outputs": [],
      "source": [
        "from math import sqrt, pi\n",
        "\n",
        "print(sqrt(25))\n",
        "print(pi)"
      ]
    },
    {
      "cell_type": "markdown",
      "metadata": {},
      "source": [
        "### Создание собственного модуля\n",
        "\n",
        "Создай файл `my_module.py` со следующим содержанием:\n",
        "```python\n",
        "def greet(name):\n",
        "    return f\"Привет, {name}!\"\n",
        "\n",
        "def square(number):\n",
        "    return number ** 2\n",
        "```\n",
        "\n",
        "Используй его в другом файле:"
      ]
    },
    {
      "cell_type": "code",
      "execution_count": null,
      "metadata": {},
      "outputs": [],
      "source": [
        "import my_module\n",
        "\n",
        "print(my_module.greet(\"Маша\"))\n",
        "print(my_module.square(5))"
      ]
    },
    {
      "cell_type": "markdown",
      "metadata": {},
      "source": [
        "### Установка внешних библиотек\n",
        "\n",
        "Чтобы установить библиотеку, используй команду:\n",
        "```bash\n",
        "pip install requests\n",
        "```\n",
        "\n",
        "Пример использования:"
      ]
    },
    {
      "cell_type": "code",
      "execution_count": null,
      "metadata": {},
      "outputs": [],
      "source": [
        "import requests\n",
        "\n",
        "response = requests.get(\"https://api.github.com \")\n",
        "print(response.status_code)"
      ]
    },
    {
      "cell_type": "markdown",
      "metadata": {},
      "source": [
        "### 🧪 Практика: Работа с модулями"
      ]
    },
    {
      "cell_type": "markdown",
      "metadata": {},
      "source": [
        "1. Импортируйте модуль `random`, напишите функцию, возвращающую случайное число от 1 до 10"
      ]
    },
    {
      "cell_type": "code",
      "execution_count": null,
      "metadata": {},
      "outputs": [],
      "source": [
        "# Реализуйте здесь"
      ]
    },
    {
      "cell_type": "markdown",
      "metadata": {},
      "source": [
        "2. Создайте свой модуль с функцией, которая считает среднее арифметическое списка чисел"
      ]
    },
    {
      "cell_type": "code",
      "execution_count": null,
      "metadata": {},
      "outputs": [],
      "source": [
        "# Реализуйте здесь"
      ]
    },
    {
      "cell_type": "markdown",
      "metadata": {},
      "source": [
        "3. Используйте модуль `datetime` для вывода текущей даты и времени"
      ]
    },
    {
      "cell_type": "code",
      "execution_count": null,
      "metadata": {},
      "outputs": [],
      "source": [
        "# Реализуйте здесь"
      ]
    },
    {
      "cell_type": "markdown",
      "metadata": {},
      "source": [
        "## 🎯 Мини-практика"
      ]
    },
    {
      "cell_type": "markdown",
      "metadata": {},
      "source": [
        "1. Функция, возвращающая сумму двух чисел"
      ]
    },
    {
      "cell_type": "code",
      "execution_count": null,
      "metadata": {},
      "outputs": [],
      "source": [
        "# Реализуйте здесь"
      ]
    },
    {
      "cell_type": "markdown",
      "metadata": {},
      "source": [
        "2. Функция, преобразующая строку в верхний регистр"
      ]
    },
    {
      "cell_type": "code",
      "execution_count": null,
      "metadata": {},
      "outputs": [],
      "source": [
        "# Реализуйте здесь"
      ]
    },
    {
      "cell_type": "markdown",
      "metadata": {},
      "source": [
        "3. Случайное число от 1 до 100"
      ]
    },
    {
      "cell_type": "code",
      "execution_count": null,
      "metadata": {},
      "outputs": [],
      "source": [
        "# Реализуйте здесь"
      ]
    },
    {
      "cell_type": "markdown",
      "metadata": {},
      "source": [
        "4. Функция проверки простого числа"
      ]
    },
    {
      "cell_type": "code",
      "execution_count": null,
      "metadata": {},
      "outputs": [],
      "source": [
        "# Реализуйте здесь"
      ]
    },
    {
      "cell_type": "markdown",
      "metadata": {},
      "source": [
        "## 🏠 Домашнее задание"
      ]
    },
    {
      "cell_type": "markdown",
      "metadata": {},
      "source": [
        "1. Функция, запрашивающая имя и возраст, возвращающая сообщение с прогнозом через 5 лет"
      ]
    },
    {
      "cell_type": "code",
      "execution_count": null,
      "metadata": {},
      "outputs": [],
      "source": [
        "# Реализуйте здесь"
      ]
    },
    {
      "cell_type": "markdown",
      "metadata": {},
      "source": [
        "2. Функция, принимающая список чисел и возвращающая суммы, максимума и минимума"
      ]
    },
    {
      "cell_type": "code",
      "execution_count": null,
      "metadata": {},
      "outputs": [],
      "source": [
        "# Реализуйте здесь"
      ]
    },
    {
      "cell_type": "markdown",
      "metadata": {},
      "source": [
        "3. Функция, считающая количество гласных букв в строке"
      ]
    },
    {
      "cell_type": "code",
      "execution_count": null,
      "metadata": {},
      "outputs": [],
      "source": [
        "# Реализуйте здесь"
      ]
    },
    {
      "cell_type": "markdown",
      "metadata": {},
      "source": [
        "4. (Опционально) Создать модуль с этими функциями и импортировать его"
      ]
    },
    {
      "cell_type": "code",
      "execution_count": null,
      "metadata": {},
      "outputs": [],
      "source": [
        "# Реализуйте здесь"
      ]
    },
    {
      "cell_type": "markdown",
      "metadata": {},
      "source": [
        "5. (Опционально) Факториал числа"
      ]
    },
    {
      "cell_type": "code",
      "execution_count": null,
      "metadata": {},
      "outputs": [],
      "source": [
        "# Реализуйте здесь"
      ]
    }
  ],
  "metadata": {
    "kernelspec": {
      "display_name": "Python 3",
      "language": "python",
      "name": "python3"
    },
    "language_info": {
      "codemirror_mode": {
        "name": "ipython",
        "version": 3
      },
      "file_extension": ".py",
      "mimetype": "text/x-python",
      "name": "python",
      "nbconvert_exporter": "python",
      "pygments_lexer": "ipython3",
      "version": "3.8"
    }
  },
  "nbformat": 4,
  "nbformat_minor": 5
}