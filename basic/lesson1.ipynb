{
  "cells": [
    {
      "cell_type": "markdown",
      "id": "7169c82f",
      "metadata": {},
      "source": [
        "# 🧠 Урок 1: Введение в Python\n",
        "\n",
        "**Цель урока:**\n",
        "- Научиться устанавливать Python и настраивать среду разработки.\n",
        "- Познакомиться с базовыми типами данных, переменными, операторами.\n",
        "- Освоить работу со строками, списками и словарями.\n",
        "- Выполнить практические задания для закрепления материала.\n",
        "\n",
        "**Почему Python?**  \n",
        "Python — это один из самых популярных языков программирования благодаря своей простоте и читаемости. Его используют для создания сайтов (например, YouTube), анализа данных (например, в банковской аналитике), автоматизации задач (например, отправка писем) и даже в искусственном интеллекте. Простота синтаксиса делает Python идеальным для начинающих. Представьте, что вы пишете инструкции для робота, который понимает только простые команды — Python позволяет делать это максимально понятно."
      ]
    },
    {
      "cell_type": "markdown",
      "id": "027d77f7",
      "metadata": {},
      "source": [
        "## ⚙️ 1. Установка Python (Для локальной разработки, сейчас не обязательно)"
      ]
    },
    {
      "cell_type": "markdown",
      "id": "44f91f11",
      "metadata": {},
      "source": [
        "### Шаги по установке:\n",
        "1. Перейди на [официальный сайт Python](https://www.python.org/)\n",
        "2. Скачай последнюю версию Python для своей ОС (Windows, macOS, Linux)\n",
        "3. Во время установки обязательно отметь галочку **Add Python to PATH**\n",
        "4. Нажми **Install Now**\n",
        "\n",
        "**Заметка для новичков:** Если вы не хотите устанавливать Python локально, попробуйте онлайн-платформы, такие как Google Colab или Repl.it. Они позволяют писать и запускать код прямо в браузере без установки."
      ]
    },
    {
      "cell_type": "markdown",
      "id": "dd8b1848",
      "metadata": {},
      "source": [
        "### Почему важно добавить Python в PATH?\n",
        "Когда вы ставите галочку **Add Python to PATH**, система знает, где искать интерпретатор Python при запуске программ через терминал. Это позволяет просто писать `python`, а не указывать полный путь каждый раз. Представьте, что PATH — это как список контактов в вашем телефоне: если Python в нем, вы можете \"позвонить\" ему по короткому имени."
      ]
    },
    {
      "cell_type": "markdown",
      "id": "1bca7f98",
      "metadata": {},
      "source": [
        "### Как проверить установку:\n",
        "Открой терминал или командную строку и выполни:\n",
        "```bash\n",
        "python --version\n",
        "```\n",
        "или на Mac/Linux:\n",
        "```bash\n",
        "python3 --version\n",
        "```\n",
        "Ожидаемый вывод:\n",
        "```\n",
        "Python 3.*.*\n",
        "```\n",
        "**Пример из жизни:** Это как проверить версию приложения на вашем телефоне, чтобы убедиться, что оно работает."
      ]
    },
    {
      "cell_type": "markdown",
      "id": "d40f5ee1",
      "metadata": {},
      "source": [
        "### 💡 Советы:\n",
        "- Если команда `python` не работает, попробуйте `python3`.\n",
        "- Для Windows: используйте PowerShell или Command Prompt.\n",
        "- Для Linux/macOS: терминал уже установлен.\n",
        "- Если возникли проблемы, проверьте, добавлен ли Python в PATH, или используйте онлайн-среду, например, Google Colab."
      ]
    },
    {
      "cell_type": "markdown",
      "id": "cd89dfbe",
      "metadata": {},
      "source": [
        "## 🖥️ 2. Настройка IDE (среды разработки), (Для локальной разработки, сейчас не обязательно)"
      ]
    },
    {
      "cell_type": "markdown",
      "id": "806e38f0",
      "metadata": {},
      "source": [
        "### Рекомендуемые IDE:\n",
        "- **VS Code** — легковесная и мощная среда с плагинами для Python. Подходит для всех уровней.\n",
        "- **PyCharm Community Edition** — полноценная IDE от JetBrains, с продвинутыми функциями, такими как автодополнение кода.\n",
        "- **Thonny** — идеально подходит для начинающих благодаря простоте интерфейса.\n",
        "\n",
        "#### Установка VS Code:\n",
        "1. Зайди на [https://code.visualstudio.com/](https://code.visualstudio.com/)\n",
        "2. Скачай и установи редактор\n",
        "3. Установи расширение Python через меню Extensions\n",
        "4. Создай файл `hello.py` и напиши:\n",
        "```python\n",
        "print(\"Hello, World!\")\n",
        "```\n",
        "Запусти его командой:\n",
        "```bash\n",
        "python hello.py\n",
        "```\n",
        "**Пример из жизни:** Представьте, что IDE — это ваша кухня для программирования. VS Code — это универсальный набор инструментов, а Thonny — простая микроволновка для быстрого старта."
      ]
    },
    {
      "cell_type": "markdown",
      "id": "0676c9f2",
      "metadata": {},
      "source": [
        "### 📌 Почему именно VS Code?\n",
        "- Бесплатная и кроссплатформенная.\n",
        "- Поддерживает почти все языки программирования.\n",
        "- Интеграция с Git, терминалом, Jupyter Notebooks.\n",
        "- Множество бесплатных тем и расширений.\n",
        "- Легко настраивается для работы с Python, включая автодополнение и проверку ошибок."
      ]
    },
    {
      "cell_type": "markdown",
      "id": "498dd525",
      "metadata": {},
      "source": [
        "## 🧮 3. Основы синтаксиса Python"
      ]
    },
    {
      "cell_type": "markdown",
      "id": "72ff062a",
      "metadata": {},
      "source": [
        "### Переменные и типы данных\n",
        "\n",
        "Переменные — это как коробки, в которые вы кладете данные. Например, вы можете сохранить имя человека или его возраст. В Python не нужно указывать тип переменной при объявлении — он определяется автоматически (это называется **динамическая типизация**). Например, `x = 5` делает `x` целым числом, а `x = 'пять'` превращает его в строку."
      ]
    },
    {
      "cell_type": "code",
      "execution_count": null,
      "id": "69e42f34",
      "metadata": {},
      "outputs": [],
      "source": [
        "# Целое число (для количества, например, людей)\n",
        "a = 5\n",
        "\n",
        "# Число с плавающей точкой (для цен или измерений)\n",
        "b = 3.14\n",
        "\n",
        "# Строка (для текста, например, имени)\n",
        "name = \"Alice\"\n",
        "\n",
        "# Логический тип (для условий, например, включен/выключен)\n",
        "is_active = True"
      ]
    },
    {
      "cell_type": "markdown",
      "id": "1d6c80e7",
      "metadata": {},
      "source": [
        "### Типы данных подробно:\n",
        "| Тип   | Описание                                      | Пример из жизни         | Пример кода          |\n",
        "|-------|-----------------------------------------------|-------------------------|----------------------|\n",
        "| int   | Целое число, без десятичной точки             | Количество яблок        | `5`, `-10`           |\n",
        "| float | Число с запятой, для точных расчетов          | Цена за килограмм       | `3.14`, `-0.001`     |\n",
        "| str   | Строка, текст в кавычках                      | Имя или сообщение       | `'Hello'`, `\"a\"`     |\n",
        "| bool  | Истина или ложь, для логических операций      | Включен ли свет         | `True`, `False`      |\n",
        "\n",
        "Чтобы узнать тип переменной, используй функцию `type()`:"
      ]
    },
    {
      "cell_type": "code",
      "execution_count": null,
      "id": "6f0af1ff",
      "metadata": {},
      "outputs": [],
      "source": [
        "print(type(name))  # <class 'str'> — строка\n",
        "print(type(a))     # <class 'int'> — целое число"
      ]
    },
    {
      "cell_type": "markdown",
      "id": "7c983abb",
      "metadata": {},
      "source": [
        "### Арифметические операции\n",
        "Python поддерживает базовые математические операции, которые используются, например, для подсчета бюджета или площади комнаты."
      ]
    },
    {
      "cell_type": "code",
      "execution_count": null,
      "id": "bad538f7",
      "metadata": {},
      "outputs": [],
      "source": [
        "x = 10\n",
        "y = 3\n",
        "print(x + y)   # Сложение: 13 (например, сумма покупок)\n",
        "print(x - y)   # Вычитание: 7 (например, остаток денег)\n",
        "print(x * y)   # Умножение: 30 (например, площадь комнаты)\n",
        "print(x / y)   # Деление: 3.3333333333333335 (например, средний балл)\n",
        "print(x // y)  # Целочисленное деление: 3 (например, количество полных коробок)\n",
        "print(x % y)   # Остаток от деления: 1 (например, остаток при делении конфет)\n",
        "print(x ** y)  # Возведение в степень: 1000 (например, объем куба)"
      ]
    },
    {
      "cell_type": "markdown",
      "id": "81b04186",
      "metadata": {},
      "source": [
        "### 🧠 Объяснение операций:\n",
        "- `/` — деление всегда даёт `float`, даже если делится нацело (10 / 2 = 5.0).\n",
        "- `//` — целочисленное деление, возвращает только целую часть.\n",
        "- `%` — остаток от деления (полезно для проверки чётности, например, `x % 2 == 0` проверяет, четное ли число).\n",
        "- `**` — возведение в степень (например, `2 ** 3` = 8, как объем куба со стороной 2).\n",
        "\n",
        "**Пример из жизни:** Если у вас 10 конфет, и вы делите их поровну между 3 детьми, то `10 // 3` покажет, что каждый получит по 3 конфеты, а `10 % 3` покажет, что останется 1 конфета."
      ]
    },
    {
      "cell_type": "markdown",
      "id": "03b2a0d8",
      "metadata": {},
      "source": [
        "### Операторы сравнения и логики\n",
        "Операторы сравнения проверяют отношения между значениями, а логические операторы комбинируют условия."
      ]
    },
    {
      "cell_type": "code",
      "execution_count": null,
      "id": "8ef6a4e5",
      "metadata": {},
      "outputs": [],
      "source": [
        "x = 10\n",
        "y = 3\n",
        "print(x > y)    # True (10 больше 3?)\n",
        "print(x == y)   # False (10 равно 3?)\n",
        "print(x != y)   # True (10 не равно 3?)\n",
        "print(x > 5 and y < 5) # False (оба условия должны быть истинными)"
      ]
    },
    {
      "cell_type": "markdown",
      "id": "43d25ac6",
      "metadata": {},
      "source": [
        "### 📌 Список операторов:\n",
        "- **Сравнение:** `>` (больше), `<` (меньше), `>=` (больше или равно), `<=` (меньше или равно), `==` (равно), `!=` (не равно).\n",
        "- **Логика:** \n",
        "  - `and` — истинно, если оба условия истинны (например, температура > 20 и < 30).\n",
        "  - `or` — истинно, если хотя бы одно условие истинно.\n",
        "  - `not` — инвертирует значение (например, `not True` → `False`).\n",
        "\n",
        "**Таблица истинности для `and`:**\n",
        "| A     | B     | A and B |\n",
        "|-------|-------|---------|\n",
        "| True  | True  | True    |\n",
        "| True  | False | False   |\n",
        "| False | True  | False   |\n",
        "| False | False | False   |\n",
        "\n",
        "**Приоритет операций:** Сначала `not`, затем `and`, затем `or`. Чтобы не запутаться — используй скобки! Например, `(x > 5) and (y < 5)`.\n",
        "\n",
        "**Пример из жизни:** Если вы проверяете, можно ли пойти гулять (температура > 15 и нет дождя), используйте `and`."
      ]
    },
    {
      "cell_type": "markdown",
      "id": "3ee0f4f0",
      "metadata": {},
      "source": [
        "## 📝 4. Работа со строками, списками и словарями"
      ]
    },
    {
      "cell_type": "markdown",
      "id": "b6259b27",
      "metadata": {},
      "source": [
        "### Строки\n",
        "Строки — это последовательности символов, как текст в сообщении. Они **неизменяемы**, то есть вы не можете изменить отдельную букву, только создать новую строку."
      ]
    },
    {
      "cell_type": "code",
      "execution_count": null,
      "id": "cfe77c51",
      "metadata": {},
      "outputs": [],
      "source": [
        "greeting = \"Hello, world!\"\n",
        "print(greeting.lower())  # hello, world! (приведение к нижнему регистру)\n",
        "print(greeting.upper())  # HELLO, WORLD! (приведение к верхнему регистру)\n",
        "print(greeting[0])       # H (первый символ)\n",
        "print(greeting[0:5])     # Hello (срез от 0 до 4)"
      ]
    },
    {
      "cell_type": "markdown",
      "id": "a720e573",
      "metadata": {},
      "source": [
        "### 🔄 Индексация и срезы:\n",
        "- `s[i]` — получить символ на позиции `i` (нумерация начинается с 0).\n",
        "- `s[a:b]` — получить часть строки от `a` до `b-1`.\n",
        "- `s[-1]` — последний символ.\n",
        "- **Другие методы:**\n",
        "  - `strip()` — убирает пробелы в начале и конце (например, очистка имени).\n",
        "  - `replace(old, new)` — заменяет подстроку (например, заменить 'Hello' на 'Hi').\n",
        "  - `split()` — разделяет строку на список (например, по пробелам).\n",
        "  - `join()` — соединяет список в строку (например, `', '.join(['a', 'b'])` → 'a, b').\n",
        "\n",
        "**Пример из жизни:** Если пользователь ввел имя с пробелами, например, '  Иван  ', используйте `strip()` для получения 'Иван'."
      ]
    },
    {
      "cell_type": "markdown",
      "id": "f8b1c681",
      "metadata": {},
      "source": [
        "### Форматирование строк\n",
        "F-строки позволяют легко вставлять переменные в текст."
      ]
    },
    {
      "cell_type": "code",
      "execution_count": null,
      "id": "1be6944c",
      "metadata": {},
      "outputs": [],
      "source": [
        "name = \"Bob\"\n",
        "age = 25\n",
        "print(f\"My name is {name} and I'm {age} years old.\")  # My name is Bob and I'm 25 years old."
      ]
    },
    {
      "cell_type": "markdown",
      "id": "35fcd41f",
      "metadata": {},
      "source": [
        "### 📦 Почему f-строки удобны?\n",
        "- Не нужно использовать `.format()`.\n",
        "- Можно вставлять выражения прямо в строку, например, `f'Сумма: {2 + 3}'`.\n",
        "- Простота чтения кода.\n",
        "\n",
        "**Пример из жизни:** F-строки полезны для создания сообщений, например, 'Ваш заказ на 500 рублей принят'."
      ]
    },
    {
      "cell_type": "markdown",
      "id": "7f2a6189",
      "metadata": {},
      "source": [
        "### Списки\n",
        "Списки — это упорядоченные и изменяемые коллекции, как список покупок."
      ]
    },
    {
      "cell_type": "code",
      "execution_count": null,
      "id": "00987943",
      "metadata": {},
      "outputs": [],
      "source": [
        "fruits = [\"apple\", \"banana\", \"cherry\"]\n",
        "print(fruits[1])           # banana (второй элемент)\n",
        "fruits.append(\"orange\")  # добавление элемента\n",
        "fruits.remove(\"apple\")   # удаление элемента\n",
        "print(len(fruits))         # количество элементов: 3"
      ]
    },
    {
      "cell_type": "markdown",
      "id": "3b029bc6",
      "metadata": {},
      "source": [
        "### 🧩 Методы списков:\n",
        "- `.append(item)` — добавляет в конец.\n",
        "- `.remove(item)` — удаляет первый найденный элемент.\n",
        "- `.insert(i, x)` — вставляет `x` на позицию `i`.\n",
        "- `.sort()` — сортирует список (например, `[3, 1, 2].sort()` → `[1, 2, 3]`).\n",
        "- Срезы: `fruits[1:3]` — часть списка, например, `['banana', 'cherry']`.\n",
        "\n",
        "**Пример из жизни:** Список покупок можно обновлять, добавляя новые продукты (`append`) или удаляя купленные (`remove`)."
      ]
    },
    {
      "cell_type": "markdown",
      "id": "7421bd44",
      "metadata": {},
      "source": [
        "### Словари\n",
        "Словари — это пары 'ключ-значение', как телефонная книга, где по имени (ключ) находите номер (значение)."
      ]
    },
    {
      "cell_type": "code",
      "execution_count": null,
      "id": "5d07dce9",
      "metadata": {},
      "outputs": [],
      "source": [
        "person = {\n",
        "    \"name\": \"Alice\",\n",
        "    \"age\": 30,\n",
        "    \"city\": \"New York\"\n",
        "}\n",
        "print(person[\"name\"])     # Alice\n",
        "person[\"age\"] = 31        # Изменение значения\n",
        "person[\"email\"] = \"alice@example.com\"  # Добавление нового ключа\n",
        "print(person.keys())       # dict_keys(['name', 'age', 'city', 'email'])\n",
        "print(person.values())     # dict_values(['Alice', 31, 'New York', 'alice@example.com'])"
      ]
    },
    {
      "cell_type": "markdown",
      "id": "f1fec29b",
      "metadata": {},
      "source": [
        "### 🧾 Особенности словарей:\n",
        "- Ключи должны быть уникальными и неизменяемыми (например, строки, числа).\n",
        "- Значения могут быть любого типа (числа, строки, списки).\n",
        "- Словари позволяют быстро находить информацию по ключу.\n",
        "- Метод `get(key, default)` безопасно возвращает значение или `default`, если ключа нет.\n",
        "\n",
        "**Пример из жизни:** Словари удобны для хранения информации о человеке, например, имя, возраст, город, где по ключу 'имя' вы сразу находите 'Алиса'."
      ]
    },
    {
      "cell_type": "markdown",
      "id": "9ed6c092",
      "metadata": {},
      "source": [
        "## 💪 Практическая часть"
      ]
    },
    {
      "cell_type": "markdown",
      "id": "6b106f39",
      "metadata": {},
      "source": [
        "### Задание 1: Приветствие пользователя"
      ]
    },
    {
      "cell_type": "code",
      "execution_count": null,
      "id": "6fb725cf",
      "metadata": {},
      "outputs": [],
      "source": [
        "# Напишите программу, которая запрашивает имя и возраст человека. (Используй input())\n",
        "# и выводит сообщение: \"Привет, {имя}! Тебе {возраст} лет.\"\n",
        "\n",
        "# Решение:\n",
        "name = input(\"Введите ваше имя: \")\n",
        "age = input(\"Введите ваш возраст: \")\n",
        "print(f\"Привет, {name}! Тебе {age} лет.\")\n",
        "# Заметка: input() возвращает строку, поэтому возраст остается строкой."
      ]
    },
    {
      "cell_type": "markdown",
      "id": "5e5cbbe8",
      "metadata": {},
      "source": [
        "### Задание 2: Изучение словаря"
      ]
    },
    {
      "cell_type": "code",
      "execution_count": null,
      "id": "fd026622",
      "metadata": {},
      "outputs": [],
      "source": [
        "d = {'name': \"Nikita\", 'age': \"26\"}\n",
        "# Выведите на экран имя и возраст пользователя в словаре d\n",
        "\n",
        "# Решение:\n",
        "print(d['name'])  # Nikita\n",
        "print(d['age'])   # 26"
      ]
    },
    {
      "cell_type": "markdown",
      "id": "718da2dd",
      "metadata": {},
      "source": [
        "### Задание 3: Добавление новых данных"
      ]
    },
    {
      "cell_type": "code",
      "execution_count": null,
      "id": "555d004d",
      "metadata": {},
      "outputs": [],
      "source": [
        "# Добавьте новый ключ 'hobby' co значением \"football\" в словарь d из задания №2.\n",
        "\n",
        "# Решение:\n",
        "d['hobby'] = 'football'\n",
        "print(d)  # {'name': 'Nikita', 'age': '26', 'hobby': 'football'}"
      ]
    },
    {
      "cell_type": "markdown",
      "id": "edb50761",
      "metadata": {},
      "source": [
        "### Задание 4: Квадрат числа"
      ]
    },
    {
      "cell_type": "code",
      "execution_count": null,
      "id": "b5da97e2",
      "metadata": {},
      "outputs": [],
      "source": [
        "# Напишите программу, которая запрашивает число и выводит его квадрат\n",
        "# Подсказка: используй input()\n",
        "\n",
        "# Решение:\n",
        "number = int(input(\"Введите число: \"))  # Преобразуем строку в число\n",
        "square = number ** 2\n",
        "print(f\"Квадрат числа {number} равен {square}\")"
      ]
    },
    {
      "cell_type": "markdown",
      "id": "d6e899ef",
      "metadata": {},
      "source": [
        "## 🏠 Домашнее задание"
      ]
    },
    {
      "cell_type": "markdown",
      "id": "df2d0174",
      "metadata": {},
      "source": [
        "1. Установите Python и IDE, если ещё не сделали. Попробуйте запустить `hello.py` с кодом `print('Hello, World!')`."
      ]
    },
    {
      "cell_type": "markdown",
      "id": "86773ec8",
      "metadata": {},
      "source": [
        "2. Создайте следующие переменные:\n",
        "- `age`: целое число (int), например, 25\n",
        "- `price`: число с плавающей точкой (float), например, 19.99\n",
        "- `greeting`: строка (str), например, 'Привет'\n",
        "- `person`: словарь (dict) с ключами 'name' и 'age', например, {'name': 'Иван', 'age': 30}\n",
        "- `items`: список (list) с несколькими элементами, например, ['яблоко', 'банан']\n",
        "\n",
        "Выведите тип каждой переменной с помощью `print(type(название_переменной))`.\n",
        "\n",
        "**Ожидаемый результат:** В консоли должны появиться типы `<class 'int'>`, `<class 'float'>`, `<class 'str'>`, `<class 'dict'>`, `<class 'list'>`."
      ]
    },
    {
      "cell_type": "code",
      "execution_count": null,
      "id": "ad4571ee",
      "metadata": {},
      "outputs": [],
      "source": [
        "# Ваш код здесь\n"
      ]
    },
    {
      "cell_type": "code",
      "execution_count": null,
      "id": "2d63372c",
      "metadata": {},
      "outputs": [],
      "source": [
        "# Проверка задания 2\n",
        "try:\n",
        "    assert 'age' in globals(), \"Переменная age не определена\"\n",
        "    assert isinstance(age, int), \"age должно быть целым числом\"\n",
        "    assert 'price' in globals(), \"Переменная price не определена\"\n",
        "    assert isinstance(price, float), \"price должно быть числом с плавающей точкой\"\n",
        "    assert 'greeting' in globals(), \"Переменная greeting не определена\"\n",
        "    assert isinstance(greeting, str), \"greeting должно быть строкой\"\n",
        "    assert 'person' in globals(), \"Переменная person не определена\"\n",
        "    assert isinstance(person, dict), \"person должно быть словарем\"\n",
        "    assert 'items' in globals(), \"Переменная items не определена\"\n",
        "    assert isinstance(items, list), \"items должно быть списком\"\n",
        "    print(\"Задание 2 выполнено правильно! Все переменные определены с правильными типами.\")\n",
        "except AssertionError as e:\n",
        "    print(f\"Ошибка: {e}\")\n"
      ]
    },
    {
      "cell_type": "markdown",
      "id": "9424cfce",
      "metadata": {},
      "source": [
        "<details><summary>Решение задания 2 (нажмите, чтобы посмотреть)</summary>\n",
        "\n",
        "```python\n",
        "age = 25\n",
        "price = 19.99\n",
        "greeting = 'Привет'\n",
        "person = {'name': 'Иван', 'age': 30}\n",
        "items = ['яблоко', 'банан']\n",
        "print(type(age))      # <class 'int'>\n",
        "print(type(price))    # <class 'float'>\n",
        "print(type(greeting)) # <class 'str'>\n",
        "print(type(person))   # <class 'dict'>\n",
        "print(type(items))    # <class 'list'>\n",
        "```\n",
        "</details>"
      ]
    },
    {
      "cell_type": "markdown",
      "id": "9fe5c446",
      "metadata": {},
      "source": [
        "3. Напишите функцию `greet_user(name, salary)`, которая принимает имя (строка) и зарплату (число) и возвращает строку в формате: 'Имя: {name}, Зарплата: {salary}'.\n",
        "\n",
        "**Ожидаемый результат:** Например, для `name='Alice'` и `salary=50000` функция должна вернуть `'Имя: Alice, Зарплата: 50000'`."
      ]
    },
    {
      "cell_type": "code",
      "execution_count": null,
      "id": "41f507e4",
      "metadata": {},
      "outputs": [],
      "source": [
        "# Ваш код здесь\n"
      ]
    },
    {
      "cell_type": "code",
      "execution_count": null,
      "id": "dcff8d2e",
      "metadata": {},
      "outputs": [],
      "source": [
        "# Проверка задания 3\n",
        "try:\n",
        "    assert 'greet_user' in globals(), \"Функция greet_user не определена\"\n",
        "    assert callable(greet_user), \"greet_user должна быть функцией\"\n",
        "    assert greet_user('Alice', 50000) == 'Имя: Alice, Зарплата: 50000', \"Функция возвращает неверный результат\"\n",
        "    assert greet_user('Bob', 1000) == 'Имя: Bob, Зарплата: 1000', \"Функция возвращает неверный результат\"\n",
        "    print(\"Задание 3 выполнено правильно! Функция greet_user работает как ожидалось.\")\n",
        "except AssertionError as e:\n",
        "    print(f\"Ошибка: {e}\")\n"
      ]
    },
    {
      "cell_type": "markdown",
      "id": "8d1b3be2",
      "metadata": {},
      "source": [
        "<details><summary>Решение задания 3 (нажмите, чтобы посмотреть)</summary>\n",
        "\n",
        "```python\n",
        "def greet_user(name, salary):\n",
        "    return f'Имя: {name}, Зарплата: {salary}'\n",
        "```\n",
        "</details>"
      ]
    },
    {
      "cell_type": "markdown",
      "id": "276dcafe",
      "metadata": {},
      "source": [
        "4. Создайте список `my_list` с элементами `'a', 'b', 'c'` и словарь `my_dict` с элементами `'a': 1, 'b': 2, 'c': 3`. Выведите их на экран с помощью `print()`.\n",
        "\n",
        "**Ожидаемый результат:** В консоли должны появиться `['a', 'b', 'c']` и `{'a': 1, 'b': 2, 'c': 3}`."
      ]
    },
    {
      "cell_type": "code",
      "execution_count": null,
      "id": "46645c46",
      "metadata": {},
      "outputs": [],
      "source": [
        "# Ваш код здесь\n"
      ]
    },
    {
      "cell_type": "code",
      "execution_count": null,
      "id": "aabf4d2f",
      "metadata": {},
      "outputs": [],
      "source": [
        "# Проверка задания 4\n",
        "try:\n",
        "    assert 'my_list' in globals(), \"Переменная my_list не определена\"\n",
        "    assert my_list == ['a', 'b', 'c'], \"my_list содержит неверные элементы\"\n",
        "    assert 'my_dict' in globals(), \"Переменная my_dict не определена\"\n",
        "    assert my_dict == {'a': 1, 'b': 2, 'c': 3}, \"my_dict содержит неверные элементы\"\n",
        "    print(\"Задание 4 выполнено правильно! Список и словарь созданы корректно.\")\n",
        "except AssertionError as e:\n",
        "    print(f\"Ошибка: {e}\")\n"
      ]
    },
    {
      "cell_type": "markdown",
      "id": "49c89473",
      "metadata": {},
      "source": [
        "<details><summary>Решение задания 4 (нажмите, чтобы посмотреть)</summary>\n",
        "\n",
        "```python\n",
        "my_list = ['a', 'b', 'c']\n",
        "my_dict = {'a': 1, 'b': 2, 'c': 3}\n",
        "print(my_list)\n",
        "print(my_dict)\n",
        "```\n",
        "</details>"
      ]
    },
    {
      "cell_type": "markdown",
      "id": "1a70e6ea",
      "metadata": {},
      "source": [
        "5. Используя `my_list` и `my_dict` из задания 4, добавьте элемент `'d'` в список и новый элемент `'d': 4` в словарь. Выведите обновленные `my_list` и `my_dict`.\n",
        "\n",
        "**Ожидаемый результат:** В консоли должны появиться `['a', 'b', 'c', 'd']` и `{'a': 1, 'b': 2, 'c': 3, 'd': 4}`."
      ]
    },
    {
      "cell_type": "code",
      "execution_count": null,
      "id": "a76bef3unofficial",
      "metadata": {},
      "outputs": [],
      "source": [
        "# Ваш код здесь\n"
      ]
    },
    {
      "cell_type": "code",
      "execution_count": null,
      "id": "3dfaa2ad",
      "metadata": {},
      "outputs": [],
      "source": [
        "# Проверка задания 5\n",
        "try:\n",
        "    assert 'my_list' in globals(), \"Переменная my_list не определена\"\n",
        "    assert 'my_dict' in globals(), \"Переменная my_dict не определена\"\n",
        "    assert 'd' in my_list, \"'d' не добавлен в my_list\"\n",
        "    assert my_list == ['a', 'b', 'c', 'd'], \"my_list содержит неверные элементы\"\n",
        "    assert 'd' in my_dict and my_dict['d'] == 4, \"'d': 4 не добавлен в my_dict\"\n",
        "    assert my_dict == {'a': 1, 'b': 2, 'c': 3, 'd': 4}, \"my_dict содержит неверные элементы\"\n",
        "    print(\"Задание 5 выполнено правильно! Список и словарь обновлены корректно.\")\n",
        "except AssertionError as e:\n",
        "    print(f\"Ошибка: {e}\")\n"
      ]
    },
    {
      "cell_type": "markdown",
      "id": "bf485204",
      "metadata": {},
      "source": [
        "<details><summary>Решение задания 5 (нажмите, чтобы посмотреть)</summary>\n",
        "\n",
        "```python\n",
        "my_list = ['a', 'b', 'c']\n",
        "my_dict = {'a': 1, 'b': 2, 'c': 3}\n",
        "my_list.append('d')\n",
        "my_dict['d'] = 4\n",
        "print(my_list)\n",
        "print(my_dict)\n",
        "```\n",
        "</details>"
      ]
    },
    {
      "cell_type": "markdown",
      "id": "0c55e7ec",
      "metadata": {},
      "source": [
        "6. Создайте переменную `num` со значением 10 (тип int). Преобразуйте её в строку (`num_str`), затем обратно в число (`num_back`). Выведите значения и их типы с помощью `print()`.\n",
        "\n",
        "**Ожидаемый результат:** В консоли должны появиться `10`, `'10'`, `10`, а типы: `<class 'int'>`, `<class 'str'>`, `<class 'int'>`."
      ]
    },
    {
      "cell_type": "code",
      "execution_count": null,
      "id": "9ddb977e",
      "metadata": {},
      "outputs": [],
      "source": [
        "# Ваш код здесь\n"
      ]
    },
    {
      "cell_type": "code",
      "execution_count": null,
      "id": "34cbb261",
      "metadata": {},
      "outputs": [],
      "source": [
        "# Проверка задания 6\n",
        "try:\n",
        "    assert 'num' in globals(), \"Переменная num не определена\"\n",
        "    assert num == 10, \"num должно быть равно 10\"\n",
        "    assert isinstance(num, int), \"num должно быть целым числом\"\n",
        "    assert 'num_str' in globals(), \"Переменная num_str не определена\"\n",
        "    assert num_str == \"10\", \"num_str должно быть строкой '10'\"\n",
        "    assert isinstance(num_str, str), \"num_str должно быть строкой\"\n",
        "    assert 'num_back' in globals(), \"Переменная num_back не определена\"\n",
        "    assert num_back == 10, \"num_back должно быть равно 10\"\n",
        "    assert isinstance(num_back, int), \"num_back должно быть целым числом\"\n",
        "    print(\"Задание 6 выполнено правильно! Все преобразования корректны.\")\n",
        "except AssertionError as e:\n",
        "    print(f\"Ошибка: {e}\")\n"
      ]
    },
    {
      "cell_type": "markdown",
      "id": "0181eebd",
      "metadata": {},
      "source": [
        "<details><summary>Решение задания 6 (нажмите, чтобы посмотреть)</summary>\n",
        "\n",
        "```python\n",
        "num = 10\n",
        "num_str = str(num)\n",
        "num_back = int(num_str)\n",
        "print(num, type(num))\n",
        "print(num_str, type(num_str))\n",
        "print(num_back, type(num_back))\n",
        "```\n",
        "</details>"
      ]
    },
    {
      "cell_type": "markdown",
      "id": "a5056911",
      "metadata": {},
      "source": [
        "7. Напишите функцию `calculate(a, b)`, которая принимает два числа и возвращает словарь с ключами 'sum', 'diff', 'prod', 'div', где значения — это сумма, разность, произведение и частное чисел `a` и `b`. Если деление невозможно (b=0), значение для 'div' должно быть строкой 'Деление на ноль'.\n",
        "\n",
        "**Ожидаемый результат:** Для `a=10`, `b=5` функция должна вернуть `{'sum': 15, 'diff': 5, 'prod': 50, 'div': 2.0}`."
      ]
    },
    {
      "cell_type": "code",
      "execution_count": null,
      "id": "a5056911",
      "metadata": {},
      "outputs": [],
      "source": [
        "# Ваш код здесь\n"
      ]
    },
    {
      "cell_type": "code",
      "execution_count": null,
      "id": "855caa05",
      "metadata": {},
      "outputs": [],
      "source": [
        "# Проверка задания 7\n",
        "try:\n",
        "    assert 'calculate' in globals(), \"Функция calculate не определена\"\n",
        "    assert callable(calculate), \"calculate должна быть функцией\"\n",
        "    result = calculate(10, 5)\n",
        "    assert result == {'sum': 15, 'diff': 5, 'prod': 50, 'div': 2.0}, \"Результат для a=10, b=5 неверный\"\n",
        "    result_zero = calculate(10, 0)\n",
        "    assert result_zero['div'] == 'Деление на ноль', \"Результат для деления на ноль неверный\"\n",
        "    print(\"Задание 7 выполнено правильно! Функция calculate работает как ожидалось.\")\n",
        "except AssertionError as e:\n",
        "    print(f\"Ошибка: {e}\")\n"
      ]
    },
    {
      "cell_type": "markdown",
      "id": "877a555f",
      "metadata": {},
      "source": [
        "<details><summary>Решение задачи 7 (нажмите, чтобы посмотреть)</summary>\n",
        "\n",
        "```python\n",
        "def calculate(a, b):\n",
        "    return {\n",
        "        'sum': a + b,\n",
        "        'diff': a - b,\n",
        "        'prod': a * b,\n",
        "        'div': a / b if b != 0 else 'Деление на ноль'\n",
        "    }\n",
        "```\n",
        "</details>"
      ]
    },
    {
      "cell_type": "markdown",
      "id": "769141d8",
      "metadata": {},
      "source": [
        "## 🎯 Итог"
      ]
    },
    {
      "cell_type": "markdown",
      "id": "6a938a51",
      "metadata": {},
      "source": [
        "Вы познакомились с основами Python: установкой, средой разработки, переменными, типами данных, строками, списками и словарями. Это фундамент, на котором строятся более сложные программы. Вы научились:\n",
        "- Создавать переменные и работать с разными типами данных.\n",
        "- Выполнять арифметические и логические операции.\n",
        "- Манипулировать строками, списками и словарями.\n",
        "- Использовать `input()` и f-строки для взаимодействия с пользователем.\n",
        "\n",
        "На следующем занятии: условные конструкции и циклы! Продолжайте практиковаться, и программирование станет для вас таким же естественным, как составление списка покупок."
      ]
    }
  ],
  "metadata": {
    "kernelspec": {
      "display_name": "Python 3",
      "language": "python",
      "name": "python3"
    },
    "language_info": {
      "codemirror_mode": {
        "name": "ipython",
        "version": 3
      },
      "file_extension": ".py",
      "mimetype": "text/x-python",
      "name": "python",
      "nbconvert_exporter": "python",
      "pygments_lexer": "ipython3",
      "version": "3.12.10"
    }
  },
  "nbformat": 4,
  "nbformat_minor": 5
}
