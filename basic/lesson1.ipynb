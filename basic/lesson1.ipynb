{
  "cells": [
    {
      "cell_type": "markdown",
      "metadata": {},
      "source": [
        "# 🧠 Урок 1: Введение в Python\n",
        "\n",
        "**Цель урока:**\n",
        "- Научиться устанавливать Python и настраивать среду разработки.\n",
        "- Познакомиться с базовыми типами данных, переменными, операторами.\n",
        "- Освоить работу со строками, списками и словарями.\n",
        "- Выполнить практические задания для закрепления материала."
      ]
    },
    {
      "cell_type": "markdown",
      "metadata": {},
      "source": [
        "## ⚙️ 1. Установка Python (Для локальной разработки, сейчас не обязательно)"
      ]
    },
    {
      "cell_type": "markdown",
      "metadata": {},
      "source": [
        "### Шаги по установке:\n",
        "1. Перейди на [официальный сайт Python](https://www.python.org/ )\n",
        "2. Скачай последнюю версию Python для своей ОС (Windows, macOS, Linux)\n",
        "3. Во время установки обязательно отметь галочку **Add Python to PATH**\n",
        "4. Нажми **Install Now**"
      ]
    },
    {
      "cell_type": "markdown",
      "metadata": {},
      "source": [
        "### Почему важно добавить Python в PATH?\n",
        "Когда вы ставите галочку **Add Python to PATH**, система знает, где искать интерпретатор Python при запуске программ через терминал. Это позволяет просто писать `python`, а не указывать полный путь каждый раз."
      ]
    },
    {
      "cell_type": "markdown",
      "metadata": {},
      "source": [
        "### Как проверить установку:\n",
        "Открой терминал или командную строку и выполни:\n",
        "```bash\n",
        "python --version\n",
        "```\n",
        "или на Mac/Linux:\n",
        "```bash\n",
        "python3 --version\n",
        "```\n",
        "Ожидаемый вывод:\n",
        "```\n",
        "Python 3.*.*\n",
        "```"
      ]
    },
    {
      "cell_type": "markdown",
      "metadata": {},
      "source": [
        "### 💡 Советы:\n",
        "- Если команда `python` не работает, попробуйте `python3`.\n",
        "- Для Windows: используйте PowerShell или Command Prompt.\n",
        "- Для Linux/macOS: терминал уже установлен."
      ]
    },
    {
      "cell_type": "markdown",
      "metadata": {},
      "source": [
        "## 🖥️ 2. Настройка IDE (среды разработки), (Для локальной разработки, сейчас не обязательно)"
      ]
    },
    {
      "cell_type": "markdown",
      "metadata": {},
      "source": [
        "### Рекомендуемые IDE:\n",
        "- **VS Code** — легковесная и мощная среда с плагинами для Python\n",
        "- **PyCharm Community Edition** — полноценная IDE от JetBrains\n",
        "- **Thonny** — идеально подходит для начинающих\n",
        "\n",
        "#### Установка VS Code:\n",
        "1. Зайди на [https://code.visualstudio.com/ ](https://code.visualstudio.com/ )\n",
        "2. Скачай и установи редактор\n",
        "3. Установи расширение Python через меню Extensions\n",
        "4. Создай файл `hello.py` и напиши:\n",
        "```python\n",
        "print(\"Hello, World!\")\n",
        "```\n",
        "Запусти его командой:\n",
        "```bash\n",
        "python hello.py\n",
        "```"
      ]
    },
    {
      "cell_type": "markdown",
      "metadata": {},
      "source": [
        "### 📌 Почему именно VS Code?\n",
        "- Бесплатная и кроссплатформенная.\n",
        "- Поддерживает почти все языки программирования.\n",
        "- Интеграция с Git, терминалом, Jupyter Notebooks.\n",
        "- Множество бесплатных тем и расширений."
      ]
    },
    {
      "cell_type": "markdown",
      "metadata": {},
      "source": [
        "## 🧮 3. Основы синтаксиса Python"
      ]
    },
    {
      "cell_type": "markdown",
      "metadata": {},
      "source": [
        "### Переменные и типы данных\n",
        "\n",
        "В Python не нужно указывать тип переменной при объявлении — он определяется автоматически."
      ]
    },
    {
      "cell_type": "code",
      "execution_count": null,
      "metadata": {},
      "outputs": [],
      "source": [
        "# Целое число\n",
        "a = 5\n",
        "\n",
        "# Число с плавающей точкой\n",
        "b = 3.14\n",
        "\n",
        "# Строка\n",
        "name = \"Alice\"\n",
        "\n",
        "# Логический тип\n",
        "is_active = True"
      ]
    },
    {
      "cell_type": "markdown",
      "metadata": {},
      "source": [
        "### Типы данных подробно:\n",
        "| Тип | Описание | Пример |\n",
        "|-----|----------|--------|\n",
        "| int | Целое число | `5`, `-10` |\n",
        "| float | Число с запятой | `3.14`, `-0.001` |\n",
        "| str | Строка | `'Hello'`, `\"a\"` |\n",
        "| bool | Истина/ложь | `True`, `False` |\n",
        "\n",
        "Чтобы узнать тип переменной, используй функцию `type()`:"
      ]
    },
    {
      "cell_type": "code",
      "execution_count": null,
      "metadata": {},
      "outputs": [],
      "source": [
        "print(type(name))  # <class 'str'>\n",
        "print(type(a))     # <class 'int'>"
      ]
    },
    {
      "cell_type": "markdown",
      "metadata": {},
      "source": [
        "### Арифметические операции"
      ]
    },
    {
      "cell_type": "code",
      "execution_count": null,
      "metadata": {},
      "outputs": [],
      "source": [
        "x = 10\n",
        "y = 3\n",
        "print(x + y)   # 13\n",
        "print(x - y)   # 7\n",
        "print(x * y)   # 30\n",
        "print(x / y)   # 3.3333333333333335\n",
        "print(x // y)  # 3\n",
        "print(x % y)   # 1\n",
        "print(x ** y)  # 1000"
      ]
    },
    {
      "cell_type": "markdown",
      "metadata": {},
      "source": [
        "### 🧠 Объяснение операций:\n",
        "- `/` — деление всегда даёт `float`.\n",
        "- `//` — целочисленное деление.\n",
        "- `%` — остаток от деления (полезно для проверки чётности).\n",
        "- `**` — возведение в степень."
      ]
    },
    {
      "cell_type": "markdown",
      "metadata": {},
      "source": [
        "### Операторы сравнения и логики"
      ]
    },
    {
      "cell_type": "code",
      "execution_count": null,
      "metadata": {},
      "outputs": [],
      "source": [
        "print(x > y)    # True\n",
        "print(x == y)   # False\n",
        "print(x != y)   # True\n",
        "print(x > 5 and y < 5) # False"
      ]
    },
    {
      "cell_type": "markdown",
      "metadata": {},
      "source": [
        "### 📌 Приоритет операций:\n",
        "Как и в математике, сначала выполняются `not`, потом `and`, потом `or`. Чтобы не запутаться — используй скобки!"
      ]
    },
    {
      "cell_type": "markdown",
      "metadata": {},
      "source": [
        "## 📝 4. Работа со строками, списками и словарями"
      ]
    },
    {
      "cell_type": "markdown",
      "metadata": {},
      "source": [
        "### Строки"
      ]
    },
    {
      "cell_type": "code",
      "execution_count": null,
      "metadata": {},
      "outputs": [],
      "source": [
        "greeting = \"Hello, world!\"\n",
        "print(greeting.lower())  # hello, world!\n",
        "print(greeting.upper())  # HELLO, WORLD!\n",
        "print(greeting[0])       # H\n",
        "print(greeting[0:5])     # Hello"
      ]
    },
    {
      "cell_type": "markdown",
      "metadata": {},
      "source": [
        "### 🔄 Индексация и срезы:\n",
        "- `s[i]` — получить символ на позиции `i`.\n",
        "- `s[a:b]` — получить часть строки от `a` до `b-1`.\n",
        "- `s[-1]` — последний символ."
      ]
    },
    {
      "cell_type": "markdown",
      "metadata": {},
      "source": [
        "### Форматирование строк"
      ]
    },
    {
      "cell_type": "code",
      "execution_count": null,
      "metadata": {},
      "outputs": [],
      "source": [
        "name = \"Bob\"\n",
        "age = 25\n",
        "print(f\"My name is {name} and I'm {age} years old.\")"
      ]
    },
    {
      "cell_type": "markdown",
      "metadata": {},
      "source": [
        "### 📦 Почему f-строки удобны?\n",
        "- Не нужно использовать `.format()`.\n",
        "- Можно вставлять выражения прямо в строку.\n",
        "- Простота чтения кода."
      ]
    },
    {
      "cell_type": "markdown",
      "metadata": {},
      "source": [
        "### Списки"
      ]
    },
    {
      "cell_type": "code",
      "execution_count": null,
      "metadata": {},
      "outputs": [],
      "source": [
        "fruits = [\"apple\", \"banana\", \"cherry\"]\n",
        "print(fruits[1])           # banana\n",
        "fruits.append(\"orange\")  # добавление элемента\n",
        "fruits.remove(\"apple\")   # удаление элемента\n",
        "print(len(fruits))         # количество элементов"
      ]
    },
    {
      "cell_type": "markdown",
      "metadata": {},
      "source": [
        "### 🧩 Методы списков:\n",
        "- `.append()` — добавляет в конец.\n",
        "- `.remove()` — удаляет первый найденный элемент.\n",
        "- `.insert(i, x)` — вставляет `x` на позицию `i`.\n",
        "- `.sort()` — сортирует список."
      ]
    },
    {
      "cell_type": "markdown",
      "metadata": {},
      "source": [
        "### Словари"
      ]
    },
    {
      "cell_type": "code",
      "execution_count": null,
      "metadata": {},
      "outputs": [],
      "source": [
        "person = {\n",
        "    \"name\": \"Alice\",\n",
        "    \"age\": 30,\n",
        "    \"city\": \"New York\"\n",
        "}\n",
        "print(person[\"name\"])     # Alice\n",
        "person[\"age\"] = 31\n",
        "person[\"email\"] = \"alice@example.com\"\n",
        "print(person.keys())       # все ключи\n",
        "print(person.values())     # все значения"
      ]
    },
    {
      "cell_type": "markdown",
      "metadata": {},
      "source": [
        "### 🧾 Особенности словарей:\n",
        "- Ключи должны быть уникальными и неизменяемыми.\n",
        "- Значения могут быть любого типа.\n",
        "- Словари позволяют быстро находить информацию по ключу."
      ]
    },
    {
      "cell_type": "markdown",
      "metadata": {},
      "source": [
        "## 💪 Практическая часть"
      ]
    },
    {
      "cell_type": "markdown",
      "metadata": {},
      "source": [
        "### Задание 1: Приветствие пользователя"
      ]
    },
    {
      "cell_type": "code",
      "execution_count": null,
      "metadata": {},
      "outputs": [],
      "source": [
        "# Напишите программу, которая запрашивает имя и возраст человека. (Используй input())\n",
        "# и выводит сообщение: \"Привет, {имя}! Тебе {возраст} лет.\""
      ]
    },
    {
      "cell_type": "markdown",
      "metadata": {},
      "source": [
        "### Задание 2: Изучение словаря"
      ]
    },
    {
      "cell_type": "code",
      "execution_count": null,
      "metadata": {},
      "outputs": [],
      "source": [
        "d = {'name': \"Nikita\", 'age': \"26\"}\n",
        "# Выведите на экран имя и возраст пользователя в словаре d"
      ]
    },
    {
      "cell_type": "markdown",
      "metadata": {},
      "source": [
        "### Задание 3: Добавление новых данных"
      ]
    },
    {
      "cell_type": "code",
      "execution_count": null,
      "metadata": {},
      "outputs": [],
      "source": [
        "# Добавьте новый ключ 'hobby' co значением \"fotball\" в словарь d из задания №2."
      ]
    },
    {
      "cell_type": "markdown",
      "metadata": {},
      "source": [
        "### Задание 4: Квадрат числа"
      ]
    },
    {
      "cell_type": "code",
      "execution_count": null,
      "metadata": {},
      "outputs": [],
      "source": [
        "# Напишите программу, которая запрашивает число и выводит его квадрат\n",
        "# Подсказка: используй input()"
      ]
    },
    {
      "cell_type": "markdown",
      "metadata": {},
      "source": [
        "## 🏠 Домашнее задание"
      ]
    },
    {
      "cell_type": "markdown",
      "metadata": {},
      "source": [
        "1. Установите Python и IDE, если ещё не сделали."
      ]
    },
    {
      "cell_type": "markdown",
      "id": "86773ec8",
      "metadata": {},
      "source": [
        "2. Напишите программу, которая создаёт переменные разных типов (int, float, str, dict, list), а также проверяет тип каждой переменной через `print(type())`.\n"
      ]
    },
    {
      "cell_type": "code",
      "execution_count": 1,
      "id": "ad4571ee",
      "metadata": {},
      "outputs": [],
      "source": [
        "# Ваш код здесь"
      ]
    },
    {
      "cell_type": "markdown",
      "id": "9fe5c446",
      "metadata": {},
      "source": [
        "3. Напишите программу, которая запрашивает зарплату и имя пользователя через `input()` и выводит эту информацию на экран через f-строки.\n"
      ]
    },
    {
      "cell_type": "code",
      "execution_count": null,
      "id": "41f507e4",
      "metadata": {},
      "outputs": [],
      "source": [
        "# Ваш код здесь"
      ]
    },
    {
      "cell_type": "markdown",
      "id": "276dcafe",
      "metadata": {},
      "source": [
        "4. Напишите программу, которая создаёт список с элементами `'a', 'b', 'c'` и словарь с элементами `'a': 1, 'b': 2, 'c': 3`. Выведите на экран через `print()` элементы списка и словаря."
      ]
    },
    {
      "cell_type": "code",
      "execution_count": 2,
      "id": "46645c46",
      "metadata": {},
      "outputs": [],
      "source": [
        "# Ваш код здесь"
      ]
    },
    {
      "cell_type": "markdown",
      "id": "1a70e6ea",
      "metadata": {},
      "source": [
        "5. Напишите программу, которая модифицирует элементы списка и словаря из задания №4. Добавьте элемент `'d'` в список, а также новый элемент `'d': 4` в словарь.\n"
      ]
    },
    {
      "cell_type": "code",
      "execution_count": 3,
      "id": "a76bef3c",
      "metadata": {},
      "outputs": [],
      "source": [
        "# Ваш код здесь"
      ]
    },
    {
      "cell_type": "markdown",
      "id": "a918874c",
      "metadata": {},
      "source": [
        "6. Напишите программу, которая запрашивает у пользователя число через `input()`. Преобразуйте это число в строку через `str()`, а потом наоборот в число через `int()`.\n"
      ]
    },
    {
      "cell_type": "code",
      "execution_count": 7,
      "id": "9ddb977e",
      "metadata": {},
      "outputs": [],
      "source": [
        "# Ваш код здесь"
      ]
    },
    {
      "cell_type": "markdown",
      "id": "0c55e7ec",
      "metadata": {},
      "source": [
        "7. Напишите программу, которая запрашивает у пользователя два числа и выводит сумму, разность, произведение и частное."
      ]
    },
    {
      "cell_type": "code",
      "execution_count": null,
      "id": "a5056911",
      "metadata": {},
      "outputs": [],
      "source": [
        "# Ваш код здесь"
      ]
    },
    {
      "cell_type": "markdown",
      "metadata": {},
      "source": [
        "## 🎯 Итог"
      ]
    },
    {
      "cell_type": "markdown",
      "metadata": {},
      "source": [
        "Вы познакомились с основами Python: установкой, средой разработки, переменными, типами данных, строками, списками и словарями. Это фундамент, на котором строятся более сложные программы.\n",
        "\n",
        "На следующем занятии: условные конструкции и циклы!"
      ]
    }
  ],
  "metadata": {
    "kernelspec": {
      "display_name": "Python 3",
      "language": "python",
      "name": "python3"
    },
    "language_info": {
      "codemirror_mode": {
        "name": "ipython",
        "version": 3
      },
      "file_extension": ".py",
      "mimetype": "text/x-python",
      "name": "python",
      "nbconvert_exporter": "python",
      "pygments_lexer": "ipython3",
      "version": "3.12.10"
    }
  },
  "nbformat": 4,
  "nbformat_minor": 5
}
