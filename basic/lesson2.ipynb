{
  "cells": [
    {
      "cell_type": "markdown",
      "metadata": {},
      "source": [
        "# 🧠 Урок 2: Условные операторы и циклы в Python\n",
        "\n",
        "**Цель урока:**\n",
        "- Научиться использовать условные операторы (`if`, `elif`, `else`) и циклы (`for`, `while`).\n",
        "- Понять, как работает логика ветвления и повторения.\n",
        "- Научиться работать с итерируемыми объектами (списки, строки, диапазоны).\n",
        "- Выполнить практику по написанию гибкого и эффективного кода."
      ]
    },
    {
      "cell_type": "markdown",
      "metadata": {},
      "source": [
        "## 🧩 1. Условные операторы"
      ]
    },
    {
      "cell_type": "markdown",
      "metadata": {},
      "source": [
        "### Что такое условие?\n",
        "\n",
        "Условие — это выражение, результат которого — `True` или `False`. В зависимости от результата программа решает, какой блок кода выполнять."
      ]
    },
    {
      "cell_type": "code",
      "execution_count": null,
      "metadata": {},
      "outputs": [],
      "source": [
        "age = 18\n",
        "if age >= 18:\n",
        "    print(\"Вы совершеннолетний.\")"
      ]
    },
    {
      "cell_type": "markdown",
      "metadata": {},
      "source": [
        "### Почему условные операторы важны?\n",
        "\n",
        "Они позволяют создавать программы, которые реагируют на разные ситуации, принимают решения и меняют своё поведение. Это основа интерактивности и логики в программировании."
      ]
    },
    {
      "cell_type": "markdown",
      "metadata": {},
      "source": [
        "### Синтаксис оператора `if`\n",
        "\n",
        "```python\n",
        "if условие:\n",
        "    # блок кода, который выполнится, если условие истинно (True)\n",
        "```\n",
        "- Обязательно ставим двоеточие `:` после условия.\n",
        "- В Python отступы (обычно 4 пробела) обозначают принадлежность кода к блоку.\n",
        "- Если условие ложно, код внутри блока `if` пропускается."
      ]
    },
    {
      "cell_type": "markdown",
      "metadata": {},
      "source": [
        "### Оператор `if-else`\n",
        "\n",
        "Позволяет обработать два варианта: когда условие истинно и когда ложно."
      ]
    },
    {
      "cell_type": "code",
      "execution_count": null,
      "metadata": {},
      "outputs": [],
      "source": [
        "age = 16\n",
        "if age >= 18:\n",
        "    print(\"Доступ разрешён.\") # Обратите внимание на отступы\n",
        "else:\n",
        "    print(\"Доступ запрещён.\") # Обратите внимание на отступы"
      ]
    },
    {
      "cell_type": "markdown",
      "metadata": {},
      "source": [
        "### Оператор `if-elif-else`\n",
        "\n",
        "Позволяет проверить несколько условий последовательно."
      ]
    },
    {
      "cell_type": "code",
      "execution_count": null,
      "metadata": {},
      "outputs": [],
      "source": [
        "score = 75\n",
        "if score >= 90:\n",
        "    print(\"Отлично!\")\n",
        "elif score >= 75: # выполнится, если условие выше не сработало\n",
        "    print(\"Хорошо!\")\n",
        "elif score >= 60:\n",
        "    print(\"Удовлетворительно.\") # выполнится, если условие выше не сработало\n",
        "else: # выполнится, если все условия выше не сработали\n",
        "    print(\"Неудовлетворительно.\")"
      ]
    },
    {
      "cell_type": "markdown",
      "metadata": {},
      "source": [
        "### 💡 Подробнее о `elif` и `else`:\n",
        "- `elif` — сокращение от \"else if\".\n",
        "- Проверка идёт сверху вниз, первый истинный блок выполняется, остальные игнорируются.\n",
        "- Если ни одно условие не истинно — выполняется `else`."
      ]
    },
    {
      "cell_type": "markdown",
      "metadata": {},
      "source": [
        "### Логические операторы в условиях\n",
        "\n",
        "- `and` — истина, если оба условия истинны.\n",
        "- `or` — истина, если хотя бы одно условие истинно.\n",
        "- `not` — инвертирует значение условия."
      ]
    },
    {
      "cell_type": "code",
      "execution_count": null,
      "metadata": {},
      "outputs": [],
      "source": [
        "age = 20\n",
        "has_ticket = True\n",
        "if age >= 18 and has_ticket: # Если возраст больше или равен 18 и есть билет\n",
        "    print(\"Вход разрешён\")\n",
        "else:\n",
        "    print(\"Вход запрещён\")"
      ]
    },
    {
      "cell_type": "code",
      "execution_count": null,
      "id": "392be0a1",
      "metadata": {},
      "outputs": [],
      "source": [
        "age = 22\n",
        "has_ticket = True\n",
        "if age >= 18 or has_ticket: # Если возраст больше или равен 18 или есть билет\n",
        "    print(\"Вход разрешён\")\n",
        "else:\n",
        "    print(\"Вход запрещён\")"
      ]
    },
    {
      "cell_type": "code",
      "execution_count": null,
      "id": "2a813464",
      "metadata": {},
      "outputs": [],
      "source": [
        "age = 22\n",
        "has_ticket = True\n",
        "if age >= 18 or not has_ticket: # Если возраст больше или равен 18 или нет билета\n",
        "    print(\"Вход разрешён\")\n",
        "else:\n",
        "    print(\"Вход запрещён\")"
      ]
    },
    {
      "cell_type": "markdown",
      "metadata": {},
      "source": [
        "### Тернарное выражение\n",
        "\n",
        "Краткая запись условия в одну строку: `var = что присвоим if \"условие\" else что присвоим если условие не выполнится`"
      ]
    },
    {
      "cell_type": "code",
      "execution_count": null,
      "metadata": {},
      "outputs": [],
      "source": [
        "age = 17 # Меняйте здесь переменную и поймите как работает тернарное выражение\n",
        "message = \"Взрослый\" if age >= 18 else \"Несовершеннолетний\"\n",
        "print(message)"
      ]
    },
    {
      "cell_type": "markdown",
      "metadata": {},
      "source": [
        "### 🧪 Практика: Напишите программу, которая:"
      ]
    },
    {
      "cell_type": "markdown",
      "metadata": {},
      "source": [
        "1. Спрашивает возраст пользователя через `input()`, затем выводит на экран через `print()`"
      ]
    },
    {
      "cell_type": "code",
      "execution_count": null,
      "metadata": {},
      "outputs": [],
      "source": [
        "# Реализуйте здесь"
      ]
    },
    {
      "cell_type": "markdown",
      "metadata": {},
      "source": [
        "2. Преобразует ввод из задания №1 в число и выводит на экран тип переменной через `print(type(x)`"
      ]
    },
    {
      "cell_type": "code",
      "execution_count": null,
      "metadata": {},
      "outputs": [],
      "source": [
        "# Реализуйте здесь"
      ]
    },
    {
      "cell_type": "markdown",
      "metadata": {},
      "source": [
        "3. Проверяет доступ по возрасту. Напишите похожее условие из примера выше, которая делает `print(\"Доступ разрешен\")`, если `возраст>=18`, и `print(\"Доступ запрещен\")` в обратном случае."
      ]
    },
    {
      "cell_type": "code",
      "execution_count": null,
      "metadata": {},
      "outputs": [],
      "source": [
        "# Реализуйте здесь"
      ]
    },
    {
      "cell_type": "markdown",
      "metadata": {},
      "source": [
        "4. Добавьте к предыдущему заданию запрос ввода имени пользователя. Также добавьте в условие из задания №3 проверку на имя. Если `имя==\"Федор\"` и `возраст>=18`, то выводите на экран `print(\"Доступ разрешен\")`, в обратном случае выводите на экран `print(\"Доступ запрещен\")`"
      ]
    },
    {
      "cell_type": "code",
      "execution_count": null,
      "metadata": {},
      "outputs": [],
      "source": [
        "# Реализуйте здесь"
      ]
    },
    {
      "cell_type": "markdown",
      "metadata": {},
      "source": [
        "## 🔁 2. Циклы"
      ]
    },
    {
      "cell_type": "markdown",
      "metadata": {},
      "source": [
        "### Что такое цикл?\n",
        "\n",
        "Цикл позволяет повторять один и тот же блок кода несколько раз. Это экономит время и упрощает работу с коллекциями данных."
      ]
    },
    {
      "cell_type": "markdown",
      "metadata": {},
      "source": [
        "### Цикл `for`\n",
        "\n",
        "Используется для перебора элементов коллекции (списки, строки, словари и др.)."
      ]
    },
    {
      "cell_type": "code",
      "execution_count": null,
      "metadata": {},
      "outputs": [],
      "source": [
        "fruits = [\"яблоко\", \"банан\", \"вишня\"]\n",
        "for fruit in fruits: # перебирает каждый элемент в контейнере\n",
        "    print(fruit)"
      ]
    },
    {
      "cell_type": "markdown",
      "metadata": {},
      "source": [
        "### Функция `range()`\n",
        "\n",
        "Позволяет генерировать последовательность чисел."
      ]
    },
    {
      "cell_type": "code",
      "execution_count": null,
      "metadata": {},
      "outputs": [],
      "source": [
        "for i in range(5): # range формирует последовательность чисел от 0 до числа-1 которое вы указали\n",
        "    print(i)  # 0, 1, 2, 3, 4"
      ]
    },
    {
      "cell_type": "markdown",
      "metadata": {},
      "source": [
        "Можно указать начало и конец:"
      ]
    },
    {
      "cell_type": "code",
      "execution_count": null,
      "metadata": {},
      "outputs": [],
      "source": [
        "for i in range(2, 6): # формирует последовательность от 2 до 6-1\n",
        "    print(i)  # 2, 3, 4, 5"
      ]
    },
    {
      "cell_type": "markdown",
      "metadata": {},
      "source": [
        "Или шаг:"
      ]
    },
    {
      "cell_type": "code",
      "execution_count": null,
      "metadata": {},
      "outputs": [],
      "source": [
        "for i in range(0, 10, 2): # формирует последовательность от 0 до 9 с шагом 2\n",
        "    print(i)  # 0, 2, 4, 6, 8"
      ]
    },
    {
      "cell_type": "markdown",
      "metadata": {},
      "source": [
        "### Цикл `while`\n",
        "\n",
        "Выполняется, пока условие истинно. Часто используется, когда заранее неизвестно число итераций."
      ]
    },
    {
      "cell_type": "code",
      "execution_count": null,
      "metadata": {},
      "outputs": [],
      "source": [
        "count = 0\n",
        "while count < 5:\n",
        "    print(count)\n",
        "    count += 1"
      ]
    },
    {
      "cell_type": "markdown",
      "metadata": {},
      "source": [
        "### Ключевые слова в циклах\n",
        "\n",
        "- `break` — прерывает выполнение цикла.\n",
        "- `continue` — переходит к следующей итерации.\n",
        "- `else` — выполняется после завершения цикла."
      ]
    },
    {
      "cell_type": "code",
      "execution_count": null,
      "metadata": {},
      "outputs": [],
      "source": [
        "for i in range(10):\n",
        "    if i == 5:\n",
        "        break\n",
        "    print(i)"
      ]
    },
    {
      "cell_type": "markdown",
      "metadata": {},
      "source": [
        "### 📚 Работа с коллекциями"
      ]
    },
    {
      "cell_type": "code",
      "execution_count": null,
      "metadata": {},
      "outputs": [],
      "source": [
        "person = {\"name\": \"Alice\", \"age\": 30}\n",
        "for key, value in person.items():\n",
        "    print(key, value)"
      ]
    },
    {
      "cell_type": "code",
      "execution_count": null,
      "metadata": {},
      "outputs": [],
      "source": [
        "for letter in \"Python\":\n",
        "    print(letter)"
      ]
    },
    {
      "cell_type": "markdown",
      "metadata": {},
      "source": [
        "### 🧪 Практика: Работа с циклами"
      ]
    },
    {
      "cell_type": "markdown",
      "metadata": {},
      "source": [
        "1. Напишите цикл `for`, который выводит все числа от 1 до 10 включительно"
      ]
    },
    {
      "cell_type": "code",
      "execution_count": null,
      "metadata": {},
      "outputs": [],
      "source": [
        "# Реализуйте здесь"
      ]
    },
    {
      "cell_type": "markdown",
      "metadata": {},
      "source": [
        "2. Напишите цикл `while`, который выводит элементы списка один за другим"
      ]
    },
    {
      "cell_type": "code",
      "execution_count": null,
      "metadata": {},
      "outputs": [],
      "source": [
        "# Реализуйте здесь"
      ]
    },
    {
      "cell_type": "markdown",
      "metadata": {},
      "source": [
        "3. Напишите программу, которая выводит только чётные числа от 0 до 20"
      ]
    },
    {
      "cell_type": "code",
      "execution_count": null,
      "metadata": {},
      "outputs": [],
      "source": [
        "# Реализуйте здесь"
      ]
    },
    {
      "cell_type": "markdown",
      "metadata": {},
      "source": [
        "4. Переберите список слов и выведите только те, которые начинаются на 'П'"
      ]
    },
    {
      "cell_type": "code",
      "execution_count": null,
      "metadata": {},
      "outputs": [],
      "source": [
        "# Реализуйте здесь"
      ]
    },
    {
      "cell_type": "markdown",
      "metadata": {},
      "source": [
        "5. Переберите строку и выведите только гласные буквы"
      ]
    },
    {
      "cell_type": "code",
      "execution_count": null,
      "metadata": {},
      "outputs": [],
      "source": [
        "# Реализуйте здесь"
      ]
    },
    {
      "cell_type": "markdown",
      "metadata": {},
      "source": [
        "## 🏠 Домашнее задание"
      ]
    },
    {
      "cell_type": "markdown",
      "metadata": {},
      "source": [
        "Выберите одну из задач:"
      ]
    },
    {
      "cell_type": "markdown",
      "metadata": {},
      "source": [
        "1. Калькулятор возраста:\n",
        "   - Спросите имя и возраст\n",
        "   - Выведите, сколько лет будет через 10 лет"
      ]
    },
    {
      "cell_type": "code",
      "execution_count": null,
      "metadata": {},
      "outputs": [],
      "source": [
        "# Реализуйте здесь"
      ]
    },
    {
      "cell_type": "markdown",
      "metadata": {},
      "source": [
        "2. Проверка чётности:\n",
        "   - Попросите ввести 5 разных чисел\n",
        "   - Для каждого числа выведите, чётное оно или нет"
      ]
    },
    {
      "cell_type": "code",
      "execution_count": null,
      "metadata": {},
      "outputs": [],
      "source": [
        "# Реализуйте здесь"
      ]
    },
    {
      "cell_type": "markdown",
      "metadata": {},
      "source": [
        "3. FizzBuzz:\n",
        "   - Выводите числа от 1 до 100\n",
        "   - Если делится на 3 → выводите на экран `Fizz`\n",
        "   - Если делится на 5 → выводите на экран `Buzz`\n",
        "   - Если на 3 и на 5 → выводите на экран `FizzBuzz`"
      ]
    },
    {
      "cell_type": "code",
      "execution_count": null,
      "metadata": {},
      "outputs": [],
      "source": [
        "# Реализуйте здесь"
      ]
    },
    {
      "cell_type": "markdown",
      "metadata": {},
      "source": [
        "## 🎯 Итог"
      ]
    },
    {
      "cell_type": "markdown",
      "metadata": {},
      "source": [
        "Сегодня ты научился использовать условные конструкции и циклы — это основа большинства программ на любом языке программирования. Теперь ты можешь писать программы, которые принимают решения и обрабатывают данные динамически.\n",
        "\n",
        "На следующем занятии: функции, параметры, возвращаемые значения и работа с ошибками!"
      ]
    }
  ],
  "metadata": {
    "kernelspec": {
      "display_name": "Python 3",
      "language": "python",
      "name": "python3"
    },
    "language_info": {
      "codemirror_mode": {
        "name": "ipython",
        "version": 3
      },
      "file_extension": ".py",
      "mimetype": "text/x-python",
      "name": "python",
      "nbconvert_exporter": "python",
      "pygments_lexer": "ipython3",
      "version": "3.12.10"
    }
  },
  "nbformat": 4,
  "nbformat_minor": 5
}
