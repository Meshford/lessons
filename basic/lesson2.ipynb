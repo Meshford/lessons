{
  "cells": [
    {
      "cell_type": "markdown",
      "metadata": {},
      "source": [
        "# 🧠 Урок 2: Условные операторы и циклы в Python\n",
        "\n",
        "**Цель урока:**\n",
        "- Научиться использовать условные операторы (`if`, `elif`, `else`) для принятия решений.\n",
        "- Освоить циклы (`for`, `while`) для повторения действий.\n",
        "- Понять, как работать с итерируемыми объектами (списки, строки, диапазоны).\n",
        "- Выполнить практические задания для закрепления навыков.\n",
        "\n",
        "**Почему это важно?**  \n",
        "Условные операторы позволяют программам принимать решения, например, проверять, достаточно ли у пользователя денег для покупки. Циклы автоматизируют повторяющиеся задачи, такие как обработка списка покупок или подсчёт баллов в игре. Эти инструменты — основа для создания гибких и мощных программ, используемых в веб-разработке, анализе данных и автоматизации.\n",
        "\n",
        "**Как учиться?**  \n",
        "- Читайте объяснения и примеры, пробуйте изменять код.\n",
        "- Выполняйте практические задания и проверяйте их с помощью ячеек проверки.\n",
        "- Если застряли, раскройте подсказки в секциях `<details>`."
      ]
    },
    {
      "cell_type": "markdown",
      "id": "a7d0f641",
      "metadata": {},
      "source": [
        "## 🧩 1. Условные операторы\n",
        "\n",
        "### Что такое условие?\n",
        "\n",
        "Условие — это выражение, которое возвращает `True` (истина) или `False` (ложь). На основе этого программа решает, какой код выполнить. Например, проверка возраста для входа в клуб или наличия билета для посещения музея.\n",
        "\n",
        "**Пример из жизни:** Представьте, что вы покупаете билет в кино. Если вам 18 или больше лет, вы можете посмотреть фильм с рейтингом 18+. Если младше, вам нужен другой билет или сопровождение взрослого. Условия в программировании работают так же, позволяя программе выбирать нужный путь.\n",
        "\n",
        "### Синтаксис оператора `if`\n",
        "\n",
        "**Синтаксис:**\n",
        "```python\n",
        "if условие:\n",
        "    # Код, который выполнится, если условие истинно\n",
        "```\n",
        "- После `if` идёт условие, затем двоеточие (`:`).\n",
        "- Код внутри блока `if` должен иметь отступ (обычно 4 пробела).\n",
        "- **Важно:** В Python отступы определяют блоки кода, в отличие от других языков, где используются фигурные скобки `{}`.\n",
        "\n",
        "**Пример:** Проверка возраста для входа в клуб.\n"
      ]
    },
    {
      "cell_type": "code",
      "execution_count": null,
      "id": "db938db5",
      "metadata": {},
      "outputs": [],
      "source": [
        "age = 18\n",
        "if age >= 18:\n",
        "    print(\"Вы совершеннолетний.\")"
      ]
    },
    {
      "cell_type": "markdown",
      "id": "235699b1",
      "metadata": {},
      "source": [
        "### Синтаксис оператора `if-else`\n",
        "\n",
        "Если условие в `if` ложно, выполняется блок `else`.\n",
        "\n",
        "**Синтаксис:**\n",
        "```python\n",
        "if условие:\n",
        "    # Код, который выполнится, если условие истинно\n",
        "else:\n",
        "    # Код, который выполнится, если условие ложно\n",
        "```\n",
        "\n",
        "**Пример:** Проверка доступа."
      ]
    },
    {
      "cell_type": "code",
      "execution_count": null,
      "id": "4c90ec73",
      "metadata": {},
      "outputs": [],
      "source": [
        "age = 16\n",
        "if age >= 18:\n",
        "    print(\"Доступ разрешён.\")\n",
        "else:\n",
        "    print(\"Доступ запрещён.\")"
      ]
    },
    {
      "cell_type": "markdown",
      "id": "490e077d",
      "metadata": {},
      "source": [
        "\n",
        "- **Пример из жизни:** Если на улице идёт дождь, вы берёте зонт (`if`), иначе идёте без зонта (`else`).\n",
        "\n",
        "### Синтаксис оператора `if-elif-else`\n",
        "\n",
        "Для проверки нескольких условий используется `elif` (сокращение от \"else if\").\n",
        "\n",
        "** Синтаксис:**\n",
        "```python\n",
        "if условие1:\n",
        "    # Код, если условие1 истинно\n",
        "elif условие2:\n",
        "    # Код, если условие2 истинно\n",
        "elif условие3:\n",
        "    # Код, если условие3 истинно\n",
        "else:\n",
        "    # Код, если все условия ложны\n",
        "```\n",
        "\n",
        "**Пример:** Оценка по баллам."
      ]
    },
    {
      "cell_type": "code",
      "execution_count": null,
      "id": "e41dc174",
      "metadata": {},
      "outputs": [],
      "source": [
        "score = 75\n",
        "if score >= 90:\n",
        "    print(\"Отлично!\")\n",
        "elif score >= 75:\n",
        "    print(\"Хорошо!\")\n",
        "elif score >= 60:\n",
        "    print(\"Удовлетворительно.\")\n",
        "else:\n",
        "    print(\"Неудовлетворительно.\")"
      ]
    },
    {
      "cell_type": "markdown",
      "id": "a7d5c99f",
      "metadata": {},
      "source": [
        "\n",
        "- **Почему это полезно?** Это как выбор оценки в школе: в зависимости от баллов вы получаете \"отлично\", \"хорошо\" или другую оценку.\n",
        "- **Как работает?** Проверяется каждое условие сверху вниз, выполняется первый истинный блок, остальные игнорируются.\n",
        "\n",
        "### Тернарное выражение\n",
        "\n",
        "Тернарное выражение — это краткая запись `if-else` в одну строку.\n",
        "\n",
        "**Синтаксис:**\n",
        "```python\n",
        "переменная = значение_если_истинно if условие else значение_если_ложно\n",
        "```\n",
        "\n",
        "**Пример:**"
      ]
    },
    {
      "cell_type": "code",
      "execution_count": null,
      "id": "49f75d11",
      "metadata": {},
      "outputs": [],
      "source": [
        "age = 17\n",
        "message = \"Взрослый\" if age >= 18 else \"Несовершеннолетний\"\n",
        "print(message)  # Несовершеннолетний"
      ]
    },
    {
      "cell_type": "markdown",
      "id": "e01cb006",
      "metadata": {},
      "source": [
        "- **Почему это полезно?** Это экономит место и делает код компактным, когда нужно простое решение.\n",
        "- **Из жизни:** Это как быстро решить, надеть куртку (если холодно) или футболку (если тепло).\n",
        "\n",
        "### Логические операторы\n",
        "\n",
        "Логические операторы позволяют комбинировать условия:\n",
        "- `and`: Истинно, если оба условия истинны.\n",
        "- `or`: Истинно, если хотя бы одно условие истинно.\n",
        "- `not`: Инвертирует значение условия.\n",
        "\n",
        "**Пример с `and`:** Проверка возраста и наличия билета."
      ]
    },
    {
      "cell_type": "code",
      "execution_count": null,
      "id": "7b508fab",
      "metadata": {},
      "outputs": [],
      "source": [
        "age = 20\n",
        "has_ticket = True\n",
        "if age >= 18 and has_ticket:\n",
        "    print(\"Вход разрешён\")\n",
        "else:\n",
        "    print(\"Вход запрещён\")"
      ]
    },
    {
      "cell_type": "markdown",
      "id": "21cf56b1",
      "metadata": {},
      "source": [
        "- **Из жизни:** Чтобы войти в музей, нужно быть старше 18 и иметь билет.\n",
        "\n",
        "**Пример с `or`:** Проверка возраста или разрешения."
      ]
    },
    {
      "cell_type": "code",
      "execution_count": null,
      "id": "99352d3a",
      "metadata": {},
      "outputs": [],
      "source": [
        "age = 16\n",
        "has_permission = True\n",
        "if age >= 18 or has_permission:\n",
        "    print(\"Вход разрешён\")\n",
        "else:\n",
        "    print(\"Вход запрещён\")"
      ]
    },
    {
      "cell_type": "markdown",
      "id": "aef6b40a",
      "metadata": {},
      "source": [
        "- **Из жизни:** Вы можете войти в клуб, если вам 18 или у вас есть разрешение родителей.\n",
        "\n",
        "**Пример с `not`:** Проверка отсутствия дождя."
      ]
    },
    {
      "cell_type": "code",
      "execution_count": null,
      "id": "661b0cfc",
      "metadata": {},
      "outputs": [],
      "source": [
        "is_raining = False\n",
        "if not is_raining:\n",
        "    print(\"Погода хорошая, можно гулять!\")\n",
        "else:\n",
        "    print(\"Возьмите зонт.\")"
      ]
    },
    {
      "cell_type": "markdown",
      "id": "4ee08c2d",
      "metadata": {},
      "source": [
        "- **Из жизни:** Если не идёт дождь, можно пойти на прогулку.\n",
        "\n",
        "**Таблица истинности для `and`:**\n",
        "| A     | B     | A and B |\n",
        "|-------|-------|---------|\n",
        "| True  | True  | True    |\n",
        "| True  | False | False   |\n",
        "| False | True  | False   |\n",
        "| False | False | False   |\n",
        "\n",
        "**Таблица истинности для `or`:**\n",
        "| A     | B     | A or B  |\n",
        "|-------|-------|---------|\n",
        "| True  | True  | True    |\n",
        "| True  | False | True    |\n",
        "| False | True  | True    |\n",
        "| False | False | False   |\n",
        "\n",
        "### Общие ошибки и как их избежать\n",
        "- **Забыть двоеточие (`:`):** Всегда ставьте `:` после `if`, `elif`, `else`.\n",
        "- **Неправильные отступы:** Убедитесь, что код внутри блока имеет одинаковый отступ (4 пробела).\n",
        "- **Использование `=` вместо `==`:** Для сравнения используйте `==`, а `=` — для присваивания.\n",
        "- **Неучёт всех случаев:** Проверяйте, что ваш код обрабатывает все возможные ситуации (например, добавьте `else`).\n",
        "\n",
        "**Совет:** Чтобы отладить код, добавляйте `print()` для проверки значений переменных. Например, `print(age)` перед `if` поможет понять, что хранится в переменной.\n",
        "\n",
        "### Практика: Условные операторы\n",
        "\n",
        "**Задание 1:** Напишите код, который запрашивает возраст пользователя и выводит, является ли он взрослым (18+).\n",
        "- **Ожидаемый результат:** Для возраста 20 выводится \"Взрослый\", для 17 — \"Несовершеннолетний\"."
      ]
    },
    {
      "cell_type": "code",
      "execution_count": null,
      "id": "e5c06746",
      "metadata": {},
      "outputs": [],
      "source": [
        "# Ваш код здесь"
      ]
    },
    {
      "cell_type": "code",
      "execution_count": null,
      "id": "1d598eb9",
      "metadata": {},
      "outputs": [],
      "source": [
        "# Проверка задания 1\n",
        "import sys\n",
        "from io import StringIO\n",
        "old_stdin = sys.stdin\n",
        "sys.stdin = StringIO(\"20\\n\")\n",
        "age = int(input(\"Введите ваш возраст: \"))\n",
        "result = \"Взрослый\" if age >= 18 else \"Несовершеннолетний\"\n",
        "assert result == \"Взрослый\", \"Для возраста 20 должно быть 'Взрослый'\"\n",
        "sys.stdin = StringIO(\"17\\n\")\n",
        "age = int(input(\"Введите ваш возраст: \"))\n",
        "result = \"Взрослый\" if age >= 18 else \"Несовершеннолетний\"\n",
        "assert result == \"Несовершеннолетний\", \"Для возраста 17 должно быть 'Несовершеннолетний'\"\n",
        "sys.stdin = old_stdin\n",
        "print(\"Задание 1 выполнено правильно!\")"
      ]
    },
    {
      "cell_type": "markdown",
      "id": "315c80af",
      "metadata": {},
      "source": [
        "<details><summary>Решение задания 1</summary>\n",
        "\n",
        "```python\n",
        "age = int(input(\"Введите ваш возраст: \"))\n",
        "if age >= 18:\n",
        "    print(\"Взрослый\")\n",
        "else:\n",
        "    print(\"Несовершеннолетний\")\n",
        "```\n",
        "</details>\n"
      ]
    },
    {
      "cell_type": "markdown",
      "id": "253ebf93",
      "metadata": {},
      "source": [
        "**Задание 2:** Напишите код, который запрашивает имя и возраст пользователя. Если имя \"Федор\" и возраст >=18, выводит \"Доступ разрешён\", иначе \"Доступ запрещён\".\n",
        "- **Ожидаемый результат:** Для \"Федор\" и 20 — \"Доступ разрешён\"; для \"Алиса\" и 20 — \"Доступ запрещён\"; для \"Федор\" и 17 — \"Доступ запрещён\"."
      ]
    },
    {
      "cell_type": "code",
      "execution_count": null,
      "id": "acbabe35",
      "metadata": {},
      "outputs": [],
      "source": [
        "# Ваш код здесь"
      ]
    },
    {
      "cell_type": "code",
      "execution_count": null,
      "id": "5f688f44",
      "metadata": {},
      "outputs": [],
      "source": [
        "# Проверка задания 2\n",
        "import sys\n",
        "from io import StringIO\n",
        "old_stdin = sys.stdin\n",
        "sys.stdin = StringIO(\"Федор\\n20\\n\")\n",
        "name = input(\"Введите ваше имя: \")\n",
        "age = int(input(\"Введите ваш возраст: \"))\n",
        "result = \"Доступ разрешён\" if name == \"Федор\" and age >= 18 else \"Доступ запрещён\"\n",
        "assert result == \"Доступ разрешён\", \"Для 'Федор' и 20 должно быть 'Доступ разрешён'\"\n",
        "sys.stdin = StringIO(\"Алиса\\n20\\n\")\n",
        "name = input(\"Введите ваше имя: \")\n",
        "age = int(input(\"Введите ваш возраст: \"))\n",
        "result = \"Доступ разрешён\" if name == \"Федор\" and age >= 18 else \"Доступ запрещён\"\n",
        "assert result == \"Доступ запрещён\", \"Для 'Алиса' и 20 должно быть 'Доступ запрещён'\"\n",
        "sys.stdin = StringIO(\"Федор\\n17\\n\")\n",
        "name = input(\"Введите ваше имя: \")\n",
        "age = int(input(\"Введите ваш возраст: \"))\n",
        "result = \"Доступ разрешён\" if name == \"Федор\" and age >= 18 else \"Доступ запрещён\"\n",
        "assert result == \"Доступ запрещён\", \"Для 'Федор' и 17 должно быть 'Доступ запрещён'\"\n",
        "sys.stdin = old_stdin\n",
        "print(\"Задание 2 выполнено правильно!\")"
      ]
    },
    {
      "cell_type": "markdown",
      "id": "007943de",
      "metadata": {},
      "source": [
        "<details><summary>Решение задания 2</summary>\n",
        "\n",
        "```python\n",
        "name = input(\"Введите ваше имя: \")\n",
        "age = int(input(\"Введите ваш возраст: \"))\n",
        "if name == \"Федор\" and age >= 18:\n",
        "    print(\"Доступ разрешён\")\n",
        "else:\n",
        "    print(\"Доступ запрещён\")\n",
        "```\n",
        "</details>\n"
      ]
    },
    {
      "cell_type": "markdown",
      "id": "ce44b308",
      "metadata": {},
      "source": [
        "\n",
        "**Задание 3:** Напишите код, который запрашивает число и проверяет, является ли оно чётным.\n",
        "- **Ожидаемый результат:** Для 4 — \"Чётное\", для 7 — \"Нечётное\"."
      ]
    },
    {
      "cell_type": "code",
      "execution_count": null,
      "id": "14bc5de9",
      "metadata": {},
      "outputs": [],
      "source": [
        "# Ваш код здесь"
      ]
    },
    {
      "cell_type": "code",
      "execution_count": null,
      "id": "c418c580",
      "metadata": {},
      "outputs": [],
      "source": [
        "# Проверка задания 3\n",
        "import sys\n",
        "from io import StringIO\n",
        "old_stdin = sys.stdin\n",
        "sys.stdin = StringIO(\"4\\n\")\n",
        "number = int(input(\"Введите число: \"))\n",
        "result = \"Чётное\" if number % 2 == 0 else \"Нечётное\"\n",
        "assert result == \"Чётное\", \"Для 4 должно быть 'Чётное'\"\n",
        "sys.stdin = StringIO(\"7\\n\")\n",
        "number = int(input(\"Введите число: \"))\n",
        "result = \"Чётное\" if number % 2 == 0 else \"Нечётное\"\n",
        "assert result == \"Нечётное\", \"Для 7 должно быть 'Нечётное'\"\n",
        "sys.stdin = old_stdin\n",
        "print(\"Задание 3 выполнено правильно!\")"
      ]
    },
    {
      "cell_type": "markdown",
      "id": "a3c4a881",
      "metadata": {},
      "source": [
        "<details><summary>Решение задания 3</summary>\n",
        "\n",
        "```python\n",
        "number = int(input(\"Введите число: \"))\n",
        "if number % 2 == 0:\n",
        "    print(\"Чётное\")\n",
        "else:\n",
        "    print(\"Нечётное\")\n",
        "```\n",
        "</details>\n"
      ]
    },
    {
      "cell_type": "markdown",
      "id": "c01bf9fd",
      "metadata": {},
      "source": [
        "## 🔁 2. Циклы\n",
        "\n",
        "### Что такое цикл?\n",
        "\n",
        "Цикл позволяет повторять блок кода несколько раз, что экономит время и упрощает работу с данными. В Python есть два основных типа циклов: `for` и `while`.\n",
        "\n",
        "**Пример из жизни:** Представьте, что вы отправляете сообщения всем друзьям из списка. Вместо того чтобы писать каждое сообщение вручную, вы можете использовать цикл, чтобы отправить их автоматически.\n",
        "\n",
        "### Синтаксис цикла `for`\n",
        "\n",
        "**Синтаксис:**\n",
        "```python\n",
        "for переменная in итерируемый_объект:\n",
        "    # Код, который выполняется для каждого элемента\n",
        "```\n",
        "\n",
        "**Пример:** Перебор списка покупок.\n",
        "\n",
        "\n"
      ]
    },
    {
      "cell_type": "code",
      "execution_count": null,
      "id": "f1e1737f",
      "metadata": {},
      "outputs": [],
      "source": [
        "fruits = [\"яблоко\", \"банан\", \"вишня\"]\n",
        "for fruit in fruits:\n",
        "    print(fruit)"
      ]
    },
    {
      "cell_type": "markdown",
      "id": "d6065b15",
      "metadata": {},
      "source": [
        "\n",
        "- **Из жизни:** Это как пройти по списку покупок и взять каждый продукт с полки.\n",
        "\n",
        "**Пример:** Подсчёт общей стоимости."
      ]
    },
    {
      "cell_type": "code",
      "execution_count": null,
      "id": "63cbdcad",
      "metadata": {},
      "outputs": [],
      "source": [
        "prices = [10, 20, 15]\n",
        "total = 0\n",
        "for price in prices:\n",
        "    total = total + price\n",
        "print(\"Общая стоимость:\", total)"
      ]
    },
    {
      "cell_type": "markdown",
      "id": "d85afd96",
      "metadata": {},
      "source": [
        "\n",
        "- **Из жизни:** Это как сложить цены всех товаров в корзине.\n",
        "\n",
        "### Синтаксис функции `range()`\n",
        "\n",
        "Функция `range()` создаёт последовательность чисел:\n",
        "- `range(n)`: от 0 до n-1.\n",
        "- `range(start, stop)`: от start до stop-1.\n",
        "- `range(start, stop, step)`: от start до stop-1 с шагом step.\n",
        "\n",
        "**Синтаксис:**\n",
        "```python\n",
        "for переменная in range(начало, конец, шаг):\n",
        "    # Код, который выполняется для каждого числа\n",
        "```\n",
        "\n",
        "**Пример:**"
      ]
    },
    {
      "cell_type": "code",
      "execution_count": null,
      "id": "21a3ea51",
      "metadata": {},
      "outputs": [],
      "source": [
        "for i in range(5):\n",
        "    print(i)  # 0, 1, 2, 3, 4"
      ]
    },
    {
      "cell_type": "markdown",
      "id": "4e611d74",
      "metadata": {},
      "source": [
        "- **Из жизни:** Это как повторить действие 5 раз, например, сделать 5 звонков.\n",
        "\n",
        "**Пример с шагом:**"
      ]
    },
    {
      "cell_type": "code",
      "execution_count": null,
      "id": "fd684eb1",
      "metadata": {},
      "outputs": [],
      "source": [
        "for i in range(0, 10, 2):\n",
        "    print(i)  # 0, 2, 4, 6, 8"
      ]
    },
    {
      "cell_type": "markdown",
      "id": "f1b09ae0",
      "metadata": {},
      "source": [
        "- **Из жизни:** Это как проверять только чётные номера домов на улице.\n",
        "\n",
        "**Пример с `range` и `len()` для обработки списка:**"
      ]
    },
    {
      "cell_type": "code",
      "execution_count": null,
      "id": "fdd402ed",
      "metadata": {},
      "outputs": [],
      "source": [
        "fruits = [\"яблоко\", \"банан\", \"вишня\"]\n",
        "for i in range(len(fruits)):\n",
        "    print(\"Фрукт\", i + 1, \":\", fruits[i])"
      ]
    },
    {
      "cell_type": "markdown",
      "id": "e0351d1d",
      "metadata": {},
      "source": [
        "\n",
        "- **Вывод:**\n",
        "  ```\n",
        "  Фрукт 1 : яблоко\n",
        "  Фрукт 2 : банан\n",
        "  Фрукт 3 : вишня\n",
        "  ```\n",
        "- **Из жизни:** Это как пронумеровать каждый продукт в списке покупок, чтобы знать их порядок.\n",
        "\n",
        "### Синтаксис цикла `while`\n",
        "\n",
        "Цикл `while` выполняется, пока условие истинно. Используется, когда количество итераций заранее неизвестно.\n",
        "\n",
        "**Синтаксис:**\n",
        "```python\n",
        "while условие:\n",
        "    # Код, который выполняется, пока условие истинно\n",
        "```\n",
        "\n",
        "**Пример:**"
      ]
    },
    {
      "cell_type": "code",
      "execution_count": null,
      "id": "7abead36",
      "metadata": {},
      "outputs": [],
      "source": [
        "count = 0\n",
        "while count < 5:\n",
        "    print(count)\n",
        "    count = count + 1  # Обновляем переменную, чтобы избежать бесконечного цикла"
      ]
    },
    {
      "cell_type": "markdown",
      "id": "819715c3",
      "metadata": {},
      "source": [
        "- **Из жизни:** Это как ждать автобус: вы продолжаете ждать, пока он не приедет.\n",
        "\n",
        "**Пример:** Подсчёт попыток ввода пароля."
      ]
    },
    {
      "cell_type": "code",
      "execution_count": null,
      "id": "8d071c28",
      "metadata": {},
      "outputs": [],
      "source": [
        "\n",
        "password = \"\"\n",
        "attempts = 0\n",
        "while password != \"secret\" and attempts < 3:\n",
        "    password = input(\"Введите пароль: \")\n",
        "    attempts = attempts + 1\n",
        "if password == \"secret\":\n",
        "    print(\"Доступ разрешён!\")\n",
        "else:\n",
        "    print(\"Слишком много попыток.\")"
      ]
    },
    {
      "cell_type": "markdown",
      "id": "b16261d2",
      "metadata": {},
      "source": [
        "\n",
        "- **Из жизни:** Это как пытаться ввести пароль, пока не получится или не закончится лимит попыток.\n",
        "\n",
        "### Ключевые слова в циклах\n",
        "\n",
        "- `break`: Прерывает цикл.\n",
        "- `continue`: Пропускает текущую итерацию и переходит к следующей.\n",
        "- `else`: Выполняется, если цикл завершился без `break`.\n",
        "\n",
        "**Пример с `break`:**"
      ]
    },
    {
      "cell_type": "code",
      "execution_count": null,
      "id": "46b94328",
      "metadata": {},
      "outputs": [],
      "source": [
        "for i in range(10):\n",
        "    if i == 5:\n",
        "        break  # Прерываем цикл, когда i равно 5\n",
        "    print(i)  # 0, 1, 2, 3, 4"
      ]
    },
    {
      "cell_type": "markdown",
      "id": "7c6d6950",
      "metadata": {},
      "source": [
        "- **Из жизни:** Это как остановить работу, если вы нашли нужный предмет.\n",
        "\n",
        "**Пример с `continue`:**"
      ]
    },
    {
      "cell_type": "code",
      "execution_count": null,
      "id": "dbf54382",
      "metadata": {},
      "outputs": [],
      "source": [
        "for i in range(10):\n",
        "    if i % 2 == 0:\n",
        "        continue  # Пропускаем чётные числа\n",
        "    print(i)  # 1, 3, 5, 7, 9"
      ]
    },
    {
      "cell_type": "markdown",
      "id": "41bdf6d6",
      "metadata": {},
      "source": [
        "- **Из жизни:** Это как пропускать неинтересные книги в библиотеке и читать только нужные.\n",
        "\n",
        "**Пример с `else` в цикле:**"
      ]
    },
    {
      "cell_type": "code",
      "execution_count": null,
      "id": "4cddf463",
      "metadata": {},
      "outputs": [],
      "source": [
        "for i in range(5):\n",
        "    print(i)\n",
        "else:\n",
        "    print(\"Цикл завершён!\")"
      ]
    },
    {
      "cell_type": "markdown",
      "id": "7b3af743",
      "metadata": {},
      "source": [
        "\n",
        "- **Из жизни:** Это как сказать \"всё сделано\", когда вы закончили проверять весь список.\n",
        "\n",
        "### Работа с коллекциями\n",
        "\n",
        "**Перебор словаря:**"
      ]
    },
    {
      "cell_type": "code",
      "execution_count": null,
      "id": "ab44b65d",
      "metadata": {},
      "outputs": [],
      "source": [
        "person = {\"name\": \"Alice\", \"age\": 30}\n",
        "for key, value in person.items():\n",
        "    print(key, \":\", value)"
      ]
    },
    {
      "cell_type": "markdown",
      "id": "afd28431",
      "metadata": {},
      "source": [
        "\n",
        "- **Из жизни:** Это как просматривать телефонную книгу, где для каждого имени вы видите номер.\n",
        "\n",
        "**Перебор строки:**"
      ]
    },
    {
      "cell_type": "code",
      "execution_count": null,
      "id": "ff14a0ce",
      "metadata": {},
      "outputs": [],
      "source": [
        "for letter in \"Python\":\n",
        "    print(letter)"
      ]
    },
    {
      "cell_type": "markdown",
      "id": "8e7096e2",
      "metadata": {},
      "source": [
        "\n",
        "- **Из жизни:** Это как читать слово по буквам, чтобы найти определённые символы.\n",
        "\n",
        "### Общие ошибки и как их избежать\n",
        "- **Бесконечный цикл в `while`:** Убедитесь, что условие в `while` рано или поздно станет ложным. Например, всегда обновляйте переменную цикла (`count = count + 1`).\n",
        "- **Ошибка в `range`:** Помните, что `range(5)` идёт от 0 до 4, а не до 5.\n",
        "- **Изменение списка во время перебора:** Это может привести к ошибкам. Если нужно изменить список, создайте копию.\n",
        "- **Совет:** Используйте `print()` для отладки, чтобы увидеть, как меняются переменные в цикле.\n",
        "\n",
        "### Практика: Циклы\n",
        "\n",
        "**Задание 1:** Напишите код, который выводит числа от 1 до 10 включительно с помощью цикла `for`.\n",
        "- **Ожидаемый результат:** 1, 2, 3, 4, 5, 6, 7, 8, 9, 10"
      ]
    },
    {
      "cell_type": "code",
      "execution_count": null,
      "id": "66bf4ea8",
      "metadata": {},
      "outputs": [],
      "source": [
        "# Ваш код здесь"
      ]
    },
    {
      "cell_type": "code",
      "execution_count": null,
      "id": "36f9e3e8",
      "metadata": {},
      "outputs": [],
      "source": [
        "# Проверка задания 1\n",
        "from io import StringIO\n",
        "import sys\n",
        "old_stdout = sys.stdout\n",
        "sys.stdout = StringIO()\n",
        "for i in range(1, 11):\n",
        "    print(i)\n",
        "output = sys.stdout.getvalue().strip().split('\\n')\n",
        "sys.stdout = old_stdout\n",
        "expected = [str(i) for i in range(1, 11)]\n",
        "assert output == expected, \"Ожидаются числа от 1 до 10\"\n",
        "print(\"Задание 1 выполнено правильно!\")"
      ]
    },
    {
      "cell_type": "markdown",
      "id": "fda099fe",
      "metadata": {},
      "source": [
        "<details><summary>Решение задания 1</summary>\n",
        "\n",
        "```python\n",
        "for i in range(1, 11):\n",
        "    print(i)\n",
        "```\n",
        "</details>\n"
      ]
    },
    {
      "cell_type": "markdown",
      "id": "02e5b29c",
      "metadata": {},
      "source": [
        "**Задание 2:** Напишите код, который запрашивает у пользователя число `start` и выводит числа от `start` до 0 в порядке убывания с помощью цикла `while`.\n",
        "- **Ожидаемый результат:** Для `start=5` — 5, 4, 3, 2, 1, 0"
      ]
    },
    {
      "cell_type": "code",
      "execution_count": null,
      "id": "cf16c6ca",
      "metadata": {},
      "outputs": [],
      "source": [
        "# Ваш код здесь"
      ]
    },
    {
      "cell_type": "code",
      "execution_count": null,
      "id": "a865b2e2",
      "metadata": {},
      "outputs": [],
      "source": [
        "# Проверка задания 2\n",
        "import sys\n",
        "from io import StringIO\n",
        "old_stdin, old_stdout = sys.stdin, sys.stdout\n",
        "sys.stdin = StringIO(\"5\\n\")\n",
        "sys.stdout = StringIO()\n",
        "start = int(input(\"Введите начальное число: \"))\n",
        "while start >= 0:\n",
        "    print(start)\n",
        "    start = start - 1\n",
        "output = sys.stdout.getvalue().strip().split('\\n')\n",
        "sys.stdin, sys.stdout = old_stdin, old_stdout\n",
        "expected = [str(i) for i in range(5, -1, -1)]\n",
        "assert output == expected, \"Ожидаются числа от 5 до 0\"\n",
        "print(\"Задание 2 выполнено правильно!\")"
      ]
    },
    {
      "cell_type": "markdown",
      "id": "48e5b0ef",
      "metadata": {},
      "source": [
        "<details><summary>Решение задания 2</summary>\n",
        "\n",
        "```python\n",
        "start = int(input(\"Введите начальное число: \"))\n",
        "while start >= 0:\n",
        "    print(start)\n",
        "    start = start - 1\n",
        "```\n",
        "</details>"
      ]
    },
    {
      "cell_type": "markdown",
      "id": "0e8cc5c7",
      "metadata": {},
      "source": [
        "**Задание 3:** Напишите код, который выводит все чётные числа от 0 до 20 включительно с помощью цикла `for`.\n",
        "- **Ожидаемый результат:** 0, 2, 4, 6, 8, 10, 12, 14, 16, 18, 20"
      ]
    },
    {
      "cell_type": "code",
      "execution_count": null,
      "id": "1b196910",
      "metadata": {},
      "outputs": [],
      "source": [
        "# Ваш код здесь"
      ]
    },
    {
      "cell_type": "code",
      "execution_count": null,
      "id": "ffbe1fbc",
      "metadata": {},
      "outputs": [],
      "source": [
        "# Проверка задания 3\n",
        "from io import StringIO\n",
        "import sys\n",
        "old_stdout = sys.stdout\n",
        "sys.stdout = StringIO()\n",
        "for i in range(0, 21, 2):\n",
        "    print(i)\n",
        "output = sys.stdout.getvalue().strip().split('\\n')\n",
        "sys.stdout = old_stdout\n",
        "expected = [str(i) for i in range(0, 21, 2)]\n",
        "assert output == expected, \"Ожидаются чётные числа от 0 до 20\"\n",
        "print(\"Задание 3 выполнено правильно!\")"
      ]
    },
    {
      "cell_type": "markdown",
      "id": "02489642",
      "metadata": {},
      "source": [
        "<details><summary>Решение задания 3</summary>\n",
        "\n",
        "```python\n",
        "for i in range(0, 21, 2):\n",
        "    print(i)\n",
        "```\n",
        "</details>\n",
        "\n"
      ]
    },
    {
      "cell_type": "markdown",
      "id": "0b207099",
      "metadata": {},
      "source": [
        "**Задание 4:** Напишите код, который запрашивает у пользователя список слов и выводит только те, которые начинаются на 'П'.\n",
        "- **Ожидаемый результат:** Для `['Яблоко', 'Персик', 'Банан', 'Помидор']` — 'Персик', 'Помидор'"
      ]
    },
    {
      "cell_type": "code",
      "execution_count": null,
      "id": "485c236b",
      "metadata": {},
      "outputs": [],
      "source": [
        "# Ваш код здесь"
      ]
    },
    {
      "cell_type": "code",
      "execution_count": null,
      "id": "462d51de",
      "metadata": {},
      "outputs": [],
      "source": [
        "# Проверка задания 4\n",
        "import sys\n",
        "from io import StringIO\n",
        "old_stdin, old_stdout = sys.stdin, sys.stdout\n",
        "sys.stdin = StringIO(\"Яблоко, Персик, Банан, Помидор\\n\")\n",
        "sys.stdout = StringIO()\n",
        "words = input(\"Введите слова через запятую: \").split(',')\n",
        "for word in words:\n",
        "    word = word.strip()\n",
        "    if word.startswith('П'):\n",
        "        print(word)\n",
        "output = sys.stdout.getvalue().strip().split('\\n')\n",
        "sys.stdin, sys.stdout = old_stdin, old_stdout\n",
        "expected = [\"Персик\", \"Помидор\"]\n",
        "assert output == expected, \"Ожидаются слова 'Персик' и 'Помидор'\"\n",
        "print(\"Задание 4 выполнено правильно!\")"
      ]
    },
    {
      "cell_type": "markdown",
      "id": "2580bffe",
      "metadata": {},
      "source": [
        "<details><summary>Решение задания 4</summary>\n",
        "\n",
        "```python\n",
        "words = input(\"Введите слова через запятую: \").split(',')\n",
        "for word in words:\n",
        "    word = word.strip()\n",
        "    if word.startswith('П'):\n",
        "        print(word)\n",
        "```\n",
        "</details>"
      ]
    },
    {
      "cell_type": "markdown",
      "id": "431065e3",
      "metadata": {},
      "source": [
        "**Задание 5:** Напишите код, который запрашивает у пользователя текст и выводит все гласные буквы из него в нижнем регистре.\n",
        "- **Ожидаемый результат:** Для `'Привет, мир!'` — 'и', 'е', 'и'"
      ]
    },
    {
      "cell_type": "code",
      "execution_count": null,
      "id": "3fb467f6",
      "metadata": {},
      "outputs": [],
      "source": [
        "# Ваш код здесь"
      ]
    },
    {
      "cell_type": "code",
      "execution_count": null,
      "id": "af4f89fe",
      "metadata": {},
      "outputs": [],
      "source": [
        "# Проверка задания 5\n",
        "import sys\n",
        "from io import StringIO\n",
        "old_stdin, old_stdout = sys.stdin, sys.stdout\n",
        "sys.stdin = StringIO(\"Привет, мир!\\n\")\n",
        "sys.stdout = StringIO()\n",
        "text = input(\"Введите текст: \")\n",
        "vowels = ['а', 'е', 'и', 'о', 'у', 'я', 'ё', 'ю', 'ы', 'э']\n",
        "for char in text.lower():\n",
        "    if char in vowels:\n",
        "        print(char)\n",
        "output = sys.stdout.getvalue().strip().split('\\n')\n",
        "sys.stdin, sys.stdout = old_stdin, old_stdout\n",
        "expected = ['и', 'е', 'и']\n",
        "assert output == expected, \"Ожидаются гласные 'и', 'е', 'и'\"\n",
        "print(\"Задание 5 выполнено правильно!\")"
      ]
    },
    {
      "cell_type": "markdown",
      "id": "31a683e7",
      "metadata": {},
      "source": [
        "<details><summary>Решение задания 5</summary>\n",
        "\n",
        "```python\n",
        "text = input(\"Введите текст: \")\n",
        "vowels = ['а', 'е', 'и', 'о', 'у', 'я', 'ё', 'ю', 'ы', 'э']\n",
        "for char in text.lower():\n",
        "    if char in vowels:\n",
        "        print(char)\n",
        "```\n",
        "</details>\n"
      ]
    },
    {
      "cell_type": "markdown",
      "id": "687ba4f3",
      "metadata": {},
      "source": [
        "## 🏠 Домашнее задание\n",
        "\n",
        "Выполните все три задачи. Каждое задание должно быть реализовано как блок кода с чётким результатом.\n",
        "\n",
        "**Задание 1:** Напишите код, который запрашивает имя и возраст пользователя и выводит строку с именем и возрастом через 10 лет.\n",
        "- **Ожидаемый результат:** Для `'Alice'` и `20` — \"Через 10 лет Alice будет 30 лет\"."
      ]
    },
    {
      "cell_type": "code",
      "execution_count": null,
      "id": "d2019f6f",
      "metadata": {},
      "outputs": [],
      "source": [
        "# Ваш код здесь"
      ]
    },
    {
      "cell_type": "code",
      "execution_count": null,
      "id": "706136f9",
      "metadata": {},
      "outputs": [],
      "source": [
        "# Проверка домашнего задания 1\n",
        "import sys\n",
        "from io import StringIO\n",
        "old_stdin, old_stdout = sys.stdin, sys.stdout\n",
        "sys.stdin = StringIO(\"Alice\\n20\\n\")\n",
        "sys.stdout = StringIO()\n",
        "name = input(\"Введите ваше имя: \")\n",
        "age = int(input(\"Введите ваш возраст: \"))\n",
        "future_age = age + 10\n",
        "print(\"Через 10 лет\", name, \"будет\", future_age, \"лет\")\n",
        "output = sys.stdout.getvalue().strip()\n",
        "sys.stdin, sys.stdout = old_stdin, old_stdout\n",
        "assert output == \"Через 10 лет Alice будет 30 лет\", \"Ожидается 'Через 10 лет Alice будет 30 лет'\"\n",
        "print(\"Домашнее задание 1 выполнено правильно!\")"
      ]
    },
    {
      "cell_type": "markdown",
      "id": "bc398781",
      "metadata": {},
      "source": [
        "<details><summary>Решение домашнего задания 1</summary>\n",
        "\n",
        "```python\n",
        "name = input(\"Введите ваше имя: \")\n",
        "age = int(input(\"Введите ваш возраст: \"))\n",
        "future_age = age + 10\n",
        "print(\"Через 10 лет\", name, \"будет\", future_age, \"лет\")\n",
        "```\n",
        "</details>"
      ]
    },
    {
      "cell_type": "markdown",
      "id": "2674ae83",
      "metadata": {},
      "source": [
        "**Задание 2:** Напишите код, который запрашивает у пользователя 5 чисел и для каждого числа выводит \"Чётное\" или \"Нечётное\".\n",
        "- **Ожидаемый результат:** Для `[4, 7, 12, 3, 8]` — \"Чётное\", \"Нечётное\", \"Чётное\", \"Нечётное\", \"Чётное\"."
      ]
    },
    {
      "cell_type": "code",
      "execution_count": null,
      "id": "58ddf772",
      "metadata": {},
      "outputs": [],
      "source": [
        "# Ваш код здесь"
      ]
    },
    {
      "cell_type": "code",
      "execution_count": null,
      "id": "931e5541",
      "metadata": {},
      "outputs": [],
      "source": [
        "# Проверка домашнего задания 2\n",
        "import sys\n",
        "from io import StringIO\n",
        "old_stdin, old_stdout = sys.stdin, sys.stdout\n",
        "sys.stdin = StringIO(\"4\\n7\\n12\\n3\\n8\\n\")\n",
        "sys.stdout = StringIO()\n",
        "for i in range(5):\n",
        "    number = int(input(\"Введите число: \"))\n",
        "    if number % 2 == 0:\n",
        "        print(\"Чётное\")\n",
        "    else:\n",
        "        print(\"Нечётное\")\n",
        "output = sys.stdout.getvalue().strip().split('\\n')\n",
        "sys.stdin, sys.stdout = old_stdin, old_stdout\n",
        "expected = [\"Чётное\", \"Нечётное\", \"Чётное\", \"Нечётное\", \"Чётное\"]\n",
        "assert output == expected, \"Ожидаются 'Чётное', 'Нечётное', 'Чётное', 'Нечётное', 'Чётное'\"\n",
        "print(\"Домашнее задание 2 выполнено правильно!\")"
      ]
    },
    {
      "cell_type": "markdown",
      "id": "dca62948",
      "metadata": {},
      "source": [
        "<details><summary>Решение домашнего задания 2</summary>\n",
        "\n",
        "```python\n",
        "for i in range(5):\n",
        "    number = int(input(\"Введите число: \"))\n",
        "    if number % 2 == 0:\n",
        "        print(\"Чётное\")\n",
        "    else:\n",
        "        print(\"Нечётное\")\n",
        "```\n",
        "</details>\n"
      ]
    },
    {
      "cell_type": "markdown",
      "id": "4be88aee",
      "metadata": {},
      "source": [
        "**Задание 3:** Напишите код, который выводит числа от 1 до 100, заменяя числа, делящиеся на 3, на \"Fizz\", на 5 — на \"Buzz\", на 3 и 5 — на \"FizzBuzz\".\n",
        "- **Ожидаемый результат:** 1, 2, Fizz, 4, Buzz, Fizz, 7, 8, Fizz, Buzz, ..., FizzBuzz, ..."
      ]
    },
    {
      "cell_type": "code",
      "execution_count": null,
      "id": "f4cc77c0",
      "metadata": {},
      "outputs": [],
      "source": [
        "# Ваш код здесь"
      ]
    },
    {
      "cell_type": "code",
      "execution_count": null,
      "id": "c8fcd163",
      "metadata": {},
      "outputs": [],
      "source": [
        "# Проверка домашнего задания 3\n",
        "from io import StringIO\n",
        "import sys\n",
        "old_stdout = sys.stdout\n",
        "sys.stdout = StringIO()\n",
        "for i in range(1, 101):\n",
        "    if i % 3 == 0 and i % 5 == 0:\n",
        "        print(\"FizzBuzz\")\n",
        "    elif i % 3 == 0:\n",
        "        print(\"Fizz\")\n",
        "    elif i % 5 == 0:\n",
        "        print(\"Buzz\")\n",
        "    else:\n",
        "        print(i)\n",
        "output = sys.stdout.getvalue().strip().split('\\n')\n",
        "sys.stdout = old_stdout\n",
        "expected = []\n",
        "for i in range(1, 101):\n",
        "    if i % 3 == 0 and i % 5 == 0:\n",
        "        expected.append(\"FizzBuzz\")\n",
        "    elif i % 3 == 0:\n",
        "        expected.append(\"Fizz\")\n",
        "    elif i % 5 == 0:\n",
        "        expected.append(\"Buzz\")\n",
        "    else:\n",
        "        expected.append(str(i))\n",
        "assert output == expected, \"Ожидается правильная последовательность FizzBuzz\"\n",
        "print(\"Домашнее задание 3 выполнено правильно!\")"
      ]
    },
    {
      "cell_type": "markdown",
      "id": "cee1cbb9",
      "metadata": {},
      "source": [
        "<details><summary>Решение домашнего задания 3</summary>\n",
        "\n",
        "```python\n",
        "for i in range(1, 101):\n",
        "    if i % 3 == 0 and i % 5 == 0:\n",
        "        print(\"FizzBuzz\")\n",
        "    elif i % 3 == 0:\n",
        "        print(\"Fizz\")\n",
        "    elif i % 5 == 0:\n",
        "        print(\"Buzz\")\n",
        "    else:\n",
        "        print(i)\n",
        "```\n",
        "</details>\n"
      ]
    },
    {
      "cell_type": "markdown",
      "id": "8f012e09",
      "metadata": {},
      "source": [
        "## 🎯 Итог\n",
        "\n",
        "Сегодня ты научился использовать условные конструкции и циклы — это основа большинства программ на любом языке программирования. Теперь ты можешь писать программы, которые принимают решения и обрабатывают данные динамически.\n",
        "\n",
        "**Что ты умеешь:**\n",
        "- Использовать `if`, `elif`, `else` для принятия решений.\n",
        "- Применять тернарные выражения для кратких условий.\n",
        "- Комбинировать условия с помощью `and`, `or`, `not`.\n",
        "- Применять циклы `for` и `while` для повторения действий.\n",
        "- Работать с `range` и `len()` для обработки списков.\n",
        "- Работать с коллекциями (списки, строки, словари) в циклах.\n",
        "- Использовать `break`, `continue`, `else` для управления циклами.\n",
        "\n",
        "**На следующем занятии:** функции, параметры, возвращаемые значения и работа с ошибками! Продолжайте практиковаться, и программирование станет для вас таким же естественным, как составление списка покупок."
      ]
    }
  ],
  "metadata": {
    "kernelspec": {
      "display_name": "Python 3",
      "language": "python",
      "name": "python3"
    },
    "language_info": {
      "codemirror_mode": {
        "name": "ipython",
        "version": 3
      },
      "file_extension": ".py",
      "mimetype": "text/x-python",
      "name": "python",
      "nbconvert_exporter": "python",
      "pygments_lexer": "ipython3",
      "version": "3.12.10"
    }
  },
  "nbformat": 4,
  "nbformat_minor": 5
}
