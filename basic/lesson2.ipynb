{
  "cells": [
    {
      "cell_type": "markdown",
      "id": "12c5beba",
      "metadata": {},
      "source": [
        "# 🧠 Урок 2: Условные операторы и циклы в Python\n",
        "\n",
        "**Цель урока:**\n",
        "- Научиться использовать условные операторы (`if`, `elif`, `else`) для принятия решений.\n",
        "- Освоить циклы (`for`, `while`) для повторения действий.\n",
        "- Понять, как работать с итерируемыми объектами (списки, строки, диапазоны).\n",
        "- Выполнить практические задания для закрепления навыков.\n",
        "\n",
        "**Почему это важно?**  \n",
        "Условные операторы позволяют программам принимать решения, например, проверять, достаточно ли у пользователя денег для покупки. Циклы автоматизируют повторяющиеся задачи, такие как обработка списка покупок или подсчёт баллов в игре. Эти инструменты — основа для создания гибких и мощных программ, используемых в веб-разработке, анализе данных и автоматизации.\n",
        "\n",
        "**Как учиться?**  \n",
        "- Читайте объяснения и примеры, пробуйте изменять код.\n",
        "- Выполняйте практические задания и проверяйте их с помощью ячеек проверки.\n",
        "- Если застряли, раскройте подсказки в секциях `<details>`."
      ]
    },
    {
      "cell_type": "markdown",
      "id": "da399212",
      "metadata": {},
      "source": [
        "## 🧩 1. Условные операторы\n",
        "\n",
        "### Что такое условие?\n",
        "\n",
        "Условие — это выражение, которое возвращает `True` (истина) или `False` (ложь). На основе этого программа решает, какой код выполнить. Например, проверка возраста для входа в клуб или наличия билета для посещения музея.\n",
        "\n",
        "**Пример из жизни:** Представьте, что вы покупаете билет в кино. Если вам 18 или больше лет, вы можете посмотреть фильм с рейтингом 18+. Если младше, вам нужен другой билет или сопровождение взрослого. Условия в программировании работают так же, позволяя программе выбирать нужный путь.\n",
        "\n",
        "### Синтаксис оператора `if`\n",
        "\n",
        "```python\n",
        "if условие:\n",
        "    # Код, который выполнится, если условие истинно\n",
        "```\n",
        "- После `if` идёт условие, затем двоеточие (`:`).\n",
        "- Код внутри блока `if` должен иметь отступ (обычно 4 пробела).\n",
        "- **Важно:** В Python отступы определяют блоки кода, в отличие от других языков, где используются фигурные скобки `{}`.\n",
        "\n",
        "**Пример:** Проверка возраста для входа в клуб."
      ]
    },
    {
      "cell_type": "code",
      "execution_count": null,
      "id": "31237636",
      "metadata": {},
      "outputs": [],
      "source": [
        "age = 18\n",
        "if age >= 18:  # Проверяем, больше или равно 18\n",
        "    print(\"Вы совершеннолетний.\")"
      ]
    },
    {
      "cell_type": "markdown",
      "id": "e07d0238",
      "metadata": {},
      "source": [
        "### Оператор `if-else`\n",
        "\n",
        "Если условие в `if` ложно, выполняется блок `else`.\n",
        "\n",
        "**Пример:** Проверка доступа."
      ]
    },
    {
      "cell_type": "code",
      "execution_count": null,
      "id": "f63760fb",
      "metadata": {},
      "outputs": [],
      "source": [
        "age = 16\n",
        "if age >= 18:\n",
        "    print(\"Доступ разрешён.\")\n",
        "else:\n",
        "    print(\"Доступ запрещён.\")"
      ]
    },
    {
      "cell_type": "markdown",
      "id": "ddf15ad8",
      "metadata": {},
      "source": [
        "- **Пример из жизни:** Если на улице идёт дождь, вы берёте зонт (`if`), иначе идёте без зонта (`else`).\n",
        "\n",
        "### Оператор `if-elif-else`\n",
        "\n",
        "Для проверки нескольких условий используется `elif` (сокращение от \"else if\").\n",
        "\n",
        "**Пример:** Оценка по баллам."
      ]
    },
    {
      "cell_type": "code",
      "execution_count": null,
      "id": "863f3089",
      "metadata": {},
      "outputs": [],
      "source": [
        "score = 75\n",
        "if score >= 90:\n",
        "    print(\"Отлично!\")\n",
        "elif score >= 75:\n",
        "    print(\"Хорошо!\")\n",
        "elif score >= 60:\n",
        "    print(\"Удовлетворительно.\")\n",
        "else:\n",
        "    print(\"Неудовлетворительно.\")"
      ]
    },
    {
      "cell_type": "markdown",
      "id": "ad1aaa5a",
      "metadata": {},
      "source": [
        "- **Почему это полезно?** Это как выбор оценки в школе: в зависимости от баллов вы получаете \"отлично\", \"хорошо\" или другую оценку.\n",
        "- **Как работает?** Проверяется каждое условие сверху вниз, выполняется первый истинный блок, остальные игнорируются.\n",
        "\n",
        "### Логические операторы\n",
        "\n",
        "Логические операторы позволяют комбинировать условия:\n",
        "- `and`: Истинно, если оба условия истинны.\n",
        "- `or`: Истинно, если хотя бы одно условие истинно.\n",
        "- `not`: Инвертирует значение условия.\n",
        "\n",
        "**Пример с `and`:** Проверка возраста и наличия билета."
      ]
    },
    {
      "cell_type": "code",
      "execution_count": null,
      "id": "565abdf3",
      "metadata": {},
      "outputs": [],
      "source": [
        "age = 20\n",
        "has_ticket = True\n",
        "if age >= 18 and has_ticket:\n",
        "    print(\"Вход разрешён\")\n",
        "else:\n",
        "    print(\"Вход запрещён\")"
      ]
    },
    {
      "cell_type": "markdown",
      "id": "84b926a2",
      "metadata": {},
      "source": [
        "- **Из жизни:** Чтобы войти в музей, нужно быть старше 18 и иметь билет.\n",
        "\n",
        "**Пример с `or`:** Проверка возраста или разрешения."
      ]
    },
    {
      "cell_type": "code",
      "execution_count": null,
      "id": "5597f621",
      "metadata": {},
      "outputs": [],
      "source": [
        "age = 16\n",
        "has_permission = True\n",
        "if age >= 18 or has_permission:\n",
        "    print(\"Вход разрешён\")\n",
        "else:\n",
        "    print(\"Вход запрещён\")"
      ]
    },
    {
      "cell_type": "markdown",
      "id": "2ae72e35",
      "metadata": {},
      "source": [
        "- **Из жизни:** Вы можете войти в клуб, если вам 18 или у вас есть разрешение родителей.\n",
        "\n",
        "**Пример с `not`:** Проверка отсутствия дождя."
      ]
    },
    {
      "cell_type": "code",
      "execution_count": null,
      "id": "dbd69039",
      "metadata": {},
      "outputs": [],
      "source": [
        "is_raining = False\n",
        "if not is_raining:\n",
        "    print(\"Погода хорошая, можно гулять!\")\n",
        "else:\n",
        "    print(\"Возьмите зонт.\")"
      ]
    },
    {
      "cell_type": "markdown",
      "id": "41a03f0c",
      "metadata": {},
      "source": [
        "- **Из жизни:** Если не идёт дождь, можно пойти на прогулку.\n",
        "\n",
        "**Таблица истинности для `and`:**\n",
        "| A     | B     | A and B |\n",
        "|-------|-------|---------|\n",
        "| True  | True  | True    |\n",
        "| True  | False | False   |\n",
        "| False | True  | False   |\n",
        "| False | False | False   |\n",
        "\n",
        "**Таблица истинности для `or`:**\n",
        "| A     | B     | A or B  |\n",
        "|-------|-------|---------|\n",
        "| True  | True  | True    |\n",
        "| True  | False | True    |\n",
        "| False | True  | True    |\n",
        "| False | False | False   |\n",
        "\n",
        "### Тернарное выражение\n",
        "\n",
        "Тернарное выражение — это краткая запись `if-else` в одну строку.\n",
        "\n",
        "**Пример:**"
      ]
    },
    {
      "cell_type": "code",
      "execution_count": null,
      "id": "13dfad1d",
      "metadata": {},
      "outputs": [],
      "source": [
        "age = 17\n",
        "message = \"Взрослый\" if age >= 18 else \"Несовершеннолетний\"\n",
        "print(message)  # Несовершеннолетний"
      ]
    },
    {
      "cell_type": "markdown",
      "id": "16835a03",
      "metadata": {},
      "source": [
        "- **Почему это полезно?** Это экономит место и делает код компактным, когда нужно простое решение.\n",
        "- **Из жизни:** Это как быстро решить, надеть куртку (если холодно) или футболку (если тепло).\n",
        "\n",
        "### Общие ошибки и как их избежать\n",
        "- **Забыть двоеточие (`:`):** Всегда ставьте `:` после `if`, `elif`, `else`.\n",
        "- **Неправильные отступы:** Убедитесь, что код внутри блока имеет одинаковый отступ (4 пробела).\n",
        "- **Использование `=` вместо `==`:** Для сравнения используйте `==`, а `=` — для присваивания.\n",
        "- **Неучёт всех случаев:** Проверяйте, что ваш код обрабатывает все возможные ситуации (например, добавьте `else`).\n",
        "\n",
        "**Совет:** Чтобы отладить код, добавляйте `print()` для проверки значений переменных. Например, `print(age)` перед `if` поможет понять, что хранится в переменной.\n",
        "\n",
        "### Практика: Условные операторы\n",
        "\n",
        "1. Напишите функцию `is_adult(age)`, которая возвращает `True`, если возраст >= 18, иначе `False`.\n",
        "   - **Ожидаемый результат:** `is_adult(20)` → `True`, `is_adult(17)` → `False`."
      ]
    },
    {
      "cell_type": "code",
      "execution_count": null,
      "id": "166d71d4",
      "metadata": {},
      "outputs": [],
      "source": [
        "# Ваш код здесь\n",
        "def is_adult(age):\n",
        "    pass"
      ]
    },
    {
      "cell_type": "code",
      "execution_count": null,
      "id": "fc5bcb2b",
      "metadata": {},
      "outputs": [],
      "source": [
        "# Проверка задания 1\n",
        "try:\n",
        "    assert 'is_adult' in globals(), \"Функция is_adult не определена\"\n",
        "    assert callable(is_adult), \"is_adult должна быть функцией\"\n",
        "    assert is_adult(20) == True, \"is_adult(20) должно вернуть True\"\n",
        "    assert is_adult(17) == False, \"is_adult(17) должно вернуть False\"\n",
        "    print(\"Задание 1 выполнено правильно!\")\n",
        "except AssertionError as e:\n",
        "    print(f\"Ошибка: {e}\")\n"
      ]
    },
    {
      "cell_type": "markdown",
      "id": "372c2522",
      "metadata": {},
      "source": [
        "<details><summary>Решение задания 1</summary>\n",
        "\n",
        "```python\n",
        "def is_adult(age):\n",
        "    return age >= 18\n",
        "```\n",
        "</details>\n",
        "\n",
        "2. Напишите функцию `check_access(name, age)`, которая возвращает \"Доступ разрешён\", если имя == \"Федор\" и возраст >= 18, иначе \"Доступ запрещён\".\n",
        "   - **Ожидаемый результат:** `check_access(\"Федор\", 20)` → \"Доступ разрешён\", `check_access(\"Алиса\", 20)` → \"Доступ запрещён\", `check_access(\"Федор\", 17)` → \"Доступ запрещён\"."
      ]
    },
    {
      "cell_type": "code",
      "execution_count": null,
      "id": "41b3b0be",
      "metadata": {},
      "outputs": [],
      "source": [
        "# Ваш код здесь\n",
        "def check_access(name, age):\n",
        "    pass"
      ]
    },
    {
      "cell_type": "code",
      "execution_count": null,
      "id": "bbc27952",
      "metadata": {},
      "outputs": [],
      "source": [
        "# Проверка задания 2\n",
        "try:\n",
        "    assert 'check_access' in globals(), \"Функция check_access не определена\"\n",
        "    assert callable(check_access), \"check_access должна быть функцией\"\n",
        "    assert check_access(\"Федор\", 20) == \"Доступ разрешён\", \"check_access('Федор', 20) должно вернуть 'Доступ разрешён'\"\n",
        "    assert check_access(\"Алиса\", 20) == \"Доступ запрещён\", \"check_access('Алиса', 20) должно вернуть 'Доступ запрещён'\"\n",
        "    assert check_access(\"Федор\", 17) == \"Доступ запрещён\", \"check_access('Федор', 17) должно вернуть 'Доступ запрещён'\"\n",
        "    print(\"Задание 2 выполнено правильно!\")\n",
        "except AssertionError as e:\n",
        "    print(f\"Ошибка: {e}\")\n"
      ]
    },
    {
      "cell_type": "markdown",
      "id": "30267874",
      "metadata": {},
      "source": [
        "<details><summary>Решение задания 2</summary>\n",
        "\n",
        "```python\n",
        "def check_access(name, age):\n",
        "    if name == \"Федор\" and age >= 18:\n",
        "        return \"Доступ разрешён\"\n",
        "    return \"Доступ запрещён\"\n",
        "```\n",
        "</details>\n",
        "\n",
        "3. Напишите функцию `is_even(number)`, которая возвращает `True`, если число чётное, иначе `False`.\n",
        "   - **Ожидаемый результат:** `is_even(4)` → `True`, `is_even(7)` → `False`."
      ]
    },
    {
      "cell_type": "code",
      "execution_count": null,
      "id": "ea45ae2e",
      "metadata": {},
      "outputs": [],
      "source": [
        "# Ваш код здесь\n",
        "def is_even(number):\n",
        "    pass"
      ]
    },
    {
      "cell_type": "code",
      "execution_count": null,
      "id": "30dcd67a",
      "metadata": {},
      "outputs": [],
      "source": [
        "# Проверка задания 3\n",
        "try:\n",
        "    assert 'is_even' in globals(), \"Функция is_even не определена\"\n",
        "    assert callable(is_even), \"is_even должна быть функцией\"\n",
        "    assert is_even(4) == True, \"is_even(4) должно вернуть True\"\n",
        "    assert is_even(7) == False, \"is_even(7) должно вернуть False\"\n",
        "    print(\"Задание 3 выполнено правильно!\")\n",
        "except AssertionError as e:\n",
        "    print(f\"Ошибка: {e}\")\n"
      ]
    },
    {
      "cell_type": "markdown",
      "id": "759b5510",
      "metadata": {},
      "source": [
        "<details><summary>Решение задания 3</summary>\n",
        "\n",
        "```python\n",
        "def is_even(number):\n",
        "    return number % 2 == 0\n",
        "```\n",
        "</details>\n"
      ]
    },
    {
      "cell_type": "markdown",
      "id": "5f21bcbb",
      "metadata": {},
      "source": [
        "## 🔁 2. Циклы\n",
        "\n",
        "### Что такое цикл?\n",
        "\n",
        "Цикл позволяет повторять блок кода несколько раз, что экономит время и упрощает работу с данными. В Python есть два основных типа циклов: `for` и `while`.\n",
        "\n",
        "**Пример из жизни:** Представьте, что вы отправляете сообщения всем друзьям из списка. Вместо того чтобы писать каждое сообщение вручную, вы можете использовать цикл, чтобы отправить их автоматически.\n",
        "\n",
        "### Цикл `for`\n",
        "\n",
        "Цикл `for` используется для перебора элементов коллекции (списка, строки, словаря и т.д.).\n",
        "\n",
        "**Пример:** Перебор списка покупок."
      ]
    },
    {
      "cell_type": "code",
      "execution_count": null,
      "id": "c144996a",
      "metadata": {},
      "outputs": [],
      "source": [
        "fruits = [\"яблоко\", \"банан\", \"вишня\"]\n",
        "for fruit in fruits:  # Для каждого фрукта в списке\n",
        "    print(fruit)"
      ]
    },
    {
      "cell_type": "markdown",
      "id": "fc98871f",
      "metadata": {},
      "source": [
        "- **Из жизни:** Это как пройти по списку покупок и взять каждый продукт с полки.\n",
        "\n",
        "**Пример:** Подсчёт общей стоимости."
      ]
    },
    {
      "cell_type": "code",
      "execution_count": null,
      "id": "62982c23",
      "metadata": {},
      "outputs": [],
      "source": [
        "prices = [10, 20, 15]\n",
        "total = 0\n",
        "for price in prices:\n",
        "    total += price\n",
        "print(f\"Общая стоимость: {total}\")"
      ]
    },
    {
      "cell_type": "markdown",
      "id": "025e197f",
      "metadata": {},
      "source": [
        "- **Из жизни:** Это как сложить цены всех товаров в корзине.\n",
        "\n",
        "### Функция `range()`\n",
        "\n",
        "Функция `range()` создаёт последовательность чисел:\n",
        "- `range(5)`: от 0 до 4.\n",
        "- `range(2, 6)`: от 2 до 5.\n",
        "- `range(0, 10, 2)`: от 0 до 9 с шагом 2.\n",
        "\n",
        "**Пример:**"
      ]
    },
    {
      "cell_type": "code",
      "execution_count": null,
      "id": "81e97633",
      "metadata": {},
      "outputs": [],
      "source": [
        "for i in range(5):\n",
        "    print(i)  # 0, 1, 2, 3, 4"
      ]
    },
    {
      "cell_type": "markdown",
      "id": "e54e8269",
      "metadata": {},
      "source": [
        "- **Из жизни:** Это как повторить действие 5 раз, например, сделать 5 звонков.\n",
        "\n",
        "**Пример с шагом:**"
      ]
    },
    {
      "cell_type": "code",
      "execution_count": null,
      "id": "6f1bb0e6",
      "metadata": {},
      "outputs": [],
      "source": [
        "for i in range(0, 10, 2):\n",
        "    print(i)  # 0, 2, 4, 6, 8"
      ]
    },
    {
      "cell_type": "markdown",
      "id": "cd81a29d",
      "metadata": {},
      "source": [
        "- **Из жизни:** Это как проверять только чётные номера домов на улице.\n",
        "\n",
        "### Цикл `while`\n",
        "\n",
        "Цикл `while` выполняется, пока условие истинно. Используется, когда количество итераций заранее неизвестно.\n",
        "\n",
        "**Пример:**"
      ]
    },
    {
      "cell_type": "code",
      "execution_count": null,
      "id": "1205a85c",
      "metadata": {},
      "outputs": [],
      "source": [
        "count = 0\n",
        "while count < 5:\n",
        "    print(count)\n",
        "    count += 1  # Обновляем переменную, чтобы избежать бесконечного цикла"
      ]
    },
    {
      "cell_type": "markdown",
      "id": "7bacd215",
      "metadata": {},
      "source": [
        "- **Из жизни:** Это как ждать автобус: вы продолжаете ждать, пока он не приедет.\n",
        "\n",
        "**Пример:** Подсчёт попыток ввода пароля."
      ]
    },
    {
      "cell_type": "code",
      "execution_count": null,
      "id": "3ad223d3",
      "metadata": {},
      "outputs": [],
      "source": [
        "password = \"\"\n",
        "attempts = 0\n",
        "while password != \"secret\" and attempts < 3:\n",
        "    password = input(\"Введите пароль: \")\n",
        "    attempts += 1\n",
        "if password == \"secret\":\n",
        "    print(\"Доступ разрешён!\")\n",
        "else:\n",
        "    print(\"Слишком много попыток.\")"
      ]
    },
    {
      "cell_type": "markdown",
      "id": "b215e4d0",
      "metadata": {},
      "source": [
        "- **Из жизни:** Это как пытаться ввести пароль, пока не получится или не закончится лимит попыток.\n",
        "\n",
        "### Ключевые слова в циклах\n",
        "\n",
        "- `break`: Прерывает цикл.\n",
        "- `continue`: Пропускает текущую итерацию и переходит к следующей.\n",
        "- `else`: Выполняется, если цикл завершился без `break`.\n",
        "\n",
        "**Пример с `break`:**"
      ]
    },
    {
      "cell_type": "code",
      "execution_count": null,
      "id": "db5bfc00",
      "metadata": {},
      "outputs": [],
      "source": [
        "for i in range(10):\n",
        "    if i == 5:\n",
        "        break  # Прерываем цикл, когда i равно 5\n",
        "    print(i)  # 0, 1, 2, 3, 4"
      ]
    },
    {
      "cell_type": "markdown",
      "id": "5b9a6c2d",
      "metadata": {},
      "source": [
        "- **Из жизни:** Это как остановить работу, если вы нашли нужный предмет.\n",
        "\n",
        "**Пример с `continue`:**"
      ]
    },
    {
      "cell_type": "code",
      "execution_count": null,
      "id": "eb84589e",
      "metadata": {},
      "outputs": [],
      "source": [
        "for i in range(10):\n",
        "    if i % 2 == 0:\n",
        "        continue  # Пропускаем чётные числа\n",
        "    print(i)  # 1, 3, 5, 7, 9"
      ]
    },
    {
      "cell_type": "markdown",
      "id": "7e679cf3",
      "metadata": {},
      "source": [
        "- **Из жизни:** Это как пропускать неинтересные книги в библиотеке и читать только нужные.\n",
        "\n",
        "**Пример с `else`:**"
      ]
    },
    {
      "cell_type": "code",
      "execution_count": null,
      "id": "1cc0a679",
      "metadata": {},
      "outputs": [],
      "source": [
        "for i in range(5):\n",
        "    print(i)\n",
        "else:\n",
        "    print(\"Цикл завершён!\")"
      ]
    },
    {
      "cell_type": "markdown",
      "id": "8091257d",
      "metadata": {},
      "source": [
        "- **Из жизни:** Это как сказать \"всё сделано\", когда вы закончили проверять весь список.\n",
        "\n",
        "### Работа с коллекциями\n",
        "\n",
        "**Перебор словаря:**"
      ]
    },
    {
      "cell_type": "code",
      "execution_count": null,
      "id": "e707948d",
      "metadata": {},
      "outputs": [],
      "source": [
        "person = {\"name\": \"Alice\", \"age\": 30}\n",
        "for key, value in person.items():\n",
        "    print(f\"{key}: {value}\")"
      ]
    },
    {
      "cell_type": "markdown",
      "id": "cb6cc14a",
      "metadata": {},
      "source": [
        "- **Из жизни:** Это как просматривать телефонную книгу, где для каждого имени вы видите номер.\n",
        "\n",
        "**Перебор строки:**"
      ]
    },
    {
      "cell_type": "code",
      "execution_count": null,
      "id": "201d6fa6",
      "metadata": {},
      "outputs": [],
      "source": [
        "for letter in \"Python\":\n",
        "    print(letter)"
      ]
    },
    {
      "cell_type": "markdown",
      "id": "de49e542",
      "metadata": {},
      "source": [
        "- **Из жизни:** Это как читать слово по буквам, чтобы найти определённые символы.\n",
        "\n",
        "### Общие ошибки и как их избежать\n",
        "- **Бесконечный цикл в `while`:** Убедитесь, что условие в `while` рано или поздно станет ложным. Например, всегда обновляйте переменную цикла (`count += 1`).\n",
        "- **Ошибка в `range`:** Помните, что `range(5)` идёт от 0 до 4, а не до 5.\n",
        "- **Изменение списка во время перебора:** Это может привести к ошибкам. Если нужно изменить список, создайте копию.\n",
        "- **Совет:** Используйте `print()` для отладки, чтобы увидеть, как меняются переменные в цикле.\n",
        "\n",
        "### Практика: Циклы\n",
        "\n",
        "1. Напишите функцию `get_numbers()`, которая возвращает список чисел от 1 до 10 включительно.\n",
        "   - **Ожидаемый результат:** `get_numbers()` → `[1, 2, 3, 4, 5, 6, 7, 8, 9, 10]`."
      ]
    },
    {
      "cell_type": "code",
      "execution_count": null,
      "id": "202fe9d8",
      "metadata": {},
      "outputs": [],
      "source": [
        "# Ваш код здесь\n",
        "def get_numbers():\n",
        "    pass"
      ]
    },
    {
      "cell_type": "code",
      "execution_count": null,
      "id": "701c4a1d",
      "metadata": {},
      "outputs": [],
      "source": [
        "# Проверка задания 1\n",
        "try:\n",
        "    assert 'get_numbers' in globals(), \"Функция get_numbers не определена\"\n",
        "    assert callable(get_numbers), \"get_numbers должна быть функцией\"\n",
        "    assert get_numbers() == [1, 2, 3, 4, 5, 6, 7, 8, 9, 10], \"get_numbers должно вернуть [1, 2, 3, 4, 5, 6, 7, 8, 9, 10]\"\n",
        "    print(\"Задание 1 выполнено правильно!\")\n",
        "except AssertionError as e:\n",
        "    print(f\"Ошибка: {e}\")\n"
      ]
    },
    {
      "cell_type": "markdown",
      "id": "cb41a59b",
      "metadata": {},
      "source": [
        "<details><summary>Решение задания 1</summary>\n",
        "\n",
        "```python\n",
        "def get_numbers():\n",
        "    numbers = []\n",
        "    for i in range(1, 11):\n",
        "        numbers.append(i)\n",
        "    return numbers\n",
        "```\n",
        "</details>\n",
        "\n",
        "2. Напишите функцию `count_down(start)`, которая возвращает список чисел от `start` до 0 включительно в порядке убывания.\n",
        "   - **Ожидаемый результат:** `count_down(5)` → `[5, 4, 3, 2, 1, 0]`."
      ]
    },
    {
      "cell_type": "code",
      "execution_count": null,
      "id": "91e48c6e",
      "metadata": {},
      "outputs": [],
      "source": [
        "# Ваш код здесь\n",
        "def count_down(start):\n",
        "    pass"
      ]
    },
    {
      "cell_type": "code",
      "execution_count": null,
      "id": "fd447481",
      "metadata": {},
      "outputs": [],
      "source": [
        "# Проверка задания 2\n",
        "try:\n",
        "    assert 'count_down' in globals(), \"Функция count_down не определена\"\n",
        "    assert callable(count_down), \"count_down должна быть функцией\"\n",
        "    assert count_down(5) == [5, 4, 3, 2, 1, 0], \"count_down(5) должно вернуть [5, 4, 3, 2, 1, 0]\"\n",
        "    assert count_down(3) == [3, 2, 1, 0], \"count_down(3) должно вернуть [3, 2, 1, 0]\"\n",
        "    print(\"Задание 2 выполнено правильно!\")\n",
        "except AssertionError as e:\n",
        "    print(f\"Ошибка: {e}\")\n"
      ]
    },
    {
      "cell_type": "markdown",
      "id": "0e1352d5",
      "metadata": {},
      "source": [
        "<details><summary>Решение задания 2</summary>\n",
        "\n",
        "```python\n",
        "def count_down(start):\n",
        "    numbers = []\n",
        "    while start >= 0:\n",
        "        numbers.append(start)\n",
        "        start -= 1\n",
        "    return numbers\n",
        "```\n",
        "</details>\n",
        "\n",
        "3. Напишите функцию `get_even_numbers()`, которая возвращает список чётных чисел от 0 до 20 включительно.\n",
        "   - **Ожидаемый результат:** `get_even_numbers()` → `[0, 2, 4, 6, 8, 10, 12, 14, 16, 18, 20]`."
      ]
    },
    {
      "cell_type": "code",
      "execution_count": null,
      "id": "dcae5d75",
      "metadata": {},
      "outputs": [],
      "source": [
        "# Ваш код здесь\n",
        "def get_even_numbers():\n",
        "    pass"
      ]
    },
    {
      "cell_type": "code",
      "execution_count": null,
      "id": "3b3f4c90",
      "metadata": {},
      "outputs": [],
      "source": [
        "# Проверка задания 3\n",
        "try:\n",
        "    assert 'get_even_numbers' in globals(), \"Функция get_even_numbers не определена\"\n",
        "    assert callable(get_even_numbers), \"get_even_numbers должна быть функцией\"\n",
        "    assert get_even_numbers() == [0, 2, 4, 6, 8, 10, 12, 14, 16, 18, 20], \"get_even_numbers должно вернуть [0, 2, 4, 6, 8, 10, 12, 14, 16, 18, 20]\"\n",
        "    print(\"Задание 3 выполнено правильно!\")\n",
        "except AssertionError as e:\n",
        "    print(f\"Ошибка: {e}\")\n"
      ]
    },
    {
      "cell_type": "markdown",
      "id": "4843d3ec",
      "metadata": {},
      "source": [
        "<details><summary>Решение задания 3</summary>\n",
        "\n",
        "```python\n",
        "def get_even_numbers():\n",
        "    numbers = []\n",
        "    for i in range(0, 21, 2):\n",
        "        numbers.append(i)\n",
        "    return numbers\n",
        "```\n",
        "</details>\n",
        "\n",
        "4. Напишите функцию `filter_starting_with_P(words)`, которая возвращает список слов, начинающихся на букву 'П'.\n",
        "   - **Ожидаемый результат:** `filter_starting_with_P(['Яблоко', 'Персик', 'Банан', 'Помидор'])` → `['Персик', 'Помидор']`."
      ]
    },
    {
      "cell_type": "code",
      "execution_count": null,
      "id": "c3de2537",
      "metadata": {},
      "outputs": [],
      "source": [
        "# Ваш код здесь\n",
        "def filter_starting_with_P(words):\n",
        "    pass"
      ]
    },
    {
      "cell_type": "code",
      "execution_count": null,
      "id": "62be05f9",
      "metadata": {},
      "outputs": [],
      "source": [
        "# Проверка задания 4\n",
        "try:\n",
        "    assert 'filter_starting_with_P' in globals(), \"Функция filter_starting_with_P не определена\"\n",
        "    assert callable(filter_starting_with_P), \"filter_starting_with_P должна быть функцией\"\n",
        "    assert filter_starting_with_P(['Яблоко', 'Персик', 'Банан', 'Помидор']) == ['Персик', 'Помидор'], \"filter_starting_with_P(['Яблоко', 'Персик', 'Банан', 'Помидор']) должно вернуть ['Персик', 'Помидор']\"\n",
        "    assert filter_starting_with_P(['Артём', 'Павел', 'Игорь']) == ['Павел'], \"filter_starting_with_P(['Артём', 'Павел', 'Игорь']) должно вернуть ['Павел']\"\n",
        "    print(\"Задание 4 выполнено правильно!\")\n",
        "except AssertionError as e:\n",
        "    print(f\"Ошибка: {e}\")\n"
      ]
    },
    {
      "cell_type": "markdown",
      "id": "5e889fca",
      "metadata": {},
      "source": [
        "<details><summary>Решение задания 4</summary>\n",
        "\n",
        "```python\n",
        "def filter_starting_with_P(words):\n",
        "    result = []\n",
        "    for word in words:\n",
        "        if word.startswith('П'):\n",
        "            result.append(word)\n",
        "    return result\n",
        "```\n",
        "</details>\n",
        "\n",
        "5. Напишите функцию `get_vowels(text)`, которая возвращает список гласных букв (а, е, и, о, у, я, ё, ю, ы, э) из текста в нижнем регистре.\n",
        "   - **Ожидаемый результат:** `get_vowels('Привет, мир!')` → `['и', 'е', 'и']`."
      ]
    },
    {
      "cell_type": "code",
      "execution_count": null,
      "id": "ff45843e",
      "metadata": {},
      "outputs": [],
      "source": [
        "# Ваш код здесь\n",
        "def get_vowels(text):\n",
        "    pass"
      ]
    },
    {
      "cell_type": "code",
      "execution_count": null,
      "id": "748dd750",
      "metadata": {},
      "outputs": [],
      "source": [
        "# Проверка задания 5\n",
        "try:\n",
        "    assert 'get_vowels' in globals(), \"Функция get_vowels не определена\"\n",
        "    assert callable(get_vowels), \"get_vowels должна быть функцией\"\n",
        "    assert get_vowels('Привет, мир!') == ['и', 'е', 'и'], \"get_vowels('Привет, мир!') должно вернуть ['и', 'е', 'и']\"\n",
        "    assert get_vowels('Солнце') == ['о', 'е'], \"get_vowels('Солнце') должно вернуть ['о', 'е']\"\n",
        "    print(\"Задание 5 выполнено правильно!\")\n",
        "except AssertionError as e:\n",
        "    print(f\"Ошибка: {e}\")\n"
      ]
    },
    {
      "cell_type": "markdown",
      "id": "c56c00c4",
      "metadata": {},
      "source": [
        "<details><summary>Решение задания 5</summary>\n",
        "\n",
        "```python\n",
        "def get_vowels(text):\n",
        "    vowels = ['а', 'е', 'и', 'о', 'у', 'я', 'ё', 'ю', 'ы', 'э']\n",
        "    result = []\n",
        "    for char in text.lower():\n",
        "        if char in vowels:\n",
        "            result.append(char)\n",
        "    return result\n",
        "```\n",
        "</details>\n"
      ]
    },
    {
      "cell_type": "markdown",
      "id": "10a45cdd",
      "metadata": {},
      "source": [
        "## 🏠 Домашнее задание\n",
        "\n",
        "Выполните все три задачи. Каждое задание должно быть реализовано как функция с чётким результатом.\n",
        "\n",
        "1. Напишите функцию `future_age(name, age)`, которая возвращает строку с именем и возрастом через 10 лет.\n",
        "   - **Ожидаемый результат:** `future_age('Alice', 20)` → \"Через 10 лет Alice будет 30 лет\"."
      ]
    },
    {
      "cell_type": "code",
      "execution_count": null,
      "id": "d8976477",
      "metadata": {},
      "outputs": [],
      "source": [
        "# Ваш код здесь\n",
        "def future_age(name, age):\n",
        "    pass"
      ]
    },
    {
      "cell_type": "code",
      "execution_count": null,
      "id": "ef0f57ca",
      "metadata": {},
      "outputs": [],
      "source": [
        "# Проверка задания 1\n",
        "try:\n",
        "    assert 'future_age' in globals(), \"Функция future_age не определена\"\n",
        "    assert callable(future_age), \"future_age должна быть функцией\"\n",
        "    assert future_age('Alice', 20) == \"Через 10 лет Alice будет 30 лет\", \"future_age('Alice', 20) должно вернуть 'Через 10 лет Alice будет 30 лет'\"\n",
        "    assert future_age('Bob', 15) == \"Через 10 лет Bob будет 25 лет\", \"future_age('Bob', 15) должно вернуть 'Через 10 лет Bob будет 25 лет'\"\n",
        "    print(\"Домашнее задание 1 выполнено правильно!\")\n",
        "except AssertionError as e:\n",
        "    print(f\"Ошибка: {e}\")\n"
      ]
    },
    {
      "cell_type": "markdown",
      "id": "3a6512da",
      "metadata": {},
      "source": [
        "<details><summary>Решение домашнего задания 1</summary>\n",
        "\n",
        "```python\n",
        "def future_age(name, age):\n",
        "    future = age + 10\n",
        "    return f\"Через 10 лет {name} будет {future} лет\"\n",
        "```\n",
        "</details>\n",
        "\n",
        "2. Напишите функцию `check_even_numbers(numbers)`, которая принимает список из 5 чисел и возвращает список строк \"Чётное\" или \"Нечётное\" для каждого числа.\n",
        "   - **Ожидаемый результат:** `check_even_numbers([4, 7, 12, 3, 8])` → `['Чётное', 'Нечётное', 'Чётное', 'Нечётное', 'Чётное']`."
      ]
    },
    {
      "cell_type": "code",
      "execution_count": null,
      "id": "97d42bc8",
      "metadata": {},
      "outputs": [],
      "source": [
        "# Ваш код здесь\n",
        "def check_even_numbers(numbers):\n",
        "    pass"
      ]
    },
    {
      "cell_type": "code",
      "execution_count": null,
      "id": "fde2453e",
      "metadata": {},
      "outputs": [],
      "source": [
        "# Проверка задания 2\n",
        "try:\n",
        "    assert 'check_even_numbers' in globals(), \"Функция check_even_numbers не определена\"\n",
        "    assert callable(check_even_numbers), \"check_even_numbers должна быть функцией\"\n",
        "    result = check_even_numbers([4, 7, 12, 3, 8])\n",
        "    assert result == ['Чётное', 'Нечётное', 'Чётное', 'Нечётное', 'Чётное'], \"check_even_numbers([4, 7, 12, 3, 8]) должно вернуть ['Чётное', 'Нечётное', 'Чётное', 'Нечётное', 'Чётное']\"\n",
        "    assert len(result) == 5, \"Результат должен содержать 5 элементов\"\n",
        "    print(\"Домашнее задание 2 выполнено правильно!\")\n",
        "except AssertionError as e:\n",
        "    print(f\"Ошибка: {e}\")\n"
      ]
    },
    {
      "cell_type": "markdown",
      "id": "e1b50e85",
      "metadata": {},
      "source": [
        "<details><summary>Решение домашнего задания 2</summary>\n",
        "\n",
        "```python\n",
        "def check_even_numbers(numbers):\n",
        "    result = []\n",
        "    for num in numbers:\n",
        "        if num % 2 == 0:\n",
        "            result.append(\"Чётное\")\n",
        "        else:\n",
        "            result.append(\"Нечётное\")\n",
        "    return result\n",
        "```\n",
        "</details>\n",
        "\n",
        "3. Напишите функцию `fizz_buzz()`, которая возвращает список строк от 1 до 100, где числа, делящиеся на 3, заменены на \"Fizz\", на 5 — на \"Buzz\", на 3 и 5 — на \"FizzBuzz\", а остальные остаются числами в виде строк.\n",
        "   - **Ожидаемый результат:** `fizz_buzz()` → `[1, 2, 'Fizz', 4, 'Buzz', 'Fizz', 7, 8, 'Fizz', 'Buzz', ..., 'FizzBuzz', ...]`."
      ]
    },
    {
      "cell_type": "code",
      "execution_count": null,
      "id": "e1983e2c",
      "metadata": {},
      "outputs": [],
      "source": [
        "# Ваш код здесь\n",
        "def fizz_buzz():\n",
        "    pass"
      ]
    },
    {
      "cell_type": "code",
      "execution_count": null,
      "id": "c3b2e13f",
      "metadata": {},
      "outputs": [],
      "source": [
        "# Проверка задания 3\n",
        "try:\n",
        "    assert 'fizz_buzz' in globals(), \"Функция fizz_buzz не определена\"\n",
        "    assert callable(fizz_buzz), \"fizz_buzz должна быть функцией\"\n",
        "    result = fizz_buzz()\n",
        "    assert len(result) == 100, \"fizz_buzz должно вернуть список из 100 элементов\"\n",
        "    assert result[2] == \"Fizz\", \"Число 3 должно быть заменено на 'Fizz'\"\n",
        "    assert result[4] == \"Buzz\", \"Число 5 должно быть заменено на 'Buzz'\"\n",
        "    assert result[14] == \"FizzBuzz\", \"Число 15 должно быть заменено на 'FizzBuzz'\"\n",
        "    assert result[0] == \"1\", \"Число 1 должно остаться '1'\"\n",
        "    print(\"Домашнее задание 3 выполнено правильно!\")\n",
        "except AssertionError as e:\n",
        "    print(f\"Ошибка: {e}\")\n"
      ]
    },
    {
      "cell_type": "markdown",
      "id": "999969f4",
      "metadata": {},
      "source": [
        "<details><summary>Решение домашнего задания 3</summary>\n",
        "\n",
        "```python\n",
        "def fizz_buzz():\n",
        "    result = []\n",
        "    for i in range(1, 101):\n",
        "        if i % 3 == 0 and i % 5 == 0:\n",
        "            result.append(\"FizzBuzz\")\n",
        "        elif i % 3 == 0:\n",
        "            result.append(\"Fizz\")\n",
        "        elif i % 5 == 0:\n",
        "            result.append(\"Buzz\")\n",
        "        else:\n",
        "            result.append(str(i))\n",
        "    return result\n",
        "```\n",
        "</details>\n"
      ]
    },
    {
      "cell_type": "markdown",
      "id": "abd98ddb",
      "metadata": {},
      "source": [
        "## 🎯 Итог\n",
        "\n",
        "Сегодня ты научился использовать условные конструкции и циклы — это основа большинства программ на любом языке программирования. Теперь ты можешь писать программы, которые принимают решения и обрабатывают данные динамически.\n",
        "\n",
        "**Что ты умеешь:**\n",
        "- Использовать `if`, `elif`, `else` для принятия решений.\n",
        "- Комбинировать условия с помощью `and`, `or`, `not`.\n",
        "- Применять циклы `for` и `while` для повторения действий.\n",
        "- Работать с коллекциями (списки, строки, словари) в циклах.\n",
        "- Использовать `break`, `continue`, `else` для управления циклами.\n",
        "\n",
        "**На следующем занятии:** функции, параметры, возвращаемые значения и работа с ошибками! Продолжайте практиковаться, и программирование станет для вас таким же естественным, как составление списка покупок."
      ]
    }
  ],
  "metadata": {
    "kernelspec": {
      "display_name": "Python 3",
      "language": "python",
      "name": "python3"
    },
    "language_info": {
      "codemirror_mode": {
        "name": "ipython",
        "version": 3
      },
      "file_extension": ".py",
      "mimetype": "text/x-python",
      "name": "python",
      "nbconvert_exporter": "python",
      "pygments_lexer": "ipython3",
      "version": "3.12.10"
    }
  },
  "nbformat": 4,
  "nbformat_minor": 5
}
