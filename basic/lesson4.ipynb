{
  "cells": [
    {
      "cell_type": "markdown",
      "id": "2e10b0c5",
      "metadata": {},
      "source": [
        "# 📁 Урок 4: Работа с файлами и обработка ошибок в Python\n",
        "\n",
        "**Цель урока:**\n",
        "- Понять, как открывать, читать и записывать файлы в Python.\n",
        "- Освоить контекстный менеджер `with` для безопасной работы с файлами.\n",
        "- Научиться обрабатывать ошибки с помощью `try-except`, чтобы программы не \"падали\".\n",
        "- Применить знания в практических заданиях и домашней работе.\n",
        "\n",
        "**Почему это важно?**  \n",
        "Работа с файлами — это как умение сохранять свои заметки: без этого данные исчезнут после завершения программы. Обработка ошибок — это как страховка: она защищает от сбоев, если что-то пошло не так. Эти навыки сделают ваши программы полезными и надёжными."
      ]
    },
    {
      "cell_type": "markdown",
      "id": "a5a60284",
      "metadata": {},
      "source": [
        "## 📁 1. Работа с файлами в Python\n",
        "\n",
        "### Теория: Что такое файл и зачем он нужен?\n",
        "\n",
        "**Файл** — это контейнер на вашем компьютере, где хранятся данные: текст, числа, настройки или даже картинки. В программировании файлы нужны, чтобы:\n",
        "- **Сохранять данные:** Например, записать результаты вычислений, чтобы не потерять их.\n",
        "- **Читать данные:** Загрузить текст, настройки или логи для работы программы.\n",
        "- **Обмениваться информацией:** Передать данные другой программе или человеку.\n",
        "\n",
        "**Пример из жизни:**  \n",
        "Представьте, что вы пишете письмо. Вы открываете блокнот (открываете файл), читаете старые записи (читаете файл), дописываете новые мысли (записываете в файл) и закрываете блокнот (закрываете файл). В Python это работает почти так же!\n",
        "\n",
        "### Как Python работает с файлами?\n",
        "\n",
        "Для работы с файлами используется функция `open()`. Она как ключ, который открывает дверь к данным. У функции есть два главных аргумента:\n",
        "- **Имя файла:** Например, `\"example.txt\"` — это путь к файлу.\n",
        "- **Режим работы:** Указывает, что вы хотите сделать с файлом.\n",
        "\n",
        "**Режимы открытия файла:**\n",
        "| Режим | Описание | Пример из жизни |\n",
        "|-------|----------|-----------------|\n",
        "| `'r'` | Чтение (read) — файл должен существовать | Открыть книгу для чтения |\n",
        "| `'w'` | Запись (write) — перезапишет файл или создаст новый | Взять чистый лист и начать писать |\n",
        "| `'a'` | Добавление (append) — дописывает в конец | Добавить запись в дневник |\n",
        "| `'x'` | Создание нового файла — ошибка, если файл уже есть | Создать новый документ |\n",
        "| `'b'` | Бинарный режим — для картинок или видео | Работать с фотоальбомом |\n",
        "\n",
        "**Дополнительно:** Можно комбинировать режимы, например, `'rb'` (чтение в бинарном режиме).\n",
        "\n",
        "### Открытие и закрытие файла\n",
        "\n",
        "После открытия файла с `open()` его нужно закрыть с помощью `close()`. Если этого не сделать:\n",
        "- Файл может остаться заблокированным для других программ.\n",
        "- Компьютер будет тратить лишнюю память.\n",
        "\n",
        "**Пример из жизни:** Если вы взяли книгу с полки и не вернули её, другие не смогут её прочитать.\n",
        "\n",
        "**Пример кода:**"
      ]
    },
    {
      "cell_type": "code",
      "execution_count": null,
      "id": "71143982",
      "metadata": {},
      "outputs": [],
      "source": [
        "# Открываем файл для чтения\n",
        "file = open(\"example.txt\", \"r\")\n",
        "content = file.read()  # Читаем всё содержимое\n",
        "print(content)\n",
        "file.close()  # Обязательно закрываем файл"
      ]
    },
    {
      "cell_type": "markdown",
      "id": "df4f5aa3",
      "metadata": {},
      "source": [
        "### Чтение файла\n",
        "\n",
        "Есть несколько способов прочитать файл:\n",
        "- `file.read()` — читает весь файл как одну строку.\n",
        "- `file.readline()` — читает одну строку.\n",
        "- `file.readlines()` — читает все строки и возвращает список.\n",
        "- Цикл `for line in file` — читает файл построчно (удобно для больших файлов).\n",
        "\n",
        "**Пример построчного чтения:**"
      ]
    },
    {
      "cell_type": "code",
      "execution_count": null,
      "id": "ff881e2f",
      "metadata": {},
      "outputs": [],
      "source": [
        "file = open(\"example.txt\", \"r\")\n",
        "for line in file:\n",
        "    print(line.strip())  # strip() убирает лишние пробелы и \\n\n",
        "file.close()"
      ]
    },
    {
      "cell_type": "markdown",
      "id": "aeeb0b05",
      "metadata": {},
      "source": [
        "### Запись в файл\n",
        "\n",
        "Для записи используется метод `write()`. В режиме `'w'` старое содержимое удаляется, в режиме `'a'` — добавляется в конец.\n",
        "\n",
        "**Пример записи:**"
      ]
    },
    {
      "cell_type": "code",
      "execution_count": null,
      "id": "ddd8a7b8",
      "metadata": {},
      "outputs": [],
      "source": [
        "# Перезаписываем файл\n",
        "file = open(\"example.txt\", \"w\")\n",
        "file.write(\"Привет, мир!\\n\")\n",
        "file.write(\"Вторая строка.\")\n",
        "file.close()"
      ]
    },
    {
      "cell_type": "markdown",
      "id": "4c9edaa9",
      "metadata": {},
      "source": [
        "**Пример добавления:**"
      ]
    },
    {
      "cell_type": "code",
      "execution_count": null,
      "id": "6a75f406",
      "metadata": {},
      "outputs": [],
      "source": [
        "# Добавляем в конец\n",
        "file = open(\"example.txt\", \"a\")\n",
        "file.write(\"\\nНовая строка.\")\n",
        "file.close()"
      ]
    },
    {
      "cell_type": "markdown",
      "id": "bd1b3adc",
      "metadata": {},
      "source": [
        "### Контекстный менеджер `with`\n",
        "\n",
        "Ручное закрытие файла с `close()` неудобно и опасно — если программа \"упадёт\" до вызова `close()`, файл останется открытым. Контекстный менеджер `with` решает эту проблему:\n",
        "- Автоматически закрывает файл после работы.\n",
        "- Работает безопасно, даже если возникнет ошибка.\n",
        "\n",
        "**Пример из жизни:** Это как автоматическая дверь — она открывается и закрывается сама, вам не нужно её держать.\n",
        "\n",
        "**Пример кода:**"
      ]
    },
    {
      "cell_type": "code",
      "execution_count": null,
      "id": "89c3ed89",
      "metadata": {},
      "outputs": [],
      "source": [
        "with open(\"example.txt\", \"r\") as file:\n",
        "    content = file.read()\n",
        "    print(content)\n",
        "# Файл закрыт автоматически"
      ]
    },
    {
      "cell_type": "markdown",
      "id": "6cc7b7f9",
      "metadata": {},
      "source": [
        "**Преимущества `with`:**\n",
        "- Код чище и короче.\n",
        "- Нет риска забыть `close()`.\n",
        "- Безопасность при ошибках.\n",
        "\n",
        "### Практика: Работа с файлами\n",
        "\n",
        "Теперь применим теорию на практике. Каждое задание включает проверку результата и подсказку с решением.\n",
        "\n",
        "#### Задание 1: Чтение файла\n",
        "**Условие:** Напишите функцию `read_file(filename)`, которая открывает файл, читает его содержимое и возвращает его как строку. Используйте `with`.\n",
        "- **Ожидаемый результат:** Если в файле `example.txt` текст \"Hello\", функция вернёт \"Hello\".\n",
        "\n",
        "**Подсказка:** Открывайте файл в режиме `'r'` и используйте `file.read()`."
      ]
    },
    {
      "cell_type": "code",
      "execution_count": null,
      "id": "160a4ed2",
      "metadata": {},
      "outputs": [],
      "source": [
        "def read_file(filename):\n",
        "    with open(filename, \"r\") as file:\n",
        "        return file.read()\n",
        "\n",
        "# Проверка\n",
        "with open(\"example.txt\", \"w\") as f:\n",
        "    f.write(\"Hello\")\n",
        "result = read_file(\"example.txt\")\n",
        "assert result == \"Hello\", \"Функция не вернула ожидаемый текст\"\n",
        "print(\"Тест пройден!\")"
      ]
    },
    {
      "cell_type": "markdown",
      "id": "950f8490",
      "metadata": {},
      "source": [
        "<details><summary>Решение задания 1</summary>\n",
        "\n",
        "```python\n",
        "def read_file(filename):\n",
        "    with open(filename, \"r\") as file:\n",
        "        return file.read()\n",
        "```\n",
        "\n",
        "</details>\n",
        "\n",
        "#### Задание 2: Запись в файл\n",
        "**Условие:** Напишите функцию `write_file(filename, text)`, которая записывает текст в файл, перезаписывая его содержимое. Используйте `with`.\n",
        "- **Ожидаемый результат:** После вызова `write_file(\"test.txt\", \"Hi!\")` файл `test.txt` содержит \"Hi!\".\n",
        "\n",
        "**Подсказка:** Используйте режим `'w'`."
      ]
    },
    {
      "cell_type": "code",
      "execution_count": null,
      "id": "b38af738",
      "metadata": {},
      "outputs": [],
      "source": [
        "def write_file(filename, text):\n",
        "    with open(filename, \"w\") as file:\n",
        "        file.write(text)\n",
        "\n",
        "# Проверка\n",
        "write_file(\"test.txt\", \"Hi!\")\n",
        "with open(\"test.txt\", \"r\") as file:\n",
        "    assert file.read() == \"Hi!\", \"Файл не содержит ожидаемый текст\"\n",
        "print(\"Тест пройден!\")"
      ]
    },
    {
      "cell_type": "markdown",
      "id": "3a9996eb",
      "metadata": {},
      "source": [
        "<details><summary>Решение задания 2</summary>\n",
        "\n",
        "```python\n",
        "def write_file(filename, text):\n",
        "    with open(filename, \"w\") as file:\n",
        "        file.write(text)\n",
        "```\n",
        "\n",
        "</details>"
      ]
    },
    {
      "cell_type": "markdown",
      "id": "a64d5299",
      "metadata": {},
      "source": [
        "## ⚠️ 2. Обработка ошибок\n",
        "\n",
        "### Теория: Что такое ошибки и зачем их обрабатывать?\n",
        "\n",
        "**Исключение** — это ошибка, которая возникает, когда программа не может выполнить действие. Например:\n",
        "- Пытаться открыть несуществующий файл → `FileNotFoundError`.\n",
        "- Делить число на ноль → `ZeroDivisionError`.\n",
        "\n",
        "Если не обработать исключение, программа \"упадёт\" — завершится с ошибкой. Обработка ошибок нужна, чтобы:\n",
        "- Программа продолжала работать, несмотря на проблемы.\n",
        "- Сообщить пользователю, что пошло не так.\n",
        "- Сделать код надёжным.\n",
        "\n",
        "**Пример из жизни:** Вы идёте по улице и спотыкаетесь. Если не удержите равновесие (не обработаете ошибку), упадёте (программа остановится). Обработка ошибок — это как умение встать и идти дальше.\n",
        "\n",
        "### Конструкция `try-except`\n",
        "\n",
        "`try-except` — это способ \"поймать\" ошибку и обработать её:\n",
        "- `try`: Здесь код, который может вызвать ошибку.\n",
        "- `except`: Здесь действия, если ошибка случилась.\n",
        "\n",
        "**Пример:**"
      ]
    },
    {
      "cell_type": "code",
      "execution_count": null,
      "id": "06bf0e98",
      "metadata": {},
      "outputs": [],
      "source": [
        "try:\n",
        "    file = open(\"missing.txt\", \"r\")\n",
        "except FileNotFoundError:\n",
        "    print(\"Файл не найден.\")"
      ]
    },
    {
      "cell_type": "markdown",
      "id": "32cc6f6d",
      "metadata": {},
      "source": [
        "**Типы исключений:**\n",
        "| Исключение          | Когда возникает?                  |\n",
        "|---------------------|-----------------------------------|\n",
        "| `FileNotFoundError` | Файл не найден                    |\n",
        "| `PermissionError`   | Нет прав доступа к файлу          |\n",
        "| `ValueError`        | Неверный формат данных (например, текст вместо числа) |\n",
        "| `ZeroDivisionError` | Деление на ноль                   |\n",
        "| `IOError`           | Проблемы с вводом-выводом         |\n",
        "\n",
        "**Совет:** Указывайте конкретный тип ошибки в `except`, чтобы случайно не скрыть другие проблемы.\n",
        "\n",
        "### Обработка нескольких ошибок\n",
        "\n",
        "Можно ловить разные ошибки отдельно:\n",
        "\n",
        "**Пример:**"
      ]
    },
    {
      "cell_type": "code",
      "execution_count": null,
      "id": "ca87621e",
      "metadata": {},
      "outputs": [],
      "source": [
        "try:\n",
        "    number = int(input(\"Введите число: \"))\n",
        "    result = 10 / number\n",
        "except ValueError:\n",
        "    print(\"Ошибка: введите число, а не текст.\")\n",
        "except ZeroDivisionError:\n",
        "    print(\"Ошибка: деление на ноль невозможно.\")"
      ]
    },
    {
      "cell_type": "markdown",
      "id": "d695477d",
      "metadata": {},
      "source": [
        "### Блоки `else` и `finally`\n",
        "\n",
        "- `else`: Выполняется, если в `try` не было ошибок.\n",
        "- `finally`: Выполняется всегда — с ошибкой или без.\n",
        "\n",
        "**Пример из жизни:** Вы пытаетесь открыть коробку (try). Если она заперта (except), вы говорите: \"Закрыто\". Если открылась (else), достаёте содержимое. В любом случае (finally) вы убираете коробку на место.\n",
        "\n",
        "**Пример кода:**"
      ]
    },
    {
      "cell_type": "code",
      "execution_count": null,
      "id": "a9327d4a",
      "metadata": {},
      "outputs": [],
      "source": [
        "try:\n",
        "    file = open(\"example.txt\", \"r\")\n",
        "except FileNotFoundError:\n",
        "    print(\"Файл не найден.\")\n",
        "else:\n",
        "    print(file.read())\n",
        "    file.close()\n",
        "finally:\n",
        "    print(\"Операция завершена.\")"
      ]
    },
    {
      "cell_type": "markdown",
      "id": "2cf53939",
      "metadata": {},
      "source": [
        "### Практика: Обработка ошибок\n",
        "\n",
        "#### Задание 1: Безопасное чтение файла\n",
        "**Условие:** Напишите функцию `safe_read(filename)`, которая читает файл и возвращает его содержимое. Если файл не найден, возвращает \"Файл не найден\".\n",
        "- **Ожидаемый результат:** `safe_read(\"missing.txt\")` → \"Файл не найден\".\n",
        "\n",
        "**Подсказка:** Используйте `try-except` и `with`."
      ]
    },
    {
      "cell_type": "code",
      "execution_count": null,
      "id": "ceae1dac",
      "metadata": {},
      "outputs": [],
      "source": [
        "def safe_read(filename):\n",
        "    pass\n"
      ]
    },
    {
      "cell_type": "code",
      "execution_count": null,
      "id": "99910d68",
      "metadata": {},
      "outputs": [],
      "source": [
        "# Проверка\n",
        "assert safe_read(\"missing.txt\") == \"Файл не найден\", \"Функция не обработала отсутствие файла\"\n",
        "print(\"Тест пройден!\")"
      ]
    },
    {
      "cell_type": "markdown",
      "id": "1477d78e",
      "metadata": {},
      "source": [
        "<details><summary>Решение задания 1</summary>\n",
        "\n",
        "```python\n",
        "def safe_read(filename):\n",
        "    try:\n",
        "        with open(filename, \"r\") as file:\n",
        "            return file.read()\n",
        "    except FileNotFoundError:\n",
        "        return \"Файл не найден\"\n",
        "```\n",
        "\n",
        "</details>\n",
        "\n",
        "#### Задание 2: Безопасное деление\n",
        "**Условие:** Напишите функцию `safe_divide(a, b)`, которая делит `a` на `b`. Если деление на ноль, возвращает \"Деление на ноль\".\n",
        "- **Ожидаемый результат:** `safe_divide(10, 0)` → \"Деление на ноль\", `safe_divide(10, 2)` → `5.0`.\n",
        "\n",
        "**Подсказка:** Ловите `ZeroDivisionError`."
      ]
    },
    {
      "cell_type": "code",
      "execution_count": null,
      "id": "b9ee2352",
      "metadata": {},
      "outputs": [],
      "source": [
        "def safe_divide(a, b):\n",
        "    pass\n",
        "\n"
      ]
    },
    {
      "cell_type": "code",
      "execution_count": null,
      "id": "7e73aaf3",
      "metadata": {},
      "outputs": [],
      "source": [
        "# Проверка\n",
        "assert safe_divide(10, 0) == \"Деление на ноль\", \"Функция не обработала деление на ноль\"\n",
        "assert safe_divide(10, 2) == 5.0, \"Функция вернула неверный результат\"\n",
        "print(\"Тест пройден!\")"
      ]
    },
    {
      "cell_type": "markdown",
      "id": "fe4cd1fd",
      "metadata": {},
      "source": [
        "<details><summary>Решение задания 2</summary>\n",
        "\n",
        "```python\n",
        "def safe_divide(a, b):\n",
        "    try:\n",
        "        return a / b\n",
        "    except ZeroDivisionError:\n",
        "        return \"Деление на ноль\"\n",
        "```\n",
        "\n",
        "</details>"
      ]
    },
    {
      "cell_type": "markdown",
      "id": "d4621135",
      "metadata": {},
      "source": [
        "## 🧪 3. Мини-практика\n",
        "\n",
        "### Задание 1: Создание файла\n",
        "**Условие:** Напишите функцию `create_file(filename, content)`, которая создаёт файл и записывает в него текст.\n",
        "- **Ожидаемый результат:** После вызова `create_file(\"mini.txt\", \"Тест\")` файл `mini.txt` содержит \"Тест\"."
      ]
    },
    {
      "cell_type": "code",
      "execution_count": null,
      "id": "20404695",
      "metadata": {},
      "outputs": [],
      "source": [
        "def create_file(filename, content):\n",
        "    pass\n"
      ]
    },
    {
      "cell_type": "code",
      "execution_count": null,
      "id": "864b5da0",
      "metadata": {},
      "outputs": [],
      "source": [
        "# Проверка\n",
        "create_file(\"mini.txt\", \"Тест\")\n",
        "with open(\"mini.txt\", \"r\") as file:\n",
        "    assert file.read() == \"Тест\", \"Файл не содержит ожидаемый текст\"\n",
        "print(\"Тест пройден!\")"
      ]
    },
    {
      "cell_type": "markdown",
      "id": "6a6cf6e7",
      "metadata": {},
      "source": [
        "<details><summary>Решение</summary>\n",
        "\n",
        "```python\n",
        "def create_file(filename, content):\n",
        "    with open(filename, \"w\") as file:\n",
        "        file.write(content)\n",
        "```\n",
        "\n",
        "</details>\n",
        "\n",
        "### Задание 2: Чтение строк\n",
        "**Условие:** Напишите функцию `read_lines(filename)`, которая читает файл и возвращает список строк.\n",
        "- **Ожидаемый результат:** Если в файле две строки, функция вернёт `['строка1', 'строка2']`."
      ]
    },
    {
      "cell_type": "code",
      "execution_count": null,
      "id": "0109e07b",
      "metadata": {},
      "outputs": [],
      "source": [
        "def read_lines(filename):\n",
        "    pass"
      ]
    },
    {
      "cell_type": "code",
      "execution_count": null,
      "id": "829915d3",
      "metadata": {},
      "outputs": [],
      "source": [
        "# Проверка\n",
        "with open(\"example.txt\", \"w\") as f:\n",
        "    f.write(\"Первая\\nВторая\")\n",
        "lines = read_lines(\"example.txt\")\n",
        "assert lines == [\"Первая\", \"Вторая\"], \"Функция не вернула список строк\"\n",
        "print(\"Тест пройден!\")"
      ]
    },
    {
      "cell_type": "markdown",
      "id": "40aeb4f9",
      "metadata": {},
      "source": [
        "<details><summary>Решение</summary>\n",
        "\n",
        "```python\n",
        "def read_lines(filename):\n",
        "    with open(filename, \"r\") as file:\n",
        "        return [line.strip() for line in file]\n",
        "```\n",
        "\n",
        "</details>"
      ]
    },
    {
      "cell_type": "markdown",
      "id": "4da84a0e",
      "metadata": {},
      "source": [
        "## 🏠 Домашнее задание\n",
        "\n",
        "**Условие:** Напишите программу `log_manager()`, которая:\n",
        "1. Запрашивает у пользователя имя файла.\n",
        "2. Пытается открыть файл и вывести его содержимое.\n",
        "   - Если файла нет, выводит \"Файл не найден\" и завершает работу.\n",
        "3. Запрашивает текст для добавления.\n",
        "4. Дописывает текст в конец файла с текущей датой и временем (используйте `datetime`).\n",
        "5. Выводит обновлённое содержимое файла.\n",
        "\n",
        "**Пример работы:**\n",
        "- Ввод: `log.txt`\n",
        "- Вывод текущего содержимого (если файл есть).\n",
        "- Ввод текста: \"Событие\"\n",
        "- Добавляет: \"[2023-10-15 14:30:00] Событие\"\n",
        "- Показывает обновлённый файл.\n",
        "\n",
        "**Подсказка:** Используйте `datetime.now().strftime(\"%Y-%m-%d %H:%M:%S\")` для времени."
      ]
    },
    {
      "cell_type": "code",
      "execution_count": null,
      "id": "47a3ce7b",
      "metadata": {},
      "outputs": [],
      "source": [
        "from datetime import datetime\n",
        "\n",
        "def log_manager():\n",
        "    pass\n",
        "\n",
        "# Вызов\n",
        "log_manager()"
      ]
    },
    {
      "cell_type": "markdown",
      "id": "0d92de42",
      "metadata": {},
      "source": [
        "<details><summary>Решение</summary>\n",
        "\n",
        "```python\n",
        "from datetime import datetime\n",
        "\n",
        "def log_manager():\n",
        "    filename = input(\"Введите имя файла: \")\n",
        "    try:\n",
        "        with open(filename, \"r\") as file:\n",
        "            print(\"Текущее содержимое файла:\")\n",
        "            print(file.read())\n",
        "    except FileNotFoundError:\n",
        "        print(\"Файл не найден.\")\n",
        "        return\n",
        "\n",
        "    text = input(\"Введите текст для добавления: \")\n",
        "    now = datetime.now().strftime(\"%Y-%m-%d %H:%M:%S\")\n",
        "    with open(filename, \"a\") as file:\n",
        "        file.write(f\"[{now}] {text}\\n\")\n",
        "\n",
        "    with open(filename, \"r\") as file:\n",
        "        print(\"Обновлённое содержимое файла:\")\n",
        "        print(file.read())\n",
        "\n",
        "log_manager()\n",
        "```\n",
        "\n",
        "</details>"
      ]
    },
    {
      "cell_type": "markdown",
      "id": "a15e57a4",
      "metadata": {},
      "source": [
        "## 🎯 Итог\n",
        "\n",
        "Вы научились:\n",
        "- Открывать, читать и записывать файлы с помощью `open()` и `with`.\n",
        "- Обрабатывать ошибки с `try-except`, `else` и `finally`.\n",
        "- Делать программы надёжными и удобными для пользователей.\n",
        "- Логировать действия с временными метками.\n",
        "\n",
        "Эти навыки — основа для работы с данными и создания устойчивых программ."
      ]
    },
    {
      "cell_type": "markdown",
      "id": "85ce118a",
      "metadata": {},
      "source": [
        "## 🧠 Советы новичкам\n",
        "- Всегда используйте `with` — это проще и безопаснее.\n",
        "- Проверяйте существование файла перед открытием (например, с `os.path.exists()`).\n",
        "- Указывайте конкретные ошибки в `except`, а не просто `except:`.\n",
        "- Добавляйте комментарии в код для себя и других.\n",
        "- Тестируйте код с разными случаями: файл отсутствует, нет прав, текст пустой."
      ]
    },
    {
      "cell_type": "markdown",
      "id": "e9a1ad62",
      "metadata": {},
      "source": [
        "## 📌 Дополнительная информация\n",
        "- `os.path.exists('filename')` — проверяет, есть ли файл.\n",
        "- `file.tell()` — показывает позицию курсора в файле.\n",
        "- `file.seek(0)` — возвращает курсор в начало.\n",
        "- Модули `json` и `pickle` помогут работать с данными в файлах."
      ]
    },
    {
      "cell_type": "markdown",
      "id": "195ab0c1",
      "metadata": {},
      "source": [
        "## 🧪 Расширенная практика\n",
        "\n",
        "### Задание 1: Подсчёт слов\n",
        "**Условие:** Напишите программу, которая читает файл, считает слова и записывает результат в лог-файл с временной меткой.\n",
        "- **Ожидаемый результат:** В `log.txt` появляется запись вроде \"[2023-10-15 14:30:00] В файле 5 слов\"."
      ]
    },
    {
      "cell_type": "code",
      "execution_count": null,
      "id": "b71bebd2",
      "metadata": {},
      "outputs": [],
      "source": [
        "from datetime import datetime\n",
        "\n",
        "def count_words(filename):\n",
        "    try:\n",
        "        with open(filename, \"r\") as file:\n",
        "            content = file.read()\n",
        "            word_count = len(content.split())\n",
        "            now = datetime.now().strftime(\"%Y-%m-%d %H:%M:%S\")\n",
        "            with open(\"log.txt\", \"a\") as log:\n",
        "                log.write(f\"[{now}] В файле {word_count} слов\\n\")\n",
        "            return word_count\n",
        "    except FileNotFoundError:\n",
        "        print(\"Файл не найден.\")\n",
        "        return 0\n",
        "\n",
        "count_words(\"example.txt\")"
      ]
    },
    {
      "cell_type": "markdown",
      "id": "da4b0a0d",
      "metadata": {},
      "source": [
        "<details><summary>Решение</summary>\n",
        "\n",
        "```python\n",
        "from datetime import datetime\n",
        "\n",
        "def count_words(filename):\n",
        "    try:\n",
        "        with open(filename, \"r\") as file:\n",
        "            content = file.read()\n",
        "            word_count = len(content.split())\n",
        "            now = datetime.now().strftime(\"%Y-%m-%d %H:%M:%S\")\n",
        "            with open(\"log.txt\", \"a\") as log:\n",
        "                log.write(f\"[{now}] В файле {word_count} слов\\n\")\n",
        "            return word_count\n",
        "    except FileNotFoundError:\n",
        "        print(\"Файл не найден.\")\n",
        "        return 0\n",
        "```\n",
        "\n",
        "</details>"
      ]
    },
    {
      "cell_type": "markdown",
      "id": "b7e8a18d",
      "metadata": {},
      "source": [
        "## 🎉 Заключение\n",
        "\n",
        "Вы освоили ключевые навыки работы с файлами и обработки ошибок. Теперь вы можете сохранять данные, защищать программы от сбоев и логировать действия. На следующем уроке: кортежи, множества и вложенные структуры данных!"
      ]
    }
  ],
  "metadata": {
    "kernelspec": {
      "display_name": "Python 3",
      "language": "python",
      "name": "python3"
    },
    "language_info": {
      "codemirror_mode": {
        "name": "ipython",
        "version": 3
      },
      "file_extension": ".py",
      "mimetype": "text/x-python",
      "name": "python",
      "nbconvert_exporter": "python",
      "pygments_lexer": "ipython3",
      "version": "3.8"
    }
  },
  "nbformat": 4,
  "nbformat_minor": 5
}
