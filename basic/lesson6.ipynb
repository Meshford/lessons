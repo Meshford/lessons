{
  "cells": [
    {
      "cell_type": "markdown",
      "metadata": {},
      "source": [
        "# 🧱 Урок 6: Объектно-Ориентированное Программирование (ООП) в Python\n",
        "\n",
        "**Цель урока:**\n",
        "- Понять, что такое ООП и как оно помогает в программировании.\n",
        "- Изучить основные концепции: классы, объекты, атрибуты, методы, инкапсуляция, наследование и полиморфизм.\n",
        "- Научиться создавать классы, работать с объектами и использовать принципы ООП.\n",
        "- Закрепить знания через практические задания с проверками.\n",
        "\n",
        "Этот урок создан для новичков, поэтому мы будем объяснять всё простыми словами, с примерами из реальной жизни, чтобы вы могли уверенно начать использовать ООП в своих программах."
      ]
    },
    {
      "cell_type": "markdown",
      "metadata": {},
      "source": [
        "## 🔁 1. Введение в ООП"
      ]
    },
    {
      "cell_type": "markdown",
      "metadata": {},
      "source": [
        "### Что такое ООП?\n",
        "**Объектно-ориентированное программирование (ООП)** — это способ написания программ, где всё организовано вокруг **объектов** и **классов**. Классы — это как чертежи, а объекты — это конкретные вещи, созданные по этим чертежам.\n",
        "\n",
        "Представьте, что вы строите дом. Класс — это архитектурный план дома, где указано, сколько комнат, какие двери и окна. Объект — это конкретный дом, построенный по этому плану, с уникальным цветом стен или адресом.\n",
        "\n",
        "#### Основные принципы ООП:\n",
        "- **Инкапсуляция**: Скрытие деталей работы объекта, как коробка с игрушками — вы видите игрушки, но не знаете, как они сделаны.\n",
        "- **Наследование**: Один класс может взять свойства и поведение другого, как ребёнок наследует черты родителей.\n",
        "- **Полиморфизм**: Разные классы могут выполнять одну и ту же задачу по-разному, как разные животные издают разные звуки.\n",
        "- **Абстракция** (дополнительно): Упрощение сложных вещей, чтобы работать только с нужными деталями.\n",
        "\n",
        "#### Зачем нужно ООП?\n",
        "- **Организация кода**: Легче управлять большими проектами, когда всё разбито на классы.\n",
        "- **Повторное использование**: Один класс можно использовать многократно, не переписывая код.\n",
        "- **Моделирование реальности**: Легко представить реальные объекты (машины, людей, книги) в виде кода.\n",
        "- **Упрощение изменений**: Изменения в одном классе не ломают всю программу."
      ]
    },
    {
      "cell_type": "markdown",
      "metadata": {},
      "source": [
        "### 💡 Почему ООП полезно для новичков?\n",
        "- Делает код понятным: вместо хаотичных функций всё организовано в логические блоки.\n",
        "- Помогает избежать ошибок: инкапсуляция защищает данные от случайных изменений.\n",
        "- Используется в реальных проектах: игры, приложения, веб-сайты — везде есть ООП.\n",
        "\n",
        "#### Пример из жизни:\n",
        "Допустим, вы создаёте приложение для библиотеки. Без ООП вы могли бы хранить информацию о книгах в списках или словарях, но это быстро станет запутанным. С ООП вы создаёте класс `Book`, где каждая книга — это объект с названием, автором и статусом (взята или нет). Это делает код проще для понимания и расширения."
      ]
    },
    {
      "cell_type": "markdown",
      "metadata": {},
      "source": [
        "## 🏗️ 2. Классы и объекты"
      ]
    },
    {
      "cell_type": "markdown",
      "metadata": {},
      "source": [
        "### Что такое класс и объект?\n",
        "- **Класс**: Это шаблон или инструкция, которая описывает, какие данные и поведение будут у объектов. Например, класс `Car` описывает, что у машины есть марка, модель и год выпуска.\n",
        "- **Объект**: Это конкретный экземпляр класса. Например, машина Toyota Camry 2020 года — это объект класса `Car`.\n",
        "\n",
        "#### Аналогия:\n",
        "Класс — это форма для печенья, а объекты — это печеньки, сделанные по этой форме. Все печеньки похожи, но у каждой может быть свой вкус или украшение."
      ]
    },
    {
      "cell_type": "code",
      "execution_count": null,
      "metadata": {},
      "outputs": [],
      "source": [
        "# Простой класс\n",
        "class Person:\n",
        "    pass\n",
        "\n",
        "# Создание объектов\n",
        "person1 = Person()\n",
        "person2 = Person()\n",
        "\n",
        "print(person1)  # < __main__.Person object at ... >\n",
        "print(person2)  # < __main__.Person object at ... >"
      ]
    },
    {
      "cell_type": "markdown",
      "metadata": {},
      "source": [
        "**Объяснение:**\n",
        "- Класс `Person` — пустой, он ничего не делает, но мы уже можем создать объекты.\n",
        "- Каждый объект (`person1`, `person2`) — это отдельный экземпляр класса, они разные, но созданы по одному шаблону."
      ]
    },
    {
      "cell_type": "markdown",
      "metadata": {},
      "source": [
        "### 🧩 Атрибуты объекта\n",
        "Атрибуты — это данные, которые принадлежат объекту. Например, у человека есть имя и возраст. Чтобы задать атрибуты, используется метод `__init__` — это **конструктор**, который вызывается при создании объекта.\n",
        "\n",
        "#### Что такое `self`?\n",
        "`self` — это ссылка на текущий объект. Когда вы пишете метод, Python автоматически передаёт объект как `self`, чтобы метод мог работать с его данными."
      ]
    },
    {
      "cell_type": "code",
      "execution_count": null,
      "metadata": {},
      "outputs": [],
      "source": [
        "class Person:\n",
        "    def __init__(self, name, age):\n",
        "        self.name = name  # Атрибут name\n",
        "        self.age = age    # Атрибут age\n",
        "\n",
        "# Создание объекта\n",
        "person1 = Person(\"Алиса\", 30)\n",
        "\n",
        "print(person1.name)  # Алиса\n",
        "print(person1.age)   # 30"
      ]
    },
    {
      "cell_type": "markdown",
      "metadata": {},
      "source": [
        "**Объяснение:**\n",
        "- `__init__` задаёт начальные значения атрибутов `name` и `age`.\n",
        "- `self.name` и `self.age` — это атрибуты объекта, которые хранятся в нём.\n",
        "- При создании объекта `person1` мы передали значения `\"Алиса\"` и `30`, которые стали его атрибутами."
      ]
    },
    {
      "cell_type": "markdown",
      "metadata": {},
      "source": [
        "### 🧪 Практика: Создание классов и объектов"
      ]
    },
    {
      "cell_type": "markdown",
      "metadata": {},
      "source": [
        "**Задание 1:** Создайте класс `Car` с атрибутами: `brand`, `model`, `year`."
      ]
    },
    {
      "cell_type": "code",
      "execution_count": null,
      "metadata": {},
      "outputs": [],
      "source": [
        "# Ваш код здесь\n",
        "\n",
        "# Создайте объект car1 с маркой \"Toyota\", моделью \"Camry\", годом 2020\n",
        "car1 = None  # Замените на ваш код\n",
        "print(car1.brand, car1.model, car1.year)"
      ]
    },
    {
      "cell_type": "code",
      "execution_count": null,
      "metadata": {},
      "outputs": [],
      "source": [
        "# Проверка\n",
        "assert car1.brand == \"Toyota\", \"Ошибка! Марка должна быть 'Toyota'\"\n",
        "assert car1.model == \"Camry\", \"Ошибка! Модель должна быть 'Camry'\"\n",
        "assert car1.year == 2020, \"Ошибка! Год должен быть 2020\"\n",
        "assert isinstance(car1, Car), \"Ошибка! car1 должен быть объектом класса Car\""
      ]
    },
    {
      "cell_type": "markdown",
      "metadata": {},
      "source": [
        "<details><summary>Решение задания 1</summary>\n",
        "\n",
        "```python\n",
        "class Car:\n",
        "    def __init__(self, brand, model, year):\n",
        "        self.brand = brand\n",
        "        self.model = model\n",
        "        self.year = year\n",
        "\n",
        "car1 = Car(\"Toyota\", \"Camry\", 2020)\n",
        "print(car1.brand, car1.model, car1.year)\n",
        "```\n",
        "\n",
        "</details>"
      ]
    },
    {
      "cell_type": "markdown",
      "metadata": {},
      "source": [
        "**Задание 2:** Создайте два объекта класса `Car` с разными значениями атрибутов."
      ]
    },
    {
      "cell_type": "code",
      "execution_count": null,
      "metadata": {},
      "outputs": [],
      "source": [
        "# Ваш код здесь\n",
        "\n",
        "# Создайте car2 (Honda, Civic, 2018) и car3 (Ford, Mustang, 2022)\n",
        "car2 = None  # Замените на ваш код\n",
        "car3 = None  # Замените на ваш код\n",
        "print(car2.brand, car2.model, car2.year)\n",
        "print(car3.brand, car3.model, car3.year)"
      ]
    },
    {
      "cell_type": "code",
      "execution_count": null,
      "metadata": {},
      "outputs": [],
      "source": [
        "# Проверка\n",
        "assert car2.brand == \"Honda\" and car2.model == \"Civic\" and car2.year == 2018, \"Ошибка! Параметры car2 неверные\"\n",
        "assert car3.brand == \"Ford\" and car3.model == \"Mustang\" and car3.year == 2022, \"Ошибка! Параметры car3 неверные\"\n",
        "assert isinstance(car2, Car) and isinstance(car3, Car), \"Ошибка! car2 и car3 должны быть объектами класса Car\""
      ]
    },
    {
      "cell_type": "markdown",
      "metadata": {},
      "source": [
        "<details><summary>Решение задания 2</summary>\n",
        "\n",
        "```python\n",
        "class Car:\n",
        "    def __init__(self, brand, model, year):\n",
        "        self.brand = brand\n",
        "        self.model = model\n",
        "        self.year = year\n",
        "\n",
        "car2 = Car(\"Honda\", \"Civic\", 2018)\n",
        "car3 = Car(\"Ford\", \"Mustang\", 2022)\n",
        "print(car2.brand, car2.model, car2.year)\n",
        "print(car3.brand, car3.model, car3.year)\n",
        "```\n",
        "\n",
        "</details>"
      ]
    },
    {
      "cell_type": "markdown",
      "metadata": {},
      "source": [
        "**Задание 3:** Добавьте атрибут `color` в класс `Car` и создайте объект с цветом."
      ]
    },
    {
      "cell_type": "code",
      "execution_count": null,
      "metadata": {},
      "outputs": [],
      "source": [
        "# Ваш код здесь\n",
        "\n",
        "# Создайте car4 с маркой \"BMW\", моделью \"X5\", годом 2021, цветом \"синий\"\n",
        "car4 = None  # Замените на ваш код\n",
        "print(car4.brand, car4.model, car4.year, car4.color)"
      ]
    },
    {
      "cell_type": "code",
      "execution_count": null,
      "metadata": {},
      "outputs": [],
      "source": [
        "# Проверка\n",
        "assert car4.brand == \"BMW\", \"Ошибка! Марка должна быть 'BMW'\"\n",
        "assert car4.model == \"X5\", \"Ошибка! Модель должна быть 'X5'\"\n",
        "assert car4.year == 2021, \"Ошибка! Год должен быть 2021\"\n",
        "assert car4.color == \"синий\", \"Ошибка! Цвет должен быть 'синий'\"\n",
        "assert isinstance(car4, Car), \"Ошибка! car4 должен быть объектом класса Car\""
      ]
    },
    {
      "cell_type": "markdown",
      "metadata": {},
      "source": [
        "<details><summary>Решение задания 3</summary>\n",
        "\n",
        "```python\n",
        "class Car:\n",
        "    def __init__(self, brand, model, year, color):\n",
        "        self.brand = brand\n",
        "        self.model = model\n",
        "        self.year = year\n",
        "        self.color = color\n",
        "\n",
        "car4 = Car(\"BMW\", \"X5\", 2021, \"синий\")\n",
        "print(car4.brand, car4.model, car4.year, car4.color)\n",
        "```\n",
        "\n",
        "</details>"
      ]
    },
    {
      "cell_type": "markdown",
      "metadata": {},
      "source": [
        "## 🛠 3. Методы класса"
      ]
    },
    {
      "cell_type": "markdown",
      "metadata": {},
      "source": [
        "### Что такое метод?\n",
        "Метод — это функция, которая принадлежит классу и работает с его объектами. Она определяет, что объект может делать. Например, человек может говорить, а машина — ехать.\n",
        "\n",
        "#### Пример из жизни:\n",
        "Если класс `Person` — это человек, то метод `greet` — это его способность сказать \"Привет!\". Метод использует атрибуты объекта (например, имя), чтобы сделать действие уникальным."
      ]
    },
    {
      "cell_type": "code",
      "execution_count": null,
      "metadata": {},
      "outputs": [],
      "source": [
        "class Person:\n",
        "    def __init__(self, name):\n",
        "        self.name = name\n",
        "    \n",
        "    def greet(self):\n",
        "        print(f\"Привет, меня зовут {self.name}!\")\n",
        "\n",
        "# Использование\n",
        "p = Person(\"Дима\")\n",
        "p.greet()  # Привет, меня зовут Дима!"
      ]
    },
    {
      "cell_type": "markdown",
      "metadata": {},
      "source": [
        "**Объяснение:**\n",
        "- Метод `greet` использует атрибут `self.name`, чтобы вывести персонализированное приветствие.\n",
        "- `self` позволяет методу знать, с каким объектом он работает."
      ]
    },
    {
      "cell_type": "markdown",
      "metadata": {},
      "source": [
        "### 🔄 Изменение атрибутов через методы\n",
        "Методы могут менять атрибуты объекта. Это полезно, чтобы контролировать, как данные изменяются."
      ]
    },
    {
      "cell_type": "code",
      "execution_count": null,
      "metadata": {},
      "outputs": [],
      "source": [
        "class Person:\n",
        "    def __init__(self, name, age):\n",
        "        self.name = name\n",
        "        self.age = age\n",
        "    \n",
        "    def birthday(self):\n",
        "        self.age += 1\n",
        "        print(f\"С днём рождения, {self.name}! Теперь тебе {self.age} лет.\")\n",
        "\n",
        "# Пример использования\n",
        "p = Person(\"Маша\", 17)\n",
        "p.birthday()  # С днём рождения, Маша! Теперь тебе 18 лет."
      ]
    },
    {
      "cell_type": "markdown",
      "metadata": {},
      "source": [
        "**Объяснение:**\n",
        "- Метод `birthday` увеличивает атрибут `age` и выводит сообщение.\n",
        "- Это лучше, чем напрямую менять `p.age`, потому что метод может добавить логику (например, проверку возраста)."
      ]
    },
    {
      "cell_type": "markdown",
      "metadata": {},
      "source": [
        "### 🧪 Практика: Работа с методами"
      ]
    },
    {
      "cell_type": "markdown",
      "metadata": {},
      "source": [
        "**Задание 1:** Напишите метод `say_hello` для класса `Person`, который выводит приветствие в формате \"Привет, [имя]!\"."
      ]
    },
    {
      "cell_type": "code",
      "execution_count": null,
      "metadata": {},
      "outputs": [],
      "source": [
        "# Ваш код здесь\n",
        "class Person:\n",
        "    def __init__(self, name, age):\n",
        "        self.name = name\n",
        "        self.age = age\n",
        "    \n",
        "    def say_hello(self):\n",
        "        pass\n",
        "\n",
        "# Тестирование\n",
        "p = Person(\"Алекс\", 25)\n",
        "p.say_hello()"
      ]
    },
    {
      "cell_type": "code",
      "execution_count": null,
      "metadata": {},
      "outputs": [],
      "source": [
        "# Проверка\n",
        "import sys\n",
        "from io import StringIO\n",
        "\n",
        "old_stdout = sys.stdout\n",
        "sys.stdout = mystdout = StringIO()\n",
        "p.say_hello()\n",
        "sys.stdout = old_stdout\n",
        "assert mystdout.getvalue().strip() == \"Привет, Алекс!\", \"Ошибка! Метод say_hello должен вывести 'Привет, Алекс!'\"\n",
        "assert hasattr(p, 'say_hello'), \"Ошибка! Метод say_hello не определён\""
      ]
    },
    {
      "cell_type": "markdown",
      "metadata": {},
      "source": [
        "<details><summary>Решение задания 1</summary>\n",
        "\n",
        "```python\n",
        "class Person:\n",
        "    def __init__(self, name, age):\n",
        "        self.name = name\n",
        "        self.age = age\n",
        "    \n",
        "    def say_hello(self):\n",
        "        print(f\"Привет, {self.name}!\")\n",
        "\n",
        "p = Person(\"Алекс\", 25)\n",
        "p.say_hello()\n",
        "```\n",
        "\n",
        "</details>"
      ]
    },
    {
      "cell_type": "markdown",
      "metadata": {},
      "source": [
        "**Задание 2:** Напишите метод `get_age_in_months` для класса `Person`, который возвращает возраст в месяцах."
      ]
    },
    {
      "cell_type": "code",
      "execution_count": null,
      "metadata": {},
      "outputs": [],
      "source": [
        "# Ваш код здесь\n",
        "class Person:\n",
        "    def __init__(self, name, age):\n",
        "        self.name = name\n",
        "        self.age = age\n",
        "    \n",
        "    def get_age_in_months(self):\n",
        "        pass\n",
        "\n",
        "# Тестирование\n",
        "p = Person(\"Алекс\", 25)\n",
        "print(p.get_age_in_months())"
      ]
    },
    {
      "cell_type": "code",
      "execution_count": null,
      "metadata": {},
      "outputs": [],
      "source": [
        "# Проверка\n",
        "assert p.get_age_in_months() == 300, \"Ошибка! Возраст в месяцах должен быть 300 для 25 лет\"\n",
        "assert isinstance(p.get_age_in_months(), int), \"Ошибка! Результат должен быть целым числом\""
      ]
    },
    {
      "cell_type": "markdown",
      "metadata": {},
      "source": [
        "<details><summary>Решение задания 2</summary>\n",
        "\n",
        "```python\n",
        "class Person:\n",
        "    def __init__(self, name, age):\n",
        "        self.name = name\n",
        "        self.age = age\n",
        "    \n",
        "    def get_age_in_months(self):\n",
        "        return self.age * 12\n",
        "\n",
        "p = Person(\"Алекс\", 25)\n",
        "print(p.get_age_in_months())\n",
        "```\n",
        "\n",
        "</details>"
      ]
    },
    {
      "cell_type": "markdown",
      "metadata": {},
      "source": [
        "**Задание 3:** Напишите метод `increase_age` для класса `Person`, который увеличивает возраст на заданное число лет."
      ]
    },
    {
      "cell_type": "code",
      "execution_count": null,
      "metadata": {},
      "outputs": [],
      "source": [
        "# Ваш код здесь\n",
        "class Person:\n",
        "    def __init__(self, name, age):\n",
        "        self.name = name\n",
        "        self.age = age\n",
        "    \n",
        "    def increase_age(self, years):\n",
        "        pass\n",
        "\n",
        "# Тестирование\n",
        "p = Person(\"Алекс\", 25)\n",
        "p.increase_age(5)\n",
        "print(p.age)"
      ]
    },
    {
      "cell_type": "code",
      "execution_count": null,
      "metadata": {},
      "outputs": [],
      "source": [
        "# Проверка\n",
        "assert p.age == 30, \"Ошибка! Возраст должен быть 30 после увеличения на 5 лет\"\n",
        "p.increase_age(3)\n",
        "assert p.age == 33, \"Ошибка! Возраст должен быть 33 после увеличения на 3 года\""
      ]
    },
    {
      "cell_type": "markdown",
      "metadata": {},
      "source": [
        "<details><summary>Решение задания 3</summary>\n",
        "\n",
        "```python\n",
        "class Person:\n",
        "    def __init__(self, name, age):\n",
        "        self.name = name\n",
        "        self.age = age\n",
        "    \n",
        "    def increase_age(self, years):\n",
        "        self.age += years\n",
        "\n",
        "p = Person(\"Алекс\", 25)\n",
        "p.increase_age(5)\n",
        "print(p.age)\n",
        "```\n",
        "\n",
        "</details>"
      ]
    },
    {
      "cell_type": "markdown",
      "metadata": {},
      "source": [
        "## 🔒 4. Инкапсуляция"
      ]
    },
    {
      "cell_type": "markdown",
      "metadata": {},
      "source": [
        "### Что такое инкапсуляция?\n",
        "Инкапсуляция — это способ спрятать данные внутри объекта, чтобы их нельзя было случайно изменить. Это как сейф: вы можете положить деньги (данные) внутрь, но достать их можно только через определённые методы.\n",
        "\n",
        "#### Как работает в Python?\n",
        "- **Приватные атрибуты**: Используйте двойное подчёркивание `__` перед именем атрибута, чтобы сделать его недоступным снаружи.\n",
        "- **Геттеры и сеттеры**: Методы для получения (`get`) и установки (`set`) значений атрибутов.\n",
        "\n",
        "#### Пример из жизни:\n",
        "В банке ваш счёт (баланс) защищён — вы не можете просто изменить его напрямую. Вместо этого вы используете операции пополнения или снятия через банкомат."
      ]
    },
    {
      "cell_type": "code",
      "execution_count": null,
      "metadata": {},
      "outputs": [],
      "source": [
        "class BankAccount:\n",
        "    def __init__(self, balance):\n",
        "        self.__balance = balance  # Приватный атрибут\n",
        "    \n",
        "    def deposit(self, amount):\n",
        "        if amount > 0:\n",
        "            self.__balance += amount\n",
        "        else:\n",
        "            print(\"Сумма должна быть положительной!\")\n",
        "    \n",
        "    def get_balance(self):\n",
        "        return self.__balance\n",
        "\n",
        "# Пример использования\n",
        "account = BankAccount(1000)\n",
        "account.deposit(500)\n",
        "print(account.get_balance())  # 1500\n",
        "# print(account.__balance)    # Ошибка! Доступ запрещён"
      ]
    },
    {
      "cell_type": "markdown",
      "metadata": {},
      "source": [
        "**Объяснение:**\n",
        "- `__balance` — приватный атрибут, к нему нельзя обратиться напрямую.\n",
        "- Метод `deposit` проверяет, что сумма положительная, перед добавлением.\n",
        "- Метод `get_balance` позволяет безопасно узнать баланс."
      ]
    },
    {
      "cell_type": "markdown",
      "metadata": {},
      "source": [
        "### 🧪 Практика: Инкапсуляция"
      ]
    },
    {
      "cell_type": "markdown",
      "metadata": {},
      "source": [
        "**Задание 1:** Создайте класс `BankAccount` с приватным атрибутом `__balance` и методом `get_balance`."
      ]
    },
    {
      "cell_type": "code",
      "execution_count": null,
      "metadata": {},
      "outputs": [],
      "source": [
        "# Ваш код здесь\n",
        "class BankAccount:\n",
        "    def __init__(self, balance):\n",
        "        pass\n",
        "    \n",
        "    def get_balance(self):\n",
        "        pass\n",
        "\n",
        "# Тестирование\n",
        "account = BankAccount(1000)\n",
        "print(account.get_balance())"
      ]
    },
    {
      "cell_type": "code",
      "execution_count": null,
      "metadata": {},
      "outputs": [],
      "source": [
        "# Проверка\n",
        "assert account.get_balance() == 1000, \"Ошибка! Баланс должен быть 1000\"\n",
        "assert isinstance(account.get_balance(), (int, float)), \"Ошибка! Баланс должен быть числом\"\n",
        "try:\n",
        "    print(account.__balance)\n",
        "    assert False, \"Ошибка! Доступ к __balance должен быть запрещён\"\n",
        "except AttributeError:\n",
        "    pass"
      ]
    },
    {
      "cell_type": "markdown",
      "metadata": {},
      "source": [
        "<details><summary>Решение задания 1</summary>\n",
        "\n",
        "```python\n",
        "class BankAccount:\n",
        "    def __init__(self, balance):\n",
        "        self.__balance = balance\n",
        "    \n",
        "    def get_balance(self):\n",
        "        return self.__balance\n",
        "\n",
        "account = BankAccount(1000)\n",
        "print(account.get_balance())\n",
        "```\n",
        "\n",
        "</details>"
      ]
    },
    {
      "cell_type": "markdown",
      "metadata": {},
      "source": [
        "**Задание 2:** Добавьте методы `deposit` и `withdraw` для пополнения и снятия средств."
      ]
    },
    {
      "cell_type": "code",
      "execution_count": null,
      "metadata": {},
      "outputs": [],
      "source": [
        "# Ваш код здесь\n",
        "class BankAccount:\n",
        "    def __init__(self, balance):\n",
        "        self.__balance = balance\n",
        "    \n",
        "    def deposit(self, amount):\n",
        "        pass\n",
        "    \n",
        "    def withdraw(self, amount):\n",
        "        pass\n",
        "    \n",
        "    def get_balance(self):\n",
        "        return self.__balance\n",
        "\n",
        "# Тестирование\n",
        "account = BankAccount(1000)\n",
        "account.deposit(500)\n",
        "account.withdraw(200)\n",
        "print(account.get_balance())"
      ]
    },
    {
      "cell_type": "code",
      "execution_count": null,
      "metadata": {},
      "outputs": [],
      "source": [
        "# Проверка\n",
        "assert account.get_balance() == 1300, \"Ошибка! Баланс должен быть 1300 после пополнения на 500 и снятия 200\"\n",
        "account.deposit(100)\n",
        "assert account.get_balance() == 1400, \"Ошибка! Баланс должен быть 1400 после пополнения на 100\"\n",
        "account.withdraw(300)\n",
        "assert account.get_balance() == 1100, \"Ошибка! Баланс должен быть 1100 после снятия 300\""
      ]
    },
    {
      "cell_type": "markdown",
      "metadata": {},
      "source": [
        "<details><summary>Решение задания 2</summary>\n",
        "\n",
        "```python\n",
        "class BankAccount:\n",
        "    def __init__(self, balance):\n",
        "        self.__balance = balance\n",
        "    \n",
        "    def deposit(self, amount):\n",
        "        if amount > 0:\n",
        "            self.__balance += amount\n",
        "        else:\n",
        "            print(\"Сумма должна быть положительной!\")\n",
        "    \n",
        "    def withdraw(self, amount):\n",
        "        if amount > 0 and amount <= self.__balance:\n",
        "            self.__balance -= amount\n",
        "        else:\n",
        "            print(\"Недостаточно средств или неверная сумма!\")\n",
        "    \n",
        "    def get_balance(self):\n",
        "        return self.__balance\n",
        "\n",
        "account = BankAccount(1000)\n",
        "account.deposit(500)\n",
        "account.withdraw(200)\n",
        "print(account.get_balance())\n",
        "```\n",
        "\n",
        "</details>"
      ]
    },
    {
      "cell_type": "markdown",
      "metadata": {},
      "source": [
        "**Задание 3:** Добавьте проверку в метод `withdraw`, чтобы нельзя было снять больше, чем есть на счету."
      ]
    },
    {
      "cell_type": "code",
      "execution_count": null,
      "metadata": {},
      "outputs": [],
      "source": [
        "# Ваш код здесь\n",
        "class BankAccount:\n",
        "    def __init__(self, balance):\n",
        "        self.__balance = balance\n",
        "    \n",
        "    def deposit(self, amount):\n",
        "        if amount > 0:\n",
        "            self.__balance += amount\n",
        "        else:\n",
        "            print(\"Сумма должна быть положительной!\")\n",
        "    \n",
        "    def withdraw(self, amount):\n",
        "        pass\n",
        "    \n",
        "    def get_balance(self):\n",
        "        return self.__balance\n",
        "\n",
        "# Тестирование\n",
        "account = BankAccount(1000)\n",
        "account.withdraw(1200)\n",
        "print(account.get_balance())"
      ]
    },
    {
      "cell_type": "code",
      "execution_count": null,
      "metadata": {},
      "outputs": [],
      "source": [
        "# Проверка\n",
        "assert account.get_balance() == 1000, \"Ошибка! Баланс не должен измениться при попытке снять 1200\"\n",
        "account.deposit(200)\n",
        "account.withdraw(500)\n",
        "assert account.get_balance() == 700, \"Ошибка! Баланс должен быть 700 после пополнения на 200 и снятия 500\"\n",
        "account.withdraw(-100)\n",
        "assert account.get_balance() == 700, \"Ошибка! Баланс не должен измениться при попытке снять отрицательную сумму\""
      ]
    },
    {
      "cell_type": "markdown",
      "metadata": {},
      "source": [
        "<details><summary>Решение задания 3</summary>\n",
        "\n",
        "```python\n",
        "class BankAccount:\n",
        "    def __init__(self, balance):\n",
        "        self.__balance = balance\n",
        "    \n",
        "    def deposit(self, amount):\n",
        "        if amount > 0:\n",
        "            self.__balance += amount\n",
        "        else:\n",
        "            print(\"Сумма должна быть положительной!\")\n",
        "    \n",
        "    def withdraw(self, amount):\n",
        "        if amount > 0 and amount <= self.__balance:\n",
        "            self.__balance -= amount\n",
        "        else:\n",
        "            print(\"Недостаточно средств или неверная сумма!\")\n",
        "    \n",
        "    def get_balance(self):\n",
        "        return self.__balance\n",
        "\n",
        "account = BankAccount(1000)\n",
        "account.withdraw(1200)\n",
        "print(account.get_balance())\n",
        "```\n",
        "\n",
        "</details>"
      ]
    },
    {
      "cell_type": "markdown",
      "metadata": {},
      "source": [
        "## 🧬 5. Наследование"
      ]
    },
    {
      "cell_type": "markdown",
      "metadata": {},
      "source": [
        "### Что такое наследование?\n",
        "Наследование позволяет одному классу (подклассу) взять свойства и методы другого класса (родительского). Это как ребёнок, который наследует черты родителей, но может иметь свои особенности.\n",
        "\n",
        "#### Пример из жизни:\n",
        "Допустим, у вас есть общий класс `Animal`, который описывает всех животных (у них есть имя и они могут издавать звуки). Классы `Dog` и `Cat` наследуют от `Animal`, но каждый по-своему реализует звук."
      ]
    },
    {
      "cell_type": "code",
      "execution_count": null,
      "metadata": {},
      "outputs": [],
      "source": [
        "class Animal:\n",
        "    def __init__(self, name):\n",
        "        self.name = name\n",
        "    \n",
        "    def speak(self):\n",
        "        print(f\"{self.name} издаёт звук.\")\n",
        "\n",
        "# Подкласс\n",
        "class Dog(Animal):\n",
        "    def speak(self):\n",
        "        print(f\"{self.name} лает.\")\n",
        "\n",
        "# Использование\n",
        "dog = Dog(\"Барсик\")\n",
        "dog.speak()  # Барсик лает."
      ]
    },
    {
      "cell_type": "markdown",
      "metadata": {},
      "source": [
        "**Объяснение:**\n",
        "- `Dog` наследует от `Animal`, поэтому имеет атрибут `name` и метод `speak`.\n",
        "- Метод `speak` переопределён в `Dog`, чтобы отражать поведение собаки."
      ]
    },
    {
      "cell_type": "markdown",
      "metadata": {},
      "source": [
        "### 🚀 Использование `super()`\n",
        "`super()` позволяет вызвать метод родительского класса. Это полезно, если вы хотите дополнить поведение родителя, а не полностью его заменить."
      ]
    },
    {
      "cell_type": "code",
      "execution_count": null,
      "metadata": {},
      "outputs": [],
      "source": [
        "class Cat(Animal):\n",
        "    def __init__(self, name, color):\n",
        "        super().__init__(name)  # Вызываем __init__ из Animal\n",
        "        self.color = color\n",
        "    \n",
        "    def speak(self):\n",
        "        super().speak()  # Вызываем speak из Animal\n",
        "        print(f\"{self.name} мяукает.\")\n",
        "\n",
        "# Использование\n",
        "cat = Cat(\"Мурка\", \"рыжая\")\n",
        "cat.speak()  # Мурка издаёт звук.\n",
        "             # Мурка мяукает."
      ]
    },
    {
      "cell_type": "markdown",
      "metadata": {},
      "source": [
        "**Объяснение:**\n",
        "- `super().__init__(name)` вызывает конструктор родительского класса, чтобы установить `name`.\n",
        "- `super().speak()` вызывает метод `speak` из `Animal`, а затем добавляется дополнительное поведение."
      ]
    },
    {
      "cell_type": "markdown",
      "metadata": {},
      "source": [
        "### 🧪 Практика: Наследование"
      ]
    },
    {
      "cell_type": "markdown",
      "metadata": {},
      "source": [
        "**Задание 1:** Создайте класс `Vehicle` с атрибутами `brand` и `model`."
      ]
    },
    {
      "cell_type": "code",
      "execution_count": null,
      "metadata": {},
      "outputs": [],
      "source": [
        "# Ваш код здесь\n",
        "class Vehicle:\n",
        "    def __init__(self, brand, model):\n",
        "        pass\n",
        "\n",
        "# Тестирование\n",
        "vehicle = Vehicle(\"Tesla\", \"Model S\")\n",
        "print(vehicle.brand, vehicle.model)"
      ]
    },
    {
      "cell_type": "code",
      "execution_count": null,
      "metadata": {},
      "outputs": [],
      "source": [
        "# Проверка\n",
        "assert vehicle.brand == \"Tesla\", \"Ошибка! Марка должна быть 'Tesla'\"\n",
        "assert vehicle.model == \"Model S\", \"Ошибка! Модель должна быть 'Model S'\"\n",
        "assert isinstance(vehicle, Vehicle), \"Ошибка! vehicle должен быть объектом класса Vehicle\""
      ]
    },
    {
      "cell_type": "markdown",
      "metadata": {},
      "source": [
        "<details><summary>Решение задания 1</summary>\n",
        "\n",
        "```python\n",
        "class Vehicle:\n",
        "    def __init__(self, brand, model):\n",
        "        self.brand = brand\n",
        "        self.model = model\n",
        "\n",
        "vehicle = Vehicle(\"Tesla\", \"Model S\")\n",
        "print(vehicle.brand, vehicle.model)\n",
        "```\n",
        "\n",
        "</details>"
      ]
    },
    {
      "cell_type": "markdown",
      "metadata": {},
      "source": [
        "**Задание 2:** Создайте подкласс `Car`, добавив атрибут `max_speed` и используя `super()`."
      ]
    },
    {
      "cell_type": "code",
      "execution_count": null,
      "metadata": {},
      "outputs": [],
      "source": [
        "# Ваш код здесь\n",
        "class Vehicle:\n",
        "    def __init__(self, brand, model):\n",
        "        self.brand = brand\n",
        "        self.model = model\n",
        "\n",
        "class Car(Vehicle):\n",
        "    def __init__(self, brand, model, max_speed):\n",
        "        pass\n",
        "\n",
        "# Тестирование\n",
        "car = Car(\"Toyota\", \"Corolla\", 180)\n",
        "print(car.brand, car.model, car.max_speed)"
      ]
    },
    {
      "cell_type": "code",
      "execution_count": null,
      "metadata": {},
      "outputs": [],
      "source": [
        "# Проверка\n",
        "assert car.brand == \"Toyota\", \"Ошибка! Марка должна быть 'Toyota'\"\n",
        "assert car.model == \"Corolla\", \"Ошибка! Модель должна быть 'Corolla'\"\n",
        "assert car.max_speed == 180, \"Ошибка! Максимальная скорость должна быть 180\"\n",
        "assert isinstance(car, Car), \"Ошибка! car должен быть объектом класса Car\"\n",
        "assert isinstance(car, Vehicle), \"Ошибка! car должен быть подклассом Vehicle\""
      ]
    },
    {
      "cell_type": "markdown",
      "metadata": {},
      "source": [
        "<details><summary>Решение задания 2</summary>\n",
        "\n",
        "```python\n",
        "class Vehicle:\n",
        "    def __init__(self, brand, model):\n",
        "        self.brand = brand\n",
        "        self.model = model\n",
        "\n",
        "class Car(Vehicle):\n",
        "    def __init__(self, brand, model, max_speed):\n",
        "        super().__init__(brand, model)\n",
        "        self.max_speed = max_speed\n",
        "\n",
        "car = Car(\"Toyota\", \"Corolla\", 180)\n",
        "print(car.brand, car.model, car.max_speed)\n",
        "```\n",
        "\n",
        "</details>"
      ]
    },
    {
      "cell_type": "markdown",
      "metadata": {},
      "source": [
        "**Задание 3:** Создайте подкласс `Truck`, добавив атрибут `load_capacity` и метод `describe`."
      ]
    },
    {
      "cell_type": "code",
      "execution_count": null,
      "metadata": {},
      "outputs": [],
      "source": [
        "# Ваш код здесь\n",
        "class Vehicle:\n",
        "    def __init__(self, brand, model):\n",
        "        self.brand = brand\n",
        "        self.model = model\n",
        "\n",
        "class Truck(Vehicle):\n",
        "    def __init__(self, brand, model, load_capacity):\n",
        "        pass\n",
        "    \n",
        "    def describe(self):\n",
        "        pass\n",
        "\n",
        "# Тестирование\n",
        "truck = Truck(\"Volvo\", \"FH16\", 20000)\n",
        "truck.describe()"
      ]
    },
    {
      "cell_type": "code",
      "execution_count": null,
      "metadata": {},
      "outputs": [],
      "source": [
        "# Проверка\n",
        "import sys\n",
        "from io import StringIO\n",
        "\n",
        "old_stdout = sys.stdout\n",
        "sys.stdout = mystdout = StringIO()\n",
        "truck.describe()\n",
        "sys.stdout = old_stdout\n",
        "assert \"Volvo FH16 с грузоподъёмностью 20000 кг\" in mystdout.getvalue(), \"Ошибка! Метод describe должен вывести корректное описание\"\n",
        "assert truck.load_capacity == 20000, \"Ошибка! Грузоподъёмность должна быть 20000\"\n",
        "assert isinstance(truck, Truck), \"Ошибка! truck должен быть объектом класса Truck\"\n",
        "assert isinstance(truck, Vehicle), \"Ошибка! truck должен быть подклассом Vehicle\""
      ]
    },
    {
      "cell_type": "markdown",
      "metadata": {},
      "source": [
        "<details><summary>Решение задания 3</summary>\n",
        "\n",
        "```python\n",
        "class Vehicle:\n",
        "    def __init__(self, brand, model):\n",
        "        self.brand = brand\n",
        "        self.model = model\n",
        "\n",
        "class Truck(Vehicle):\n",
        "    def __init__(self, brand, model, load_capacity):\n",
        "        super().__init__(brand, model)\n",
        "        self.load_capacity = load_capacity\n",
        "    \n",
        "    def describe(self):\n",
        "        print(f\"{self.brand} {self.model} с грузоподъёмностью {self.load_capacity} кг\")\n",
        "\n",
        "truck = Truck(\"Volvo\", \"FH16\", 20000)\n",
        "truck.describe()\n",
        "```\n",
        "\n",
        "</details>"
      ]
    },
    {
      "cell_type": "markdown",
      "metadata": {},
      "source": [
        "## 🌀 6. Полиморфизм"
      ]
    },
    {
      "cell_type": "markdown",
      "metadata": {},
      "source": [
        "### Что такое полиморфизм?\n",
        "Полиморфизм — это способность разных классов выполнять одну и ту же задачу по-разному. Это как если разные животные издают разные звуки, но все они могут \"говорить\".\n",
        "\n",
        "#### Пример из жизни:\n",
        "В игре разные персонажи могут атаковать, но маг использует заклинания, а воин — меч. Полиморфизм позволяет вызвать метод `attack` для любого персонажа, и он сработает по-своему."
      ]
    },
    {
      "cell_type": "code",
      "execution_count": null,
      "metadata": {},
      "outputs": [],
      "source": [
        "class Animal:\n",
        "    def __init__(self, name):\n",
        "        self.name = name\n",
        "    \n",
        "    def speak(self):\n",
        "        print(f\"{self.name} издаёт звук.\")\n",
        "\n",
        "class Dog(Animal):\n",
        "    def speak(self):\n",
        "        print(f\"{self.name} лает.\")\n",
        "\n",
        "class Cat(Animal):\n",
        "    def speak(self):\n",
        "        print(f\"{self.name} мяукает.\")\n",
        "\n",
        "# Полиморфизм в действии\n",
        "animals = [Dog(\"Рекс\"), Cat(\"Мурка\")]\n",
        "for animal in animals:\n",
        "    animal.speak()  # Каждый объект вызывает свою версию speak"
      ]
    },
    {
      "cell_type": "markdown",
      "metadata": {},
      "source": [
        "**Объяснение:**\n",
        "- Метод `speak` определён в `Animal`, но переопределён в `Dog` и `Cat`.\n",
        "- Цикл вызывает `speak` для каждого объекта, и Python автоматически выбирает нужную версию метода."
      ]
    },
    {
      "cell_type": "markdown",
      "metadata": {},
      "source": [
        "### 🧪 Практика: Полиморфизм"
      ]
    },
    {
      "cell_type": "markdown",
      "metadata": {},
      "source": [
        "**Задание 1:** Создайте список из объектов классов `Dog` и `Cat`."
      ]
    },
    {
      "cell_type": "code",
      "execution_count": null,
      "metadata": {},
      "outputs": [],
      "source": [
        "# Ваш код здесь\n",
        "class Animal:\n",
        "    def __init__(self, name):\n",
        "        self.name = name\n",
        "    \n",
        "    def speak(self):\n",
        "        pass\n",
        "\n",
        "class Dog(Animal):\n",
        "    def speak(self):\n",
        "        print(f\"{self.name} лает.\")\n",
        "\n",
        "class Cat(Animal):\n",
        "    def speak(self):\n",
        "        print(f\"{self.name} мяукает.\")\n",
        "\n",
        "# Создайте список animals с двумя собаками и одной кошкой\n",
        "animals = None  # Замените на ваш код\n",
        "print(len(animals))"
      ]
    },
    {
      "cell_type": "code",
      "execution_count": null,
      "metadata": {},
      "outputs": [],
      "source": [
        "# Проверка\n",
        "assert len(animals) == 3, \"Ошибка! Список должен содержать 3 животных\"\n",
        "assert isinstance(animals[0], Dog), \"Ошибка! Первый элемент должен быть объектом Dog\"\n",
        "assert isinstance(animals[1], Dog), \"Ошибка! Второй элемент должен быть объектом Dog\"\n",
        "assert isinstance(animals[2], Cat), \"Ошибка! Третий элемент должен быть объектом Cat\""
      ]
    },
    {
      "cell_type": "markdown",
      "metadata": {},
      "source": [
        "<details><summary>Решение задания 1</summary>\n",
        "\n",
        "```python\n",
        "class Animal:\n",
        "    def __init__(self, name):\n",
        "        self.name = name\n",
        "    \n",
        "    def speak(self):\n",
        "        pass\n",
        "\n",
        "class Dog(Animal):\n",
        "    def speak(self):\n",
        "        print(f\"{self.name} лает.\")\n",
        "\n",
        "class Cat(Animal):\n",
        "    def speak(self):\n",
        "        print(f\"{self.name} мяукает.\")\n",
        "\n",
        "animals = [Dog(\"Рекс\"), Dog(\"Барон\"), Cat(\"Мурка\")]\n",
        "print(len(animals))\n",
        "```\n",
        "\n",
        "</details>"
      ]
    },
    {
      "cell_type": "markdown",
      "metadata": {},
      "source": [
        "**Задание 2:** Переберите список животных и вызовите метод `speak` для каждого."
      ]
    },
    {
      "cell_type": "code",
      "execution_count": null,
      "metadata": {},
      "outputs": [],
      "source": [
        "# Ваш код здесь\n",
        "animals = [Dog(\"Рекс\"), Dog(\"Барон\"), Cat(\"Мурка\")]\n",
        "# Переберите animals и вызовите speak для каждого\n"
      ]
    },
    {
      "cell_type": "code",
      "execution_count": null,
      "metadata": {},
      "outputs": [],
      "source": [
        "# Проверка\n",
        "import sys\n",
        "from io import StringIO\n",
        "\n",
        "old_stdout = sys.stdout\n",
        "sys.stdout = mystdout = StringIO()\n",
        "for animal in animals:\n",
        "    animal.speak()\n",
        "sys.stdout = old_stdout\n",
        "output = mystdout.getvalue().strip().split('\\n')\n",
        "assert len(output) == 3, \"Ошибка! Должно быть выведено 3 строки\"\n",
        "assert output[0] == \"Рекс лает.\", \"Ошибка! Первая строка должна быть 'Рекс лает.'\"\n",
        "assert output[1] == \"Барон лает.\", \"Ошибка! Вторая строка должна быть 'Барон лает.'\"\n",
        "assert output[2] == \"Мурка мяукает.\", \"Ошибка! Третья строка должна быть 'Мурка мяукает.'\""
      ]
    },
    {
      "cell_type": "markdown",
      "metadata": {},
      "source": [
        "<details><summary>Решение задания 2</summary>\n",
        "\n",
        "```python\n",
        "animals = [Dog(\"Рекс\"), Dog(\"Барон\"), Cat(\"Мурка\")]\n",
        "for animal in animals:\n",
        "    animal.speak()\n",
        "```\n",
        "\n",
        "</details>"
      ]
    },
    {
      "cell_type": "markdown",
      "metadata": {},
      "source": [
        "**Задание 3:** Создайте подкласс `Robot`, добавив уникальное поведение для метода `speak`."
      ]
    },
    {
      "cell_type": "code",
      "execution_count": null,
      "metadata": {},
      "outputs": [],
      "source": [
        "# Ваш код здесь\n",
        "class Animal:\n",
        "    def __init__(self, name):\n",
        "        self.name = name\n",
        "    \n",
        "    def speak(self):\n",
        "        pass\n",
        "\n",
        "class Robot(Animal):\n",
        "    def speak(self):\n",
        "        pass\n",
        "\n",
        "# Тестирование\n",
        "robot = Robot(\"R2D2\")\n",
        "robot.speak()"
      ]
    },
    {
      "cell_type": "code",
      "execution_count": null,
      "metadata": {},
      "outputs": [],
      "source": [
        "# Проверка\n",
        "import sys\n",
        "from io import StringIO\n",
        "\n",
        "old_stdout = sys.stdout\n",
        "sys.stdout = mystdout = StringIO()\n",
        "robot.speak()\n",
        "sys.stdout = old_stdout\n",
        "assert mystdout.getvalue().strip() == \"R2D2 издаёт электронный сигнал.\", \"Ошибка! Метод speak должен вывести 'R2D2 издаёт электронный сигнал.'\"\n",
        "assert isinstance(robot, Robot), \"Ошибка! robot должен быть объектом класса Robot\"\n",
        "assert isinstance(robot, Animal), \"Ошибка! robot должен быть подклассом Animal\""
      ]
    },
    {
      "cell_type": "markdown",
      "metadata": {},
      "source": [
        "<details><summary>Решение задания 3</summary>\n",
        "\n",
        "```python\n",
        "class Animal:\n",
        "    def __init__(self, name):\n",
        "        self.name = name\n",
        "    \n",
        "    def speak(self):\n",
        "        pass\n",
        "\n",
        "class Robot(Animal):\n",
        "    def speak(self):\n",
        "        print(f\"{self.name} издаёт электронный сигнал.\")\n",
        "\n",
        "robot = Robot(\"R2D2\")\n",
        "robot.speak()\n",
        "```\n",
        "\n",
        "</details>"
      ]
    },
    {
      "cell_type": "markdown",
      "metadata": {},
      "source": [
        "## 🧪 7. Мини-практика"
      ]
    },
    {
      "cell_type": "markdown",
      "metadata": {},
      "source": [
        "**Задание 1:** Создайте класс `Car` с атрибутами `brand`, `model`, `year`."
      ]
    },
    {
      "cell_type": "code",
      "execution_count": null,
      "metadata": {},
      "outputs": [],
      "source": [
        "# Ваш код здесь\n",
        "class Car:\n",
        "    def __init__(self, brand, model, year):\n",
        "        pass\n",
        "\n",
        "# Тестирование\n",
        "car = Car(\"Hyundai\", \"Tucson\", 2019)\n",
        "print(car.brand, car.model, car.year)"
      ]
    },
    {
      "cell_type": "code",
      "execution_count": null,
      "metadata": {},
      "outputs": [],
      "source": [
        "# Проверка\n",
        "assert car.brand == \"Hyundai\", \"Ошибка! Марка должна быть 'Hyundai'\"\n",
        "assert car.model == \"Tucson\", \"Ошибка! Модель должна быть 'Tucson'\"\n",
        "assert car.year == 2019, \"Ошибка! Год должен быть 2019\"\n",
        "assert isinstance(car, Car), \"Ошибка! car должен быть объектом класса Car\""
      ]
    },
    {
      "cell_type": "markdown",
      "metadata": {},
      "source": [
        "<details><summary>Решение задания 1</summary>\n",
        "\n",
        "```python\n",
        "class Car:\n",
        "    def __init__(self, brand, model, year):\n",
        "        self.brand = brand\n",
        "        self.model = model\n",
        "        self.year = year\n",
        "\n",
        "car = Car(\"Hyundai\", \"Tucson\", 2019)\n",
        "print(car.brand, car.model, car.year)\n",
        "```\n",
        "\n",
        "</details>"
      ]
    },
    {
      "cell_type": "markdown",
      "metadata": {},
      "source": [
        "**Задание 2:** Добавьте методы `description` и `start` для класса `Car`."
      ]
    },
    {
      "cell_type": "code",
      "execution_count": null,
      "metadata": {},
      "outputs": [],
      "source": [
        "# Ваш код здесь\n",
        "class Car:\n",
        "    def __init__(self, brand, model, year):\n",
        "        self.brand = brand\n",
        "        self.model = model\n",
        "        self.year = year\n",
        "    \n",
        "    def description(self):\n",
        "        pass\n",
        "    \n",
        "    def start(self):\n",
        "        pass\n",
        "\n",
        "# Тестирование\n",
        "car = Car(\"Hyundai\", \"Tucson\", 2019)\n",
        "car.description()\n",
        "car.start()"
      ]
    },
    {
      "cell_type": "code",
      "execution_count": null,
      "metadata": {},
      "outputs": [],
      "source": [
        "# Проверка\n",
        "import sys\n",
        "from io import StringIO\n",
        "\n",
        "old_stdout = sys.stdout\n",
        "sys.stdout = mystdout = StringIO()\n",
        "car.description()\n",
        "car.start()\n",
        "sys.stdout = old_stdout\n",
        "output = mystdout.getvalue().strip().split('\\n')\n",
        "assert output[0] == \"Hyundai Tucson, 2019 года выпуска\", \"Ошибка! Метод description должен вывести 'Hyundai Tucson, 2019 года выпуска'\"\n",
        "assert output[1] == \"Машина Hyundai Tucson заводится!\", \"Ошибка! Метод start должен вывести 'Машина Hyundai Tucson заводится!'\"\n",
        "assert hasattr(car, 'description') and hasattr(car, 'start'), \"Ошибка! Методы description и start должны быть определены\""
      ]
    },
    {
      "cell_type": "markdown",
      "metadata": {},
      "source": [
        "<details><summary>Решение задания 2</summary>\n",
        "\n",
        "```python\n",
        "class Car:\n",
        "    def __init__(self, brand, model, year):\n",
        "        self.brand = brand\n",
        "        self.model = model\n",
        "        self.year = year\n",
        "    \n",
        "    def description(self):\n",
        "        print(f\"{self.brand} {self.model}, {self.year} года выпуска\")\n",
        "    \n",
        "    def start(self):\n",
        "        print(f\"Машина {self.brand} {self.model} заводится!\")\n",
        "\n",
        "car = Car(\"Hyundai\", \"Tucson\", 2019)\n",
        "car.description()\n",
        "car.start()\n",
        "```\n",
        "\n",
        "</details>"
      ]
    },
    {
      "cell_type": "markdown",
      "metadata": {},
      "source": [
        "**Задание 3:** Создайте подкласс `ElectricCar`, добавив атрибут `battery_capacity`."
      ]
    },
    {
      "cell_type": "code",
      "execution_count": null,
      "metadata": {},
      "outputs": [],
      "source": [
        "# Ваш код здесь\n",
        "class Car:\n",
        "    def __init__(self, brand, model, year):\n",
        "        self.brand = brand\n",
        "        self.model = model\n",
        "        self.year = year\n",
        "\n",
        "class ElectricCar(Car):\n",
        "    def __init__(self, brand, model, year, battery_capacity):\n",
        "        pass\n",
        "\n",
        "# Тестирование\n",
        "ecar = ElectricCar(\"Tesla\", \"Model 3\", 2021, 75)\n",
        "print(ecar.brand, ecar.model, ecar.year, ecar.battery_capacity)"
      ]
    },
    {
      "cell_type": "code",
      "execution_count": null,
      "metadata": {},
      "outputs": [],
      "source": [
        "# Проверка\n",
        "assert ecar.brand == \"Tesla\", \"Ошибка! Марка должна быть 'Tesla'\"\n",
        "assert ecar.model == \"Model 3\", \"Ошибка! Модель должна быть 'Model 3'\"\n",
        "assert ecar.year == 2021, \"Ошибка! Год должен быть 2021\"\n",
        "assert ecar.battery_capacity == 75, \"Ошибка! Ёмкость батареи должна быть 75\"\n",
        "assert isinstance(ecar, ElectricCar), \"Ошибка! ecar должен быть объектом класса ElectricCar\"\n",
        "assert isinstance(ecar, Car), \"Ошибка! ecar должен быть подклассом Car\""
      ]
    },
    {
      "cell_type": "markdown",
      "metadata": {},
      "source": [
        "<details><summary>Решение задания 3</summary>\n",
        "\n",
        "```python\n",
        "class Car:\n",
        "    def __init__(self, brand, model, year):\n",
        "        self.brand = brand\n",
        "        self.model = model\n",
        "        self.year = year\n",
        "\n",
        "class ElectricCar(Car):\n",
        "    def __init__(self, brand, model, year, battery_capacity):\n",
        "        super().__init__(brand, model, year)\n",
        "        self.battery_capacity = battery_capacity\n",
        "\n",
        "ecar = ElectricCar(\"Tesla\", \"Model 3\", 2021, 75)\n",
        "print(ecar.brand, ecar.model, ecar.year, ecar.battery_capacity)\n",
        "```\n",
        "\n",
        "</details>"
      ]
    },
    {
      "cell_type": "markdown",
      "metadata": {},
      "source": [
        "**Задание 4:** Переопределите метод `start` для `ElectricCar`, чтобы он выводил сообщение о тихом запуске."
      ]
    },
    {
      "cell_type": "code",
      "execution_count": null,
      "metadata": {},
      "outputs": [],
      "source": [
        "# Ваш код здесь\n",
        "class Car:\n",
        "    def __init__(self, brand, model, year):\n",
        "        self.brand = brand\n",
        "        self.model = model\n",
        "        self.year = year\n",
        "    \n",
        "    def start(self):\n",
        "        print(f\"Машина {self.brand} {self.model} заводится!\")\n",
        "\n",
        "class ElectricCar(Car):\n",
        "    def __init__(self, brand, model, year, battery_capacity):\n",
        "        super().__init__(brand, model, year)\n",
        "        self.battery_capacity = battery_capacity\n",
        "    \n",
        "    def start(self):\n",
        "        pass\n",
        "\n",
        "# Тестирование\n",
        "ecar = ElectricCar(\"Tesla\", \"Model 3\", 2021, 75)\n",
        "ecar.start()"
      ]
    },
    {
      "cell_type": "code",
      "execution_count": null,
      "metadata": {},
      "outputs": [],
      "source": [
        "# Проверка\n",
        "import sys\n",
        "from io import StringIO\n",
        "\n",
        "old_stdout = sys.stdout\n",
        "sys.stdout = mystdout = StringIO()\n",
        "ecar.start()\n",
        "sys.stdout = old_stdout\n",
        "assert mystdout.getvalue().strip() == \"Электромобиль Tesla Model 3 тихо запускается!\", \"Ошибка! Метод start должен вывести 'Электромобиль Tesla Model 3 тихо запускается!'\"\n",
        "assert hasattr(ecar, 'start'), \"Ошибка! Метод start должен быть определён\""
      ]
    },
    {
      "cell_type": "markdown",
      "metadata": {},
      "source": [
        "<details><summary>Решение задания 4</summary>\n",
        "\n",
        "```python\n",
        "class Car:\n",
        "    def __init__(self, brand, model, year):\n",
        "        self.brand = brand\n",
        "        self.model = model\n",
        "        self.year = year\n",
        "    \n",
        "    def start(self):\n",
        "        print(f\"Машина {self.brand} {self.model} заводится!\")\n",
        "\n",
        "class ElectricCar(Car):\n",
        "    def __init__(self, brand, model, year, battery_capacity):\n",
        "        super().__init__(brand, model, year)\n",
        "        self.battery_capacity = battery_capacity\n",
        "    \n",
        "    def start(self):\n",
        "        print(f\"Электромобиль {self.brand} {self.model} тихо запускается!\")\n",
        "\n",
        "ecar = ElectricCar(\"Tesla\", \"Model 3\", 2021, 75)\n",
        "ecar.start()\n",
        "```\n",
        "\n",
        "</details>"
      ]
    },
    {
      "cell_type": "markdown",
      "metadata": {},
      "source": [
        "## 🏠 Домашнее задание"
      ]
    },
    {
      "cell_type": "markdown",
      "metadata": {},
      "source": [
        "Выберите **один** из вариантов ниже и реализуйте его полностью. Ваш класс должен содержать:\n",
        "- Атрибуты (данные объекта, например, имя или возраст).\n",
        "- Конструктор (`__init__`) для инициализации атрибутов.\n",
        "- Методы для работы с атрибутами (например, получение, изменение, вывод информации).\n",
        "- Возможность наследования (для вариантов с несколькими классами).\n",
        "\n",
        "Каждое задание включает проверку с помощью `assert` и примеры тестирования. Решения скрыты в тегах `<details>`."
      ]
    },
    {
      "cell_type": "markdown",
      "metadata": {},
      "source": [
        "### Вариант 1: Класс `Student`\n",
        "**Описание:** Создайте класс `Student`, который моделирует студента. Этот класс будет хранить информацию о студенте и его оценках.\n",
        "\n",
        "- **Атрибуты:**\n",
        "  - `name` (имя, строка)\n",
        "  - `age` (возраст, целое число)\n",
        "  - `grades` (список оценок, например, [4, 5, 3])\n",
        "- **Методы:**\n",
        "  - `add_grade(grade)`: добавляет оценку в список `grades`.\n",
        "  - `average_grade()`: возвращает средний балл (сумма оценок, делённая на их количество).\n",
        "  - `info()`: выводит информацию о студенте в формате: \"Студент [имя], возраст: [возраст], оценки: [оценки]\".\n",
        "\n",
        "**Пример из жизни:** Студент — это как карточка в школьном журнале, где записаны имя, возраст и оценки. Вы можете добавить новую оценку (например, за контрольную) или узнать средний балл для отчёта."
      ]
    },
    {
      "cell_type": "code",
      "execution_count": null,
      "metadata": {},
      "outputs": [],
      "source": [
        "# Ваш код здесь\n",
        "class Student:\n",
        "    def __init__(self, name, age, grades):\n",
        "        pass\n",
        "    \n",
        "    def add_grade(self, grade):\n",
        "        pass\n",
        "    \n",
        "    def average_grade(self):\n",
        "        pass\n",
        "    \n",
        "    def info(self):\n",
        "        pass\n",
        "\n",
        "# Тестирование\n",
        "student = Student(\"Иван\", 20, [4, 5, 3])\n",
        "student.add_grade(5)\n",
        "print(student.average_grade())\n",
        "student.info()"
      ]
    },
    {
      "cell_type": "code",
      "execution_count": null,
      "metadata": {},
      "outputs": [],
      "source": [
        "# Проверка\n",
        "import sys\n",
        "from io import StringIO\n",
        "\n",
        "assert student.name == \"Иван\", \"Ошибка! Имя должно быть 'Иван'\"\n",
        "assert student.age == 20, \"Ошибка! Возраст должен быть 20\"\n",
        "assert student.grades == [4, 5, 3, 5], \"Ошибка! Список оценок должен быть [4, 5, 3, 5]\"\n",
        "assert student.average_grade() == 4.25, \"Ошибка! Средний балл должен быть 4.25\"\n",
        "old_stdout = sys.stdout\n",
        "sys.stdout = mystdout = StringIO()\n",
        "student.info()\n",
        "sys.stdout = old_stdout\n",
        "assert \"Студент Иван, возраст: 20, оценки: [4, 5, 3, 5]\" in mystdout.getvalue(), \"Ошибка! Метод info должен вывести корректную информацию\""
      ]
    },
    {
      "cell_type": "markdown",
      "metadata": {},
      "source": [
        "<details><summary>Решение задания 1</summary>\n",
        "\n",
        "```python\n",
        "class Student:\n",
        "    def __init__(self, name, age, grades):\n",
        "        self.name = name\n",
        "        self.age = age\n",
        "        self.grades = grades\n",
        "    \n",
        "    def add_grade(self, grade):\n",
        "        self.grades.append(grade)\n",
        "    \n",
        "    def average_grade(self):\n",
        "        return sum(self.grades) / len(self.grades) if self.grades else 0\n",
        "    \n",
        "    def info(self):\n",
        "        print(f\"Студент {self.name}, возраст: {self.age}, оценки: {self.grades}\")\n",
        "\n",
        "student = Student(\"Иван\", 20, [4, 5, 3])\n",
        "student.add_grade(5)\n",
        "print(student.average_grade())\n",
        "student.info()\n",
        "```\n",
        "\n",
        "</details>"
      ]
    },
    {
      "cell_type": "markdown",
      "metadata": {},
      "source": [
        "### Вариант 2: Классы `Animal` и подклассы\n",
        "**Описание:** Создайте базовый класс `Animal` и два подкласса `Dog` и `Cat`. Используйте наследование и полиморфизм для реализации метода `make_sound`.\n",
        "\n",
        "- **Класс `Animal`:**\n",
        "  - Атрибуты: `name` (имя животного).\n",
        "  - Метод: `make_sound()` (по умолчанию выводит \"[имя] издаёт звук.\").\n",
        "- **Класс `Dog`:**\n",
        "  - Наследуется от `Animal`.\n",
        "  - Переопределяет `make_sound()` для вывода \"[имя] лает.\".\n",
        "- **Класс `Cat`:**\n",
        "  - Наследуется от `Animal`.\n",
        "  - Переопределяет `make_sound()` для вывода \"[имя] мяукает.\".\n",
        "\n",
        "**Пример из жизни:** Животные в зоопарке имеют общее свойство (имя) и поведение (издают звуки), но собаки и кошки делают это по-разному. Полиморфизм позволяет обработать их одинаково в коде."
      ]
    },
    {
      "cell_type": "code",
      "execution_count": null,
      "metadata": {},
      "outputs": [],
      "source": [
        "# Ваш код здесь\n",
        "class Animal:\n",
        "    def __init__(self, name):\n",
        "        pass\n",
        "    \n",
        "    def make_sound(self):\n",
        "        pass\n",
        "\n",
        "class Dog(Animal):\n",
        "    def make_sound(self):\n",
        "        pass\n",
        "\n",
        "class Cat(Animal):\n",
        "    def make_sound(self):\n",
        "        pass\n",
        "\n",
        "# Тестирование\n",
        "dog = Dog(\"Рекс\")\n",
        "cat = Cat(\"Мурка\")\n",
        "dog.make_sound()\n",
        "cat.make_sound()"
      ]
    },
    {
      "cell_type": "code",
      "execution_count": null,
      "metadata": {},
      "outputs": [],
      "source": [
        "# Проверка\n",
        "import sys\n",
        "from io import StringIO\n",
        "\n",
        "old_stdout = sys.stdout\n",
        "sys.stdout = mystdout = StringIO()\n",
        "dog.make_sound()\n",
        "cat.make_sound()\n",
        "sys.stdout = old_stdout\n",
        "output = mystdout.getvalue().strip().split('\\n')\n",
        "assert output[0] == \"Рекс лает.\", \"Ошибка! Метод make_sound для Dog должен вывести 'Рекс лает.'\"\n",
        "assert output[1] == \"Мурка мяукает.\", \"Ошибка! Метод make_sound для Cat должен вывести 'Мурка мяукает.'\"\n",
        "assert isinstance(dog, Animal), \"Ошибка! Dog должен быть подклассом Animal\"\n",
        "assert isinstance(cat, Animal), \"Ошибка! Cat должен быть подклассом Animal\"\n",
        "assert dog.name == \"Рекс\", \"Ошибка! Имя собаки должно быть 'Рекс'\"\n",
        "assert cat.name == \"Мурка\", \"Ошибка! Имя кошки должно быть 'Мурка'\""
      ]
    },
    {
      "cell_type": "markdown",
      "metadata": {},
      "source": [
        "<details><summary>Решение задания 2</summary>\n",
        "\n",
        "```python\n",
        "class Animal:\n",
        "    def __init__(self, name):\n",
        "        self.name = name\n",
        "    \n",
        "    def make_sound(self):\n",
        "        print(f\"{self.name} издаёт звук.\")\n",
        "\n",
        "class Dog(Animal):\n",
        "    def make_sound(self):\n",
        "        print(f\"{self.name} лает.\")\n",
        "\n",
        "class Cat(Animal):\n",
        "    def make_sound(self):\n",
        "        print(f\"{self.name} мяукает.\")\n",
        "\n",
        "dog = Dog(\"Рекс\")\n",
        "cat = Cat(\"Мурка\")\n",
        "dog.make_sound()\n",
        "cat.make_sound()\n",
        "```\n",
        "\n",
        "</details>"
      ]
    },
    {
      "cell_type": "markdown",
      "metadata": {},
      "source": [
        "### Вариант 3: Класс `LibraryBook` с инкапсуляцией\n",
        "**Описание:** Создайте класс `LibraryBook`, который моделирует книгу в библиотеке. Используйте инкапсуляцию для защиты данных.\n",
        "\n",
        "- **Атрибуты:**\n",
        "  - `__title` (название книги, приватный, строка).\n",
        "  - `__author` (автор, приватный, строка).\n",
        "  - `__is_borrowed` (статус выдачи, приватный, булевый, по умолчанию False).\n",
        "- **Методы:**\n",
        "  - `get_title()`: возвращает название книги.\n",
        "  - `get_author()`: возвращает автора.\n",
        "  - `borrow_book()`: устанавливает `__is_borrowed` в True, если книга не выдана, иначе выводит сообщение об ошибке.\n",
        "  - `return_book()`: устанавливает `__is_borrowed` в False, если книга была выдана, иначе выводит сообщение об ошибке.\n",
        "  - `is_available()`: возвращает True, если книга не выдана, иначе False.\n",
        "\n",
        "**Пример из жизни:** Книга в библиотеке имеет название и автора, которые нельзя изменить напрямую. Читатель может взять книгу, если она доступна, или вернуть, если она у него."
      ]
    },
    {
      "cell_type": "code",
      "execution_count": null,
      "metadata": {},
      "outputs": [],
      "source": [
        "# Ваш код здесь\n",
        "class LibraryBook:\n",
        "    def __init__(self, title, author):\n",
        "        pass\n",
        "    \n",
        "    def get_title(self):\n",
        "        pass\n",
        "    \n",
        "    def get_author(self):\n",
        "        pass\n",
        "    \n",
        "    def borrow_book(self):\n",
        "        pass\n",
        "    \n",
        "    def return_book(self):\n",
        "        pass\n",
        "    \n",
        "    def is_available(self):\n",
        "        pass\n",
        "\n",
        "# Тестирование\n",
        "book = LibraryBook(\"Война и мир\", \"Лев Толстой\")\n",
        "print(book.get_title(), book.get_author())\n",
        "print(book.is_available())\n",
        "book.borrow_book()\n",
        "print(book.is_available())\n",
        "book.return_book()\n",
        "print(book.is_available())"
      ]
    },
    {
      "cell_type": "code",
      "execution_count": null,
      "metadata": {},
      "outputs": [],
      "source": [
        "# Проверка\n",
        "import sys\n",
        "from io import StringIO\n",
        "\n",
        "assert book.get_title() == \"Война и мир\", \"Ошибка! Название должно быть 'Война и мир'\"\n",
        "assert book.get_author() == \"Лев Толстой\", \"Ошибка! Автор должен быть 'Лев Толстой'\"\n",
        "assert book.is_available() == True, \"Ошибка! Книга должна быть доступна после возврата\"\n",
        "book.borrow_book()\n",
        "assert book.is_available() == False, \"Ошибка! Книга не должна быть доступна после выдачи\"\n",
        "old_stdout = sys.stdout\n",
        "sys.stdout = mystdout = StringIO()\n",
        "book.borrow_book()\n",
        "sys.stdout = old_stdout\n",
        "assert \"Книга уже выдана!\" in mystdout.getvalue(), \"Ошибка! Метод borrow_book должен вывести 'Книга уже выдана!' при повторной выдаче\"\n",
        "try:\n",
        "    print(book.__title)\n",
        "    assert False, \"Ошибка! Доступ к __title должен быть запрещён\"\n",
        "except AttributeError:\n",
        "    pass"
      ]
    },
    {
      "cell_type": "markdown",
      "metadata": {},
      "source": [
        "<details><summary>Решение задания 3</summary>\n",
        "\n",
        "```python\n",
        "class LibraryBook:\n",
        "    def __init__(self, title, author):\n",
        "        self.__title = title\n",
        "        self.__author = author\n",
        "        self.__is_borrowed = False\n",
        "    \n",
        "    def get_title(self):\n",
        "        return self.__title\n",
        "    \n",
        "    def get_author(self):\n",
        "        return self.__author\n",
        "    \n",
        "    def borrow_book(self):\n",
        "        if not self.__is_borrowed:\n",
        "            self.__is_borrowed = True\n",
        "            print(f\"Книга '{self.__title}' выдана.\")\n",
        "        else:\n",
        "            print(\"Книга уже выдана!\")\n",
        "    \n",
        "    def return_book(self):\n",
        "        if self.__is_borrowed:\n",
        "            self.__is_borrowed = False\n",
        "            print(f\"Книга '{self.__title}' возвращена.\")\n",
        "        else:\n",
        "            print(\"Книга уже в библиотеке!\")\n",
        "    \n",
        "    def is_available(self):\n",
        "        return not self.__is_borrowed\n",
        "\n",
        "book = LibraryBook(\"Война и мир\", \"Лев Толстой\")\n",
        "print(book.get_title(), book.get_author())\n",
        "print(book.is_available())\n",
        "book.borrow_book()\n",
        "print(book.is_available())\n",
        "book.return_book()\n",
        "print(book.is_available())\n",
        "```\n",
        "\n",
        "</details>"
      ]
    },
    {
      "cell_type": "markdown",
      "metadata": {},
      "source": [
        "### Вариант 4: Классы `Shape` и подклассы\n",
        "**Описание:** Создайте базовый класс `Shape` и два подкласса `Rectangle` и `Circle`. Используйте наследование и полиморфизм для вычисления площади.\n",
        "\n",
        "- **Класс `Shape`:**\n",
        "  - Атрибут: `color` (цвет фигуры, строка).\n",
        "  - Метод: `area()` (по умолчанию возвращает 0).\n",
        "- **Класс `Rectangle`:**\n",
        "  - Наследуется от `Shape`.\n",
        "  - Дополнительные атрибуты: `width`, `height`.\n",
        "  - Переопределяет `area()` для вычисления площади прямоугольника (ширина × высота).\n",
        "- **Класс `Circle`:**\n",
        "  - Наследуется от `Shape`.\n",
        "  - Дополнительный атрибут: `radius`.\n",
        "  - Переопределяет `area()` для вычисления площади круга (π × радиус², используйте `math.pi`).\n",
        "\n",
        "**Пример из жизни:** Фигуры на чертеже имеют общий атрибут — цвет, но площадь считается по-разному для прямоугольников и кругов. Это удобно для программы, которая работает с разными фигурами."
      ]
    },
    {
      "cell_type": "code",
      "execution_count": null,
      "metadata": {},
      "outputs": [],
      "source": [
        "# Ваш код здесь\n",
        "import math\n",
        "\n",
        "class Shape:\n",
        "    def __init__(self, color):\n",
        "        pass\n",
        "    \n",
        "    def area(self):\n",
        "        pass\n",
        "\n",
        "class Rectangle(Shape):\n",
        "    def __init__(self, color, width, height):\n",
        "        pass\n",
        "    \n",
        "    def area(self):\n",
        "        pass\n",
        "\n",
        "class Circle(Shape):\n",
        "    def __init__(self, color, radius):\n",
        "        pass\n",
        "    \n",
        "    def area(self):\n",
        "        pass\n",
        "\n",
        "# Тестирование\n",
        "rect = Rectangle(\"красный\", 4, 5)\n",
        "circle = Circle(\"синий\", 3)\n",
        "print(rect.area())\n",
        "print(circle.area())"
      ]
    },
    {
      "cell_type": "code",
      "execution_count": null,
      "metadata": {},
      "outputs": [],
      "source": [
        "# Проверка\n",
        "assert rect.color == \"красный\", \"Ошибка! Цвет прямоугольника должен быть 'красный'\"\n",
        "assert rect.area() == 20, \"Ошибка! Площадь прямоугольника должна быть 20\"\n",
        "assert circle.color == \"синий\", \"Ошибка! Цвет круга должен быть 'синий'\"\n",
        "assert abs(circle.area() - math.pi * 9) < 0.0001, \"Ошибка! Площадь круга должна быть pi * 9\"\n",
        "assert isinstance(rect, Shape), \"Ошибка! Rectangle должен быть подклассом Shape\"\n",
        "assert isinstance(circle, Shape), \"Ошибка! Circle должен быть подклассом Shape\""
      ]
    },
    {
      "cell_type": "markdown",
      "metadata": {},
      "source": [
        "<details><summary>Решение задания 4</summary>\n",
        "\n",
        "```python\n",
        "import math\n",
        "\n",
        "class Shape:\n",
        "    def __init__(self, color):\n",
        "        self.color = color\n",
        "    \n",
        "    def area(self):\n",
        "        return 0\n",
        "\n",
        "class Rectangle(Shape):\n",
        "    def __init__(self, color, width, height):\n",
        "        super().__init__(color)\n",
        "        self.width = width\n",
        "        self.height = height\n",
        "    \n",
        "    def area(self):\n",
        "        return self.width * self.height\n",
        "\n",
        "class Circle(Shape):\n",
        "    def __init__(self, color, radius):\n",
        "        super().__init__(color)\n",
        "        self.radius = radius\n",
        "    \n",
        "    def area(self):\n",
        "        return math.pi * self.radius ** 2\n",
        "\n",
        "rect = Rectangle(\"красный\", 4, 5)\n",
        "circle = Circle(\"синий\", 3)\n",
        "print(rect.area())\n",
        "print(circle.area())\n",
        "```\n",
        "\n",
        "</details>"
      ]
    },
    {
      "cell_type": "markdown",
      "metadata": {},
      "source": [
        "## 📚 Итоги урока\n",
        "\n",
        "На этом уроке вы:\n",
        "- Узнали, что такое ООП и его основные принципы: инкапсуляция, наследование, полиморфизм.\n",
        "- Научились создавать классы и объекты, работать с атрибутами и методами.\n",
        "- Применили инкапсуляцию для защиты данных.\n",
        "- Изучили наследование для создания иерархий классов.\n",
        "- Практиковали полиморфизм для гибкой работы с объектами.\n",
        "- Выполнили практические задания, чтобы закрепить навыки.\n",
        "\n",
        "**Совет:** Попробуйте придумать свои примеры классов, основанные на реальных объектах (например, телефон, магазин, игра). Это поможет лучше понять ООП и подготовиться к созданию собственных проектов.\n",
        "\n",
        "**Дополнительно:**\n",
        "- Прочитайте о декораторах `@property` для упрощения геттеров и сеттеров.\n",
        "- Попробуйте создать более сложную иерархию классов, например, для моделирования школы (учителя, студенты, предметы).\n",
        "- Исследуйте модуль `abc` (Abstract Base Classes) для создания абстрактных классов."
      ]
    }
  ]
}