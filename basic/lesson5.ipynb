{
  "cells": [
    {
      "cell_type": "markdown",
      "id": "efb6b73a",
      "metadata": {},
      "source": [
        "# 🧠 Урок 5: Алгоритмы и структуры данных\n",
        "\n",
        "**Цель урока:**\n",
        "- Познакомиться с основными структурами данных в Python.\n",
        "- Научиться использовать алгоритмы сортировки и поиска.\n",
        "- Понять, как работают и когда применять разные структуры данных и алгоритмы.\n",
        "\n",
        "Этот урок создан для новичков, поэтому мы будем объяснять всё простыми словами, с примерами из жизни, и добавим больше теории, чтобы вы могли уверенно начать программировать."
      ]
    },
    {
      "cell_type": "markdown",
      "id": "1a601a6b",
      "metadata": {},
      "source": [
        "## 📦 1. Структуры данных в Python"
      ]
    },
    {
      "cell_type": "markdown",
      "id": "c036fee1",
      "metadata": {},
      "source": [
        "### Что такое структуры данных?\n",
        "\n",
        "Представьте, что у вас есть коробка с игрушками. Чтобы быстро найти нужную игрушку, вы можете разложить их по полкам, ящикам или просто свалить в кучу. Структуры данных в программировании — это как такие «полки» или «ящики» для хранения информации в компьютере. Они помогают организовать данные так, чтобы с ними было удобно работать.\n",
        "\n",
        "#### Основные типы структур данных в Python:\n",
        "- **Строки (`str`)** — это как текст в книге, набор букв и символов.\n",
        "- **Списки (`list`)** — это как список покупок, который можно менять.\n",
        "- **Кортежи (`tuple`)** — это как список покупок, но записанный на камне, его нельзя изменить.\n",
        "- **Множества (`set`)** — это как набор уникальных марок в коллекции, без повторов.\n",
        "- **Словари (`dict`)** — это как телефонная книга, где каждому имени соответствует номер."
      ]
    },
    {
      "cell_type": "markdown",
      "id": "d0e4bae1",
      "metadata": {},
      "source": [
        "### 🖊 1.1 Строки (Strings)"
      ]
    },
    {
      "cell_type": "markdown",
      "id": "0aaab2aa",
      "metadata": {},
      "source": [
        "Строка — это последовательность символов, например, слово или предложение. Представьте, что это как цепочка бусин на нитке: каждая бусина — это буква или символ.\n",
        "\n",
        "#### Почему это важно?\n",
        "Строки используются везде: для ввода текста, вывода сообщений, работы с именами файлов и многого другого.\n",
        "\n",
        "#### Особенность строк:\n",
        "- **Неизменяемы**: Это значит, что если вы написали слово «кот», вы не можете просто заменить «к» на «р» и получить «рот». Нужно создать новое слово.\n",
        "\n",
        "#### Создание строки:"
      ]
    },
    {
      "cell_type": "code",
      "execution_count": null,
      "id": "3c42f463",
      "metadata": {},
      "outputs": [],
      "source": [
        "text = \"Привет, мир!\"\n",
        "print(text)"
      ]
    },
    {
      "cell_type": "markdown",
      "id": "45bb25c6",
      "metadata": {},
      "source": [
        "#### Основные операции со строками:\n",
        "- **Длина строки**: Узнать, сколько символов в тексте.\n",
        "- **Изменение регистра**: Сделать все буквы большими или маленькими.\n",
        "- **Замена**: Поменять одно слово на другое.\n",
        "- **Срезы**: Взять часть строки, как кусок от пирога.\n",
        "\n",
        "#### Примеры операций:"
      ]
    },
    {
      "cell_type": "code",
      "execution_count": null,
      "id": "003a379e",
      "metadata": {},
      "outputs": [],
      "source": [
        "text = \"Привет, мир!\"\n",
        "print(len(text))           # 12 (считает все символы, включая пробел и !)\n",
        "print(text.lower())        # привет, мир!\n",
        "print(text.upper())        # ПРИВЕТ, МИР!\n",
        "print(text.replace(\"мир\", \"Python\"))  # Привет, Python!\n",
        "print(text[0])            # П (первая буква)\n",
        "print(text[-1])           # ! (последний символ)\n",
        "print(text[0:6])          # Привет (с 0-го по 5-й символ)"
      ]
    },
    {
      "cell_type": "markdown",
      "id": "e4f32903",
      "metadata": {},
      "source": [
        "#### Полезные методы строк:\n",
        "- `.split()` — разбивает строку на список слов.\n",
        "- `.join()` — соединяет слова из списка в строку.\n",
        "- `.find()` — ищет, где начинается слово или символ.\n",
        "- `.strip()` — убирает лишние пробелы в начале и конце.\n",
        "\n",
        "#### Примеры методов:"
      ]
    },
    {
      "cell_type": "code",
      "execution_count": null,
      "id": "79a331e0",
      "metadata": {},
      "outputs": [],
      "source": [
        "text = \"я люблю Python\"\n",
        "words = text.split()         # ['я', 'люблю', 'Python']\n",
        "print(words)\n",
        "new_text = \" \".join(words)   # я люблю Python\n",
        "print(new_text)\n",
        "print(text.find(\"Python\"))   # 7 (позиция, где начинается слово)\n",
        "messy_text = \"  привет  \"\n",
        "print(messy_text.strip())    # привет"
      ]
    },
    {
      "cell_type": "markdown",
      "id": "6fe7defb",
      "metadata": {},
      "source": [
        "#### Перебор строки:\n",
        "Можно пройтись по каждому символу строки, как по ступенькам лестницы."
      ]
    },
    {
      "cell_type": "code",
      "execution_count": null,
      "id": "4340200a",
      "metadata": {},
      "outputs": [],
      "source": [
        "for char in \"Привет\":\n",
        "    print(char)  # П р и в е т"
      ]
    },
    {
      "cell_type": "markdown",
      "id": "aa52388e",
      "metadata": {},
      "source": [
        "### 💡 Подсказка для новичков:\n",
        "Если вы хотите изменить строку, используйте методы, которые создают новую строку, например, `replace()` или срезы. Это как переписать слово на новом листе бумаги, а не стирать старое."
      ]
    },
    {
      "cell_type": "markdown",
      "id": "97c25486",
      "metadata": {},
      "source": [
        "### 🧪 Практика: Работа со строками"
      ]
    },
    {
      "cell_type": "markdown",
      "id": "ff675aa9",
      "metadata": {},
      "source": [
        "1. Напишите программу, которая считает количество гласных букв в строке.\n",
        "**Проверка**: Для строки `\"hello\"` должно быть 2 гласных (e, o)."
      ]
    },
    {
      "cell_type": "code",
      "execution_count": null,
      "id": "a62701b6",
      "metadata": {},
      "outputs": [],
      "source": [
        "text = \"hello\"\n",
        "vowels = \"aeiou\"\n",
        "count = 0\n",
        "for char in text.lower():\n",
        "    if char in vowels:\n",
        "        count += 1\n",
        "print(count)  # Ожидаемый результат: 2\n",
        "\n",
        "# Проверьте себя:\n",
        "assert count == 2, \"Ошибка! Должно быть 2 гласных в 'hello'\""
      ]
    },
    {
      "cell_type": "markdown",
      "id": "78724b65",
      "metadata": {},
      "source": [
        "> **Решение (скрыто):**\n",
        "> ```python\n",
        "> text = \"hello\"\n",
        "> vowels = \"aeiou\"\n",
        "> count = 0\n",
        "> for char in text.lower():\n",
        ">     if char in vowels:\n",
        ">         count += 1\n",
        "> print(count)  # 2\n",
        "> assert count == 2, \"Ошибка! Должно быть 2 гласных в 'hello'\"\n",
        "> ```"
      ]
    },
    {
      "cell_type": "markdown",
      "id": "f0be6d6d",
      "metadata": {},
      "source": [
        "2. Напишите функцию, которая проверяет, является ли слово палиндромом.\n",
        "**Проверка**: Для слова `\"radar\"` результат `True`, для `\"hello\"` — `False`."
      ]
    },
    {
      "cell_type": "code",
      "execution_count": null,
      "id": "bde3e74b",
      "metadata": {},
      "outputs": [],
      "source": [
        "def is_palindrome(word):\n",
        "    return word == word[::-1]\n",
        "\n",
        "print(is_palindrome(\"radar\"))  # Ожидаемый результат: True\n",
        "print(is_palindrome(\"hello\"))  # Ожидаемый результат: False\n",
        "\n",
        "# Проверьте себя:\n",
        "assert is_palindrome(\"radar\") == True, \"Ошибка! 'radar' — палиндром\"\n",
        "assert is_palindrome(\"hello\") == False, \"Ошибка! 'hello' — не палиндром\""
      ]
    },
    {
      "cell_type": "markdown",
      "id": "9793d955",
      "metadata": {},
      "source": [
        "> **Решение (скрыто):**\n",
        "> ```python\n",
        "> def is_palindrome(word):\n",
        ">     return word == word[::-1]\n",
        "> print(is_palindrome(\"radar\"))  # True\n",
        "> print(is_palindrome(\"hello\"))  # False\n",
        "> assert is_palindrome(\"radar\") == True, \"Ошибка! 'radar' — палиндром\"\n",
        "> assert is_palindrome(\"hello\") == False, \"Ошибка! 'hello' — не палиндром\"\n",
        "> ```"
      ]
    },
    {
      "cell_type": "markdown",
      "id": "1de9786c",
      "metadata": {},
      "source": [
        "3. Напишите программу, которая выводит строку наоборот.\n",
        "**Проверка**: Для строки `\"Python\"` результат должен быть `\"nohtyP\"`."
      ]
    },
    {
      "cell_type": "code",
      "execution_count": null,
      "id": "c68526f0",
      "metadata": {},
      "outputs": [],
      "source": [
        "text = \"Python\"\n",
        "reversed_text = text[::-1]\n",
        "print(reversed_text)  # Ожидаемый результат: nohtyP\n",
        "\n",
        "# Проверьте себя:\n",
        "assert reversed_text == \"nohtyP\", \"Ошибка! 'Python' наоборот — 'nohtyP'\""
      ]
    },
    {
      "cell_type": "markdown",
      "id": "df1027b4",
      "metadata": {},
      "source": [
        "> **Решение (скрыто):**\n",
        "> ```python\n",
        "> text = \"Python\"\n",
        "> reversed_text = text[::-1]\n",
        "> print(reversed_text)  # nohtyP\n",
        "> assert reversed_text == \"nohtyP\", \"Ошибка! 'Python' наоборот — 'nohtyP'\"\n",
        "> ```"
      ]
    },
    {
      "cell_type": "markdown",
      "id": "c1828ff2",
      "metadata": {},
      "source": [
        "### 📋 1.2 Списки (Lists)"
      ]
    },
    {
      "cell_type": "markdown",
      "id": "199e4fd5",
      "metadata": {},
      "source": [
        "Список — это как корзина, в которую можно класть разные вещи: фрукты, числа, слова. Главное, что эту корзину можно менять: добавлять, убирать или заменять вещи.\n",
        "\n",
        "#### Почему это важно?\n",
        "Списки нужны, когда у вас есть набор данных, который может меняться, например, список дел на день или оценки учеников.\n",
        "\n",
        "#### Особенность списков:\n",
        "- **Изменяемы**: Вы можете заменить, добавить или удалить элементы.\n",
        "- **Упорядочены**: Элементы хранятся в том порядке, в котором вы их добавили.\n",
        "\n",
        "#### Создание списка:"
      ]
    },
    {
      "cell_type": "code",
      "execution_count": null,
      "id": "4c3a8d5c",
      "metadata": {},
      "outputs": [],
      "source": [
        "fruits = [\"яблоко\", \"банан\", \"киви\"]\n",
        "print(fruits)"
      ]
    },
    {
      "cell_type": "markdown",
      "id": "f53b841e",
      "metadata": {},
      "source": [
        "#### Основные операции со списками:\n",
        "- **Доступ по индексу**: Взять элемент по его номеру (начинается с 0).\n",
        "- **Добавление**: Положить новый элемент в корзину.\n",
        "- **Удаление**: Убрать элемент из корзины.\n",
        "- **Проверка наличия**: Узнать, есть ли что-то в корзине.\n",
        "\n",
        "#### Примеры операций:"
      ]
    },
    {
      "cell_type": "code",
      "execution_count": null,
      "id": "1ff1205b",
      "metadata": {},
      "outputs": [],
      "source": [
        "fruits = [\"яблоко\", \"банан\", \"киви\"]\n",
        "print(fruits[0])         # яблоко\n",
        "fruits.append(\"апельсин\") # добавили в конец\n",
        "print(fruits)            # ['яблоко', 'банан', 'киви', 'апельсин']\n",
        "fruits.remove(\"киви\")     # убрали 'киви'\n",
        "print(fruits)            # ['яблоко', 'банан', 'апельсин']\n",
        "print(len(fruits))       # 3\n",
        "print(\"банан\" in fruits)  # True"
      ]
    },
    {
      "cell_type": "markdown",
      "id": "f7c95894",
      "metadata": {},
      "source": [
        "#### Полезные методы списков:\n",
        "- `.append(x)` — добавляет элемент `x` в конец.\n",
        "- `.insert(i, x)` — вставляет `x` на позицию `i`.\n",
        "- `.remove(x)` — убирает первый элемент `x`.\n",
        "- `.pop(i)` — убирает и возвращает элемент с индексом `i` (по умолчанию последний).\n",
        "\n",
        "#### Примеры методов:"
      ]
    },
    {
      "cell_type": "code",
      "execution_count": null,
      "id": "74a8235e",
      "metadata": {},
      "outputs": [],
      "source": [
        "numbers = [1, 2, 3]\n",
        "numbers.insert(1, 10)   # вставляем 10 на позицию 1\n",
        "print(numbers)          # [1, 10, 2, 3]\n",
        "last = numbers.pop()    # убираем последний элемент\n",
        "print(last)             # 3\n",
        "print(numbers)          # [1, 10, 2]"
      ]
    },
    {
      "cell_type": "markdown",
      "id": "37c9cb67",
      "metadata": {},
      "source": [
        "#### Перебор списка:"
      ]
    },
    {
      "cell_type": "code",
      "execution_count": null,
      "id": "09441346",
      "metadata": {},
      "outputs": [],
      "source": [
        "for fruit in fruits:\n",
        "    print(fruit)  # яблоко, банан, апельсин"
      ]
    },
    {
      "cell_type": "markdown",
      "id": "8117f377",
      "metadata": {},
      "source": [
        "#### Списковые включения (List Comprehensions):\n",
        "Это короткий способ создать список. Представьте, что вы быстро записываете числа от 0 до 4."
      ]
    },
    {
      "cell_type": "code",
      "execution_count": null,
      "id": "f2fc408d",
      "metadata": {},
      "outputs": [],
      "source": [
        "numbers = [x for x in range(5)]\n",
        "print(numbers)  # [0, 1, 2, 3, 4]"
      ]
    },
    {
      "cell_type": "markdown",
      "id": "e6f64957",
      "metadata": {},
      "source": [
        "### 🧠 Советы для новичков:\n",
        "Списки — это как блокнот: вы можете дописывать заметки, вычёркивать их или вставлять новые между старыми. Используйте их, когда нужно что-то менять."
      ]
    },
    {
      "cell_type": "markdown",
      "id": "90e84dd2",
      "metadata": {},
      "source": [
        "### 🧪 Практика: Работа со списками"
      ]
    },
    {
      "cell_type": "markdown",
      "id": "f34e241a",
      "metadata": {},
      "source": [
        "1. Напишите программу, которая создаёт список из 10 случайных чисел от 1 до 100.\n",
        "**Проверка**: Длина списка должна быть 10."
      ]
    },
    {
      "cell_type": "code",
      "execution_count": null,
      "id": "df86dde3",
      "metadata": {},
      "outputs": [],
      "source": [
        "import random\n",
        "numbers = [random.randint(1, 100) for _ in range(10)]\n",
        "print(numbers)\n",
        "\n",
        "# Проверьте себя:\n",
        "assert len(numbers) == 10, \"Ошибка! Список должен содержать 10 чисел\""
      ]
    },
    {
      "cell_type": "markdown",
      "id": "aec14fc5",
      "metadata": {},
      "source": [
        "> **Решение (скрыто):**\n",
        "> ```python\n",
        "> import random\n",
        "> numbers = [random.randint(1, 100) for _ in range(10)]\n",
        "> print(numbers)\n",
        "> assert len(numbers) == 10, \"Ошибка! Список должен содержать 10 чисел\"\n",
        "> ```"
      ]
    },
    {
      "cell_type": "markdown",
      "id": "ae20063b",
      "metadata": {},
      "source": [
        "2. Добавьте новый элемент в середину списка.\n",
        "**Проверка**: Если длина была 10, теперь должна быть 11, и новый элемент — на позиции 5."
      ]
    },
    {
      "cell_type": "code",
      "execution_count": null,
      "id": "25155f9f",
      "metadata": {},
      "outputs": [],
      "source": [
        "numbers = [1, 2, 3, 4, 5, 6, 7, 8, 9, 10]\n",
        "numbers.insert(5, 42)\n",
        "print(numbers)\n",
        "\n",
        "# Проверьте себя:\n",
        "assert len(numbers) == 11, \"Ошибка! Длина списка должна быть 11\"\n",
        "assert numbers[5] == 42, \"Ошибка! Элемент 42 должен быть на позиции 5\""
      ]
    },
    {
      "cell_type": "markdown",
      "id": "782a984c",
      "metadata": {},
      "source": [
        "> **Решение (скрыто):**\n",
        "> ```python\n",
        "> numbers = [1, 2, 3, 4, 5, 6, 7, 8, 9, 10]\n",
        "> numbers.insert(5, 42)\n",
        "> print(numbers)\n",
        "> assert len(numbers) == 11, \"Ошибка! Длина списка должна быть 11\"\n",
        "> assert numbers[5] == 42, \"Ошибка! Элемент 42 должен быть на позиции 5\"\n",
        "> ```"
      ]
    },
    {
      "cell_type": "markdown",
      "id": "813eaf09",
      "metadata": {},
      "source": [
        "3. Удалите элемент по значению и по индексу.\n",
        "**Проверка**: Удалите число 5 по значению и элемент с индекса 0, длина станет 8."
      ]
    },
    {
      "cell_type": "code",
      "execution_count": null,
      "id": "60ce56ec",
      "metadata": {},
      "outputs": [],
      "source": [
        "numbers = [1, 2, 3, 4, 5, 6, 7, 8, 9, 10]\n",
        "numbers.remove(5)   # удаляем по значению\n",
        "numbers.pop(0)      # удаляем по индексу 0\n",
        "print(numbers)\n",
        "\n",
        "# Проверьте себя:\n",
        "assert len(numbers) == 8, \"Ошибка! Длина списка должна быть 8\"\n",
        "assert 5 not in numbers, \"Ошибка! Число 5 должно быть удалено\""
      ]
    },
    {
      "cell_type": "markdown",
      "id": "14fa1892",
      "metadata": {},
      "source": [
        "> **Решение (скрыто):**\n",
        "> ```python\n",
        "> numbers = [1, 2, 3, 4, 5, 6, 7, 8, 9, 10]\n",
        "> numbers.remove(5)\n",
        "> numbers.pop(0)\n",
        "> print(numbers)\n",
        "> assert len(numbers) == 8, \"Ошибка! Длина списка должна быть 8\"\n",
        "> assert 5 not in numbers, \"Ошибка! Число 5 должно быть удалено\"\n",
        "> ```"
      ]
    },
    {
      "cell_type": "markdown",
      "id": "39c95875",
      "metadata": {},
      "source": [
        "### 📐 1.3 Кортежи (Tuples)"
      ]
    },
    {
      "cell_type": "markdown",
      "id": "bbf2cc99",
      "metadata": {},
      "source": [
        "Кортеж — это как список, но «замороженный». Представьте, что вы записали что-то на бумаге и заламинировали её — теперь ничего нельзя изменить.\n",
        "\n",
        "#### Почему это важно?\n",
        "Кортежи используют, когда данные должны оставаться неизменными, например, координаты точки на карте.\n",
        "\n",
        "#### Особенность кортежей:\n",
        "- **Неизменяемы**: Нельзя добавить, убрать или заменить элементы.\n",
        "- **Быстрее списков**: Из-за неизменности Python работает с ними эффективнее.\n",
        "\n",
        "#### Создание кортежа:"
      ]
    },
    {
      "cell_type": "code",
      "execution_count": null,
      "id": "2415a013",
      "metadata": {},
      "outputs": [],
      "source": [
        "coordinates = (10, 20)\n",
        "print(coordinates)"
      ]
    },
    {
      "cell_type": "markdown",
      "id": "c3220551",
      "metadata": {},
      "source": [
        "#### Доступ к элементам:\n",
        "Как в списках, по индексу, но менять ничего нельзя."
      ]
    },
    {
      "cell_type": "code",
      "execution_count": null,
      "id": "8c1034eb",
      "metadata": {},
      "outputs": [],
      "source": [
        "print(coordinates[0])  # 10\n",
        "# coordinates[0] = 15  # Ошибка! Кортеж неизменяем"
      ]
    },
    {
      "cell_type": "markdown",
      "id": "37d527fa",
      "metadata": {},
      "source": [
        "#### Распаковка кортежа:\n",
        "Можно сразу присвоить значения из кортежа переменным."
      ]
    },
    {
      "cell_type": "code",
      "execution_count": null,
      "id": "702e27e9",
      "metadata": {},
      "outputs": [],
      "source": [
        "x, y = coordinates\n",
        "print(x, y)  # 10 20"
      ]
    },
    {
      "cell_type": "markdown",
      "id": "4a5d5daa",
      "metadata": {},
      "source": [
        "#### Изменение кортежа:\n",
        "Чтобы изменить кортеж, нужно превратить его в список, изменить, а потом обратно в кортеж."
      ]
    },
    {
      "cell_type": "code",
      "execution_count": null,
      "id": "1ee79084",
      "metadata": {},
      "outputs": [],
      "source": [
        "list_coords = list(coordinates)\n",
        "list_coords.append(30)\n",
        "coordinates = tuple(list_coords)\n",
        "print(coordinates)  # (10, 20, 30)"
      ]
    },
    {
      "cell_type": "markdown",
      "id": "1c340997",
      "metadata": {},
      "source": [
        "### 🧩 Почему использовать кортежи?\n",
        "- Они защищают данные от случайных изменений.\n",
        "- Используются для передачи неизменных данных, например, в функциях.\n",
        "- Экономят память и время выполнения."
      ]
    },
    {
      "cell_type": "markdown",
      "id": "e307b2d4",
      "metadata": {},
      "source": [
        "### 🧪 Практика: Работа с кортежами"
      ]
    },
    {
      "cell_type": "markdown",
      "id": "8801daa6",
      "metadata": {},
      "source": [
        "1. Создайте кортеж из координат точки.\n",
        "**Проверка**: Кортеж должен содержать 2 элемента."
      ]
    },
    {
      "cell_type": "code",
      "execution_count": null,
      "id": "642a92aa",
      "metadata": {},
      "outputs": [],
      "source": [
        "point = (5, 10)\n",
        "print(point)\n",
        "\n",
        "# Проверьте себя:\n",
        "assert len(point) == 2, \"Ошибка! Кортеж должен содержать 2 элемента\""
      ]
    },
    {
      "cell_type": "markdown",
      "id": "f855b0cd",
      "metadata": {},
      "source": [
        "> **Решение (скрыто):**\n",
        "> ```python\n",
        "> point = (5, 10)\n",
        "> print(point)\n",
        "> assert len(point) == 2, \"Ошибка! Кортеж должен содержать 2 элемента\"\n",
        "> ```"
      ]
    },
    {
      "cell_type": "markdown",
      "id": "513fbf8a",
      "metadata": {},
      "source": [
        "2. Преобразуйте его в список и добавьте третью координату.\n",
        "**Проверка**: Длина списка должна стать 3."
      ]
    },
    {
      "cell_type": "code",
      "execution_count": null,
      "id": "fb8d538b",
      "metadata": {},
      "outputs": [],
      "source": [
        "point = (5, 10)\n",
        "point_list = list(point)\n",
        "point_list.append(15)\n",
        "print(point_list)\n",
        "\n",
        "# Проверьте себя:\n",
        "assert len(point_list) == 3, \"Ошибка! Длина списка должна быть 3\""
      ]
    },
    {
      "cell_type": "markdown",
      "id": "e4a12060",
      "metadata": {},
      "source": [
        "> **Решение (скрыто):**\n",
        "> ```python\n",
        "> point = (5, 10)\n",
        "> point_list = list(point)\n",
        "> point_list.append(15)\n",
        "> print(point_list)\n",
        "> assert len(point_list) == 3, \"Ошибка! Длина списка должна быть 3\"\n",
        "> ```"
      ]
    },
    {
      "cell_type": "markdown",
      "id": "9b35d074",
      "metadata": {},
      "source": [
        "3. Выведите кортеж после преобразования.\n",
        "**Проверка**: Новый кортеж должен быть `(5, 10, 15)`."
      ]
    },
    {
      "cell_type": "code",
      "execution_count": null,
      "id": "c82596c8",
      "metadata": {},
      "outputs": [],
      "source": [
        "point = (5, 10)\n",
        "point_list = list(point)\n",
        "point_list.append(15)\n",
        "new_point = tuple(point_list)\n",
        "print(new_point)\n",
        "\n",
        "# Проверьте себя:\n",
        "assert new_point == (5, 10, 15), \"Ошибка! Кортеж должен быть (5, 10, 15)\""
      ]
    },
    {
      "cell_type": "markdown",
      "id": "04366d5e",
      "metadata": {},
      "source": [
        "> **Решение (скрыто):**\n",
        "> ```python\n",
        "> point = (5, 10)\n",
        "> point_list = list(point)\n",
        "> point_list.append(15)\n",
        "> new_point = tuple(point_list)\n",
        "> print(new_point)\n",
        "> assert new_point == (5, 10, 15), \"Ошибка! Кортеж должен быть (5, 10, 15)\"\n",
        "> ```"
      ]
    },
    {
      "cell_type": "markdown",
      "id": "a0dd590a",
      "metadata": {},
      "source": [
        "### 🔁 1.4 Множества (Sets)"
      ]
    },
    {
      "cell_type": "markdown",
      "id": "96033094",
      "metadata": {},
      "source": [
        "Множество — это как коллекция уникальных наклеек: каждая наклейка встречается только один раз, и порядок не важен.\n",
        "\n",
        "#### Почему это важно?\n",
        "Множества помогают быстро убрать повторы и проверить, есть ли что-то в коллекции.\n",
        "\n",
        "#### Особенность множеств:\n",
        "- **Уникальность**: Нельзя добавить два одинаковых элемента.\n",
        "- **Неупорядоченность**: Элементы лежат в случайном порядке.\n",
        "\n",
        "#### Создание множества:"
      ]
    },
    {
      "cell_type": "code",
      "execution_count": null,
      "id": "7ae48e1c",
      "metadata": {},
      "outputs": [],
      "source": [
        "colors = {\"красный\", \"синий\", \"зелёный\"}\n",
        "print(colors)"
      ]
    },
    {
      "cell_type": "markdown",
      "id": "b070b794",
      "metadata": {},
      "source": [
        "#### Основные операции:\n",
        "- **Добавление**: Положить новую наклейку.\n",
        "- **Удаление**: Убрать наклейку.\n",
        "- **Проверка наличия**: Есть ли такая наклейка?\n",
        "\n",
        "#### Примеры операций:"
      ]
    },
    {
      "cell_type": "code",
      "execution_count": null,
      "id": "5099f8f4",
      "metadata": {},
      "outputs": [],
      "source": [
        "colors.add(\"жёлтый\")   # добавляем\n",
        "print(colors)\n",
        "colors.remove(\"синий\") # убираем\n",
        "print(colors)\n",
        "print(\"красный\" in colors)  # True"
      ]
    },
    {
      "cell_type": "markdown",
      "id": "982f051f",
      "metadata": {},
      "source": [
        "#### Операции над множествами:\n",
        "- **Пересечение (`&`)**: Что есть в обоих множествах.\n",
        "- **Объединение (`|`)**: Всё из обоих множеств.\n",
        "- **Разность (`-`)**: Что есть в одном, но нет в другом.\n",
        "\n",
        "#### Примеры операций:"
      ]
    },
    {
      "cell_type": "code",
      "execution_count": null,
      "id": "3d9b06ba",
      "metadata": {},
      "outputs": [],
      "source": [
        "a = {1, 2, 3}\n",
        "b = {3, 4, 5}\n",
        "print(a & b)  # {3} — пересечение\n",
        "print(a | b)  # {1, 2, 3, 4, 5} — объединение\n",
        "print(a - b)  # {1, 2} — разность"
      ]
    },
    {
      "cell_type": "markdown",
      "id": "8147b037",
      "metadata": {},
      "source": [
        "### 🧠 Когда использовать множества?\n",
        "- Когда нужно убрать дубликаты из списка.\n",
        "- Когда важна быстрая проверка наличия элемента.\n",
        "- Для сравнения двух наборов данных."
      ]
    },
    {
      "cell_type": "markdown",
      "id": "7c2b97a8",
      "metadata": {},
      "source": [
        "### 🧪 Практика: Работа с множествами"
      ]
    },
    {
      "cell_type": "markdown",
      "id": "3dffa7f5",
      "metadata": {},
      "source": [
        "1. Создайте множество из списка и проверьте, что все элементы уникальны.\n",
        "**Проверка**: Длина множества должна быть меньше или равна длине исходного списка."
      ]
    },
    {
      "cell_type": "code",
      "execution_count": null,
      "id": "f2c6cf4e",
      "metadata": {},
      "outputs": [],
      "source": [
        "numbers = [1, 2, 2, 3, 3, 3]\n",
        "unique_numbers = set(numbers)\n",
        "print(unique_numbers)\n",
        "\n",
        "# Проверьте себя:\n",
        "assert len(unique_numbers) <= len(numbers), \"Ошибка! Множество не должно быть длиннее списка\"\n",
        "assert len(unique_numbers) == 3, \"Ошибка! Должно быть 3 уникальных элемента\""
      ]
    },
    {
      "cell_type": "markdown",
      "id": "0b7ce203",
      "metadata": {},
      "source": [
        "> **Решение (скрыто):**\n",
        "> ```python\n",
        "> numbers = [1, 2, 2, 3, 3, 3]\n",
        "> unique_numbers = set(numbers)\n",
        "> print(unique_numbers)\n",
        "> assert len(unique_numbers) <= len(numbers), \"Ошибка! Множество не должно быть длиннее списка\"\n",
        "> assert len(unique_numbers) == 3, \"Ошибка! Должно быть 3 уникальных элемента\"\n",
        "> ```"
      ]
    },
    {
      "cell_type": "markdown",
      "id": "aafa5905",
      "metadata": {},
      "source": [
        "2. Объедините два множества и выведите результат.\n",
        "**Проверка**: Объединение `{1, 2}` и `{2, 3}` должно дать `{1, 2, 3}`."
      ]
    },
    {
      "cell_type": "code",
      "execution_count": null,
      "id": "333ce406",
      "metadata": {},
      "outputs": [],
      "source": [
        "set1 = {1, 2}\n",
        "set2 = {2, 3}\n",
        "union_set = set1 | set2\n",
        "print(union_set)\n",
        "\n",
        "# Проверьте себя:\n",
        "assert union_set == {1, 2, 3}, \"Ошибка! Объединение должно быть {1, 2, 3}\""
      ]
    },
    {
      "cell_type": "markdown",
      "id": "508ff295",
      "metadata": {},
      "source": [
        "> **Решение (скрыто):**\n",
        "> ```python\n",
        "> set1 = {1, 2}\n",
        "> set2 = {2, 3}\n",
        "> union_set = set1 | set2\n",
        "> print(union_set)\n",
        "> assert union_set == {1, 2, 3}, \"Ошибка! Объединение должно быть {1, 2, 3}\"\n",
        "> ```"
      ]
    },
    {
      "cell_type": "markdown",
      "id": "89d689dd",
      "metadata": {},
      "source": [
        "3. Найдите разность двух множеств.\n",
        "**Проверка**: Разность `{1, 2, 3}` и `{2, 3}` должна быть `{1}`."
      ]
    },
    {
      "cell_type": "code",
      "execution_count": null,
      "id": "e03eb3d0",
      "metadata": {},
      "outputs": [],
      "source": [
        "set1 = {1, 2, 3}\n",
        "set2 = {2, 3}\n",
        "diff_set = set1 - set2\n",
        "print(diff_set)\n",
        "\n",
        "# Проверьте себя:\n",
        "assert diff_set == {1}, \"Ошибка! Разность должна быть {1}\""
      ]
    },
    {
      "cell_type": "markdown",
      "id": "71cf8583",
      "metadata": {},
      "source": [
        "> **Решение (скрыто):**\n",
        "> ```python\n",
        "> set1 = {1, 2, 3}\n",
        "> set2 = {2, 3}\n",
        "> diff_set = set1 - set2\n",
        "> print(diff_set)\n",
        "> assert diff_set == {1}, \"Ошибка! Разность должна быть {1}\"\n",
        "> ```"
      ]
    },
    {
      "cell_type": "markdown",
      "id": "25682c10",
      "metadata": {},
      "source": [
        "### 🗂 1.5 Словари (Dictionaries)"
      ]
    },
    {
      "cell_type": "markdown",
      "id": "1d9f0799",
      "metadata": {},
      "source": [
        "Словарь — это как записная книжка, где каждому имени соответствует телефон. В Python это пары «ключ-значение».\n",
        "\n",
        "#### Почему это важно?\n",
        "Словари нужны, чтобы быстро находить данные по ключу, например, информацию о человеке по его имени.\n",
        "\n",
        "#### Особенность словарей:\n",
        "- **Ключи уникальны**: Один ключ — одно значение.\n",
        "- **Ключи неизменяемы**: Ключом может быть строка, число или кортеж, но не список.\n",
        "- **Быстрый поиск**: Найти значение по ключу очень быстро.\n",
        "\n",
        "#### Создание словаря:"
      ]
    },
    {
      "cell_type": "code",
      "execution_count": null,
      "id": "68ef6eb2",
      "metadata": {},
      "outputs": [],
      "source": [
        "person = {\n",
        "    \"имя\": \"Алиса\",\n",
        "    \"возраст\": 25,\n",
        "    \"город\": \"Москва\"\n",
        "}\n",
        "print(person)"
      ]
    },
    {
      "cell_type": "markdown",
      "id": "ff8f0586",
      "metadata": {},
      "source": [
        "#### Доступ и изменение данных:"
      ]
    },
    {
      "cell_type": "code",
      "execution_count": null,
      "id": "4f1cf164",
      "metadata": {},
      "outputs": [],
      "source": [
        "print(person[\"имя\"])        # Алиса\n",
        "person[\"возраст\"] = 26      # изменили возраст\n",
        "person[\"профессия\"] = \"программист\"  # добавили профессию\n",
        "print(person)"
      ]
    },
    {
      "cell_type": "markdown",
      "id": "d560fa1e",
      "metadata": {},
      "source": [
        "#### Полезные методы словарей:\n",
        "- `.keys()` — возвращает все ключи.\n",
        "- `.values()` — возвращает все значения.\n",
        "- `.items()` — возвращает пары ключ-значение.\n",
        "\n",
        "#### Примеры методов:"
      ]
    },
    {
      "cell_type": "code",
      "execution_count": null,
      "id": "fe3469aa",
      "metadata": {},
      "outputs": [],
      "source": [
        "print(person.keys())    # dict_keys(['имя', 'возраст', 'город', 'профессия'])\n",
        "print(person.values())  # dict_values(['Алиса', 26, 'Москва', 'программист'])\n",
        "print(person.items())   # dict_items([('имя', 'Алиса'), ...])"
      ]
    },
    {
      "cell_type": "markdown",
      "id": "c0ba1b1d",
      "metadata": {},
      "source": [
        "#### Перебор словаря:"
      ]
    },
    {
      "cell_type": "code",
      "execution_count": null,
      "id": "55f5286b",
      "metadata": {},
      "outputs": [],
      "source": [
        "for key, value in person.items():\n",
        "    print(f\"{key}: {value}\")"
      ]
    },
    {
      "cell_type": "markdown",
      "id": "df4f4442",
      "metadata": {},
      "source": [
        "### 🧠 Как использовать словари?\n",
        "- Это как картотека: быстро находите данные по «имени» (ключу).\n",
        "- Отлично подходят для хранения информации об объектах."
      ]
    },
    {
      "cell_type": "markdown",
      "id": "986f2e80",
      "metadata": {},
      "source": [
        "### 🧪 Практика: Работа со словарями"
      ]
    },
    {
      "cell_type": "markdown",
      "id": "48df60a5",
      "metadata": {},
      "source": [
        "1. Создайте словарь с информацией о товаре (название, цена, категория).\n",
        "**Проверка**: Словарь должен содержать 3 ключа."
      ]
    },
    {
      "cell_type": "code",
      "execution_count": null,
      "id": "f12722d6",
      "metadata": {},
      "outputs": [],
      "source": [
        "product = {\n",
        "    \"название\": \"телефон\",\n",
        "    \"цена\": 10000,\n",
        "    \"категория\": \"электроника\"\n",
        "}\n",
        "print(product)\n",
        "\n",
        "# Проверьте себя:\n",
        "assert len(product) == 3, \"Ошибка! Словарь должен содержать 3 ключа\""
      ]
    },
    {
      "cell_type": "markdown",
      "id": "bd44c70e",
      "metadata": {},
      "source": [
        "> **Решение (скрыто):**\n",
        "> ```python\n",
        "> product = {\n",
        ">     \"название\": \"телефон\",\n",
        ">     \"цена\": 10000,\n",
        ">     \"категория\": \"электроника\"\n",
        "> }\n",
        "> print(product)\n",
        "> assert len(product) == 3, \"Ошибка! Словарь должен содержать 3 ключа\"\n",
        "> ```"
      ]
    },
    {
      "cell_type": "markdown",
      "id": "29f6ef2c",
      "metadata": {},
      "source": [
        "2. Добавьте новые поля (например, описание).\n",
        "**Проверка**: Длина словаря должна стать 4."
      ]
    },
    {
      "cell_type": "code",
      "execution_count": null,
      "id": "cdab0dbd",
      "metadata": {},
      "outputs": [],
      "source": [
        "product = {\n",
        "    \"название\": \"телефон\",\n",
        "    \"цена\": 10000,\n",
        "    \"категория\": \"электроника\"\n",
        "}\n",
        "product[\"описание\"] = \"смартфон с камерой\"\n",
        "print(product)\n",
        "\n",
        "# Проверьте себя:\n",
        "assert len(product) == 4, \"Ошибка! Длина словаря должна быть 4\""
      ]
    },
    {
      "cell_type": "markdown",
      "id": "185650a0",
      "metadata": {},
      "source": [
        "> **Решение (скрыто):**\n",
        "> ```python\n",
        "> product = {\n",
        ">     \"название\": \"телефон\",\n",
        ">     \"цена\": 10000,\n",
        ">     \"категория\": \"электроника\"\n",
        "> }\n",
        "> product[\"описание\"] = \"смартфон с камерой\"\n",
        "> print(product)\n",
        "> assert len(product) == 4, \"Ошибка! Длина словаря должна быть 4\"\n",
        "> ```"
      ]
    },
    {
      "cell_type": "markdown",
      "id": "cabdda70",
      "metadata": {},
      "source": [
        "3. Выведите только ключи или только значения.\n",
        "**Проверка**: Ключи должны быть `['название', 'цена', 'категория']`."
      ]
    },
    {
      "cell_type": "code",
      "execution_count": null,
      "id": "4aa0b634",
      "metadata": {},
      "outputs": [],
      "source": [
        "product = {\n",
        "    \"название\": \"телефон\",\n",
        "    \"цена\": 10000,\n",
        "    \"категория\": \"электроника\"\n",
        "}\n",
        "print(list(product.keys()))\n",
        "\n",
        "# Проверьте себя:\n",
        "assert list(product.keys()) == [\"название\", \"цена\", \"категория\"], \"Ошибка! Ключи неверные\""
      ]
    },
    {
      "cell_type": "markdown",
      "id": "da608338",
      "metadata": {},
      "source": [
        "> **Решение (скрыто):**\n",
        "> ```python\n",
        "> product = {\n",
        ">     \"название\": \"телефон\",\n",
        ">     \"цена\": 10000,\n",
        ">     \"категория\": \"электроника\"\n",
        "> }\n",
        "> print(list(product.keys()))\n",
        "> assert list(product.keys()) == [\"название\", \"цена\", \"категория\"], \"Ошибка! Ключи неверные\"\n",
        "> ```"
      ]
    },
    {
      "cell_type": "markdown",
      "id": "92e970c7",
      "metadata": {},
      "source": [
        "## ⏱ 2. Алгоритмы сортировки и поиска"
      ]
    },
    {
      "cell_type": "markdown",
      "id": "6a00017a",
      "metadata": {},
      "source": [
        "### Что такое алгоритм?\n",
        "Алгоритм — это как рецепт пирога: пошаговая инструкция, что делать с данными, чтобы получить результат. Например, как найти друга в толпе или разложить книги по росту.\n",
        "\n",
        "#### Почему это важно?\n",
        "Алгоритмы помогают компьютеру работать быстрее и умнее, особенно когда данных много."
      ]
    },
    {
      "cell_type": "markdown",
      "id": "2d16f16f",
      "metadata": {},
      "source": [
        "### 🧮 2.1 Сортировка"
      ]
    },
    {
      "cell_type": "markdown",
      "id": "4fd0023a",
      "metadata": {},
      "source": [
        "Сортировка — это как разложить книги на полке по алфавиту или по размеру. В Python есть встроенные способы это сделать.\n",
        "\n",
        "#### Зачем нужна сортировка?\n",
        "- Чтобы данные были в порядке.\n",
        "- Чтобы быстрее искать нужное.\n",
        "\n",
        "#### Простая сортировка списков:"
      ]
    },
    {
      "cell_type": "code",
      "execution_count": null,
      "id": "72ec089b",
      "metadata": {},
      "outputs": [],
      "source": [
        "numbers = [5, 2, 9, 1]\n",
        "numbers.sort()  # изменяет список\n",
        "print(numbers)  # [1, 2, 5, 9]"
      ]
    },
    {
      "cell_type": "markdown",
      "id": "b71459fb",
      "metadata": {},
      "source": [
        "#### Создание нового отсортированного списка:"
      ]
    },
    {
      "cell_type": "code",
      "execution_count": null,
      "id": "61f1a17f",
      "metadata": {},
      "outputs": [],
      "source": [
        "numbers = [5, 2, 9, 1]\n",
        "new_numbers = sorted(numbers)  # создаёт новый список\n",
        "print(new_numbers)  # [1, 2, 5, 9]\n",
        "print(numbers)      # [5, 2, 9, 1] — оригинал не изменился"
      ]
    },
    {
      "cell_type": "markdown",
      "id": "2db796aa",
      "metadata": {},
      "source": [
        "#### Сортировка в обратном порядке:"
      ]
    },
    {
      "cell_type": "code",
      "execution_count": null,
      "id": "a702fbb9",
      "metadata": {},
      "outputs": [],
      "source": [
        "numbers = [5, 2, 9, 1]\n",
        "numbers.sort(reverse=True)\n",
        "print(numbers)  # [9, 5, 2, 1]"
      ]
    },
    {
      "cell_type": "markdown",
      "id": "057c5e86",
      "metadata": {},
      "source": [
        "### 🔄 Алгоритмы сортировки"
      ]
    },
    {
      "cell_type": "markdown",
      "id": "7172a022",
      "metadata": {},
      "source": [
        "#### Пузырьковая сортировка (Bubble Sort)\n",
        "Представьте, что вы сравниваете соседние числа и меняете их местами, если они стоят неправильно. Как пузырьки в воде, большие числа «всплывают» к концу.\n",
        "\n",
        "**Как работает:**\n",
        "1. Сравниваем два соседних элемента.\n",
        "2. Если левый больше правого, меняем их местами.\n",
        "3. Повторяем, пока всё не отсортируется."
      ]
    },
    {
      "cell_type": "code",
      "execution_count": null,
      "id": "712f41ba",
      "metadata": {},
      "outputs": [],
      "source": [
        "def bubble_sort(arr):\n",
        "    n = len(arr)\n",
        "    for i in range(n):\n",
        "        for j in range(0, n-i-1):\n",
        "            if arr[j] > arr[j+1]:\n",
        "                arr[j], arr[j+1] = arr[j+1], arr[j]\n",
        "\n",
        "numbers = [64, 34, 25, 12, 22, 11, 90]\n",
        "bubble_sort(numbers)\n",
        "print(numbers)  # [11, 12, 22, 25, 34, 64, 90]"
      ]
    },
    {
      "cell_type": "markdown",
      "id": "0aecfb2d",
      "metadata": {},
      "source": [
        "**Плюсы:** Простая для понимания.  \n",
        "**Минусы:** Медленная, особенно для больших списков (O(n²))."
      ]
    },
    {
      "cell_type": "markdown",
      "id": "09a4306f",
      "metadata": {},
      "source": [
        "#### Сортировка выбором (Selection Sort)\n",
        "Представьте, что вы ищете самое маленькое число и ставите его в начало, потом следующее маленькое — на второе место и так далее.\n",
        "\n",
        "**Как работает:**\n",
        "1. Находим минимальный элемент в оставшейся части списка.\n",
        "2. Меняем его местами с первым элементом этой части.\n",
        "3. Повторяем для оставшихся элементов."
      ]
    },
    {
      "cell_type": "code",
      "execution_count": null,
      "id": "47103889",
      "metadata": {},
      "outputs": [],
      "source": [
        "def selection_sort(arr):\n",
        "    n = len(arr)\n",
        "    for i in range(n):\n",
        "        min_idx = i\n",
        "        for j in range(i+1, n):\n",
        "            if arr[j] < arr[min_idx]:\n",
        "                min_idx = j\n",
        "        arr[i], arr[min_idx] = arr[min_idx], arr[i]\n",
        "\n",
        "arr = [64, 25, 12, 22, 11]\n",
        "selection_sort(arr)\n",
        "print(arr)  # [11, 12, 22, 25, 64]"
      ]
    },
    {
      "cell_type": "markdown",
      "id": "c3e9d4d5",
      "metadata": {},
      "source": [
        "**Плюсы:** Меньше обменов, чем у пузырьковой.  \n",
        "**Минусы:** Всё ещё медленная для больших данных (O(n²))."
      ]
    },
    {
      "cell_type": "markdown",
      "id": "47a19752",
      "metadata": {},
      "source": [
        "### 🔍 2.2 Поиск"
      ]
    },
    {
      "cell_type": "markdown",
      "id": "1947402d",
      "metadata": {},
      "source": [
        "Поиск — это как найти книгу на полке: можно перебирать все подряд или использовать хитрости, если книги уже отсортированы.\n",
        "\n",
        "#### Линейный поиск (Linear Search)\n",
        "Проверяем каждый элемент по очереди, пока не найдём нужный.\n",
        "\n",
        "**Как работает:**\n",
        "1. Начинаем с первого элемента.\n",
        "2. Сравниваем с искомым.\n",
        "3. Если нашли — возвращаем позицию, если нет — идём дальше."
      ]
    },
    {
      "cell_type": "code",
      "execution_count": null,
      "id": "7405133b",
      "metadata": {},
      "outputs": [],
      "source": [
        "def linear_search(arr, target):\n",
        "    for i in range(len(arr)):\n",
        "        if arr[i] == target:\n",
        "            return i\n",
        "    return -1\n",
        "\n",
        "numbers = [5, 3, 7, 1, 9]\n",
        "print(linear_search(numbers, 7))  # 2"
      ]
    },
    {
      "cell_type": "markdown",
      "id": "a94c248f",
      "metadata": {},
      "source": [
        "**Плюсы:** Работает с любым списком.  \n",
        "**Минусы:** Медленный для больших списков (O(n))."
      ]
    },
    {
      "cell_type": "markdown",
      "id": "3919482a",
      "metadata": {},
      "source": [
        "#### Бинарный поиск (Binary Search)\n",
        "Как найти слово в словаре: открываем середину, смотрим, куда идти дальше.\n",
        "\n",
        "**Как работает:**\n",
        "1. Список должен быть отсортирован.\n",
        "2. Смотрим средний элемент.\n",
        "3. Если он больше искомого — ищем в левой половине, если меньше — в правой.\n",
        "4. Повторяем, пока не найдём."
      ]
    },
    {
      "cell_type": "code",
      "execution_count": null,
      "id": "38df7e79",
      "metadata": {},
      "outputs": [],
      "source": [
        "def binary_search(arr, target):\n",
        "    low = 0\n",
        "    high = len(arr) - 1\n",
        "    while low <= high:\n",
        "        mid = (low + high) // 2\n",
        "        if arr[mid] == target:\n",
        "            return mid\n",
        "        elif arr[mid] < target:\n",
        "            low = mid + 1\n",
        "        else:\n",
        "            high = mid - 1\n",
        "    return -1\n",
        "\n",
        "numbers = [1, 3, 5, 7, 9, 11]\n",
        "print(binary_search(numbers, 7))  # 3"
      ]
    },
    {
      "cell_type": "markdown",
      "id": "6817f3a3",
      "metadata": {},
      "source": [
        "**Плюсы:** Очень быстрый (O(log n)).  \n",
        "**Минусы:** Нужен отсортированный список."
      ]
    },
    {
      "cell_type": "markdown",
      "id": "795a8d6e",
      "metadata": {},
      "source": [
        "### 🧠 Сложность алгоритмов\n",
        "Сложность показывает, как быстро растёт время работы с увеличением данных.\n",
        "\n",
        "| Алгоритм             | Сложность |\n",
        "|----------------------|-----------|\n",
        "| Линейный поиск       | O(n)      |\n",
        "| Бинарный поиск       | O(log n)  |\n",
        "| Пузырьковая сортировка | O(n²)   |\n",
        "| Сортировка выбором   | O(n²)     |\n",
        "\n",
        "**Что это значит?**\n",
        "- O(n) — время растёт пропорционально количеству элементов.\n",
        "- O(log n) — время почти не растёт даже при большом списке.\n",
        "- O(n²) — время растёт очень быстро, плохо для больших данных."
      ]
    },
    {
      "cell_type": "markdown",
      "id": "a86e682d",
      "metadata": {},
      "source": [
        "### 🧪 Практика: Сравнение скорости работы"
      ]
    },
    {
      "cell_type": "markdown",
      "id": "ad6efb22",
      "metadata": {},
      "source": [
        "1. Сравните время работы пузырьковой и сортировки выбором на 1000 случайных числах.\n",
        "**Проверка**: Оба списка должны быть отсортированы."
      ]
    },
    {
      "cell_type": "code",
      "execution_count": null,
      "id": "40746382",
      "metadata": {},
      "outputs": [],
      "source": [
        "import random\n",
        "import time\n",
        "\n",
        "numbers1 = [random.randint(1, 1000) for _ in range(1000)]\n",
        "numbers2 = numbers1.copy()\n",
        "\n",
        "start = time.time()\n",
        "bubble_sort(numbers1)\n",
        "bubble_time = time.time() - start\n",
        "\n",
        "start = time.time()\n",
        "selection_sort(numbers2)\n",
        "selection_time = time.time() - start\n",
        "\n",
        "print(f\"Пузырьковая: {bubble_time:.4f} сек\")\n",
        "print(f\"Выбором: {selection_time:.4f} сек\")\n",
        "\n",
        "# Проверьте себя:\n",
        "assert numbers1 == sorted(numbers1), \"Ошибка! Пузырьковая сортировка не работает\"\n",
        "assert numbers2 == sorted(numbers2), \"Ошибка! Сортировка выбором не работает\""
      ]
    },
    {
      "cell_type": "markdown",
      "id": "5d57e941",
      "metadata": {},
      "source": [
        "> **Решение (скрыто):**\n",
        "> ```python\n",
        "> import random\n",
        "> import time\n",
        "> \n",
        "> def bubble_sort(arr):\n",
        ">     n = len(arr)\n",
        ">     for i in range(n):\n",
        ">         for j in range(0, n-i-1):\n",
        ">             if arr[j] > arr[j+1]:\n",
        ">                 arr[j], arr[j+1] = arr[j+1], arr[j]\n",
        "> \n",
        "> def selection_sort(arr):\n",
        ">     n = len(arr)\n",
        ">     for i in range(n):\n",
        ">         min_idx = i\n",
        ">         for j in range(i+1, n):\n",
        ">             if arr[j] < arr[min_idx]:\n",
        ">                 min_idx = j\n",
        ">         arr[i], arr[min_idx] = arr[min_idx], arr[i]\n",
        "> \n",
        "> numbers1 = [random.randint(1, 1000) for _ in range(1000)]\n",
        "> numbers2 = numbers1.copy()\n",
        "> \n",
        "> start = time.time()\n",
        "> bubble_sort(numbers1)\n",
        "> bubble_time = time.time() - start\n",
        "> \n",
        "> start = time.time()\n",
        "> selection_sort(numbers2)\n",
        "> selection_time = time.time() - start\n",
        "> \n",
        "> print(f\"Пузырьковая: {bubble_time:.4f} сек\")\n",
        "> print(f\"Выбором: {selection_time:.4f} сек\")\n",
        "> assert numbers1 == sorted(numbers1), \"Ошибка! Пузырьковая сортировка не работает\"\n",
        "> assert numbers2 == sorted(numbers2), \"Ошибка! Сортировка выбором не работает\"\n",
        "> ```"
      ]
    },
    {
      "cell_type": "markdown",
      "id": "b8739384",
      "metadata": {},
      "source": [
        "2. Напишите функцию, которая ищет элемент линейным и бинарным способом и сравнивает скорость.\n",
        "**Проверка**: Оба метода должны найти элемент на одной и той же позиции."
      ]
    },
    {
      "cell_type": "code",
      "execution_count": null,
      "id": "5a4f271d",
      "metadata": {},
      "outputs": [],
      "source": [
        "import time\n",
        "\n",
        "numbers = sorted([random.randint(1, 1000) for _ in range(1000)])\n",
        "target = numbers[500]  # берём элемент из середины\n",
        "\n",
        "start = time.time()\n",
        "lin_pos = linear_search(numbers, target)\n",
        "lin_time = time.time() - start\n",
        "\n",
        "start = time.time()\n",
        "bin_pos = binary_search(numbers, target)\n",
        "bin_time = time.time() - start\n",
        "\n",
        "print(f\"Линейный: позиция {lin_pos}, время {lin_time:.6f} сек\")\n",
        "print(f\"Бинарный: позиция {bin_pos}, время {bin_time:.6f} сек\")\n",
        "\n",
        "# Проверьте себя:\n",
        "assert lin_pos == bin_pos, \"Ошибка! Позиции должны совпадать\""
      ]
    },
    {
      "cell_type": "markdown",
      "id": "209bf43e",
      "metadata": {},
      "source": [
        "> **Решение (скрыто):**\n",
        "> ```python\n",
        "> import random\n",
        "> import time\n",
        "> \n",
        "> def linear_search(arr, target):\n",
        ">     for i in range(len(arr)):\n",
        ">         if arr[i] == target:\n",
        ">             return i\n",
        ">     return -1\n",
        "> \n",
        "> def binary_search(arr, target):\n",
        ">     low = 0\n",
        ">     high = len(arr) - 1\n",
        ">     while low <= high:\n",
        ">         mid = (low + high) // 2\n",
        ">         if arr[mid] == target:\n",
        ">             return mid\n",
        ">         elif arr[mid] < target:\n",
        ">             low = mid + 1\n",
        ">         else:\n",
        ">             high = mid - 1\n",
        ">     return -1\n",
        "> \n",
        "> numbers = sorted([random.randint(1, 1000) for _ in range(1000)])\n",
        "> target = numbers[500]\n",
        "> \n",
        "> start = time.time()\n",
        "> lin_pos = linear_search(numbers, target)\n",
        "> lin_time = time.time() - start\n",
        "> \n",
        "> start = time.time()\n",
        "> bin_pos = binary_search(numbers, target)\n",
        "> bin_time = time.time() - start\n",
        "> \n",
        "> print(f\"Линейный: позиция {lin_pos}, время {lin_time:.6f} сек\")\n",
        "> print(f\"Бинарный: позиция {bin_pos}, время {bin_time:.6f} сек\")\n",
        "> assert lin_pos == bin_pos, \"Ошибка! Позиции должны совпадать\"\n",
        "> ```"
      ]
    },
    {
      "cell_type": "markdown",
      "id": "fc835e53",
      "metadata": {},
      "source": [
        "3. Напишите программу, которая:\n",
        "- Генерирует список чисел.\n",
        "- Сортирует их.\n",
        "- Ищет число, введённое пользователем.\n",
        "**Проверка**: Число должно быть найдено корректно."
      ]
    },
    {
      "cell_type": "code",
      "execution_count": null,
      "id": "d041f574",
      "metadata": {},
      "outputs": [],
      "source": [
        "numbers = [random.randint(1, 100) for _ in range(10)]\n",
        "numbers.sort()\n",
        "print(\"Список:\", numbers)\n",
        "target = int(input(\"Введите число для поиска: \"))\n",
        "pos = binary_search(numbers, target)\n",
        "if pos != -1:\n",
        "    print(f\"Число {target} найдено на позиции {pos}\")\n",
        "else:\n",
        "    print(f\"Число {target} не найдено\")\n",
        "\n",
        "# Проверьте себя (для примера):\n",
        "test_pos = binary_search(numbers, numbers[5])\n",
        "assert test_pos == 5, \"Ошибка! Позиция элемента неверна\""
      ]
    },
    {
      "cell_type": "markdown",
      "id": "770bdafe",
      "metadata": {},
      "source": [
        "> **Решение (скрыто):**\n",
        "> ```python\n",
        "> import random\n",
        "> \n",
        "> def binary_search(arr, target):\n",
        ">     low = 0\n",
        ">     high = len(arr) - 1\n",
        ">     while low <= high:\n",
        ">         mid = (low + high) // 2\n",
        ">         if arr[mid] == target:\n",
        ">             return mid\n",
        ">         elif arr[mid] < target:\n",
        ">             low = mid + 1\n",
        ">         else:\n",
        ">             high = mid - 1\n",
        ">     return -1\n",
        "> \n",
        "> numbers = [random.randint(1, 100) for _ in range(10)]\n",
        "> numbers.sort()\n",
        "> print(\"Список:\", numbers)\n",
        "> target = int(input(\"Введите число для поиска: \"))\n",
        "> pos = binary_search(numbers, target)\n",
        "> if pos != -1:\n",
        ">     print(f\"Число {target} найдено на позиции {pos}\")\n",
        "> else:\n",
        ">     print(f\"Число {target} не найдено\")\n",
        "> test_pos = binary_search(numbers, numbers[5])\n",
        "> assert test_pos == 5, \"Ошибка! Позиция элемента неверна\"\n",
        "> ```"
      ]
    },
    {
      "cell_type": "markdown",
      "id": "67ea04d7",
      "metadata": {},
      "source": [
        "## 🧪 Мини-практика"
      ]
    },
    {
      "cell_type": "markdown",
      "id": "dab4b6b3",
      "metadata": {},
      "source": [
        "### Задания:"
      ]
    },
    {
      "cell_type": "markdown",
      "id": "e1b382f8",
      "metadata": {},
      "source": [
        "1. Создайте список из случайных чисел и отсортируйте его пузырьковым методом.\n",
        "**Проверка**: Список должен быть отсортирован по возрастанию."
      ]
    },
    {
      "cell_type": "code",
      "execution_count": null,
      "id": "83c4cc67",
      "metadata": {},
      "outputs": [],
      "source": [
        "numbers = [random.randint(1, 50) for _ in range(5)]\n",
        "print(\"До:\", numbers)\n",
        "bubble_sort(numbers)\n",
        "print(\"После:\", numbers)\n",
        "\n",
        "# Проверьте себя:\n",
        "assert numbers == sorted(numbers), \"Ошибка! Список не отсортирован\""
      ]
    },
    {
      "cell_type": "markdown",
      "id": "3e01d266",
      "metadata": {},
      "source": [
        "> **Решение (скрыто):**\n",
        "> ```python\n",
        "> import random\n",
        "> \n",
        "> def bubble_sort(arr):\n",
        ">     n = len(arr)\n",
        ">     for i in range(n):\n",
        ">         for j in range(0, n-i-1):\n",
        ">             if arr[j] > arr[j+1]:\n",
        ">                 arr[j], arr[j+1] = arr[j+1], arr[j]\n",
        "> \n",
        "> numbers = [random.randint(1, 50) for _ in range(5)]\n",
        "> print(\"До:\", numbers)\n",
        "> bubble_sort(numbers)\n",
        "> print(\"После:\", numbers)\n",
        "> assert numbers == sorted(numbers), \"Ошибка! Список не отсортирован\"\n",
        "> ```"
      ]
    },
    {
      "cell_type": "markdown",
      "id": "a17c5584",
      "metadata": {},
      "source": [
        "2. Найдите заданное число в списке с помощью бинарного поиска.\n",
        "**Проверка**: Позиция должна совпадать с реальной."
      ]
    },
    {
      "cell_type": "code",
      "execution_count": null,
      "id": "70603154",
      "metadata": {},
      "outputs": [],
      "source": [
        "numbers = [1, 3, 5, 7, 9]\n",
        "target = 5\n",
        "pos = binary_search(numbers, target)\n",
        "print(f\"Число {target} на позиции {pos}\")\n",
        "\n",
        "# Проверьте себя:\n",
        "assert pos == 2, \"Ошибка! Число 5 должно быть на позиции 2\""
      ]
    },
    {
      "cell_type": "markdown",
      "id": "0ad36625",
      "metadata": {},
      "source": [
        "> **Решение (скрыто):**\n",
        "> ```python\n",
        "> def binary_search(arr, target):\n",
        ">     low = 0\n",
        ">     high = len(arr) - 1\n",
        ">     while low <= high:\n",
        ">         mid = (low + high) // 2\n",
        ">         if arr[mid] == target:\n",
        ">             return mid\n",
        ">         elif arr[mid] < target:\n",
        ">             low = mid + 1\n",
        ">         else:\n",
        ">             high = mid - 1\n",
        ">     return -1\n",
        "> \n",
        "> numbers = [1, 3, 5, 7, 9]\n",
        "> target = 5\n",
        "> pos = binary_search(numbers, target)\n",
        "> print(f\"Число {target} на позиции {pos}\")\n",
        "> assert pos == 2, \"Ошибка! Число 5 должно быть на позиции 2\"\n",
        "> ```"
      ]
    },
    {
      "cell_type": "markdown",
      "id": "b84ab0c6",
      "metadata": {},
      "source": [
        "3. Создайте словарь из 5 пар \"страна — столица\" и выведите его.\n",
        "**Проверка**: Длина словаря должна быть 5."
      ]
    },
    {
      "cell_type": "code",
      "execution_count": null,
      "id": "0394f237",
      "metadata": {},
      "outputs": [],
      "source": [
        "countries = {\n",
        "    \"Россия\": \"Москва\",\n",
        "    \"Франция\": \"Париж\",\n",
        "    \"Япония\": \"Токио\",\n",
        "    \"Бразилия\": \"Бразилиа\",\n",
        "    \"Канада\": \"Оттава\"\n",
        "}\n",
        "print(countries)\n",
        "\n",
        "# Проверьте себя:\n",
        "assert len(countries) == 5, \"Ошибка! Словарь должен содержать 5 пар\""
      ]
    },
    {
      "cell_type": "markdown",
      "id": "7fa78b44",
      "metadata": {},
      "source": [
        "> **Решение (скрыто):**\n",
        "> ```python\n",
        "> countries = {\n",
        ">     \"Россия\": \"Москва\",\n",
        ">     \"Франция\": \"Париж\",\n",
        ">     \"Япония\": \"Токио\",\n",
        ">     \"Бразилия\": \"Бразилиа\",\n",
        ">     \"Канада\": \"Оттава\"\n",
        "> }\n",
        "> print(countries)\n",
        "> assert len(countries) == 5, \"Ошибка! Словарь должен содержать 5 пар\"\n",
        "> ```"
      ]
    },
    {
      "cell_type": "markdown",
      "id": "3aec8a40",
      "metadata": {},
      "source": [
        "## 🏠 Домашнее задание"
      ]
    },
    {
      "cell_type": "markdown",
      "id": "ce0a784c",
      "metadata": {},
      "source": [
        "Выполните одно из заданий ниже. Задания теперь имеют чёткие требования и проверку."
      ]
    },
    {
      "cell_type": "markdown",
      "id": "db7d7b4d",
      "metadata": {},
      "source": [
        "### Задание 1: Сортировка выбором\n",
        "**Требование**: Создайте список из 10 случайных чисел от 1 до 50 и отсортируйте его методом выбором. Выведите список до и после сортировки.  \n",
        "**Проверка**: Отсортированный список должен совпадать с результатом `sorted()`."
      ]
    },
    {
      "cell_type": "code",
      "execution_count": null,
      "id": "0183648c",
      "metadata": {},
      "outputs": [],
      "source": [
        "import random\n",
        "\n",
        "numbers = [random.randint(1, 50) for _ in range(10)]\n",
        "print(\"До сортировки:\", numbers)\n",
        "selection_sort(numbers)\n",
        "print(\"После сортировки:\", numbers)\n",
        "\n",
        "# Проверьте себя:\n",
        "assert numbers == sorted(numbers), \"Ошибка! Список не отсортирован правильно\""
      ]
    },
    {
      "cell_type": "markdown",
      "id": "705aa075",
      "metadata": {},
      "source": [
        "> **Решение (скрыто):**\n",
        "> ```python\n",
        "> import random\n",
        "> \n",
        "> def selection_sort(arr):\n",
        ">     n = len(arr)\n",
        ">     for i in range(n):\n",
        ">         min_idx = i\n",
        ">         for j in range(i+1, n):\n",
        ">             if arr[j] < arr[min_idx]:\n",
        ">                 min_idx = j\n",
        ">         arr[i], arr[min_idx] = arr[min_idx], arr[i]\n",
        "> \n",
        "> numbers = [random.randint(1, 50) for _ in range(10)]\n",
        "> print(\"До сортировки:\", numbers)\n",
        "> selection_sort(numbers)\n",
        "> print(\"После сортировки:\", numbers)\n",
        "> assert numbers == sorted(numbers), \"Ошибка! Список не отсортирован правильно\"\n",
        "> ```"
      ]
    },
    {
      "cell_type": "markdown",
      "id": "8f35edb1",
      "metadata": {},
      "source": [
        "### Задание 2: Линейный поиск слова\n",
        "**Требование**: Создайте список из 5 слов и найдите позицию слова `\"Python\"` с помощью линейного поиска. Если слова нет, верните -1.  \n",
        "**Проверка**: Для списка `[\"Java\", \"C++\", \"Python\", \"Ruby\", \"Go\"]` позиция должна быть 2."
      ]
    },
    {
      "cell_type": "code",
      "execution_count": null,
      "id": "19b824cc",
      "metadata": {},
      "outputs": [],
      "source": [
        "words = [\"Java\", \"C++\", \"Python\", \"Ruby\", \"Go\"]\n",
        "target = \"Python\"\n",
        "pos = linear_search(words, target)\n",
        "print(f\"Слово '{target}' найдено на позиции {pos}\")\n",
        "\n",
        "# Проверьте себя:\n",
        "assert pos == 2, \"Ошибка! Позиция слова 'Python' должна быть 2\""
      ]
    },
    {
      "cell_type": "markdown",
      "id": "3822b767",
      "metadata": {},
      "source": [
        "> **Решение (скрыто):**\n",
        "> ```python\n",
        "> def linear_search(arr, target):\n",
        ">     for i in range(len(arr)):\n",
        ">         if arr[i] == target:\n",
        ">             return i\n",
        ">     return -1\n",
        "> \n",
        "> words = [\"Java\", \"C++\", \"Python\", \"Ruby\", \"Go\"]\n",
        "> target = \"Python\"\n",
        "> pos = linear_search(words, target)\n",
        "> print(f\"Слово '{target}' найдено на позиции {pos}\")\n",
        "> assert pos == 2, \"Ошибка! Позиция слова 'Python' должна быть 2\"\n",
        "> ```"
      ]
    },
    {
      "cell_type": "markdown",
      "id": "1ae4ff7f",
      "metadata": {},
      "source": [
        "### Задание 3: Полная программа\n",
        "**Требование**: Напишите программу, которая:\n",
        "- Запрашивает у пользователя 5 чисел через пробел.\n",
        "- Сортирует их по возрастанию.\n",
        "- Запрашивает число для поиска.\n",
        "- Выводит позицию числа или сообщение, что его нет.\n",
        "**Проверка**: Для ввода `5 2 8 1 9` и поиска `8` позиция должна быть 3."
      ]
    },
    {
      "cell_type": "code",
      "execution_count": null,
      "id": "28a46593",
      "metadata": {},
      "outputs": [],
      "source": [
        "numbers = list(map(int, input(\"Введите 5 чисел через пробел: \").split()))\n",
        "numbers.sort()\n",
        "print(\"Отсортированный список:\", numbers)\n",
        "target = int(input(\"Введите число для поиска: \"))\n",
        "pos = binary_search(numbers, target)\n",
        "if pos != -1:\n",
        "    print(f\"Число {target} найдено на позиции {pos}\")\n",
        "else:\n",
        "    print(f\"Число {target} не найдено\")\n",
        "\n",
        "# Проверьте себя (тестовый пример):\n",
        "test_numbers = [1, 2, 5, 8, 9]\n",
        "assert binary_search(test_numbers, 8) == 3, \"Ошибка! Позиция числа 8 должна быть 3\""
      ]
    },
    {
      "cell_type": "markdown",
      "id": "b1d64949",
      "metadata": {},
      "source": [
        "> **Решение (скрыто):**\n",
        "> ```python\n",
        "> def binary_search(arr, target):\n",
        ">     low = 0\n",
        ">     high = len(arr) - 1\n",
        ">     while low <= high:\n",
        ">         mid = (low + high) // 2\n",
        ">         if arr[mid] == target:\n",
        ">             return mid\n",
        ">         elif arr[mid] < target:\n",
        ">             low = mid + 1\n",
        ">         else:\n",
        ">             high = mid - 1\n",
        ">     return -1\n",
        "> \n",
        "> numbers = list(map(int, input(\"Введите 5 чисел через пробел: \").split()))\n",
        "> numbers.sort()\n",
        "> print(\"Отсортированный список:\", numbers)\n",
        "> target = int(input(\"Введите число для поиска: \"))\n",
        "> pos = binary_search(numbers, target)\n",
        "> if pos != -1:\n",
        ">     print(f\"Число {target} найдено на позиции {pos}\")\n",
        "> else:\n",
        ">     print(f\"Число {target} не найдено\")\n",
        "> test_numbers = [1, 2, 5, 8, 9]\n",
        "> assert binary_search(test_numbers, 8) == 3, \"Ошибка! Позиция числа 8 должна быть 3\"\n",
        "> ```"
      ]
    },
    {
      "cell_type": "markdown",
      "id": "15fd1cac",
      "metadata": {},
      "source": [
        "## 🎯 Итог"
      ]
    },
    {
      "cell_type": "markdown",
      "id": "4d515c7c",
      "metadata": {},
      "source": [
        "Вы узнали:\n",
        "- Что такое структуры данных и зачем они нужны.\n",
        "- Как работать со строками, списками, кортежами, множествами и словарями.\n",
        "- Какие есть алгоритмы сортировки и поиска.\n",
        "- Как использовать эти знания на практике.\n",
        "- Как оценивать эффективность алгоритмов через Big O.\n",
        "\n",
        "Теперь вы можете выбирать подходящую структуру данных и эффективный алгоритм для решения реальных задач."
      ]
    },
    {
      "cell_type": "markdown",
      "id": "f4dc9fac",
      "metadata": {},
      "source": [
        "## 🧩 Дополнительно: Стек и очередь"
      ]
    },
    {
      "cell_type": "markdown",
      "id": "10d23fa1",
      "metadata": {},
      "source": [
        "### Стек (Stack)\n",
        "LIFO — последним вошёл, первым вышел. Как стопка тарелок: берёте сверху.\n",
        "\n",
        "**Пример:**"
      ]
    },
    {
      "cell_type": "code",
      "execution_count": null,
      "id": "f8a37080",
      "metadata": {},
      "outputs": [],
      "source": [
        "stack = []\n",
        "stack.append(1)\n",
        "stack.append(2)\n",
        "print(stack.pop())  # 2\n",
        "print(stack.pop())  # 1"
      ]
    },
    {
      "cell_type": "markdown",
      "id": "be9c8718",
      "metadata": {},
      "source": [
        "### Очередь (Queue)\n",
        "FIFO — первым вошёл, первым вышел. Как очередь в магазине.\n",
        "\n",
        "**Пример:**"
      ]
    },
    {
      "cell_type": "code",
      "execution_count": null,
      "id": "2313fbbd",
      "metadata": {},
      "outputs": [],
      "source": [
        "from collections import deque\n",
        "queue = deque()\n",
        "queue.append(1)\n",
        "queue.append(2)\n",
        "print(queue.popleft())  # 1\n",
        "print(queue.popleft())  # 2"
      ]
    },
    {
      "cell_type": "markdown",
      "id": "57d9dbd2",
      "metadata": {},
      "source": [
        "## 🧪 Расширенная практика"
      ]
    },
    {
      "cell_type": "markdown",
      "id": "c578f0d2",
      "metadata": {},
      "source": [
        "1. Реализуйте стек с ограничением размера.\n",
        "**Проверка**: При превышении размера 3 программа должна выдать сообщение об ошибке."
      ]
    },
    {
      "cell_type": "code",
      "execution_count": null,
      "id": "61008862",
      "metadata": {},
      "outputs": [],
      "source": [
        "stack = []\n",
        "max_size = 3\n",
        "for i in [1, 2, 3, 4]:\n",
        "    if len(stack) < max_size:\n",
        "        stack.append(i)\n",
        "    else:\n",
        "        print(\"Стек переполнен!\")\n",
        "        break\n",
        "print(stack)\n",
        "\n",
        "# Проверьте себя:\n",
        "assert len(stack) <= 3, \"Ошибка! Размер стека превышен\""
      ]
    },
    {
      "cell_type": "markdown",
      "id": "e37de8cb",
      "metadata": {},
      "source": [
        "> **Решение (скрыто):**\n",
        "> ```python\n",
        "> stack = []\n",
        "> max_size = 3\n",
        "> for i in [1, 2, 3, 4]:\n",
        ">     if len(stack) < max_size:\n",
        ">         stack.append(i)\n",
        ">     else:\n",
        ">         print(\"Стек переполнен!\")\n",
        ">         break\n",
        "> print(stack)\n",
        "> assert len(stack) <= 3, \"Ошибка! Размер стека превышен\"\n",
        "> ```"
      ]
    },
    {
      "cell_type": "markdown",
      "id": "163d3773",
      "metadata": {},
      "source": [
        "2. Реализуйте очередь с приоритетом.\n",
        "**Проверка**: Элементы должны извлекаться в порядке убывания."
      ]
    },
    {
      "cell_type": "code",
      "execution_count": null,
      "id": "7f862999",
      "metadata": {},
      "outputs": [],
      "source": [
        "from queue import PriorityQueue\n",
        "pq = PriorityQueue()\n",
        "pq.put(3)\n",
        "pq.put(1)\n",
        "pq.put(4)\n",
        "print(pq.get())  # 1\n",
        "print(pq.get())  # 3\n",
        "print(pq.get())  # 4"
      ]
    },
    {
      "cell_type": "markdown",
      "id": "b1de48fe",
      "metadata": {},
      "source": [
        "> **Решение (скрыто):**\n",
        "> ```python\n",
        "> from queue import PriorityQueue\n",
        "> pq = PriorityQueue()\n",
        "> pq.put(3)\n",
        "> pq.put(1)\n",
        "> pq.put(4)\n",
        "> print(pq.get())  # 1\n",
        "> print(pq.get())  # 3\n",
        "> print(pq.get())  # 4\n",
        "> ```"
      ]
    },
    {
      "cell_type": "markdown",
      "id": "0d81ff3e",
      "metadata": {},
      "source": [
        "3. Напишите программу, которая:\n",
        "- Создаёт список из 100 случайных чисел.\n",
        "- Сортирует его.\n",
        "- Ищет несколько чисел и выводит время поиска.\n",
        "**Проверка**: Все позиции должны быть корректными."
      ]
    },
    {
      "cell_type": "code",
      "execution_count": null,
      "id": "09ed9472",
      "metadata": {},
      "outputs": [],
      "source": [
        "import time\n",
        "\n",
        "numbers = [random.randint(1, 1000) for _ in range(100)]\n",
        "numbers.sort()\n",
        "targets = [numbers[10], numbers[50], numbers[90]]\n",
        "for target in targets:\n",
        "    start = time.time()\n",
        "    pos = binary_search(numbers, target)\n",
        "    elapsed = time.time() - start\n",
        "    print(f\"Число {target} на позиции {pos}, время: {elapsed:.6f} сек\")\n",
        "\n",
        "# Проверьте себя:\n",
        "assert binary_search(numbers, numbers[50]) == 50, \"Ошибка! Позиция неверна\""
      ]
    },
    {
      "cell_type": "markdown",
      "id": "786ac5d3",
      "metadata": {},
      "source": [
        "> **Решение (скрыто):**\n",
        "> ```python\n",
        "> import random\n",
        "> import time\n",
        "> \n",
        "> def binary_search(arr, target):\n",
        ">     low = 0\n",
        ">     high = len(arr) - 1\n",
        ">     while low <= high:\n",
        ">         mid = (low + high) // 2\n",
        ">         if arr[mid] == target:\n",
        ">             return mid\n",
        ">         elif arr[mid] < target:\n",
        ">             low = mid + 1\n",
        ">         else:\n",
        ">             high = mid - 1\n",
        ">     return -1\n",
        "> \n",
        "> numbers = [random.randint(1, 1000) for _ in range(100)]\n",
        "> numbers.sort()\n",
        "> targets = [numbers[10], numbers[50], numbers[90]]\n",
        "> for target in targets:\n",
        ">     start = time.time()\n",
        ">     pos = binary_search(numbers, target)\n",
        ">     elapsed = time.time() - start\n",
        ">     print(f\"Число {target} на позиции {pos}, время: {elapsed:.6f} сек\")\n",
        "> assert binary_search(numbers, numbers[50]) == 50, \"Ошибка! Позиция неверна\"\n",
        "> ```"
      ]
    },
    {
      "cell_type": "markdown",
      "id": "b7094ce9",
      "metadata": {},
      "source": [
        "## 📌 Дополнительная информация"
      ]
    },
    {
      "cell_type": "markdown",
      "id": "94a71509",
      "metadata": {},
      "source": [
        "- `collections.Counter` — удобная структура для подсчёта элементов.\n",
        "- `heapq` — модуль для работы с минимальной кучей.\n",
        "- `itertools` — мощная библиотека для работы с итераторами.\n",
        "- `bisect` — модуль для бинарного поиска и вставки."
      ]
    },
    {
      "cell_type": "markdown",
      "id": "e1420d7b",
      "metadata": {},
      "source": [
        "## 🧠 Рекомендации новичкам"
      ]
    },
    {
      "cell_type": "markdown",
      "id": "9a5ddfd7",
      "metadata": {},
      "source": [
        "- Изучайте структуры данных и алгоритмы постепенно.\n",
        "- Тренируйтесь на реальных примерах.\n",
        "- Используйте готовые функции Python: `sorted()`, `max()`, `min()`, `sum()`.\n",
        "- Попробуйте визуализировать сортировку (можно через matplotlib)."
      ]
    },
    {
      "cell_type": "markdown",
      "id": "23dd52f6",
      "metadata": {},
      "source": [
        "## 🧪 Расширенные задания"
      ]
    },
    {
      "cell_type": "markdown",
      "id": "48ae5ffb",
      "metadata": {},
      "source": [
        "1. Напишите программу, которая:\n",
        "   - Считывает список слов из файла.\n",
        "   - Сортирует их по алфавиту.\n",
        "   - Ищет слово и выводит его позицию."
      ]
    },
    {
      "cell_type": "code",
      "execution_count": null,
      "id": "c75a1289",
      "metadata": {},
      "outputs": [],
      "source": [
        "# Реализуйте здесь (пример без файла)\n",
        "words = [\"cat\", \"dog\", \"bird\", \"fish\"]\n",
        "words.sort()\n",
        "target = \"dog\"\n",
        "pos = binary_search(words, target)\n",
        "print(f\"Слово '{target}' на позиции {pos}\")"
      ]
    },
    {
      "cell_type": "markdown",
      "id": "9603d2d7",
      "metadata": {},
      "source": [
        "2. Напишите программу, которая:\n",
        "   - Создаёт два множества.\n",
        "   - Выполняет их пересечение, объединение и разность.\n",
        "   - Выводит результаты."
      ]
    },
    {
      "cell_type": "code",
      "execution_count": null,
      "id": "8a1a62ee",
      "metadata": {},
      "outputs": [],
      "source": [
        "set1 = {1, 2, 3}\n",
        "set2 = {2, 3, 4}\n",
        "print(\"Пересечение:\", set1 & set2)\n",
        "print(\"Объединение:\", set1 | set2)\n",
        "print(\"Разность:\", set1 - set2)"
      ]
    },
    {
      "cell_type": "markdown",
      "id": "b97e0fde",
      "metadata": {},
      "source": [
        "3. Напишите программу, которая:\n",
        "   - Сохраняет историю действий в словарь.\n",
        "   - Выводит команды пользователя."
      ]
    },
    {
      "cell_type": "code",
      "execution_count": null,
      "id": "f3c5716b",
      "metadata": {},
      "outputs": [],
      "source": [
        "history = {}\n",
        "for i in range(3):\n",
        "    cmd = input(\"Введите команду: \")\n",
        "    history[i] = cmd\n",
        "print(\"История:\", history)"
      ]
    },
    {
      "cell_type": "markdown",
      "id": "55bbe963",
      "metadata": {},
      "source": [
        "## 🧬 Дополнительные материалы"
      ]
    },
    {
      "cell_type": "markdown",
      "id": "fe594d13",
      "metadata": {},
      "source": [
        "- [Официальная документация Python](https://docs.python.org/3/library/stdtypes.html)\n",
        "- [Статья про структуры данных](https://realpython.com/python-data-structures/)\n",
        "- [Сложность операций](https://wiki.python.org/moin/TimeComplexity)"
      ]
    },
    {
      "cell_type": "markdown",
      "id": "8a7b1ad2",
      "metadata": {},
      "source": [
        "## 🎉 Заключение"
      ]
    },
    {
      "cell_type": "markdown",
      "id": "814198a5",
      "metadata": {},
      "source": [
        "Сегодня вы освоили основные структуры данных и базовые алгоритмы. Это фундамент, на котором строятся более сложные программы, базы данных, аналитика и машинное обучение.\n",
        "\n",
        "На следующем занятии вы углубитесь в рекурсию, стек, очередь и алгоритмы на графах! Продолжайте практиковаться, и скоро вы сможете решать любые задачи. Удачи!"
      ]
    }
  ],
  "metadata": {
    "kernelspec": {
      "display_name": "Python 3",
      "language": "python",
      "name": "python3"
    },
    "language_info": {
      "codemirror_mode": {
        "name": "ipython",
        "version": 3
      },
      "file_extension": ".py",
      "mimetype": "text/x-python",
      "name": "python",
      "nbconvert_exporter": "python",
      "pygments_lexer": "ipython3",
      "version": "3.8"
    }
  },
  "nbformat": 4,
  "nbformat_minor": 5
}
