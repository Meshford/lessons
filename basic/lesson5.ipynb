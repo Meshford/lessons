{
 "cells": [
  {
   "cell_type": "markdown",
   "id": "dcb17eb3",
   "metadata": {},
   "source": [
    "# 🧠 Урок 5: Алгоритмы и структуры данных\n",
    "\n",
    "**Цель урока:**\n",
    "- Познакомиться с основными структурами данных в Python.\n",
    "- Научиться использовать алгоритмы сортировки и поиска.\n",
    "- Понять, как работают и когда применять разные структуры данных и алгоритмы.\n",
    "\n",
    "Этот урок создан для новичков, поэтому мы будем объяснять всё простыми словами для вашего понимания :)"
   ]
  },
  {
   "cell_type": "markdown",
   "id": "4944cb5c",
   "metadata": {},
   "source": [
    "## 📦 1. Структуры данных в Python"
   ]
  },
  {
   "cell_type": "markdown",
   "id": "7182031d",
   "metadata": {},
   "source": [
    "### Что такое структуры данных?\n",
    "\n",
    "Представьте, что у вас есть коробка с игрушками. Чтобы быстро найти нужную игрушку, вы можете разложить их по полкам, ящикам или просто свалить в кучу. Структуры данных в программировании — это как такие «полки» или «ящики» для хранения информации в компьютере. Они помогают организовать данные так, чтобы с ними было удобно работать.\n",
    "\n",
    "#### Основные типы структур данных в Python:\n",
    "- **Строки (`str`)** — это как текст в книге, набор букв и символов.\n",
    "- **Списки (`list`)** — это как список покупок, который можно менять.\n",
    "- **Кортежи (`tuple`)** — это как список покупок, но записанный на камне, его нельзя изменить.\n",
    "- **Множества (`set`)** — это как набор уникальных марок в коллекции, без повторов.\n",
    "- **Словари (`dict`)** — это как телефонная книга, где каждому имени соответствует номер."
   ]
  },
  {
   "cell_type": "markdown",
   "id": "d21219b7",
   "metadata": {},
   "source": [
    "### 🖊 1.1 Строки (Strings)"
   ]
  },
  {
   "cell_type": "markdown",
   "id": "5ac74214",
   "metadata": {},
   "source": [
    "Строка — это последовательность символов, например, слово или предложение. Представьте, что это как цепочка бусин на нитке: каждая бусина — это буква или символ.\n",
    "\n",
    "#### Почему это важно?\n",
    "Строки используются везде: для ввода текста, вывода сообщений, работы с именами файлов и многого другого.\n",
    "\n",
    "#### Особенность строк:\n",
    "- **Неизменяемы**: Это значит, что если вы написали слово «кот», вы не можете просто заменить «к» на «р» и получить «рот». Нужно создать новое слово.\n",
    "\n",
    "#### Создание строки:"
   ]
  },
  {
   "cell_type": "code",
   "execution_count": null,
   "id": "e7953e26",
   "metadata": {},
   "outputs": [],
   "source": [
    "text = \"Привет, мир!\"\n",
    "print(text)"
   ]
  },
  {
   "cell_type": "markdown",
   "id": "e3d90d45",
   "metadata": {},
   "source": [
    "#### Основные операции со строками:\n",
    "- **Длина строки**: Узнать, сколько символов в тексте.\n",
    "- **Изменение регистра**: Сделать все буквы большими или маленькими.\n",
    "- **Замена**: Поменять одно слово на другое.\n",
    "- **Срезы**: Взять часть строки, как кусок от пирога.\n",
    "\n",
    "#### Примеры операций:"
   ]
  },
  {
   "cell_type": "code",
   "execution_count": null,
   "id": "7d106942",
   "metadata": {},
   "outputs": [],
   "source": [
    "text = \"Привет, мир!\"\n",
    "print(len(text))           # 12 (считает все символы, включая пробел и !)\n",
    "print(text.lower())        # привет, мир!\n",
    "print(text.upper())        # ПРИВЕТ, МИР!\n",
    "print(text.replace(\"мир\", \"Python\"))  # Привет, Python!\n",
    "print(text[0])            # П (первая буква)\n",
    "print(text[-1])           # ! (последний символ)\n",
    "print(text[0:6])          # Привет (с 0-го по 5-й символ)"
   ]
  },
  {
   "cell_type": "markdown",
   "id": "2dcc9365",
   "metadata": {},
   "source": [
    "#### Полезные методы строк:\n",
    "- `.split()` — разбивает строку на список слов.\n",
    "- `.join()` — соединяет слова из списка в строку.\n",
    "- `.find()` — ищет, где начинается слово или символ.\n",
    "- `.strip()` — убирает лишние пробелы в начале и конце.\n",
    "\n",
    "#### Примеры методов:"
   ]
  },
  {
   "cell_type": "code",
   "execution_count": null,
   "id": "58392565",
   "metadata": {},
   "outputs": [],
   "source": [
    "text = \"я люблю Python\"\n",
    "words = text.split()         # ['я', 'люблю', 'Python']\n",
    "print(words)\n",
    "new_text = \" \".join(words)   # я люблю Python\n",
    "print(new_text)\n",
    "print(text.find(\"Python\"))   # 7 (позиция, где начинается слово)\n",
    "messy_text = \"  привет  \"\n",
    "print(messy_text.strip())    # привет"
   ]
  },
  {
   "cell_type": "markdown",
   "id": "0b251ad2",
   "metadata": {},
   "source": [
    "#### Перебор строки:\n",
    "Можно пройтись по каждому символу строки, как по ступенькам лестницы."
   ]
  },
  {
   "cell_type": "code",
   "execution_count": null,
   "id": "f9f2a21b",
   "metadata": {},
   "outputs": [],
   "source": [
    "for char in \"Привет\":\n",
    "    print(char)  # П р и в е т"
   ]
  },
  {
   "cell_type": "markdown",
   "id": "5ce03b96",
   "metadata": {},
   "source": [
    "### 💡 Подсказка для новичков:\n",
    "Если вы хотите изменить строку, используйте методы, которые создают новую строку, например, `replace()` или срезы. Это как переписать слово на новом листе бумаги, а не стирать старое."
   ]
  },
  {
   "cell_type": "markdown",
   "id": "c5cb07df",
   "metadata": {},
   "source": [
    "### 🧪 Практика: Работа со строками"
   ]
  },
  {
   "cell_type": "markdown",
   "id": "3c9f99d1",
   "metadata": {},
   "source": [
    "**Задание 1:** Создайте переменную `count`, которая содержит количество гласных букв в строке `\"hello\"`."
   ]
  },
  {
   "cell_type": "code",
   "execution_count": null,
   "id": "dde11f0c",
   "metadata": {},
   "outputs": [],
   "source": [
    "text = \"hello\"\n",
    "# Ваш код здесь\n",
    "print(count)"
   ]
  },
  {
   "cell_type": "code",
   "execution_count": null,
   "id": "d31db94e",
   "metadata": {},
   "outputs": [],
   "source": [
    "# Проверка\n",
    "assert count == 2, \"Ошибка! Должно быть 2 гласных в 'hello'\"\n",
    "assert isinstance(count, int), \"Ошибка! Переменная count должна быть целым числом\""
   ]
  },
  {
   "cell_type": "markdown",
   "id": "ca193141",
   "metadata": {},
   "source": [
    "<details><summary>Решение задания 1</summary>\n",
    "\n",
    "```python\n",
    "text = \"hello\"\n",
    "count = 0\n",
    "for char in text.lower():\n",
    "    if char in vowels:\n",
    "        count += 1\n",
    "print(count)\n",
    "```\n",
    "\n",
    "</details>"
   ]
  },
  {
   "cell_type": "markdown",
   "id": "6c9de489",
   "metadata": {},
   "source": [
    "**Задание 2:** Напишите функцию `is_palindrome(word)`, которая проверяет, является ли слово палиндромом (читается одинаково слева направо и справа налево)."
   ]
  },
  {
   "cell_type": "code",
   "execution_count": null,
   "id": "fca9b714",
   "metadata": {},
   "outputs": [],
   "source": [
    "# Ваш код здесь\n",
    "def is_palindrome(word):\n",
    "    pass"
   ]
  },
  {
   "cell_type": "code",
   "execution_count": null,
   "id": "e6f4ecee",
   "metadata": {},
   "outputs": [],
   "source": [
    "# Проверка\n",
    "assert is_palindrome(\"radar\") == True, \"Ошибка! 'radar' — палиндром\"\n",
    "assert is_palindrome(\"hello\") == False, \"Ошибка! 'hello' — не палиндром\"\n",
    "assert is_palindrome(\"\") == True, \"Ошибка! Пустая строка — палиндром\""
   ]
  },
  {
   "cell_type": "markdown",
   "id": "85ed72a9",
   "metadata": {},
   "source": [
    "<details><summary>Решение задания 2</summary>\n",
    "\n",
    "```python\n",
    "def is_palindrome(word):\n",
    "    return word == word[::-1]\n",
    "```\n",
    "\n",
    "</details>"
   ]
  },
  {
   "cell_type": "markdown",
   "id": "663a4430",
   "metadata": {},
   "source": [
    "**Задание 3:** Напишите функцию `reversed_text(text)`, которая возвращает строку наоборот.  "
   ]
  },
  {
   "cell_type": "code",
   "execution_count": null,
   "id": "67347dfe",
   "metadata": {},
   "outputs": [],
   "source": [
    "# Ваш код здесь\n",
    "def reversed_text(text):\n",
    "    pass"
   ]
  },
  {
   "cell_type": "code",
   "execution_count": null,
   "id": "3aa81b67",
   "metadata": {},
   "outputs": [],
   "source": [
    "# Проверка\n",
    "assert reversed_text(\"Python\") == \"nohtyP\", \"Ошибка! 'Python' наоборот — 'nohtyP'\"\n",
    "assert reversed_text(\"hi\") == \"ih\", \"Ошибка! 'hi' наоборот — 'ih'\"\n",
    "assert reversed_text(\"\") == \"\", \"Ошибка! Пустая строка наоборот — пустая строка\""
   ]
  },
  {
   "cell_type": "markdown",
   "id": "07db3f0c",
   "metadata": {},
   "source": [
    "<details><summary>Решение задания 3</summary>\n",
    "\n",
    "```python\n",
    "def reversed_text(text):\n",
    "    return text[::-1]\n",
    "```\n",
    "\n",
    "</details>"
   ]
  },
  {
   "cell_type": "markdown",
   "id": "23bc66f6",
   "metadata": {},
   "source": [
    "### 📋 1.2 Списки (Lists)"
   ]
  },
  {
   "cell_type": "markdown",
   "id": "d77d7e03",
   "metadata": {},
   "source": [
    "Список — это как корзина, в которую можно класть разные вещи: фрукты, числа, слова. Главное, что эту корзину можно менять: добавлять, убирать или заменять вещи.\n",
    "\n",
    "#### Почему это важно?\n",
    "Списки нужны, когда у вас есть набор данных, который может меняться, например, список дел на день или оценки учеников.\n",
    "\n",
    "#### Особенность списков:\n",
    "- **Изменяемы**: Вы можете заменить, добавить или удалить элементы.\n",
    "- **Упорядочены**: Элементы хранятся в том порядке, в котором вы их добавили. Это позволяет списки сортировать и обращаться к элементам по индексу.\n",
    "\n",
    "#### Создание списка:"
   ]
  },
  {
   "cell_type": "code",
   "execution_count": null,
   "id": "a112b60a",
   "metadata": {},
   "outputs": [],
   "source": [
    "fruits = [\"яблоко\", \"банан\", \"киви\"]\n",
    "print(fruits)"
   ]
  },
  {
   "cell_type": "markdown",
   "id": "3c5b9890",
   "metadata": {},
   "source": [
    "#### Основные операции со списками:\n",
    "- **Доступ по индексу**: Взять элемент по его номеру (начинается с 0).\n",
    "- **Добавление**: Положить новый элемент в корзину.\n",
    "- **Удаление**: Убрать элемент из корзины.\n",
    "- **Проверка наличия**: Узнать, есть ли что-то в корзине.\n",
    "\n",
    "#### Примеры операций:"
   ]
  },
  {
   "cell_type": "code",
   "execution_count": null,
   "id": "fa4aaa82",
   "metadata": {},
   "outputs": [],
   "source": [
    "fruits = [\"яблоко\", \"банан\", \"киви\"]\n",
    "print(fruits[0])         # яблоко\n",
    "fruits.append(\"апельсин\") # добавили в конец\n",
    "print(fruits)            # ['яблоко', 'банан', 'киви', 'апельсин']\n",
    "fruits.remove(\"киви\")     # убрали 'киви'\n",
    "print(fruits)            # ['яблоко', 'банан', 'апельсин']\n",
    "print(len(fruits))       # 3\n",
    "print(\"банан\" in fruits)  # True"
   ]
  },
  {
   "cell_type": "markdown",
   "id": "9db12c14",
   "metadata": {},
   "source": [
    "#### Полезные методы списков:\n",
    "- `.append(x)` — добавляет элемент `x` в конец.\n",
    "- `.insert(i, x)` — вставляет `x` на позицию `i`.\n",
    "- `.remove(x)` — убирает первый элемент `x`.\n",
    "- `.pop(i)` — убирает и возвращает элемент с индексом `i` (по умолчанию последний).\n",
    "\n",
    "#### Примеры методов:"
   ]
  },
  {
   "cell_type": "code",
   "execution_count": null,
   "id": "72beb642",
   "metadata": {},
   "outputs": [],
   "source": [
    "numbers = [1, 2, 3]\n",
    "numbers.insert(1, 10)   # вставляем 10 на позицию 1\n",
    "print(numbers)          # [1, 10, 2, 3]\n",
    "last = numbers.pop()    # убираем последний элемент\n",
    "print(last)             # 3\n",
    "print(numbers)          # [1, 10, 2]"
   ]
  },
  {
   "cell_type": "markdown",
   "id": "043c14cf",
   "metadata": {},
   "source": [
    "#### Перебор списка:"
   ]
  },
  {
   "cell_type": "code",
   "execution_count": null,
   "id": "62b43944",
   "metadata": {},
   "outputs": [],
   "source": [
    "for fruit in fruits:\n",
    "    print(fruit)  # яблоко, банан, апельсин"
   ]
  },
  {
   "cell_type": "markdown",
   "id": "d5d2b097",
   "metadata": {},
   "source": [
    "#### Списковые включения (List Comprehensions):\n",
    "Это короткий способ создать список.  \n",
    "**Синтаксис**: `newlist = [expression for item in iterable]`   \n",
    "**Синтаксис с условием**: `newlist = [expression for item in iterable (if condition)]` - добавляет элемент в список только если выполняется условие \n",
    "**Пример**:  Представьте, что вы быстро записываете числа от 0 до 4. "
   ]
  },
  {
   "cell_type": "code",
   "execution_count": null,
   "id": "8c10982a",
   "metadata": {},
   "outputs": [],
   "source": [
    "numbers = [x for x in range(5)]\n",
    "print(numbers)  # [0, 1, 2, 3, 4]"
   ]
  },
  {
   "cell_type": "markdown",
   "id": "74e14df9",
   "metadata": {},
   "source": [
    "### 🧠 Советы для новичков:\n",
    "Списки — это как блокнот: вы можете дописывать заметки, вычёркивать их или вставлять новые между старыми. Используйте их, когда нужно что-то менять."
   ]
  },
  {
   "cell_type": "markdown",
   "id": "48f2bfa9",
   "metadata": {},
   "source": [
    "### 🧪 Практика: Работа со списками"
   ]
  },
  {
   "cell_type": "markdown",
   "id": "1f50bfa3",
   "metadata": {},
   "source": [
    "**Задание 1:** Создайте список `numbers` из 10 случайных чисел от 1 до 100 с помощью модуля `random`."
   ]
  },
  {
   "cell_type": "code",
   "execution_count": null,
   "id": "ab0005ec",
   "metadata": {},
   "outputs": [],
   "source": [
    "import random\n",
    "# Ваш код здесь\n",
    "print(numbers)"
   ]
  },
  {
   "cell_type": "code",
   "execution_count": null,
   "id": "35845e2c",
   "metadata": {},
   "outputs": [],
   "source": [
    "# Проверка\n",
    "assert len(numbers) == 10, \"Ошибка! Список должен содержать 10 чисел\"\n",
    "assert all(isinstance(x, int) for x in numbers), \"Ошибка! Все элементы должны быть целыми числами\"\n",
    "assert all(1 <= x <= 100 for x in numbers), \"Ошибка! Числа должны быть в диапазоне от 1 до 100\""
   ]
  },
  {
   "cell_type": "markdown",
   "id": "8738f64b",
   "metadata": {},
   "source": [
    "<details><summary>Решение задания 1</summary>\n",
    "\n",
    "```python\n",
    "import random\n",
    "numbers = [random.randint(1, 100) for _ in range(10)]\n",
    "print(numbers)\n",
    "```\n",
    "\n",
    "</details>"
   ]
  },
  {
   "cell_type": "markdown",
   "id": "4ed554c8",
   "metadata": {},
   "source": [
    "**Задание 2:** Напишите функцию `insert_middle(lst, value)`, которая вставляет значение `value` в середину списка `lst`."
   ]
  },
  {
   "cell_type": "code",
   "execution_count": null,
   "id": "8fe8e48b",
   "metadata": {},
   "outputs": [],
   "source": [
    "# Ваш код здесь\n",
    "def insert_middle(lst, value):\n",
    "    pass"
   ]
  },
  {
   "cell_type": "code",
   "execution_count": null,
   "id": "afd83d0b",
   "metadata": {},
   "outputs": [],
   "source": [
    "# Проверка\n",
    "test_list = [1, 2, 3, 4, 5]\n",
    "insert_middle(test_list, 42)\n",
    "assert len(test_list) == 6, \"Ошибка! Длина списка должна быть 6\"\n",
    "assert test_list[2] == 42, \"Ошибка! Значение 42 должно быть на позиции 2\"\n",
    "assert test_list == [1, 2, 42, 3, 4, 5], \"Ошибка! Список должен быть [1, 2, 42, 3, 4, 5]\""
   ]
  },
  {
   "cell_type": "markdown",
   "id": "1abf3587",
   "metadata": {},
   "source": [
    "<details><summary>Решение задания 2</summary>\n",
    "\n",
    "```python\n",
    "def insert_middle(lst, value):\n",
    "    mid = len(lst) // 2\n",
    "    lst.insert(mid, value)\n",
    "```\n",
    "\n",
    "</details>"
   ]
  },
  {
   "cell_type": "markdown",
   "id": "885bf4f8",
   "metadata": {},
   "source": [
    "**Задание 3:** Напишите функцию `remove_elements(lst, value, index)`, которая удаляет элемент по значению `value` и по индексу `index` из списка `lst`."
   ]
  },
  {
   "cell_type": "code",
   "execution_count": null,
   "id": "68a5e9ef",
   "metadata": {},
   "outputs": [],
   "source": [
    "# Ваш код здесь\n",
    "def remove_elements(lst, value, index):\n",
    "    pass"
   ]
  },
  {
   "cell_type": "code",
   "execution_count": null,
   "id": "ed899f58",
   "metadata": {},
   "outputs": [],
   "source": [
    "# Проверка\n",
    "test_list = [1, 2, 3, 4, 5]\n",
    "remove_elements(test_list, 3, 0)\n",
    "assert len(test_list) == 3, \"Ошибка! Длина списка должна быть 3\"\n",
    "assert 3 not in test_list, \"Ошибка! Значение 3 должно быть удалено\"\n",
    "assert test_list == [2, 4, 5], \"Ошибка! Список должен быть [2, 4, 5]\""
   ]
  },
  {
   "cell_type": "markdown",
   "id": "f638abdd",
   "metadata": {},
   "source": [
    "<details><summary>Решение задания 3</summary>\n",
    "\n",
    "```python\n",
    "def remove_elements(lst, value, index):\n",
    "    lst.remove(value)\n",
    "    lst.pop(index)\n",
    "```\n",
    "\n",
    "</details>"
   ]
  },
  {
   "cell_type": "markdown",
   "id": "de9c23de",
   "metadata": {},
   "source": [
    "### 📐 1.3 Кортежи (Tuples)"
   ]
  },
  {
   "cell_type": "markdown",
   "id": "214f5e79",
   "metadata": {},
   "source": [
    "Кортеж — это как список, но «замороженный». Представьте, что вы записали что-то на бумаге и заламинировали её — теперь ничего нельзя изменить.\n",
    "\n",
    "#### Почему это важно?\n",
    "Кортежи используют, когда данные должны оставаться неизменными, например, координаты точки на карте.\n",
    "\n",
    "#### Особенность кортежей:\n",
    "- **Неизменяемы**: Нельзя добавить, убрать или заменить элементы.\n",
    "- **Быстрее списков**: Из-за неизменности Python работает с ними эффективнее.\n",
    "\n",
    "#### Создание кортежа:"
   ]
  },
  {
   "cell_type": "code",
   "execution_count": 1,
   "id": "f086c6f7",
   "metadata": {},
   "outputs": [
    {
     "name": "stdout",
     "output_type": "stream",
     "text": [
      "(10, 20)\n"
     ]
    }
   ],
   "source": [
    "coordinates = (10, 20)\n",
    "print(coordinates)"
   ]
  },
  {
   "cell_type": "markdown",
   "id": "4ace86af",
   "metadata": {},
   "source": [
    "#### Доступ к элементам:\n",
    "Как в списках, по индексу, но менять ничего нельзя."
   ]
  },
  {
   "cell_type": "code",
   "execution_count": 2,
   "id": "d32a84b1",
   "metadata": {},
   "outputs": [
    {
     "name": "stdout",
     "output_type": "stream",
     "text": [
      "10\n"
     ]
    }
   ],
   "source": [
    "print(coordinates[0])  # 10\n",
    "# coordinates[0] = 15  # Ошибка! Кортеж неизменяем"
   ]
  },
  {
   "cell_type": "markdown",
   "id": "9ced1f06",
   "metadata": {},
   "source": [
    "#### Распаковка кортежа:\n",
    "Можно сразу присвоить значения из кортежа переменным."
   ]
  },
  {
   "cell_type": "code",
   "execution_count": 3,
   "id": "e4bdfedd",
   "metadata": {},
   "outputs": [
    {
     "name": "stdout",
     "output_type": "stream",
     "text": [
      "10 20\n"
     ]
    }
   ],
   "source": [
    "x, y = coordinates\n",
    "print(x, y)  # 10 20"
   ]
  },
  {
   "cell_type": "markdown",
   "id": "40812acc",
   "metadata": {},
   "source": [
    "#### Изменение кортежа:\n",
    "Чтобы изменить кортеж, нужно превратить его в список, изменить, а потом обратно в кортеж."
   ]
  },
  {
   "cell_type": "code",
   "execution_count": null,
   "id": "c1f40205",
   "metadata": {},
   "outputs": [],
   "source": [
    "list_coords = list(coordinates)\n",
    "list_coords.append(30)\n",
    "coordinates = tuple(list_coords)\n",
    "print(coordinates)  # (10, 20, 30)"
   ]
  },
  {
   "cell_type": "markdown",
   "id": "195ce286",
   "metadata": {},
   "source": [
    "### 🧩 Почему использовать кортежи?\n",
    "- Они защищают данные от случайных изменений.\n",
    "- Используются для передачи неизменных данных, например, в функциях.\n",
    "- Экономят память и время выполнения."
   ]
  },
  {
   "cell_type": "markdown",
   "id": "47792982",
   "metadata": {},
   "source": [
    "### 🧪 Практика: Работа с кортежами"
   ]
  },
  {
   "cell_type": "markdown",
   "id": "c73899e5",
   "metadata": {},
   "source": [
    "**Задание 1:** Создайте кортеж `point` с координатами точки (5, 10)."
   ]
  },
  {
   "cell_type": "code",
   "execution_count": null,
   "id": "c1f24750",
   "metadata": {},
   "outputs": [],
   "source": [
    "# Ваш код здесь"
   ]
  },
  {
   "cell_type": "code",
   "execution_count": null,
   "id": "3fb12037",
   "metadata": {},
   "outputs": [],
   "source": [
    "# Проверка\n",
    "assert len(point) == 2, \"Ошибка! Кортеж должен содержать 2 элемента\"\n",
    "assert isinstance(point, tuple), \"Ошибка! Переменная point должна быть кортежем\"\n",
    "assert point == (5, 10), \"Ошибка! Кортеж должен быть (5, 10)\""
   ]
  },
  {
   "cell_type": "markdown",
   "id": "4821c0bb",
   "metadata": {},
   "source": [
    "<details><summary>Решение задания 1</summary>\n",
    "\n",
    "```python\n",
    "point = (5, 10)\n",
    "print(point)\n",
    "```\n",
    "\n",
    "</details>"
   ]
  },
  {
   "cell_type": "markdown",
   "id": "65e114dc",
   "metadata": {},
   "source": [
    "**Задание 2:** Напишите функцию `add_coordinate(tup, value)`, которая преобразует кортеж `tup` в список, добавляет значение `value` и возвращает новый кортеж."
   ]
  },
  {
   "cell_type": "code",
   "execution_count": null,
   "id": "b9c7c924",
   "metadata": {},
   "outputs": [],
   "source": [
    "# Ваш код здесь\n",
    "def add_coordinate(tup, value):\n",
    "    pass"
   ]
  },
  {
   "cell_type": "code",
   "execution_count": null,
   "id": "d6e82935",
   "metadata": {},
   "outputs": [],
   "source": [
    "# Проверка\n",
    "test_tuple = (5, 10)\n",
    "new_tuple = add_coordinate(test_tuple, 15)\n",
    "assert len(new_tuple) == 3, \"Ошибка! Длина нового кортежа должна быть 3\"\n",
    "assert isinstance(new_tuple, tuple), \"Ошибка! Результат должен быть кортежем\"\n",
    "assert new_tuple == (5, 10, 15), \"Ошибка! Новый кортеж должен быть (5, 10, 15)\""
   ]
  },
  {
   "cell_type": "markdown",
   "id": "06f24a51",
   "metadata": {},
   "source": [
    "<details><summary>Решение задания 2</summary>\n",
    "\n",
    "```python\n",
    "def add_coordinate(tup, value):\n",
    "    lst = list(tup)\n",
    "    lst.append(value)\n",
    "    return tuple(lst)\n",
    "```\n",
    "\n",
    "</details>"
   ]
  },
  {
   "cell_type": "markdown",
   "id": "9b487d8d",
   "metadata": {},
   "source": [
    "**Задание 3:** Напишите функцию `get_first(tup)`, которая возвращает первый элемент кортежа."
   ]
  },
  {
   "cell_type": "code",
   "execution_count": null,
   "id": "998416f5",
   "metadata": {},
   "outputs": [],
   "source": [
    "# Ваш код здесь\n",
    "def get_first(tup):\n",
    "    pass"
   ]
  },
  {
   "cell_type": "code",
   "execution_count": null,
   "id": "540b83dc",
   "metadata": {},
   "outputs": [],
   "source": [
    "# Проверка\n",
    "test_tuple = (5, 10, 15)\n",
    "first = get_first(test_tuple)\n",
    "assert first == 5, \"Ошибка! Первый элемент должен быть 5\"\n",
    "assert isinstance(first, int), \"Ошибка! Результат должен быть целым числом\""
   ]
  },
  {
   "cell_type": "markdown",
   "id": "67b60847",
   "metadata": {},
   "source": [
    "<details><summary>Решение задания 3</summary>\n",
    "\n",
    "```python\n",
    "def get_first(tup):\n",
    "    return tup[0]\n",
    "```\n",
    "\n",
    "</details>"
   ]
  },
  {
   "cell_type": "markdown",
   "id": "5609576a",
   "metadata": {},
   "source": [
    "### 🔁 1.4 Множества (Sets)"
   ]
  },
  {
   "cell_type": "markdown",
   "id": "e9e46fd5",
   "metadata": {},
   "source": [
    "Множество — это как коллекция уникальных наклеек: каждая наклейка встречается только один раз, и порядок не важен.\n",
    "\n",
    "#### Почему это важно?\n",
    "Множества помогают быстро убрать повторы и проверить, есть ли что-то в коллекции.\n",
    "\n",
    "#### Особенность множеств:\n",
    "- **Уникальность**: Нельзя добавить два одинаковых элемента.\n",
    "- **Неупорядоченность**: Элементы лежат в случайном порядке.\n",
    "\n",
    "#### Создание множества:"
   ]
  },
  {
   "cell_type": "code",
   "execution_count": 6,
   "id": "39e5dcc1",
   "metadata": {},
   "outputs": [
    {
     "name": "stdout",
     "output_type": "stream",
     "text": [
      "{'синий', 'красный', 'зелёный'}\n"
     ]
    }
   ],
   "source": [
    "colors = {\"красный\", \"синий\", \"зелёный\"}\n",
    "print(colors)"
   ]
  },
  {
   "cell_type": "markdown",
   "id": "f1bc1a11",
   "metadata": {},
   "source": [
    "Также полезно создавать множество из списков -> это просто убирает повторяющиеся элементы из списка:"
   ]
  },
  {
   "cell_type": "code",
   "execution_count": null,
   "id": "65fd019c",
   "metadata": {},
   "outputs": [],
   "source": [
    "colors = [\"красный\", \"синий\", \"зелёный\", \"зелёный\"]\n",
    "print(set(colors))"
   ]
  },
  {
   "cell_type": "markdown",
   "id": "890a5da2",
   "metadata": {},
   "source": [
    "#### Основные операции:\n",
    "- **Добавление**: Положить новую наклейку.\n",
    "- **Удаление**: Убрать наклейку.\n",
    "- **Проверка наличия**: Есть ли такая наклейка?\n",
    "\n",
    "#### Примеры операций:"
   ]
  },
  {
   "cell_type": "code",
   "execution_count": null,
   "id": "2bb29001",
   "metadata": {},
   "outputs": [],
   "source": [
    "colors.add(\"жёлтый\")   # добавляем\n",
    "print(colors)\n",
    "colors.remove(\"синий\") # убираем\n",
    "print(colors)\n",
    "print(\"красный\" in colors)  # True"
   ]
  },
  {
   "cell_type": "markdown",
   "id": "3a5c2e61",
   "metadata": {},
   "source": [
    "#### Операции над множествами:\n",
    "- **Пересечение (`&`)**: Что есть в обоих множествах.\n",
    "- **Объединение (`|`)**: Всё из обоих множеств.\n",
    "- **Разность (`-`)**: Что есть в одном, но нет в другом.\n",
    "\n",
    "#### Примеры операций:"
   ]
  },
  {
   "cell_type": "code",
   "execution_count": 9,
   "id": "fec9c451",
   "metadata": {},
   "outputs": [
    {
     "name": "stdout",
     "output_type": "stream",
     "text": [
      "{3}\n",
      "{1, 2, 3, 4, 5}\n",
      "{1, 2}\n"
     ]
    }
   ],
   "source": [
    "a = {1, 2, 3}\n",
    "b = {3, 4, 5}\n",
    "print(a & b)  # {3} — пересечение\n",
    "print(a | b)  # {1, 2, 3, 4, 5} — объединение\n",
    "print(a - b)  # {1, 2} — разность"
   ]
  },
  {
   "cell_type": "markdown",
   "id": "ed159104",
   "metadata": {},
   "source": [
    "### 🧠 Когда использовать множества?\n",
    "- Когда нужно убрать дубликаты из списка.\n",
    "- Когда важна быстрая проверка наличия элемента.\n",
    "- Для сравнения двух наборов данных."
   ]
  },
  {
   "cell_type": "markdown",
   "id": "5c460f7a",
   "metadata": {},
   "source": [
    "### 🧪 Практика: Работа с множествами"
   ]
  },
  {
   "cell_type": "markdown",
   "id": "6654dc05",
   "metadata": {},
   "source": [
    "**Задание 1:** Создайте множество `unique_numbers` из списка `[1, 2, 2, 3, 3, 3]`."
   ]
  },
  {
   "cell_type": "code",
   "execution_count": null,
   "id": "53e69801",
   "metadata": {},
   "outputs": [],
   "source": [
    "# Ваш код здесь"
   ]
  },
  {
   "cell_type": "code",
   "execution_count": null,
   "id": "d79625de",
   "metadata": {},
   "outputs": [],
   "source": [
    "# Проверка\n",
    "assert len(unique_numbers) == 3, \"Ошибка! Должно быть 3 уникальных элемента\"\n",
    "assert isinstance(unique_numbers, set), \"Ошибка! Переменная unique_numbers должна быть множеством\"\n",
    "assert unique_numbers == {1, 2, 3}, \"Ошибка! Множество должно быть {1, 2, 3}\""
   ]
  },
  {
   "cell_type": "markdown",
   "id": "1342925a",
   "metadata": {},
   "source": [
    "<details><summary>Решение задания 1</summary>\n",
    "\n",
    "```python\n",
    "numbers = [1, 2, 2, 3, 3, 3]\n",
    "unique_numbers = set(numbers)\n",
    "print(unique_numbers)\n",
    "```\n",
    "\n",
    "</details>"
   ]
  },
  {
   "cell_type": "markdown",
   "id": "ea44cab7",
   "metadata": {},
   "source": [
    "**Задание 2:** Напишите функцию `union_sets(set1, set2)`, которая возвращает объединение двух множеств."
   ]
  },
  {
   "cell_type": "code",
   "execution_count": null,
   "id": "d31beb36",
   "metadata": {},
   "outputs": [],
   "source": [
    "# Ваш код здесь\n",
    "def union_sets(set1, set2):\n",
    "    pass"
   ]
  },
  {
   "cell_type": "code",
   "execution_count": null,
   "id": "71f11ebb",
   "metadata": {},
   "outputs": [],
   "source": [
    "# Проверка\n",
    "test_set1 = {1, 2}\n",
    "test_set2 = {2, 3}\n",
    "result = union_sets(test_set1, test_set2)\n",
    "assert result == {1, 2, 3}, \"Ошибка! Объединение должно быть {1, 2, 3}\"\n",
    "assert isinstance(result, set), \"Ошибка! Результат должен быть множеством\""
   ]
  },
  {
   "cell_type": "markdown",
   "id": "45dc8ad9",
   "metadata": {},
   "source": [
    "<details><summary>Решение задания 2</summary>\n",
    "\n",
    "```python\n",
    "def union_sets(set1, set2):\n",
    "    return set1 | set2\n",
    "```\n",
    "\n",
    "</details>"
   ]
  },
  {
   "cell_type": "markdown",
   "id": "ba9cca05",
   "metadata": {},
   "source": [
    "**Задание 3:** Напишите функцию `difference_sets(set1, set2)`, которая возвращает разность двух множеств."
   ]
  },
  {
   "cell_type": "code",
   "execution_count": null,
   "id": "45b76a21",
   "metadata": {},
   "outputs": [],
   "source": [
    "# Ваш код здесь\n",
    "def difference_sets(set1, set2):\n",
    "    pass"
   ]
  },
  {
   "cell_type": "code",
   "execution_count": null,
   "id": "75c271c0",
   "metadata": {},
   "outputs": [],
   "source": [
    "# Проверка\n",
    "test_set1 = {1, 2, 3}\n",
    "test_set2 = {2, 3}\n",
    "result = difference_sets(test_set1, test_set2)\n",
    "assert result == {1}, \"Ошибка! Разность должна быть {1}\"\n",
    "assert isinstance(result, set), \"Ошибка! Результат должен быть множеством\""
   ]
  },
  {
   "cell_type": "markdown",
   "id": "347e81f0",
   "metadata": {},
   "source": [
    "<details><summary>Решение задания 3</summary>\n",
    "\n",
    "```python\n",
    "def difference_sets(set1, set2):\n",
    "    return set1 - set2\n",
    "```\n",
    "\n",
    "</details>"
   ]
  },
  {
   "cell_type": "markdown",
   "id": "80919b39",
   "metadata": {},
   "source": [
    "### 🗂 1.5 Словари (Dictionaries)"
   ]
  },
  {
   "cell_type": "markdown",
   "id": "2b95ed1a",
   "metadata": {},
   "source": [
    "Словарь — это как записная книжка, где каждому имени соответствует телефон. В Python это пары «ключ-значение».\n",
    "\n",
    "#### Почему это важно?\n",
    "Словари нужны, чтобы быстро находить данные по ключу, например, информацию о человеке по его имени.\n",
    "\n",
    "#### Особенность словарей:\n",
    "- **Ключи уникальны**: Один ключ — одно значение.\n",
    "- **Ключи неизменяемы**: Ключом может быть строка, число или кортеж, но не список.\n",
    "- **Быстрый поиск**: Найти значение по ключу очень быстро.\n",
    "\n",
    "#### Создание словаря:"
   ]
  },
  {
   "cell_type": "code",
   "execution_count": null,
   "id": "906176a6",
   "metadata": {},
   "outputs": [],
   "source": [
    "person = {\n",
    "    \"имя\": \"Алиса\",\n",
    "    \"возраст\": 25,\n",
    "    \"город\": \"Москва\"\n",
    "}\n",
    "print(person)"
   ]
  },
  {
   "cell_type": "markdown",
   "id": "8d9845a5",
   "metadata": {},
   "source": [
    "#### Доступ и изменение данных:"
   ]
  },
  {
   "cell_type": "code",
   "execution_count": null,
   "id": "06a47e6e",
   "metadata": {},
   "outputs": [],
   "source": [
    "print(person[\"имя\"])        # Алиса\n",
    "person[\"возраст\"] = 26      # изменили возраст\n",
    "person[\"профессия\"] = \"программист\"  # добавили профессию\n",
    "print(person)"
   ]
  },
  {
   "cell_type": "markdown",
   "id": "3f50c755",
   "metadata": {},
   "source": [
    "#### Полезные методы словарей:\n",
    "- `.keys()` — возвращает все ключи.\n",
    "- `.values()` — возвращает все значения.\n",
    "- `.items()` — возвращает пары ключ-значение.\n",
    "\n",
    "#### Примеры методов:"
   ]
  },
  {
   "cell_type": "code",
   "execution_count": null,
   "id": "48e7683b",
   "metadata": {},
   "outputs": [],
   "source": [
    "print(person.keys())    # dict_keys(['имя', 'возраст', 'город', 'профессия'])\n",
    "print(person.values())  # dict_values(['Алиса', 26, 'Москва', 'программист'])\n",
    "print(person.items())   # dict_items([('имя', 'Алиса'), ...])"
   ]
  },
  {
   "cell_type": "markdown",
   "id": "d10e62ca",
   "metadata": {},
   "source": [
    "#### Перебор словаря:"
   ]
  },
  {
   "cell_type": "code",
   "execution_count": null,
   "id": "542babae",
   "metadata": {},
   "outputs": [],
   "source": [
    "for key, value in person.items():\n",
    "    print(f\"{key}: {value}\")"
   ]
  },
  {
   "cell_type": "markdown",
   "id": "19faa169",
   "metadata": {},
   "source": [
    "### 🧠 Как использовать словари?\n",
    "- Это как картотека: быстро находите данные по «имени» (ключу).\n",
    "- Отлично подходят для хранения информации об объектах."
   ]
  },
  {
   "cell_type": "markdown",
   "id": "1ffaa88e",
   "metadata": {},
   "source": [
    "### 🧪 Практика: Работа со словарями"
   ]
  },
  {
   "cell_type": "markdown",
   "id": "3d0faed9",
   "metadata": {},
   "source": [
    "**Задание 1:** Создайте словарь `product` с информацией о товаре: название, цена, категория."
   ]
  },
  {
   "cell_type": "code",
   "execution_count": null,
   "id": "115cfa30",
   "metadata": {},
   "outputs": [],
   "source": [
    "# Ваш код здесь"
   ]
  },
  {
   "cell_type": "code",
   "execution_count": null,
   "id": "8317ad78",
   "metadata": {},
   "outputs": [],
   "source": [
    "# Проверка\n",
    "assert len(product) == 3, \"Ошибка! Словарь должен содержать 3 ключа\"\n",
    "assert isinstance(product, dict), \"Ошибка! Переменная product должна быть словарем\"\n",
    "assert \"название\" in product and \"цена\" in product and \"категория\" in product, \"Ошибка! Ключи должны быть 'название', 'цена', 'категория'\""
   ]
  },
  {
   "cell_type": "markdown",
   "id": "95df8bb4",
   "metadata": {},
   "source": [
    "<details><summary>Решение задания 1</summary>\n",
    "\n",
    "```python\n",
    "product = {\n",
    "    \"название\": \"телефон\",\n",
    "    \"цена\": 10000,\n",
    "    \"категория\": \"электроника\"\n",
    "}\n",
    "print(product)\n",
    "```\n",
    "\n",
    "</details>"
   ]
  },
  {
   "cell_type": "markdown",
   "id": "c5e98c88",
   "metadata": {},
   "source": [
    "**Задание 2:** Напишите функцию `add_field(dct, key, value)`, которая добавляет в словарь `dct` новое поле с ключом `key` и значением `value`."
   ]
  },
  {
   "cell_type": "code",
   "execution_count": null,
   "id": "f3bed2d9",
   "metadata": {},
   "outputs": [],
   "source": [
    "# Ваш код здесь\n",
    "def add_field(dct, key, value):\n",
    "    pass"
   ]
  },
  {
   "cell_type": "code",
   "execution_count": null,
   "id": "c42d1927",
   "metadata": {},
   "outputs": [],
   "source": [
    "# Проверка\n",
    "test_dict = {\"название\": \"телефон\", \"цена\": 10000}\n",
    "add_field(test_dict, \"категория\", \"электроника\")\n",
    "assert len(test_dict) == 3, \"Ошибка! Длина словаря должна быть 3\"\n",
    "assert test_dict[\"категория\"] == \"электроника\", \"Ошибка! Значение ключа 'категория' должно быть 'электроника'\"\n",
    "assert test_dict == {\"название\": \"телефон\", \"цена\": 10000, \"категория\": \"электроника\"}, \"Ошибка! Словарь должен быть {'название': 'телефон', 'цена': 10000, 'категория': 'электроника'}\""
   ]
  },
  {
   "cell_type": "markdown",
   "id": "4b9b8acc",
   "metadata": {},
   "source": [
    "<details><summary>Решение задания 2</summary>\n",
    "\n",
    "```python\n",
    "def add_field(dct, key, value):\n",
    "    dct[key] = value\n",
    "```\n",
    "\n",
    "</details>"
   ]
  },
  {
   "cell_type": "markdown",
   "id": "d101acda",
   "metadata": {},
   "source": [
    "**Задание 3:** Напишите функцию `get_keys(dct)`, которая возвращает список ключей словаря `dct`."
   ]
  },
  {
   "cell_type": "code",
   "execution_count": null,
   "id": "a3035793",
   "metadata": {},
   "outputs": [],
   "source": [
    "# Ваш код здесь\n",
    "def get_keys(dct):\n",
    "    pass"
   ]
  },
  {
   "cell_type": "code",
   "execution_count": null,
   "id": "4d6f030f",
   "metadata": {},
   "outputs": [],
   "source": [
    "# Проверка\n",
    "test_dict = {\"название\": \"телефон\", \"цена\": 10000, \"категория\": \"электроника\"}\n",
    "keys = get_keys(test_dict)\n",
    "assert isinstance(keys, list), \"Ошибка! Результат должен быть списком\"\n",
    "assert set(keys) == {\"название\", \"цена\", \"категория\"}, \"Ошибка! Ключи должны быть 'название', 'цена', 'категория'\"\n",
    "assert len(keys) == 3, \"Ошибка! Длина списка ключей должна быть 3\""
   ]
  },
  {
   "cell_type": "markdown",
   "id": "2862ad11",
   "metadata": {},
   "source": [
    "<details><summary>Решение задания 3</summary>\n",
    "\n",
    "```python\n",
    "def get_keys(dct):\n",
    "    return list(dct.keys())\n",
    "```\n",
    "\n",
    "</details>"
   ]
  },
  {
   "cell_type": "markdown",
   "id": "d74f41e1",
   "metadata": {},
   "source": [
    "## ⏱ 2. Алгоритмы сортировки и поиска"
   ]
  },
  {
   "cell_type": "markdown",
   "id": "0b4adb51",
   "metadata": {},
   "source": [
    "### Что такое алгоритм?\n",
    "Алгоритм в программировании — это последовательность чётко определённых шагов или инструкций, предназначенных для решения конкретной задачи или достижения цели.  \n",
    "Алгоритм — это как рецепт пирога: пошаговая инструкция, что делать с данными, чтобы получить результат.\n",
    "\n",
    "#### Почему это важно?\n",
    "Алгоритмы помогают компьютеру работать быстрее и умнее, особенно когда данных много."
   ]
  },
  {
   "cell_type": "markdown",
   "id": "048ac254",
   "metadata": {},
   "source": [
    "### 🧮 2.1 Сортировка"
   ]
  },
  {
   "cell_type": "markdown",
   "id": "6e67a359",
   "metadata": {},
   "source": [
    "Сортировка — это процесс упорядочивания элементов в массиве или списке по определённому критерию. Элементы могут располагаться по возрастанию или убыванию.  \n",
    "Сортировка - это как разложить книги на полке по алфавиту или по размеру. В Python есть встроенные способы это сделать.\n",
    "\n",
    "#### Зачем нужна сортировка?\n",
    "- Чтобы данные были в порядке.\n",
    "- Чтобы быстрее искать нужное.\n",
    "\n",
    "#### Простая сортировка списков:\n",
    "\n",
    "Помогает метод .sort() у списков"
   ]
  },
  {
   "cell_type": "code",
   "execution_count": 10,
   "id": "d3829c04",
   "metadata": {},
   "outputs": [
    {
     "name": "stdout",
     "output_type": "stream",
     "text": [
      "[1, 2, 5, 9]\n"
     ]
    }
   ],
   "source": [
    "numbers = [5, 2, 9, 1]\n",
    "numbers.sort()  # изменяет список\n",
    "print(numbers)  # [1, 2, 5, 9]"
   ]
  },
  {
   "cell_type": "markdown",
   "id": "8356b24a",
   "metadata": {},
   "source": [
    "#### Создание нового отсортированного списка:\n",
    "Чтобы создать новый отсортированный список от старого неотсортированного необходимa функция `sorted()`"
   ]
  },
  {
   "cell_type": "code",
   "execution_count": 11,
   "id": "fed49fd8",
   "metadata": {},
   "outputs": [
    {
     "name": "stdout",
     "output_type": "stream",
     "text": [
      "[1, 2, 5, 9]\n",
      "[5, 2, 9, 1]\n"
     ]
    }
   ],
   "source": [
    "numbers = [5, 2, 9, 1]\n",
    "new_numbers = sorted(numbers)  # создаёт новый список\n",
    "print(new_numbers)  # [1, 2, 5, 9]\n",
    "print(numbers)      # [5, 2, 9, 1] — оригинал не изменился"
   ]
  },
  {
   "cell_type": "markdown",
   "id": "7361a4dc",
   "metadata": {},
   "source": [
    "#### Сортировка в обратном порядке:\n",
    "Необходимо включить `reverse=True`"
   ]
  },
  {
   "cell_type": "code",
   "execution_count": 12,
   "id": "79d7c47b",
   "metadata": {},
   "outputs": [
    {
     "name": "stdout",
     "output_type": "stream",
     "text": [
      "[9, 5, 2, 1]\n"
     ]
    }
   ],
   "source": [
    "numbers = [5, 2, 9, 1]\n",
    "numbers.sort(reverse=True)\n",
    "print(numbers)  # [9, 5, 2, 1]"
   ]
  },
  {
   "cell_type": "markdown",
   "id": "ed2e08eb",
   "metadata": {},
   "source": [
    "### 🔄 Алгоритмы сортировки"
   ]
  },
  {
   "cell_type": "markdown",
   "id": "9a3ec3b9",
   "metadata": {},
   "source": [
    "#### Пузырьковая сортировка (Bubble Sort)\n",
    "Представьте, что вы сравниваете соседние числа и меняете их местами, если они стоят неправильно. Как пузырьки в воде, большие числа «всплывают» к концу.\n",
    "\n",
    "**Как работает:**\n",
    "1. Сравниваем два соседних элемента.\n",
    "2. Если левый больше правого, меняем их местами.\n",
    "3. Повторяем, пока всё не отсортируется."
   ]
  },
  {
   "cell_type": "markdown",
   "id": "9c21bf6f",
   "metadata": {},
   "source": [
    "![Моя гифка](../files/bubble.gif)"
   ]
  },
  {
   "cell_type": "code",
   "execution_count": 13,
   "id": "8a02defc",
   "metadata": {},
   "outputs": [
    {
     "name": "stdout",
     "output_type": "stream",
     "text": [
      "[11, 12, 22, 25, 34, 64, 90]\n"
     ]
    }
   ],
   "source": [
    "def bubble_sort(arr):\n",
    "    n = len(arr)\n",
    "    for i in range(n):\n",
    "        for j in range(0, n-i-1):\n",
    "            if arr[j] > arr[j+1]:\n",
    "                arr[j], arr[j+1] = arr[j+1], arr[j]\n",
    "\n",
    "numbers = [64, 34, 25, 12, 22, 11, 90]\n",
    "bubble_sort(numbers)\n",
    "print(numbers)  # [11, 12, 22, 25, 34, 64, 90]"
   ]
  },
  {
   "cell_type": "markdown",
   "id": "bb6a1dd4",
   "metadata": {},
   "source": [
    "**Плюсы:** Простая для понимания.  \n",
    "**Минусы:** Медленная, особенно для больших списков (O(n²))."
   ]
  },
  {
   "cell_type": "markdown",
   "id": "ac201b19",
   "metadata": {},
   "source": [
    "#### Сортировка выбором (Selection Sort)\n",
    "Представьте, что вы ищете самое маленькое число и ставите его в начало, потом следующее маленькое — на второе место и так далее.\n",
    "\n",
    "**Как работает:**\n",
    "Алгоритм разделяет массив на две части: отсортированную и неотсортированную. Изначально отсортированная часть пуста, неотсортированная — весь массив.\n",
    "На каждой итерации алгоритму надо:\n",
    "1. Искать минимальный элемент в неотсортированной части.\n",
    "2. Менять его местами с первым элементом неотсортированной части.\n",
    "3. Повторять процесс, пока не отсортирован весь массив."
   ]
  },
  {
   "cell_type": "markdown",
   "id": "0250a326",
   "metadata": {},
   "source": [
    "![Selection](../files/selection.gif)"
   ]
  },
  {
   "cell_type": "code",
   "execution_count": null,
   "id": "e5167adb",
   "metadata": {},
   "outputs": [],
   "source": [
    "def selection_sort(arr):\n",
    "    n = len(arr)\n",
    "    for i in range(n):\n",
    "        min_idx = i\n",
    "        for j in range(i+1, n):\n",
    "            if arr[j] < arr[min_idx]:\n",
    "                min_idx = j\n",
    "        arr[i], arr[min_idx] = arr[min_idx], arr[i]\n",
    "\n",
    "arr = [64, 25, 12, 22, 11]\n",
    "selection_sort(arr)\n",
    "print(arr)  # [11, 12, 22, 25, 64]"
   ]
  },
  {
   "cell_type": "markdown",
   "id": "93a65359",
   "metadata": {},
   "source": [
    "**Плюсы:** Меньше обменов, чем у пузырьковой.  \n",
    "**Минусы:** Всё ещё медленная для больших данных (O(n²))."
   ]
  },
  {
   "cell_type": "markdown",
   "id": "c7fcb099",
   "metadata": {},
   "source": [
    "### 🔍 2.2 Поиск"
   ]
  },
  {
   "cell_type": "markdown",
   "id": "921a94cf",
   "metadata": {},
   "source": [
    "Поиск — это как найти книгу на полке: можно перебирать все подряд или использовать хитрости, если книги уже отсортированы.\n",
    "\n",
    "#### Линейный поиск (Linear Search)\n",
    "Проверяем каждый элемент по очереди, пока не найдём нужный.\n",
    "\n",
    "**Как работает:**\n",
    "1. Начинаем с первого элемента.\n",
    "2. Сравниваем с искомым.\n",
    "3. Если нашли — возвращаем позицию, если нет — идём дальше."
   ]
  },
  {
   "cell_type": "code",
   "execution_count": 39,
   "id": "c7793d9d",
   "metadata": {},
   "outputs": [
    {
     "name": "stdout",
     "output_type": "stream",
     "text": [
      "999999\n"
     ]
    }
   ],
   "source": [
    "def linear_search(arr, target): # [5, 3, 7, 1, 9], 7\n",
    "    for i in range(len(arr)): # 0 1 2 3 4\n",
    "        if arr[i] == target: # 5 != 7 3 != 7 7 == 7 \n",
    "            return i\n",
    "    return -1\n",
    "\n",
    "numbers = [5, 3, 7, 1, 9]\n",
    "print(linear_search(numbers, 7))  # 2"
   ]
  },
  {
   "cell_type": "markdown",
   "id": "c5700b20",
   "metadata": {},
   "source": [
    "**Плюсы:** Работает с любым списком.  \n",
    "**Минусы:** Медленный для больших списков (O(n))."
   ]
  },
  {
   "cell_type": "markdown",
   "id": "541f3287",
   "metadata": {},
   "source": [
    "#### Бинарный поиск (Binary Search)\n",
    "Как найти слово в словаре: открываем середину, смотрим, куда идти дальше.\n",
    "\n",
    "**Как работает:**\n",
    "1. Список должен быть отсортирован.\n",
    "2. Смотрим средний элемент.\n",
    "3. Если он больше искомого — ищем в левой половине, если меньше — в правой.\n",
    "4. Повторяем, пока не найдём."
   ]
  },
  {
   "cell_type": "code",
   "execution_count": 18,
   "id": "96fff425",
   "metadata": {},
   "outputs": [
    {
     "name": "stdout",
     "output_type": "stream",
     "text": [
      "3\n"
     ]
    }
   ],
   "source": [
    "def binary_search(arr, target):\n",
    "    low = 0\n",
    "    high = len(arr) - 1\n",
    "    while low <= high:\n",
    "        mid = (low + high) // 2\n",
    "        if arr[mid] == target:\n",
    "            return mid\n",
    "        elif arr[mid] < target:\n",
    "            low = mid + 1\n",
    "        else:\n",
    "            high = mid - 1\n",
    "    return -1\n",
    "\n",
    "numbers = [1, 3, 5, 7, 9, 11]\n",
    "print(binary_search(numbers, 7)) "
   ]
  },
  {
   "cell_type": "markdown",
   "id": "bd91c29d",
   "metadata": {},
   "source": [
    "**Плюсы:** Очень быстрый (O(log n)).  \n",
    "**Минусы:** Нужен отсортированный список."
   ]
  },
  {
   "cell_type": "markdown",
   "id": "02d03042",
   "metadata": {},
   "source": [
    "Разница двух приведенных поисков:  \n",
    "![Linear](../files/linear.gif)"
   ]
  },
  {
   "cell_type": "markdown",
   "id": "94a1fdf0",
   "metadata": {},
   "source": [
    "### 🧠 Сложность алгоритмов\n",
    "\n",
    "**Историческая справка:** Сложность алгоритма - это количественная характеристика, которая говорит о том, сколько времени, либо какой объём памяти потребуется для выполнения алгоритма.\n",
    "\n",
    "Развитие технологий привело к тому, что память перестала быть критическим ресурсом. Поэтому когда говорят об анализе сложности алгоритма, обычно подразумевают то, насколько быстро он работает.\n",
    "\n",
    "Но ведь время выполнения алгоритма зависит от того, на каком устройстве его запустить. Один и тот же алгоритм запущенный на разных устройствах выполняется за разное время.\n",
    "\n",
    "Тогда было предложено измерять сложность алгоритмов в элементарных шагах - то, сколько действий необходимо совершить для его выполнения. Любой алгоритм включает в себя определённое количество шагов и не важно на каком устройстве он будет запущен, количество шагов останется неизменным. Эту идею принято представлять в виде Big O (или О-нотации).\n",
    "\n",
    "Big O показывает то, как сложность алгоритма растёт с увеличением входных данных. При этом она всегда показывает худший вариант развития событий - верхнюю границу. Здесь за `n` принято считать количество элементов с которыми алгоритм будет работать. В примере с сортировкой списка, `n` - количество элементов в списке.\n",
    "\n",
    "\n",
    "| Алгоритм             | Сложность |\n",
    "|----------------------|-----------|\n",
    "| Линейный поиск       | O(n)      |\n",
    "| Бинарный поиск       | O(log n)  |\n",
    "| Пузырьковая сортировка | O(n²)   |\n",
    "| Сортировка выбором   | O(n²)     |\n",
    "\n",
    "**Что это значит?**\n",
    "- O(n) — время растёт пропорционально количеству элементов.\n",
    "- O(log n) — время почти не растёт даже при большом списке.\n",
    "- O(n²) — время растёт очень быстро, плохо для больших данных."
   ]
  },
  {
   "cell_type": "markdown",
   "id": "8496db55",
   "metadata": {},
   "source": [
    "![Linear](../files/lgo.png)"
   ]
  },
  {
   "cell_type": "markdown",
   "id": "92a6726c",
   "metadata": {},
   "source": [
    "### 🧪 Практика: Сравнение скорости работы"
   ]
  },
  {
   "cell_type": "markdown",
   "id": "20387b01",
   "metadata": {},
   "source": [
    "**Задание 1:** Напишите функцию `compare_sort_times(n)`, которая сравнивает время работы пузырьковой сортировки и сортировки выбором на списке из `n` случайных чисел."
   ]
  },
  {
   "cell_type": "code",
   "execution_count": null,
   "id": "125dd3ad",
   "metadata": {},
   "outputs": [],
   "source": [
    "import random\n",
    "import time\n",
    "\n",
    "# Ваш код здесь\n",
    "def compare_sort_times(n):\n",
    "    pass\n",
    "\n",
    "compare_sort_times(100)"
   ]
  },
  {
   "cell_type": "code",
   "execution_count": null,
   "id": "dc2ad745",
   "metadata": {},
   "outputs": [],
   "source": [
    "# Проверка\n",
    "numbers1 = [random.randint(1, 1000) for _ in range(100)]\n",
    "numbers2 = numbers1.copy()\n",
    "compare_sort_times(100)\n",
    "assert numbers1 == sorted(numbers1), \"Ошибка! Пузырьковая сортировка не работает\"\n",
    "assert numbers2 == sorted(numbers2), \"Ошибка! Сортировка выбором не работает\""
   ]
  },
  {
   "cell_type": "markdown",
   "id": "655804db",
   "metadata": {},
   "source": [
    "<details><summary>Решение задания 1</summary>\n",
    "\n",
    "```python\n",
    "import random\n",
    "import time\n",
    "\n",
    "def bubble_sort(arr):\n",
    "    n = len(arr)\n",
    "    for i in range(n):\n",
    "        for j in range(0, n-i-1):\n",
    "            if arr[j] > arr[j+1]:\n",
    "                arr[j], arr[j+1] = arr[j+1], arr[j]\n",
    "\n",
    "def selection_sort(arr):\n",
    "    n = len(arr)\n",
    "    for i in range(n):\n",
    "        min_idx = i\n",
    "        for j in range(i+1, n):\n",
    "            if arr[j] < arr[min_idx]:\n",
    "                min_idx = j\n",
    "        arr[i], arr[min_idx] = arr[min_idx], arr[i]\n",
    "\n",
    "def compare_sort_times(n):\n",
    "    numbers1 = [random.randint(1, 1000) for _ in range(n)]\n",
    "    numbers2 = numbers1.copy()\n",
    "\n",
    "    start = time.time()\n",
    "    bubble_sort(numbers1)\n",
    "    bubble_time = time.time() - start\n",
    "\n",
    "    start = time.time()\n",
    "    selection_sort(numbers2)\n",
    "    selection_time = time.time() - start\n",
    "\n",
    "    print(f\"Пузырьковая: {bubble_time:.4f} сек\")\n",
    "    print(f\"Выбором: {selection_time:.4f} сек\")\n",
    "\n",
    "compare_sort_times(100)\n",
    "```\n",
    "\n",
    "</details>"
   ]
  },
  {
   "cell_type": "markdown",
   "id": "41d20150",
   "metadata": {},
   "source": [
    "**Задание 2:** Напишите функцию `search_comparison(arr, target)`, которая сравнивает время линейного и бинарного поиска в отсортированном списке `arr` для элемента `target`.  \n",
    "**Подсказки:**\n",
    "1. Используйте реализации линейного и бинарного поиска, которые приведены выше\n",
    "1. Используйте модуль time для замера времени. См. функцию time.time()"
   ]
  },
  {
   "cell_type": "code",
   "execution_count": null,
   "id": "c49d534b",
   "metadata": {},
   "outputs": [],
   "source": [
    "import time\n",
    "\n",
    "# Ваш код здесь\n",
    "def search_comparison(arr, target):\n",
    "    pass\n",
    "\n",
    "arr = sorted([random.randint(1, 1000) for _ in range(1000)])\n",
    "target = arr[500]\n",
    "search_comparison(arr, target)"
   ]
  },
  {
   "cell_type": "code",
   "execution_count": null,
   "id": "46750a2c",
   "metadata": {},
   "outputs": [],
   "source": [
    "# Проверка\n",
    "test_arr = sorted([random.randint(1, 1000) for _ in range(1000)])\n",
    "test_target = test_arr[500]\n",
    "search_comparison(test_arr, test_target)\n",
    "assert linear_search(test_arr, test_target) == binary_search(test_arr, test_target), \"Ошибка! Позиции должны совпадать\"\n",
    "assert linear_search(test_arr, test_target) == 500, \"Ошибка! Позиция должна быть 500\""
   ]
  },
  {
   "cell_type": "markdown",
   "id": "b16b4438",
   "metadata": {},
   "source": [
    "<details><summary>Решение задания 2</summary>\n",
    "\n",
    "```python\n",
    "import time\n",
    "\n",
    "def linear_search(arr, target):\n",
    "    for i in range(len(arr)):\n",
    "        if arr[i] == target:\n",
    "            return i\n",
    "    return -1\n",
    "\n",
    "def binary_search(arr, target):\n",
    "    low = 0\n",
    "    high = len(arr) - 1\n",
    "    while low <= high:\n",
    "        mid = (low + high) // 2\n",
    "        if arr[mid] == target:\n",
    "            return mid\n",
    "        elif arr[mid] < target:\n",
    "            low = mid + 1\n",
    "        else:\n",
    "            high = mid - 1\n",
    "    return -1\n",
    "\n",
    "def search_comparison(arr, target):\n",
    "    start = time.time()\n",
    "    lin_pos = linear_search(arr, target)\n",
    "    lin_time = time.time() - start\n",
    "\n",
    "    start = time.time()\n",
    "    bin_pos = binary_search(arr, target)\n",
    "    bin_time = time.time() - start\n",
    "\n",
    "    print(f\"Линейный: позиция {lin_pos}, время {lin_time:.6f} сек\")\n",
    "    print(f\"Бинарный: позиция {bin_pos}, время {bin_time:.6f} сек\")\n",
    "\n",
    "arr = sorted([random.randint(1, 1000) for _ in range(1000)])\n",
    "target = arr[500]\n",
    "search_comparison(arr, target)\n",
    "```\n",
    "\n",
    "</details>"
   ]
  },
  {
   "cell_type": "markdown",
   "id": "b5d90797",
   "metadata": {},
   "source": [
    "**Задание 3:** Напишите функцию `find_number()`, которая генерирует список из 10 случайных чисел, сортирует его, запрашивает у пользователя число для поиска и возвращает его позицию или -1, если числа нет."
   ]
  },
  {
   "cell_type": "code",
   "execution_count": null,
   "id": "e85ede7c",
   "metadata": {},
   "outputs": [],
   "source": [
    "import random\n",
    "\n",
    "# Ваш код здесь\n",
    "def find_number():\n",
    "    pass\n",
    "\n",
    "pos = find_number()\n",
    "print(f\"Позиция: {pos}\")"
   ]
  },
  {
   "cell_type": "code",
   "execution_count": null,
   "id": "119f58c9",
   "metadata": {},
   "outputs": [],
   "source": [
    "# Проверка\n",
    "test_numbers = [1, 2, 3, 4, 5]\n",
    "assert binary_search(test_numbers, 3) == 2, \"Ошибка! Позиция числа 3 должна быть 2\"\n",
    "assert binary_search(test_numbers, 6) == -1, \"Ошибка! Число 6 отсутствует, должна вернуться позиция -1\""
   ]
  },
  {
   "cell_type": "markdown",
   "id": "929fe7a7",
   "metadata": {},
   "source": [
    "<details><summary>Решение задания 3</summary>\n",
    "\n",
    "```python\n",
    "import random\n",
    "\n",
    "def binary_search(arr, target):\n",
    "    low = 0\n",
    "    high = len(arr) - 1\n",
    "    while low <= high:\n",
    "        mid = (low + high) // 2\n",
    "        if arr[mid] == target:\n",
    "            return mid\n",
    "        elif arr[mid] < target:\n",
    "            low = mid + 1\n",
    "        else:\n",
    "            high = mid - 1\n",
    "    return -1\n",
    "\n",
    "def find_number():\n",
    "    numbers = [random.randint(1, 100) for _ in range(10)]\n",
    "    numbers.sort()\n",
    "    print(\"Список:\", numbers)\n",
    "    target = int(input(\"Введите число для поиска: \"))\n",
    "    return binary_search(numbers, target)\n",
    "\n",
    "pos = find_number()\n",
    "print(f\"Позиция: {pos}\")\n",
    "```\n",
    "\n",
    "</details>"
   ]
  },
  {
   "cell_type": "markdown",
   "id": "4cb93019",
   "metadata": {},
   "source": [
    "## 🧪 Мини-практика"
   ]
  },
  {
   "cell_type": "markdown",
   "id": "35625d0d",
   "metadata": {},
   "source": [
    "**Задание 1:** Создайте список `numbers` из 5 случайных чисел от 1 до 50 и отсортируйте его с помощью функции `bubble_sort(lst)`."
   ]
  },
  {
   "cell_type": "code",
   "execution_count": null,
   "id": "7317c64b",
   "metadata": {},
   "outputs": [],
   "source": [
    "import random\n",
    "\n",
    "# Ваш код здесь\n",
    "print(\"До:\", numbers)\n",
    "bubble_sort(numbers)\n",
    "print(\"После:\", numbers)"
   ]
  },
  {
   "cell_type": "code",
   "execution_count": null,
   "id": "ef7bfbec",
   "metadata": {},
   "outputs": [],
   "source": [
    "# Проверка\n",
    "assert len(numbers) == 5, \"Ошибка! Список должен содержать 5 чисел\"\n",
    "assert numbers == sorted(numbers), \"Ошибка! Список не отсортирован\"\n",
    "assert all(1 <= x <= 50 for x in numbers), \"Ошибка! Числа должны быть в диапазоне от 1 до 50\""
   ]
  },
  {
   "cell_type": "markdown",
   "id": "5fa1f900",
   "metadata": {},
   "source": [
    "<details><summary>Решение задания 1</summary>\n",
    "\n",
    "```python\n",
    "import random\n",
    "\n",
    "def bubble_sort(lst):\n",
    "    n = len(lst)\n",
    "    for i in range(n):\n",
    "        for j in range(0, n-i-1):\n",
    "            if lst[j] > lst[j+1]:\n",
    "                lst[j], lst[j+1] = lst[j+1], lst[j]\n",
    "\n",
    "numbers = [random.randint(1, 50) for _ in range(5)]\n",
    "print(\"До:\", numbers)\n",
    "bubble_sort(numbers)\n",
    "print(\"После:\", numbers)\n",
    "```\n",
    "\n",
    "</details>"
   ]
  },
  {
   "cell_type": "markdown",
   "id": "4d5882aa",
   "metadata": {},
   "source": [
    "**Задание 2:** Напишите функцию `find_five(lst)`, которая ищет число 5 в отсортированном списке `lst` с помощью бинарного поиска и возвращает его позицию."
   ]
  },
  {
   "cell_type": "code",
   "execution_count": null,
   "id": "0676e25c",
   "metadata": {},
   "outputs": [],
   "source": [
    "# Ваш код здесь\n",
    "def find_five(lst):\n",
    "    pass\n",
    "\n",
    "numbers = [1, 3, 5, 7, 9]\n",
    "pos = find_five(numbers)\n",
    "print(f\"Число 5 на позиции {pos}\")"
   ]
  },
  {
   "cell_type": "code",
   "execution_count": null,
   "id": "a9fe9009",
   "metadata": {},
   "outputs": [],
   "source": [
    "# Проверка\n",
    "test_list = [1, 3, 5, 7, 9]\n",
    "pos = find_five(test_list)\n",
    "assert pos == 2, \"Ошибка! Позиция числа 5 должна быть 2\"\n",
    "assert isinstance(pos, int), \"Ошибка! Результат должен быть целым числом\""
   ]
  },
  {
   "cell_type": "markdown",
   "id": "d0b322cd",
   "metadata": {},
   "source": [
    "<details><summary>Решение задания 2</summary>\n",
    "\n",
    "```python\n",
    "def find_five(lst):\n",
    "    low = 0\n",
    "    high = len(lst) - 1\n",
    "    while low <= high:\n",
    "        mid = (low + high) // 2\n",
    "        if lst[mid] == 5:\n",
    "            return mid\n",
    "        elif lst[mid] < 5:\n",
    "            low = mid + 1\n",
    "        else:\n",
    "            high = mid - 1\n",
    "    return -1\n",
    "\n",
    "numbers = [1, 3, 5, 7, 9]\n",
    "pos = find_five(numbers)\n",
    "print(f\"Число 5 на позиции {pos}\")\n",
    "```\n",
    "\n",
    "</details>"
   ]
  },
  {
   "cell_type": "markdown",
   "id": "b28ed8a3",
   "metadata": {},
   "source": [
    "**Задание 3:** Создайте словарь `countries` с 5 парами \"страна — столица\"."
   ]
  },
  {
   "cell_type": "code",
   "execution_count": null,
   "id": "5c997d55",
   "metadata": {},
   "outputs": [],
   "source": [
    "# Ваш код здесь"
   ]
  },
  {
   "cell_type": "code",
   "execution_count": null,
   "id": "3909cfca",
   "metadata": {},
   "outputs": [],
   "source": [
    "# Проверка\n",
    "assert len(countries) == 5, \"Ошибка! Словарь должен содержать 5 пар\"\n",
    "assert isinstance(countries, dict), \"Ошибка! Переменная countries должна быть словарем\"\n",
    "assert all(isinstance(k, str) and isinstance(v, str) for k, v in countries.items()), \"Ошибка! Ключи и значения должны быть строками\""
   ]
  },
  {
   "cell_type": "markdown",
   "id": "4ac897c1",
   "metadata": {},
   "source": [
    "<details><summary>Решение задания 3</summary>\n",
    "\n",
    "```python\n",
    "countries = {\n",
    "    \"Россия\": \"Москва\",\n",
    "    \"Франция\": \"Париж\",\n",
    "    \"Япония\": \"Токио\",\n",
    "    \"Бразилия\": \"Бразилиа\",\n",
    "    \"Канада\": \"Оттава\"\n",
    "}\n",
    "print(countries)\n",
    "```\n",
    "\n",
    "</details>"
   ]
  },
  {
   "cell_type": "markdown",
   "id": "f84a9e7f",
   "metadata": {},
   "source": [
    "## 🏠 Домашнее задание"
   ]
  },
  {
   "cell_type": "markdown",
   "id": "faa9f3c1",
   "metadata": {},
   "source": [
    "Выполните одно из заданий ниже."
   ]
  },
  {
   "cell_type": "markdown",
   "id": "f2f33c50",
   "metadata": {},
   "source": [
    "### Задание 1: Сортировка выбором\n",
    "**Требование:** Создайте список `numbers` из 10 случайных чисел от 1 до 50 и отсортируйте его с помощью функции `selection_sort(lst)`. Выведите список до и после сортировки."
   ]
  },
  {
   "cell_type": "code",
   "execution_count": null,
   "id": "ae1200b8",
   "metadata": {},
   "outputs": [],
   "source": [
    "import random\n",
    "\n",
    "# Ваш код здесь\n",
    "print(\"До:\", numbers)\n",
    "selection_sort(numbers)\n",
    "print(\"После:\", numbers)"
   ]
  },
  {
   "cell_type": "code",
   "execution_count": null,
   "id": "c92140e7",
   "metadata": {},
   "outputs": [],
   "source": [
    "# Проверка\n",
    "assert len(numbers) == 10, \"Ошибка! Список должен содержать 10 чисел\"\n",
    "assert numbers == sorted(numbers), \"Ошибка! Список не отсортирован правильно\"\n",
    "assert all(1 <= x <= 50 for x in numbers), \"Ошибка! Числа должны быть в диапазоне от 1 до 50\""
   ]
  },
  {
   "cell_type": "markdown",
   "id": "eeda117a",
   "metadata": {},
   "source": [
    "<details><summary>Решение задания 1</summary>\n",
    "\n",
    "```python\n",
    "import random\n",
    "\n",
    "def selection_sort(lst):\n",
    "    n = len(lst)\n",
    "    for i in range(n):\n",
    "        min_idx = i\n",
    "        for j in range(i+1, n):\n",
    "            if lst[j] < lst[min_idx]:\n",
    "                min_idx = j\n",
    "        lst[i], lst[min_idx] = lst[min_idx], lst[i]\n",
    "\n",
    "numbers = [random.randint(1, 50) for _ in range(10)]\n",
    "print(\"До:\", numbers)\n",
    "selection_sort(numbers)\n",
    "print(\"После:\", numbers)\n",
    "```\n",
    "\n",
    "</details>"
   ]
  },
  {
   "cell_type": "markdown",
   "id": "e6b31f1f",
   "metadata": {},
   "source": [
    "### Задание 2: Линейный поиск слова\n",
    "**Требование:** Напишите функцию `find_word(lst, word)`, которая ищет слово `word` в списке `lst` с помощью линейного поиска и возвращает его позицию или -1, если слова нет. Используйте список `[\"Java\", \"C++\", \"Python\", \"Ruby\", \"Go\"]`."
   ]
  },
  {
   "cell_type": "code",
   "execution_count": null,
   "id": "cff02caa",
   "metadata": {},
   "outputs": [],
   "source": [
    "# Ваш код здесь\n",
    "def find_word(lst, word):\n",
    "    pass\n",
    "\n",
    "words = [\"Java\", \"C++\", \"Python\", \"Ruby\", \"Go\"]\n",
    "pos = find_word(words, \"Python\")\n",
    "print(f\"Слово 'Python' на позиции {pos}\")"
   ]
  },
  {
   "cell_type": "code",
   "execution_count": null,
   "id": "a98cdf64",
   "metadata": {},
   "outputs": [],
   "source": [
    "# Проверка\n",
    "test_words = [\"Java\", \"C++\", \"Python\", \"Ruby\", \"Go\"]\n",
    "assert find_word(test_words, \"Python\") == 2, \"Ошибка! Позиция слова 'Python' должна быть 2\"\n",
    "assert find_word(test_words, \"PHP\") == -1, \"Ошибка! Слово 'PHP' отсутствует, должна вернуться позиция -1\"\n",
    "assert isinstance(find_word(test_words, \"Python\"), int), \"Ошибка! Результат должен быть целым числом\""
   ]
  },
  {
   "cell_type": "markdown",
   "id": "63b10743",
   "metadata": {},
   "source": [
    "<details><summary>Решение задания 2</summary>\n",
    "\n",
    "```python\n",
    "def find_word(lst, word):\n",
    "    for i in range(len(lst)):\n",
    "        if lst[i] == word:\n",
    "            return i\n",
    "    return -1\n",
    "\n",
    "words = [\"Java\", \"C++\", \"Python\", \"Ruby\", \"Go\"]\n",
    "pos = find_word(words, \"Python\")\n",
    "print(f\"Слово 'Python' на позиции {pos}\")\n",
    "```\n",
    "\n",
    "</details>"
   ]
  },
  {
   "cell_type": "markdown",
   "id": "f40560bc",
   "metadata": {},
   "source": [
    "### Задание 3: Полная программа\n",
    "**Требование:** Напишите функцию `search_user_input()`, которая запрашивает у пользователя 5 чисел через пробел, сортирует их по возрастанию, запрашивает число для поиска и возвращает его позицию или -1, если числа нет."
   ]
  },
  {
   "cell_type": "code",
   "execution_count": null,
   "id": "2512f9ab",
   "metadata": {},
   "outputs": [],
   "source": [
    "# Ваш код здесь\n",
    "def search_user_input():\n",
    "    pass\n",
    "\n",
    "pos = search_user_input()\n",
    "if pos != -1:\n",
    "    print(f\"Число найдено на позиции {pos}\")\n",
    "else:\n",
    "    print(f\"Число не найдено\")"
   ]
  },
  {
   "cell_type": "code",
   "execution_count": null,
   "id": "469b84aa",
   "metadata": {},
   "outputs": [],
   "source": [
    "# Проверка\n",
    "test_numbers = [1, 2, 5, 8, 9]\n",
    "assert binary_search(test_numbers, 8) == 3, \"Ошибка! Позиция числа 8 должна быть 3\"\n",
    "assert binary_search(test_numbers, 7) == -1, \"Ошибка! Число 7 отсутствует, должна вернуться позиция -1\""
   ]
  },
  {
   "cell_type": "markdown",
   "id": "3e678e99",
   "metadata": {},
   "source": [
    "<details><summary>Решение задания 3</summary>\n",
    "\n",
    "```python\n",
    "def binary_search(arr, target):\n",
    "    low = 0\n",
    "    high = len(arr) - 1\n",
    "    while low <= high:\n",
    "        mid = (low + high) // 2\n",
    "        if arr[mid] == target:\n",
    "            return mid\n",
    "        elif arr[mid] < target:\n",
    "            low = mid + 1\n",
    "        else:\n",
    "            high = mid - 1\n",
    "    return -1\n",
    "\n",
    "def search_user_input():\n",
    "    numbers = list(map(int, input(\"Введите 5 чисел через пробел: \").split()))\n",
    "    numbers.sort()\n",
    "    print(\"Отсортированный список:\", numbers)\n",
    "    target = int(input(\"Введите число для поиска: \"))\n",
    "    return binary_search(numbers, target)\n",
    "\n",
    "pos = search_user_input()\n",
    "if pos != -1:\n",
    "    print(f\"Число найдено на позиции {pos}\")\n",
    "else:\n",
    "    print(f\"Число не найдено\")\n",
    "```\n",
    "\n",
    "</details>"
   ]
  },
  {
   "cell_type": "markdown",
   "id": "2ee7a4a6",
   "metadata": {},
   "source": [
    "## 🎯 Итог"
   ]
  },
  {
   "cell_type": "markdown",
   "id": "9f3b3008",
   "metadata": {},
   "source": [
    "Вы узнали:\n",
    "- Что такое структуры данных и зачем они нужны.\n",
    "- Как работать со строками, списками, кортежами, множествами и словарями.\n",
    "- Какие есть алгоритмы сортировки и поиска.\n",
    "- Как использовать эти знания на практике.\n",
    "- Как оценивать эффективность алгоритмов через Big O.\n",
    "\n",
    "Теперь вы можете выбирать подходящую структуру данных и эффективный алгоритм для решения реальных задач."
   ]
  },
  {
   "cell_type": "markdown",
   "id": "4a91e736",
   "metadata": {},
   "source": [
    "## 🧠 Рекомендации новичкам"
   ]
  },
  {
   "cell_type": "markdown",
   "id": "fc35263a",
   "metadata": {},
   "source": [
    "- Изучайте структуры данных и алгоритмы постепенно.\n",
    "- Тренируйтесь на реальных примерах.\n",
    "- Используйте готовые функции Python: `sorted()`, `max()`, `min()`, `sum()`.\n",
    "- Попробуйте визуализировать сортировку (можно через matplotlib)."
   ]
  },
  {
   "cell_type": "markdown",
   "id": "41132f61",
   "metadata": {},
   "source": [
    "## 🧬 Дополнительные материалы"
   ]
  },
  {
   "cell_type": "markdown",
   "id": "b4697c33",
   "metadata": {},
   "source": [
    "- [Официальная документация Python](https://docs.python.org/3/library/stdtypes.html)\n",
    "- [Статья про структуры данных](https://realpython.com/python-data-structures/)\n",
    "- [Сложность операций](https://wiki.python.org/moin/TimeComplexity)"
   ]
  },
  {
   "cell_type": "markdown",
   "id": "16b5cefa",
   "metadata": {},
   "source": [
    "## 🎉 Заключение"
   ]
  },
  {
   "cell_type": "markdown",
   "id": "944cbf76",
   "metadata": {},
   "source": [
    "Сегодня вы освоили основные структуры данных и базовые алгоритмы. Это фундамент, на котором строятся более сложные программы, базы данных, аналитика и машинное обучение.\n",
    "\n",
    "На следующем занятии вы углубитесь в ООП в python! Продолжайте практиковаться, и скоро вы сможете решать любые задачи. Удачи!"
   ]
  },
  {
   "cell_type": "markdown",
   "id": "8e4f67c9",
   "metadata": {},
   "source": []
  }
 ],
 "metadata": {
  "kernelspec": {
   "display_name": "Python 3 (ipykernel)",
   "language": "python",
   "name": "python3"
  },
  "language_info": {
   "codemirror_mode": {
    "name": "ipython",
    "version": 3
   },
   "file_extension": ".py",
   "mimetype": "text/x-python",
   "name": "python",
   "nbconvert_exporter": "python",
   "pygments_lexer": "ipython3",
   "version": "3.12.3"
  }
 },
 "nbformat": 4,
 "nbformat_minor": 5
}
