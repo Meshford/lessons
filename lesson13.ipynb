{
  "cells": [
    {
      "cell_type": "markdown",
      "metadata": {},
      "source": [
        "# 🛠️ Урок 13: Установка библиотек для машинного обучения\n",
        "**Цель урока:** Научиться создавать виртуальное окружение, устанавливать и использовать основные библиотеки для машинного обучения: `NumPy`, `pandas`, `scikit-learn`, `matplotlib`.\n",
        "\n",
        "## 📌 Что такое библиотеки и зачем они нужны?\n",
        "- **Библиотека** — это набор готовых функций и инструментов, которые можно использовать в коде без необходимости писать их с нуля.\n",
        "- **Зачем это нужно?** Ускоряет разработку, упрощает обработку данных и визуализацию, позволяет сосредоточиться на логике, а не на реализации базовых функций.\n",
        "- **Пример:** Вместо написания кода для матричных операций — используйте `NumPy`, вместо ручного построения графиков — `matplotlib` [[1]](https://example.com ).\n",
        "\n",
        "💡 **Аналогия:** Библиотеки — это как инструменты в мастерской. Вместо того чтобы изобретать молоток, вы берете готовый."
      ]
    },
    {
      "cell_type": "markdown",
      "metadata": {},
      "source": [
        "## 🧪 Создание виртуального окружения (venv)\n",
        "### Зачем нужны виртуальные окружения?\n",
        "- **Изоляция проектов:** Каждый проект использует свои версии библиотек.\n",
        "- **Избежание конфликтов:** Разные проекты могут требовать разные версии одной библиотеки.\n",
        "- **Чистота системы:** Не засоряйте глобальное окружение Python.\n",
        "\n",
        "### Как создать виртуальное окружение?\n",
        "**Шаг 1:** Откройте терминал (или командную строку).\n",
        "**Шаг 2:** Перейдите в папку проекта:\n",
        "```bash\n",
        "cd path/to/your/project\n",
        "```\n",
        "**Шаг 3:** Создайте окружение:\n",
        "```bash\n",
        "python -m venv env\n",
        "```\n",
        "**Шаг 4:** Активируйте окружение:\n",
        "- **Windows:**\n",
        "  ```bash\n",
        "  env\\Scripts\\activate\n",
        "  ```\n",
        "- **macOS/Linux:**\n",
        "  ```bash\n",
        "  source env/bin/activate\n",
        "  ```\n",
        "**Результат:** В терминале появится `(env)` — это означает, что вы в виртуальном окружении.\n",
        "\n",
        "💡 **Совет:** Имя окружения может быть любым, например, `ml_env` [[3]](https://example.com )."
      ]
    },
    {
      "cell_type": "markdown",
      "metadata": {},
      "source": [
        "## 📦 Установка библиотек через pip\n",
        "### 1. Установка NumPy\n",
        "**Что это?** Библиотека для работы с массивами, математических вычислений и линейной алгебры.\n",
        "**Пример использования:**\n",
        "```python\n",
        "import numpy as np\n",
        "arr = np.array([1, 2, 3])\n",
        "print(arr * 2)  # [2 4 6]\n",
        "```\n",
        "**Установка:**\n",
        "```bash\n",
        "pip install numpy\n",
        "```\n",
        "\n",
        "### 2. Установка pandas\n",
        "**Что это?** Библиотека для работы с табличными данными, аналогичными SQL-таблицам.\n",
        "**Пример использования:**\n",
        "```python\n",
        "import pandas as pd\n",
        "df = pd.DataFrame({'Name': ['Alice', 'Bob'], 'Age': [25, 30]})\n",
        "print(df)\n",
        "```\n",
        "**Установка:**\n",
        "```bash\n",
        "pip install pandas\n",
        "```\n",
        "\n",
        "### 3. Установка scikit-learn\n",
        "**Что это?** Основная библиотека для машинного обучения: содержит алгоритмы классификации, регрессии, кластеризации и метрики.\n",
        "**Пример использования:**\n",
        "```python\n",
        "from sklearn.linear_model import LinearRegression\n",
        "model = LinearRegression()\n",
        "```\n",
        "**Установка:**\n",
        "```bash\n",
        "pip install scikit-learn\n",
        "```\n",
        "\n",
        "### 4. Установка matplotlib\n",
        "**Что это?** Библиотека для построения графиков и визуализации данных.\n",
        "**Пример использования:**\n",
        "```python\n",
        "import matplotlib.pyplot as plt\n",
        "plt.plot([1, 2, 3], [5, 7, 4])\n",
        "plt.show()\n",
        "```\n",
        "**Установка:**\n",
        "```bash\n",
        "pip install matplotlib\n",
        "```\n",
        "\n",
        "✅ **Проверка установки:**\n",
        "```bash\n",
        "pip list  # Список установленных библиотек\n",
        "```\n",
        "\n",
        "⚠️ **Если возникла ошибка:** Попробуйте обновить `pip`:\n",
        "```bash\n",
        "python -m pip install --upgrade pip\n",
        "```"
      ]
    },
    {
      "cell_type": "markdown",
      "metadata": {},
      "source": [
        "## 🔍 Обзор библиотек\n",
        "### 1. NumPy — работа с массивами и математикой\n",
        "- **Массивы:** `np.array` — аналог списка, но быстрее и эффективнее.\n",
        "- **Функции:** `np.mean()`, `np.std()`, `np.random.rand()`.\n",
        "- **Пример:** Вычисление среднего значения:\n",
        "  ```python\n",
        "  import numpy as np\n",
        "  arr = np.array([1, 2, 3, 4, 5])\n",
        "  print(np.mean(arr))  # 3.0\n",
        "  ```\n",
        "\n",
        "### 2. pandas — работа с таблицами и данными\n",
        "- **DataFrame:** Таблица с именованными столбцами.\n",
        "- **Функции:** `df.head()`, `df.describe()`, `df.groupby()`.\n",
        "- **Пример:** Загрузка CSV-файла:\n",
        "  ```python\n",
        "  import pandas as pd\n",
        "  df = pd.read_csv('data.csv')\n",
        "  print(df.shape)  # (количество строк, столбцов)\n",
        "  ```\n",
        "\n",
        "### 3. scikit-learn — инструменты машинного обучения\n",
        "- **Классификация:** `LogisticRegression`, `SVC`.\n",
        "- **Регрессия:** `LinearRegression`, `RandomForestRegressor`.\n",
        "- **Метрики:** `accuracy_score`, `mean_squared_error`.\n",
        "- **Пример:** Обучение модели:\n",
        "  ```python\n",
        "  from sklearn.model_selection import train_test_split\n",
        "  X_train, X_test, y_train, y_test = train_test_split(X, y, test_size=0.2)\n",
        "  ```\n",
        "\n",
        "### 4. matplotlib — визуализация данных\n",
        "- **Графики:** `plt.plot()`, `plt.scatter()`, `plt.bar()`.\n",
        "- **Настройки:** Подписи осей, легенды, сетка.\n",
        "- **Пример:** Гистограмма:\n",
        "  ```python\n",
        "  import matplotlib.pyplot as plt\n",
        "  plt.hist([1, 2, 2, 3, 3, 3], bins=3)\n",
        "  plt.title('Гистограмма')\n",
        "  plt.show()\n",
        "  ```"
      ]
    },
    {
      "cell_type": "markdown",
      "metadata": {},
      "source": [
        "## 🧪 Практика: Установка и базовое использование библиотек\n",
        "**Задание 1:** Создайте виртуальное окружение и установите все библиотеки (`numpy`, `pandas`, `scikit-learn`, `matplotlib`)."
      ]
    },
    {
      "cell_type": "code",
      "execution_count": null,
      "metadata": {},
      "outputs": [],
      "source": [
        "# Проверка установки\n",
        "import numpy as np\n",
        "import pandas as pd\n",
        "from sklearn.linear_model import LinearRegression\n",
        "import matplotlib.pyplot as plt\n",
        "print(\"Все библиотеки импортированы! ✅\")"
      ]
    },
    {
      "cell_type": "markdown",
      "metadata": {},
      "source": [
        "**Задание 2:** Создайте массив с помощью NumPy и посчитайте его среднее значение."
      ]
    },
    {
      "cell_type": "code",
      "execution_count": null,
      "metadata": {},
      "outputs": [],
      "source": [
        "# Ваш код здесь\n",
        "import numpy as np\n",
        "arr = np.array([10, 20, 30, 40, 50])\n",
        "average = np.mean(arr)\n",
        "print(f\"Среднее значение: {average}\")  # Ожидаемый результат: 30.0"
      ]
    },
    {
      "cell_type": "markdown",
      "metadata": {},
      "source": [
        "**Задание 3:** Создайте DataFrame в pandas из словаря и выведите первые 2 строки."
      ]
    },
    {
      "cell_type": "code",
      "execution_count": null,
      "metadata": {},
      "outputs": [],
      "source": [
        "# Ваш код здесь\n",
        "import pandas as pd\n",
        "data = {\n",
        "    'Name': ['Alice', 'Bob', 'Charlie'],\n",
        "    'Age': [25, 30, 35],\n",
        "    'Salary': [50000, 60000, 70000]\n",
        "}\n",
        "df = pd.DataFrame(data)\n",
        "print(df.head(2))  # Ожидаемый результат: первые 2 строки таблицы"
      ]
    },
    {
      "cell_type": "markdown",
      "metadata": {},
      "source": [
        "**Задание 4:** Постройте график с помощью matplotlib."
      ]
    },
    {
      "cell_type": "code",
      "execution_count": null,
      "metadata": {},
      "outputs": [],
      "source": [
        "# Ваш код здесь\n",
        "import matplotlib.pyplot as plt\n",
        "plt.plot([1, 2, 3], [4, 5, 1])\n",
        "plt.title('Пример графика')\n",
        "plt.xlabel('X')\n",
        "plt.ylabel('Y')\n",
        "plt.grid(True)\n",
        "plt.show()"
      ]
    },
    {
      "cell_type": "markdown",
      "metadata": {},
      "source": [
        "**Задание 5:** Обучите простую модель регрессии с помощью scikit-learn."
      ]
    },
    {
      "cell_type": "code",
      "execution_count": null,
      "metadata": {},
      "outputs": [],
      "source": [
        "# Ваш код здесь\n",
        "from sklearn.linear_model import LinearRegression\n",
        "import numpy as np\n",
        "\n",
        "# Пример данных\n",
        "X = np.array([[1], [2], [3]])\n",
        "y = np.array([2, 4, 6])\n",
        "\n",
        "# Обучение модели\n",
        "model = LinearRegression()\n",
        "model.fit(X, y)\n",
        "\n",
        "# Предсказание\n",
        "print(model.predict([[4]]))  # Ожидаемый результат: [8.]"
      ]
    },
    {
      "cell_type": "markdown",
      "metadata": {},
      "source": [
        "## 📝 Домашнее задание\n",
        "**Задача 1:** Установите все библиотеки в виртуальное окружение. Проверьте, что все импорты работают без ошибок."
      ]
    },
    {
      "cell_type": "markdown",
      "metadata": {},
      "source": [
        "**Задача 2:** Создайте DataFrame в pandas с 3 столбцами: `Product`, `Price`, `Quantity`. Сохраните его в файл `products.csv` и загрузите обратно."
      ]
    },
    {
      "cell_type": "code",
      "execution_count": null,
      "metadata": {},
      "outputs": [],
      "source": [
        "# Ваш код здесь\n",
        "import pandas as pd\n",
        "\n",
        "# Создание DataFrame\n",
        "data = {\n",
        "    'Product': ['A', 'B', 'C'],\n",
        "    'Price': [100, 200, 300],\n",
        "    'Quantity': [10, 20, 30]\n",
        "}\n",
        "df = pd.DataFrame(data)\n",
        "\n",
        "# Сохранение в файл\n",
        "df.to_csv('products.csv', index=False)\n",
        "\n",
        "# Загрузка из файла\n",
        "df_loaded = pd.read_csv('products.csv')\n",
        "print(df_loaded)"
      ]
    },
    {
      "cell_type": "markdown",
      "metadata": {},
      "source": [
        "**Задача 3:** Постройте график с помощью matplotlib, где на оси X — числа от 0 до 10, а на Y — квадраты этих чисел."
      ]
    },
    {
      "cell_type": "code",
      "execution_count": null,
      "metadata": {},
      "outputs": [],
      "source": [
        "# Ваш код здесь\n",
        "import matplotlib.pyplot as plt\n",
        "import numpy as np\n",
        "\n",
        "x = np.arange(0, 11)\n",
        "y = x**2\n",
        "\n",
        "plt.plot(x, y, marker='o', color='blue')\n",
        "plt.title('Квадраты чисел')\n",
        "plt.xlabel('X')\n",
        "plt.ylabel('Y')\n",
        "plt.grid(True)\n",
        "plt.show()"
      ]
    },
    {
      "cell_type": "markdown",
      "metadata": {},
      "source": [
        "## ✅ Рекомендации по выполнению домашнего задания\n",
        "- **Задача 1:** Убедитесь, что вы активировали виртуальное окружение перед установкой.\n",
        "- **Задача 2:** Используйте `index=False` при сохранении CSV, чтобы не добавлять лишние индексы.\n",
        "- **Задача 3:** Попробуйте разные стили графиков (например, `plt.scatter()` вместо `plt.plot()`)."
      ]
    }
  ],
  "metadata": {
    "kernelspec": {
      "display_name": "Python 3",
      "language": "python",
      "name": "python3"
    },
    "language_info": {
      "codemirror_mode": {
        "name": "ipython",
        "version": 3
      },
      "file_extension": ".py",
      "mimetype": "text/x-python",
      "name": "python",
      "nbconvert_exporter": "python",
      "pygments_lexer": "ipython3",
      "version": "3.8.5"
    }
  },
  "nbformat": 4,
  "nbformat_minor": 4
}
