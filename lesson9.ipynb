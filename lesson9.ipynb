{
  "cells": [
    {
      "cell_type": "markdown",
      "metadata": {},
      "source": [
        "# 📚 Урок 9: Словари и их методы\n",
        "**Цель урока:** Освоить работу со словарями в Python, научиться создавать, изменять и обрабатывать словари с помощью встроенных методов, а также применять их для решения реальных задач, таких как подсчёт частоты слов в тексте.\n",
        "\n",
        "## 🧩 Создание и изменение словарей\n",
        "Словари (`dict`) — это **неупорядоченные коллекции пар ключ-значение**, где ключи уникальны и неизменяемы (например, строки, числа, кортежи), а значения могут быть любыми объектами [[9]].\n",
        "\n",
        "**Создание словаря:**\n",
        "```python\n",
        "empty_dict = {}  # Пустой словарь\n",
        "person = {'name': 'Alice', 'age': 30}  # Литерал словаря\n",
        "person = dict(name='Alice', age=30)  # Через функцию dict()\n",
        "```\n",
        "\n",
        "**Изменение словаря:**\n",
        "- Добавление/обновление пары:\n",
        "  ```python\n",
        "  person['city'] = 'New York'  # Добавление\n",
        "  person['age'] = 31           # Обновление\n",
        "  ```\n",
        "- Удаление пары:\n",
        "  ```python\n",
        "  del person['city']  # Удаление по ключу\n",
        "  ```\n",
        "\n",
        "## 🔍 Методы словарей\n",
        "### 1. `keys()`, `values()`, `items()` — просмотр содержимого\n",
        "- `keys()` — возвращает **ключи** словаря.\n",
        "- `values()` — возвращает **значения** словаря.\n",
        "- `items()` — возвращает **кортежи (ключ, значение)**.\n",
        "\n",
        "**Пример:**\n",
        "```python\n",
        "person = {'name': 'Alice', 'age': 30}\n",
        "print(person.keys())    # dict_keys(['name', 'age'])\n",
        "print(person.values())  # dict_values(['Alice', 30])\n",
        "print(person.items())   # dict_items([('name', 'Alice'), ('age', 30)])\n",
        "```\n",
        "\n",
        "💡 **Важно:** Эти методы возвращают **объекты-представления** (view objects), которые динамически обновляются при изменении словаря [[5]].\n",
        "\n",
        "### 2. `get(key, default)` — безопасный доступ к значению\n",
        "Позволяет получить значение по ключу, возвращая `None` или указанное значение `default`, если ключ отсутствует.\n",
        "\n",
        "**Пример:**\n",
        "```python\n",
        "person = {'name': 'Alice'}\n",
        "print(person.get('age'))          # None\n",
        "print(person.get('age', 25))      # 25\n",
        "```\n",
        "\n",
        "### 3. `setdefault(key, default)` — добавление значения по умолчанию\n",
        "Если ключ отсутствует, добавляет его с указанным значением `default` (по умолчанию `None`).\n",
        "\n",
        "**Пример:**\n",
        "```python\n",
        "person = {'name': 'Alice'}\n",
        "person.setdefault('age', 30)  # Добавит 'age': 30\n",
        "print(person)  # {'name': 'Alice', 'age': 30}\n",
        "```\n",
        "\n",
        "### 4. `pop(key, default)` — удаление пары с возвратом значения\n",
        "Удаляет пару по ключу и возвращает значение. Если ключ отсутствует, возвращает `default` или вызывает ошибку.\n",
        "\n",
        "**Пример:**\n",
        "```python\n",
        "person = {'name': 'Alice', 'age': 30}\n",
        "name = person.pop('name')\n",
        "print(name)  # Alice\n",
        "```\n",
        "\n",
        "## 🧪 Практика: Подсчёт частоты слов в тексте\n",
        "Используем словарь для подсчёта частоты слов в строке.\n",
        "\n",
        "**Пример:**\n",
        "```python\n",
        "text = \"apple banana apple cherry banana apple\"\n",
        "word_count = {}\n",
        "\n",
        "for word in text.split():\n",
        "    word_count[word] = word_count.get(word, 0) + 1\n",
        "\n",
        "print(word_count)  # {'apple': 3, 'banana': 2, 'cherry': 1}\n",
        "```\n",
        "\n",
        "## 🛠️ Задания для практики\n",
        "**Задание 1:** Создайте словарь из двух списков: `keys = ['a', 'b', 'c']` и `values = [1, 2, 3]`. Используйте `zip()`."
      ]
    },
    {
      "cell_type": "code",
      "execution_count": null,
      "metadata": {},
      "outputs": [],
      "source": [
        "# Ваш код здесь\n",
        "keys = ['a', 'b', 'c']\n",
        "values = [1, 2, 3]\n",
        "d = dict(zip(keys, values))\n",
        "print(d)  # Ожидаемый результат: {'a': 1, 'b': 2, 'c': 3}"
      ]
    },
    {
      "cell_type": "markdown",
      "metadata": {},
      "source": [
        "**Задание 2:** Получите значение по ключу `'age'` из словаря `{'name': 'Alice'}` с помощью `get()`. Укажите дефолтное значение `25`."
      ]
    },
    {
      "cell_type": "code",
      "execution_count": null,
      "metadata": {},
      "outputs": [],
      "source": [
        "# Ваш код здесь\n",
        "person = {'name': 'Alice'}\n",
        "age = person.get('age', 25)\n",
        "print(age)  # Ожидаемый результат: 25"
      ]
    },
    {
      "cell_type": "markdown",
      "metadata": {},
      "source": [
        "**Задание 3:** Добавьте ключ `'city'` со значением `'Moscow'` в словарь `{'name': 'Alice'}` с помощью `setdefault()`."
      ]
    },
    {
      "cell_type": "code",
      "execution_count": null,
      "metadata": {},
      "outputs": [],
      "source": [
        "# Ваш код здесь\n",
        "person = {'name': 'Alice'}\n",
        "person.setdefault('city', 'Moscow')\n",
        "print(person)  # Ожидаемый результат: {'name': 'Alice', 'city': 'Moscow'}"
      ]
    },
    {
      "cell_type": "markdown",
      "metadata": {},
      "source": [
        "**Задание 4:** Удалите ключ `'name'` из словаря `{'name': 'Alice', 'age': 30}` с помощью `pop()`. Сохраните результат в переменную `name`."
      ]
    },
    {
      "cell_type": "code",
      "execution_count": null,
      "metadata": {},
      "outputs": [],
      "source": [
        "# Ваш код здесь\n",
        "person = {'name': 'Alice', 'age': 30}\n",
        "name = person.pop('name')\n",
        "print(name)  # Ожидаемый результат: 'Alice'\n",
        "print(person)  # Ожидаемый результат: {'age': 30}"
      ]
    },
    {
      "cell_type": "markdown",
      "metadata": {},
      "source": [
        "**Задание 5:** Подсчитайте частоту слов в строке `\"hello world hello python world\"` с помощью словаря."
      ]
    },
    {
      "cell_type": "code",
      "execution_count": null,
      "metadata": {},
      "outputs": [],
      "source": [
        "# Ваш код здесь\n",
        "text = \"hello world hello python world\"\n",
        "word_count = {}\n",
        "\n",
        "for word in text.split():\n",
        "    word_count[word] = word_count.get(word, 0) + 1\n",
        "\n",
        "print(word_count)  # Ожидаемый результат: {'hello': 2, 'world': 2, 'python': 1}"
      ]
    },
    {
      "cell_type": "markdown",
      "metadata": {},
      "source": [
        "## 📝 Домашнее задание\n",
        "**Задача 1:** Создайте словарь из строки `'abc'` и списка `[1, 2, 3]` с помощью `zip()`."
      ]
    },
    {
      "cell_type": "code",
      "execution_count": null,
      "metadata": {},
      "outputs": [],
      "source": [
        "# Ваш код здесь\n",
        "keys = 'abc'\n",
        "values = [1, 2, 3]\n",
        "d = dict(zip(keys, values))\n",
        "print(d)  # Ожидаемый результат: {'a': 1, 'b': 2, 'c': 3}"
      ]
    },
    {
      "cell_type": "markdown",
      "metadata": {},
      "source": [
        "**Задача 2:** Добавьте ключ `'color'` со значением `'red'` в словарь `{'name': 'Car'}` с помощью `setdefault()`."
      ]
    },
    {
      "cell_type": "code",
      "execution_count": null,
      "metadata": {},
      "outputs": [],
      "source": [
        "# Ваш код здесь\n",
        "car = {'name': 'Car'}\n",
        "car.setdefault('color', 'red')\n",
        "print(car)  # Ожидаемый результат: {'name': 'Car', 'color': 'red'}"
      ]
    }
  ],
  "metadata": {
    "kernelspec": {
      "display_name": "Python 3",
      "language": "python",
      "name": "python3"
    },
    "language_info": {
      "codemirror_mode": {
        "name": "ipython",
        "version": 3
      },
      "file_extension": ".py",
      "mimetype": "text/x-python",
      "name": "python",
      "nbconvert_exporter": "python",
      "pygments_lexer": "ipython3",
      "version": "3.8.5"
    }
  },
  "nbformat": 4,
  "nbformat_minor": 4
}