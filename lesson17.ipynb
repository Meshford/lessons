{
  "cells": [
    {
      "cell_type": "markdown",
      "metadata": {},
      "source": [
        "# 🧮 Урок 17: Первые проекты — Классификация MNIST с помощью scikit-learn\n",
        "**Цель урока:** Научиться использовать готовые инструменты `scikit-learn` для решения реальных задач машинного обучения, таких как классификация рукописных цифр из датасета MNIST. Подходит для новичков.\n",
        "\n",
        "## 📌 Что такое MNIST?\n",
        "- **MNIST** — это набор данных, содержащий 70,000 изображений рукописных цифр от 0 до 9.\n",
        "- Каждое изображение имеет размер 28x28 пикселей (всего 784 признака).\n",
        "- Целевая переменная — цифра от 0 до 9.\n",
        "- Используется как «Hello World» в компьютерном зрении и машинном обучении.\n",
        "\n",
        "💡 **Почему MNIST?**\n",
        "- Простой и понятный датасет для начинающих.\n",
        "- Позволяет сосредоточиться на методах ML, а не на сложной обработке изображений."
      ]
    },
    {
      "cell_type": "code",
      "execution_count": null,
      "metadata": {},
      "outputs": [],
      "source": [
        "from sklearn.datasets import fetch_openml\n",
        "import matplotlib.pyplot as plt\n",
        "\n",
        "# Загрузка MNIST\n",
        "mnist = fetch_openml('mnist_784', version=1)\n",
        "X, y = mnist['data'], mnist['target']\n",
        "\n",
        "# Выводим информацию\n",
        "print(\"Размер данных:\", X.shape)  # (70000, 784)\n",
        "print(\"Пример метки:\", y[0])  # '5'"
      ]
    },
    {
      "cell_type": "code",
      "execution_count": null,
      "metadata": {},
      "outputs": [],
      "source": [
        "# Преобразуем строку в изображение 28x28\n",
        "some_digit = X[0].reshape(28, 28)\n",
        "plt.imshow(some_digit, cmap=\"gray\")\n",
        "plt.axis(\"off\")\n",
        "plt.show()"
      ]
    },
    {
      "cell_type": "markdown",
      "metadata": {},
      "source": [
        "## 🧱 Подготовка данных\n",
        "### 1. Нормализация пикселей\n",
        "- Пиксели изображения имеют значения от 0 до 255.\n",
        "- Нормализуем их к диапазону [0, 1]:"
      ]
    },
    {
      "cell_type": "code",
      "execution_count": null,
      "metadata": {},
      "outputs": [],
      "source": [
        "X = X / 255.0  # Деление на 255 приводит к диапазону [0, 1]"
      ]
    },
    {
      "cell_type": "markdown",
      "metadata": {},
      "source": [
        "### 2. Разделение на обучающую и тестовую выборки\n",
        "- Используем первые 60,000 образцов как обучающую выборку, оставшиеся 10,000 — тестовая."
      ]
    },
    {
      "cell_type": "code",
      "execution_count": null,
      "metadata": {},
      "outputs": [],
      "source": [
        "X_train, X_test = X[:60000], X[60000:]\n",
        "y_train, y_test = y[:60000], y[60000:]"
      ]
    },
    {
      "cell_type": "markdown",
      "metadata": {},
      "source": [
        "### 3. Случайное перемешивание данных\n",
        "- Данные в `fetch_openml` уже перемешаны, но для других датасетов используйте:"
      ]
    },
    {
      "cell_type": "code",
      "execution_count": null,
      "metadata": {},
      "outputs": [],
      "source": [
        "import numpy as np\n",
        "\n",
        "shuffle_index = np.random.permutation(60000)\n",
        "X_train, y_train = X_train[shuffle_index], y_train[shuffle_index]"
      ]
    },
    {
      "cell_type": "markdown",
      "metadata": {},
      "source": [
        "## 🧠 Обзор моделей для классификации\n",
        "### 1. Логистическая регрессия\n",
        "- Как работает? Находит оптимальную гиперплоскость для разделения классов.\n",
        "- Когда использовать? Для простых задач классификации, где данные линейно разделимы.\n",
        "- Преимущества: Быстрая, интерпретируемая.\n",
        "- Ограничения: Не подходит для сложных нелинейных зависимостей.\n",
        "\n",
        "### 2. SVM (Метод опорных векторов)\n",
        "- Как работает? Максимизирует зазор между классами.\n",
        "- Когда использовать? Для задач с четкой границей между классами.\n",
        "- Преимущества: Высокая точность на небольших наборах.\n",
        "- Ограничения: Медленный на больших данных, требует настройки параметров.\n",
        "\n",
        "### 3. kNN (k-ближайших соседей)\n",
        "- Как работает? Классифицирует объект на основе соседей.\n",
        "- Когда использовать? Для задач с небольшими данными и нелинейными границами.\n",
        "- Преимущества: Простая реализация, работает без явного обучения.\n",
        "- Ограничения: Медленный на больших данных, чувствителен к масштабу признаков.\n",
        "\n",
        "💡 **Совет:** Для MNIST лучше всего подходят SVM и Random Forest, но начнем с логистической регрессии для простоты."
      ]
    },
    {
      "cell_type": "markdown",
      "metadata": {},
      "source": [
        "## 📊 Метрики качества\n",
        "- **Accuracy (точность):** Доля правильных предсказаний в классификации.\n",
        "- **Precision (точность классификации):** Сколько правильных положительных предсказаний среди всех положительных.\n",
        "- **Recall (полнота):** Сколько правильных положительных предсказаний среди всех реальных положительных.\n",
        "- **F1-score:** Гармоническое среднее между precision и recall.\n",
        "- **Confusion Matrix:** Матрица, показывающая, сколько объектов какого класса предсказано как.\n",
        "- **ROC-AUC:** Для бинарной классификации, но не подходит для многоклассовой."
      ]
    },
    {
      "cell_type": "markdown",
      "metadata": {},
      "source": [
        "### Подробнее о метриках:\n",
        "#### Accuracy (точность)\n",
        "```python\n",
        "accuracy = (TP + TN) / (TP + TN + FP + FN)\n",
        "```\n",
        "- **TP:** Истинно положительные (правильно предсказанные положительные).\n",
        "- **TN:** Истинно отрицательные (правильно предсказанные отрицательные).\n",
        "- **FP:** Ложноположительные (ошибка 1-го рода).\n",
        "- **FN:** Ложноотрицательные (ошибка 2-го рода).\n",
        "\n",
        "#### Precision (точность классификации)\n",
        "```python\n",
        "precision = TP / (TP + FP)\n",
        "```\n",
        "- **Высокий precision:** Мало ложных срабатываний (например, модель редко ошибается, но может пропустить реальные случаи).\n",
        "\n",
        "#### Recall (полнота)\n",
        "```python\n",
        "recall = TP / (TP + FN)\n",
        "```\n",
        "- **Высокий recall:** Мало пропущенных реальных случаев (например, важно не пропустить болезнь).\n",
        "\n",
        "#### F1-score\n",
        "- **Формула:**\n",
        "  ```python\n",
        "  F1 = 2 * (precision * recall) / (precision + recall)\n",
        "  ```\n",
        "- **Использование:** Когда нужно сбалансировать precision и recall."
      ]
    },
    {
      "cell_type": "markdown",
      "metadata": {},
      "source": [
        "## 🧪 Обучение логистической регрессии\n",
        "### Шаг 1: Обучение модели\n",
        "```python\n",
        "from sklearn.linear_model import LogisticRegression\n",
        "\n",
        "# Обучение\n",
        "log_reg = LogisticRegression(max_iter=1000, solver='lbfgs')\n",
        "log_reg.fit(X_train, y_train)\n",
        "```"
      ]
    },
    {
      "cell_type": "markdown",
      "metadata": {},
      "source": [
        "### Шаг 2: Оценка качества\n",
        "```python\n",
        "from sklearn.metrics import accuracy_score\n",
        "\n",
        "# Предсказание\n",
        "y_pred = log_reg.predict(X_test)\n",
        "accuracy = accuracy_score(y_test, y_pred)\n",
        "print(f'Accuracy: {accuracy:.2f}')  # Пример: 0.92\n",
        "```"
      ]
    },
    {
      "cell_type": "markdown",
      "metadata": {},
      "source": [
        "### Шаг 3: Анализ ошибок\n",
        "```python\n",
        "from sklearn.metrics import confusion_matrix\n",
        "import seaborn as sns\n",
        "\n",
        "# Матрица ошибок\n",
        "cm = confusion_matrix(y_test, y_pred)\n",
        "sns.heatmap(cm, annot=True, fmt='d')\n",
        "plt.title('Confusion Matrix')\n",
        "plt.xlabel('Predicted')\n",
        "plt.ylabel('True')\n",
        "plt.show()\n",
        "```"
      ]
    },
    {
      "cell_type": "markdown",
      "metadata": {},
      "source": [
        "### Шаг 4: Визуализация ошибочных предсказаний\n",
        "```python\n",
        "import numpy as np\n",
        "\n",
        "# Найдем ошибки\n",
        "wrong_indices = np.where(y_test != y_pred)[0][:5]\n",
        "for idx in wrong_indices:\n",
        "    plt.imshow(X_test[idx].reshape(28, 28), cmap='gray')\n",
        "    plt.title(f'Actual: {y_test[idx]}, Predicted: {y_pred[idx]}')\n",
        "    plt.axis('off')\n",
        "    plt.show()\n",
        "```"
      ]
    },
    {
      "cell_type": "markdown",
      "metadata": {},
      "source": [
        "## 📊 Практика: Сравнение моделей\n",
        "### 1. Обучение SVM\n",
        "```python\n",
        "from sklearn.svm import SVC\n",
        "\n",
        "# Обучение\n",
        "svm_clf = SVC(kernel='linear')\n",
        "svm_clf.fit(X_train, y_train)\n",
        "\n",
        "# Оценка\n",
        "svm_accuracy = accuracy_score(y_test, svm_clf.predict(X_test))\n",
        "print(f'SVM Accuracy: {svm_accuracy:.2f}')\n",
        "```"
      ]
    },
    {
      "cell_type": "markdown",
      "metadata": {},
      "source": [
        "### 2. Обучение kNN\n",
        "```python\n",
        "from sklearn.neighbors import KNeighborsClassifier\n",
        "\n",
        "# Обучение\n",
        "knn_clf = KNeighborsClassifier(n_neighbors=3)\n",
        "knn_clf.fit(X_train, y_train)\n",
        "\n",
        "# Оценка\n",
        "knn_accuracy = accuracy_score(y_test, knn_clf.predict(X_test))\n",
        "print(f'kNN Accuracy: {knn_accuracy:.2f}')\n",
        "```"
      ]
    },
    {
      "cell_type": "markdown",
      "metadata": {},
      "source": [
        "### 3. Сравнение моделей\n",
        "```python\n",
        "import matplotlib.pyplot as plt\n",
        "\n",
        "# График точности\n",
        "models = ['Logistic Regression', 'SVM', 'kNN']\n",
        "accuracies = [accuracy, svm_accuracy, knn_accuracy]\n",
        "\n",
        "plt.bar(models, accuracies, color=['blue', 'green', 'orange'])\n",
        "plt.ylabel('Accuracy')\n",
        "plt.title('Model Comparison on MNIST')\n",
        "plt.ylim(0.9, 1.0)\n",
        "plt.show()\n",
        "```"
      ]
    },
    {
      "cell_type": "markdown",
      "metadata": {},
      "source": [
        "## 📈 Глубокий анализ модели\n",
        "### 1. Precision, Recall, F1-score\n",
        "```python\n",
        "from sklearn.metrics import classification_report\n",
        "\n",
        "report = classification_report(y_test, y_pred)\n",
        "print(report)\n",
        "```"
      ]
    },
    {
      "cell_type": "markdown",
      "metadata": {},
      "source": [
        "### 2. ROC-AUC (только для бинарной классификации)\n",
        "```python\n",
        "from sklearn.metrics import roc_auc_score\n",
        "from sklearn.preprocessing import label_binarize\n",
        "\n",
        "# Бинаризация меток\n",
        "y_test_binary = label_binarize(y_test, classes=np.unique(y_test))\n",
        "y_pred_binary = log_reg.predict_proba(X_test)\n",
        "\n",
        "# ROC-AUC\n",
        "roc_auc = roc_auc_score(y_test_binary, y_pred_binary, multi_class='ovr')\n",
        "print(f'ROC-AUC: {roc_auc:.2f}')\n",
        "```"
      ]
    },
    {
      "cell_type": "markdown",
      "metadata": {},
      "source": [
        "## 🧪 Дополнительная практика: настройка гиперпараметров\n",
        "### 1. GridSearchCV для kNN\n",
        "```python\n",
        "from sklearn.model_selection import GridSearchCV\n",
        "\n",
        "# Параметры для перебора\n",
        "param_grid = {'n_neighbors': [3, 5, 7], 'weights': ['uniform', 'distance']}\n",
        "\n",
        "# Поиск лучшей модели\n",
        "grid = GridSearchCV(KNeighborsClassifier(), param_grid, cv=3, scoring='accuracy')\n",
        "grid.fit(X_train[:1000], y_train[:1000])  # Используем часть данных для ускорения\n",
        "\n",
        "# Лучшие параметры\n",
        "print(grid.best_params_)\n",
        "```"
      ]
    },
    {
      "cell_type": "markdown",
      "metadata": {},
      "source": [
        "## 📝 Домашнее задание\n",
        "**Задача 1:** Обучите модель `KNeighborsClassifier` на MNIST и сравните её с логистической регрессией и SVM.\n",
        "**Задача 2:** Напишите короткий отчет (200–300 слов), где:\n",
        "- Опишите, как вы обучали модель.\n",
        "- Сравните точность разных моделей.\n",
        "- Объясните, почему одни модели работают лучше других.\n",
        "- Приведите примеры ошибочных предсказаний.\n",
        "\n",
        "💡 **Рекомендации:**\n",
        "- Используйте `KNeighborsClassifier(n_neighbors=3)` для начала.\n",
        "- Для ускорения можно уменьшить размер выборки (например, `X_train[:1000]`).\n",
        "- Для визуализации ошибок используйте `confusion_matrix` и `matplotlib`."
      ]
    },
    {
      "cell_type": "markdown",
      "metadata": {},
      "source": [
        "## 🧠 Дополнительная теория: Почему важна нормализация?\n",
        "- **Нормализация** — это приведение данных к общему масштабу.\n",
        "- **Зачем?** Многие алгоритмы (например, kNN, SVM) чувствительны к масштабу признаков.\n",
        "- **Методы нормализации:**\n",
        "  - **MinMaxScaler:** Приводит к диапазону [0, 1].\n",
        "  - **StandardScaler:** Приводит к среднему 0 и дисперсии 1.\n",
        "- **Пример:**\n",
        "  ```python\n",
        "  from sklearn.preprocessing import StandardScaler\n",
        "  scaler = StandardScaler()\n",
        "  X_train_scaled = scaler.fit_transform(X_train)\n",
        "  X_test_scaled = scaler.transform(X_test)\n",
        "  ```"
      ]
    },
    {
      "cell_type": "markdown",
      "metadata": {},
      "source": [
        "## 📉 Как работает SVM?\n",
        "- **SVM (Support Vector Machine)** — это алгоритм, который ищет гиперплоскость, максимально разделяющую классы.\n",
        "- **Hard Margin:** Идеальное разделение (но не подходит для реальных данных).\n",
        "- **Soft Margin:** Позволяет некоторым объектам быть внутри границы.\n",
        "- **Kernel Trick:** Позволяет работать с нелинейными границами (например, RBF).\n",
        "- **Плюсы:** Высокая точность на небольших наборах.\n",
        "- **Минусы:** Медленный на больших данных, чувствителен к параметрам."
      ]
    },
    {
      "cell_type": "code",
      "execution_count": null,
      "metadata": {},
      "outputs": [],
      "source": [
        "from sklearn.svm import SVC\n",
        "svm = SVC(kernel='rbf', C=10, gamma='scale')\n",
        "svm.fit(X_train[:5000], y_train[:5000])  # Используем часть данных для ускорения\n",
        "print(svm.score(X_test[:1000], y_test[:1000]))  # Точность на подвыборке"
      ]
    },
    {
      "cell_type": "markdown",
      "metadata": {},
      "source": [
        "## 🧲 Как работает kNN?\n",
        "- **kNN (k-ближайших соседей):**\n",
        "  1. Сохраняет всю обучающую выборку.\n",
        "  2. При предсказании находит `k` ближайших соседей.\n",
        "  3. Присваивает класс, который чаще всего встречается среди соседей.\n",
        "- **k=1:** Просто берет ближайший объект.\n",
        "- **k=5:** Усредняет результаты 5 ближайших объектов.\n",
        "- **Плюсы:** Простая реализация, работает без явного обучения.\n",
        "- **Минусы:** Медленно работает на больших данных, чувствителен к масштабу признаков."
      ]
    },
    {
      "cell_type": "code",
      "execution_count": null,
      "metadata": {},
      "outputs": [],
      "source": [
        "from sklearn.neighbors import KNeighborsClassifier\n",
        "from sklearn.metrics import accuracy_score\n",
        "\n",
        "# Обучение\n",
        "knn = KNeighborsClassifier(n_neighbors=5)\n",
        "knn.fit(X_train[:5000], y_train[:5000])\n",
        "\n",
        "# Оценка\n",
        "accuracy = accuracy_score(y_test[:1000], knn.predict(X_test[:1000]))\n",
        "print(f'Accuracy: {accuracy:.2f}')  # Пример: 0.95"
      ]
    },
    {
      "cell_type": "markdown",
      "metadata": {},
      "source": [
        "## 📊 Визуализация матрицы ошибок\n",
        "### 1. Confusion Matrix\n",
        "- **Что это?** Таблица, показывающая, сколько объектов какого класса предсказано как.\n",
        "- **Как читать?**\n",
        "  - Диагональ — правильные предсказания.\n",
        "  - Вне диагонали — ошибки.\n",
        "- **Пример:**"
      ]
    },
    {
      "cell_type": "code",
      "execution_count": null,
      "metadata": {},
      "outputs": [],
      "source": [
        "from sklearn.metrics import confusion_matrix\n",
        "import seaborn as sns\n",
        "\n",
        "cm = confusion_matrix(y_test, y_pred)\n",
        "sns.heatmap(cm, annot=True, fmt='d')\n",
        "plt.title('Confusion Matrix')\n",
        "plt.xlabel('Predicted')\n",
        "plt.ylabel('True')\n",
        "plt.show()"
      ]
    },
    {
      "cell_type": "markdown",
      "metadata": {},
      "source": [
        "## 📈 Как работает градиентный спуск в логистической регрессии\n",
        "- **Градиентный спуск:** Алгоритм минимизации функции потерь.\n",
        "- **Идея:** Двигайтесь в направлении убывания градиента.\n",
        "- **Формула обновления весов:**\n",
        "  ```python\n",
        "  weights -= learning_rate * gradient\n",
        "  ```\n",
        "- **learning_rate:** Шаг обучения. Слишком большой — модель не сходится, слишком маленький — медленно обучается.\n",
        "- **solver='lbfgs':** Используется оптимизация на основе алгоритма L-BFGS.\n",
        "- **max_iter=1000:** Количество итераций для сходимости."
      ]
    },
    {
      "cell_type": "code",
      "execution_count": null,
      "metadata": {},
      "outputs": [],
      "source": [
        "from sklearn.linear_model import LogisticRegression\n",
        "log_reg = LogisticRegression(max_iter=1000, solver='lbfgs')\n",
        "log_reg.fit(X_train, y_train)\n",
        "print(log_reg.score(X_test, y_test))  # Точность на тестовой выборке"
      ]
    },
    {
      "cell_type": "markdown",
      "metadata": {},
      "source": [
        "## 📉 Как работает кросс-валидация?\n",
        "- **Кросс-валидация (Cross-Validation):** Разделение данных на `k` частей для оценки модели.\n",
        "- **Зачем?** Чтобы проверить, как модель будет работать на разных подвыборках.\n",
        "- **Пример:**"
      ]
    },
    {
      "cell_type": "code",
      "execution_count": null,
      "metadata": {},
      "outputs": [],
      "source": [
        "from sklearn.model_selection import cross_val_score\n",
        "\n",
        "scores = cross_val_score(log_reg, X_train, y_train, cv=3, scoring='accuracy')\n",
        "print(scores)  # [0.91, 0.92, 0.93]\n",
        "print(f'Средняя точность: {scores.mean():.2f}')"
      ]
    },
    {
      "cell_type": "markdown",
      "metadata": {},
      "source": [
        "## 📊 Как выбрать лучшую модель?\n",
        "- **Точность (Accuracy):** Подходит для сбалансированных классов.\n",
        "- **F1-score:** Если важны и precision, и recall (например, редкие классы).\n",
        "- **ROC-AUC:** Для бинарной классификации.\n",
        "- **Скоринг в GridSearchCV:** Используйте параметр `scoring` для выбора метрики."
      ]
    },
    {
      "cell_type": "code",
      "execution_count": null,
      "metadata": {},
      "outputs": [],
      "source": [
        "grid = GridSearchCV(KNeighborsClassifier(), param_grid, cv=3, scoring='accuracy')"
      ]
    },
    {
      "cell_type": "markdown",
      "metadata": {},
      "source": [
        "## 🧪 Практика: Обучение и оценка\n",
        "### Шаг 1: Обучение логистической регрессии\n",
        "```python\n",
        "from sklearn.linear_model import LogisticRegression\n",
        "import numpy as np\n",
        "\n",
        "# Обучение\n",
        "log_reg = LogisticRegression(max_iter=1000, solver='lbfgs')\n",
        "log_reg.fit(X_train, y_train)\n",
        "\n",
        "# Предсказание\n",
        "y_pred = log_reg.predict(X_test)\n",
        "print(f'Accuracy: {accuracy_score(y_test, y_pred):.2f}')\n",
        "```"
      ]
    },
    {
      "cell_type": "markdown",
      "metadata": {},
      "source": [
        "### Шаг 2: Обучение SVM\n",
        "```python\n",
        "from sklearn.svm import SVC\n",
        "\n",
        "# Обучение\n",
        "svm_clf = SVC(kernel='linear')\n",
        "svm_clf.fit(X_train[:5000], y_train[:5000])  # Используем подвыборку для ускорения\n",
        "\n",
        "# Оценка\n",
        "svm_accuracy = accuracy_score(y_test[:1000], svm_clf.predict(X_test[:1000]))\n",
        "print(f'SVM Accuracy: {svm_accuracy:.2f}')\n",
        "```"
      ]
    },
    {
      "cell_type": "markdown",
      "metadata": {},
      "source": [
        "### Шаг 3: Обучение kNN\n",
        "```python\n",
        "from sklearn.neighbors import KNeighborsClassifier\n",
        "\n",
        "# Обучение\n",
        "knn_clf = KNeighborsClassifier(n_neighbors=3)\n",
        "knn_clf.fit(X_train[:5000], y_train[:5000])\n",
        "\n",
        "# Оценка\n",
        "knn_accuracy = accuracy_score(y_test[:1000], knn_clf.predict(X_test[:1000]))\n",
        "print(f'kNN Accuracy: {knn_accuracy:.2f}')\n",
        "```"
      ]
    },
    {
      "cell_type": "markdown",
      "metadata": {},
      "source": [
        "### Шаг 4: Сравнение моделей\n",
        "```python\n",
        "import matplotlib.pyplot as plt\n",
        "\n",
        "# График точности\n",
        "models = ['Logistic Regression', 'SVM', 'kNN']\n",
        "accuracies = [accuracy_score(y_test, y_pred), svm_accuracy, knn_accuracy]\n",
        "\n",
        "plt.bar(models, accuracies, color=['blue', 'green', 'orange'])\n",
        "plt.ylabel('Accuracy')\n",
        "plt.title('Model Comparison on MNIST')\n",
        "plt.ylim(0.9, 1.0)\n",
        "plt.show()\n",
        "```"
      ]
    },
    {
      "cell_type": "markdown",
      "metadata": {},
      "source": [
        "## 📝 Домашнее задание\n",
        "**Задача 1:** Обучите модель `KNeighborsClassifier` на MNIST и сравните её с логистической регрессией и SVM.\n",
        "**Задача 2:** Напишите короткий отчет (200–300 слов), где:\n",
        "- Опишите, как вы обучали модель.\n",
        "- Сравните точность разных моделей.\n",
        "- Объясните, почему одни модели работают лучше других.\n",
        "- Приведите примеры ошибочных предсказаний.\n",
        "- Объясните, как можно улучшить модель (например, через нормализацию, подбор гиперпараметров).\n",
        "- Нарисуйте графики точности для разных значений `n_neighbors`.\n",
        "- Визуализируйте confusion matrix для `kNN`."
      ]
    },
    {
      "cell_type": "markdown",
      "metadata": {},
      "source": [
        "## ✅ Рекомендации по выполнению домашнего задания\n",
        "- **Задача 1:** Убедитесь, что вы используете правильный диапазон `n_neighbors` (например, от 1 до 10).\n",
        "- **Задача 2:** Попробуйте разные значения `n_neighbors` и посмотрите, как меняется точность.\n",
        "- **Визуализация:** Используйте `sns.heatmap` для матрицы ошибок.\n",
        "- **Подсказка:** Чем больше `n_neighbors`, тем меньше шума, но выше вычислительная сложность."
      ]
    }
  ],
  "metadata": {
    "kernelspec": {
      "display_name": "Python 3",
      "language": "python",
      "name": "python3"
    },
    "language_info": {
      "codemirror_mode": {
        "name": "ipython",
        "version": 3
      },
      "file_extension": ".py",
      "mimetype": "text/x-python",
      "name": "python",
      "nbconvert_exporter": "python",
      "pygments_lexer": "ipython3",
      "version": "3.8.5"
    }
  },
  "nbformat": 4,
  "nbformat_minor": 4
}