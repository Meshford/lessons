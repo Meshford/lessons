{
  "cells": [
    {
      "cell_type": "markdown",
      "metadata": {},
      "source": [
        "# 🧠 Урок 20: Обучение первой нейросети на изображениях (CIFAR-10)\n",
        "**Цель урока:** Научиться загружать и готовить датасет CIFAR-10, строить и обучать сверточную нейросеть (CNN) с помощью Keras, понять этапы обработки изображений. Подходит для новичков.\n",
        "\n",
        "## 📌 Что такое CIFAR-10?\n",
        "- **CIFAR-10** — это набор данных с 60,000 цветными изображениями размером 32x32 пикселей.\n",
        "- **Классы:** 10 категорий: самолеты, автомобили, птицы, кошки, олени, собаки, лягушки, лошади, корабли, грузовики.\n",
        "- **Формат данных:** Каждое изображение представлено массивом 32x32x3 (RGB-каналы).\n",
        "- **Зачем?** CIFAR-10 — стандартный датасет для обучения компьютерному зрению [[2]](https://example.com ).\n",
        "\n",
        "💡 **Аналогия:** Представьте, что вы учитесь различать животных по картинкам. CIFAR-10 — это как учебник с заданиями по распознаванию 10 видов животных и транспорта."
      ]
    },
    {
      "cell_type": "code",
      "execution_count": null,
      "metadata": {},
      "outputs": [],
      "source": [
        "# Загрузка CIFAR-10\n",
        "from keras.datasets import cifar10\n",
        "import numpy as np\n",
        "\n",
        "# Загрузка данных\n",
        "(X_train, y_train), (X_test, y_test) = cifar10.load_data()\n",
        "\n",
        "# Нормализация пикселей к диапазону [0, 1]\n",
        "X_train = X_train.astype('float32') / 255.0\n",
        "X_test = X_test.astype('float32') / 255.0\n",
        "\n",
        "# One-hot кодирование меток\n",
        "from keras.utils import to_categorical\n",
        "y_train = to_categorical(y_train, 10)\n",
        "y_test = to_categorical(y_test, 10)"
      ]
    },
    {
      "cell_type": "markdown",
      "metadata": {},
      "source": [
        "## 🧱 Архитектура CNN: почему она работает\n",
        "- **Сверточные слои (Conv2D):** Ищут локальные признаки (например, края, углы).\n",
        "- **Пулинг (MaxPooling2D):** Уменьшает размерность, сохраняя важные признаки.\n",
        "- **Flatten:** Преобразует 2D/3D данные в 1D для полносвязных слоев.\n",
        "- **Dense:** Полносвязные слои для классификации.\n",
        "- **Dropout:** Уменьшает переобучение, случайно отключая нейроны.\n",
        "\n",
        "### Пример архитектуры:\n",
        "```python\n",
        "model = Sequential([\n",
        "    Conv2D(32, (3, 3), activation='relu', input_shape=(32, 32, 3)),\n",
        "    MaxPooling2D((2, 2)),\n",
        "    Conv2D(64, (3, 3), activation='relu'),\n",
        "    MaxPooling2D((2, 2)),\n",
        "    Conv2D(64, (3, 3), activation='relu'),\n",
        "    Flatten(),\n",
        "    Dense(64, activation='relu'),\n",
        "    Dropout(0.5),\n",
        "    Dense(10, activation='softmax')\n",
        "])\n",
        "```\n",
        "\n",
        "💡 **Аналогия:** CNN — как детектор признаков: первый слой находит края, второй — формы, третий — комбинации признаков."
      ]
    },
    {
      "cell_type": "markdown",
      "metadata": {},
      "source": [
        "## ⚙️ Гиперпараметры: как выбрать?\n",
        "- **Batch size:** Размер порции данных, обрабатываемых за один шаг.\n",
        "  - Маленький (32–64): быстрее, но дольше обучение.\n",
        "  - Большой (128–256): стабильнее, но требует больше памяти.\n",
        "- **Epochs:** Число проходов по данным.\n",
        "  - Слишком мало: недообучение.\n",
        "  - Слишком много: переобучение.\n",
        "- **Learning rate:** Шаг обучения.\n",
        "  - По умолчанию: 0.001 (Adam).\n",
        "  - Маленький: медленное обучение.\n",
        "  - Большой: модель не сходится.\n",
        "\n",
        "### Пример:\n",
        "```python\n",
        "model.compile(optimizer='adam', loss='categorical_crossentropy', metrics=['accuracy'])\n",
        "history = model.fit(X_train, y_train, epochs=10, batch_size=64, validation_data=(X_test, y_test))\n",
        "```\n",
        "\n",
        "💡 **Совет:** Используйте `validation_data`, чтобы отслеживать переобучение."
      ]
    },
    {
      "cell_type": "markdown",
      "metadata": {},
      "source": [
        "## 🧪 Практика: Обучение CNN на CIFAR-10\n",
        "### Шаг 1: Визуализация данных"
      ]
    },
    {
      "cell_type": "code",
      "execution_count": null,
      "metadata": {},
      "outputs": [],
      "source": [
        "import matplotlib.pyplot as plt\n",
        "\n",
        "# Показ изображения\n",
        "plt.imshow(X_train[0])\n",
        "plt.title(f'Метка: {np.argmax(y_train[0])}')\n",
        "plt.axis('off')\n",
        "plt.show()"
      ]
    },
    {
      "cell_type": "markdown",
      "metadata": {},
      "source": [
        "### Шаг 2: Создание модели"
      ]
    },
    {
      "cell_type": "code",
      "execution_count": null,
      "metadata": {},
      "outputs": [],
      "source": [
        "from keras.models import Sequential\n",
        "from keras.layers import Conv2D, MaxPooling2D, Flatten, Dense, Dropout\n",
        "\n",
        "# Архитектура CNN\n",
        "model = Sequential([\n",
        "    Conv2D(32, (3, 3), activation='relu', input_shape=(32, 32, 3)),\n",
        "    MaxPooling2D((2, 2)),\n",
        "    Conv2D(64, (3, 3), activation='relu'),\n",
        "    MaxPooling2D((2, 2)),\n",
        "    Conv2D(64, (3, 3), activation='relu'),\n",
        "    Flatten(),\n",
        "    Dense(64, activation='relu'),\n",
        "    Dropout(0.5),\n",
        "    Dense(10, activation='softmax')\n",
        "])"
      ]
    },
    {
      "cell_type": "markdown",
      "metadata": {},
      "source": [
        "### Шаг 3: Компиляция и обучение"
      ]
    },
    {
      "cell_type": "code",
      "execution_count": null,
      "metadata": {},
      "outputs": [],
      "source": [
        "# Компиляция\n",
        "model.compile(optimizer='adam',\n",
        "              loss='categorical_crossentropy',\n",
        "              metrics=['accuracy'])\n",
        "\n",
        "# Обучение\n",
        "history = model.fit(X_train, y_train, \n",
        "                  epochs=10,\n",
        "                  batch_size=64,\n",
        "                  validation_data=(X_test, y_test))"
      ]
    },
    {
      "cell_type": "markdown",
      "metadata": {},
      "source": [
        "### Шаг 4: Визуализация обучения"
      ]
    },
    {
      "cell_type": "code",
      "execution_count": null,
      "metadata": {},
      "outputs": [],
      "source": [
        "import matplotlib.pyplot as plt\n",
        "\n",
        "# График точности\n",
        "plt.plot(history.history['accuracy'], label='Train Accuracy')\n",
        "plt.plot(history.history['val_accuracy'], label='Test Accuracy')\n",
        "plt.legend()\n",
        "plt.title('Accuracy по эпохам')\n",
        "plt.xlabel('Эпохи')\n",
        "plt.ylabel('Accuracy')\n",
        "plt.grid(True)\n",
        "plt.show()\n",
        "\n",
        "# График потерь\n",
        "plt.plot(history.history['loss'], label='Train Loss')\n",
        "plt.plot(history.history['val_loss'], label='Test Loss')\n",
        "plt.legend()\n",
        "plt.title('Loss по эпохам')\n",
        "plt.xlabel('Эпохи')\n",
        "plt.ylabel('Loss')\n",
        "plt.grid(True)\n",
        "plt.show()"
      ]
    },
    {
      "cell_type": "markdown",
      "metadata": {},
      "source": [
        "## 📦 Сохранение и загрузка модели\n",
        "- **Сохранение:**\n",
        "  ```python\n",
        "  model.save('cifar10_cnn.h5')\n",
        "  ```\n",
        "- **Загрузка:**\n",
        "  ```python\n",
        "  from keras.models import load_model\n",
        "  loaded_model = load_model('cifar10_cnn.h5')\n",
        "  ```\n",
        "- **Зачем?** Чтобы не обучать модель заново, а использовать сохраненную для предсказаний или дообучения."
      ]
    },
    {
      "cell_type": "markdown",
      "metadata": {},
      "source": [
        "## 📝 Домашнее задание\n",
        "### Задача 1: Измените архитектуру сети\n",
        "Добавьте ещё один `Conv2D(128, (3, 3))` и `MaxPooling2D`."
      ]
    },
    {
      "cell_type": "code",
      "execution_count": null,
      "metadata": {},
      "outputs": [],
      "source": [
        "# Ваш код здесь\n",
        "from keras.models import Sequential\n",
        "from keras.layers import Conv2D, MaxPooling2D, Flatten, Dense, Dropout\n",
        "\n",
        "# Измененная архитектура\n",
        "modified_model = Sequential([\n",
        "    Conv2D(32, (3, 3), activation='relu', input_shape=(32, 32, 3)),\n",
        "    MaxPooling2D((2, 2)),\n",
        "    Conv2D(64, (3, 3), activation='relu'),\n",
        "    MaxPooling2D((2, 2)),\n",
        "    Conv2D(64, (3, 3), activation='relu'),\n",
        "    # Добавьте сюда новый слой\n",
        "    # Conv2D(128, (3, 3), activation='relu'),\n",
        "    # MaxPooling2D((2, 2)),\n",
        "    Flatten(),\n",
        "    Dense(64, activation='relu'),\n",
        "    Dropout(0.5),\n",
        "    Dense(10, activation='softmax')\n",
        "])"
      ]
    },
    {
      "cell_type": "markdown",
      "metadata": {},
      "source": [
        "### Задача 2: Добавьте аугментацию изображений\n",
        "Используйте `ImageDataGenerator` для поворотов, сдвигов и отражений."
      ]
    },
    {
      "cell_type": "code",
      "execution_count": null,
      "metadata": {},
      "outputs": [],
      "source": [
        "from keras.preprocessing.image import ImageDataGenerator\n",
        "\n",
        "# Аугментация\n",
        "datagen = ImageDataGenerator(\n",
        "    rotation_range=15,\n",
        "    width_shift_range=0.1,\n",
        "    height_shift_range=0.1,\n",
        "    horizontal_flip=True\n",
        ")\n",
        "datagen.fit(X_train)\n",
        "\n",
        "# Обучение с аугментацией\n",
        "history_aug = model.fit(datagen.flow(X_train, y_train, batch_size=64),\n",
        "                        epochs=10,\n",
        "                        validation_data=(X_test, y_test))"
      ]
    },
    {
      "cell_type": "markdown",
      "metadata": {},
      "source": [
        "## ✅ Рекомендации по выполнению\n",
        "- **Задача 1:** После добавления новых слоев сравните `loss` и `accuracy` до и после.\n",
        "- **Задача 2:** Проверьте, как аугментация влияет на `val_loss` и `val_accuracy`.\n",
        "- **Подсказка:** Используйте `model.summary()` для анализа архитектуры."
      ]
    }
  ],
  "metadata": {
    "kernelspec": {
      "display_name": "Python 3",
      "language": "python",
      "name": "python3"
    },
    "language_info": {
      "codemirror_mode": {
        "name": "ipython",
        "version": 3
      },
      "file_extension": ".py",
      "mimetype": "text/x-python",
      "name": "python",
      "nbconvert_exporter": "python",
      "pygments_lexer": "ipython3",
      "version": "3.8.5"
    }
  },
  "nbformat": 4,
  "nbformat_minor": 4
}
